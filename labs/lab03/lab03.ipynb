{
 "cells": [
  {
   "cell_type": "markdown",
   "metadata": {},
   "source": [
    "# Lab 3: Data Visualizations and Python Functions\n",
    "\n",
    "## Due Saturday, October 15th at 11:59 pm \n",
    "\n",
    "Welcome to Lab 3! This week, you'll practice some DataFrame methods (especially `groupby`), create data visualizations, and learn how to write your very own functions in Python. Creating functions may be new to you, but don't worry, this assignment will guide you through that process!\n",
    "\n",
    "The topics on this lab are covered in [BPD 11,12,14-17](https://notes.dsc10.com/02-data_sets/groupby.html) of the course notes.\n",
    "\n",
    "**Please do not use for-loops for any questions in this lab.** If you don't know what a for-loop is, don't worry -- we haven't covered them yet. But if you do know what they are and are wondering why it's not OK to use them, it is because loops in Python are slow, and looping over arrays and DataFrames should usually be avoided.\n",
    "\n",
    "First, set up the tests and imports by running the cell below."
   ]
  },
  {
   "cell_type": "code",
   "execution_count": 1,
   "metadata": {},
   "outputs": [
    {
     "data": {
      "text/html": [
       "\n",
       "<script type=\"text/javascript\" src=\"https://pandastutor.com/build/wsembed.bundle.2022-07-07-release.js\"></script>\n",
       "<script>\n",
       "console.log(\"initializing pandas_tutor js\")\n",
       "\n",
       "function drawWsv(viz_id, spec, options) {\n",
       "  if (typeof createWsvFromPandasTrace === 'undefined') {\n",
       "    setTimeout(() => drawWsv(viz_id, spec, options), 2000) // retry in 2 seconds\n",
       "    return\n",
       "  }\n",
       "  createWsvFromPandasTrace(viz_id, spec, options)\n",
       "}\n",
       "</script>\n"
      ],
      "text/plain": [
       "<IPython.core.display.HTML object>"
      ]
     },
     "metadata": {},
     "output_type": "display_data"
    }
   ],
   "source": [
    "import numpy as np\n",
    "import babypandas as bpd\n",
    "\n",
    "# These lines set up graphing capabilities.\n",
    "import matplotlib\n",
    "import matplotlib.pyplot as plt\n",
    "plt.style.use('ggplot')\n",
    "\n",
    "import otter\n",
    "grader = otter.Notebook()\n",
    "\n",
    "%reload_ext pandas_tutor"
   ]
  },
  {
   "cell_type": "markdown",
   "metadata": {},
   "source": [
    "## 1. Google Play Store Apps 📲"
   ]
  },
  {
   "cell_type": "markdown",
   "metadata": {},
   "source": [
    "In this problem, we will practice DataFrame manipulations and data visualizations, while exploring the [Google Play Store Apps Dataset](https://www.kaggle.com/lava18/google-play-store-apps), scraped from the Google Play Store."
   ]
  },
  {
   "cell_type": "code",
   "execution_count": 2,
   "metadata": {},
   "outputs": [
    {
     "data": {
      "text/html": [
       "<div>\n",
       "<style scoped>\n",
       "    .dataframe tbody tr th:only-of-type {\n",
       "        vertical-align: middle;\n",
       "    }\n",
       "\n",
       "    .dataframe tbody tr th {\n",
       "        vertical-align: top;\n",
       "    }\n",
       "\n",
       "    .dataframe thead th {\n",
       "        text-align: right;\n",
       "    }\n",
       "</style>\n",
       "<table border=\"1\" class=\"dataframe\">\n",
       "  <thead>\n",
       "    <tr style=\"text-align: right;\">\n",
       "      <th></th>\n",
       "      <th>App</th>\n",
       "      <th>Category</th>\n",
       "      <th>Rating</th>\n",
       "      <th>Reviews</th>\n",
       "      <th>Size</th>\n",
       "      <th>Installs</th>\n",
       "      <th>Type</th>\n",
       "      <th>Price</th>\n",
       "      <th>Content Rating</th>\n",
       "      <th>Genres</th>\n",
       "    </tr>\n",
       "  </thead>\n",
       "  <tbody>\n",
       "    <tr>\n",
       "      <th>0</th>\n",
       "      <td>Photo Editor &amp; Candy Camera &amp; Grid &amp; ScrapBook</td>\n",
       "      <td>ART_AND_DESIGN</td>\n",
       "      <td>4.1</td>\n",
       "      <td>159</td>\n",
       "      <td>19M</td>\n",
       "      <td>10000.0</td>\n",
       "      <td>Free</td>\n",
       "      <td>0</td>\n",
       "      <td>Everyone</td>\n",
       "      <td>Art &amp; Design</td>\n",
       "    </tr>\n",
       "    <tr>\n",
       "      <th>1</th>\n",
       "      <td>Coloring book moana</td>\n",
       "      <td>ART_AND_DESIGN</td>\n",
       "      <td>3.9</td>\n",
       "      <td>967</td>\n",
       "      <td>14M</td>\n",
       "      <td>500000.0</td>\n",
       "      <td>Free</td>\n",
       "      <td>0</td>\n",
       "      <td>Everyone</td>\n",
       "      <td>Art &amp; Design;Pretend Play</td>\n",
       "    </tr>\n",
       "    <tr>\n",
       "      <th>2</th>\n",
       "      <td>U Launcher Lite – FREE Live Cool Themes, Hide ...</td>\n",
       "      <td>ART_AND_DESIGN</td>\n",
       "      <td>4.7</td>\n",
       "      <td>87510</td>\n",
       "      <td>8.7M</td>\n",
       "      <td>5000000.0</td>\n",
       "      <td>Free</td>\n",
       "      <td>0</td>\n",
       "      <td>Everyone</td>\n",
       "      <td>Art &amp; Design</td>\n",
       "    </tr>\n",
       "    <tr>\n",
       "      <th>3</th>\n",
       "      <td>Sketch - Draw &amp; Paint</td>\n",
       "      <td>ART_AND_DESIGN</td>\n",
       "      <td>4.5</td>\n",
       "      <td>215644</td>\n",
       "      <td>25M</td>\n",
       "      <td>50000000.0</td>\n",
       "      <td>Free</td>\n",
       "      <td>0</td>\n",
       "      <td>Teen</td>\n",
       "      <td>Art &amp; Design</td>\n",
       "    </tr>\n",
       "    <tr>\n",
       "      <th>4</th>\n",
       "      <td>Pixel Draw - Number Art Coloring Book</td>\n",
       "      <td>ART_AND_DESIGN</td>\n",
       "      <td>4.3</td>\n",
       "      <td>967</td>\n",
       "      <td>2.8M</td>\n",
       "      <td>100000.0</td>\n",
       "      <td>Free</td>\n",
       "      <td>0</td>\n",
       "      <td>Everyone</td>\n",
       "      <td>Art &amp; Design;Creativity</td>\n",
       "    </tr>\n",
       "    <tr>\n",
       "      <th>...</th>\n",
       "      <td>...</td>\n",
       "      <td>...</td>\n",
       "      <td>...</td>\n",
       "      <td>...</td>\n",
       "      <td>...</td>\n",
       "      <td>...</td>\n",
       "      <td>...</td>\n",
       "      <td>...</td>\n",
       "      <td>...</td>\n",
       "      <td>...</td>\n",
       "    </tr>\n",
       "    <tr>\n",
       "      <th>10820</th>\n",
       "      <td>Sya9a Maroc - FR</td>\n",
       "      <td>FAMILY</td>\n",
       "      <td>4.5</td>\n",
       "      <td>38</td>\n",
       "      <td>53M</td>\n",
       "      <td>5000.0</td>\n",
       "      <td>Free</td>\n",
       "      <td>0</td>\n",
       "      <td>Everyone</td>\n",
       "      <td>Education</td>\n",
       "    </tr>\n",
       "    <tr>\n",
       "      <th>10821</th>\n",
       "      <td>Fr. Mike Schmitz Audio Teachings</td>\n",
       "      <td>FAMILY</td>\n",
       "      <td>5.0</td>\n",
       "      <td>4</td>\n",
       "      <td>3.6M</td>\n",
       "      <td>100.0</td>\n",
       "      <td>Free</td>\n",
       "      <td>0</td>\n",
       "      <td>Everyone</td>\n",
       "      <td>Education</td>\n",
       "    </tr>\n",
       "    <tr>\n",
       "      <th>10822</th>\n",
       "      <td>Parkinson Exercices FR</td>\n",
       "      <td>MEDICAL</td>\n",
       "      <td>NaN</td>\n",
       "      <td>3</td>\n",
       "      <td>9.5M</td>\n",
       "      <td>1000.0</td>\n",
       "      <td>Free</td>\n",
       "      <td>0</td>\n",
       "      <td>Everyone</td>\n",
       "      <td>Medical</td>\n",
       "    </tr>\n",
       "    <tr>\n",
       "      <th>10823</th>\n",
       "      <td>The SCP Foundation DB fr nn5n</td>\n",
       "      <td>BOOKS_AND_REFERENCE</td>\n",
       "      <td>4.5</td>\n",
       "      <td>114</td>\n",
       "      <td>Varies with device</td>\n",
       "      <td>1000.0</td>\n",
       "      <td>Free</td>\n",
       "      <td>0</td>\n",
       "      <td>Mature 17+</td>\n",
       "      <td>Books &amp; Reference</td>\n",
       "    </tr>\n",
       "    <tr>\n",
       "      <th>10824</th>\n",
       "      <td>iHoroscope - 2018 Daily Horoscope &amp; Astrology</td>\n",
       "      <td>LIFESTYLE</td>\n",
       "      <td>4.5</td>\n",
       "      <td>398307</td>\n",
       "      <td>19M</td>\n",
       "      <td>10000000.0</td>\n",
       "      <td>Free</td>\n",
       "      <td>0</td>\n",
       "      <td>Everyone</td>\n",
       "      <td>Lifestyle</td>\n",
       "    </tr>\n",
       "  </tbody>\n",
       "</table>\n",
       "<p>10825 rows × 10 columns</p>\n",
       "</div>"
      ],
      "text/plain": [
       "                                                     App             Category  \\\n",
       "0         Photo Editor & Candy Camera & Grid & ScrapBook       ART_AND_DESIGN   \n",
       "1                                    Coloring book moana       ART_AND_DESIGN   \n",
       "2      U Launcher Lite – FREE Live Cool Themes, Hide ...       ART_AND_DESIGN   \n",
       "3                                  Sketch - Draw & Paint       ART_AND_DESIGN   \n",
       "4                  Pixel Draw - Number Art Coloring Book       ART_AND_DESIGN   \n",
       "...                                                  ...                  ...   \n",
       "10820                                   Sya9a Maroc - FR               FAMILY   \n",
       "10821                   Fr. Mike Schmitz Audio Teachings               FAMILY   \n",
       "10822                             Parkinson Exercices FR              MEDICAL   \n",
       "10823                      The SCP Foundation DB fr nn5n  BOOKS_AND_REFERENCE   \n",
       "10824      iHoroscope - 2018 Daily Horoscope & Astrology            LIFESTYLE   \n",
       "\n",
       "       Rating  Reviews                Size    Installs  Type Price  \\\n",
       "0         4.1      159                 19M     10000.0  Free     0   \n",
       "1         3.9      967                 14M    500000.0  Free     0   \n",
       "2         4.7    87510                8.7M   5000000.0  Free     0   \n",
       "3         4.5   215644                 25M  50000000.0  Free     0   \n",
       "4         4.3      967                2.8M    100000.0  Free     0   \n",
       "...       ...      ...                 ...         ...   ...   ...   \n",
       "10820     4.5       38                 53M      5000.0  Free     0   \n",
       "10821     5.0        4                3.6M       100.0  Free     0   \n",
       "10822     NaN        3                9.5M      1000.0  Free     0   \n",
       "10823     4.5      114  Varies with device      1000.0  Free     0   \n",
       "10824     4.5   398307                 19M  10000000.0  Free     0   \n",
       "\n",
       "      Content Rating                     Genres  \n",
       "0           Everyone               Art & Design  \n",
       "1           Everyone  Art & Design;Pretend Play  \n",
       "2           Everyone               Art & Design  \n",
       "3               Teen               Art & Design  \n",
       "4           Everyone    Art & Design;Creativity  \n",
       "...              ...                        ...  \n",
       "10820       Everyone                  Education  \n",
       "10821       Everyone                  Education  \n",
       "10822       Everyone                    Medical  \n",
       "10823     Mature 17+          Books & Reference  \n",
       "10824       Everyone                  Lifestyle  \n",
       "\n",
       "[10825 rows x 10 columns]"
      ]
     },
     "execution_count": 2,
     "metadata": {},
     "output_type": "execute_result"
    }
   ],
   "source": [
    "# Run this cell to load in the dataset\n",
    "apps = bpd.read_csv('data/googleplaystore.csv')\n",
    "apps"
   ]
  },
  {
   "cell_type": "markdown",
   "metadata": {},
   "source": [
    "Each row in the DataFrame corresponds to an app. Here are descriptions of some of the columns. \n",
    "- `'Category'`: Category the app belongs to\n",
    "- `'Rating'`: Overall user rating of the app out of 5 (at the time of data retrieval)\n",
    "- `'Reviews'`: Number of user reviews for the app (at the time of data retrieval)\n",
    "- `'Installs'`: Number of user downloads/installs for the app (at the time of data retrieval)\n",
    "- `'Content Rating'`: Intended audience of the app, such as \"Everyone\" or \"Teen\"\n",
    "\n",
    "⚠️ Note that `'Rating'` and `'Content Rating'` mean different things. Don't get them mixed up!"
   ]
  },
  {
   "cell_type": "markdown",
   "metadata": {},
   "source": [
    "Notice that we did not set the index of the DataFrame, even though it looks like the app name would be a good candidate. But the app names are not unique! We can verify this with the help of a `numpy` function called `np.unique`. This function takes in an array and outputs an array with all duplicates removed.\n",
    "\n",
    "We see above that the DataFrame has 10,825 rows. This means that there are 10,825 apps in the dataset. But let's calculate how many unique names there are:"
   ]
  },
  {
   "cell_type": "code",
   "execution_count": 3,
   "metadata": {},
   "outputs": [
    {
     "data": {
      "text/plain": [
       "9644"
      ]
     },
     "execution_count": 3,
     "metadata": {},
     "output_type": "execute_result"
    }
   ],
   "source": [
    "len(np.unique(apps.get('App')))"
   ]
  },
  {
   "cell_type": "markdown",
   "metadata": {},
   "source": [
    "Since 9644 < 10825, there must be duplicates!\n",
    "\n",
    "Because there are duplicates, the app name is not a good row label. In fact, there is no good row label in this case. In situations like this, we'll leave the index as-is."
   ]
  },
  {
   "cell_type": "markdown",
   "metadata": {
    "deletable": false,
    "editable": false
   },
   "source": [
    "**Question 1.1.** You might think that on a 1 to 5 scale, a typical middle-of-the-pack app should have a rating of about 3. \n",
    "Make a histogram of the \"Rating\" column to see if that's the case.\n",
    "\n",
    "<!--\n",
    "BEGIN QUESTION\n",
    "name: q1_1\n",
    "-->"
   ]
  },
  {
   "cell_type": "code",
   "execution_count": 4,
   "metadata": {
    "scrolled": true
   },
   "outputs": [
    {
     "data": {
      "image/png": "[encoded data removed]",
      "text/plain": [
       "<Figure size 432x288 with 1 Axes>"
      ]
     },
     "metadata": {},
     "output_type": "display_data"
    }
   ],
   "source": [
    "apps.plot(kind='hist', y='Rating', density=True, ec='w');"
   ]
  },
  {
   "cell_type": "markdown",
   "metadata": {},
   "source": [
    "There certainly seems to be a lot of excellent apps out there! It would be interesting to see whether the apps with higher ratings also have more reviews. \n",
    "\n",
    "**Question 1.2.** What type of plot would you want to create to help you determine whether higher-rated apps also have more reviews? Assign either 1, 2, 3, or 4 to the name `plot_type` below.\n",
    "\n",
    "1. scatter plot\n",
    "2. line graph\n",
    "3. bar graph\n",
    "4. histogram"
   ]
  },
  {
   "cell_type": "code",
   "execution_count": 5,
   "metadata": {},
   "outputs": [],
   "source": [
    "plot_type = 1"
   ]
  },
  {
   "cell_type": "code",
   "execution_count": 6,
   "metadata": {
    "deletable": false,
    "editable": false
   },
   "outputs": [
    {
     "data": {
      "text/html": [
       "<p><strong><pre style='display: inline;'>q1_2</pre></strong> passed!</p>"
      ],
      "text/plain": [
       "q1_2 results: All test cases passed!"
      ]
     },
     "execution_count": 6,
     "metadata": {},
     "output_type": "execute_result"
    }
   ],
   "source": [
    "grader.check(\"q1_2\")"
   ]
  },
  {
   "cell_type": "markdown",
   "metadata": {
    "deletable": false,
    "editable": false
   },
   "source": [
    "**Question 1.3.** Now create the plot you identified above to help you determine whether higher-rated apps also have more reviews.\n",
    "\n",
    "<!--\n",
    "BEGIN QUESTION\n",
    "name: q1_3\n",
    "-->"
   ]
  },
  {
   "cell_type": "code",
   "execution_count": 7,
   "metadata": {},
   "outputs": [
    {
     "data": {
      "image/png": "[encoded data removed]",
      "text/plain": [
       "<Figure size 432x288 with 1 Axes>"
      ]
     },
     "metadata": {},
     "output_type": "display_data"
    }
   ],
   "source": [
    "apps.plot(kind='scatter', x='Rating', y='Reviews');"
   ]
  },
  {
   "cell_type": "markdown",
   "metadata": {},
   "source": [
    "**Question 1.4.** Which of the following can we conclude, based on this data? Assign either 1, 2, 3, or 4 to the name `plot_conclusion` below.\n",
    "\n",
    "1. Apps with higher ratings become more popular, and since more people are using these apps, more reviews are given.\n",
    "2. Apps with more reviews become more popular, and since more people are using these apps, higher ratings are given.\n",
    "3. Both 1 and 2.\n",
    "4. Neither 1 nor 2."
   ]
  },
  {
   "cell_type": "code",
   "execution_count": 8,
   "metadata": {},
   "outputs": [],
   "source": [
    "plot_conclusion = 4"
   ]
  },
  {
   "cell_type": "code",
   "execution_count": 9,
   "metadata": {
    "deletable": false,
    "editable": false
   },
   "outputs": [
    {
     "data": {
      "text/html": [
       "<p><strong><pre style='display: inline;'>q1_4</pre></strong> passed!</p>"
      ],
      "text/plain": [
       "q1_4 results: All test cases passed!"
      ]
     },
     "execution_count": 9,
     "metadata": {},
     "output_type": "execute_result"
    }
   ],
   "source": [
    "grader.check(\"q1_4\")"
   ]
  },
  {
   "cell_type": "markdown",
   "metadata": {},
   "source": [
    "**Question 1.5.** Assign the name `by_content` to a DataFrame which counts the number of apps per Content Rating. List the Content Ratings alphabetically.\n",
    "\n",
    "*Hint*: To keep only certain columns in a DataFrame, call `get` with a `list` of column names you want to keep. "
   ]
  },
  {
   "cell_type": "code",
   "execution_count": 10,
   "metadata": {
    "scrolled": true
   },
   "outputs": [
    {
     "data": {
      "text/html": [
       "<div>\n",
       "<style scoped>\n",
       "    .dataframe tbody tr th:only-of-type {\n",
       "        vertical-align: middle;\n",
       "    }\n",
       "\n",
       "    .dataframe tbody tr th {\n",
       "        vertical-align: top;\n",
       "    }\n",
       "\n",
       "    .dataframe thead th {\n",
       "        text-align: right;\n",
       "    }\n",
       "</style>\n",
       "<table border=\"1\" class=\"dataframe\">\n",
       "  <thead>\n",
       "    <tr style=\"text-align: right;\">\n",
       "      <th></th>\n",
       "      <th>App</th>\n",
       "    </tr>\n",
       "    <tr>\n",
       "      <th>Content Rating</th>\n",
       "      <th></th>\n",
       "    </tr>\n",
       "  </thead>\n",
       "  <tbody>\n",
       "    <tr>\n",
       "      <th>Adults only 18+</th>\n",
       "      <td>3</td>\n",
       "    </tr>\n",
       "    <tr>\n",
       "      <th>Everyone</th>\n",
       "      <td>8702</td>\n",
       "    </tr>\n",
       "    <tr>\n",
       "      <th>Everyone 10+</th>\n",
       "      <td>413</td>\n",
       "    </tr>\n",
       "    <tr>\n",
       "      <th>Mature 17+</th>\n",
       "      <td>499</td>\n",
       "    </tr>\n",
       "    <tr>\n",
       "      <th>Teen</th>\n",
       "      <td>1206</td>\n",
       "    </tr>\n",
       "    <tr>\n",
       "      <th>Unrated</th>\n",
       "      <td>2</td>\n",
       "    </tr>\n",
       "  </tbody>\n",
       "</table>\n",
       "</div>"
      ],
      "text/plain": [
       "                  App\n",
       "Content Rating       \n",
       "Adults only 18+     3\n",
       "Everyone         8702\n",
       "Everyone 10+      413\n",
       "Mature 17+        499\n",
       "Teen             1206\n",
       "Unrated             2"
      ]
     },
     "execution_count": 10,
     "metadata": {},
     "output_type": "execute_result"
    }
   ],
   "source": [
    "by_content = apps.get(['App','Content Rating']).groupby('Content Rating').count()\n",
    "by_content"
   ]
  },
  {
   "cell_type": "code",
   "execution_count": 11,
   "metadata": {
    "deletable": false,
    "editable": false
   },
   "outputs": [
    {
     "data": {
      "text/html": [
       "<p><strong><pre style='display: inline;'>q1_5</pre></strong> passed!</p>"
      ],
      "text/plain": [
       "q1_5 results: All test cases passed!"
      ]
     },
     "execution_count": 11,
     "metadata": {},
     "output_type": "execute_result"
    }
   ],
   "source": [
    "grader.check(\"q1_5\")"
   ]
  },
  {
   "cell_type": "markdown",
   "metadata": {},
   "source": [
    "**Question 1.6.** Create a DataFrame called `install_stats` which has a single column, `'Installs'`, that contains the mean number of Installs for each type of Content Rating. It's okay if the answers display in scientific notation."
   ]
  },
  {
   "cell_type": "code",
   "execution_count": 12,
   "metadata": {},
   "outputs": [
    {
     "data": {
      "text/html": [
       "<div>\n",
       "<style scoped>\n",
       "    .dataframe tbody tr th:only-of-type {\n",
       "        vertical-align: middle;\n",
       "    }\n",
       "\n",
       "    .dataframe tbody tr th {\n",
       "        vertical-align: top;\n",
       "    }\n",
       "\n",
       "    .dataframe thead th {\n",
       "        text-align: right;\n",
       "    }\n",
       "</style>\n",
       "<table border=\"1\" class=\"dataframe\">\n",
       "  <thead>\n",
       "    <tr style=\"text-align: right;\">\n",
       "      <th></th>\n",
       "      <th>Installs</th>\n",
       "    </tr>\n",
       "    <tr>\n",
       "      <th>Content Rating</th>\n",
       "      <th></th>\n",
       "    </tr>\n",
       "  </thead>\n",
       "  <tbody>\n",
       "    <tr>\n",
       "      <th>Adults only 18+</th>\n",
       "      <td>6.666667e+05</td>\n",
       "    </tr>\n",
       "    <tr>\n",
       "      <th>Everyone</th>\n",
       "      <td>1.311844e+07</td>\n",
       "    </tr>\n",
       "    <tr>\n",
       "      <th>Everyone 10+</th>\n",
       "      <td>3.204330e+07</td>\n",
       "    </tr>\n",
       "    <tr>\n",
       "      <th>Mature 17+</th>\n",
       "      <td>1.107112e+07</td>\n",
       "    </tr>\n",
       "    <tr>\n",
       "      <th>Teen</th>\n",
       "      <td>2.878636e+07</td>\n",
       "    </tr>\n",
       "    <tr>\n",
       "      <th>Unrated</th>\n",
       "      <td>2.525000e+04</td>\n",
       "    </tr>\n",
       "  </tbody>\n",
       "</table>\n",
       "</div>"
      ],
      "text/plain": [
       "                     Installs\n",
       "Content Rating               \n",
       "Adults only 18+  6.666667e+05\n",
       "Everyone         1.311844e+07\n",
       "Everyone 10+     3.204330e+07\n",
       "Mature 17+       1.107112e+07\n",
       "Teen             2.878636e+07\n",
       "Unrated          2.525000e+04"
      ]
     },
     "execution_count": 12,
     "metadata": {},
     "output_type": "execute_result"
    }
   ],
   "source": [
    "install_stats = apps.get(['Content Rating', 'Installs']).groupby('Content Rating').mean()\n",
    "install_stats"
   ]
  },
  {
   "cell_type": "code",
   "execution_count": 13,
   "metadata": {
    "deletable": false,
    "editable": false
   },
   "outputs": [
    {
     "data": {
      "text/html": [
       "<p><strong><pre style='display: inline;'>q1_6</pre></strong> passed!</p>"
      ],
      "text/plain": [
       "q1_6 results: All test cases passed!"
      ]
     },
     "execution_count": 13,
     "metadata": {},
     "output_type": "execute_result"
    }
   ],
   "source": [
    "grader.check(\"q1_6\")"
   ]
  },
  {
   "cell_type": "markdown",
   "metadata": {},
   "source": [
    "**Question 1.7.** Create a DataFrame called `top_communication_apps_by_content_rating` that contains, for each unique Content Rating, the number of apps satisfying both of these conditions:\n",
    "- Category is `'COMMUNICATION'`. \n",
    "- Rating is between 4 and 5 (inclusive).\n",
    "\n",
    "The structure of `top_communication_apps_by_content_rating` should be as follows:\n",
    "- It should have just one column, `'Top_Comm_Apps'`.\n",
    "- It should be sorted by `'Top_Comm_Apps'` in decreasing order.\n",
    "\n",
    "*Hint:* You can do this however you'd like, but one way to proceed is to first create a single DataFrame that contains only the rows matching the specified conditions, and then create a second DataFrame that results from grouping the first DataFrame."
   ]
  },
  {
   "cell_type": "code",
   "execution_count": 14,
   "metadata": {},
   "outputs": [
    {
     "data": {
      "text/html": [
       "<div>\n",
       "<style scoped>\n",
       "    .dataframe tbody tr th:only-of-type {\n",
       "        vertical-align: middle;\n",
       "    }\n",
       "\n",
       "    .dataframe tbody tr th {\n",
       "        vertical-align: top;\n",
       "    }\n",
       "\n",
       "    .dataframe thead th {\n",
       "        text-align: right;\n",
       "    }\n",
       "</style>\n",
       "<table border=\"1\" class=\"dataframe\">\n",
       "  <thead>\n",
       "    <tr style=\"text-align: right;\">\n",
       "      <th></th>\n",
       "      <th>Top_Comm_Apps</th>\n",
       "    </tr>\n",
       "    <tr>\n",
       "      <th>Content Rating</th>\n",
       "      <th></th>\n",
       "    </tr>\n",
       "  </thead>\n",
       "  <tbody>\n",
       "    <tr>\n",
       "      <th>Everyone</th>\n",
       "      <td>238</td>\n",
       "    </tr>\n",
       "    <tr>\n",
       "      <th>Mature 17+</th>\n",
       "      <td>8</td>\n",
       "    </tr>\n",
       "    <tr>\n",
       "      <th>Teen</th>\n",
       "      <td>22</td>\n",
       "    </tr>\n",
       "  </tbody>\n",
       "</table>\n",
       "</div>"
      ],
      "text/plain": [
       "                Top_Comm_Apps\n",
       "Content Rating               \n",
       "Everyone                  238\n",
       "Mature 17+                  8\n",
       "Teen                       22"
      ]
     },
     "execution_count": 14,
     "metadata": {},
     "output_type": "execute_result"
    }
   ],
   "source": [
    "comm_apps = apps[apps.get('Category') == 'COMMUNICATION']\n",
    "high_rated_comm_apps = comm_apps[comm_apps.get('Rating') >= 4].sort_values('Rating', ascending=False).groupby('Content Rating').count()\n",
    "top_communication_apps_by_content_rating = bpd.DataFrame().assign(Top_Comm_Apps = high_rated_comm_apps.get('App'))\n",
    "top_communication_apps_by_content_rating"
   ]
  },
  {
   "cell_type": "code",
   "execution_count": 15,
   "metadata": {
    "deletable": false,
    "editable": false
   },
   "outputs": [
    {
     "data": {
      "text/html": [
       "<p><strong><pre style='display: inline;'>q1_7</pre></strong> passed!</p>"
      ],
      "text/plain": [
       "q1_7 results: All test cases passed!"
      ]
     },
     "execution_count": 15,
     "metadata": {},
     "output_type": "execute_result"
    }
   ],
   "source": [
    "grader.check(\"q1_7\")"
   ]
  },
  {
   "cell_type": "markdown",
   "metadata": {},
   "source": [
    "**Question 1.8.** Suppose a good app is one with at least one million installs and a rating of at least 4.0. Create a variable called `best_category` containing the name of the category with the most good apps.\n",
    "\n",
    "_Note:_ Your answer should be generated using code – not by hard-coding a string! (In other words, don't write `best_category = \"DATING\"` if you think that's the best category)."
   ]
  },
  {
   "cell_type": "code",
   "execution_count": 16,
   "metadata": {},
   "outputs": [
    {
     "data": {
      "text/plain": [
       "'GAME'"
      ]
     },
     "execution_count": 16,
     "metadata": {},
     "output_type": "execute_result"
    }
   ],
   "source": [
    "best_category = apps[apps.get('Rating') >= 4.0]\n",
    "best_category = apps[apps.get('Installs') >= 1000000].groupby('Category').count().sort_values('App', ascending=False).index[0]\n",
    "best_category"
   ]
  },
  {
   "cell_type": "code",
   "execution_count": 17,
   "metadata": {
    "deletable": false,
    "editable": false
   },
   "outputs": [
    {
     "data": {
      "text/html": [
       "<p><strong><pre style='display: inline;'>q1_8</pre></strong> passed!</p>"
      ],
      "text/plain": [
       "q1_8 results: All test cases passed!"
      ]
     },
     "execution_count": 17,
     "metadata": {},
     "output_type": "execute_result"
    }
   ],
   "source": [
    "grader.check(\"q1_8\")"
   ]
  },
  {
   "cell_type": "markdown",
   "metadata": {},
   "source": [
    "**Question 1.9.** Make a bar chart of the average rating by category in which the bars are sorted from smallest to largest. Your result should look like this:\n",
    "\n",
    "<img src=\"data/avg_rating_sorted.png\"/>"
   ]
  },
  {
   "cell_type": "code",
   "execution_count": null,
   "metadata": {},
   "outputs": [],
   "source": []
  },
  {
   "cell_type": "code",
   "execution_count": 18,
   "metadata": {},
   "outputs": [
    {
     "data": {
      "image/png": "[encoded data removed]",
      "text/plain": [
       "<Figure size 432x288 with 1 Axes>"
      ]
     },
     "metadata": {},
     "output_type": "display_data"
    }
   ],
   "source": [
    "# YOUR CODE HERE\n",
    "avg_category = apps.groupby('Category').mean().sort_values('Rating')\n",
    "avg_category.plot(kind='bar', y='Rating');"
   ]
  },
  {
   "cell_type": "markdown",
   "metadata": {},
   "source": [
    "## 2. Incomes of CEOs 💼\n",
    "\n",
    "For the rest of this lab, we'll look at the 2015 compensation of Chief Executive Officers (CEOs) at the 100 largest companies in California.  The data were compiled for a Los Angeles Times analysis [here](http://spreadsheets.latimes.com/california-ceo-compensation/), and ultimately came from [filings](https://www.sec.gov/answers/proxyhtf.htm) mandated by the US Securities and Exchange Commission from all publicly-traded companies.  Two of the companies in our dataset have two CEOs, so there are 102 CEOs in the dataset.\n",
    "\n",
    "We've copied the data from the LA Times page into a file called `raw_compensation.csv`.  The page notes that all dollar amounts are in millions of dollars."
   ]
  },
  {
   "cell_type": "code",
   "execution_count": 19,
   "metadata": {},
   "outputs": [
    {
     "data": {
      "text/html": [
       "<div>\n",
       "<style scoped>\n",
       "    .dataframe tbody tr th:only-of-type {\n",
       "        vertical-align: middle;\n",
       "    }\n",
       "\n",
       "    .dataframe tbody tr th {\n",
       "        vertical-align: top;\n",
       "    }\n",
       "\n",
       "    .dataframe thead th {\n",
       "        text-align: right;\n",
       "    }\n",
       "</style>\n",
       "<table border=\"1\" class=\"dataframe\">\n",
       "  <thead>\n",
       "    <tr style=\"text-align: right;\">\n",
       "      <th></th>\n",
       "      <th>Name</th>\n",
       "      <th>Company (Headquarters)</th>\n",
       "      <th>Total Pay</th>\n",
       "      <th>% Change</th>\n",
       "      <th>Cash Pay</th>\n",
       "      <th>Equity Pay</th>\n",
       "      <th>Other Pay</th>\n",
       "      <th>Ratio of CEO pay to average industry worker pay</th>\n",
       "    </tr>\n",
       "    <tr>\n",
       "      <th>Rank</th>\n",
       "      <th></th>\n",
       "      <th></th>\n",
       "      <th></th>\n",
       "      <th></th>\n",
       "      <th></th>\n",
       "      <th></th>\n",
       "      <th></th>\n",
       "      <th></th>\n",
       "    </tr>\n",
       "  </thead>\n",
       "  <tbody>\n",
       "    <tr>\n",
       "      <th>1</th>\n",
       "      <td>Mark V. Hurd*</td>\n",
       "      <td>Oracle (Redwood City)</td>\n",
       "      <td>$53.25</td>\n",
       "      <td>(No previous year)</td>\n",
       "      <td>$0.95</td>\n",
       "      <td>$52.27</td>\n",
       "      <td>$0.02</td>\n",
       "      <td>362.00000</td>\n",
       "    </tr>\n",
       "    <tr>\n",
       "      <th>2</th>\n",
       "      <td>Safra A. Catz*</td>\n",
       "      <td>Oracle (Redwood City)</td>\n",
       "      <td>$53.24</td>\n",
       "      <td>(No previous year)</td>\n",
       "      <td>$0.95</td>\n",
       "      <td>$52.27</td>\n",
       "      <td>$0.02</td>\n",
       "      <td>362.00000</td>\n",
       "    </tr>\n",
       "    <tr>\n",
       "      <th>3</th>\n",
       "      <td>Robert A. Iger</td>\n",
       "      <td>Walt Disney (Burbank)</td>\n",
       "      <td>$44.91</td>\n",
       "      <td>-3%</td>\n",
       "      <td>$24.89</td>\n",
       "      <td>$17.28</td>\n",
       "      <td>$2.74</td>\n",
       "      <td>477.00000</td>\n",
       "    </tr>\n",
       "    <tr>\n",
       "      <th>4</th>\n",
       "      <td>Marissa A. Mayer</td>\n",
       "      <td>Yahoo! (Sunnyvale)</td>\n",
       "      <td>$35.98</td>\n",
       "      <td>-15%</td>\n",
       "      <td>$1.00</td>\n",
       "      <td>$34.43</td>\n",
       "      <td>$0.55</td>\n",
       "      <td>342.00000</td>\n",
       "    </tr>\n",
       "    <tr>\n",
       "      <th>5</th>\n",
       "      <td>Marc Benioff</td>\n",
       "      <td>salesforce.com (San Francisco)</td>\n",
       "      <td>$33.36</td>\n",
       "      <td>-16%</td>\n",
       "      <td>$4.65</td>\n",
       "      <td>$27.26</td>\n",
       "      <td>$1.45</td>\n",
       "      <td>338.00000</td>\n",
       "    </tr>\n",
       "    <tr>\n",
       "      <th>...</th>\n",
       "      <td>...</td>\n",
       "      <td>...</td>\n",
       "      <td>...</td>\n",
       "      <td>...</td>\n",
       "      <td>...</td>\n",
       "      <td>...</td>\n",
       "      <td>...</td>\n",
       "      <td>...</td>\n",
       "    </tr>\n",
       "    <tr>\n",
       "      <th>98</th>\n",
       "      <td>Gregory N. Roberts</td>\n",
       "      <td>A-Mark Precious Metals (Santa Monica)</td>\n",
       "      <td>$0.94</td>\n",
       "      <td>-11%</td>\n",
       "      <td>$0.93</td>\n",
       "      <td>$0.00</td>\n",
       "      <td>$0.02</td>\n",
       "      <td>17.00000</td>\n",
       "    </tr>\n",
       "    <tr>\n",
       "      <th>99</th>\n",
       "      <td>Jose L. Laparte</td>\n",
       "      <td>PriceSmart (San Diego)</td>\n",
       "      <td>$0.81</td>\n",
       "      <td>-7%</td>\n",
       "      <td>$0.71</td>\n",
       "      <td>$0.00</td>\n",
       "      <td>$0.10</td>\n",
       "      <td>32.00000</td>\n",
       "    </tr>\n",
       "    <tr>\n",
       "      <th>100</th>\n",
       "      <td>Jack Dorsey</td>\n",
       "      <td>Twitter (San Francisco)</td>\n",
       "      <td>$0.07</td>\n",
       "      <td>(No previous year)</td>\n",
       "      <td>$0.00</td>\n",
       "      <td>$0.00</td>\n",
       "      <td>$0.07</td>\n",
       "      <td>0.63000</td>\n",
       "    </tr>\n",
       "    <tr>\n",
       "      <th>101</th>\n",
       "      <td>Elon R. Musk</td>\n",
       "      <td>Tesla Motors (Palo Alto)</td>\n",
       "      <td>$0.04</td>\n",
       "      <td>6%</td>\n",
       "      <td>$0.04</td>\n",
       "      <td>$0.00</td>\n",
       "      <td>$0.00</td>\n",
       "      <td>0.46000</td>\n",
       "    </tr>\n",
       "    <tr>\n",
       "      <th>102</th>\n",
       "      <td>Lawrence Page***</td>\n",
       "      <td>Alphabet (Mountain View)</td>\n",
       "      <td>$0.00</td>\n",
       "      <td>0%</td>\n",
       "      <td>$0.00</td>\n",
       "      <td>$0.00</td>\n",
       "      <td>$0.00</td>\n",
       "      <td>0.00001</td>\n",
       "    </tr>\n",
       "  </tbody>\n",
       "</table>\n",
       "<p>102 rows × 8 columns</p>\n",
       "</div>"
      ],
      "text/plain": [
       "                    Name                 Company (Headquarters) Total Pay  \\\n",
       "Rank                                                                        \n",
       "1          Mark V. Hurd*                  Oracle (Redwood City)   $53.25    \n",
       "2         Safra A. Catz*                  Oracle (Redwood City)   $53.24    \n",
       "3         Robert A. Iger                  Walt Disney (Burbank)   $44.91    \n",
       "4       Marissa A. Mayer                     Yahoo! (Sunnyvale)   $35.98    \n",
       "5           Marc Benioff         salesforce.com (San Francisco)   $33.36    \n",
       "...                  ...                                    ...       ...   \n",
       "98    Gregory N. Roberts  A-Mark Precious Metals (Santa Monica)    $0.94    \n",
       "99       Jose L. Laparte                 PriceSmart (San Diego)    $0.81    \n",
       "100          Jack Dorsey                Twitter (San Francisco)    $0.07    \n",
       "101         Elon R. Musk               Tesla Motors (Palo Alto)    $0.04    \n",
       "102     Lawrence Page***               Alphabet (Mountain View)    $0.00    \n",
       "\n",
       "                % Change Cash Pay Equity Pay Other Pay  \\\n",
       "Rank                                                     \n",
       "1     (No previous year)   $0.95     $52.27     $0.02    \n",
       "2     (No previous year)   $0.95     $52.27     $0.02    \n",
       "3                    -3%  $24.89     $17.28     $2.74    \n",
       "4                   -15%   $1.00     $34.43     $0.55    \n",
       "5                   -16%   $4.65     $27.26     $1.45    \n",
       "...                  ...      ...        ...       ...   \n",
       "98                  -11%   $0.93      $0.00     $0.02    \n",
       "99                   -7%   $0.71      $0.00     $0.10    \n",
       "100   (No previous year)   $0.00      $0.00     $0.07    \n",
       "101                   6%   $0.04      $0.00     $0.00    \n",
       "102                   0%   $0.00      $0.00     $0.00    \n",
       "\n",
       "      Ratio of CEO pay to average industry worker pay  \n",
       "Rank                                                   \n",
       "1                                           362.00000  \n",
       "2                                           362.00000  \n",
       "3                                           477.00000  \n",
       "4                                           342.00000  \n",
       "5                                           338.00000  \n",
       "...                                               ...  \n",
       "98                                           17.00000  \n",
       "99                                           32.00000  \n",
       "100                                           0.63000  \n",
       "101                                           0.46000  \n",
       "102                                           0.00001  \n",
       "\n",
       "[102 rows x 8 columns]"
      ]
     },
     "execution_count": 19,
     "metadata": {},
     "output_type": "execute_result"
    }
   ],
   "source": [
    "raw_compensation = bpd.read_csv('data/raw_compensation.csv').set_index('Rank')\n",
    "raw_compensation"
   ]
  },
  {
   "cell_type": "markdown",
   "metadata": {},
   "source": [
    "We want to compute the average of the CEOs' pay. Try running the cell below. When you're done, make sure to comment it out."
   ]
  },
  {
   "cell_type": "code",
   "execution_count": 20,
   "metadata": {
    "tags": [
     "raises-exception"
    ]
   },
   "outputs": [],
   "source": [
    "# after running this cell to see the error, please prevent it from running again\n",
    "# by placing a '#' in front of the line of code to \"comment it out\".\n",
    "\n",
    "#raw_compensation.get(\"Total Pay\").mean()"
   ]
  },
  {
   "cell_type": "markdown",
   "metadata": {},
   "source": [
    "You should see an error. Let's examine why this error occured by looking at the values in the `'Total Pay'` column. \n",
    "\n",
    "**Question 2.1.** Use the `type` function to set `total_pay_type` to the type of the first item from the `'Total Pay'` column."
   ]
  },
  {
   "cell_type": "code",
   "execution_count": 21,
   "metadata": {},
   "outputs": [
    {
     "data": {
      "text/plain": [
       "str"
      ]
     },
     "execution_count": 21,
     "metadata": {},
     "output_type": "execute_result"
    }
   ],
   "source": [
    "total_pay_type = type(raw_compensation.get('Total Pay').iloc[0])\n",
    "total_pay_type"
   ]
  },
  {
   "cell_type": "code",
   "execution_count": 22,
   "metadata": {
    "deletable": false,
    "editable": false
   },
   "outputs": [
    {
     "data": {
      "text/html": [
       "<p><strong><pre style='display: inline;'>q2_1</pre></strong> passed!</p>"
      ],
      "text/plain": [
       "q2_1 results: All test cases passed!"
      ]
     },
     "execution_count": 22,
     "metadata": {},
     "output_type": "execute_result"
    }
   ],
   "source": [
    "grader.check(\"q2_1\")"
   ]
  },
  {
   "cell_type": "markdown",
   "metadata": {},
   "source": [
    "**Question 2.2.** You should have found that the values in the `'Total Pay'` column are strings (text). It doesn't make sense to take the average of text values, so we need to convert them to numbers if we want to do this. Extract the first value in the `'Total Pay'` column.  It's the 2015 pay of Mark Hurd, one of the two CEOs of Oracle in 2015, in *millions* of dollars.  Call it `mark_hurd_pay_string`."
   ]
  },
  {
   "cell_type": "code",
   "execution_count": 23,
   "metadata": {},
   "outputs": [
    {
     "data": {
      "text/plain": [
       "'$53.25 '"
      ]
     },
     "execution_count": 23,
     "metadata": {},
     "output_type": "execute_result"
    }
   ],
   "source": [
    "mark_hurd_pay_string = raw_compensation.get('Total Pay').iloc[0]\n",
    "mark_hurd_pay_string"
   ]
  },
  {
   "cell_type": "code",
   "execution_count": 24,
   "metadata": {
    "deletable": false,
    "editable": false
   },
   "outputs": [
    {
     "data": {
      "text/html": [
       "<p><strong><pre style='display: inline;'>q2_2</pre></strong> passed!</p>"
      ],
      "text/plain": [
       "q2_2 results: All test cases passed!"
      ]
     },
     "execution_count": 24,
     "metadata": {},
     "output_type": "execute_result"
    }
   ],
   "source": [
    "grader.check(\"q2_2\")"
   ]
  },
  {
   "cell_type": "markdown",
   "metadata": {},
   "source": [
    "**Question 2.3.** Using code, convert `mark_hurd_pay_string` to a number of *dollars* and store the result in the variable `mark_hurd_pay`, which should be a float.  \n",
    "- The string method `strip` will be useful for removing the dollar sign; it removes a specified character from the start or end of a string.  For example, the value of `\"100%\".strip(\"%\")` is the string `\"100\"`.  \n",
    "- You'll also need the function `float`, which converts a string that looks like a number to an actual number.  \n",
    "- Last, remember that the answer should be in dollars, not millions of dollars."
   ]
  },
  {
   "cell_type": "code",
   "execution_count": 25,
   "metadata": {},
   "outputs": [
    {
     "data": {
      "text/plain": [
       "53250000.0"
      ]
     },
     "execution_count": 25,
     "metadata": {},
     "output_type": "execute_result"
    }
   ],
   "source": [
    "mark_hurd_pay = float(mark_hurd_pay_string.strip('$')) * 1000000\n",
    "mark_hurd_pay"
   ]
  },
  {
   "cell_type": "code",
   "execution_count": 26,
   "metadata": {
    "deletable": false,
    "editable": false
   },
   "outputs": [
    {
     "data": {
      "text/html": [
       "<p><strong><pre style='display: inline;'>q2_3</pre></strong> passed!</p>"
      ],
      "text/plain": [
       "q2_3 results: All test cases passed!"
      ]
     },
     "execution_count": 26,
     "metadata": {},
     "output_type": "execute_result"
    }
   ],
   "source": [
    "grader.check(\"q2_3\")"
   ]
  },
  {
   "cell_type": "markdown",
   "metadata": {},
   "source": [
    "To compute the average pay, we need to do this for every CEO.  But that looks like it would involve copying this code 102 times. No, thanks! 🙅\n",
    "\n",
    "This is where functions come in.  Suppose instead of `mark_hurd_pay_string`, we had a variable called `some_pay_string`, formatted in the same way as `mark_hurd_pay_string`, with a dollar sign followed by an amount. Now that we've done it for `mark_hurd_pay_string`, we could use essentially the same code on `some_pay_string` to extract the pay as a number of dollars. You'd just need to change `mark_hurd_pay_string` in your code to `some_pay_string`.\n",
    "\n",
    "**Question 2.4.** Inside the function below, type the word `return` (which should turn green), then copy the expression you used to compute `mark_hurd_pay`, but replace the specific `mark_hurd_pay_string` with the generic `some_pay_string`."
   ]
  },
  {
   "cell_type": "code",
   "execution_count": 27,
   "metadata": {
    "for_assignment_type": "student"
   },
   "outputs": [],
   "source": [
    "def convert_pay_string_to_number(some_pay_string):\n",
    "    \"\"\"Converts a pay string like '$100' (in millions) to a number of dollars.\"\"\"\n",
    "    # After the word return, put your code to convert some_pay_string to a number of dollars\n",
    "    return float(some_pay_string.strip('$')) * 1000000"
   ]
  },
  {
   "cell_type": "code",
   "execution_count": 28,
   "metadata": {
    "deletable": false,
    "editable": false
   },
   "outputs": [
    {
     "data": {
      "text/html": [
       "<p><strong><pre style='display: inline;'>q2_4</pre></strong> passed!</p>"
      ],
      "text/plain": [
       "q2_4 results: All test cases passed!"
      ]
     },
     "execution_count": 28,
     "metadata": {},
     "output_type": "execute_result"
    }
   ],
   "source": [
    "grader.check(\"q2_4\")"
   ]
  },
  {
   "cell_type": "markdown",
   "metadata": {},
   "source": [
    "Here, we've defined a new function, giving a name to the expression that converts `'Total Pay'` strings to numeric values. This function can convert any string with the right format (like \"$100\") to a number representing millions of dollars. Later in this lab we'll see the payoff: we can call (use) that function on every pay string in the dataset at once."
   ]
  },
  {
   "cell_type": "markdown",
   "metadata": {},
   "source": [
    "We can call our function just like we call the built-in functions we've seen. It takes one argument, a string, and it returns a number."
   ]
  },
  {
   "cell_type": "code",
   "execution_count": 29,
   "metadata": {},
   "outputs": [
    {
     "data": {
      "text/plain": [
       "42000000.0"
      ]
     },
     "execution_count": 29,
     "metadata": {},
     "output_type": "execute_result"
    }
   ],
   "source": [
    "convert_pay_string_to_number('$42')"
   ]
  },
  {
   "cell_type": "code",
   "execution_count": 30,
   "metadata": {},
   "outputs": [
    {
     "data": {
      "text/plain": [
       "53250000.0"
      ]
     },
     "execution_count": 30,
     "metadata": {},
     "output_type": "execute_result"
    }
   ],
   "source": [
    "convert_pay_string_to_number(mark_hurd_pay_string)"
   ]
  },
  {
   "cell_type": "code",
   "execution_count": 31,
   "metadata": {},
   "outputs": [
    {
     "data": {
      "text/plain": [
       "53240000.0"
      ]
     },
     "execution_count": 31,
     "metadata": {},
     "output_type": "execute_result"
    }
   ],
   "source": [
    "# We can also compute Safra Catz's pay in the same way:\n",
    "convert_pay_string_to_number(raw_compensation.get('Total Pay').iloc[1])"
   ]
  },
  {
   "cell_type": "markdown",
   "metadata": {},
   "source": [
    "What have we gained?  Well, without the function, we'd have to copy that `float(some_pay_string.strip(\"$\")) * 1000000` stuff **each time** we wanted to convert a pay string.  Now we just call a function whose name says exactly what it's doing.\n",
    "\n",
    "Soon, we'll see how to apply this function to every pay string in a single expression. First, let's learn some more functions."
   ]
  },
  {
   "cell_type": "markdown",
   "metadata": {},
   "source": [
    "## 3. Defining Functions ➗\n",
    "\n",
    "Let's write a very simple function that converts a proportion to a percentage by multiplying it by 100.  For example, the value of `to_percentage(0.5)` should be the number 50.  (No percent sign.)\n",
    "\n",
    "A function definition has a few parts.\n",
    "\n",
    "##### `def`\n",
    "It always starts with `def` (short for **def**ine):\n",
    "\n",
    "    def\n",
    "\n",
    "##### Name\n",
    "Next comes the name of the function.  Let's call our function `to_percentage`.\n",
    "    \n",
    "    def to_percentage\n",
    "\n",
    "##### Signature\n",
    "Next comes something called the *signature* of the function.  This tells Python how many *arguments* your function should have, and what names you'll use to refer to those arguments in the function's code.  `to_percentage` should take one argument, and we'll call that argument `proportion` since it should be a proportion.\n",
    "\n",
    "    def to_percentage(proportion)\n",
    "\n",
    "We put a colon after the signature to tell Python it's over.\n",
    "\n",
    "    def to_percentage(proportion):\n",
    "\n",
    "##### Documentation\n",
    "Functions can do complicated things, so **you should write an explanation of what your function does**.  For small functions, this is less important, but it's a good habit to learn from the start.  Conventionally, Python functions are documented by writing a triple-quoted string:\n",
    "\n",
    "    def to_percentage(proportion):\n",
    "        \"\"\"Converts a proportion to a percentage.\"\"\"\n",
    "    \n",
    "    \n",
    "##### Body\n",
    "Now we start writing code that runs when the function is called.  This is called the *body* of the function.  We can write anything we could write anywhere else.  First let's give a name to the number we multiply a proportion by to get a percentage.\n",
    "\n",
    "    def to_percentage(proportion):\n",
    "        \"\"\"Converts a proportion to a percentage.\"\"\"\n",
    "        factor = 100\n",
    "\n",
    "##### `return`\n",
    "The special instruction `return` in a function's body tells Python to make the value of the function call equal to whatever comes right after `return`. The return statement also *ends the function* and once it's called *no lines in the body after it are run*. So, we want the value of `to_percentage(0.5)` to be the proportion 0.5 times the factor 100, so we write:\n",
    "\n",
    "    def to_percentage(proportion):\n",
    "        \"\"\"Converts a proportion to a percentage.\"\"\"\n",
    "        factor = 100\n",
    "        return proportion * factor"
   ]
  },
  {
   "cell_type": "markdown",
   "metadata": {},
   "source": [
    "**Question 3.1.** Define the function `to_percentage` in the cell below.  Call your function to convert the proportion `0.2` to a percentage.  Name that percentage `twenty_percent`."
   ]
  },
  {
   "cell_type": "code",
   "execution_count": 32,
   "metadata": {
    "for_assignment_type": "student"
   },
   "outputs": [],
   "source": [
    "def to_percentage(proportion):\n",
    "    \"\"\" Converts a proportion to a percentage \"\"\"\n",
    "    return proportion * 100"
   ]
  },
  {
   "cell_type": "code",
   "execution_count": 33,
   "metadata": {
    "deletable": false,
    "editable": false
   },
   "outputs": [
    {
     "data": {
      "text/html": [
       "<p><strong><pre style='display: inline;'>q3_1_1</pre></strong> passed!</p>"
      ],
      "text/plain": [
       "q3_1_1 results: All test cases passed!"
      ]
     },
     "execution_count": 33,
     "metadata": {},
     "output_type": "execute_result"
    }
   ],
   "source": [
    "grader.check(\"q3_1_1\")"
   ]
  },
  {
   "cell_type": "code",
   "execution_count": 34,
   "metadata": {},
   "outputs": [
    {
     "data": {
      "text/plain": [
       "20.0"
      ]
     },
     "execution_count": 34,
     "metadata": {},
     "output_type": "execute_result"
    }
   ],
   "source": [
    "twenty_percent = to_percentage(0.20)\n",
    "twenty_percent"
   ]
  },
  {
   "cell_type": "code",
   "execution_count": 35,
   "metadata": {
    "deletable": false,
    "editable": false
   },
   "outputs": [
    {
     "data": {
      "text/html": [
       "<p><strong><pre style='display: inline;'>q3_1_2</pre></strong> passed!</p>"
      ],
      "text/plain": [
       "q3_1_2 results: All test cases passed!"
      ]
     },
     "execution_count": 35,
     "metadata": {},
     "output_type": "execute_result"
    }
   ],
   "source": [
    "grader.check(\"q3_1_2\")"
   ]
  },
  {
   "cell_type": "markdown",
   "metadata": {},
   "source": [
    "Like the built-in functions, you can variable names as arguments to your function.\n",
    "\n",
    "**Question 3.2.** Use `to_percentage` again to convert the proportion named `a_proportion` (defined below) to a percentage called `a_percentage`.\n",
    "\n",
    "*Note:* You don't need to define `to_percentage` again!  Just like other named things, functions stick around after you define them."
   ]
  },
  {
   "cell_type": "code",
   "execution_count": 36,
   "metadata": {},
   "outputs": [],
   "source": [
    "a_proportion = 2**(0.5) / 2"
   ]
  },
  {
   "cell_type": "code",
   "execution_count": 37,
   "metadata": {},
   "outputs": [
    {
     "data": {
      "text/plain": [
       "70.71067811865476"
      ]
     },
     "execution_count": 37,
     "metadata": {},
     "output_type": "execute_result"
    }
   ],
   "source": [
    "a_percentage = to_percentage(a_proportion)\n",
    "a_percentage"
   ]
  },
  {
   "cell_type": "code",
   "execution_count": 38,
   "metadata": {
    "deletable": false,
    "editable": false
   },
   "outputs": [
    {
     "data": {
      "text/html": [
       "<p><strong><pre style='display: inline;'>q3_2</pre></strong> passed!</p>"
      ],
      "text/plain": [
       "q3_2 results: All test cases passed!"
      ]
     },
     "execution_count": 38,
     "metadata": {},
     "output_type": "execute_result"
    }
   ],
   "source": [
    "grader.check(\"q3_2\")"
   ]
  },
  {
   "cell_type": "markdown",
   "metadata": {},
   "source": [
    "Here's an important fact about functions: the variable names assigned within a function's body are only accessible within that function's body. Once the function has returned, those names are gone. So even though you defined `factor = 100` inside `to_percentage` above and then called `to_percentage`, the variable name `factor` has no meaning outside the body of `to_percentage`.\n",
    "\n",
    "To show you what we mean, run the following cell. **It intentionally causes an error**. When you're done, comment it out."
   ]
  },
  {
   "cell_type": "code",
   "execution_count": 39,
   "metadata": {
    "tags": [
     "raises-exception"
    ]
   },
   "outputs": [],
   "source": [
    "# You should see an error when you run this.  (If you don't, you might\n",
    "# have defined factor somewhere above.) Comment this code out\n",
    "# after running it to prevent the error in the future.\n",
    "\n",
    "#factor"
   ]
  },
  {
   "cell_type": "markdown",
   "metadata": {},
   "source": [
    "If we wanted to, we could define a new variable with the name `factor` outside of the definition of `to_percentage`, and it could have any value we want."
   ]
  },
  {
   "cell_type": "markdown",
   "metadata": {},
   "source": [
    "As we've seen with the built-in functions, functions can also take strings (or arrays, or DataFrames) as arguments, and they can return those things, too.\n",
    "\n",
    "**Question 3.3.** Define a function called `disemvowel`.  It should take a single string as its argument.  (You can call that argument whatever you want.)  It should return a copy of that string, but with all the characters that are vowels removed. You can assume that `disemvowel` will only be called on lowercase strings, meaning that you only have to get rid of lowercase vowels\n",
    ". (In English, the vowels are the characters \"a\", \"e\", \"i\", \"o\", and \"u\". We won't count \"y\".)\n",
    "\n",
    "*Hint:* To remove all the \"a\"s from a string, you can use `that_string.replace(\"a\", \"\")`.  And you can call `replace` multiple times."
   ]
  },
  {
   "cell_type": "code",
   "execution_count": 40,
   "metadata": {},
   "outputs": [
    {
     "data": {
      "text/plain": [
       "'cn y rd ths wtht vwls?'"
      ]
     },
     "execution_count": 40,
     "metadata": {},
     "output_type": "execute_result"
    }
   ],
   "source": [
    "def disemvowel(a_string):\n",
    "    return a_string.replace('a', '').replace('e', '').replace('i', '').replace('o', '').replace('u', '')\n",
    "    \n",
    "# An example call to your function. (It's often helpful to run\n",
    "# an example call from time to time while you're writing a function,\n",
    "# to see how it currently works.)\n",
    "disemvowel(\"can you read this without vowels?\")"
   ]
  },
  {
   "cell_type": "code",
   "execution_count": 41,
   "metadata": {
    "deletable": false,
    "editable": false
   },
   "outputs": [
    {
     "data": {
      "text/html": [
       "<p><strong><pre style='display: inline;'>q3_3</pre></strong> passed!</p>"
      ],
      "text/plain": [
       "q3_3 results: All test cases passed!"
      ]
     },
     "execution_count": 41,
     "metadata": {},
     "output_type": "execute_result"
    }
   ],
   "source": [
    "grader.check(\"q3_3\")"
   ]
  },
  {
   "cell_type": "markdown",
   "metadata": {},
   "source": [
    "##### Calls on calls on calls\n",
    "Just as you write a series of lines to build up a complex computation, it's useful to define a series of small functions that build on each other.  Since you can write any code inside a function's body, you can call other functions you've written.\n",
    "\n",
    "If a function is a like a recipe, defining a function in terms of other functions is like having a recipe for cake 🍰 telling you to follow another recipe to make the frosting, and another to make the filling.  This makes the cake recipe shorter and clearer, and it avoids having a bunch of duplicated frosting recipes.  It's a foundation of productive programming.\n",
    "\n",
    "For example, suppose you want to count the number of characters *that aren't vowels* in a piece of text.  One way to do that is this to remove all the vowels and count the size of the remaining string.\n",
    "\n",
    "**Question 3.4.** Write a function called `num_non_vowels`.  It should take a string as its argument and return a number.  The number should be the number of characters in the argument string that aren't vowels. Again, you can assume that `num_non_vowels` will only be called on lowercase strings.\n",
    "\n",
    "*Hint:* The function `len` takes a string as its argument and returns the number of characters in it."
   ]
  },
  {
   "cell_type": "code",
   "execution_count": 42,
   "metadata": {},
   "outputs": [],
   "source": [
    "def num_non_vowels(a_string):\n",
    "    \"\"\"The number of characters in a string, not counting any vowels.\"\"\"\n",
    "    return len(disemvowel(a_string))"
   ]
  },
  {
   "cell_type": "code",
   "execution_count": 43,
   "metadata": {
    "deletable": false,
    "editable": false
   },
   "outputs": [
    {
     "data": {
      "text/html": [
       "<p><strong><pre style='display: inline;'>q3_4</pre></strong> passed!</p>"
      ],
      "text/plain": [
       "q3_4 results: All test cases passed!"
      ]
     },
     "execution_count": 43,
     "metadata": {},
     "output_type": "execute_result"
    }
   ],
   "source": [
    "grader.check(\"q3_4\")"
   ]
  },
  {
   "cell_type": "markdown",
   "metadata": {},
   "source": [
    "Functions can also encapsulate code that *does things* rather than just computing values.  For example, if you call `print` inside a function, and then call that function, something will get printed.\n",
    "\n",
    "The `movies_by_year` dataset in the course notes has information about movie sales in recent years.  Suppose you'd like to display the year with the 5th-highest total gross movie sales, printed in a human-readable way.  You might do this:"
   ]
  },
  {
   "cell_type": "code",
   "execution_count": 44,
   "metadata": {},
   "outputs": [
    {
     "name": "stdout",
     "output_type": "stream",
     "text": [
      "Year number 5 for total gross movie sales was 2010\n"
     ]
    }
   ],
   "source": [
    "movies_by_year = bpd.read_csv(\"data/movies_by_year.csv\").set_index('Year')\n",
    "rank = 5\n",
    "fifth_from_top_movie_year = movies_by_year.sort_values(by='Total Gross', ascending=False).index[rank-1]\n",
    "\n",
    "print(\"Year number\", rank, \"for total gross movie sales was\", fifth_from_top_movie_year)"
   ]
  },
  {
   "cell_type": "markdown",
   "metadata": {},
   "source": [
    "After writing this, you realize you also wanted to print out the 2nd and 3rd-highest years.  Instead of copying your code, you decide to put it in a function.  Since the rank varies, you make that an argument to your function.\n",
    "\n",
    "**Question 3.5.** Write a function called `print_kth_top_movie_year`.  It should take a single argument, the rank of the year (like 2, 3, or 5 in the above examples).  It should print out a message like the one above.  It shouldn't have a `return` statement, because we want the function to print, not return."
   ]
  },
  {
   "cell_type": "code",
   "execution_count": 45,
   "metadata": {
    "for_assignment_type": "student"
   },
   "outputs": [],
   "source": [
    "def print_kth_top_movie_year(k):\n",
    "    print(\"Year number\", k, \"for total gross move sales was\", movies_by_year.sort_values(by='Total Gross', ascending=False).index[k-1])"
   ]
  },
  {
   "cell_type": "code",
   "execution_count": 46,
   "metadata": {},
   "outputs": [
    {
     "name": "stdout",
     "output_type": "stream",
     "text": [
      "Year number 2 for total gross move sales was 2013\n",
      "Year number 3 for total gross move sales was 2012\n"
     ]
    }
   ],
   "source": [
    "# Example calls to your function:\n",
    "print_kth_top_movie_year(2)\n",
    "print_kth_top_movie_year(3)"
   ]
  },
  {
   "cell_type": "markdown",
   "metadata": {},
   "source": [
    "## 4. Applying Functions 🩹\n",
    "\n",
    "Defining a function is a lot like giving a name to a value with `=`.  In fact, a function is a value just like the number 1 or the string `\"hey\"`!\n",
    "\n",
    "For example, we can make a new name for the built-in function `max` if we want:"
   ]
  },
  {
   "cell_type": "code",
   "execution_count": 47,
   "metadata": {},
   "outputs": [
    {
     "data": {
      "text/plain": [
       "6"
      ]
     },
     "execution_count": 47,
     "metadata": {},
     "output_type": "execute_result"
    }
   ],
   "source": [
    "the_largest_of = max\n",
    "the_largest_of(2, 6)"
   ]
  },
  {
   "cell_type": "markdown",
   "metadata": {},
   "source": [
    "The old name for `max` is still around:"
   ]
  },
  {
   "cell_type": "code",
   "execution_count": 48,
   "metadata": {},
   "outputs": [
    {
     "data": {
      "text/plain": [
       "6"
      ]
     },
     "execution_count": 48,
     "metadata": {},
     "output_type": "execute_result"
    }
   ],
   "source": [
    "max(2, 6)"
   ]
  },
  {
   "cell_type": "markdown",
   "metadata": {},
   "source": [
    "Try just writing `max` or `the_largest_of` (or the name of any other function) in a cell, and run that cell.  Python will print out a (very brief) description of the function."
   ]
  },
  {
   "cell_type": "code",
   "execution_count": 49,
   "metadata": {},
   "outputs": [
    {
     "data": {
      "text/plain": [
       "<function max>"
      ]
     },
     "execution_count": 49,
     "metadata": {},
     "output_type": "execute_result"
    }
   ],
   "source": [
    "max"
   ]
  },
  {
   "cell_type": "markdown",
   "metadata": {},
   "source": [
    "Why is this useful?  Since functions are just values, it's possible to pass them as arguments to other functions.  Here's a simple but not-so-practical example: we can make an array of functions."
   ]
  },
  {
   "cell_type": "code",
   "execution_count": 50,
   "metadata": {},
   "outputs": [
    {
     "data": {
      "text/plain": [
       "array([<built-in function max>, <function average at 0x7f30c476f160>,\n",
       "       <class 'type'>], dtype=object)"
      ]
     },
     "execution_count": 50,
     "metadata": {},
     "output_type": "execute_result"
    }
   ],
   "source": [
    "np.array([max, np.average, type])"
   ]
  },
  {
   "cell_type": "markdown",
   "metadata": {},
   "source": [
    "**Question 4.1.** Make an array containing any 3 other functions you've seen.  Call it `some_functions`."
   ]
  },
  {
   "cell_type": "code",
   "execution_count": 51,
   "metadata": {},
   "outputs": [
    {
     "data": {
      "text/plain": [
       "array([<built-in function len>,\n",
       "       Type help() for interactive help, or help(object) for help about object.,\n",
       "       <class 'type'>], dtype=object)"
      ]
     },
     "execution_count": 51,
     "metadata": {},
     "output_type": "execute_result"
    }
   ],
   "source": [
    "some_functions = np.array([len, help, type])\n",
    "some_functions"
   ]
  },
  {
   "cell_type": "code",
   "execution_count": 52,
   "metadata": {
    "deletable": false,
    "editable": false
   },
   "outputs": [
    {
     "data": {
      "text/html": [
       "<p><strong><pre style='display: inline;'>q4_1</pre></strong> passed!</p>"
      ],
      "text/plain": [
       "q4_1 results: All test cases passed!"
      ]
     },
     "execution_count": 52,
     "metadata": {},
     "output_type": "execute_result"
    }
   ],
   "source": [
    "grader.check(\"q4_1\")"
   ]
  },
  {
   "cell_type": "markdown",
   "metadata": {},
   "source": [
    "Working with functions as values can lead to some funny-looking code.  For example, see if you can figure out why this works:"
   ]
  },
  {
   "cell_type": "code",
   "execution_count": 53,
   "metadata": {},
   "outputs": [
    {
     "data": {
      "text/plain": [
       "7"
      ]
     },
     "execution_count": 53,
     "metadata": {},
     "output_type": "execute_result"
    }
   ],
   "source": [
    "np.array([max, np.average, type])[0](4, -2, 7)"
   ]
  },
  {
   "cell_type": "markdown",
   "metadata": {},
   "source": [
    "Here's a simpler example that's actually useful: the Series method `apply`.\n",
    "`apply` calls a function many times, once on *each* element of a Series, which typically comes from a column of a DataFrame. It produces a Series of the results, which we may want to then add to a DataFrame.\n",
    "\n",
    "Here's an example. Remember that the `'Total Pay'` column of the `raw_compensation` DataFrame contained strings:"
   ]
  },
  {
   "cell_type": "code",
   "execution_count": 54,
   "metadata": {},
   "outputs": [
    {
     "data": {
      "text/plain": [
       "Rank\n",
       "1      $53.25 \n",
       "2      $53.24 \n",
       "3      $44.91 \n",
       "4      $35.98 \n",
       "5      $33.36 \n",
       "        ...   \n",
       "98      $0.94 \n",
       "99      $0.81 \n",
       "100     $0.07 \n",
       "101     $0.04 \n",
       "102     $0.00 \n",
       "Name: Total Pay, Length: 102, dtype: object"
      ]
     },
     "execution_count": 54,
     "metadata": {},
     "output_type": "execute_result"
    }
   ],
   "source": [
    "raw_compensation.get(\"Total Pay\")"
   ]
  },
  {
   "cell_type": "markdown",
   "metadata": {},
   "source": [
    "We wrote a function, `convert_pay_string_to_number`, that converts one of these strings to a number.\n",
    "Here we use `apply` to convert every CEO's pay to a number, using the function you defined:"
   ]
  },
  {
   "cell_type": "markdown",
   "metadata": {},
   "source": [
    "Here's an illustration of what that did:\n",
    "\n",
    "<img src=\"data/apply.png\" width=700/>\n",
    "\n",
    "Note that we didn't write something like `convert_pay_string_to_number()` or `convert_pay_string_to_number(\"Total Pay\")`.  The job of `apply` is to call the function we give it, so instead of calling `convert_pay_string_to_number` ourselves, we just write its name as an argument to `apply`.\n",
    "\n",
    "**Question 4.2.** Using `apply`, make a DataFrame that's a copy of `raw_compensation` with one more column called `'Total_Pay_Dollars'`.  It should be the result of applying `convert_pay_string_to_number` to the `'Total Pay'` column, as we did above.  Call the new DataFrame `compensation`."
   ]
  },
  {
   "cell_type": "code",
   "execution_count": 55,
   "metadata": {},
   "outputs": [
    {
     "data": {
      "text/html": [
       "<div>\n",
       "<style scoped>\n",
       "    .dataframe tbody tr th:only-of-type {\n",
       "        vertical-align: middle;\n",
       "    }\n",
       "\n",
       "    .dataframe tbody tr th {\n",
       "        vertical-align: top;\n",
       "    }\n",
       "\n",
       "    .dataframe thead th {\n",
       "        text-align: right;\n",
       "    }\n",
       "</style>\n",
       "<table border=\"1\" class=\"dataframe\">\n",
       "  <thead>\n",
       "    <tr style=\"text-align: right;\">\n",
       "      <th></th>\n",
       "      <th>Name</th>\n",
       "      <th>Company (Headquarters)</th>\n",
       "      <th>Total Pay</th>\n",
       "      <th>% Change</th>\n",
       "      <th>Cash Pay</th>\n",
       "      <th>Equity Pay</th>\n",
       "      <th>Other Pay</th>\n",
       "      <th>Ratio of CEO pay to average industry worker pay</th>\n",
       "      <th>Total_Pay_Dollars</th>\n",
       "    </tr>\n",
       "    <tr>\n",
       "      <th>Rank</th>\n",
       "      <th></th>\n",
       "      <th></th>\n",
       "      <th></th>\n",
       "      <th></th>\n",
       "      <th></th>\n",
       "      <th></th>\n",
       "      <th></th>\n",
       "      <th></th>\n",
       "      <th></th>\n",
       "    </tr>\n",
       "  </thead>\n",
       "  <tbody>\n",
       "    <tr>\n",
       "      <th>1</th>\n",
       "      <td>Mark V. Hurd*</td>\n",
       "      <td>Oracle (Redwood City)</td>\n",
       "      <td>$53.25</td>\n",
       "      <td>(No previous year)</td>\n",
       "      <td>$0.95</td>\n",
       "      <td>$52.27</td>\n",
       "      <td>$0.02</td>\n",
       "      <td>362.00000</td>\n",
       "      <td>53250000.0</td>\n",
       "    </tr>\n",
       "    <tr>\n",
       "      <th>2</th>\n",
       "      <td>Safra A. Catz*</td>\n",
       "      <td>Oracle (Redwood City)</td>\n",
       "      <td>$53.24</td>\n",
       "      <td>(No previous year)</td>\n",
       "      <td>$0.95</td>\n",
       "      <td>$52.27</td>\n",
       "      <td>$0.02</td>\n",
       "      <td>362.00000</td>\n",
       "      <td>53240000.0</td>\n",
       "    </tr>\n",
       "    <tr>\n",
       "      <th>3</th>\n",
       "      <td>Robert A. Iger</td>\n",
       "      <td>Walt Disney (Burbank)</td>\n",
       "      <td>$44.91</td>\n",
       "      <td>-3%</td>\n",
       "      <td>$24.89</td>\n",
       "      <td>$17.28</td>\n",
       "      <td>$2.74</td>\n",
       "      <td>477.00000</td>\n",
       "      <td>44910000.0</td>\n",
       "    </tr>\n",
       "    <tr>\n",
       "      <th>4</th>\n",
       "      <td>Marissa A. Mayer</td>\n",
       "      <td>Yahoo! (Sunnyvale)</td>\n",
       "      <td>$35.98</td>\n",
       "      <td>-15%</td>\n",
       "      <td>$1.00</td>\n",
       "      <td>$34.43</td>\n",
       "      <td>$0.55</td>\n",
       "      <td>342.00000</td>\n",
       "      <td>35980000.0</td>\n",
       "    </tr>\n",
       "    <tr>\n",
       "      <th>5</th>\n",
       "      <td>Marc Benioff</td>\n",
       "      <td>salesforce.com (San Francisco)</td>\n",
       "      <td>$33.36</td>\n",
       "      <td>-16%</td>\n",
       "      <td>$4.65</td>\n",
       "      <td>$27.26</td>\n",
       "      <td>$1.45</td>\n",
       "      <td>338.00000</td>\n",
       "      <td>33360000.0</td>\n",
       "    </tr>\n",
       "    <tr>\n",
       "      <th>...</th>\n",
       "      <td>...</td>\n",
       "      <td>...</td>\n",
       "      <td>...</td>\n",
       "      <td>...</td>\n",
       "      <td>...</td>\n",
       "      <td>...</td>\n",
       "      <td>...</td>\n",
       "      <td>...</td>\n",
       "      <td>...</td>\n",
       "    </tr>\n",
       "    <tr>\n",
       "      <th>98</th>\n",
       "      <td>Gregory N. Roberts</td>\n",
       "      <td>A-Mark Precious Metals (Santa Monica)</td>\n",
       "      <td>$0.94</td>\n",
       "      <td>-11%</td>\n",
       "      <td>$0.93</td>\n",
       "      <td>$0.00</td>\n",
       "      <td>$0.02</td>\n",
       "      <td>17.00000</td>\n",
       "      <td>940000.0</td>\n",
       "    </tr>\n",
       "    <tr>\n",
       "      <th>99</th>\n",
       "      <td>Jose L. Laparte</td>\n",
       "      <td>PriceSmart (San Diego)</td>\n",
       "      <td>$0.81</td>\n",
       "      <td>-7%</td>\n",
       "      <td>$0.71</td>\n",
       "      <td>$0.00</td>\n",
       "      <td>$0.10</td>\n",
       "      <td>32.00000</td>\n",
       "      <td>810000.0</td>\n",
       "    </tr>\n",
       "    <tr>\n",
       "      <th>100</th>\n",
       "      <td>Jack Dorsey</td>\n",
       "      <td>Twitter (San Francisco)</td>\n",
       "      <td>$0.07</td>\n",
       "      <td>(No previous year)</td>\n",
       "      <td>$0.00</td>\n",
       "      <td>$0.00</td>\n",
       "      <td>$0.07</td>\n",
       "      <td>0.63000</td>\n",
       "      <td>70000.0</td>\n",
       "    </tr>\n",
       "    <tr>\n",
       "      <th>101</th>\n",
       "      <td>Elon R. Musk</td>\n",
       "      <td>Tesla Motors (Palo Alto)</td>\n",
       "      <td>$0.04</td>\n",
       "      <td>6%</td>\n",
       "      <td>$0.04</td>\n",
       "      <td>$0.00</td>\n",
       "      <td>$0.00</td>\n",
       "      <td>0.46000</td>\n",
       "      <td>40000.0</td>\n",
       "    </tr>\n",
       "    <tr>\n",
       "      <th>102</th>\n",
       "      <td>Lawrence Page***</td>\n",
       "      <td>Alphabet (Mountain View)</td>\n",
       "      <td>$0.00</td>\n",
       "      <td>0%</td>\n",
       "      <td>$0.00</td>\n",
       "      <td>$0.00</td>\n",
       "      <td>$0.00</td>\n",
       "      <td>0.00001</td>\n",
       "      <td>0.0</td>\n",
       "    </tr>\n",
       "  </tbody>\n",
       "</table>\n",
       "<p>102 rows × 9 columns</p>\n",
       "</div>"
      ],
      "text/plain": [
       "                    Name                 Company (Headquarters) Total Pay  \\\n",
       "Rank                                                                        \n",
       "1          Mark V. Hurd*                  Oracle (Redwood City)   $53.25    \n",
       "2         Safra A. Catz*                  Oracle (Redwood City)   $53.24    \n",
       "3         Robert A. Iger                  Walt Disney (Burbank)   $44.91    \n",
       "4       Marissa A. Mayer                     Yahoo! (Sunnyvale)   $35.98    \n",
       "5           Marc Benioff         salesforce.com (San Francisco)   $33.36    \n",
       "...                  ...                                    ...       ...   \n",
       "98    Gregory N. Roberts  A-Mark Precious Metals (Santa Monica)    $0.94    \n",
       "99       Jose L. Laparte                 PriceSmart (San Diego)    $0.81    \n",
       "100          Jack Dorsey                Twitter (San Francisco)    $0.07    \n",
       "101         Elon R. Musk               Tesla Motors (Palo Alto)    $0.04    \n",
       "102     Lawrence Page***               Alphabet (Mountain View)    $0.00    \n",
       "\n",
       "                % Change Cash Pay Equity Pay Other Pay  \\\n",
       "Rank                                                     \n",
       "1     (No previous year)   $0.95     $52.27     $0.02    \n",
       "2     (No previous year)   $0.95     $52.27     $0.02    \n",
       "3                    -3%  $24.89     $17.28     $2.74    \n",
       "4                   -15%   $1.00     $34.43     $0.55    \n",
       "5                   -16%   $4.65     $27.26     $1.45    \n",
       "...                  ...      ...        ...       ...   \n",
       "98                  -11%   $0.93      $0.00     $0.02    \n",
       "99                   -7%   $0.71      $0.00     $0.10    \n",
       "100   (No previous year)   $0.00      $0.00     $0.07    \n",
       "101                   6%   $0.04      $0.00     $0.00    \n",
       "102                   0%   $0.00      $0.00     $0.00    \n",
       "\n",
       "      Ratio of CEO pay to average industry worker pay  Total_Pay_Dollars  \n",
       "Rank                                                                      \n",
       "1                                           362.00000         53250000.0  \n",
       "2                                           362.00000         53240000.0  \n",
       "3                                           477.00000         44910000.0  \n",
       "4                                           342.00000         35980000.0  \n",
       "5                                           338.00000         33360000.0  \n",
       "...                                               ...                ...  \n",
       "98                                           17.00000           940000.0  \n",
       "99                                           32.00000           810000.0  \n",
       "100                                           0.63000            70000.0  \n",
       "101                                           0.46000            40000.0  \n",
       "102                                           0.00001                0.0  \n",
       "\n",
       "[102 rows x 9 columns]"
      ]
     },
     "execution_count": 55,
     "metadata": {},
     "output_type": "execute_result"
    }
   ],
   "source": [
    "compensation = raw_compensation.assign(Total_Pay_Dollars = raw_compensation.get('Total Pay').apply(convert_pay_string_to_number))\n",
    "compensation"
   ]
  },
  {
   "cell_type": "code",
   "execution_count": 56,
   "metadata": {
    "deletable": false,
    "editable": false
   },
   "outputs": [
    {
     "data": {
      "text/html": [
       "<p><strong><pre style='display: inline;'>q4_2</pre></strong> passed!</p>"
      ],
      "text/plain": [
       "q4_2 results: All test cases passed!"
      ]
     },
     "execution_count": 56,
     "metadata": {},
     "output_type": "execute_result"
    }
   ],
   "source": [
    "grader.check(\"q4_2\")"
   ]
  },
  {
   "cell_type": "markdown",
   "metadata": {},
   "source": [
    "Now that we have the pay in numbers, we can perform arithmetic operations (and, as a result, compute numerical summaries) on the pay values.\n",
    "\n",
    "**Question 4.3.** Compute the average total pay of the CEOs in the dataset."
   ]
  },
  {
   "cell_type": "code",
   "execution_count": 57,
   "metadata": {},
   "outputs": [
    {
     "data": {
      "text/plain": [
       "11445294.11764706"
      ]
     },
     "execution_count": 57,
     "metadata": {},
     "output_type": "execute_result"
    }
   ],
   "source": [
    "average_total_pay = compensation.get('Total_Pay_Dollars').mean()\n",
    "average_total_pay"
   ]
  },
  {
   "cell_type": "code",
   "execution_count": 58,
   "metadata": {
    "deletable": false,
    "editable": false
   },
   "outputs": [
    {
     "data": {
      "text/html": [
       "<p><strong><pre style='display: inline;'>q4_3</pre></strong> passed!</p>"
      ],
      "text/plain": [
       "q4_3 results: All test cases passed!"
      ]
     },
     "execution_count": 58,
     "metadata": {},
     "output_type": "execute_result"
    }
   ],
   "source": [
    "grader.check(\"q4_3\")"
   ]
  },
  {
   "cell_type": "markdown",
   "metadata": {},
   "source": [
    "**Question 4.4.** Companies pay executives in a variety of ways: directly in cash; by granting stock or other \"equity\" in the company; or with ancillary benefits (like private jets ✈️).  Compute the proportion of each CEO's pay that was cash.  (Your answer should be a Series.)"
   ]
  },
  {
   "cell_type": "code",
   "execution_count": 59,
   "metadata": {
    "scrolled": true
   },
   "outputs": [
    {
     "data": {
      "text/plain": [
       "Rank\n",
       "1      0.017840\n",
       "2      0.017844\n",
       "3      0.554220\n",
       "4      0.027793\n",
       "5      0.139388\n",
       "         ...   \n",
       "98     0.989362\n",
       "99     0.876543\n",
       "100    0.000000\n",
       "101    1.000000\n",
       "102         NaN\n",
       "Length: 102, dtype: float64"
      ]
     },
     "execution_count": 59,
     "metadata": {},
     "output_type": "execute_result"
    }
   ],
   "source": [
    "cash_proportion = compensation.get('Cash Pay').apply(convert_pay_string_to_number) / compensation.get('Total_Pay_Dollars')\n",
    "cash_proportion"
   ]
  },
  {
   "cell_type": "code",
   "execution_count": 60,
   "metadata": {
    "deletable": false,
    "editable": false
   },
   "outputs": [
    {
     "data": {
      "text/html": [
       "<p><strong><pre style='display: inline;'>q4_4</pre></strong> passed!</p>"
      ],
      "text/plain": [
       "q4_4 results: All test cases passed!"
      ]
     },
     "execution_count": 60,
     "metadata": {},
     "output_type": "execute_result"
    }
   ],
   "source": [
    "grader.check(\"q4_4\")"
   ]
  },
  {
   "cell_type": "markdown",
   "metadata": {},
   "source": [
    "Look closely at the result. The last line has a strange-looking value, `NaN`. `NaN` stands for \"not a number\".\n",
    "\n",
    "<img width=500 src=\"data/nan.png\"/>"
   ]
  },
  {
   "cell_type": "markdown",
   "metadata": {},
   "source": [
    "Let's look at the last few lines of the DataFrame:"
   ]
  },
  {
   "cell_type": "code",
   "execution_count": 61,
   "metadata": {
    "scrolled": true
   },
   "outputs": [
    {
     "data": {
      "text/html": [
       "<div>\n",
       "<style scoped>\n",
       "    .dataframe tbody tr th:only-of-type {\n",
       "        vertical-align: middle;\n",
       "    }\n",
       "\n",
       "    .dataframe tbody tr th {\n",
       "        vertical-align: top;\n",
       "    }\n",
       "\n",
       "    .dataframe thead th {\n",
       "        text-align: right;\n",
       "    }\n",
       "</style>\n",
       "<table border=\"1\" class=\"dataframe\">\n",
       "  <thead>\n",
       "    <tr style=\"text-align: right;\">\n",
       "      <th></th>\n",
       "      <th>Name</th>\n",
       "      <th>Company (Headquarters)</th>\n",
       "      <th>Total Pay</th>\n",
       "      <th>% Change</th>\n",
       "      <th>Cash Pay</th>\n",
       "      <th>Equity Pay</th>\n",
       "      <th>Other Pay</th>\n",
       "      <th>Ratio of CEO pay to average industry worker pay</th>\n",
       "      <th>Total_Pay_Dollars</th>\n",
       "    </tr>\n",
       "    <tr>\n",
       "      <th>Rank</th>\n",
       "      <th></th>\n",
       "      <th></th>\n",
       "      <th></th>\n",
       "      <th></th>\n",
       "      <th></th>\n",
       "      <th></th>\n",
       "      <th></th>\n",
       "      <th></th>\n",
       "      <th></th>\n",
       "    </tr>\n",
       "  </thead>\n",
       "  <tbody>\n",
       "    <tr>\n",
       "      <th>98</th>\n",
       "      <td>Gregory N. Roberts</td>\n",
       "      <td>A-Mark Precious Metals (Santa Monica)</td>\n",
       "      <td>$0.94</td>\n",
       "      <td>-11%</td>\n",
       "      <td>$0.93</td>\n",
       "      <td>$0.00</td>\n",
       "      <td>$0.02</td>\n",
       "      <td>17.00000</td>\n",
       "      <td>940000.0</td>\n",
       "    </tr>\n",
       "    <tr>\n",
       "      <th>99</th>\n",
       "      <td>Jose L. Laparte</td>\n",
       "      <td>PriceSmart (San Diego)</td>\n",
       "      <td>$0.81</td>\n",
       "      <td>-7%</td>\n",
       "      <td>$0.71</td>\n",
       "      <td>$0.00</td>\n",
       "      <td>$0.10</td>\n",
       "      <td>32.00000</td>\n",
       "      <td>810000.0</td>\n",
       "    </tr>\n",
       "    <tr>\n",
       "      <th>100</th>\n",
       "      <td>Jack Dorsey</td>\n",
       "      <td>Twitter (San Francisco)</td>\n",
       "      <td>$0.07</td>\n",
       "      <td>(No previous year)</td>\n",
       "      <td>$0.00</td>\n",
       "      <td>$0.00</td>\n",
       "      <td>$0.07</td>\n",
       "      <td>0.63000</td>\n",
       "      <td>70000.0</td>\n",
       "    </tr>\n",
       "    <tr>\n",
       "      <th>101</th>\n",
       "      <td>Elon R. Musk</td>\n",
       "      <td>Tesla Motors (Palo Alto)</td>\n",
       "      <td>$0.04</td>\n",
       "      <td>6%</td>\n",
       "      <td>$0.04</td>\n",
       "      <td>$0.00</td>\n",
       "      <td>$0.00</td>\n",
       "      <td>0.46000</td>\n",
       "      <td>40000.0</td>\n",
       "    </tr>\n",
       "    <tr>\n",
       "      <th>102</th>\n",
       "      <td>Lawrence Page***</td>\n",
       "      <td>Alphabet (Mountain View)</td>\n",
       "      <td>$0.00</td>\n",
       "      <td>0%</td>\n",
       "      <td>$0.00</td>\n",
       "      <td>$0.00</td>\n",
       "      <td>$0.00</td>\n",
       "      <td>0.00001</td>\n",
       "      <td>0.0</td>\n",
       "    </tr>\n",
       "  </tbody>\n",
       "</table>\n",
       "</div>"
      ],
      "text/plain": [
       "                    Name                 Company (Headquarters) Total Pay  \\\n",
       "Rank                                                                        \n",
       "98    Gregory N. Roberts  A-Mark Precious Metals (Santa Monica)    $0.94    \n",
       "99       Jose L. Laparte                 PriceSmart (San Diego)    $0.81    \n",
       "100          Jack Dorsey                Twitter (San Francisco)    $0.07    \n",
       "101         Elon R. Musk               Tesla Motors (Palo Alto)    $0.04    \n",
       "102     Lawrence Page***               Alphabet (Mountain View)    $0.00    \n",
       "\n",
       "                % Change Cash Pay Equity Pay Other Pay  \\\n",
       "Rank                                                     \n",
       "98                  -11%   $0.93      $0.00     $0.02    \n",
       "99                   -7%   $0.71      $0.00     $0.10    \n",
       "100   (No previous year)   $0.00      $0.00     $0.07    \n",
       "101                   6%   $0.04      $0.00     $0.00    \n",
       "102                   0%   $0.00      $0.00     $0.00    \n",
       "\n",
       "      Ratio of CEO pay to average industry worker pay  Total_Pay_Dollars  \n",
       "Rank                                                                      \n",
       "98                                           17.00000           940000.0  \n",
       "99                                           32.00000           810000.0  \n",
       "100                                           0.63000            70000.0  \n",
       "101                                           0.46000            40000.0  \n",
       "102                                           0.00001                0.0  "
      ]
     },
     "execution_count": 61,
     "metadata": {},
     "output_type": "execute_result"
    }
   ],
   "source": [
    "compensation.take(np.arange(-5, 0))"
   ]
  },
  {
   "cell_type": "markdown",
   "metadata": {},
   "source": [
    "Notice anything strange? \n",
    "\n",
    "**Question 4.5.** Why did we get the `NaN`?  Assign either 1, 2, 3, or 4 to the name `apply_part5` below. \n",
    "1. The proportion would be 0.  Python can only calculate nonzero numbers.\n",
    "2. The `'Ratio of CEO pay to average industry worker pay'` rounds to 0, which Python does not know how to handle.\n",
    "3. The calculation is dividing by 0, so the result isn't a number."
   ]
  },
  {
   "cell_type": "code",
   "execution_count": 62,
   "metadata": {},
   "outputs": [],
   "source": [
    "apply_part5 = 3"
   ]
  },
  {
   "cell_type": "code",
   "execution_count": 63,
   "metadata": {
    "deletable": false,
    "editable": false
   },
   "outputs": [
    {
     "data": {
      "text/html": [
       "<p><strong><pre style='display: inline;'>q4_5</pre></strong> passed!</p>"
      ],
      "text/plain": [
       "q4_5 results: All test cases passed!"
      ]
     },
     "execution_count": 63,
     "metadata": {},
     "output_type": "execute_result"
    }
   ],
   "source": [
    "grader.check(\"q4_5\")"
   ]
  },
  {
   "cell_type": "markdown",
   "metadata": {},
   "source": [
    "A lot of real data is messy.  It might contain zeros, empty values, or `NaN`'s (not-a-number) that we need to watch out for when performing calculations! "
   ]
  },
  {
   "cell_type": "markdown",
   "metadata": {},
   "source": [
    "Alright, back to our CEOs.  Check out the `'% Change'` column in `compensation`.  It shows the percentage increase in the CEO's pay from the previous year.  For CEOs with no previous year on record, it instead says `'(No previous year)'`.  The values in this column are *strings*, not numbers, so like the `'Total Pay'` column, it's not usable without a bit of extra work.\n",
    "\n",
    "Given your current pay and the percentage increase from the previous year, you can compute your previous year's pay. This year's pay and last year's pay are related by the formula:\n",
    "\n",
    "$$\\text{this year's pay} = \\text{last year's pay} \\cdot \\left(1+\\dfrac{\\text{percent increase}}{100}\\right)$$\n",
    "\n",
    "For example, if you made \\$600 last year and your pay increased by 50\\%, then \n",
    "\n",
    "$$\\begin{align}\n",
    "\\text{this year's pay} &= \\text{600} \\cdot \\left(1+\\dfrac{\\text{50}}{100}\\right)\\\\\n",
    "&= \\text{600} \\cdot (1.5) \\\\\n",
    "&= 900\n",
    "\\end{align}$$\n",
    "\n",
    "Since we know how this year's pay and last year's pay are mathematically related, we can solve this equation for last year's pay to give a formula for the previous year's pay if we know the current year's pay and the percent increase from the previous year to the current year. Doing some algebra, we find:\n",
    "\n",
    "$$\\text{last year's pay} = \\dfrac{\\text{this year's pay}}{\\left(1+\\dfrac{\\text{percent increase}}{100}\\right)}$$\n",
    "\n",
    "**Question 4.6.** Create a new DataFrame called `with_previous_compensation`.  It should be a copy of `compensation`, but with the `'(No previous year)'` CEOs filtered out, and with an extra column called `'Previous_Total_Pay'`.  That column should have each CEO's pay in 2014.\n",
    "\n",
    "*Hint 1:* This question takes several steps, but each one involves something you've already learned how to do.  Take it one step at a time, using as many lines as you need.  You can print out your results after each step to make sure you're on the right track.\n",
    "\n",
    "*Hint 2:* You'll need to define a function to convert percentage strings, like `'-15%'`, to numbers.  You can do that just above your other code.\n",
    "\n",
    "*Hint 3:* If you see an error saying `unsupported operand type(s) for +: 'int' and 'Series'`, try switching the order of your operation. Instead of writing something like `1 + series`, write `series + 1`.\n",
    "\n",
    "*Note:* Don't use the `~` symbol anywhere inside your code, or the Gradescope autograder may not be able to grade your work."
   ]
  },
  {
   "cell_type": "code",
   "execution_count": 64,
   "metadata": {
    "for_assignment_type": "student"
   },
   "outputs": [
    {
     "data": {
      "text/html": [
       "<div>\n",
       "<style scoped>\n",
       "    .dataframe tbody tr th:only-of-type {\n",
       "        vertical-align: middle;\n",
       "    }\n",
       "\n",
       "    .dataframe tbody tr th {\n",
       "        vertical-align: top;\n",
       "    }\n",
       "\n",
       "    .dataframe thead th {\n",
       "        text-align: right;\n",
       "    }\n",
       "</style>\n",
       "<table border=\"1\" class=\"dataframe\">\n",
       "  <thead>\n",
       "    <tr style=\"text-align: right;\">\n",
       "      <th></th>\n",
       "      <th>Name</th>\n",
       "      <th>Company (Headquarters)</th>\n",
       "      <th>Total Pay</th>\n",
       "      <th>% Change</th>\n",
       "      <th>Cash Pay</th>\n",
       "      <th>Equity Pay</th>\n",
       "      <th>Other Pay</th>\n",
       "      <th>Ratio of CEO pay to average industry worker pay</th>\n",
       "      <th>Total_Pay_Dollars</th>\n",
       "      <th>Previous_Total_Pay</th>\n",
       "    </tr>\n",
       "    <tr>\n",
       "      <th>Rank</th>\n",
       "      <th></th>\n",
       "      <th></th>\n",
       "      <th></th>\n",
       "      <th></th>\n",
       "      <th></th>\n",
       "      <th></th>\n",
       "      <th></th>\n",
       "      <th></th>\n",
       "      <th></th>\n",
       "      <th></th>\n",
       "    </tr>\n",
       "  </thead>\n",
       "  <tbody>\n",
       "    <tr>\n",
       "      <th>3</th>\n",
       "      <td>Robert A. Iger</td>\n",
       "      <td>Walt Disney (Burbank)</td>\n",
       "      <td>$44.91</td>\n",
       "      <td>-3%</td>\n",
       "      <td>$24.89</td>\n",
       "      <td>$17.28</td>\n",
       "      <td>$2.74</td>\n",
       "      <td>477.00000</td>\n",
       "      <td>44910000.0</td>\n",
       "      <td>4.629897e+07</td>\n",
       "    </tr>\n",
       "    <tr>\n",
       "      <th>4</th>\n",
       "      <td>Marissa A. Mayer</td>\n",
       "      <td>Yahoo! (Sunnyvale)</td>\n",
       "      <td>$35.98</td>\n",
       "      <td>-15%</td>\n",
       "      <td>$1.00</td>\n",
       "      <td>$34.43</td>\n",
       "      <td>$0.55</td>\n",
       "      <td>342.00000</td>\n",
       "      <td>35980000.0</td>\n",
       "      <td>4.232941e+07</td>\n",
       "    </tr>\n",
       "    <tr>\n",
       "      <th>5</th>\n",
       "      <td>Marc Benioff</td>\n",
       "      <td>salesforce.com (San Francisco)</td>\n",
       "      <td>$33.36</td>\n",
       "      <td>-16%</td>\n",
       "      <td>$4.65</td>\n",
       "      <td>$27.26</td>\n",
       "      <td>$1.45</td>\n",
       "      <td>338.00000</td>\n",
       "      <td>33360000.0</td>\n",
       "      <td>3.971429e+07</td>\n",
       "    </tr>\n",
       "    <tr>\n",
       "      <th>6</th>\n",
       "      <td>John H. Hammergren</td>\n",
       "      <td>McKesson (San Francisco)</td>\n",
       "      <td>$24.84</td>\n",
       "      <td>-4%</td>\n",
       "      <td>$12.10</td>\n",
       "      <td>$12.37</td>\n",
       "      <td>$0.37</td>\n",
       "      <td>222.00000</td>\n",
       "      <td>24840000.0</td>\n",
       "      <td>2.587500e+07</td>\n",
       "    </tr>\n",
       "    <tr>\n",
       "      <th>7</th>\n",
       "      <td>John S. Watson</td>\n",
       "      <td>Chevron (San Ramon)</td>\n",
       "      <td>$22.04</td>\n",
       "      <td>-15%</td>\n",
       "      <td>$4.31</td>\n",
       "      <td>$14.68</td>\n",
       "      <td>$3.05</td>\n",
       "      <td>183.00000</td>\n",
       "      <td>22040000.0</td>\n",
       "      <td>2.592941e+07</td>\n",
       "    </tr>\n",
       "    <tr>\n",
       "      <th>...</th>\n",
       "      <td>...</td>\n",
       "      <td>...</td>\n",
       "      <td>...</td>\n",
       "      <td>...</td>\n",
       "      <td>...</td>\n",
       "      <td>...</td>\n",
       "      <td>...</td>\n",
       "      <td>...</td>\n",
       "      <td>...</td>\n",
       "      <td>...</td>\n",
       "    </tr>\n",
       "    <tr>\n",
       "      <th>97</th>\n",
       "      <td>David G. Hirz</td>\n",
       "      <td>Smartæ&amp; Final Stores (Commerce)</td>\n",
       "      <td>$1.53</td>\n",
       "      <td>-66%</td>\n",
       "      <td>$1.50</td>\n",
       "      <td>$0.00</td>\n",
       "      <td>$0.04</td>\n",
       "      <td>26.00000</td>\n",
       "      <td>1530000.0</td>\n",
       "      <td>4.500000e+06</td>\n",
       "    </tr>\n",
       "    <tr>\n",
       "      <th>98</th>\n",
       "      <td>Gregory N. Roberts</td>\n",
       "      <td>A-Mark Precious Metals (Santa Monica)</td>\n",
       "      <td>$0.94</td>\n",
       "      <td>-11%</td>\n",
       "      <td>$0.93</td>\n",
       "      <td>$0.00</td>\n",
       "      <td>$0.02</td>\n",
       "      <td>17.00000</td>\n",
       "      <td>940000.0</td>\n",
       "      <td>1.056180e+06</td>\n",
       "    </tr>\n",
       "    <tr>\n",
       "      <th>99</th>\n",
       "      <td>Jose L. Laparte</td>\n",
       "      <td>PriceSmart (San Diego)</td>\n",
       "      <td>$0.81</td>\n",
       "      <td>-7%</td>\n",
       "      <td>$0.71</td>\n",
       "      <td>$0.00</td>\n",
       "      <td>$0.10</td>\n",
       "      <td>32.00000</td>\n",
       "      <td>810000.0</td>\n",
       "      <td>8.709677e+05</td>\n",
       "    </tr>\n",
       "    <tr>\n",
       "      <th>101</th>\n",
       "      <td>Elon R. Musk</td>\n",
       "      <td>Tesla Motors (Palo Alto)</td>\n",
       "      <td>$0.04</td>\n",
       "      <td>6%</td>\n",
       "      <td>$0.04</td>\n",
       "      <td>$0.00</td>\n",
       "      <td>$0.00</td>\n",
       "      <td>0.46000</td>\n",
       "      <td>40000.0</td>\n",
       "      <td>3.773585e+04</td>\n",
       "    </tr>\n",
       "    <tr>\n",
       "      <th>102</th>\n",
       "      <td>Lawrence Page***</td>\n",
       "      <td>Alphabet (Mountain View)</td>\n",
       "      <td>$0.00</td>\n",
       "      <td>0%</td>\n",
       "      <td>$0.00</td>\n",
       "      <td>$0.00</td>\n",
       "      <td>$0.00</td>\n",
       "      <td>0.00001</td>\n",
       "      <td>0.0</td>\n",
       "      <td>0.000000e+00</td>\n",
       "    </tr>\n",
       "  </tbody>\n",
       "</table>\n",
       "<p>81 rows × 10 columns</p>\n",
       "</div>"
      ],
      "text/plain": [
       "                    Name                 Company (Headquarters) Total Pay  \\\n",
       "Rank                                                                        \n",
       "3         Robert A. Iger                  Walt Disney (Burbank)   $44.91    \n",
       "4       Marissa A. Mayer                     Yahoo! (Sunnyvale)   $35.98    \n",
       "5           Marc Benioff         salesforce.com (San Francisco)   $33.36    \n",
       "6     John H. Hammergren               McKesson (San Francisco)   $24.84    \n",
       "7         John S. Watson                    Chevron (San Ramon)   $22.04    \n",
       "...                  ...                                    ...       ...   \n",
       "97         David G. Hirz        Smartæ& Final Stores (Commerce)    $1.53    \n",
       "98    Gregory N. Roberts  A-Mark Precious Metals (Santa Monica)    $0.94    \n",
       "99       Jose L. Laparte                 PriceSmart (San Diego)    $0.81    \n",
       "101         Elon R. Musk               Tesla Motors (Palo Alto)    $0.04    \n",
       "102     Lawrence Page***               Alphabet (Mountain View)    $0.00    \n",
       "\n",
       "     % Change Cash Pay Equity Pay Other Pay  \\\n",
       "Rank                                          \n",
       "3         -3%  $24.89     $17.28     $2.74    \n",
       "4        -15%   $1.00     $34.43     $0.55    \n",
       "5        -16%   $4.65     $27.26     $1.45    \n",
       "6         -4%  $12.10     $12.37     $0.37    \n",
       "7        -15%   $4.31     $14.68     $3.05    \n",
       "...       ...      ...        ...       ...   \n",
       "97       -66%   $1.50      $0.00     $0.04    \n",
       "98       -11%   $0.93      $0.00     $0.02    \n",
       "99        -7%   $0.71      $0.00     $0.10    \n",
       "101        6%   $0.04      $0.00     $0.00    \n",
       "102        0%   $0.00      $0.00     $0.00    \n",
       "\n",
       "      Ratio of CEO pay to average industry worker pay  Total_Pay_Dollars  \\\n",
       "Rank                                                                       \n",
       "3                                           477.00000         44910000.0   \n",
       "4                                           342.00000         35980000.0   \n",
       "5                                           338.00000         33360000.0   \n",
       "6                                           222.00000         24840000.0   \n",
       "7                                           183.00000         22040000.0   \n",
       "...                                               ...                ...   \n",
       "97                                           26.00000          1530000.0   \n",
       "98                                           17.00000           940000.0   \n",
       "99                                           32.00000           810000.0   \n",
       "101                                           0.46000            40000.0   \n",
       "102                                           0.00001                0.0   \n",
       "\n",
       "      Previous_Total_Pay  \n",
       "Rank                      \n",
       "3           4.629897e+07  \n",
       "4           4.232941e+07  \n",
       "5           3.971429e+07  \n",
       "6           2.587500e+07  \n",
       "7           2.592941e+07  \n",
       "...                  ...  \n",
       "97          4.500000e+06  \n",
       "98          1.056180e+06  \n",
       "99          8.709677e+05  \n",
       "101         3.773585e+04  \n",
       "102         0.000000e+00  \n",
       "\n",
       "[81 rows x 10 columns]"
      ]
     },
     "execution_count": 64,
     "metadata": {},
     "output_type": "execute_result"
    }
   ],
   "source": [
    "# You can write code to perform intermediate steps here!\n",
    "def strip_percentage(percentage):\n",
    "    return float(percentage.strip('%'))\n",
    "\n",
    "\n",
    "with_previous_compensation = compensation[compensation.get('% Change') != '(No previous year)']\n",
    "stripped_percent = with_previous_compensation.get('% Change').apply(strip_percentage)\n",
    "previous_total = with_previous_compensation.get('Total_Pay_Dollars') / ((stripped_percent / 100) + 1)\n",
    "with_previous_compensation = with_previous_compensation.assign(Previous_Total_Pay = previous_total)\n",
    "with_previous_compensation"
   ]
  },
  {
   "cell_type": "code",
   "execution_count": 65,
   "metadata": {
    "deletable": false,
    "editable": false
   },
   "outputs": [
    {
     "data": {
      "text/html": [
       "<p><strong><pre style='display: inline;'>q4_6</pre></strong> passed!</p>"
      ],
      "text/plain": [
       "q4_6 results: All test cases passed!"
      ]
     },
     "execution_count": 65,
     "metadata": {},
     "output_type": "execute_result"
    }
   ],
   "source": [
    "grader.check(\"q4_6\")"
   ]
  },
  {
   "cell_type": "markdown",
   "metadata": {},
   "source": [
    "**Question 4.7.** What was the average pay of these CEOs in 2014?"
   ]
  },
  {
   "cell_type": "code",
   "execution_count": 66,
   "metadata": {},
   "outputs": [
    {
     "data": {
      "text/plain": [
       "11649176.115603432"
      ]
     },
     "execution_count": 66,
     "metadata": {},
     "output_type": "execute_result"
    }
   ],
   "source": [
    "average_pay_2014 = with_previous_compensation.get('Previous_Total_Pay').mean()\n",
    "average_pay_2014"
   ]
  },
  {
   "cell_type": "code",
   "execution_count": 67,
   "metadata": {
    "deletable": false,
    "editable": false
   },
   "outputs": [
    {
     "data": {
      "text/html": [
       "<p><strong><pre style='display: inline;'>q4_7</pre></strong> passed!</p>"
      ],
      "text/plain": [
       "q4_7 results: All test cases passed!"
      ]
     },
     "execution_count": 67,
     "metadata": {},
     "output_type": "execute_result"
    }
   ],
   "source": [
    "grader.check(\"q4_7\")"
   ]
  },
  {
   "cell_type": "markdown",
   "metadata": {},
   "source": [
    "## 5. Distribution of Wealth 💰\n",
    "Earlier, we computed the average pay among the CEOs in our 102-CEO dataset.  The average doesn't tell us everything about the amounts CEOs are paid, though.  Maybe just a few CEOs make the bulk of the money, even among these 102.\n",
    "\n",
    "We can use a *histogram* to display more information about a set of numbers.  [Here's an example](https://notes.dsc10.com/03-visualization/intro.html#histograms) of the code that we'll use to create histograms. \n",
    "\n",
    "**Question 5.1.** Make a histogram of the pay of the CEOs in `compensation`. "
   ]
  },
  {
   "cell_type": "code",
   "execution_count": 68,
   "metadata": {},
   "outputs": [
    {
     "data": {
      "image/png": "[encoded data removed]",
      "text/plain": [
       "<Figure size 432x288 with 1 Axes>"
      ]
     },
     "metadata": {},
     "output_type": "display_data"
    }
   ],
   "source": [
    "# Place your code here\n",
    "compensation.plot(kind='hist', y='Total_Pay_Dollars', ec='w', density=True);"
   ]
  },
  {
   "cell_type": "markdown",
   "metadata": {},
   "source": [
    "**Question 5.2.** Looking at the histogram, about how many CEOs made more than \\$30 million? Make a good guess. (Answer the question by filling in your answer manually.  You'll have to do a bit of arithmetic; feel free to use Python as a calculator.)"
   ]
  },
  {
   "cell_type": "code",
   "execution_count": 69,
   "metadata": {},
   "outputs": [
    {
     "name": "stdout",
     "output_type": "stream",
     "text": [
      "4.75\n"
     ]
    }
   ],
   "source": [
    "print((0.2*0.5+0.1*0.5+0.2*0.5) * 19)\n",
    "num_ceos_more_than_30_million = 5"
   ]
  },
  {
   "cell_type": "code",
   "execution_count": 70,
   "metadata": {
    "deletable": false,
    "editable": false
   },
   "outputs": [
    {
     "data": {
      "text/html": [
       "<p><strong><pre style='display: inline;'>q5_2</pre></strong> passed!</p>"
      ],
      "text/plain": [
       "q5_2 results: All test cases passed!"
      ]
     },
     "execution_count": 70,
     "metadata": {},
     "output_type": "execute_result"
    }
   ],
   "source": [
    "grader.check(\"q5_2\")"
   ]
  },
  {
   "cell_type": "markdown",
   "metadata": {},
   "source": [
    "**Question 5.3.** Answer the same question with code. That is, find the number of CEOs with a total pay of over \\$30 million using code, and assign the result to the name `num_ceos_more_than_30_million_code`."
   ]
  },
  {
   "cell_type": "code",
   "execution_count": 71,
   "metadata": {},
   "outputs": [
    {
     "data": {
      "text/plain": [
       "5"
      ]
     },
     "execution_count": 71,
     "metadata": {},
     "output_type": "execute_result"
    }
   ],
   "source": [
    "num_ceos_more_than_30_million_code = compensation[compensation.get('Total_Pay_Dollars') > 30000000].shape[0]\n",
    "num_ceos_more_than_30_million_code"
   ]
  },
  {
   "cell_type": "code",
   "execution_count": 72,
   "metadata": {
    "deletable": false,
    "editable": false
   },
   "outputs": [
    {
     "data": {
      "text/html": [
       "<p><strong><pre style='display: inline;'>q5_3</pre></strong> passed!</p>"
      ],
      "text/plain": [
       "q5_3 results: All test cases passed!"
      ]
     },
     "execution_count": 72,
     "metadata": {},
     "output_type": "execute_result"
    }
   ],
   "source": [
    "grader.check(\"q5_3\")"
   ]
  },
  {
   "cell_type": "markdown",
   "metadata": {},
   "source": [
    "Run the next cell if you want to see how far off you were."
   ]
  },
  {
   "cell_type": "code",
   "execution_count": 73,
   "metadata": {},
   "outputs": [
    {
     "name": "stdout",
     "output_type": "stream",
     "text": [
      "Your guess was only 0.0% off!\n"
     ]
    }
   ],
   "source": [
    "percent_diff = abs(num_ceos_more_than_30_million - num_ceos_more_than_30_million_code) / num_ceos_more_than_30_million_code\n",
    "print(f\"Your guess was only {percent_diff * 100}% off!\")"
   ]
  },
  {
   "cell_type": "markdown",
   "metadata": {},
   "source": [
    "# Finish Line\n",
    "\n",
    "Congratulations! You are done with Lab 3.\n",
    "\n",
    "To submit your assignment:\n",
    "\n",
    "1. Select `Kernel -> Restart & Run All` to ensure that you have executed all cells, including the test cells.\n",
    "2. Read through the notebook to make sure everything is fine and all tests passed.\n",
    "3. Run the cell below to run all tests, and make sure that they all pass.\n",
    "4. Download your notebook using `File -> Download as -> Notebook (.ipynb)`, then upload your notebook to Gradescope."
   ]
  },
  {
   "cell_type": "code",
   "execution_count": 74,
   "metadata": {},
   "outputs": [
    {
     "data": {
      "text/plain": [
       "q1_2 results: All test cases passed!\n",
       "\n",
       "q1_4 results: All test cases passed!\n",
       "\n",
       "q1_5 results: All test cases passed!\n",
       "\n",
       "q1_6 results: All test cases passed!\n",
       "\n",
       "q1_7 results: All test cases passed!\n",
       "\n",
       "q1_8 results: All test cases passed!\n",
       "\n",
       "q2_1 results: All test cases passed!\n",
       "\n",
       "q2_2 results: All test cases passed!\n",
       "\n",
       "q2_3 results: All test cases passed!\n",
       "\n",
       "q2_4 results: All test cases passed!\n",
       "\n",
       "q3_1_1 results: All test cases passed!\n",
       "\n",
       "q3_1_2 results: All test cases passed!\n",
       "\n",
       "q3_2 results: All test cases passed!\n",
       "\n",
       "q3_3 results: All test cases passed!\n",
       "\n",
       "q3_4 results: All test cases passed!\n",
       "\n",
       "q4_1 results: All test cases passed!\n",
       "\n",
       "q4_2 results: All test cases passed!\n",
       "\n",
       "q4_3 results: All test cases passed!\n",
       "\n",
       "q4_4 results: All test cases passed!\n",
       "\n",
       "q4_5 results: All test cases passed!\n",
       "\n",
       "q4_6 results: All test cases passed!\n",
       "\n",
       "q4_7 results: All test cases passed!\n",
       "\n",
       "q5_2 results: All test cases passed!\n",
       "\n",
       "q5_3 results: All test cases passed!"
      ]
     },
     "execution_count": 74,
     "metadata": {},
     "output_type": "execute_result"
    }
   ],
   "source": [
    "# For your convenience, you can run this cell to run all the tests at once!\n",
    "grader.check_all()"
   ]
  },
  {
   "cell_type": "code",
   "execution_count": null,
   "metadata": {},
   "outputs": [],
   "source": []
  }
 ],
 "metadata": {
  "anaconda-cloud": {},
  "kernelspec": {
   "display_name": "Python 3 (ipykernel)",
   "language": "python",
   "name": "python3"
  },
  "language_info": {
   "codemirror_mode": {
    "name": "ipython",
    "version": 3
   },
   "file_extension": ".py",
   "mimetype": "text/x-python",
   "name": "python",
   "nbconvert_exporter": "python",
   "pygments_lexer": "ipython3",
   "version": "3.9.5"
  },
  "toc": {
   "base_numbering": 1,
   "nav_menu": {},
   "number_sections": true,
   "sideBar": true,
   "skip_h1_title": false,
   "title_cell": "Table of Contents",
   "title_sidebar": "Contents",
   "toc_cell": false,
   "toc_position": {},
   "toc_section_display": true,
   "toc_window_display": false
  }
 },
 "nbformat": 4,
 "nbformat_minor": 4
}
