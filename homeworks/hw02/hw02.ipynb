{
 "cells": [
  {
   "cell_type": "markdown",
   "metadata": {},
   "source": [
    "# Homework 2: Arrays and DataFrames\n",
    "\n",
    "## Due Tuesday, October 11th at 11:59PM\n",
    "\n",
    "Welcome to Homework 2! This week's homework will cover arrays and DataFrames in Python. You can find additional help on these topics in [BPD 7-11](https://notes.dsc10.com/02-data_sets/arrays.html) in the `babypandas` notes."
   ]
  },
  {
   "cell_type": "markdown",
   "metadata": {},
   "source": [
    "### Instructions\n",
    "\n",
    "This assignment is due Tuesday, October 11th at 11:59PM. You are given six slip days throughout the quarter to extend deadlines. See the syllabus for more details. With the exception of using slip days, late work will not be accepted unless you have made special arrangements with your instructor.\n",
    "\n",
    "**Important**: For homeworks, the `otter` tests don't usually tell you that your answer is correct. More often, they help catch careless mistakes. It's up to you to ensure that your answer is correct. If you're not sure, ask someone (not for the answer, but for some guidance about your approach). These are great questions for office hours (see the schedule on the [Calendar](https://dsc10.com/calendar)) or EdStem. Directly sharing answers is not okay, but discussing problems with the course staff or with other students is encouraged. \n",
    "\n",
    "**Please do not use for-loops for any questions in this homework.** If you don't know what a for-loop is, don't worry – we haven't covered them yet. But if you do know what they are and are wondering why it's not OK to use them, it is because loops in Python are slow, and looping over arrays and DataFrames should usually be avoided."
   ]
  },
  {
   "cell_type": "code",
   "execution_count": 1,
   "metadata": {},
   "outputs": [],
   "source": [
    "# Don't change this cell; just run it. Please don't import any additional packages.\n",
    "import numpy as np\n",
    "import babypandas as bpd\n",
    "\n",
    "import otter\n",
    "grader = otter.Notebook()"
   ]
  },
  {
   "cell_type": "markdown",
   "metadata": {},
   "source": [
    "## 1. Arrays 🗃️"
   ]
  },
  {
   "cell_type": "markdown",
   "metadata": {},
   "source": [
    "**Question 1.1.** Make an array called `quirky_numbers` containing the following numbers (in the given order):\n",
    "\n",
    "1. The cube root of 31\n",
    "2. 9 radians, in degrees\n",
    "3. $2^7 - 4^5$\n",
    "4. The mathematical constant of $e$ over 4: ($\\frac{e}{4}$)\n",
    "5. The factorial of 5\n",
    "\n",
    "*Hint:* Check out the functions constants available in the `numpy` module, which has been imported as `np`. If you're unsure of what function to use, a quick Google search should do the trick.  Do **not** import `math`. \n",
    "\n",
    "*Note:* In this problem, as with all others, we'll only check that your answer is correct. There may be several valid ways to produce the correct answer."
   ]
  },
  {
   "cell_type": "code",
   "execution_count": 2,
   "metadata": {
    "scrolled": true
   },
   "outputs": [
    {
     "data": {
      "text/plain": [
       "array([ 3.14138065e+00,  5.15662016e+02, -8.96000000e+02,  6.79570457e-01,\n",
       "        1.20000000e+02])"
      ]
     },
     "execution_count": 2,
     "metadata": {},
     "output_type": "execute_result"
    }
   ],
   "source": [
    "quirky_numbers = np.array([(31**(1/3)), 9 * (180/np.pi), (2**7) - (4**5), np.e/4, 5*4*3*2*1])\n",
    "quirky_numbers"
   ]
  },
  {
   "cell_type": "code",
   "execution_count": 3,
   "metadata": {
    "deletable": false,
    "editable": false
   },
   "outputs": [
    {
     "data": {
      "text/html": [
       "<p><strong><pre style='display: inline;'>q1_1</pre></strong> passed!</p>"
      ],
      "text/plain": [
       "q1_1 results: All test cases passed!"
      ]
     },
     "execution_count": 3,
     "metadata": {},
     "output_type": "execute_result"
    }
   ],
   "source": [
    "grader.check(\"q1_1\")"
   ]
  },
  {
   "cell_type": "markdown",
   "metadata": {
    "deletable": false,
    "editable": false
   },
   "source": [
    "**Question 1.2.** Make an array called `likes` containing the following three strings:\n",
    "- `'I like planting'`\n",
    "- `'my pets'`\n",
    "- `'and my friends!'`\n",
    "\n",
    "<!--\n",
    "BEGIN QUESTION\n",
    "name: q1_2\n",
    "-->"
   ]
  },
  {
   "cell_type": "code",
   "execution_count": 4,
   "metadata": {},
   "outputs": [
    {
     "data": {
      "text/plain": [
       "array(['I like planting', 'my pets', 'and my friends!'], dtype='<U15')"
      ]
     },
     "execution_count": 4,
     "metadata": {},
     "output_type": "execute_result"
    }
   ],
   "source": [
    "likes = np.array(['I like planting', 'my pets', 'and my friends!'])\n",
    "likes"
   ]
  },
  {
   "cell_type": "code",
   "execution_count": 5,
   "metadata": {
    "deletable": false,
    "editable": false
   },
   "outputs": [
    {
     "data": {
      "text/html": [
       "<p><strong><pre style='display: inline;'>q1_2</pre></strong> passed!</p>"
      ],
      "text/plain": [
       "q1_2 results: All test cases passed!"
      ]
     },
     "execution_count": 5,
     "metadata": {},
     "output_type": "execute_result"
    }
   ],
   "source": [
    "grader.check(\"q1_2\")"
   ]
  },
  {
   "cell_type": "markdown",
   "metadata": {},
   "source": [
    "<center><img src=./data/cat_plant.jpeg width=400><a href=\"https://www.reddit.com/r/pottedcats/comments/xpokrc/blue_eyes/\">source</a></center>\n",
    "\n",
    "\n",
    "In [Lecture 4](https://dsc10.com/resources/lectures/lec04/lec04.html#String-methods), we looked at several string methods, like `lower` and `replace`. Strings have another method that we haven't looked at yet, called `join`. `join` takes one argument, an array of strings, and it returns a single string. Specifically, `some_string.join(some_array)` evaluates to a new string consisting of all of elements in `some_array`, with `some_string` inserted in between each element.\n",
    "\n",
    "For example, `'-'.join(np.array(['call', '858', '534', '2230']))` evaluates to `'call-858-534-2230'`.\n",
    "\n",
    "**Question 1.3.** Use the array `likes` and the method `join` to make two strings:\n",
    "\n",
    "1. `'I like planting, my pets, and my friends!'` (call this one `by_comma`)\n",
    "2. `'I like planting my pets and my family!'` (call this one `by_space`)"
   ]
  },
  {
   "cell_type": "code",
   "execution_count": 6,
   "metadata": {
    "scrolled": true
   },
   "outputs": [
    {
     "name": "stdout",
     "output_type": "stream",
     "text": [
      "I like planting, my pets, and my friends!\n",
      "I like planting my pets and my friends!\n"
     ]
    }
   ],
   "source": [
    "by_comma = ', '.join(likes)\n",
    "by_space = ' '.join(likes)\n",
    "\n",
    "# Don't change the lines below.\n",
    "print(by_comma)\n",
    "print(by_space)"
   ]
  },
  {
   "cell_type": "code",
   "execution_count": 7,
   "metadata": {
    "deletable": false,
    "editable": false
   },
   "outputs": [
    {
     "data": {
      "text/html": [
       "<p><strong><pre style='display: inline;'>q1_3</pre></strong> passed!</p>"
      ],
      "text/plain": [
       "q1_3 results: All test cases passed!"
      ]
     },
     "execution_count": 7,
     "metadata": {},
     "output_type": "execute_result"
    }
   ],
   "source": [
    "grader.check(\"q1_3\")"
   ]
  },
  {
   "cell_type": "markdown",
   "metadata": {},
   "source": [
    "Now let's get some practice accessing individual elements of arrays.  In Python (and in many programming languages), elements are accessed by *integer position*, with the position of the first element being zero. That's probably not the way you learned to count, so it's easy to get mixed up here. Be careful!"
   ]
  },
  {
   "cell_type": "markdown",
   "metadata": {},
   "source": [
    "**Question 1.4.** The cell below creates an array of strings."
   ]
  },
  {
   "cell_type": "code",
   "execution_count": 8,
   "metadata": {
    "scrolled": true
   },
   "outputs": [
    {
     "data": {
      "text/plain": [
       "array(['🌻', '🌺', '🌼', '🌸', 'flower', 'plant', 'cat', '🐈', 'dog', '🐶'],\n",
       "      dtype='<U6')"
      ]
     },
     "execution_count": 8,
     "metadata": {},
     "output_type": "execute_result"
    }
   ],
   "source": [
    "some_strings = np.array(['🌻', '🌺', '🌼', '🌸', 'flower', 'plant', 'cat', '🐈', 'dog', '🐶'])\n",
    "some_strings"
   ]
  },
  {
   "cell_type": "markdown",
   "metadata": {},
   "source": [
    "What is the integer position of `'🐈'` in the array? You can just type in the answer, which should be of type `int`. This is a conceptual question, not a coding question."
   ]
  },
  {
   "cell_type": "code",
   "execution_count": 9,
   "metadata": {},
   "outputs": [
    {
     "data": {
      "text/plain": [
       "7"
      ]
     },
     "execution_count": 9,
     "metadata": {},
     "output_type": "execute_result"
    }
   ],
   "source": [
    "cat_emoji_position = 7\n",
    "cat_emoji_position"
   ]
  },
  {
   "cell_type": "code",
   "execution_count": 10,
   "metadata": {
    "deletable": false,
    "editable": false
   },
   "outputs": [
    {
     "data": {
      "text/html": [
       "<p><strong><pre style='display: inline;'>q1_4</pre></strong> passed!</p>"
      ],
      "text/plain": [
       "q1_4 results: All test cases passed!"
      ]
     },
     "execution_count": 10,
     "metadata": {},
     "output_type": "execute_result"
    }
   ],
   "source": [
    "grader.check(\"q1_4\")"
   ]
  },
  {
   "cell_type": "markdown",
   "metadata": {},
   "source": [
    "**Question 1.5.** Suppose you have an array with 500 elements. What is the integer position of the fifth-last element in this array? You can just type in the answer, which should be of type `int`. This is a conceptual question, not a coding question.\n",
    "\n",
    "_Note:_ Your answer should be a **positive** integer!"
   ]
  },
  {
   "cell_type": "code",
   "execution_count": 11,
   "metadata": {},
   "outputs": [
    {
     "name": "stdout",
     "output_type": "stream",
     "text": [
      "495\n"
     ]
    },
    {
     "data": {
      "text/plain": [
       "495"
      ]
     },
     "execution_count": 11,
     "metadata": {},
     "output_type": "execute_result"
    }
   ],
   "source": [
    "fifth_last_position = 499 - 4\n",
    "print(np.arange(0, 500, 1)[-5])\n",
    "fifth_last_position"
   ]
  },
  {
   "cell_type": "code",
   "execution_count": 12,
   "metadata": {
    "deletable": false,
    "editable": false
   },
   "outputs": [
    {
     "data": {
      "text/html": [
       "<p><strong><pre style='display: inline;'>q1_5</pre></strong> passed!</p>"
      ],
      "text/plain": [
       "q1_5 results: All test cases passed!"
      ]
     },
     "execution_count": 12,
     "metadata": {},
     "output_type": "execute_result"
    }
   ],
   "source": [
    "grader.check(\"q1_5\")"
   ]
  },
  {
   "cell_type": "markdown",
   "metadata": {},
   "source": [
    "**Question 1.6.** Suppose you have an array with 229 elements. At what integer position is the middle element of this array? You can just type in the answer, which should be of type `int`. This is a conceptual question, not a coding question.\n",
    "\n",
    "_Note:_ Again, your answer should be a **positive** integer!"
   ]
  },
  {
   "cell_type": "code",
   "execution_count": 13,
   "metadata": {},
   "outputs": [
    {
     "name": "stdout",
     "output_type": "stream",
     "text": [
      "114\n"
     ]
    },
    {
     "data": {
      "text/plain": [
       "114"
      ]
     },
     "execution_count": 13,
     "metadata": {},
     "output_type": "execute_result"
    }
   ],
   "source": [
    "mid_position = int(np.floor(229 / 2))\n",
    "print(np.arange(0, 229, 1)[int(229/2)])\n",
    "mid_position"
   ]
  },
  {
   "cell_type": "code",
   "execution_count": 14,
   "metadata": {
    "deletable": false,
    "editable": false
   },
   "outputs": [
    {
     "data": {
      "text/html": [
       "<p><strong><pre style='display: inline;'>q1_6</pre></strong> passed!</p>"
      ],
      "text/plain": [
       "q1_6 results: All test cases passed!"
      ]
     },
     "execution_count": 14,
     "metadata": {},
     "output_type": "execute_result"
    }
   ],
   "source": [
    "grader.check(\"q1_6\")"
   ]
  },
  {
   "cell_type": "markdown",
   "metadata": {},
   "source": [
    "By the way, it's also possible to use negative integer positions to access elements in an array, which can be easier than using positive integer positions sometimes.  If a position is negative, you count from the end of the array rather than from the beginning. Position -1 corresponds to the last element, -2 corresponds to the second-last element, and so on. For instance, to find the third-last element of some_strings, we could use:"
   ]
  },
  {
   "cell_type": "code",
   "execution_count": 15,
   "metadata": {},
   "outputs": [
    {
     "data": {
      "text/plain": [
       "'🐈'"
      ]
     },
     "execution_count": 15,
     "metadata": {},
     "output_type": "execute_result"
    }
   ],
   "source": [
    "some_strings[-3]"
   ]
  },
  {
   "cell_type": "markdown",
   "metadata": {},
   "source": [
    "## 2. DSC 10 Enrollments 📈"
   ]
  },
  {
   "cell_type": "markdown",
   "metadata": {},
   "source": [
    "It's time to get to know your classmates! The third column of the table below shows how many students in this quarter's offering of DSC 10 come from each of the seven colleges at UCSD. Looks like Sixth College is the most popular, with 93 students. The last column shows how many of these students are DSC majors. Of the 93 students from Sixth College, 54 are DSC majors. \n",
    "\n",
    "For comparison's sake, we also have the corresponding data from the Fall 2021 offering of DSC 10. You can see that the class has grown quite a bit since last fall!\n",
    "\n",
    "Throughout this problem, we'll assume that all students in DSC 10 come from one of the seven colleges in the table.\n",
    "\n",
    "|College|Fall 21 Students|Fall 21 DSC Major Students|Fall 22 Students|Fall 22 DSC Major Students|\n",
    "|---|---|---|---|---|\n",
    "|Seventh|28|19|37|21|\n",
    "|Sixth|62|45|93|54|\n",
    "|Roosevelt|22|9|67|39|\n",
    "|Warren|31|19|61|40|\n",
    "|Marshall|49|26|62|32|\n",
    "|Muir|27|14|38|27|\n",
    "|Revelle|30|12|52|31|\n",
    "\n",
    "In this question, we'll be working with the data from this table as *arrays*. Here are those arrays:"
   ]
  },
  {
   "cell_type": "code",
   "execution_count": 16,
   "metadata": {},
   "outputs": [
    {
     "data": {
      "text/plain": [
       "array([28, 62, 22, 31, 49, 27, 30])"
      ]
     },
     "execution_count": 16,
     "metadata": {},
     "output_type": "execute_result"
    }
   ],
   "source": [
    "students_21 = np.array([28, 62, 22, 31, 49, 27, 30])\n",
    "students_21"
   ]
  },
  {
   "cell_type": "code",
   "execution_count": 17,
   "metadata": {},
   "outputs": [
    {
     "data": {
      "text/plain": [
       "array([19, 45,  9, 19, 26, 14, 12])"
      ]
     },
     "execution_count": 17,
     "metadata": {},
     "output_type": "execute_result"
    }
   ],
   "source": [
    "majors_21 = np.array([19, 45, 9, 19, 26, 14, 12])\n",
    "majors_21"
   ]
  },
  {
   "cell_type": "code",
   "execution_count": 18,
   "metadata": {},
   "outputs": [
    {
     "data": {
      "text/plain": [
       "array([37, 93, 67, 61, 62, 38, 52])"
      ]
     },
     "execution_count": 18,
     "metadata": {},
     "output_type": "execute_result"
    }
   ],
   "source": [
    "students_22 = np.array([37, 93, 67, 61, 62, 38, 52])\n",
    "students_22"
   ]
  },
  {
   "cell_type": "code",
   "execution_count": 19,
   "metadata": {},
   "outputs": [
    {
     "data": {
      "text/plain": [
       "array([21, 54, 39, 40, 32, 27, 31])"
      ]
     },
     "execution_count": 19,
     "metadata": {},
     "output_type": "execute_result"
    }
   ],
   "source": [
    "majors_22 = np.array([21, 54, 39, 40, 32, 27, 31])\n",
    "majors_22"
   ]
  },
  {
   "cell_type": "markdown",
   "metadata": {},
   "source": [
    "Remember, the `numpy` package (`np` for short) provides many handy functions for working with arrays. These are specifically designed to work with arrays and are faster than using Python's built-in functions. \n",
    "\n",
    "Some frequently used array functions are `np.min()`, `np.max()`, `np.sum()`, `np.abs()`, and `np.round()`. There are many more, which you can browse by typing `np.` into a code cell and hitting the *tab* key, or by looking at the [documentation](https://numpy.org/doc/stable/reference/generated/numpy.ndarray.html)."
   ]
  },
  {
   "cell_type": "markdown",
   "metadata": {},
   "source": [
    "**Question 2.1.** Assign `enrolled_21` and `enrolled_22` to the number of students that were enrolled in DSC 10 in Fall 2021 and Fall 2022, respectively."
   ]
  },
  {
   "cell_type": "code",
   "execution_count": 20,
   "metadata": {
    "scrolled": true
   },
   "outputs": [
    {
     "name": "stdout",
     "output_type": "stream",
     "text": [
      "Students in Fall 2021: 144\n",
      "Students in Fall 2022: 244\n"
     ]
    }
   ],
   "source": [
    "enrolled_21 = majors_21.sum()\n",
    "enrolled_22 = majors_22.sum()\n",
    "\n",
    "# Don't change the lines below.\n",
    "print('Students in Fall 2021:', enrolled_21)\n",
    "print('Students in Fall 2022:', enrolled_22)"
   ]
  },
  {
   "cell_type": "code",
   "execution_count": 21,
   "metadata": {
    "deletable": false,
    "editable": false
   },
   "outputs": [
    {
     "data": {
      "text/html": [
       "<p><strong><pre style='display: inline;'>q2_1</pre></strong> passed!</p>"
      ],
      "text/plain": [
       "q2_1 results: All test cases passed!"
      ]
     },
     "execution_count": 21,
     "metadata": {},
     "output_type": "execute_result"
    }
   ],
   "source": [
    "grader.check(\"q2_1\")"
   ]
  },
  {
   "cell_type": "markdown",
   "metadata": {},
   "source": [
    "**Question 2.2.** How many non-DSC major students from the Fall 2021 offering of DSC 10 came from each of the seven colleges? Your answer should be an array called `non_majors_21`, with the colleges in the same order as they appear in the table above. For instance, the first element of `non_majors_21` should be the number of non-DSC majors in the Fall 2021 offering of DSC 10 who were in Seventh College.\n",
    "\n",
    "Similarly, how many non-DSC major students from the Fall 2022 offering of DSC 10 came from each of the seven colleges? Your answer should be an array called `non_majors_22`, with the colleges in the same order as they appear in the table above. \n"
   ]
  },
  {
   "cell_type": "code",
   "execution_count": 22,
   "metadata": {},
   "outputs": [
    {
     "data": {
      "text/plain": [
       "array([ 9, 17, 13, 12, 23, 13, 18])"
      ]
     },
     "execution_count": 22,
     "metadata": {},
     "output_type": "execute_result"
    }
   ],
   "source": [
    "non_majors_21 = students_21 - majors_21\n",
    "non_majors_21"
   ]
  },
  {
   "cell_type": "code",
   "execution_count": 23,
   "metadata": {
    "deletable": false,
    "editable": false
   },
   "outputs": [
    {
     "data": {
      "text/html": [
       "<p><strong><pre style='display: inline;'>q2_2_1</pre></strong> passed!</p>"
      ],
      "text/plain": [
       "q2_2_1 results: All test cases passed!"
      ]
     },
     "execution_count": 23,
     "metadata": {},
     "output_type": "execute_result"
    }
   ],
   "source": [
    "grader.check(\"q2_2_1\")"
   ]
  },
  {
   "cell_type": "code",
   "execution_count": 24,
   "metadata": {},
   "outputs": [
    {
     "data": {
      "text/plain": [
       "array([16, 39, 28, 21, 30, 11, 21])"
      ]
     },
     "execution_count": 24,
     "metadata": {},
     "output_type": "execute_result"
    }
   ],
   "source": [
    "non_majors_22 = students_22 - majors_22\n",
    "non_majors_22"
   ]
  },
  {
   "cell_type": "code",
   "execution_count": 25,
   "metadata": {
    "deletable": false,
    "editable": false
   },
   "outputs": [
    {
     "data": {
      "text/html": [
       "<p><strong><pre style='display: inline;'>q2_2_2</pre></strong> passed!</p>"
      ],
      "text/plain": [
       "q2_2_2 results: All test cases passed!"
      ]
     },
     "execution_count": 25,
     "metadata": {},
     "output_type": "execute_result"
    }
   ],
   "source": [
    "grader.check(\"q2_2_2\")"
   ]
  },
  {
   "cell_type": "markdown",
   "metadata": {},
   "source": [
    "**Question 2.3.** What percentage of Fall 2021 DSC 10 students from each college were DSC majors? Your answer should be an array called `percent_majors_21`, with the colleges in the same order as they appear in the table above, and with percentages rounded to two decimal places.\n",
    "\n",
    "Similarly, what percentage of Fall 2022 DSC 10 students from each college were DSC majors? Your answer should be an array called `percent_majors_22`, with the colleges in the same order as they appear in the table above, and with percentages rounded to two decimal places."
   ]
  },
  {
   "cell_type": "code",
   "execution_count": 26,
   "metadata": {},
   "outputs": [
    {
     "data": {
      "text/plain": [
       "array([67.86, 72.58, 40.91, 61.29, 53.06, 51.85, 40.  ])"
      ]
     },
     "execution_count": 26,
     "metadata": {},
     "output_type": "execute_result"
    }
   ],
   "source": [
    "percent_majors_21 = np.round(majors_21 / students_21 * 100, 2)\n",
    "percent_majors_21"
   ]
  },
  {
   "cell_type": "code",
   "execution_count": 27,
   "metadata": {
    "deletable": false,
    "editable": false
   },
   "outputs": [
    {
     "data": {
      "text/html": [
       "<p><strong><pre style='display: inline;'>q2_3_1</pre></strong> passed!</p>"
      ],
      "text/plain": [
       "q2_3_1 results: All test cases passed!"
      ]
     },
     "execution_count": 27,
     "metadata": {},
     "output_type": "execute_result"
    }
   ],
   "source": [
    "grader.check(\"q2_3_1\")"
   ]
  },
  {
   "cell_type": "code",
   "execution_count": 28,
   "metadata": {},
   "outputs": [
    {
     "data": {
      "text/plain": [
       "array([56.76, 58.06, 58.21, 65.57, 51.61, 71.05, 59.62])"
      ]
     },
     "execution_count": 28,
     "metadata": {},
     "output_type": "execute_result"
    }
   ],
   "source": [
    "percent_majors_22 = np.round(majors_22 / students_22 * 100, 2)\n",
    "percent_majors_22"
   ]
  },
  {
   "cell_type": "code",
   "execution_count": 29,
   "metadata": {
    "deletable": false,
    "editable": false
   },
   "outputs": [
    {
     "data": {
      "text/html": [
       "<p><strong><pre style='display: inline;'>q2_3_2</pre></strong> passed!</p>"
      ],
      "text/plain": [
       "q2_3_2 results: All test cases passed!"
      ]
     },
     "execution_count": 29,
     "metadata": {},
     "output_type": "execute_result"
    }
   ],
   "source": [
    "grader.check(\"q2_3_2\")"
   ]
  },
  {
   "cell_type": "markdown",
   "metadata": {},
   "source": [
    "**Question 2.4.** For each college, what is the absolute difference in the percentage of students enrolled in DSC 10 that are DSC majors from Fall 2021 to Fall 2022? Use `percent_majors_21` and `percent_majors_22` to create an array called `abs_differences`, with the colleges in the same order as they appear in the table above. Make sure the values in your answer are rounded to two decimal places.\n",
    "\n",
    "_Note:_ You _don't_ need to round again."
   ]
  },
  {
   "cell_type": "code",
   "execution_count": 30,
   "metadata": {},
   "outputs": [
    {
     "data": {
      "text/plain": [
       "array([11.1 , 14.52, 17.3 ,  4.28,  1.45, 19.2 , 19.62])"
      ]
     },
     "execution_count": 30,
     "metadata": {},
     "output_type": "execute_result"
    }
   ],
   "source": [
    "abs_differences = abs(percent_majors_22 - percent_majors_21)\n",
    "abs_differences"
   ]
  },
  {
   "cell_type": "code",
   "execution_count": 31,
   "metadata": {
    "deletable": false,
    "editable": false
   },
   "outputs": [
    {
     "data": {
      "text/html": [
       "<p><strong><pre style='display: inline;'>q2_4</pre></strong> passed!</p>"
      ],
      "text/plain": [
       "q2_4 results: All test cases passed!"
      ]
     },
     "execution_count": 31,
     "metadata": {},
     "output_type": "execute_result"
    }
   ],
   "source": [
    "grader.check(\"q2_4\")"
   ]
  },
  {
   "cell_type": "markdown",
   "metadata": {},
   "source": [
    "For your convenience, we repeat the table from the start of the question below.\n",
    "\n",
    "|College|Fall 21 Students|Fall 21 DSC Major Students|Fall 22 Students|Fall 22 DSC Major Students|\n",
    "|---|---|---|---|---|\n",
    "|Seventh|28|19|37|21|\n",
    "|Sixth|62|45|93|54|\n",
    "|Roosevelt|22|9|67|39|\n",
    "|Warren|31|19|61|40|\n",
    "|Marshall|49|26|62|32|\n",
    "|Muir|27|14|38|27|\n",
    "|Revelle|30|12|52|31|\n",
    "\n",
    "\n",
    "\n",
    "**Question 2.5.** You might say that the most consistent college is the one with the smallest absolute difference in the percentage of students enrolled in DSC 10 that are DSC majors across the two years. Find the smallest value in the `abs_differences` array and save it as `smallest_abs_diff`. Referring back to the table, try to figure out which college that is. Assign `most_consistent_college` to the name of that college (as a string), exactly as it's displayed in the table.\n",
    "\n",
    "_Note:_ You can type the name of the college manually."
   ]
  },
  {
   "cell_type": "code",
   "execution_count": 32,
   "metadata": {},
   "outputs": [],
   "source": [
    "smallest_abs_diff = abs_differences.min()\n",
    "most_consistent_college = 'Marshall'"
   ]
  },
  {
   "cell_type": "code",
   "execution_count": 33,
   "metadata": {
    "deletable": false,
    "editable": false
   },
   "outputs": [
    {
     "data": {
      "text/html": [
       "<p><strong><pre style='display: inline;'>q2_5</pre></strong> passed!</p>"
      ],
      "text/plain": [
       "q2_5 results: All test cases passed!"
      ]
     },
     "execution_count": 33,
     "metadata": {},
     "output_type": "execute_result"
    }
   ],
   "source": [
    "grader.check(\"q2_5\")"
   ]
  },
  {
   "cell_type": "markdown",
   "metadata": {},
   "source": [
    "## 3. Analyzing NBA Salaries 🏀"
   ]
  },
  {
   "cell_type": "markdown",
   "metadata": {},
   "source": [
    "The National Basketball Association (NBA) is the premier men's basketball league in North America. The 2022-23 NBA regular season starts on October 18th, just a week after this homework is due!\n",
    "\n",
    "<img src=\"data/nba.jpeg\" width=60%>\n",
    "\n",
    "The file `nba_salaries.csv` in the `data/` directory contains salary information for players who played in the NBA at some point between 1985-2018. See below for a description of all the data we have available. \n",
    "\n",
    "| Column      | Description |\n",
    "| ----------- | ----------- |\n",
    "| `'name'`      | Player name       |\n",
    "| `'season'`   | NBA season        |\n",
    "| `'salary'` | Salary (not adjusted for inflation) |\n",
    "| `'team'` | Player's current team | \n",
    "| `'position'` | Position(s) the player was in throughout his career | \n",
    "| `'draft_pick'` | Overall draft rank (if drafted)|\n",
    "| `'draft_year'` | Year drafted into the NBA (if drafted) |\n",
    "\n",
    "\n",
    "The file `nba_17.csv` in the `data/` directory contains a subset of the data, for only the 2017-18 season.\n",
    "\n",
    "Note that these player salaries are:\n",
    "1. Not adjusted for inflation.\n",
    "2. Not adjusted for the salary cap. The salary cap is the limit that an NBA team can pay its players in total. This limit gradually increased from around \\\\$35M in 2000 to around \\$156M in 2022, so players playing this season are likely making much more than those in our dataset!"
   ]
  },
  {
   "cell_type": "markdown",
   "metadata": {},
   "source": [
    "**Question 3.1.** Read the file containing all salaries from 1985-2018 into a DataFrame called `salaries`. Read the file containing the 2017-18 salaries into a DataFrame called `nba_17`."
   ]
  },
  {
   "cell_type": "code",
   "execution_count": 34,
   "metadata": {},
   "outputs": [],
   "source": [
    "salaries = bpd.read_csv('data/nba_salaries.csv')\n",
    "nba_17 = bpd.read_csv('data/nba_17.csv')"
   ]
  },
  {
   "cell_type": "code",
   "execution_count": 35,
   "metadata": {
    "deletable": false,
    "editable": false
   },
   "outputs": [
    {
     "data": {
      "text/html": [
       "<p><strong><pre style='display: inline;'>q3_1</pre></strong> passed!</p>"
      ],
      "text/plain": [
       "q3_1 results: All test cases passed!"
      ]
     },
     "execution_count": 35,
     "metadata": {},
     "output_type": "execute_result"
    }
   ],
   "source": [
    "grader.check(\"q3_1\")"
   ]
  },
  {
   "cell_type": "markdown",
   "metadata": {},
   "source": [
    "_Note:_ In Questions 3.2 to 3.6, you will use `nba_17`. From that point on, you will use `salaries`."
   ]
  },
  {
   "cell_type": "markdown",
   "metadata": {},
   "source": [
    "**Question 3.2.** Create a new DataFrame, `nba_17_id`, by setting the index of `nba_17` to `'player_id'`. Don't change `nba_17`."
   ]
  },
  {
   "cell_type": "code",
   "execution_count": 36,
   "metadata": {
    "scrolled": true
   },
   "outputs": [
    {
     "data": {
      "text/html": [
       "<div>\n",
       "<style scoped>\n",
       "    .dataframe tbody tr th:only-of-type {\n",
       "        vertical-align: middle;\n",
       "    }\n",
       "\n",
       "    .dataframe tbody tr th {\n",
       "        vertical-align: top;\n",
       "    }\n",
       "\n",
       "    .dataframe thead th {\n",
       "        text-align: right;\n",
       "    }\n",
       "</style>\n",
       "<table border=\"1\" class=\"dataframe\">\n",
       "  <thead>\n",
       "    <tr style=\"text-align: right;\">\n",
       "      <th></th>\n",
       "      <th>name</th>\n",
       "      <th>season</th>\n",
       "      <th>salary</th>\n",
       "      <th>team</th>\n",
       "      <th>position</th>\n",
       "      <th>draft_pick</th>\n",
       "      <th>draft_year</th>\n",
       "    </tr>\n",
       "    <tr>\n",
       "      <th>player_id</th>\n",
       "      <th></th>\n",
       "      <th></th>\n",
       "      <th></th>\n",
       "      <th></th>\n",
       "      <th></th>\n",
       "      <th></th>\n",
       "      <th></th>\n",
       "    </tr>\n",
       "  </thead>\n",
       "  <tbody>\n",
       "    <tr>\n",
       "      <th>abrinal01</th>\n",
       "      <td>Alex Abrines</td>\n",
       "      <td>2017-18</td>\n",
       "      <td>5725000</td>\n",
       "      <td>Oklahoma City Thunder</td>\n",
       "      <td>Shooting Guard</td>\n",
       "      <td>32nd overall</td>\n",
       "      <td>2013.0</td>\n",
       "    </tr>\n",
       "    <tr>\n",
       "      <th>acyqu01</th>\n",
       "      <td>Quincy Acy</td>\n",
       "      <td>2017-18</td>\n",
       "      <td>1709538</td>\n",
       "      <td>Brooklyn Nets</td>\n",
       "      <td>Power Forward and Small Forward</td>\n",
       "      <td>37th overall</td>\n",
       "      <td>2012.0</td>\n",
       "    </tr>\n",
       "    <tr>\n",
       "      <th>adamsst01</th>\n",
       "      <td>Steven Adams</td>\n",
       "      <td>2017-18</td>\n",
       "      <td>22471910</td>\n",
       "      <td>Oklahoma City Thunder</td>\n",
       "      <td>Center</td>\n",
       "      <td>12th overall</td>\n",
       "      <td>2013.0</td>\n",
       "    </tr>\n",
       "    <tr>\n",
       "      <th>adebaba01</th>\n",
       "      <td>Bam Adebayo</td>\n",
       "      <td>2017-18</td>\n",
       "      <td>2490360</td>\n",
       "      <td>Miami Heat</td>\n",
       "      <td>Center</td>\n",
       "      <td>14th overall</td>\n",
       "      <td>2017.0</td>\n",
       "    </tr>\n",
       "    <tr>\n",
       "      <th>afflaar01</th>\n",
       "      <td>Arron Afflalo</td>\n",
       "      <td>2017-18</td>\n",
       "      <td>1500000</td>\n",
       "      <td>Sacramento Kings</td>\n",
       "      <td>Shooting Guard and Small Forward</td>\n",
       "      <td>27th overall</td>\n",
       "      <td>2007.0</td>\n",
       "    </tr>\n",
       "    <tr>\n",
       "      <th>...</th>\n",
       "      <td>...</td>\n",
       "      <td>...</td>\n",
       "      <td>...</td>\n",
       "      <td>...</td>\n",
       "      <td>...</td>\n",
       "      <td>...</td>\n",
       "      <td>...</td>\n",
       "    </tr>\n",
       "    <tr>\n",
       "      <th>zelleco01</th>\n",
       "      <td>Cody Zeller</td>\n",
       "      <td>2017-18</td>\n",
       "      <td>12584270</td>\n",
       "      <td>Charlotte Hornets</td>\n",
       "      <td>Center</td>\n",
       "      <td>4th overall</td>\n",
       "      <td>2013.0</td>\n",
       "    </tr>\n",
       "    <tr>\n",
       "      <th>zellety01</th>\n",
       "      <td>Tyler Zeller</td>\n",
       "      <td>2017-18</td>\n",
       "      <td>1709538</td>\n",
       "      <td>Milwaukee Bucks</td>\n",
       "      <td>Center</td>\n",
       "      <td>17th overall</td>\n",
       "      <td>2012.0</td>\n",
       "    </tr>\n",
       "    <tr>\n",
       "      <th>zipsepa01</th>\n",
       "      <td>Paul Zipser</td>\n",
       "      <td>2017-18</td>\n",
       "      <td>1312611</td>\n",
       "      <td>Chicago Bulls</td>\n",
       "      <td>Small Forward</td>\n",
       "      <td>48th overall</td>\n",
       "      <td>2016.0</td>\n",
       "    </tr>\n",
       "    <tr>\n",
       "      <th>zizican01</th>\n",
       "      <td>Ante Zizic</td>\n",
       "      <td>2017-18</td>\n",
       "      <td>1645200</td>\n",
       "      <td>Cleveland Cavaliers</td>\n",
       "      <td>Center</td>\n",
       "      <td>23rd overall</td>\n",
       "      <td>2016.0</td>\n",
       "    </tr>\n",
       "    <tr>\n",
       "      <th>zubaciv01</th>\n",
       "      <td>Ivica Zubac</td>\n",
       "      <td>2017-18</td>\n",
       "      <td>1312611</td>\n",
       "      <td>Los Angeles Lakers</td>\n",
       "      <td>Center</td>\n",
       "      <td>32nd overall</td>\n",
       "      <td>2016.0</td>\n",
       "    </tr>\n",
       "  </tbody>\n",
       "</table>\n",
       "<p>551 rows × 7 columns</p>\n",
       "</div>"
      ],
      "text/plain": [
       "                    name   season    salary                   team  \\\n",
       "player_id                                                            \n",
       "abrinal01   Alex Abrines  2017-18   5725000  Oklahoma City Thunder   \n",
       "acyqu01       Quincy Acy  2017-18   1709538          Brooklyn Nets   \n",
       "adamsst01   Steven Adams  2017-18  22471910  Oklahoma City Thunder   \n",
       "adebaba01    Bam Adebayo  2017-18   2490360             Miami Heat   \n",
       "afflaar01  Arron Afflalo  2017-18   1500000       Sacramento Kings   \n",
       "...                  ...      ...       ...                    ...   \n",
       "zelleco01    Cody Zeller  2017-18  12584270      Charlotte Hornets   \n",
       "zellety01   Tyler Zeller  2017-18   1709538        Milwaukee Bucks   \n",
       "zipsepa01    Paul Zipser  2017-18   1312611          Chicago Bulls   \n",
       "zizican01     Ante Zizic  2017-18   1645200    Cleveland Cavaliers   \n",
       "zubaciv01    Ivica Zubac  2017-18   1312611     Los Angeles Lakers   \n",
       "\n",
       "                                   position    draft_pick  draft_year  \n",
       "player_id                                                              \n",
       "abrinal01                    Shooting Guard  32nd overall      2013.0  \n",
       "acyqu01     Power Forward and Small Forward  37th overall      2012.0  \n",
       "adamsst01                            Center  12th overall      2013.0  \n",
       "adebaba01                            Center  14th overall      2017.0  \n",
       "afflaar01  Shooting Guard and Small Forward  27th overall      2007.0  \n",
       "...                                     ...           ...         ...  \n",
       "zelleco01                            Center   4th overall      2013.0  \n",
       "zellety01                            Center  17th overall      2012.0  \n",
       "zipsepa01                     Small Forward  48th overall      2016.0  \n",
       "zizican01                            Center  23rd overall      2016.0  \n",
       "zubaciv01                            Center  32nd overall      2016.0  \n",
       "\n",
       "[551 rows x 7 columns]"
      ]
     },
     "execution_count": 36,
     "metadata": {},
     "output_type": "execute_result"
    }
   ],
   "source": [
    "nba_17_id = nba_17.set_index('player_id')\n",
    "nba_17_id"
   ]
  },
  {
   "cell_type": "code",
   "execution_count": 37,
   "metadata": {
    "deletable": false,
    "editable": false
   },
   "outputs": [
    {
     "data": {
      "text/html": [
       "<p><strong><pre style='display: inline;'>q3_2</pre></strong> passed!</p>"
      ],
      "text/plain": [
       "q3_2 results: All test cases passed!"
      ]
     },
     "execution_count": 37,
     "metadata": {},
     "output_type": "execute_result"
    }
   ],
   "source": [
    "grader.check(\"q3_2\")"
   ]
  },
  {
   "cell_type": "markdown",
   "metadata": {},
   "source": [
    "You should think about why we've chosen to set the index to `'player_id'` rather than `'name'`."
   ]
  },
  {
   "cell_type": "markdown",
   "metadata": {},
   "source": [
    "**Question 3.3.** In the 2017-18 season, Stephen Curry of the Golden State Warriors set a record for the most three-pointers made in an NBA Finals game. Using DataFrame operations, assign `curry_17` to his salary during the 2017-18 season. The `'player_id'` for Stephen Curry is `'curryst01'`."
   ]
  },
  {
   "cell_type": "code",
   "execution_count": 38,
   "metadata": {},
   "outputs": [
    {
     "data": {
      "text/plain": [
       "34682550"
      ]
     },
     "execution_count": 38,
     "metadata": {},
     "output_type": "execute_result"
    }
   ],
   "source": [
    "curry_17 = nba_17_id.loc['curryst01'].get('salary')\n",
    "curry_17"
   ]
  },
  {
   "cell_type": "code",
   "execution_count": 39,
   "metadata": {
    "deletable": false,
    "editable": false
   },
   "outputs": [
    {
     "data": {
      "text/html": [
       "<p><strong><pre style='display: inline;'>q3_3</pre></strong> passed!</p>"
      ],
      "text/plain": [
       "q3_3 results: All test cases passed!"
      ]
     },
     "execution_count": 39,
     "metadata": {},
     "output_type": "execute_result"
    }
   ],
   "source": [
    "grader.check(\"q3_3\")"
   ]
  },
  {
   "cell_type": "markdown",
   "metadata": {},
   "source": [
    "**Question 3.4.** Assign `sixth_highest_salary` to the sixth highest salary during the 2017-18 season. Assign `sixth_player_name` to the name of this player.\n",
    "\n",
    "Don't type in the salary or player name by hand; get Python to extract this information for you."
   ]
  },
  {
   "cell_type": "code",
   "execution_count": 40,
   "metadata": {
    "scrolled": true
   },
   "outputs": [
    {
     "name": "stdout",
     "output_type": "stream",
     "text": [
      "Player: Kyle Lowry\n",
      "Salary: 28703704\n"
     ]
    }
   ],
   "source": [
    "sixth_highest_salary = nba_17_id.sort_values('salary', ascending=False).get('salary').iloc[5]\n",
    "sixth_player_name = nba_17_id.sort_values('salary', ascending=False).get('name').iloc[5]\n",
    "\n",
    "#print(nba_17_id.sort_values('salary', ascending=False).iloc[0:7])\n",
    "\n",
    "# Don't change the lines below.\n",
    "print('Player:', sixth_player_name)\n",
    "print('Salary:', sixth_highest_salary)"
   ]
  },
  {
   "cell_type": "code",
   "execution_count": 41,
   "metadata": {
    "deletable": false,
    "editable": false
   },
   "outputs": [
    {
     "data": {
      "text/html": [
       "<p><strong><pre style='display: inline;'>q3_4</pre></strong> passed!</p>"
      ],
      "text/plain": [
       "q3_4 results: All test cases passed!"
      ]
     },
     "execution_count": 41,
     "metadata": {},
     "output_type": "execute_result"
    }
   ],
   "source": [
    "grader.check(\"q3_4\")"
   ]
  },
  {
   "cell_type": "markdown",
   "metadata": {},
   "source": [
    "**Question 3.5.** Suppose we want to analyze the number of years of NBA experience for each player from the 2017-18 NBA season. We will define a player's **longevity** as follows: \n",
    "\n",
    "$$\\text{longevity} = 2018 - \\text{draft_year}$$\n",
    "\n",
    "Starting with the `nba_17_id` DataFrame, create a new DataFrame called `longevity` that has an additional column called `'years_played'` containing the longevity of each NBA player as a `float`, sorted so that the players with the most years played are listed first.\n",
    "\n",
    "_Note:_ For players who were not drafted, their `draft_year` entry will be `NaN`, so their longevity will be recorded as `NaN`, which is okay! `NaN` stands for \"not a number.\""
   ]
  },
  {
   "cell_type": "code",
   "execution_count": 42,
   "metadata": {},
   "outputs": [
    {
     "data": {
      "text/html": [
       "<div>\n",
       "<style scoped>\n",
       "    .dataframe tbody tr th:only-of-type {\n",
       "        vertical-align: middle;\n",
       "    }\n",
       "\n",
       "    .dataframe tbody tr th {\n",
       "        vertical-align: top;\n",
       "    }\n",
       "\n",
       "    .dataframe thead th {\n",
       "        text-align: right;\n",
       "    }\n",
       "</style>\n",
       "<table border=\"1\" class=\"dataframe\">\n",
       "  <thead>\n",
       "    <tr style=\"text-align: right;\">\n",
       "      <th></th>\n",
       "      <th>name</th>\n",
       "      <th>season</th>\n",
       "      <th>salary</th>\n",
       "      <th>team</th>\n",
       "      <th>position</th>\n",
       "      <th>draft_pick</th>\n",
       "      <th>draft_year</th>\n",
       "      <th>years_played</th>\n",
       "    </tr>\n",
       "    <tr>\n",
       "      <th>player_id</th>\n",
       "      <th></th>\n",
       "      <th></th>\n",
       "      <th></th>\n",
       "      <th></th>\n",
       "      <th></th>\n",
       "      <th></th>\n",
       "      <th></th>\n",
       "      <th></th>\n",
       "    </tr>\n",
       "  </thead>\n",
       "  <tbody>\n",
       "    <tr>\n",
       "      <th>abrinal01</th>\n",
       "      <td>Alex Abrines</td>\n",
       "      <td>2017-18</td>\n",
       "      <td>5725000</td>\n",
       "      <td>Oklahoma City Thunder</td>\n",
       "      <td>Shooting Guard</td>\n",
       "      <td>32nd overall</td>\n",
       "      <td>2013.0</td>\n",
       "      <td>5.0</td>\n",
       "    </tr>\n",
       "    <tr>\n",
       "      <th>acyqu01</th>\n",
       "      <td>Quincy Acy</td>\n",
       "      <td>2017-18</td>\n",
       "      <td>1709538</td>\n",
       "      <td>Brooklyn Nets</td>\n",
       "      <td>Power Forward and Small Forward</td>\n",
       "      <td>37th overall</td>\n",
       "      <td>2012.0</td>\n",
       "      <td>6.0</td>\n",
       "    </tr>\n",
       "    <tr>\n",
       "      <th>adamsst01</th>\n",
       "      <td>Steven Adams</td>\n",
       "      <td>2017-18</td>\n",
       "      <td>22471910</td>\n",
       "      <td>Oklahoma City Thunder</td>\n",
       "      <td>Center</td>\n",
       "      <td>12th overall</td>\n",
       "      <td>2013.0</td>\n",
       "      <td>5.0</td>\n",
       "    </tr>\n",
       "    <tr>\n",
       "      <th>adebaba01</th>\n",
       "      <td>Bam Adebayo</td>\n",
       "      <td>2017-18</td>\n",
       "      <td>2490360</td>\n",
       "      <td>Miami Heat</td>\n",
       "      <td>Center</td>\n",
       "      <td>14th overall</td>\n",
       "      <td>2017.0</td>\n",
       "      <td>1.0</td>\n",
       "    </tr>\n",
       "    <tr>\n",
       "      <th>afflaar01</th>\n",
       "      <td>Arron Afflalo</td>\n",
       "      <td>2017-18</td>\n",
       "      <td>1500000</td>\n",
       "      <td>Sacramento Kings</td>\n",
       "      <td>Shooting Guard and Small Forward</td>\n",
       "      <td>27th overall</td>\n",
       "      <td>2007.0</td>\n",
       "      <td>11.0</td>\n",
       "    </tr>\n",
       "    <tr>\n",
       "      <th>...</th>\n",
       "      <td>...</td>\n",
       "      <td>...</td>\n",
       "      <td>...</td>\n",
       "      <td>...</td>\n",
       "      <td>...</td>\n",
       "      <td>...</td>\n",
       "      <td>...</td>\n",
       "      <td>...</td>\n",
       "    </tr>\n",
       "    <tr>\n",
       "      <th>zelleco01</th>\n",
       "      <td>Cody Zeller</td>\n",
       "      <td>2017-18</td>\n",
       "      <td>12584270</td>\n",
       "      <td>Charlotte Hornets</td>\n",
       "      <td>Center</td>\n",
       "      <td>4th overall</td>\n",
       "      <td>2013.0</td>\n",
       "      <td>5.0</td>\n",
       "    </tr>\n",
       "    <tr>\n",
       "      <th>zellety01</th>\n",
       "      <td>Tyler Zeller</td>\n",
       "      <td>2017-18</td>\n",
       "      <td>1709538</td>\n",
       "      <td>Milwaukee Bucks</td>\n",
       "      <td>Center</td>\n",
       "      <td>17th overall</td>\n",
       "      <td>2012.0</td>\n",
       "      <td>6.0</td>\n",
       "    </tr>\n",
       "    <tr>\n",
       "      <th>zipsepa01</th>\n",
       "      <td>Paul Zipser</td>\n",
       "      <td>2017-18</td>\n",
       "      <td>1312611</td>\n",
       "      <td>Chicago Bulls</td>\n",
       "      <td>Small Forward</td>\n",
       "      <td>48th overall</td>\n",
       "      <td>2016.0</td>\n",
       "      <td>2.0</td>\n",
       "    </tr>\n",
       "    <tr>\n",
       "      <th>zizican01</th>\n",
       "      <td>Ante Zizic</td>\n",
       "      <td>2017-18</td>\n",
       "      <td>1645200</td>\n",
       "      <td>Cleveland Cavaliers</td>\n",
       "      <td>Center</td>\n",
       "      <td>23rd overall</td>\n",
       "      <td>2016.0</td>\n",
       "      <td>2.0</td>\n",
       "    </tr>\n",
       "    <tr>\n",
       "      <th>zubaciv01</th>\n",
       "      <td>Ivica Zubac</td>\n",
       "      <td>2017-18</td>\n",
       "      <td>1312611</td>\n",
       "      <td>Los Angeles Lakers</td>\n",
       "      <td>Center</td>\n",
       "      <td>32nd overall</td>\n",
       "      <td>2016.0</td>\n",
       "      <td>2.0</td>\n",
       "    </tr>\n",
       "  </tbody>\n",
       "</table>\n",
       "<p>551 rows × 8 columns</p>\n",
       "</div>"
      ],
      "text/plain": [
       "                    name   season    salary                   team  \\\n",
       "player_id                                                            \n",
       "abrinal01   Alex Abrines  2017-18   5725000  Oklahoma City Thunder   \n",
       "acyqu01       Quincy Acy  2017-18   1709538          Brooklyn Nets   \n",
       "adamsst01   Steven Adams  2017-18  22471910  Oklahoma City Thunder   \n",
       "adebaba01    Bam Adebayo  2017-18   2490360             Miami Heat   \n",
       "afflaar01  Arron Afflalo  2017-18   1500000       Sacramento Kings   \n",
       "...                  ...      ...       ...                    ...   \n",
       "zelleco01    Cody Zeller  2017-18  12584270      Charlotte Hornets   \n",
       "zellety01   Tyler Zeller  2017-18   1709538        Milwaukee Bucks   \n",
       "zipsepa01    Paul Zipser  2017-18   1312611          Chicago Bulls   \n",
       "zizican01     Ante Zizic  2017-18   1645200    Cleveland Cavaliers   \n",
       "zubaciv01    Ivica Zubac  2017-18   1312611     Los Angeles Lakers   \n",
       "\n",
       "                                   position    draft_pick  draft_year  \\\n",
       "player_id                                                               \n",
       "abrinal01                    Shooting Guard  32nd overall      2013.0   \n",
       "acyqu01     Power Forward and Small Forward  37th overall      2012.0   \n",
       "adamsst01                            Center  12th overall      2013.0   \n",
       "adebaba01                            Center  14th overall      2017.0   \n",
       "afflaar01  Shooting Guard and Small Forward  27th overall      2007.0   \n",
       "...                                     ...           ...         ...   \n",
       "zelleco01                            Center   4th overall      2013.0   \n",
       "zellety01                            Center  17th overall      2012.0   \n",
       "zipsepa01                     Small Forward  48th overall      2016.0   \n",
       "zizican01                            Center  23rd overall      2016.0   \n",
       "zubaciv01                            Center  32nd overall      2016.0   \n",
       "\n",
       "           years_played  \n",
       "player_id                \n",
       "abrinal01           5.0  \n",
       "acyqu01             6.0  \n",
       "adamsst01           5.0  \n",
       "adebaba01           1.0  \n",
       "afflaar01          11.0  \n",
       "...                 ...  \n",
       "zelleco01           5.0  \n",
       "zellety01           6.0  \n",
       "zipsepa01           2.0  \n",
       "zizican01           2.0  \n",
       "zubaciv01           2.0  \n",
       "\n",
       "[551 rows x 8 columns]"
      ]
     },
     "execution_count": 42,
     "metadata": {},
     "output_type": "execute_result"
    }
   ],
   "source": [
    "longevity = bpd.DataFrame.assign(nba_17_id, years_played = 2018 - nba_17_id.get('draft_year'))\n",
    "#help(bpd.DataFrame)\n",
    "longevity"
   ]
  },
  {
   "cell_type": "code",
   "execution_count": 43,
   "metadata": {
    "deletable": false,
    "editable": false
   },
   "outputs": [
    {
     "data": {
      "text/html": [
       "<p><strong><pre style='display: inline;'>q3_5</pre></strong> passed!</p>"
      ],
      "text/plain": [
       "q3_5 results: All test cases passed!"
      ]
     },
     "execution_count": 43,
     "metadata": {},
     "output_type": "execute_result"
    }
   ],
   "source": [
    "grader.check(\"q3_5\")"
   ]
  },
  {
   "cell_type": "markdown",
   "metadata": {},
   "source": [
    "**Question 3.6.** The 2017-18 NBA Finals featured the Golden State Warriors and Cleveland Cavaliers in their fourth straight Finals matchup. What proportion of players on the 2017-18 Warriors and Cavaliers rosters earned at least \\$15M in salary? Assign this value to `prop_15m`.\n",
    "\n",
    "*Hint:* First make a combined roster with all players from both teams, and then find the required proportion."
   ]
  },
  {
   "cell_type": "code",
   "execution_count": 44,
   "metadata": {},
   "outputs": [
    {
     "data": {
      "text/plain": [
       "0.25"
      ]
     },
     "execution_count": 44,
     "metadata": {},
     "output_type": "execute_result"
    }
   ],
   "source": [
    "team_rosters = nba_17_id[nba_17_id.get('team').str.contains('Golden State Warriors') | nba_17_id.get('team').str.contains('Cleveland Cavaliers')]\n",
    "prop_15m = team_rosters[team_rosters.get('salary') >= 15000000].shape[0] / team_rosters.shape[0]\n",
    "prop_15m"
   ]
  },
  {
   "cell_type": "code",
   "execution_count": 45,
   "metadata": {
    "deletable": false,
    "editable": false
   },
   "outputs": [
    {
     "data": {
      "text/html": [
       "<p><strong><pre style='display: inline;'>q3_6</pre></strong> passed!</p>"
      ],
      "text/plain": [
       "q3_6 results: All test cases passed!"
      ]
     },
     "execution_count": 45,
     "metadata": {},
     "output_type": "execute_result"
    }
   ],
   "source": [
    "grader.check(\"q3_6\")"
   ]
  },
  {
   "cell_type": "markdown",
   "metadata": {},
   "source": [
    "For the remainder of this section, we will use the full `salaries` DataFrame.\n",
    "\n",
    "**Question 3.7.** Among all the salaries for players on the Atlanta Hawks from 1985-2018, what is the median salary? Assign this value to `hawks_median`."
   ]
  },
  {
   "cell_type": "code",
   "execution_count": 46,
   "metadata": {},
   "outputs": [
    {
     "data": {
      "text/plain": [
       "1999380.0"
      ]
     },
     "execution_count": 46,
     "metadata": {},
     "output_type": "execute_result"
    }
   ],
   "source": [
    "hawks = salaries[salaries.get('team') == 'Atlanta Hawks']\n",
    "#print(hawks.shape[0])\n",
    "hawks_median = (hawks.get('salary').iloc[int(hawks.shape[0]/2)-1] + hawks.get('salary').iloc[int(hawks.shape[0]/2)]) / 2\n",
    "hawks_median"
   ]
  },
  {
   "cell_type": "code",
   "execution_count": 47,
   "metadata": {
    "deletable": false,
    "editable": false
   },
   "outputs": [
    {
     "data": {
      "text/html": [
       "<p><strong><pre style='display: inline;'>q3_7</pre></strong> passed!</p>"
      ],
      "text/plain": [
       "q3_7 results: All test cases passed!"
      ]
     },
     "execution_count": 47,
     "metadata": {},
     "output_type": "execute_result"
    }
   ],
   "source": [
    "grader.check(\"q3_7\")"
   ]
  },
  {
   "cell_type": "markdown",
   "metadata": {},
   "source": [
    "**Question 3.8.** Assign `highest_salary_tm` to the team in `salaries` that has the highest mean player salary. \n",
    "\n",
    "*Hint*: Our solution for this question used only one line of code (thanks, `groupby`)!"
   ]
  },
  {
   "cell_type": "code",
   "execution_count": 48,
   "metadata": {},
   "outputs": [
    {
     "data": {
      "text/plain": [
       "'Brooklyn Nets'"
      ]
     },
     "execution_count": 48,
     "metadata": {},
     "output_type": "execute_result"
    }
   ],
   "source": [
    "highest_salary_tm = salaries.groupby('team').mean().sort_values('salary', ascending=False).get('salary').index[0]\n",
    "highest_salary_tm"
   ]
  },
  {
   "cell_type": "code",
   "execution_count": 49,
   "metadata": {
    "deletable": false,
    "editable": false
   },
   "outputs": [
    {
     "data": {
      "text/html": [
       "<p><strong><pre style='display: inline;'>q3_8</pre></strong> passed!</p>"
      ],
      "text/plain": [
       "q3_8 results: All test cases passed!"
      ]
     },
     "execution_count": 49,
     "metadata": {},
     "output_type": "execute_result"
    }
   ],
   "source": [
    "grader.check(\"q3_8\")"
   ]
  },
  {
   "cell_type": "markdown",
   "metadata": {},
   "source": [
    "**Question 3.9.** In the NBA, there are five positions: center, power forward, small forward, point guard, and shooting guard. However, more recently, positions have become less important and players can fall into multiple roles. For example, LeBron James usually plays as a small forward, but played as a point guard in the 2020-21 season, and has played as other positions before (look [here](https://www.statmuse.com/nba/ask/what-position-is-lebron-playing-this-season) for a history).\n",
    "\n",
    "Of all of the players from 1985-2018, we want to examine only the power forwards. Note that we are only considering _seasons_ in which the player was playing power forward. For example, if a player played power forward in 1999 and shooting guard in 2000, we would only consider their 1999 season. Assign `pw_forwards` to a DataFrame that includes all the power forwards from 1985-2018, sorted so the highest salaries appear first.\n",
    "\n",
    "*Hints:*\n",
    "- You may want to use `.str.contains`; the *Boolean Indexing* section of the [DSC 10 Reference Sheet](https://drive.google.com/file/d/1mQApk9Ovdi-QVqMgnNcq5dZcWucUKoG-/view) shows you how to use it. Why are we using `.str.contains` and not simply checking for equality?\n",
    "\n",
    "- The positions are strings, so they may have inconsistencies in how they're capitalized. If we want to include `'power forward'`, `'Power Forward'`, `'PoWeR FoRwaRD'`, and any other variations in capitalization, what operation should we call on the positions **first**? (You may end up using `.str` twice!)\n",
    "\n",
    "- If you do this correctly, you'll see the same player appear twice in the first three rows! 🐐"
   ]
  },
  {
   "cell_type": "code",
   "execution_count": 50,
   "metadata": {
    "scrolled": true
   },
   "outputs": [
    {
     "data": {
      "text/html": [
       "<div>\n",
       "<style scoped>\n",
       "    .dataframe tbody tr th:only-of-type {\n",
       "        vertical-align: middle;\n",
       "    }\n",
       "\n",
       "    .dataframe tbody tr th {\n",
       "        vertical-align: top;\n",
       "    }\n",
       "\n",
       "    .dataframe thead th {\n",
       "        text-align: right;\n",
       "    }\n",
       "</style>\n",
       "<table border=\"1\" class=\"dataframe\">\n",
       "  <thead>\n",
       "    <tr style=\"text-align: right;\">\n",
       "      <th></th>\n",
       "      <th>player_id</th>\n",
       "      <th>name</th>\n",
       "      <th>season</th>\n",
       "      <th>salary</th>\n",
       "      <th>team</th>\n",
       "      <th>position</th>\n",
       "      <th>draft_pick</th>\n",
       "      <th>draft_year</th>\n",
       "    </tr>\n",
       "  </thead>\n",
       "  <tbody>\n",
       "    <tr>\n",
       "      <th>6315</th>\n",
       "      <td>jamesle01</td>\n",
       "      <td>LeBron James</td>\n",
       "      <td>2017-18</td>\n",
       "      <td>33285709</td>\n",
       "      <td>Cleveland Cavaliers</td>\n",
       "      <td>Shooting Guard and Small Forward and Power For...</td>\n",
       "      <td>1st overall</td>\n",
       "      <td>2003.0</td>\n",
       "    </tr>\n",
       "    <tr>\n",
       "      <th>8731</th>\n",
       "      <td>millspa01</td>\n",
       "      <td>Paul Millsap</td>\n",
       "      <td>2017-18</td>\n",
       "      <td>31269231</td>\n",
       "      <td>Denver Nuggets</td>\n",
       "      <td>Power Forward</td>\n",
       "      <td>47th overall</td>\n",
       "      <td>2006.0</td>\n",
       "    </tr>\n",
       "    <tr>\n",
       "      <th>6314</th>\n",
       "      <td>jamesle01</td>\n",
       "      <td>LeBron James</td>\n",
       "      <td>2016-17</td>\n",
       "      <td>30963450</td>\n",
       "      <td>Cleveland Cavaliers</td>\n",
       "      <td>Shooting Guard and Small Forward and Power For...</td>\n",
       "      <td>1st overall</td>\n",
       "      <td>2003.0</td>\n",
       "    </tr>\n",
       "    <tr>\n",
       "      <th>5487</th>\n",
       "      <td>haywago01</td>\n",
       "      <td>Gordon Hayward</td>\n",
       "      <td>2017-18</td>\n",
       "      <td>29727900</td>\n",
       "      <td>Boston Celtics</td>\n",
       "      <td>Power Forward and Small Forward</td>\n",
       "      <td>9th overall</td>\n",
       "      <td>2010.0</td>\n",
       "    </tr>\n",
       "    <tr>\n",
       "      <th>5029</th>\n",
       "      <td>griffbl01</td>\n",
       "      <td>Blake Griffin</td>\n",
       "      <td>2017-18</td>\n",
       "      <td>29727900</td>\n",
       "      <td>Detroit Pistons</td>\n",
       "      <td>Power Forward</td>\n",
       "      <td>1st overall</td>\n",
       "      <td>2009.0</td>\n",
       "    </tr>\n",
       "    <tr>\n",
       "      <th>...</th>\n",
       "      <td>...</td>\n",
       "      <td>...</td>\n",
       "      <td>...</td>\n",
       "      <td>...</td>\n",
       "      <td>...</td>\n",
       "      <td>...</td>\n",
       "      <td>...</td>\n",
       "      <td>...</td>\n",
       "    </tr>\n",
       "    <tr>\n",
       "      <th>12775</th>\n",
       "      <td>uthofja01</td>\n",
       "      <td>Jarrod Uthoff</td>\n",
       "      <td>2017-18</td>\n",
       "      <td>7416</td>\n",
       "      <td>Indiana Pacers</td>\n",
       "      <td>Power Forward</td>\n",
       "      <td>NaN</td>\n",
       "      <td>NaN</td>\n",
       "    </tr>\n",
       "    <tr>\n",
       "      <th>13711</th>\n",
       "      <td>willilo01</td>\n",
       "      <td>Lorenzo Williams</td>\n",
       "      <td>1992-93</td>\n",
       "      <td>7000</td>\n",
       "      <td>Charlotte Hornets</td>\n",
       "      <td>Power Forward and Center</td>\n",
       "      <td>NaN</td>\n",
       "      <td>NaN</td>\n",
       "    </tr>\n",
       "    <tr>\n",
       "      <th>14064</th>\n",
       "      <td>wrighho02</td>\n",
       "      <td>Howard Wright</td>\n",
       "      <td>1992-93</td>\n",
       "      <td>5000</td>\n",
       "      <td>Orlando Magic</td>\n",
       "      <td>Power Forward</td>\n",
       "      <td>NaN</td>\n",
       "      <td>NaN</td>\n",
       "    </tr>\n",
       "    <tr>\n",
       "      <th>6377</th>\n",
       "      <td>jeffeam01</td>\n",
       "      <td>Amile Jefferson</td>\n",
       "      <td>2017-18</td>\n",
       "      <td>4608</td>\n",
       "      <td>Minnesota Timberwolves</td>\n",
       "      <td>Power Forward</td>\n",
       "      <td>NaN</td>\n",
       "      <td>NaN</td>\n",
       "    </tr>\n",
       "    <tr>\n",
       "      <th>4716</th>\n",
       "      <td>goodrst01</td>\n",
       "      <td>Steve Goodrich</td>\n",
       "      <td>1999-00</td>\n",
       "      <td>4529</td>\n",
       "      <td>Philadelphia 76ers</td>\n",
       "      <td>Power Forward and Small Forward</td>\n",
       "      <td>NaN</td>\n",
       "      <td>NaN</td>\n",
       "    </tr>\n",
       "  </tbody>\n",
       "</table>\n",
       "<p>4968 rows × 8 columns</p>\n",
       "</div>"
      ],
      "text/plain": [
       "       player_id              name   season    salary                    team  \\\n",
       "6315   jamesle01      LeBron James  2017-18  33285709     Cleveland Cavaliers   \n",
       "8731   millspa01      Paul Millsap  2017-18  31269231          Denver Nuggets   \n",
       "6314   jamesle01      LeBron James  2016-17  30963450     Cleveland Cavaliers   \n",
       "5487   haywago01    Gordon Hayward  2017-18  29727900          Boston Celtics   \n",
       "5029   griffbl01     Blake Griffin  2017-18  29727900         Detroit Pistons   \n",
       "...          ...               ...      ...       ...                     ...   \n",
       "12775  uthofja01     Jarrod Uthoff  2017-18      7416          Indiana Pacers   \n",
       "13711  willilo01  Lorenzo Williams  1992-93      7000       Charlotte Hornets   \n",
       "14064  wrighho02     Howard Wright  1992-93      5000           Orlando Magic   \n",
       "6377   jeffeam01   Amile Jefferson  2017-18      4608  Minnesota Timberwolves   \n",
       "4716   goodrst01    Steve Goodrich  1999-00      4529      Philadelphia 76ers   \n",
       "\n",
       "                                                position    draft_pick  \\\n",
       "6315   Shooting Guard and Small Forward and Power For...   1st overall   \n",
       "8731                                       Power Forward  47th overall   \n",
       "6314   Shooting Guard and Small Forward and Power For...   1st overall   \n",
       "5487                     Power Forward and Small Forward   9th overall   \n",
       "5029                                       Power Forward   1st overall   \n",
       "...                                                  ...           ...   \n",
       "12775                                      Power Forward           NaN   \n",
       "13711                           Power Forward and Center           NaN   \n",
       "14064                                      Power Forward           NaN   \n",
       "6377                                       Power Forward           NaN   \n",
       "4716                     Power Forward and Small Forward           NaN   \n",
       "\n",
       "       draft_year  \n",
       "6315       2003.0  \n",
       "8731       2006.0  \n",
       "6314       2003.0  \n",
       "5487       2010.0  \n",
       "5029       2009.0  \n",
       "...           ...  \n",
       "12775         NaN  \n",
       "13711         NaN  \n",
       "14064         NaN  \n",
       "6377          NaN  \n",
       "4716          NaN  \n",
       "\n",
       "[4968 rows x 8 columns]"
      ]
     },
     "execution_count": 50,
     "metadata": {},
     "output_type": "execute_result"
    }
   ],
   "source": [
    "# For a multi-step problem like this one, it's helpful to define intermediate variables. \n",
    "# Feel free to do that here, or for any problem!\n",
    "unsorted_pw_forwards = salaries[salaries.get('position').str.lower().str.contains('power forward')]\n",
    "pw_forwards = unsorted_pw_forwards.sort_values('salary', ascending=False)\n",
    "pw_forwards"
   ]
  },
  {
   "cell_type": "code",
   "execution_count": 51,
   "metadata": {
    "deletable": false,
    "editable": false
   },
   "outputs": [
    {
     "data": {
      "text/html": [
       "<p><strong><pre style='display: inline;'>q3_9</pre></strong> passed!</p>"
      ],
      "text/plain": [
       "q3_9 results: All test cases passed!"
      ]
     },
     "execution_count": 51,
     "metadata": {},
     "output_type": "execute_result"
    }
   ],
   "source": [
    "grader.check(\"q3_9\")"
   ]
  },
  {
   "cell_type": "markdown",
   "metadata": {},
   "source": [
    "## 4. Are You Scared Yet? Analyzing Horror Movies 🎃😱"
   ]
  },
  {
   "cell_type": "markdown",
   "metadata": {},
   "source": [
    "<center><img src=\"./data/hocus_pocus.jpg\" width = 400/></center>\n",
    "\n",
    "Spooky season is upon us! In honor of All Hallows' Eve, we've provided a file in the `data/` directory called `horror_movies.csv` that contains 464 movies, each with 10 columns (see the table below) that we'll use to generate some insights about the state of horror movies in recent years. \n",
    "\n",
    "| Column      | Description |\n",
    "| ----------- | ----------- |\n",
    "| `'Title'`      | Title of the movie       |\n",
    "| `'Country'`   | Country the movie was originally released in        |\n",
    "| `'Maturity Rating'` | A rating given to the movie by the Motion Picture Association |\n",
    "| `'Review Rating'` | The IMDB rating of the film | \n",
    "| `'Language'` | The language the movie is in | \n",
    "| `'Filming Locations'` | The location in which the movie was filmed |\n",
    "| `'Budget'` | The total amount spent on the movie |\n",
    "| `'Release Month'` | The month the movie was released |\n",
    "| `'Release Day'` | The day the movie was released |\n",
    "| `'Run Time'` | The length of the film in minutes |"
   ]
  },
  {
   "cell_type": "markdown",
   "metadata": {},
   "source": [
    "**Question 4.1.** Read the file containing all of the horror movies into a DataFrame called `horror`."
   ]
  },
  {
   "cell_type": "code",
   "execution_count": 52,
   "metadata": {
    "scrolled": true
   },
   "outputs": [
    {
     "data": {
      "text/html": [
       "<div>\n",
       "<style scoped>\n",
       "    .dataframe tbody tr th:only-of-type {\n",
       "        vertical-align: middle;\n",
       "    }\n",
       "\n",
       "    .dataframe tbody tr th {\n",
       "        vertical-align: top;\n",
       "    }\n",
       "\n",
       "    .dataframe thead th {\n",
       "        text-align: right;\n",
       "    }\n",
       "</style>\n",
       "<table border=\"1\" class=\"dataframe\">\n",
       "  <thead>\n",
       "    <tr style=\"text-align: right;\">\n",
       "      <th></th>\n",
       "      <th>Title</th>\n",
       "      <th>Country</th>\n",
       "      <th>Maturity Rating</th>\n",
       "      <th>Review Rating</th>\n",
       "      <th>Language</th>\n",
       "      <th>Filming Locations</th>\n",
       "      <th>Budget</th>\n",
       "      <th>Release Month</th>\n",
       "      <th>Release Day</th>\n",
       "      <th>Run Time</th>\n",
       "    </tr>\n",
       "  </thead>\n",
       "  <tbody>\n",
       "    <tr>\n",
       "      <th>0</th>\n",
       "      <td>Rise of the Animals (2011)</td>\n",
       "      <td>USA</td>\n",
       "      <td>NOT RATED</td>\n",
       "      <td>3.6</td>\n",
       "      <td>English</td>\n",
       "      <td>Rochester, New York, USA</td>\n",
       "      <td>7000</td>\n",
       "      <td>May</td>\n",
       "      <td>1</td>\n",
       "      <td>70</td>\n",
       "    </tr>\n",
       "    <tr>\n",
       "      <th>1</th>\n",
       "      <td>Zombie Resurrection (2014)</td>\n",
       "      <td>UK</td>\n",
       "      <td>NOT RATED</td>\n",
       "      <td>2.7</td>\n",
       "      <td>English</td>\n",
       "      <td>Hampshire, England, UK</td>\n",
       "      <td>100000</td>\n",
       "      <td>March</td>\n",
       "      <td>23</td>\n",
       "      <td>86</td>\n",
       "    </tr>\n",
       "    <tr>\n",
       "      <th>2</th>\n",
       "      <td>Before Dawn (2013)</td>\n",
       "      <td>Japan</td>\n",
       "      <td>NOT RATED</td>\n",
       "      <td>4.7</td>\n",
       "      <td>English</td>\n",
       "      <td>Yorkshire, England, UK</td>\n",
       "      <td>25000</td>\n",
       "      <td>June</td>\n",
       "      <td>8</td>\n",
       "      <td>82</td>\n",
       "    </tr>\n",
       "    <tr>\n",
       "      <th>3</th>\n",
       "      <td>Apparition (2015)</td>\n",
       "      <td>USA</td>\n",
       "      <td>NOT RATED</td>\n",
       "      <td>4.0</td>\n",
       "      <td>English</td>\n",
       "      <td>Philadelphia, Pennsylvania, USA</td>\n",
       "      <td>3000000</td>\n",
       "      <td>May</td>\n",
       "      <td>5</td>\n",
       "      <td>100</td>\n",
       "    </tr>\n",
       "    <tr>\n",
       "      <th>4</th>\n",
       "      <td>Her Cry: La Llorona Investigation (2013)</td>\n",
       "      <td>USA</td>\n",
       "      <td>NOT RATED</td>\n",
       "      <td>5.4</td>\n",
       "      <td>English</td>\n",
       "      <td>Houston, Texas, USA</td>\n",
       "      <td>60000</td>\n",
       "      <td>April</td>\n",
       "      <td>19</td>\n",
       "      <td>89</td>\n",
       "    </tr>\n",
       "    <tr>\n",
       "      <th>...</th>\n",
       "      <td>...</td>\n",
       "      <td>...</td>\n",
       "      <td>...</td>\n",
       "      <td>...</td>\n",
       "      <td>...</td>\n",
       "      <td>...</td>\n",
       "      <td>...</td>\n",
       "      <td>...</td>\n",
       "      <td>...</td>\n",
       "      <td>...</td>\n",
       "    </tr>\n",
       "    <tr>\n",
       "      <th>459</th>\n",
       "      <td>Insidious: Chapter 3 (2015)</td>\n",
       "      <td>USA</td>\n",
       "      <td>PG-13</td>\n",
       "      <td>6.1</td>\n",
       "      <td>English</td>\n",
       "      <td>929 South Broadway, Downtown, Los Angeles, Cal...</td>\n",
       "      <td>10000000</td>\n",
       "      <td>June</td>\n",
       "      <td>5</td>\n",
       "      <td>97</td>\n",
       "    </tr>\n",
       "    <tr>\n",
       "      <th>460</th>\n",
       "      <td>The Purge (2013)</td>\n",
       "      <td>USA</td>\n",
       "      <td>R</td>\n",
       "      <td>5.7</td>\n",
       "      <td>English</td>\n",
       "      <td>Chatsworth, Los Angeles, California, USA</td>\n",
       "      <td>3000000</td>\n",
       "      <td>June</td>\n",
       "      <td>7</td>\n",
       "      <td>85</td>\n",
       "    </tr>\n",
       "    <tr>\n",
       "      <th>461</th>\n",
       "      <td>13 Sins (2014)</td>\n",
       "      <td>Poland</td>\n",
       "      <td>R</td>\n",
       "      <td>6.3</td>\n",
       "      <td>English</td>\n",
       "      <td>New Orleans, Louisiana, USA</td>\n",
       "      <td>4000000</td>\n",
       "      <td>April</td>\n",
       "      <td>11</td>\n",
       "      <td>93</td>\n",
       "    </tr>\n",
       "    <tr>\n",
       "      <th>462</th>\n",
       "      <td>Victor Frankenstein (2015)</td>\n",
       "      <td>USA</td>\n",
       "      <td>PG-13</td>\n",
       "      <td>6.0</td>\n",
       "      <td>English</td>\n",
       "      <td>London, England, UK</td>\n",
       "      <td>40000000</td>\n",
       "      <td>November</td>\n",
       "      <td>25</td>\n",
       "      <td>110</td>\n",
       "    </tr>\n",
       "    <tr>\n",
       "      <th>463</th>\n",
       "      <td>BloodRayne: The Third Reich (2011)</td>\n",
       "      <td>Japan</td>\n",
       "      <td>R</td>\n",
       "      <td>3.0</td>\n",
       "      <td>English</td>\n",
       "      <td>Zagreb, Croatia</td>\n",
       "      <td>10000000</td>\n",
       "      <td>March</td>\n",
       "      <td>17</td>\n",
       "      <td>79</td>\n",
       "    </tr>\n",
       "  </tbody>\n",
       "</table>\n",
       "<p>464 rows × 10 columns</p>\n",
       "</div>"
      ],
      "text/plain": [
       "                                        Title Country Maturity Rating  \\\n",
       "0                  Rise of the Animals (2011)     USA       NOT RATED   \n",
       "1                  Zombie Resurrection (2014)      UK       NOT RATED   \n",
       "2                          Before Dawn (2013)   Japan       NOT RATED   \n",
       "3                           Apparition (2015)     USA       NOT RATED   \n",
       "4    Her Cry: La Llorona Investigation (2013)     USA       NOT RATED   \n",
       "..                                        ...     ...             ...   \n",
       "459               Insidious: Chapter 3 (2015)     USA           PG-13   \n",
       "460                          The Purge (2013)     USA               R   \n",
       "461                            13 Sins (2014)  Poland               R   \n",
       "462                Victor Frankenstein (2015)     USA           PG-13   \n",
       "463        BloodRayne: The Third Reich (2011)   Japan               R   \n",
       "\n",
       "     Review Rating Language  \\\n",
       "0              3.6  English   \n",
       "1              2.7  English   \n",
       "2              4.7  English   \n",
       "3              4.0  English   \n",
       "4              5.4  English   \n",
       "..             ...      ...   \n",
       "459            6.1  English   \n",
       "460            5.7  English   \n",
       "461            6.3  English   \n",
       "462            6.0  English   \n",
       "463            3.0  English   \n",
       "\n",
       "                                     Filming Locations    Budget  \\\n",
       "0                             Rochester, New York, USA      7000   \n",
       "1                               Hampshire, England, UK    100000   \n",
       "2                               Yorkshire, England, UK     25000   \n",
       "3                      Philadelphia, Pennsylvania, USA   3000000   \n",
       "4                                  Houston, Texas, USA     60000   \n",
       "..                                                 ...       ...   \n",
       "459  929 South Broadway, Downtown, Los Angeles, Cal...  10000000   \n",
       "460           Chatsworth, Los Angeles, California, USA   3000000   \n",
       "461                        New Orleans, Louisiana, USA   4000000   \n",
       "462                                London, England, UK  40000000   \n",
       "463                                    Zagreb, Croatia  10000000   \n",
       "\n",
       "    Release Month  Release Day  Run Time  \n",
       "0             May            1        70  \n",
       "1           March           23        86  \n",
       "2            June            8        82  \n",
       "3             May            5       100  \n",
       "4           April           19        89  \n",
       "..            ...          ...       ...  \n",
       "459          June            5        97  \n",
       "460          June            7        85  \n",
       "461         April           11        93  \n",
       "462      November           25       110  \n",
       "463         March           17        79  \n",
       "\n",
       "[464 rows x 10 columns]"
      ]
     },
     "execution_count": 52,
     "metadata": {},
     "output_type": "execute_result"
    }
   ],
   "source": [
    "horror = bpd.read_csv('data/horror_movies.csv')\n",
    "horror"
   ]
  },
  {
   "cell_type": "code",
   "execution_count": 53,
   "metadata": {
    "deletable": false,
    "editable": false
   },
   "outputs": [
    {
     "data": {
      "text/html": [
       "<p><strong><pre style='display: inline;'>q4_1</pre></strong> passed!</p>"
      ],
      "text/plain": [
       "q4_1 results: All test cases passed!"
      ]
     },
     "execution_count": 53,
     "metadata": {},
     "output_type": "execute_result"
    }
   ],
   "source": [
    "grader.check(\"q4_1\")"
   ]
  },
  {
   "cell_type": "markdown",
   "metadata": {},
   "source": [
    "**Question 4.2.** Examine the columns available in `horror` and consider which would be the best choice of index for this DataFrame. Change the `horror` DataFrame so that it's indexed by the values in this column instead of the default index."
   ]
  },
  {
   "cell_type": "code",
   "execution_count": 54,
   "metadata": {
    "scrolled": false
   },
   "outputs": [
    {
     "data": {
      "text/html": [
       "<div>\n",
       "<style scoped>\n",
       "    .dataframe tbody tr th:only-of-type {\n",
       "        vertical-align: middle;\n",
       "    }\n",
       "\n",
       "    .dataframe tbody tr th {\n",
       "        vertical-align: top;\n",
       "    }\n",
       "\n",
       "    .dataframe thead th {\n",
       "        text-align: right;\n",
       "    }\n",
       "</style>\n",
       "<table border=\"1\" class=\"dataframe\">\n",
       "  <thead>\n",
       "    <tr style=\"text-align: right;\">\n",
       "      <th></th>\n",
       "      <th>Country</th>\n",
       "      <th>Maturity Rating</th>\n",
       "      <th>Review Rating</th>\n",
       "      <th>Language</th>\n",
       "      <th>Filming Locations</th>\n",
       "      <th>Budget</th>\n",
       "      <th>Release Month</th>\n",
       "      <th>Release Day</th>\n",
       "      <th>Run Time</th>\n",
       "    </tr>\n",
       "    <tr>\n",
       "      <th>Title</th>\n",
       "      <th></th>\n",
       "      <th></th>\n",
       "      <th></th>\n",
       "      <th></th>\n",
       "      <th></th>\n",
       "      <th></th>\n",
       "      <th></th>\n",
       "      <th></th>\n",
       "      <th></th>\n",
       "    </tr>\n",
       "  </thead>\n",
       "  <tbody>\n",
       "    <tr>\n",
       "      <th>Rise of the Animals (2011)</th>\n",
       "      <td>USA</td>\n",
       "      <td>NOT RATED</td>\n",
       "      <td>3.6</td>\n",
       "      <td>English</td>\n",
       "      <td>Rochester, New York, USA</td>\n",
       "      <td>7000</td>\n",
       "      <td>May</td>\n",
       "      <td>1</td>\n",
       "      <td>70</td>\n",
       "    </tr>\n",
       "    <tr>\n",
       "      <th>Zombie Resurrection (2014)</th>\n",
       "      <td>UK</td>\n",
       "      <td>NOT RATED</td>\n",
       "      <td>2.7</td>\n",
       "      <td>English</td>\n",
       "      <td>Hampshire, England, UK</td>\n",
       "      <td>100000</td>\n",
       "      <td>March</td>\n",
       "      <td>23</td>\n",
       "      <td>86</td>\n",
       "    </tr>\n",
       "    <tr>\n",
       "      <th>Before Dawn (2013)</th>\n",
       "      <td>Japan</td>\n",
       "      <td>NOT RATED</td>\n",
       "      <td>4.7</td>\n",
       "      <td>English</td>\n",
       "      <td>Yorkshire, England, UK</td>\n",
       "      <td>25000</td>\n",
       "      <td>June</td>\n",
       "      <td>8</td>\n",
       "      <td>82</td>\n",
       "    </tr>\n",
       "    <tr>\n",
       "      <th>Apparition (2015)</th>\n",
       "      <td>USA</td>\n",
       "      <td>NOT RATED</td>\n",
       "      <td>4.0</td>\n",
       "      <td>English</td>\n",
       "      <td>Philadelphia, Pennsylvania, USA</td>\n",
       "      <td>3000000</td>\n",
       "      <td>May</td>\n",
       "      <td>5</td>\n",
       "      <td>100</td>\n",
       "    </tr>\n",
       "    <tr>\n",
       "      <th>Her Cry: La Llorona Investigation (2013)</th>\n",
       "      <td>USA</td>\n",
       "      <td>NOT RATED</td>\n",
       "      <td>5.4</td>\n",
       "      <td>English</td>\n",
       "      <td>Houston, Texas, USA</td>\n",
       "      <td>60000</td>\n",
       "      <td>April</td>\n",
       "      <td>19</td>\n",
       "      <td>89</td>\n",
       "    </tr>\n",
       "    <tr>\n",
       "      <th>...</th>\n",
       "      <td>...</td>\n",
       "      <td>...</td>\n",
       "      <td>...</td>\n",
       "      <td>...</td>\n",
       "      <td>...</td>\n",
       "      <td>...</td>\n",
       "      <td>...</td>\n",
       "      <td>...</td>\n",
       "      <td>...</td>\n",
       "    </tr>\n",
       "    <tr>\n",
       "      <th>Insidious: Chapter 3 (2015)</th>\n",
       "      <td>USA</td>\n",
       "      <td>PG-13</td>\n",
       "      <td>6.1</td>\n",
       "      <td>English</td>\n",
       "      <td>929 South Broadway, Downtown, Los Angeles, Cal...</td>\n",
       "      <td>10000000</td>\n",
       "      <td>June</td>\n",
       "      <td>5</td>\n",
       "      <td>97</td>\n",
       "    </tr>\n",
       "    <tr>\n",
       "      <th>The Purge (2013)</th>\n",
       "      <td>USA</td>\n",
       "      <td>R</td>\n",
       "      <td>5.7</td>\n",
       "      <td>English</td>\n",
       "      <td>Chatsworth, Los Angeles, California, USA</td>\n",
       "      <td>3000000</td>\n",
       "      <td>June</td>\n",
       "      <td>7</td>\n",
       "      <td>85</td>\n",
       "    </tr>\n",
       "    <tr>\n",
       "      <th>13 Sins (2014)</th>\n",
       "      <td>Poland</td>\n",
       "      <td>R</td>\n",
       "      <td>6.3</td>\n",
       "      <td>English</td>\n",
       "      <td>New Orleans, Louisiana, USA</td>\n",
       "      <td>4000000</td>\n",
       "      <td>April</td>\n",
       "      <td>11</td>\n",
       "      <td>93</td>\n",
       "    </tr>\n",
       "    <tr>\n",
       "      <th>Victor Frankenstein (2015)</th>\n",
       "      <td>USA</td>\n",
       "      <td>PG-13</td>\n",
       "      <td>6.0</td>\n",
       "      <td>English</td>\n",
       "      <td>London, England, UK</td>\n",
       "      <td>40000000</td>\n",
       "      <td>November</td>\n",
       "      <td>25</td>\n",
       "      <td>110</td>\n",
       "    </tr>\n",
       "    <tr>\n",
       "      <th>BloodRayne: The Third Reich (2011)</th>\n",
       "      <td>Japan</td>\n",
       "      <td>R</td>\n",
       "      <td>3.0</td>\n",
       "      <td>English</td>\n",
       "      <td>Zagreb, Croatia</td>\n",
       "      <td>10000000</td>\n",
       "      <td>March</td>\n",
       "      <td>17</td>\n",
       "      <td>79</td>\n",
       "    </tr>\n",
       "  </tbody>\n",
       "</table>\n",
       "<p>464 rows × 9 columns</p>\n",
       "</div>"
      ],
      "text/plain": [
       "                                         Country Maturity Rating  \\\n",
       "Title                                                              \n",
       "Rise of the Animals (2011)                   USA       NOT RATED   \n",
       "Zombie Resurrection (2014)                    UK       NOT RATED   \n",
       "Before Dawn (2013)                         Japan       NOT RATED   \n",
       "Apparition (2015)                            USA       NOT RATED   \n",
       "Her Cry: La Llorona Investigation (2013)     USA       NOT RATED   \n",
       "...                                          ...             ...   \n",
       "Insidious: Chapter 3 (2015)                  USA           PG-13   \n",
       "The Purge (2013)                             USA               R   \n",
       "13 Sins (2014)                            Poland               R   \n",
       "Victor Frankenstein (2015)                   USA           PG-13   \n",
       "BloodRayne: The Third Reich (2011)         Japan               R   \n",
       "\n",
       "                                          Review Rating Language  \\\n",
       "Title                                                              \n",
       "Rise of the Animals (2011)                          3.6  English   \n",
       "Zombie Resurrection (2014)                          2.7  English   \n",
       "Before Dawn (2013)                                  4.7  English   \n",
       "Apparition (2015)                                   4.0  English   \n",
       "Her Cry: La Llorona Investigation (2013)            5.4  English   \n",
       "...                                                 ...      ...   \n",
       "Insidious: Chapter 3 (2015)                         6.1  English   \n",
       "The Purge (2013)                                    5.7  English   \n",
       "13 Sins (2014)                                      6.3  English   \n",
       "Victor Frankenstein (2015)                          6.0  English   \n",
       "BloodRayne: The Third Reich (2011)                  3.0  English   \n",
       "\n",
       "                                                                          Filming Locations  \\\n",
       "Title                                                                                         \n",
       "Rise of the Animals (2011)                                         Rochester, New York, USA   \n",
       "Zombie Resurrection (2014)                                           Hampshire, England, UK   \n",
       "Before Dawn (2013)                                                   Yorkshire, England, UK   \n",
       "Apparition (2015)                                           Philadelphia, Pennsylvania, USA   \n",
       "Her Cry: La Llorona Investigation (2013)                                Houston, Texas, USA   \n",
       "...                                                                                     ...   \n",
       "Insidious: Chapter 3 (2015)               929 South Broadway, Downtown, Los Angeles, Cal...   \n",
       "The Purge (2013)                                   Chatsworth, Los Angeles, California, USA   \n",
       "13 Sins (2014)                                                  New Orleans, Louisiana, USA   \n",
       "Victor Frankenstein (2015)                                              London, England, UK   \n",
       "BloodRayne: The Third Reich (2011)                                          Zagreb, Croatia   \n",
       "\n",
       "                                            Budget Release Month  Release Day  \\\n",
       "Title                                                                           \n",
       "Rise of the Animals (2011)                    7000           May            1   \n",
       "Zombie Resurrection (2014)                  100000         March           23   \n",
       "Before Dawn (2013)                           25000          June            8   \n",
       "Apparition (2015)                          3000000           May            5   \n",
       "Her Cry: La Llorona Investigation (2013)     60000         April           19   \n",
       "...                                            ...           ...          ...   \n",
       "Insidious: Chapter 3 (2015)               10000000          June            5   \n",
       "The Purge (2013)                           3000000          June            7   \n",
       "13 Sins (2014)                             4000000         April           11   \n",
       "Victor Frankenstein (2015)                40000000      November           25   \n",
       "BloodRayne: The Third Reich (2011)        10000000         March           17   \n",
       "\n",
       "                                          Run Time  \n",
       "Title                                               \n",
       "Rise of the Animals (2011)                      70  \n",
       "Zombie Resurrection (2014)                      86  \n",
       "Before Dawn (2013)                              82  \n",
       "Apparition (2015)                              100  \n",
       "Her Cry: La Llorona Investigation (2013)        89  \n",
       "...                                            ...  \n",
       "Insidious: Chapter 3 (2015)                     97  \n",
       "The Purge (2013)                                85  \n",
       "13 Sins (2014)                                  93  \n",
       "Victor Frankenstein (2015)                     110  \n",
       "BloodRayne: The Third Reich (2011)              79  \n",
       "\n",
       "[464 rows x 9 columns]"
      ]
     },
     "execution_count": 54,
     "metadata": {},
     "output_type": "execute_result"
    }
   ],
   "source": [
    "horror = horror.set_index('Title')\n",
    "horror"
   ]
  },
  {
   "cell_type": "code",
   "execution_count": 55,
   "metadata": {
    "deletable": false,
    "editable": false
   },
   "outputs": [
    {
     "data": {
      "text/html": [
       "<p><strong><pre style='display: inline;'>q4_2</pre></strong> passed!</p>"
      ],
      "text/plain": [
       "q4_2 results: All test cases passed!"
      ]
     },
     "execution_count": 55,
     "metadata": {},
     "output_type": "execute_result"
    }
   ],
   "source": [
    "grader.check(\"q4_2\")"
   ]
  },
  {
   "cell_type": "markdown",
   "metadata": {},
   "source": [
    "_Note:_ If you were to run the cell where you set the index of `horror` again, you'd see an error message. Stop and think about _why_ you'd run into an error. Once you've thought about it, click the thinking emoji below to see the reason for the error.\n",
    "\n",
    "<br>\n",
    "\n",
    "<details>\n",
    "    <summary>Why would there be an error? 🤔</summary>\n",
    "    There would be an error since you'd be trying to set the index of <code>horror</code> to a column that no longer exists in <code>horror</code> – the column wouldn't exist because it was converted to the index the first time you ran the cell (and the index is not a column)!\n",
    "</details>\n",
    "\n",
    "If you acually ran the cell twice and got an error message, don't worry. To get rid of it, re-run the cell in 4.1 where you defined the `horror` DataFrame, then run the cell in 4.2 just once, and you'll be good to go.\n",
    "\n",
    "When you submit your work for autograding, the entire notebook will be run from start to finish. Each cell will run only once, so it's no problem if your code errors on the second run. In this case, it means you're doing something right!"
   ]
  },
  {
   "cell_type": "markdown",
   "metadata": {},
   "source": [
    "**Question 4.3.** *The Purge*, released in 2013, has had a massive impact on pop culture. What is the `'Review Rating'` of `'The Purge (2013)'`? Assign the rating to the variable `purge_rating`."
   ]
  },
  {
   "cell_type": "code",
   "execution_count": 56,
   "metadata": {},
   "outputs": [
    {
     "data": {
      "text/plain": [
       "5.7"
      ]
     },
     "execution_count": 56,
     "metadata": {},
     "output_type": "execute_result"
    }
   ],
   "source": [
    "purge_rating = horror.get('Review Rating').loc['The Purge (2013)']\n",
    "purge_rating"
   ]
  },
  {
   "cell_type": "code",
   "execution_count": 57,
   "metadata": {
    "deletable": false,
    "editable": false
   },
   "outputs": [
    {
     "data": {
      "text/html": [
       "<p><strong><pre style='display: inline;'>q4_3</pre></strong> passed!</p>"
      ],
      "text/plain": [
       "q4_3 results: All test cases passed!"
      ]
     },
     "execution_count": 57,
     "metadata": {},
     "output_type": "execute_result"
    }
   ],
   "source": [
    "grader.check(\"q4_3\")"
   ]
  },
  {
   "cell_type": "markdown",
   "metadata": {},
   "source": [
    "**Question 4.4.** Even spooky movies have production costs. Assign `most_expensive` to the name of the movie with the largest budget (including the year in parentheses), and set the total budget of that movie to `petrifying_pricetag`."
   ]
  },
  {
   "cell_type": "code",
   "execution_count": 58,
   "metadata": {},
   "outputs": [
    {
     "data": {
      "text/plain": [
       "('Train to Busan (2016)', 10000000000)"
      ]
     },
     "execution_count": 58,
     "metadata": {},
     "output_type": "execute_result"
    }
   ],
   "source": [
    "most_expensive = horror.sort_values('Budget', ascending=False).index[0]\n",
    "#print(horror.sort_values('Budget', ascending=False).get('Budget'))\n",
    "petrifying_pricetag = horror.get('Budget').loc[most_expensive]\n",
    "most_expensive, petrifying_pricetag"
   ]
  },
  {
   "cell_type": "code",
   "execution_count": 59,
   "metadata": {
    "deletable": false,
    "editable": false
   },
   "outputs": [
    {
     "data": {
      "text/html": [
       "<p><strong><pre style='display: inline;'>q4_4</pre></strong> passed!</p>"
      ],
      "text/plain": [
       "q4_4 results: All test cases passed!"
      ]
     },
     "execution_count": 59,
     "metadata": {},
     "output_type": "execute_result"
    }
   ],
   "source": [
    "grader.check(\"q4_4\")"
   ]
  },
  {
   "cell_type": "markdown",
   "metadata": {},
   "source": [
    "**Question 4.5.** Wow, that's a lot of money to spend on a horror movie, but how does that compare to the other movies included in the dataset? Compute the difference between the budget of the most expensive movie and the average movie budget, and assign the result to the variable `above_average`."
   ]
  },
  {
   "cell_type": "code",
   "execution_count": 60,
   "metadata": {},
   "outputs": [
    {
     "data": {
      "text/plain": [
       "9969931881.67026"
      ]
     },
     "execution_count": 60,
     "metadata": {},
     "output_type": "execute_result"
    }
   ],
   "source": [
    "#print(horror.get('Budget').mean())\n",
    "above_average = petrifying_pricetag - horror.get('Budget').mean()\n",
    "above_average"
   ]
  },
  {
   "cell_type": "code",
   "execution_count": 61,
   "metadata": {
    "deletable": false,
    "editable": false
   },
   "outputs": [
    {
     "data": {
      "text/html": [
       "<p><strong><pre style='display: inline;'>q4_5</pre></strong> passed!</p>"
      ],
      "text/plain": [
       "q4_5 results: All test cases passed!"
      ]
     },
     "execution_count": 61,
     "metadata": {},
     "output_type": "execute_result"
    }
   ],
   "source": [
    "grader.check(\"q4_5\")"
   ]
  },
  {
   "cell_type": "markdown",
   "metadata": {},
   "source": [
    "**Question 4.6.** What proportion of movies in our dataset were released in October? Set the proportion equal to `october_prop`."
   ]
  },
  {
   "cell_type": "code",
   "execution_count": 62,
   "metadata": {},
   "outputs": [
    {
     "data": {
      "text/plain": [
       "0.14870689655172414"
      ]
     },
     "execution_count": 62,
     "metadata": {},
     "output_type": "execute_result"
    }
   ],
   "source": [
    "october_prop = horror[horror.get('Release Month').str.lower().str.contains('october')].shape[0] / horror.shape[0]\n",
    "october_prop"
   ]
  },
  {
   "cell_type": "code",
   "execution_count": 63,
   "metadata": {
    "deletable": false,
    "editable": false
   },
   "outputs": [
    {
     "data": {
      "text/html": [
       "<p><strong><pre style='display: inline;'>q4_6</pre></strong> passed!</p>"
      ],
      "text/plain": [
       "q4_6 results: All test cases passed!"
      ]
     },
     "execution_count": 63,
     "metadata": {},
     "output_type": "execute_result"
    }
   ],
   "source": [
    "grader.check(\"q4_6\")"
   ]
  },
  {
   "cell_type": "markdown",
   "metadata": {},
   "source": [
    "**Question 4.7.** How many movies in our dataset were released on October 31st? Set the number equal to the variable `halloween_count`."
   ]
  },
  {
   "cell_type": "code",
   "execution_count": 64,
   "metadata": {},
   "outputs": [
    {
     "data": {
      "text/plain": [
       "5"
      ]
     },
     "execution_count": 64,
     "metadata": {},
     "output_type": "execute_result"
    }
   ],
   "source": [
    "october_movies = horror[horror.get('Release Month').str.lower().str.contains('october')]\n",
    "halloween_count = october_movies[october_movies.get('Release Day') == 31].shape[0]\n",
    "halloween_count"
   ]
  },
  {
   "cell_type": "code",
   "execution_count": 65,
   "metadata": {
    "deletable": false,
    "editable": false
   },
   "outputs": [
    {
     "data": {
      "text/html": [
       "<p><strong><pre style='display: inline;'>q4_7</pre></strong> passed!</p>"
      ],
      "text/plain": [
       "q4_7 results: All test cases passed!"
      ]
     },
     "execution_count": 65,
     "metadata": {},
     "output_type": "execute_result"
    }
   ],
   "source": [
    "grader.check(\"q4_7\")"
   ]
  },
  {
   "cell_type": "markdown",
   "metadata": {},
   "source": [
    "**Question 4.8.** Which movie titles contain the word `'zombie'`? Create an *array* called `zombie_movies` containing the titles of all such movies. Then assign `num_zombie_movies` to the number of such movies.\n",
    "\n",
    "*Hints:*\n",
    "- To convert a Series into an array, call the function `np.array` on the Series.\n",
    "- The movie names are all strings, so they may have inconsistencies in how they're capitalized. If we want to account for variations in capitalization, what operation should we call on the names **first**? (You may end up using `.str` twice!)"
   ]
  },
  {
   "cell_type": "code",
   "execution_count": 66,
   "metadata": {
    "scrolled": true
   },
   "outputs": [
    {
     "data": {
      "text/plain": [
       "18"
      ]
     },
     "execution_count": 66,
     "metadata": {},
     "output_type": "execute_result"
    }
   ],
   "source": [
    "zombie_horror = horror.reset_index()\n",
    "zombie_horror = zombie_horror[zombie_horror.get('Title').str.lower().str.contains('zombie')].get('Title')\n",
    "zombie_movies = np.array(zombie_horror)\n",
    "num_zombie_movies = len(zombie_movies)\n",
    "num_zombie_movies"
   ]
  },
  {
   "cell_type": "code",
   "execution_count": 67,
   "metadata": {
    "deletable": false,
    "editable": false
   },
   "outputs": [
    {
     "data": {
      "text/html": [
       "<p><strong><pre style='display: inline;'>q4_8</pre></strong> passed!</p>"
      ],
      "text/plain": [
       "q4_8 results: All test cases passed!"
      ]
     },
     "execution_count": 67,
     "metadata": {},
     "output_type": "execute_result"
    }
   ],
   "source": [
    "grader.check(\"q4_8\")"
   ]
  },
  {
   "cell_type": "markdown",
   "metadata": {},
   "source": [
    "**Question 4.9.** What is the highest `'Review Rating'` of a movie shot in a language other than English? Assign this rating to the variable `foreign_rating`.\n",
    "\n",
    "_Note:_ Some movies are shot in multiple languages, one of which might be English – for instance, the movie *Devoured* was filmed in `'English|Spanish'`. For the purposes of this question, consider such movies to be shot in a language other than English."
   ]
  },
  {
   "cell_type": "code",
   "execution_count": 68,
   "metadata": {},
   "outputs": [
    {
     "data": {
      "text/plain": [
       "7.5"
      ]
     },
     "execution_count": 68,
     "metadata": {},
     "output_type": "execute_result"
    }
   ],
   "source": [
    "sorted_foreign = horror[horror.get('Language').str.lower().str.contains('english') == False].sort_values('Review Rating', ascending = False)\n",
    "foreign_rating = sorted_foreign.get('Review Rating').iloc[0]\n",
    "foreign_rating"
   ]
  },
  {
   "cell_type": "code",
   "execution_count": 69,
   "metadata": {
    "deletable": false,
    "editable": false
   },
   "outputs": [
    {
     "data": {
      "text/html": [
       "<p><strong><pre style='display: inline;'>q4_9</pre></strong> passed!</p>"
      ],
      "text/plain": [
       "q4_9 results: All test cases passed!"
      ]
     },
     "execution_count": 69,
     "metadata": {},
     "output_type": "execute_result"
    }
   ],
   "source": [
    "grader.check(\"q4_9\")"
   ]
  },
  {
   "cell_type": "markdown",
   "metadata": {},
   "source": [
    "**Question 4.10.** Wow, this was a long question, with 10 parts 😓. You know what's longer? The run time of the longest horror movie in the dataset 😱! \n",
    "\n",
    "Assign `longest_film_name` to the name of the longest movie in the dataset (including the year in parentheses). Assign `longest_film_length` to the run time of this movie in minutes. \n",
    "\n",
    "Don't type in the name or number of minutes by hand; get Python to extract this information for you."
   ]
  },
  {
   "cell_type": "code",
   "execution_count": 70,
   "metadata": {},
   "outputs": [
    {
     "name": "stdout",
     "output_type": "stream",
     "text": [
      "Longest film: A Cure for Wellness (2016) \n",
      "Length: 146 minutes\n"
     ]
    }
   ],
   "source": [
    "longest_film = horror.reset_index().sort_values('Run Time', ascending = False).iloc[0]\n",
    "longest_film_name = longest_film.get('Title')\n",
    "longest_film_length = longest_film.get('Run Time')\n",
    "\n",
    "# Don't change the line below.\n",
    "print('Longest film:', longest_film_name, '\\nLength:', longest_film_length, 'minutes')"
   ]
  },
  {
   "cell_type": "code",
   "execution_count": 71,
   "metadata": {
    "deletable": false,
    "editable": false
   },
   "outputs": [
    {
     "data": {
      "text/html": [
       "<p><strong><pre style='display: inline;'>q4_10</pre></strong> passed!</p>"
      ],
      "text/plain": [
       "q4_10 results: All test cases passed!"
      ]
     },
     "execution_count": 71,
     "metadata": {},
     "output_type": "execute_result"
    }
   ],
   "source": [
    "grader.check(\"q4_10\")"
   ]
  },
  {
   "cell_type": "markdown",
   "metadata": {},
   "source": [
    "## Finish Line 🏁\n",
    "\n",
    "Congratulations! You are done with Homework 2.\n",
    "\n",
    "To submit your assignment:\n",
    "\n",
    "1. Select `Kernel -> Restart & Run All` to ensure that you have executed all cells, including the test cells.\n",
    "2. Read through the notebook to make sure everything is fine and all tests passed.\n",
    "3. Run the cell below to run all tests, and make sure that they all pass.\n",
    "4. Download your notebook using `File -> Download as -> Notebook (.ipynb)`, then upload your notebook to Gradescope."
   ]
  },
  {
   "cell_type": "code",
   "execution_count": 72,
   "metadata": {
    "scrolled": true
   },
   "outputs": [
    {
     "data": {
      "text/plain": [
       "q1_1 results: All test cases passed!\n",
       "\n",
       "q1_2 results: All test cases passed!\n",
       "\n",
       "q1_3 results: All test cases passed!\n",
       "\n",
       "q1_4 results: All test cases passed!\n",
       "\n",
       "q1_5 results: All test cases passed!\n",
       "\n",
       "q1_6 results: All test cases passed!\n",
       "\n",
       "q2_1 results: All test cases passed!\n",
       "\n",
       "q2_2_1 results: All test cases passed!\n",
       "\n",
       "q2_2_2 results: All test cases passed!\n",
       "\n",
       "q2_3_1 results: All test cases passed!\n",
       "\n",
       "q2_3_2 results: All test cases passed!\n",
       "\n",
       "q2_4 results: All test cases passed!\n",
       "\n",
       "q2_5 results: All test cases passed!\n",
       "\n",
       "q3_1 results: All test cases passed!\n",
       "\n",
       "q3_2 results: All test cases passed!\n",
       "\n",
       "q3_3 results: All test cases passed!\n",
       "\n",
       "q3_4 results: All test cases passed!\n",
       "\n",
       "q3_5 results: All test cases passed!\n",
       "\n",
       "q3_6 results: All test cases passed!\n",
       "\n",
       "q3_7 results: All test cases passed!\n",
       "\n",
       "q3_8 results: All test cases passed!\n",
       "\n",
       "q3_9 results: All test cases passed!\n",
       "\n",
       "q4_1 results: All test cases passed!\n",
       "\n",
       "q4_10 results: All test cases passed!\n",
       "\n",
       "q4_2 results: All test cases passed!\n",
       "\n",
       "q4_3 results: All test cases passed!\n",
       "\n",
       "q4_4 results: All test cases passed!\n",
       "\n",
       "q4_5 results: All test cases passed!\n",
       "\n",
       "q4_6 results: All test cases passed!\n",
       "\n",
       "q4_7 results: All test cases passed!\n",
       "\n",
       "q4_8 results: All test cases passed!\n",
       "\n",
       "q4_9 results: All test cases passed!"
      ]
     },
     "execution_count": 72,
     "metadata": {},
     "output_type": "execute_result"
    }
   ],
   "source": [
    "# For your convenience, you can run this cell to run all the tests at once!\n",
    "grader.check_all()"
   ]
  }
 ],
 "metadata": {
  "kernelspec": {
   "display_name": "Python 3 (ipykernel)",
   "language": "python",
   "name": "python3"
  },
  "language_info": {
   "codemirror_mode": {
    "name": "ipython",
    "version": 3
   },
   "file_extension": ".py",
   "mimetype": "text/x-python",
   "name": "python",
   "nbconvert_exporter": "python",
   "pygments_lexer": "ipython3",
   "version": "3.9.5"
  }
 },
 "nbformat": 4,
 "nbformat_minor": 4
}
