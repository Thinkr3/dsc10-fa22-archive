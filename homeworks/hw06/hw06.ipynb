{
 "cells": [
  {
   "cell_type": "markdown",
   "metadata": {},
   "source": [
    "# Homework 6: Permutation Testing, Percentiles, and Bootstrapping\n",
    "\n",
    "## Due Tuesday, November 15th at 11:59PM\n",
    "\n",
    "Welcome to Homework 6! This homework will cover:\n",
    "\n",
    "- Permutation Testing (see [CIT 12.0-12.2](https://inferentialthinking.com/chapters/12/Comparing_Two_Samples.html))\n",
    "- Percentiles (see [CIT 13.1](https://inferentialthinking.com/chapters/13/1/Percentiles.html))\n",
    "- Bootstrapping and Confidence Intervals (see [CIT 13.2](https://inferentialthinking.com/chapters/13/2/Bootstrap.html), and [CIT 13.3](https://inferentialthinking.com/chapters/13/3/Confidence_Intervals.html))"
   ]
  },
  {
   "cell_type": "markdown",
   "metadata": {},
   "source": [
    "### Instructions\n",
    "\n",
    "This assignment is due Tuesday, November 15th at 11:59PM. You are given six slip days throughout the quarter to extend deadlines. See the syllabus for more details. With the exception of using slip days, late work will not be accepted unless you have made special arrangements with your instructor.\n",
    "\n",
    "**Important**: For homeworks, the `otter` tests don't usually tell you that your answer is correct. More often, they help catch careless mistakes. It's up to you to ensure that your answer is correct. If you're not sure, ask someone (not for the answer, but for some guidance about your approach). These are great questions for office hours (see the schedule on the [Calendar](https://dsc10.com/calendar)) or EdStem. Directly sharing answers is not okay, but discussing problems with the course staff or with other students is encouraged."
   ]
  },
  {
   "cell_type": "code",
   "execution_count": 1,
   "metadata": {},
   "outputs": [
    {
     "data": {
      "text/html": [
       "\n",
       "<script type=\"text/javascript\" src=\"https://pandastutor.com/build/wsembed.bundle.2022-07-07-release.js\"></script>\n",
       "<script>\n",
       "console.log(\"initializing pandas_tutor js\")\n",
       "\n",
       "function drawWsv(viz_id, spec, options) {\n",
       "  if (typeof createWsvFromPandasTrace === 'undefined') {\n",
       "    setTimeout(() => drawWsv(viz_id, spec, options), 2000) // retry in 2 seconds\n",
       "    return\n",
       "  }\n",
       "  createWsvFromPandasTrace(viz_id, spec, options)\n",
       "}\n",
       "</script>\n"
      ],
      "text/plain": [
       "<IPython.core.display.HTML object>"
      ]
     },
     "metadata": {},
     "output_type": "display_data"
    }
   ],
   "source": [
    "# Don't change this cell; just run it. \n",
    "import babypandas as bpd\n",
    "import numpy as np\n",
    "\n",
    "import matplotlib.pyplot as plt\n",
    "plt.style.use('ggplot')\n",
    "\n",
    "import otter\n",
    "grader = otter.Notebook()\n",
    "\n",
    "%reload_ext pandas_tutor"
   ]
  },
  {
   "cell_type": "markdown",
   "metadata": {},
   "source": [
    "### Aside: Random Seeds 🌱\n",
    "\n",
    "Throughout this homework – and the Final Project – you'll notice that we frequently call the function `np.random.seed` with an integer argument. What exactly does that do?\n",
    "\n",
    "To see for yourself, run the cell below several times."
   ]
  },
  {
   "cell_type": "code",
   "execution_count": 2,
   "metadata": {},
   "outputs": [
    {
     "name": "stdout",
     "output_type": "stream",
     "text": [
      "[7 3]\n",
      "[5 5]\n"
     ]
    }
   ],
   "source": [
    "np.random.seed(25)\n",
    "\n",
    "print(np.random.multinomial(10, [0.5, 0.5]))\n",
    "print(np.random.multinomial(10, [0.5, 0.5]))"
   ]
  },
  {
   "cell_type": "markdown",
   "metadata": {},
   "source": [
    "`np.random.multinomial(10, [0.5, 0.5])` should return a random result each time it's called. However, each time you ran the cell above, you saw the same output – `[7 3]` and `[5 5]`.\n",
    "\n",
    "**If you call `np.random.seed` in a cell, then every time you run the cell, you will see the same results, even if there are calls to \"random\" functions and methods in the cell.** Think of calling `np.random.seed` as \"undoing\" the randomness in the cell. If you change the `25` above to some other number, you may see something other than `[7 3]` and `[5 5]`, but each time you run the changed cell, you will still see the same result.\n",
    "\n",
    "We use seeds to make it easier to autograde questions that rely on randomness, such as those that require you to bootstrap. When we use a particular seed in a question, we know exactly what the correct answer should be. When we don't, the range of correct answers is much wider, so it's harder to tell whether you actually answered the question correctly.\n",
    "\n",
    "You're not responsible for understanding how seeds and random number generators work under the hood – all you need to know is that when you see a call to `np.random.seed`:\n",
    "- Don't change it.\n",
    "- Don't be alarmed if you see the same results each time you run that cell.\n",
    "\n",
    "If you're interested in learning more, read [this Wikipedia article](https://en.wikipedia.org/wiki/Pseudorandom_number_generator).\n",
    "<!-- It turns out that generating _truly_ random numbers is quite difficult. Instead, computers often generate _pseudorandom_ numbers, which are numbers that look like they were generated randomly (such as those in the cell above) but were actually generated by a complicated, non-random process. Each of these processes has a \"key\", or \"seed,\" that determines the initial conditions for this non-random process. -->"
   ]
  },
  {
   "cell_type": "markdown",
   "metadata": {},
   "source": [
    "## 1. Rideshare Rates in Boston 🚕📱"
   ]
  },
  {
   "cell_type": "markdown",
   "metadata": {},
   "source": [
    "In this section, we will work with a dataset of rideshare data from [Kaggle](https://www.kaggle.com/ravi72munde/uber-lyft-cab-prices?select=cab_rides.csv). The dataset contains information on Lyft and Uber rides from Boston during November and December of 2018. The data has been cleaned and condensed for the purposes of this question."
   ]
  },
  {
   "cell_type": "markdown",
   "metadata": {},
   "source": [
    "The rideshare data contains six columns: `'app'`, `'mode'`, `'destination'`, `'source'`, `'distance'`, `'price'`. Let's read it in and store it as a DataFrame called `rideshare`.\n",
    "\n",
    "| Column | Description |\n",
    "| --- | --- |\n",
    "| `'app'` | Rideshare App (Lyft or Uber) |\n",
    "| `'mode'` | Ride tier/mode |\n",
    "| `'destination'` | Destination area in Boston |\n",
    "| `'source'` | Ride origin area in Boston |\n",
    "| `'distance'` | Ride distance (miles) |\n",
    "| `'price'` | Ride price (USD) |"
   ]
  },
  {
   "cell_type": "code",
   "execution_count": 3,
   "metadata": {
    "scrolled": true
   },
   "outputs": [
    {
     "data": {
      "text/html": [
       "<div>\n",
       "<style scoped>\n",
       "    .dataframe tbody tr th:only-of-type {\n",
       "        vertical-align: middle;\n",
       "    }\n",
       "\n",
       "    .dataframe tbody tr th {\n",
       "        vertical-align: top;\n",
       "    }\n",
       "\n",
       "    .dataframe thead th {\n",
       "        text-align: right;\n",
       "    }\n",
       "</style>\n",
       "<table border=\"1\" class=\"dataframe\">\n",
       "  <thead>\n",
       "    <tr style=\"text-align: right;\">\n",
       "      <th></th>\n",
       "      <th>app</th>\n",
       "      <th>mode</th>\n",
       "      <th>destination</th>\n",
       "      <th>source</th>\n",
       "      <th>distance</th>\n",
       "      <th>price</th>\n",
       "    </tr>\n",
       "  </thead>\n",
       "  <tbody>\n",
       "    <tr>\n",
       "      <th>0</th>\n",
       "      <td>Uber</td>\n",
       "      <td>Black SUV</td>\n",
       "      <td>Financial District</td>\n",
       "      <td>Northeastern University</td>\n",
       "      <td>4.57</td>\n",
       "      <td>37.5</td>\n",
       "    </tr>\n",
       "    <tr>\n",
       "      <th>1</th>\n",
       "      <td>Uber</td>\n",
       "      <td>Black</td>\n",
       "      <td>Financial District</td>\n",
       "      <td>North End</td>\n",
       "      <td>1.04</td>\n",
       "      <td>15.0</td>\n",
       "    </tr>\n",
       "    <tr>\n",
       "      <th>2</th>\n",
       "      <td>Lyft</td>\n",
       "      <td>Lyft XL</td>\n",
       "      <td>Back Bay</td>\n",
       "      <td>Fenway</td>\n",
       "      <td>1.51</td>\n",
       "      <td>13.5</td>\n",
       "    </tr>\n",
       "    <tr>\n",
       "      <th>3</th>\n",
       "      <td>Lyft</td>\n",
       "      <td>Lyft</td>\n",
       "      <td>Northeastern University</td>\n",
       "      <td>Back Bay</td>\n",
       "      <td>1.07</td>\n",
       "      <td>7.0</td>\n",
       "    </tr>\n",
       "    <tr>\n",
       "      <th>4</th>\n",
       "      <td>Uber</td>\n",
       "      <td>Black SUV</td>\n",
       "      <td>Back Bay</td>\n",
       "      <td>North End</td>\n",
       "      <td>2.38</td>\n",
       "      <td>35.0</td>\n",
       "    </tr>\n",
       "    <tr>\n",
       "      <th>...</th>\n",
       "      <td>...</td>\n",
       "      <td>...</td>\n",
       "      <td>...</td>\n",
       "      <td>...</td>\n",
       "      <td>...</td>\n",
       "      <td>...</td>\n",
       "    </tr>\n",
       "    <tr>\n",
       "      <th>76552</th>\n",
       "      <td>Lyft</td>\n",
       "      <td>Lyft</td>\n",
       "      <td>Boston University</td>\n",
       "      <td>Financial District</td>\n",
       "      <td>5.01</td>\n",
       "      <td>16.5</td>\n",
       "    </tr>\n",
       "    <tr>\n",
       "      <th>76553</th>\n",
       "      <td>Uber</td>\n",
       "      <td>UberPool</td>\n",
       "      <td>Theatre District</td>\n",
       "      <td>Boston University</td>\n",
       "      <td>2.98</td>\n",
       "      <td>12.0</td>\n",
       "    </tr>\n",
       "    <tr>\n",
       "      <th>76554</th>\n",
       "      <td>Lyft</td>\n",
       "      <td>Lux Black</td>\n",
       "      <td>Back Bay</td>\n",
       "      <td>Fenway</td>\n",
       "      <td>1.42</td>\n",
       "      <td>16.5</td>\n",
       "    </tr>\n",
       "    <tr>\n",
       "      <th>76555</th>\n",
       "      <td>Uber</td>\n",
       "      <td>UberXL</td>\n",
       "      <td>Northeastern University</td>\n",
       "      <td>West End</td>\n",
       "      <td>3.15</td>\n",
       "      <td>17.5</td>\n",
       "    </tr>\n",
       "    <tr>\n",
       "      <th>76556</th>\n",
       "      <td>Lyft</td>\n",
       "      <td>Lyft XL</td>\n",
       "      <td>Haymarket Square</td>\n",
       "      <td>Financial District</td>\n",
       "      <td>1.08</td>\n",
       "      <td>10.5</td>\n",
       "    </tr>\n",
       "  </tbody>\n",
       "</table>\n",
       "<p>76557 rows × 6 columns</p>\n",
       "</div>"
      ],
      "text/plain": [
       "        app       mode              destination                   source  \\\n",
       "0      Uber  Black SUV       Financial District  Northeastern University   \n",
       "1      Uber      Black       Financial District                North End   \n",
       "2      Lyft    Lyft XL                 Back Bay                   Fenway   \n",
       "3      Lyft       Lyft  Northeastern University                 Back Bay   \n",
       "4      Uber  Black SUV                 Back Bay                North End   \n",
       "...     ...        ...                      ...                      ...   \n",
       "76552  Lyft       Lyft        Boston University       Financial District   \n",
       "76553  Uber   UberPool         Theatre District        Boston University   \n",
       "76554  Lyft  Lux Black                 Back Bay                   Fenway   \n",
       "76555  Uber     UberXL  Northeastern University                 West End   \n",
       "76556  Lyft    Lyft XL         Haymarket Square       Financial District   \n",
       "\n",
       "       distance  price  \n",
       "0          4.57   37.5  \n",
       "1          1.04   15.0  \n",
       "2          1.51   13.5  \n",
       "3          1.07    7.0  \n",
       "4          2.38   35.0  \n",
       "...         ...    ...  \n",
       "76552      5.01   16.5  \n",
       "76553      2.98   12.0  \n",
       "76554      1.42   16.5  \n",
       "76555      3.15   17.5  \n",
       "76556      1.08   10.5  \n",
       "\n",
       "[76557 rows x 6 columns]"
      ]
     },
     "execution_count": 3,
     "metadata": {},
     "output_type": "execute_result"
    }
   ],
   "source": [
    "rideshare = bpd.read_csv('data/rideshare_boston.csv')\n",
    "rideshare"
   ]
  },
  {
   "cell_type": "markdown",
   "metadata": {},
   "source": [
    "**Question 1.1.** The `'mode'` column contains several categories, which represent the ride tiers. A ride tier is an option for the type of car you're requesting. For example, when you request an Uber, one tier is an UberXL, which corresponds to a larger vehicle like an SUV. Another is Uber Pool, which is for a shared ride. (Uber Pool was phased out in 2020 due to COVID, but has recently been reintroduced as [UberX Share](https://bgr.com/tech/uber-pool-is-finally-back-but-with-a-brand-new-name/).) \n",
    "\n",
    "Below, assign `lyft_modes` to an array of the names of all unique Lyft ride modes, and `uber_modes` to an array of the names of all unique Uber ride modes."
   ]
  },
  {
   "cell_type": "code",
   "execution_count": 4,
   "metadata": {},
   "outputs": [
    {
     "name": "stdout",
     "output_type": "stream",
     "text": [
      "lyft_modes: ['Black SUV' 'Black' 'UberXL' 'UberPool' 'WAV' 'UberX']\n",
      "uber_modes: ['Lyft XL' 'Lyft' 'Lux' 'Lux Black XL' 'Lux Black' 'Shared']\n"
     ]
    }
   ],
   "source": [
    "lyft_modes = rideshare[rideshare.get('app') == 'Uber'].get('mode').unique()\n",
    "uber_modes = rideshare[rideshare.get('app') == 'Lyft'].get('mode').unique()\n",
    "\n",
    "# Don't change the following two lines:\n",
    "print('lyft_modes:', lyft_modes)\n",
    "print('uber_modes:', uber_modes)\n",
    "# lyft_modes, uber_modes"
   ]
  },
  {
   "cell_type": "code",
   "execution_count": 5,
   "metadata": {
    "deletable": false,
    "editable": false
   },
   "outputs": [
    {
     "data": {
      "text/html": [
       "<p><strong><pre style='display: inline;'>q1_1</pre></strong> passed!</p>"
      ],
      "text/plain": [
       "q1_1 results: All test cases passed!"
      ]
     },
     "execution_count": 5,
     "metadata": {},
     "output_type": "execute_result"
    }
   ],
   "source": [
    "grader.check(\"q1_1\")"
   ]
  },
  {
   "cell_type": "markdown",
   "metadata": {},
   "source": [
    "For the next few problems, we will be working with basic Lyft and UberX ride modes only, since they are the most commonly used ride tiers for each company. Run the next cell to query only the basic Lyft rides and UberX rides. We are saving these rides in a DataFrame called `economy_rides`."
   ]
  },
  {
   "cell_type": "code",
   "execution_count": 6,
   "metadata": {},
   "outputs": [
    {
     "data": {
      "text/html": [
       "<div>\n",
       "<style scoped>\n",
       "    .dataframe tbody tr th:only-of-type {\n",
       "        vertical-align: middle;\n",
       "    }\n",
       "\n",
       "    .dataframe tbody tr th {\n",
       "        vertical-align: top;\n",
       "    }\n",
       "\n",
       "    .dataframe thead th {\n",
       "        text-align: right;\n",
       "    }\n",
       "</style>\n",
       "<table border=\"1\" class=\"dataframe\">\n",
       "  <thead>\n",
       "    <tr style=\"text-align: right;\">\n",
       "      <th></th>\n",
       "      <th>app</th>\n",
       "      <th>mode</th>\n",
       "      <th>destination</th>\n",
       "      <th>source</th>\n",
       "      <th>distance</th>\n",
       "      <th>price</th>\n",
       "    </tr>\n",
       "  </thead>\n",
       "  <tbody>\n",
       "    <tr>\n",
       "      <th>0</th>\n",
       "      <td>Lyft</td>\n",
       "      <td>Lyft</td>\n",
       "      <td>Northeastern University</td>\n",
       "      <td>Back Bay</td>\n",
       "      <td>1.07</td>\n",
       "      <td>7.0</td>\n",
       "    </tr>\n",
       "    <tr>\n",
       "      <th>1</th>\n",
       "      <td>Lyft</td>\n",
       "      <td>Lyft</td>\n",
       "      <td>Northeastern University</td>\n",
       "      <td>Beacon Hill</td>\n",
       "      <td>2.47</td>\n",
       "      <td>9.0</td>\n",
       "    </tr>\n",
       "    <tr>\n",
       "      <th>2</th>\n",
       "      <td>Lyft</td>\n",
       "      <td>Lyft</td>\n",
       "      <td>Beacon Hill</td>\n",
       "      <td>Fenway</td>\n",
       "      <td>2.41</td>\n",
       "      <td>9.0</td>\n",
       "    </tr>\n",
       "    <tr>\n",
       "      <th>3</th>\n",
       "      <td>Lyft</td>\n",
       "      <td>Lyft</td>\n",
       "      <td>Fenway</td>\n",
       "      <td>Beacon Hill</td>\n",
       "      <td>2.39</td>\n",
       "      <td>9.0</td>\n",
       "    </tr>\n",
       "    <tr>\n",
       "      <th>4</th>\n",
       "      <td>Uber</td>\n",
       "      <td>UberX</td>\n",
       "      <td>Fenway</td>\n",
       "      <td>West End</td>\n",
       "      <td>2.84</td>\n",
       "      <td>10.5</td>\n",
       "    </tr>\n",
       "    <tr>\n",
       "      <th>...</th>\n",
       "      <td>...</td>\n",
       "      <td>...</td>\n",
       "      <td>...</td>\n",
       "      <td>...</td>\n",
       "      <td>...</td>\n",
       "      <td>...</td>\n",
       "    </tr>\n",
       "    <tr>\n",
       "      <th>12672</th>\n",
       "      <td>Lyft</td>\n",
       "      <td>Lyft</td>\n",
       "      <td>Northeastern University</td>\n",
       "      <td>Financial District</td>\n",
       "      <td>3.35</td>\n",
       "      <td>13.5</td>\n",
       "    </tr>\n",
       "    <tr>\n",
       "      <th>12673</th>\n",
       "      <td>Lyft</td>\n",
       "      <td>Lyft</td>\n",
       "      <td>North Station</td>\n",
       "      <td>Fenway</td>\n",
       "      <td>3.22</td>\n",
       "      <td>10.5</td>\n",
       "    </tr>\n",
       "    <tr>\n",
       "      <th>12674</th>\n",
       "      <td>Uber</td>\n",
       "      <td>UberX</td>\n",
       "      <td>Beacon Hill</td>\n",
       "      <td>Boston University</td>\n",
       "      <td>2.79</td>\n",
       "      <td>10.5</td>\n",
       "    </tr>\n",
       "    <tr>\n",
       "      <th>12675</th>\n",
       "      <td>Uber</td>\n",
       "      <td>UberX</td>\n",
       "      <td>West End</td>\n",
       "      <td>Northeastern University</td>\n",
       "      <td>3.34</td>\n",
       "      <td>12.5</td>\n",
       "    </tr>\n",
       "    <tr>\n",
       "      <th>12676</th>\n",
       "      <td>Lyft</td>\n",
       "      <td>Lyft</td>\n",
       "      <td>Boston University</td>\n",
       "      <td>Financial District</td>\n",
       "      <td>5.01</td>\n",
       "      <td>16.5</td>\n",
       "    </tr>\n",
       "  </tbody>\n",
       "</table>\n",
       "<p>12677 rows × 6 columns</p>\n",
       "</div>"
      ],
      "text/plain": [
       "        app   mode              destination                   source  \\\n",
       "0      Lyft   Lyft  Northeastern University                 Back Bay   \n",
       "1      Lyft   Lyft  Northeastern University              Beacon Hill   \n",
       "2      Lyft   Lyft              Beacon Hill                   Fenway   \n",
       "3      Lyft   Lyft                   Fenway              Beacon Hill   \n",
       "4      Uber  UberX                   Fenway                 West End   \n",
       "...     ...    ...                      ...                      ...   \n",
       "12672  Lyft   Lyft  Northeastern University       Financial District   \n",
       "12673  Lyft   Lyft            North Station                   Fenway   \n",
       "12674  Uber  UberX              Beacon Hill        Boston University   \n",
       "12675  Uber  UberX                 West End  Northeastern University   \n",
       "12676  Lyft   Lyft        Boston University       Financial District   \n",
       "\n",
       "       distance  price  \n",
       "0          1.07    7.0  \n",
       "1          2.47    9.0  \n",
       "2          2.41    9.0  \n",
       "3          2.39    9.0  \n",
       "4          2.84   10.5  \n",
       "...         ...    ...  \n",
       "12672      3.35   13.5  \n",
       "12673      3.22   10.5  \n",
       "12674      2.79   10.5  \n",
       "12675      3.34   12.5  \n",
       "12676      5.01   16.5  \n",
       "\n",
       "[12677 rows x 6 columns]"
      ]
     },
     "execution_count": 6,
     "metadata": {},
     "output_type": "execute_result"
    }
   ],
   "source": [
    "lyft_mode = (rideshare.get('app') == 'Lyft') & (rideshare.get('mode') == 'Lyft')\n",
    "uber_x_mode = (rideshare.get('app') == 'Uber') & (rideshare.get('mode') == 'UberX')\n",
    "economy_rides = rideshare[lyft_mode | uber_x_mode].reset_index(drop=True)\n",
    "economy_rides"
   ]
  },
  {
   "cell_type": "markdown",
   "metadata": {},
   "source": [
    "Moving forward, \"Lyft\" will refer to Lyft mode rides, and \"Uber\" will refer to UberX mode rides. Subsequent questions will use the `economy_rides` DataFrame, not the `rideshare` DataFrame.\n",
    "\n",
    "**Question 1.2.** To compare the price of Lyft rides and Uber rides, let’s find the price per mile for each ride. For example, a ride that cost \\\\$10 and that drove a distance of 2.5 miles has a price per mile of $\\frac{10}{2.5}$ = \\\\$4 per mile.\n",
    "\n",
    "In the `economy_rides` DataFrame, add a new column named `'price_per_mile'` which contains the price per mile for each ride. Then, find the max, min, median, and mean `'price_per_mile'` of all rides in `economy_rides`, and save these values **in this order** in an array called `price_stats`."
   ]
  },
  {
   "cell_type": "code",
   "execution_count": 7,
   "metadata": {
    "scrolled": true
   },
   "outputs": [
    {
     "data": {
      "text/plain": [
       "array([233.33333333,   1.91693291,   4.62555066,   5.60581587])"
      ]
     },
     "execution_count": 7,
     "metadata": {},
     "output_type": "execute_result"
    }
   ],
   "source": [
    "economy_rides = economy_rides.assign(price_per_mile=economy_rides.get('price')/economy_rides.get('distance'))\n",
    "price_per_mile = economy_rides.get('price_per_mile')\n",
    "price_stats = np.array([price_per_mile.max(), price_per_mile.min(), price_per_mile.median(), price_per_mile.mean()])\n",
    "price_stats"
   ]
  },
  {
   "cell_type": "code",
   "execution_count": 8,
   "metadata": {
    "deletable": false,
    "editable": false
   },
   "outputs": [
    {
     "data": {
      "text/html": [
       "<p><strong><pre style='display: inline;'>q1_2</pre></strong> passed!</p>"
      ],
      "text/plain": [
       "q1_2 results: All test cases passed!"
      ]
     },
     "execution_count": 8,
     "metadata": {},
     "output_type": "execute_result"
    }
   ],
   "source": [
    "grader.check(\"q1_2\")"
   ]
  },
  {
   "cell_type": "markdown",
   "metadata": {},
   "source": [
    "**Question 1.3.** Using the `economy_rides` DataFrame, calculate the difference between the **mean** `'price_per_mile'` of Uber rides and Lyft rides. Assign your answer to `observed_difference`.\n",
    "\n",
    "$$\\text{observed difference} = \\text{mean Uber price per mile} - \\text{mean Lyft price per mile}$$"
   ]
  },
  {
   "cell_type": "code",
   "execution_count": 9,
   "metadata": {},
   "outputs": [
    {
     "data": {
      "text/plain": [
       "0.43794709632194806"
      ]
     },
     "execution_count": 9,
     "metadata": {},
     "output_type": "execute_result"
    }
   ],
   "source": [
    "observed_difference = economy_rides[economy_rides.get('app') == 'Uber'].get('price_per_mile').mean() - economy_rides[economy_rides.get('app') == 'Lyft'].get('price_per_mile').mean()\n",
    "observed_difference"
   ]
  },
  {
   "cell_type": "code",
   "execution_count": 10,
   "metadata": {
    "deletable": false,
    "editable": false
   },
   "outputs": [
    {
     "data": {
      "text/html": [
       "<p><strong><pre style='display: inline;'>q1_3</pre></strong> passed!</p>"
      ],
      "text/plain": [
       "q1_3 results: All test cases passed!"
      ]
     },
     "execution_count": 10,
     "metadata": {},
     "output_type": "execute_result"
    }
   ],
   "source": [
    "grader.check(\"q1_3\")"
   ]
  },
  {
   "cell_type": "markdown",
   "metadata": {},
   "source": [
    "**Question 1.4.** What does the number you obtained for `observed_difference` mean? Assign `q1_4` to 1, 2, 3, or 4, corresponding to the best explanation below."
   ]
  },
  {
   "cell_type": "markdown",
   "metadata": {},
   "source": [
    "1. In our sample, the mean Uber price per mile is higher than the mean Lyft price per mile by about 44 percent.\n",
    "2. In our sample, the mean Uber price per mile is higher than the mean Lyft price per mile by about 44 cents per mile.\n",
    "3. In our sample, the mean Uber price per mile is lower than the mean Lyft price per mile by about 44 percent.\n",
    "4. In our sample, the mean Lyft price per mile is higher than the mean Uber price per mile by about 44 cents per mile."
   ]
  },
  {
   "cell_type": "code",
   "execution_count": 11,
   "metadata": {},
   "outputs": [],
   "source": [
    "q1_4 = 2"
   ]
  },
  {
   "cell_type": "code",
   "execution_count": 12,
   "metadata": {
    "deletable": false,
    "editable": false
   },
   "outputs": [
    {
     "data": {
      "text/html": [
       "<p><strong><pre style='display: inline;'>q1_4</pre></strong> passed!</p>"
      ],
      "text/plain": [
       "q1_4 results: All test cases passed!"
      ]
     },
     "execution_count": 12,
     "metadata": {},
     "output_type": "execute_result"
    }
   ],
   "source": [
    "grader.check(\"q1_4\")"
   ]
  },
  {
   "cell_type": "markdown",
   "metadata": {
    "deletable": false,
    "editable": false
   },
   "source": [
    "Now we want to conduct a permutation test (i.e. an A/B test) to see if it is by chance that the average price per mile for Uber rides is higher than the average price per mile for Lyft rides in our sample, or if Uber rides really are more expensive per mile on average than Lyft rides. \n",
    "\n",
    "- **Null Hypothesis:** The prices per mile of Uber rides and Lyft rides come from the same distribution.  \n",
    "- **Alternative Hypothesis:** The prices per mile of Uber rides are higher on average than the prices per mile of Lyft rides.\n",
    "\n",
    "**Question 1.5.** Assign `uber_lyft_price` to a DataFrame with only two columns, `'app'` and `'price_per_mile'`, since these are the only relevant columns in `economy_rides` for this permutation test.\n",
    "\n",
    "<!--\n",
    "BEGIN QUESTION\n",
    "name: q1_5\n",
    "-->"
   ]
  },
  {
   "cell_type": "code",
   "execution_count": 13,
   "metadata": {},
   "outputs": [
    {
     "data": {
      "text/html": [
       "<div>\n",
       "<style scoped>\n",
       "    .dataframe tbody tr th:only-of-type {\n",
       "        vertical-align: middle;\n",
       "    }\n",
       "\n",
       "    .dataframe tbody tr th {\n",
       "        vertical-align: top;\n",
       "    }\n",
       "\n",
       "    .dataframe thead th {\n",
       "        text-align: right;\n",
       "    }\n",
       "</style>\n",
       "<table border=\"1\" class=\"dataframe\">\n",
       "  <thead>\n",
       "    <tr style=\"text-align: right;\">\n",
       "      <th></th>\n",
       "      <th>app</th>\n",
       "      <th>price_per_mile</th>\n",
       "    </tr>\n",
       "  </thead>\n",
       "  <tbody>\n",
       "    <tr>\n",
       "      <th>0</th>\n",
       "      <td>Lyft</td>\n",
       "      <td>6.542056</td>\n",
       "    </tr>\n",
       "    <tr>\n",
       "      <th>1</th>\n",
       "      <td>Lyft</td>\n",
       "      <td>3.643725</td>\n",
       "    </tr>\n",
       "    <tr>\n",
       "      <th>2</th>\n",
       "      <td>Lyft</td>\n",
       "      <td>3.734440</td>\n",
       "    </tr>\n",
       "    <tr>\n",
       "      <th>3</th>\n",
       "      <td>Lyft</td>\n",
       "      <td>3.765690</td>\n",
       "    </tr>\n",
       "    <tr>\n",
       "      <th>4</th>\n",
       "      <td>Uber</td>\n",
       "      <td>3.697183</td>\n",
       "    </tr>\n",
       "    <tr>\n",
       "      <th>...</th>\n",
       "      <td>...</td>\n",
       "      <td>...</td>\n",
       "    </tr>\n",
       "    <tr>\n",
       "      <th>12672</th>\n",
       "      <td>Lyft</td>\n",
       "      <td>4.029851</td>\n",
       "    </tr>\n",
       "    <tr>\n",
       "      <th>12673</th>\n",
       "      <td>Lyft</td>\n",
       "      <td>3.260870</td>\n",
       "    </tr>\n",
       "    <tr>\n",
       "      <th>12674</th>\n",
       "      <td>Uber</td>\n",
       "      <td>3.763441</td>\n",
       "    </tr>\n",
       "    <tr>\n",
       "      <th>12675</th>\n",
       "      <td>Uber</td>\n",
       "      <td>3.742515</td>\n",
       "    </tr>\n",
       "    <tr>\n",
       "      <th>12676</th>\n",
       "      <td>Lyft</td>\n",
       "      <td>3.293413</td>\n",
       "    </tr>\n",
       "  </tbody>\n",
       "</table>\n",
       "<p>12677 rows × 2 columns</p>\n",
       "</div>"
      ],
      "text/plain": [
       "        app  price_per_mile\n",
       "0      Lyft        6.542056\n",
       "1      Lyft        3.643725\n",
       "2      Lyft        3.734440\n",
       "3      Lyft        3.765690\n",
       "4      Uber        3.697183\n",
       "...     ...             ...\n",
       "12672  Lyft        4.029851\n",
       "12673  Lyft        3.260870\n",
       "12674  Uber        3.763441\n",
       "12675  Uber        3.742515\n",
       "12676  Lyft        3.293413\n",
       "\n",
       "[12677 rows x 2 columns]"
      ]
     },
     "execution_count": 13,
     "metadata": {},
     "output_type": "execute_result"
    }
   ],
   "source": [
    "uber_lyft_price = bpd.DataFrame().assign(app=economy_rides.get('app'), price_per_mile=economy_rides.get('price_per_mile'))\n",
    "uber_lyft_price"
   ]
  },
  {
   "cell_type": "code",
   "execution_count": 14,
   "metadata": {
    "deletable": false,
    "editable": false
   },
   "outputs": [
    {
     "data": {
      "text/html": [
       "<p><strong><pre style='display: inline;'>q1_5</pre></strong> passed!</p>"
      ],
      "text/plain": [
       "q1_5 results: All test cases passed!"
      ]
     },
     "execution_count": 14,
     "metadata": {},
     "output_type": "execute_result"
    }
   ],
   "source": [
    "grader.check(\"q1_5\")"
   ]
  },
  {
   "cell_type": "markdown",
   "metadata": {},
   "source": [
    "**Question 1.6.** To perform the permutation test, 500 times, create two random groups by shuffling the `'app'` column of `uber_lyft_price`. Don't change the `'price_per_mile'` column. For each pair of random groups, calculate the difference in mean price per mile (Uber minus Lyft) and store your 500 differences in the `differences` array.  \n",
    "\n",
    "*Note*: Since we are working with a relatively large data set, it may take **up to five minutes** to generate 500 permutations. One suggestion is to make sure your code works correctly with fewer repetitions, say, 20, before using 500 repetitions."
   ]
  },
  {
   "cell_type": "code",
   "execution_count": 15,
   "metadata": {},
   "outputs": [
    {
     "name": "stdout",
     "output_type": "stream",
     "text": [
      "[-0.14302529  0.04256773 -0.00870551 -0.05362413 -0.17060302  0.05845867\n",
      " -0.08211038 -0.08342916 -0.04795688 -0.09586698]\n"
     ]
    }
   ],
   "source": [
    "differences = np.array([])\n",
    "# differences_t = np.array([])\n",
    "repetitions = 500\n",
    "for i in range(repetitions):\n",
    "    permutation = uber_lyft_price.assign(shuffled = np.random.permutation(uber_lyft_price.get('app')))\n",
    "    permutation_mean = permutation.groupby('shuffled').mean()\n",
    "    # differences_t = np.append(differences_t, permutation[permutation.get('shuffled') == 'Uber'].get('price_per_mile').mean() - permutation[permutation.get('shuffled') == 'Lyft'].get('price_per_mile').mean())\n",
    "    differences = np.append(differences, permutation_mean.loc['Uber'] - permutation_mean.loc['Lyft'])\n",
    "\n",
    "# Just display the first ten differences.\n",
    "# print(differences_t[:10])\n",
    "\n",
    "print(differences[:10])"
   ]
  },
  {
   "cell_type": "code",
   "execution_count": 16,
   "metadata": {
    "deletable": false,
    "editable": false
   },
   "outputs": [
    {
     "data": {
      "text/html": [
       "<p><strong><pre style='display: inline;'>q1_6</pre></strong> passed!</p>"
      ],
      "text/plain": [
       "q1_6 results: All test cases passed!"
      ]
     },
     "execution_count": 16,
     "metadata": {},
     "output_type": "execute_result"
    }
   ],
   "source": [
    "grader.check(\"q1_6\")"
   ]
  },
  {
   "cell_type": "markdown",
   "metadata": {},
   "source": [
    "**Question 1.7.** Compute a p-value for this hypothesis test and assign your answer to `p_val`. To decide whether to use `<=` or `>=` in the calculation of the p-value, think about whether larger values or smaller values of our test statistic favor the alternative hypothesis."
   ]
  },
  {
   "cell_type": "code",
   "execution_count": 17,
   "metadata": {},
   "outputs": [
    {
     "data": {
      "text/plain": [
       "0.0"
      ]
     },
     "execution_count": 17,
     "metadata": {},
     "output_type": "execute_result"
    }
   ],
   "source": [
    "p_val = np.count_nonzero(differences >= observed_difference) / repetitions\n",
    "p_val"
   ]
  },
  {
   "cell_type": "code",
   "execution_count": 18,
   "metadata": {
    "deletable": false,
    "editable": false
   },
   "outputs": [
    {
     "data": {
      "text/html": [
       "<p><strong><pre style='display: inline;'>q1_7</pre></strong> passed!</p>"
      ],
      "text/plain": [
       "q1_7 results: All test cases passed!"
      ]
     },
     "execution_count": 18,
     "metadata": {},
     "output_type": "execute_result"
    }
   ],
   "source": [
    "grader.check(\"q1_7\")"
   ]
  },
  {
   "cell_type": "markdown",
   "metadata": {},
   "source": [
    "**Question 1.8.** Assign the variable `q1_8` to a **list** of all the true statements below."
   ]
  },
  {
   "cell_type": "markdown",
   "metadata": {},
   "source": [
    "1. We accept the null hypothesis at the 0.05 significance level.\n",
    "2. We reject the null hypothesis at the 0.01 significance level.\n",
    "3. We fail to reject the null hypothesis at the 0.01 significance level.\n",
    "4. We accept the null hypothesis at the 0.01 significance level.\n",
    "5. We fail to reject the null hypothesis at the 0.05 significance level.\n",
    "6. We reject the null hypothesis at the 0.05 significance level."
   ]
  },
  {
   "cell_type": "code",
   "execution_count": 19,
   "metadata": {},
   "outputs": [],
   "source": [
    "q1_8 = [1, 6]"
   ]
  },
  {
   "cell_type": "code",
   "execution_count": 20,
   "metadata": {
    "deletable": false,
    "editable": false
   },
   "outputs": [
    {
     "data": {
      "text/html": [
       "<p><strong><pre style='display: inline;'>q1_8</pre></strong> passed!</p>"
      ],
      "text/plain": [
       "q1_8 results: All test cases passed!"
      ]
     },
     "execution_count": 20,
     "metadata": {},
     "output_type": "execute_result"
    }
   ],
   "source": [
    "grader.check(\"q1_8\")"
   ]
  },
  {
   "cell_type": "markdown",
   "metadata": {},
   "source": [
    "**Question 1.9.** Suppose in this question you had shuffled the `'price_per_mile'` column instead and kept the `'app'` column in the same order. Assign `q1_9` to either 1, 2, 3, or 4, corresponding to the true statement below.\n",
    "\n",
    "\n",
    "1. The new p-value from shuffling `'price_per_mile'` would be $1 - p$, where $p$ is the old p-value from shuffling `'app'` (i.e. your answer to Question 1.7).\n",
    "2. We would need to change our null hypothesis in order to shuffle the `'price_per_mile'` column. \n",
    "3. There would be no difference in the conclusion of the test if we had shuffled the `'price_per_mile'` column instead.\n",
    "4. The `'price_per_mile'` column cannot be shuffled because it contains numbers."
   ]
  },
  {
   "cell_type": "code",
   "execution_count": 21,
   "metadata": {},
   "outputs": [],
   "source": [
    "q1_9 = 3"
   ]
  },
  {
   "cell_type": "code",
   "execution_count": 22,
   "metadata": {
    "deletable": false,
    "editable": false
   },
   "outputs": [
    {
     "data": {
      "text/html": [
       "<p><strong><pre style='display: inline;'>q1_9</pre></strong> passed!</p>"
      ],
      "text/plain": [
       "q1_9 results: All test cases passed!"
      ]
     },
     "execution_count": 22,
     "metadata": {},
     "output_type": "execute_result"
    }
   ],
   "source": [
    "grader.check(\"q1_9\")"
   ]
  },
  {
   "cell_type": "markdown",
   "metadata": {},
   "source": [
    "**Question 1.10.** Which of the following choices best describes the purpose of shuffling one of the columns in our dataset in a permutation test? Assign `q1_10` to either 1, 2, 3, or 4.\n",
    "1. Shuffling allows us to generate new data under the null hypothesis, which we can use in testing our hypothesis.\n",
    "2. Shuffling mitigates noise in our data by generating new permutations of the data.\n",
    "3. Shuffling is a special case of bootstrapping and allows us to produce interval estimates.\n",
    "4. Shuffling allows us to generate new data under the alternative hypothesis, which explains that the data come from different distributions."
   ]
  },
  {
   "cell_type": "code",
   "execution_count": 23,
   "metadata": {},
   "outputs": [],
   "source": [
    "q1_10 = 1"
   ]
  },
  {
   "cell_type": "code",
   "execution_count": 24,
   "metadata": {
    "deletable": false,
    "editable": false
   },
   "outputs": [
    {
     "data": {
      "text/html": [
       "<p><strong><pre style='display: inline;'>q1_10</pre></strong> passed!</p>"
      ],
      "text/plain": [
       "q1_10 results: All test cases passed!"
      ]
     },
     "execution_count": 24,
     "metadata": {},
     "output_type": "execute_result"
    }
   ],
   "source": [
    "grader.check(\"q1_10\")"
   ]
  },
  {
   "cell_type": "markdown",
   "metadata": {},
   "source": [
    "## 2. Cerealsly Sugary Percentiles 🥣"
   ]
  },
  {
   "cell_type": "markdown",
   "metadata": {},
   "source": [
    "Percentiles associate numbers in a dataset to their positions when the dataset is sorted in ascending order. You may be familiar with the idea of percentiles from height and weight measurements at the doctor's office, or from standardized test scores.\n",
    "\n",
    "There are many different ways to precisely define a percentile. In [Lecture 19](https://dsc10.com/resources/lectures/lec19/lec19.html#Percentiles), we saw two different approaches:\n",
    "- Using a mathematical definition (see the slide in Lecture 19 titled _[How to calculate percentiles using mathematical definition](https://dsc10.com/resources/lectures/lec19/lec19.html#How-to-calculate-percentiles-using-mathematical-definition)_).\n",
    "- Using `np.percentile`.\n",
    "\n",
    "In Questions 2.1 through 2.4, we will use the mathematical definition, and in Question 2.5, we will use `np.percentile`."
   ]
  },
  {
   "cell_type": "markdown",
   "metadata": {},
   "source": [
    "The file `cereal.csv` contains some nutritional information on different breakfast cereals. The data comes from [Kaggle](https://www.kaggle.com/datasets/crawford/80-cereals). The `'mfr'` column uses abbreviations for the manufacturer:\n",
    "- `'A'`: American Home Food Products\n",
    "- `'G'` General Mills\n",
    "- `'K'`: Kelloggs\n",
    "- `'N'`: Nabisco\n",
    "- `'P'`: Post\n",
    "- `'Q'`: Quaker Oats\n",
    "- `'R'`: Ralston Purina\n",
    "\n",
    "Other columns are:\n",
    "- `'name'`: the name of the cereal\n",
    "- `'type'`: C for cold cereals, H for hot cereals\n",
    "- `'calories'`: calories per serving\n",
    "- `'protein'`: grams of protein\n",
    "- `'fat'`: grams of fat\n",
    "- `'sodium'`: milligrams of sodium\n",
    "- `'fiber'`: grams of dietary fiber\n",
    "- `'carbo'`: grams of complex carbohydrates\n",
    "- `'sugars'`: grams of sugars\n",
    "- `'potass'`: milligrams of potassium\n",
    "- `'vitamins'`: vitamins and minerals - 0, 25, or 100, indicating the typical percentage of FDA recommended\n",
    "- `'shelf'`: display shelf (1, 2, or 3, counting from the floor)\n",
    "- `'weight'`: weight in ounces of one serving\n",
    "- `'cups'`: number of cups in one serving\n",
    "- `'rating'`: a nutritional rating of the cereal (higher means more nutritious)"
   ]
  },
  {
   "cell_type": "code",
   "execution_count": 25,
   "metadata": {},
   "outputs": [
    {
     "data": {
      "text/html": [
       "<div>\n",
       "<style scoped>\n",
       "    .dataframe tbody tr th:only-of-type {\n",
       "        vertical-align: middle;\n",
       "    }\n",
       "\n",
       "    .dataframe tbody tr th {\n",
       "        vertical-align: top;\n",
       "    }\n",
       "\n",
       "    .dataframe thead th {\n",
       "        text-align: right;\n",
       "    }\n",
       "</style>\n",
       "<table border=\"1\" class=\"dataframe\">\n",
       "  <thead>\n",
       "    <tr style=\"text-align: right;\">\n",
       "      <th></th>\n",
       "      <th>name</th>\n",
       "      <th>mfr</th>\n",
       "      <th>type</th>\n",
       "      <th>calories</th>\n",
       "      <th>protein</th>\n",
       "      <th>fat</th>\n",
       "      <th>sodium</th>\n",
       "      <th>fiber</th>\n",
       "      <th>carbo</th>\n",
       "      <th>sugars</th>\n",
       "      <th>potass</th>\n",
       "      <th>vitamins</th>\n",
       "      <th>shelf</th>\n",
       "      <th>weight</th>\n",
       "      <th>cups</th>\n",
       "      <th>rating</th>\n",
       "    </tr>\n",
       "  </thead>\n",
       "  <tbody>\n",
       "    <tr>\n",
       "      <th>0</th>\n",
       "      <td>100% Bran</td>\n",
       "      <td>N</td>\n",
       "      <td>C</td>\n",
       "      <td>70</td>\n",
       "      <td>4</td>\n",
       "      <td>1</td>\n",
       "      <td>130</td>\n",
       "      <td>10.0</td>\n",
       "      <td>5.0</td>\n",
       "      <td>6</td>\n",
       "      <td>280</td>\n",
       "      <td>25</td>\n",
       "      <td>3</td>\n",
       "      <td>1.0</td>\n",
       "      <td>0.33</td>\n",
       "      <td>68.402973</td>\n",
       "    </tr>\n",
       "    <tr>\n",
       "      <th>1</th>\n",
       "      <td>100% Natural Bran</td>\n",
       "      <td>Q</td>\n",
       "      <td>C</td>\n",
       "      <td>120</td>\n",
       "      <td>3</td>\n",
       "      <td>5</td>\n",
       "      <td>15</td>\n",
       "      <td>2.0</td>\n",
       "      <td>8.0</td>\n",
       "      <td>8</td>\n",
       "      <td>135</td>\n",
       "      <td>0</td>\n",
       "      <td>3</td>\n",
       "      <td>1.0</td>\n",
       "      <td>1.00</td>\n",
       "      <td>33.983679</td>\n",
       "    </tr>\n",
       "    <tr>\n",
       "      <th>2</th>\n",
       "      <td>All-Bran</td>\n",
       "      <td>K</td>\n",
       "      <td>C</td>\n",
       "      <td>70</td>\n",
       "      <td>4</td>\n",
       "      <td>1</td>\n",
       "      <td>260</td>\n",
       "      <td>9.0</td>\n",
       "      <td>7.0</td>\n",
       "      <td>5</td>\n",
       "      <td>320</td>\n",
       "      <td>25</td>\n",
       "      <td>3</td>\n",
       "      <td>1.0</td>\n",
       "      <td>0.33</td>\n",
       "      <td>59.425505</td>\n",
       "    </tr>\n",
       "    <tr>\n",
       "      <th>3</th>\n",
       "      <td>All-Bran with Extra Fiber</td>\n",
       "      <td>K</td>\n",
       "      <td>C</td>\n",
       "      <td>50</td>\n",
       "      <td>4</td>\n",
       "      <td>0</td>\n",
       "      <td>140</td>\n",
       "      <td>14.0</td>\n",
       "      <td>8.0</td>\n",
       "      <td>0</td>\n",
       "      <td>330</td>\n",
       "      <td>25</td>\n",
       "      <td>3</td>\n",
       "      <td>1.0</td>\n",
       "      <td>0.50</td>\n",
       "      <td>93.704912</td>\n",
       "    </tr>\n",
       "    <tr>\n",
       "      <th>4</th>\n",
       "      <td>Almond Delight</td>\n",
       "      <td>R</td>\n",
       "      <td>C</td>\n",
       "      <td>110</td>\n",
       "      <td>2</td>\n",
       "      <td>2</td>\n",
       "      <td>200</td>\n",
       "      <td>1.0</td>\n",
       "      <td>14.0</td>\n",
       "      <td>8</td>\n",
       "      <td>-1</td>\n",
       "      <td>25</td>\n",
       "      <td>3</td>\n",
       "      <td>1.0</td>\n",
       "      <td>0.75</td>\n",
       "      <td>34.384843</td>\n",
       "    </tr>\n",
       "    <tr>\n",
       "      <th>...</th>\n",
       "      <td>...</td>\n",
       "      <td>...</td>\n",
       "      <td>...</td>\n",
       "      <td>...</td>\n",
       "      <td>...</td>\n",
       "      <td>...</td>\n",
       "      <td>...</td>\n",
       "      <td>...</td>\n",
       "      <td>...</td>\n",
       "      <td>...</td>\n",
       "      <td>...</td>\n",
       "      <td>...</td>\n",
       "      <td>...</td>\n",
       "      <td>...</td>\n",
       "      <td>...</td>\n",
       "      <td>...</td>\n",
       "    </tr>\n",
       "    <tr>\n",
       "      <th>72</th>\n",
       "      <td>Triples</td>\n",
       "      <td>G</td>\n",
       "      <td>C</td>\n",
       "      <td>110</td>\n",
       "      <td>2</td>\n",
       "      <td>1</td>\n",
       "      <td>250</td>\n",
       "      <td>0.0</td>\n",
       "      <td>21.0</td>\n",
       "      <td>3</td>\n",
       "      <td>60</td>\n",
       "      <td>25</td>\n",
       "      <td>3</td>\n",
       "      <td>1.0</td>\n",
       "      <td>0.75</td>\n",
       "      <td>39.106174</td>\n",
       "    </tr>\n",
       "    <tr>\n",
       "      <th>73</th>\n",
       "      <td>Trix</td>\n",
       "      <td>G</td>\n",
       "      <td>C</td>\n",
       "      <td>110</td>\n",
       "      <td>1</td>\n",
       "      <td>1</td>\n",
       "      <td>140</td>\n",
       "      <td>0.0</td>\n",
       "      <td>13.0</td>\n",
       "      <td>12</td>\n",
       "      <td>25</td>\n",
       "      <td>25</td>\n",
       "      <td>2</td>\n",
       "      <td>1.0</td>\n",
       "      <td>1.00</td>\n",
       "      <td>27.753301</td>\n",
       "    </tr>\n",
       "    <tr>\n",
       "      <th>74</th>\n",
       "      <td>Wheat Chex</td>\n",
       "      <td>R</td>\n",
       "      <td>C</td>\n",
       "      <td>100</td>\n",
       "      <td>3</td>\n",
       "      <td>1</td>\n",
       "      <td>230</td>\n",
       "      <td>3.0</td>\n",
       "      <td>17.0</td>\n",
       "      <td>3</td>\n",
       "      <td>115</td>\n",
       "      <td>25</td>\n",
       "      <td>1</td>\n",
       "      <td>1.0</td>\n",
       "      <td>0.67</td>\n",
       "      <td>49.787445</td>\n",
       "    </tr>\n",
       "    <tr>\n",
       "      <th>75</th>\n",
       "      <td>Wheaties</td>\n",
       "      <td>G</td>\n",
       "      <td>C</td>\n",
       "      <td>100</td>\n",
       "      <td>3</td>\n",
       "      <td>1</td>\n",
       "      <td>200</td>\n",
       "      <td>3.0</td>\n",
       "      <td>17.0</td>\n",
       "      <td>3</td>\n",
       "      <td>110</td>\n",
       "      <td>25</td>\n",
       "      <td>1</td>\n",
       "      <td>1.0</td>\n",
       "      <td>1.00</td>\n",
       "      <td>51.592193</td>\n",
       "    </tr>\n",
       "    <tr>\n",
       "      <th>76</th>\n",
       "      <td>Wheaties Honey Gold</td>\n",
       "      <td>G</td>\n",
       "      <td>C</td>\n",
       "      <td>110</td>\n",
       "      <td>2</td>\n",
       "      <td>1</td>\n",
       "      <td>200</td>\n",
       "      <td>1.0</td>\n",
       "      <td>16.0</td>\n",
       "      <td>8</td>\n",
       "      <td>60</td>\n",
       "      <td>25</td>\n",
       "      <td>1</td>\n",
       "      <td>1.0</td>\n",
       "      <td>0.75</td>\n",
       "      <td>36.187559</td>\n",
       "    </tr>\n",
       "  </tbody>\n",
       "</table>\n",
       "<p>77 rows × 16 columns</p>\n",
       "</div>"
      ],
      "text/plain": [
       "                         name mfr type  calories  protein  fat  sodium  fiber  \\\n",
       "0                   100% Bran   N    C        70        4    1     130   10.0   \n",
       "1           100% Natural Bran   Q    C       120        3    5      15    2.0   \n",
       "2                    All-Bran   K    C        70        4    1     260    9.0   \n",
       "3   All-Bran with Extra Fiber   K    C        50        4    0     140   14.0   \n",
       "4              Almond Delight   R    C       110        2    2     200    1.0   \n",
       "..                        ...  ..  ...       ...      ...  ...     ...    ...   \n",
       "72                    Triples   G    C       110        2    1     250    0.0   \n",
       "73                       Trix   G    C       110        1    1     140    0.0   \n",
       "74                 Wheat Chex   R    C       100        3    1     230    3.0   \n",
       "75                   Wheaties   G    C       100        3    1     200    3.0   \n",
       "76        Wheaties Honey Gold   G    C       110        2    1     200    1.0   \n",
       "\n",
       "    carbo  sugars  potass  vitamins  shelf  weight  cups     rating  \n",
       "0     5.0       6     280        25      3     1.0  0.33  68.402973  \n",
       "1     8.0       8     135         0      3     1.0  1.00  33.983679  \n",
       "2     7.0       5     320        25      3     1.0  0.33  59.425505  \n",
       "3     8.0       0     330        25      3     1.0  0.50  93.704912  \n",
       "4    14.0       8      -1        25      3     1.0  0.75  34.384843  \n",
       "..    ...     ...     ...       ...    ...     ...   ...        ...  \n",
       "72   21.0       3      60        25      3     1.0  0.75  39.106174  \n",
       "73   13.0      12      25        25      2     1.0  1.00  27.753301  \n",
       "74   17.0       3     115        25      1     1.0  0.67  49.787445  \n",
       "75   17.0       3     110        25      1     1.0  1.00  51.592193  \n",
       "76   16.0       8      60        25      1     1.0  0.75  36.187559  \n",
       "\n",
       "[77 rows x 16 columns]"
      ]
     },
     "execution_count": 25,
     "metadata": {},
     "output_type": "execute_result"
    }
   ],
   "source": [
    "cereal = bpd.read_csv('data/cereal.csv')\n",
    "cereal"
   ]
  },
  {
   "cell_type": "markdown",
   "metadata": {},
   "source": [
    "**Question 2.1.** Pick the best choice of bins below for a histogram showing the distribution of `'rating'`, then create the histogram.\n",
    "\n",
    "Use one of the following:\n",
    "\n",
    "- `rating_bins = np.arange(0, 50, 10)`\n",
    "- `rating_bins = np.arange(0, 120, 10)`\n",
    "- `rating_bins = np.arange(0, 150, 50)`\n",
    "- `rating_bins = np.arange(0, 1000, 10)`"
   ]
  },
  {
   "cell_type": "code",
   "execution_count": 26,
   "metadata": {},
   "outputs": [
    {
     "data": {
      "image/png": "[encoded data removed]",
      "text/plain": [
       "<Figure size 432x288 with 1 Axes>"
      ]
     },
     "metadata": {},
     "output_type": "display_data"
    }
   ],
   "source": [
    "rating_bins = np.arange(0, 120, 10)\n",
    "cereal.plot(kind='hist', density=True, bins=rating_bins, y='rating', ec='w');\n",
    "# Now create a density histogram showing the distribution of rating using rating_bins"
   ]
  },
  {
   "cell_type": "markdown",
   "metadata": {},
   "source": [
    "Consider only the cereals that were manufactured by General Mills (`'G'`) and have more than 7 grams of sugar."
   ]
  },
  {
   "cell_type": "code",
   "execution_count": 27,
   "metadata": {
    "scrolled": true
   },
   "outputs": [
    {
     "data": {
      "text/html": [
       "<div>\n",
       "<style scoped>\n",
       "    .dataframe tbody tr th:only-of-type {\n",
       "        vertical-align: middle;\n",
       "    }\n",
       "\n",
       "    .dataframe tbody tr th {\n",
       "        vertical-align: top;\n",
       "    }\n",
       "\n",
       "    .dataframe thead th {\n",
       "        text-align: right;\n",
       "    }\n",
       "</style>\n",
       "<table border=\"1\" class=\"dataframe\">\n",
       "  <thead>\n",
       "    <tr style=\"text-align: right;\">\n",
       "      <th></th>\n",
       "      <th>name</th>\n",
       "      <th>mfr</th>\n",
       "      <th>type</th>\n",
       "      <th>calories</th>\n",
       "      <th>protein</th>\n",
       "      <th>fat</th>\n",
       "      <th>sodium</th>\n",
       "      <th>fiber</th>\n",
       "      <th>carbo</th>\n",
       "      <th>sugars</th>\n",
       "      <th>potass</th>\n",
       "      <th>vitamins</th>\n",
       "      <th>shelf</th>\n",
       "      <th>weight</th>\n",
       "      <th>cups</th>\n",
       "      <th>rating</th>\n",
       "    </tr>\n",
       "  </thead>\n",
       "  <tbody>\n",
       "    <tr>\n",
       "      <th>5</th>\n",
       "      <td>Apple Cinnamon Cheerios</td>\n",
       "      <td>G</td>\n",
       "      <td>C</td>\n",
       "      <td>110</td>\n",
       "      <td>2</td>\n",
       "      <td>2</td>\n",
       "      <td>180</td>\n",
       "      <td>1.5</td>\n",
       "      <td>10.5</td>\n",
       "      <td>10</td>\n",
       "      <td>70</td>\n",
       "      <td>25</td>\n",
       "      <td>1</td>\n",
       "      <td>1.00</td>\n",
       "      <td>0.75</td>\n",
       "      <td>29.509541</td>\n",
       "    </tr>\n",
       "    <tr>\n",
       "      <th>7</th>\n",
       "      <td>Basic 4</td>\n",
       "      <td>G</td>\n",
       "      <td>C</td>\n",
       "      <td>130</td>\n",
       "      <td>3</td>\n",
       "      <td>2</td>\n",
       "      <td>210</td>\n",
       "      <td>2.0</td>\n",
       "      <td>18.0</td>\n",
       "      <td>8</td>\n",
       "      <td>100</td>\n",
       "      <td>25</td>\n",
       "      <td>3</td>\n",
       "      <td>1.33</td>\n",
       "      <td>0.75</td>\n",
       "      <td>37.038562</td>\n",
       "    </tr>\n",
       "    <tr>\n",
       "      <th>12</th>\n",
       "      <td>Cinnamon Toast Crunch</td>\n",
       "      <td>G</td>\n",
       "      <td>C</td>\n",
       "      <td>120</td>\n",
       "      <td>1</td>\n",
       "      <td>3</td>\n",
       "      <td>210</td>\n",
       "      <td>0.0</td>\n",
       "      <td>13.0</td>\n",
       "      <td>9</td>\n",
       "      <td>45</td>\n",
       "      <td>25</td>\n",
       "      <td>2</td>\n",
       "      <td>1.00</td>\n",
       "      <td>0.75</td>\n",
       "      <td>19.823573</td>\n",
       "    </tr>\n",
       "    <tr>\n",
       "      <th>14</th>\n",
       "      <td>Cocoa Puffs</td>\n",
       "      <td>G</td>\n",
       "      <td>C</td>\n",
       "      <td>110</td>\n",
       "      <td>1</td>\n",
       "      <td>1</td>\n",
       "      <td>180</td>\n",
       "      <td>0.0</td>\n",
       "      <td>12.0</td>\n",
       "      <td>13</td>\n",
       "      <td>55</td>\n",
       "      <td>25</td>\n",
       "      <td>2</td>\n",
       "      <td>1.00</td>\n",
       "      <td>1.00</td>\n",
       "      <td>22.736446</td>\n",
       "    </tr>\n",
       "    <tr>\n",
       "      <th>18</th>\n",
       "      <td>Count Chocula</td>\n",
       "      <td>G</td>\n",
       "      <td>C</td>\n",
       "      <td>110</td>\n",
       "      <td>1</td>\n",
       "      <td>1</td>\n",
       "      <td>180</td>\n",
       "      <td>0.0</td>\n",
       "      <td>12.0</td>\n",
       "      <td>13</td>\n",
       "      <td>65</td>\n",
       "      <td>25</td>\n",
       "      <td>2</td>\n",
       "      <td>1.00</td>\n",
       "      <td>1.00</td>\n",
       "      <td>22.396513</td>\n",
       "    </tr>\n",
       "    <tr>\n",
       "      <th>...</th>\n",
       "      <td>...</td>\n",
       "      <td>...</td>\n",
       "      <td>...</td>\n",
       "      <td>...</td>\n",
       "      <td>...</td>\n",
       "      <td>...</td>\n",
       "      <td>...</td>\n",
       "      <td>...</td>\n",
       "      <td>...</td>\n",
       "      <td>...</td>\n",
       "      <td>...</td>\n",
       "      <td>...</td>\n",
       "      <td>...</td>\n",
       "      <td>...</td>\n",
       "      <td>...</td>\n",
       "      <td>...</td>\n",
       "    </tr>\n",
       "    <tr>\n",
       "      <th>51</th>\n",
       "      <td>Oatmeal Raisin Crisp</td>\n",
       "      <td>G</td>\n",
       "      <td>C</td>\n",
       "      <td>130</td>\n",
       "      <td>3</td>\n",
       "      <td>2</td>\n",
       "      <td>170</td>\n",
       "      <td>1.5</td>\n",
       "      <td>13.5</td>\n",
       "      <td>10</td>\n",
       "      <td>120</td>\n",
       "      <td>25</td>\n",
       "      <td>3</td>\n",
       "      <td>1.25</td>\n",
       "      <td>0.50</td>\n",
       "      <td>30.450843</td>\n",
       "    </tr>\n",
       "    <tr>\n",
       "      <th>59</th>\n",
       "      <td>Raisin Nut Bran</td>\n",
       "      <td>G</td>\n",
       "      <td>C</td>\n",
       "      <td>100</td>\n",
       "      <td>3</td>\n",
       "      <td>2</td>\n",
       "      <td>140</td>\n",
       "      <td>2.5</td>\n",
       "      <td>10.5</td>\n",
       "      <td>8</td>\n",
       "      <td>140</td>\n",
       "      <td>25</td>\n",
       "      <td>3</td>\n",
       "      <td>1.00</td>\n",
       "      <td>0.50</td>\n",
       "      <td>39.703400</td>\n",
       "    </tr>\n",
       "    <tr>\n",
       "      <th>70</th>\n",
       "      <td>Total Raisin Bran</td>\n",
       "      <td>G</td>\n",
       "      <td>C</td>\n",
       "      <td>140</td>\n",
       "      <td>3</td>\n",
       "      <td>1</td>\n",
       "      <td>190</td>\n",
       "      <td>4.0</td>\n",
       "      <td>15.0</td>\n",
       "      <td>14</td>\n",
       "      <td>230</td>\n",
       "      <td>100</td>\n",
       "      <td>3</td>\n",
       "      <td>1.50</td>\n",
       "      <td>1.00</td>\n",
       "      <td>28.592785</td>\n",
       "    </tr>\n",
       "    <tr>\n",
       "      <th>73</th>\n",
       "      <td>Trix</td>\n",
       "      <td>G</td>\n",
       "      <td>C</td>\n",
       "      <td>110</td>\n",
       "      <td>1</td>\n",
       "      <td>1</td>\n",
       "      <td>140</td>\n",
       "      <td>0.0</td>\n",
       "      <td>13.0</td>\n",
       "      <td>12</td>\n",
       "      <td>25</td>\n",
       "      <td>25</td>\n",
       "      <td>2</td>\n",
       "      <td>1.00</td>\n",
       "      <td>1.00</td>\n",
       "      <td>27.753301</td>\n",
       "    </tr>\n",
       "    <tr>\n",
       "      <th>76</th>\n",
       "      <td>Wheaties Honey Gold</td>\n",
       "      <td>G</td>\n",
       "      <td>C</td>\n",
       "      <td>110</td>\n",
       "      <td>2</td>\n",
       "      <td>1</td>\n",
       "      <td>200</td>\n",
       "      <td>1.0</td>\n",
       "      <td>16.0</td>\n",
       "      <td>8</td>\n",
       "      <td>60</td>\n",
       "      <td>25</td>\n",
       "      <td>1</td>\n",
       "      <td>1.00</td>\n",
       "      <td>0.75</td>\n",
       "      <td>36.187559</td>\n",
       "    </tr>\n",
       "  </tbody>\n",
       "</table>\n",
       "<p>14 rows × 16 columns</p>\n",
       "</div>"
      ],
      "text/plain": [
       "                       name mfr type  calories  protein  fat  sodium  fiber  \\\n",
       "5   Apple Cinnamon Cheerios   G    C       110        2    2     180    1.5   \n",
       "7                   Basic 4   G    C       130        3    2     210    2.0   \n",
       "12    Cinnamon Toast Crunch   G    C       120        1    3     210    0.0   \n",
       "14              Cocoa Puffs   G    C       110        1    1     180    0.0   \n",
       "18            Count Chocula   G    C       110        1    1     180    0.0   \n",
       "..                      ...  ..  ...       ...      ...  ...     ...    ...   \n",
       "51     Oatmeal Raisin Crisp   G    C       130        3    2     170    1.5   \n",
       "59          Raisin Nut Bran   G    C       100        3    2     140    2.5   \n",
       "70        Total Raisin Bran   G    C       140        3    1     190    4.0   \n",
       "73                     Trix   G    C       110        1    1     140    0.0   \n",
       "76      Wheaties Honey Gold   G    C       110        2    1     200    1.0   \n",
       "\n",
       "    carbo  sugars  potass  vitamins  shelf  weight  cups     rating  \n",
       "5    10.5      10      70        25      1    1.00  0.75  29.509541  \n",
       "7    18.0       8     100        25      3    1.33  0.75  37.038562  \n",
       "12   13.0       9      45        25      2    1.00  0.75  19.823573  \n",
       "14   12.0      13      55        25      2    1.00  1.00  22.736446  \n",
       "18   12.0      13      65        25      2    1.00  1.00  22.396513  \n",
       "..    ...     ...     ...       ...    ...     ...   ...        ...  \n",
       "51   13.5      10     120        25      3    1.25  0.50  30.450843  \n",
       "59   10.5       8     140        25      3    1.00  0.50  39.703400  \n",
       "70   15.0      14     230       100      3    1.50  1.00  28.592785  \n",
       "73   13.0      12      25        25      2    1.00  1.00  27.753301  \n",
       "76   16.0       8      60        25      1    1.00  0.75  36.187559  \n",
       "\n",
       "[14 rows x 16 columns]"
      ]
     },
     "execution_count": 27,
     "metadata": {},
     "output_type": "execute_result"
    }
   ],
   "source": [
    "general_mills_sugary_cereals = (cereal[(cereal.get('mfr') == 'G') & (cereal.get('sugars') > 7)])\n",
    "general_mills_sugary_cereals"
   ]
  },
  {
   "cell_type": "markdown",
   "metadata": {},
   "source": [
    "Let's extract the `'ratings'` data for these cereals and store them as an array called `general_mills_sugary_ratings`. We'll sort the array, too."
   ]
  },
  {
   "cell_type": "code",
   "execution_count": 28,
   "metadata": {},
   "outputs": [
    {
     "data": {
      "text/plain": [
       "array([19.823573, 22.396513, 22.736446, 23.804043, 26.734515, 27.753301,\n",
       "       28.592785, 29.509541, 30.450843, 31.072217, 36.176196, 36.187559,\n",
       "       37.038562, 39.7034  ])"
      ]
     },
     "execution_count": 28,
     "metadata": {},
     "output_type": "execute_result"
    }
   ],
   "source": [
    "general_mills_sugary_ratings = np.array(general_mills_sugary_cereals.get('rating'))\n",
    "general_mills_sugary_ratings = np.sort(general_mills_sugary_ratings)\n",
    "general_mills_sugary_ratings"
   ]
  },
  {
   "cell_type": "markdown",
   "metadata": {},
   "source": [
    "**Question 2.2.** Calculate the 80th percentile of `general_mills_sugary_ratings` using the **[mathematical definition](https://dsc10.com/resources/lectures/lec19/lec19.html#How-to-calculate-percentiles-using-mathematical-definition)** given in Lecture 19. That is:\n",
    "- Set `n` to be the number of elements in `general_mills_sugary_ratings`. \n",
    "- Set `k` to be the smallest integer greater than $\\frac {80}{100} \\cdot n$. \n",
    "- Assign the 80th percentile of the array `general_mills_sugary_ratings` to `general_mills_sugary_80th`.\n",
    "\n",
    "You must use the variables provided for you when solving this problem. For this problem, **do not** use `np.percentile`."
   ]
  },
  {
   "cell_type": "code",
   "execution_count": 29,
   "metadata": {},
   "outputs": [
    {
     "data": {
      "text/plain": [
       "36.187559"
      ]
     },
     "execution_count": 29,
     "metadata": {},
     "output_type": "execute_result"
    }
   ],
   "source": [
    "n = len(general_mills_sugary_ratings)\n",
    "k = np.ceil((80/100) * n)\n",
    "\n",
    "# Don't change this line. In order to proceed, k needs to be stored as an int, not a float.\n",
    "# This line is not changing the mathematical value of k, just how it is stored.\n",
    "k = int(k)\n",
    "\n",
    "general_mills_sugary_80th = general_mills_sugary_ratings[k-1]\n",
    "general_mills_sugary_80th"
   ]
  },
  {
   "cell_type": "code",
   "execution_count": 30,
   "metadata": {
    "deletable": false,
    "editable": false
   },
   "outputs": [
    {
     "data": {
      "text/html": [
       "<p><strong><pre style='display: inline;'>q2_2</pre></strong> passed!</p>"
      ],
      "text/plain": [
       "q2_2 results: All test cases passed!"
      ]
     },
     "execution_count": 30,
     "metadata": {},
     "output_type": "execute_result"
    }
   ],
   "source": [
    "grader.check(\"q2_2\")"
   ]
  },
  {
   "cell_type": "markdown",
   "metadata": {},
   "source": [
    "**Question 2.3.** Now we'll compare the 80th percentile of the ratings of **sugary General Mills cereals** with the 80th percentile of the ratings of **sugary cereals manufactured by all companies other than General Mills**.\n",
    "\n",
    "Create a DataFrame called `sugary_cereals` containing only the cereals with a `'mfr'` that isn't `'G'`, with more than seven grams of sugar. Calculate the 80th percentile of ratings for these cereals, using the same mathematical procedure, and assign to the variable `absolute_difference` the absolute difference in the 80th percentile of ratings for sugary General Mills cereals and all other sugary cereals.\n",
    "\n",
    "As before, use the variables provided and **do not** use `np.percentile`.\n",
    "\n",
    "*Hint*:  Remember to sort the ratings using `np.sort` before computing percentiles."
   ]
  },
  {
   "cell_type": "code",
   "execution_count": 31,
   "metadata": {},
   "outputs": [
    {
     "data": {
      "text/plain": [
       "0.9493039999999979"
      ]
     },
     "execution_count": 31,
     "metadata": {},
     "output_type": "execute_result"
    }
   ],
   "source": [
    "sugary_cereals = cereal[(cereal.get('mfr') != 'G') & (cereal.get('sugars') > 7)]\n",
    "sugary_cereals_ratings = np.sort(sugary_cereals.get('rating'))\n",
    "\n",
    "n_2 = len(sugary_cereals_ratings)\n",
    "k_2 = np.ceil((80/100) * n_2)\n",
    "\n",
    "k_2 = int(k_2) # Don't change this.\n",
    "\n",
    "sugary_80th = sugary_cereals_ratings[k_2 - 1]\n",
    "\n",
    "absolute_difference = abs(general_mills_sugary_80th - sugary_80th)\n",
    "absolute_difference"
   ]
  },
  {
   "cell_type": "code",
   "execution_count": 32,
   "metadata": {
    "deletable": false,
    "editable": false
   },
   "outputs": [
    {
     "data": {
      "text/html": [
       "<p><strong><pre style='display: inline;'>q2_3</pre></strong> passed!</p>"
      ],
      "text/plain": [
       "q2_3 results: All test cases passed!"
      ]
     },
     "execution_count": 32,
     "metadata": {},
     "output_type": "execute_result"
    }
   ],
   "source": [
    "grader.check(\"q2_3\")"
   ]
  },
  {
   "cell_type": "markdown",
   "metadata": {},
   "source": [
    "**Question 2.4.** Say that General Mills wants to create a new sugary cereal for UCSD students called the \"U Cereal SD\" in honor of UCSD’s [record enrollment](https://www.sandiegouniontribune.com/news/education/story/2022-10-17/uc-san-diego-enrollment-hits-record) of 42,968 students this year. In a strange coincidence, the cereal got a nutritional rating of exactly 42.968!\n",
    "\n",
    "Consider a new collection of values, containing all the values in `general_mills_sugary_ratings`, plus one more, 42.968:"
   ]
  },
  {
   "cell_type": "code",
   "execution_count": 33,
   "metadata": {},
   "outputs": [
    {
     "data": {
      "text/plain": [
       "array([19.823573, 22.396513, 22.736446, 23.804043, 26.734515, 27.753301,\n",
       "       28.592785, 29.509541, 30.450843, 31.072217, 36.176196, 36.187559,\n",
       "       37.038562, 39.7034  , 42.968   ])"
      ]
     },
     "execution_count": 33,
     "metadata": {},
     "output_type": "execute_result"
    }
   ],
   "source": [
    "new_collection = np.append(general_mills_sugary_ratings, 42.968)\n",
    "new_collection = np.sort(new_collection)\n",
    "new_collection"
   ]
  },
  {
   "cell_type": "markdown",
   "metadata": {},
   "source": [
    "For what integer values of $p$ would we be able to say that this new collection of values has 42.968 as its $p$th percentile? Create a **list** called `percentile_range` of all integer values of $p$ such that the $p$th percentile of the new collection equals 42.968, according to the **mathematical** definition of percentile. \n",
    "\n",
    "This is a math question, not a coding question. You should create the list `percentile_range` manually, by solving a math problem on paper and inputting your answer in the form of a Python list.\n",
    "\n",
    "**Do not use `np.percentile`.**"
   ]
  },
  {
   "cell_type": "code",
   "execution_count": 34,
   "metadata": {},
   "outputs": [],
   "source": [
    "n_3 = len(new_collection)\n",
    "k_3 = np.ceil((94/100) * n_3)\n",
    "k_3 = int(k_3)\n",
    "pth = new_collection[k_3 - 1]\n",
    "\n",
    "percentile_range = [94, 100]"
   ]
  },
  {
   "cell_type": "code",
   "execution_count": 35,
   "metadata": {
    "deletable": false,
    "editable": false
   },
   "outputs": [
    {
     "data": {
      "text/html": [
       "<p><strong><pre style='display: inline;'>q2_4</pre></strong> passed!</p>"
      ],
      "text/plain": [
       "q2_4 results: All test cases passed!"
      ]
     },
     "execution_count": 35,
     "metadata": {},
     "output_type": "execute_result"
    }
   ],
   "source": [
    "grader.check(\"q2_4\")"
   ]
  },
  {
   "cell_type": "markdown",
   "metadata": {},
   "source": [
    "**Question 2.5**. The first _quartile_ of a numerical collection is the 25th percentile, the second quartile is the 50th percentile, and the third quartile is the 75th percentile. Quartiles are so named because they divide the collection into quarters.\n",
    "\n",
    "Make a list called `sugar_quartiles` that contains the values for the first, second, and third quartiles (in that order) of the `'sugars'` data provided in `cereal`. For this problem, calculate the percentiles **using `np.percentile`**."
   ]
  },
  {
   "cell_type": "code",
   "execution_count": 36,
   "metadata": {},
   "outputs": [
    {
     "data": {
      "text/plain": [
       "array([-1,  0,  0,  0,  0,  0,  0,  0,  1,  2,  2,  2,  3,  3,  3,  3,  3,\n",
       "        3,  3,  3,  3,  3,  3,  3,  3,  4,  5,  5,  5,  5,  5,  6,  6,  6,\n",
       "        6,  6,  6,  6,  7,  7,  7,  7,  8,  8,  8,  8,  8,  9,  9,  9,  9,\n",
       "       10, 10, 10, 10, 10, 11, 11, 11, 11, 11, 12, 12, 12, 12, 12, 12, 12,\n",
       "       13, 13, 13, 13, 14, 14, 14, 15, 15])"
      ]
     },
     "execution_count": 36,
     "metadata": {},
     "output_type": "execute_result"
    }
   ],
   "source": [
    "sugars = np.sort(cereal.get('sugars'))\n",
    "sugar_quartiles = [np.percentile(sugars, 25), np.percentile(sugars, 50), np.percentile(sugars, 75)]\n",
    "sugar_quartiles\n",
    "sugars"
   ]
  },
  {
   "cell_type": "code",
   "execution_count": 37,
   "metadata": {
    "deletable": false,
    "editable": false
   },
   "outputs": [
    {
     "data": {
      "text/html": [
       "<p><strong><pre style='display: inline;'>q2_5</pre></strong> passed!</p>"
      ],
      "text/plain": [
       "q2_5 results: All test cases passed!"
      ]
     },
     "execution_count": 37,
     "metadata": {},
     "output_type": "execute_result"
    }
   ],
   "source": [
    "grader.check(\"q2_5\")"
   ]
  },
  {
   "cell_type": "markdown",
   "metadata": {},
   "source": [
    "## 3. Live Crystal Scoops 🔮"
   ]
  },
  {
   "cell_type": "markdown",
   "metadata": {},
   "source": [
    "<center><img src='data/scam-thumbnail.jpeg' width=30%>(<a href=\"https://www.youtube.com/watch?v=KfhMLQxPbLY\">source</a>)</center>\n",
    "\n",
    "Over the last year, _live crystal scoops_ have become popular on TikTok. There are TikTok pages that collect and sell [crystals](https://en.wikipedia.org/wiki/Crystal), which some believe have the power to heal both the body and the mind. These pages don't sell crystals individually, but rather they \"scoop\" a random collection of their inventory, put the collected crystals in a bag, and send that bag to the customer. What makes them _live_ crystal scoops is that these pages typically livestream the act of scooping these crystals for every order they receive and include the order number in the stream, so that customers can verify that what they receive is actually what was scooped. For instance, [@chloesmith.uk](https://www.tiktok.com/@chloesmith.uk) is one such page.\n",
    "\n",
    "Last night, you were scrolling endlessly on TikTok, and came across crystal scooping livestreams by two accounts, _Scoops by Shelly_ and _Crystals by Cathy_. Both are selling scoops for $29.99. Intrigued, you decide to order a scoop from Shelly, and in the livestream it seems that you pulled a hefty scoop. When your order is finally delivered, however, you're disappointed to find that the total weight of the crystals you received is much lower than what you expected given what you saw on the livestream. Should you have purchased a scoop from Cathy instead?"
   ]
  },
  {
   "cell_type": "markdown",
   "metadata": {},
   "source": [
    "**Question 3.1.** Ideally, you want to determine the mean weight of **all** scoops from *Scoops by Shelly*. However, it's not feasible to do so, because her scoops are very expensive and she has many other customers. Instead, you will collect a sample of scoops to obtain a ____________ statistic to estimate this ____________ parameter.\n",
    "\n",
    "Complete the sentence above by filling in the blanks. Set `q3_1` to 1, 2, 3, or 4.\n",
    "\n",
    "1. population; sample\n",
    "2. sample; population\n",
    "3. test; population\n",
    "4. test; sample"
   ]
  },
  {
   "cell_type": "code",
   "execution_count": 38,
   "metadata": {},
   "outputs": [],
   "source": [
    "q3_1 = 2"
   ]
  },
  {
   "cell_type": "code",
   "execution_count": 39,
   "metadata": {
    "deletable": false,
    "editable": false
   },
   "outputs": [
    {
     "data": {
      "text/html": [
       "<p><strong><pre style='display: inline;'>q3_1</pre></strong> passed!</p>"
      ],
      "text/plain": [
       "q3_1 results: All test cases passed!"
      ]
     },
     "execution_count": 39,
     "metadata": {},
     "output_type": "execute_result"
    }
   ],
   "source": [
    "grader.check(\"q3_1\")"
   ]
  },
  {
   "cell_type": "markdown",
   "metadata": {},
   "source": [
    "Fortunately, you have an incredible crystal resource at your disposal, the [Crystals Live Share Group](https://www.facebook.com/groups/846961549165998) on Facebook. You make a post and ask the members who've bought scoops from *Scoops by Shelly* and *Crystals by Cathy* to weigh their packages in grams. You're overwhelmed by the amazing community response and receive 80 different scoop weights in total from other buyers, 40 from *Scoops by Shelly* buyers and 40 from *Crystals by Cathy* buyers.  \n",
    "\n",
    "Let's look at all the data that you crowdsourced. Each entry in the `'Weight'` column represents the weight of one scoop, in grams."
   ]
  },
  {
   "cell_type": "code",
   "execution_count": 40,
   "metadata": {},
   "outputs": [
    {
     "data": {
      "text/html": [
       "<div>\n",
       "<style scoped>\n",
       "    .dataframe tbody tr th:only-of-type {\n",
       "        vertical-align: middle;\n",
       "    }\n",
       "\n",
       "    .dataframe tbody tr th {\n",
       "        vertical-align: top;\n",
       "    }\n",
       "\n",
       "    .dataframe thead th {\n",
       "        text-align: right;\n",
       "    }\n",
       "</style>\n",
       "<table border=\"1\" class=\"dataframe\">\n",
       "  <thead>\n",
       "    <tr style=\"text-align: right;\">\n",
       "      <th></th>\n",
       "      <th>Seller</th>\n",
       "      <th>Weight</th>\n",
       "    </tr>\n",
       "  </thead>\n",
       "  <tbody>\n",
       "    <tr>\n",
       "      <th>0</th>\n",
       "      <td>Scoops by Shelly</td>\n",
       "      <td>224.26</td>\n",
       "    </tr>\n",
       "    <tr>\n",
       "      <th>1</th>\n",
       "      <td>Scoops by Shelly</td>\n",
       "      <td>298.35</td>\n",
       "    </tr>\n",
       "    <tr>\n",
       "      <th>2</th>\n",
       "      <td>Scoops by Shelly</td>\n",
       "      <td>259.49</td>\n",
       "    </tr>\n",
       "    <tr>\n",
       "      <th>3</th>\n",
       "      <td>Scoops by Shelly</td>\n",
       "      <td>371.21</td>\n",
       "    </tr>\n",
       "    <tr>\n",
       "      <th>4</th>\n",
       "      <td>Scoops by Shelly</td>\n",
       "      <td>296.12</td>\n",
       "    </tr>\n",
       "    <tr>\n",
       "      <th>...</th>\n",
       "      <td>...</td>\n",
       "      <td>...</td>\n",
       "    </tr>\n",
       "    <tr>\n",
       "      <th>75</th>\n",
       "      <td>Crystals by Cathy</td>\n",
       "      <td>448.93</td>\n",
       "    </tr>\n",
       "    <tr>\n",
       "      <th>76</th>\n",
       "      <td>Crystals by Cathy</td>\n",
       "      <td>403.07</td>\n",
       "    </tr>\n",
       "    <tr>\n",
       "      <th>77</th>\n",
       "      <td>Crystals by Cathy</td>\n",
       "      <td>480.70</td>\n",
       "    </tr>\n",
       "    <tr>\n",
       "      <th>78</th>\n",
       "      <td>Crystals by Cathy</td>\n",
       "      <td>382.05</td>\n",
       "    </tr>\n",
       "    <tr>\n",
       "      <th>79</th>\n",
       "      <td>Crystals by Cathy</td>\n",
       "      <td>314.21</td>\n",
       "    </tr>\n",
       "  </tbody>\n",
       "</table>\n",
       "<p>80 rows × 2 columns</p>\n",
       "</div>"
      ],
      "text/plain": [
       "               Seller  Weight\n",
       "0    Scoops by Shelly  224.26\n",
       "1    Scoops by Shelly  298.35\n",
       "2    Scoops by Shelly  259.49\n",
       "3    Scoops by Shelly  371.21\n",
       "4    Scoops by Shelly  296.12\n",
       "..                ...     ...\n",
       "75  Crystals by Cathy  448.93\n",
       "76  Crystals by Cathy  403.07\n",
       "77  Crystals by Cathy  480.70\n",
       "78  Crystals by Cathy  382.05\n",
       "79  Crystals by Cathy  314.21\n",
       "\n",
       "[80 rows x 2 columns]"
      ]
     },
     "execution_count": 40,
     "metadata": {},
     "output_type": "execute_result"
    }
   ],
   "source": [
    "crystal_weights = bpd.read_csv('data/crystals.csv')\n",
    "crystal_weights"
   ]
  },
  {
   "cell_type": "markdown",
   "metadata": {},
   "source": [
    "**Question 3.2.** To start, we'll look at only the scoops in our sample from *Scoops by Shelly*. Below, assign `shelly_scoops` to a DataFrame with only the scoops from *Scoops by Shelly*. Then, assign `shelly_mean` to the mean weight of the *Scoops by Shelly* scoops in our sample."
   ]
  },
  {
   "cell_type": "code",
   "execution_count": 41,
   "metadata": {},
   "outputs": [
    {
     "data": {
      "text/plain": [
       "314.39075"
      ]
     },
     "execution_count": 41,
     "metadata": {},
     "output_type": "execute_result"
    }
   ],
   "source": [
    "shelly_scoops = crystal_weights[crystal_weights.get('Seller') == 'Scoops by Shelly']\n",
    "shelly_mean = shelly_scoops.get('Weight').mean()\n",
    "shelly_mean"
   ]
  },
  {
   "cell_type": "code",
   "execution_count": 42,
   "metadata": {
    "deletable": false,
    "editable": false
   },
   "outputs": [
    {
     "data": {
      "text/html": [
       "<p><strong><pre style='display: inline;'>q3_2</pre></strong> passed!</p>"
      ],
      "text/plain": [
       "q3_2 results: All test cases passed!"
      ]
     },
     "execution_count": 42,
     "metadata": {},
     "output_type": "execute_result"
    }
   ],
   "source": [
    "grader.check(\"q3_2\")"
   ]
  },
  {
   "cell_type": "markdown",
   "metadata": {},
   "source": [
    "You're done! Or are you? You have a single estimate for the true mean weight of Shelly's scoops. However, you don't know how close that estimate is, or how much it could have varied if you'd had a different sample. In other words, you have an estimate, but no understanding of how close that estimate is to the true mean weight of *all* of Shelly's scoops.\n",
    "\n",
    "This is where the idea of resampling via **[bootstrapping](https://inferentialthinking.com/chapters/13/2/Bootstrap.html)** comes in. Assuming that our sample resembles the population fairly well, we can resample from our original sample to produce more samples. From each of these resamples, we can produce another estimate for the true mean weight, which gives us a distribution of sample means that describes how the estimate might vary given different samples. We can then use this distribution to produce an interval that estimates the true mean weight of Shelly's scoops."
   ]
  },
  {
   "cell_type": "markdown",
   "metadata": {},
   "source": [
    "**Question 3.3.** Complete the following code to produce 1000 bootstrapped estimates for the mean weight of Shelly's scoops. Store your 1000 estimates in an array called `resample_means`."
   ]
  },
  {
   "cell_type": "code",
   "execution_count": 43,
   "metadata": {},
   "outputs": [
    {
     "data": {
      "text/plain": [
       "array([298.63925, 335.541  , 321.68225, 305.0945 , 327.5075 , 311.2085 ,\n",
       "       298.891  , 305.6375 , 308.5865 , 314.51175, 309.95475, 302.52575,\n",
       "       317.13075, 311.83425, 309.2625 , 318.816  , 310.39025, 308.624  ,\n",
       "       309.79075, 308.15075, 318.493  , 318.4855 , 301.64775, 318.488  ,\n",
       "       313.77475, 315.68525, 319.7155 , 310.861  , 317.581  , 303.33175,\n",
       "       314.74   , 306.095  , 319.1965 , 312.603  , 317.81075, 310.91525,\n",
       "       311.96525, 311.418  , 323.93725, 334.06725, 312.5775 , 298.466  ,\n",
       "       309.8345 , 322.77425, 322.98525, 316.3135 , 305.55975, 316.828  ,\n",
       "       313.471  , 301.7625 , 313.02775, 313.624  , 318.25025, 313.3485 ,\n",
       "       322.743  , 306.501  , 310.59775, 311.425  , 316.112  , 313.633  ,\n",
       "       317.7105 , 301.238  , 314.97875, 310.4315 , 326.97175, 318.25025,\n",
       "       318.352  , 312.80275, 313.8945 , 333.55475, 309.58375, 328.0005 ,\n",
       "       312.534  , 309.6975 , 316.567  , 324.074  , 310.894  , 316.56775,\n",
       "       319.0405 , 328.562  , 308.13275, 315.51975, 315.84175, 297.247  ,\n",
       "       327.685  , 321.88775, 324.999  , 319.09525, 311.507  , 315.4505 ,\n",
       "       317.76625, 314.1315 , 316.6825 , 312.361  , 324.9695 , 321.295  ,\n",
       "       322.71075, 312.23025, 324.126  , 321.56325, 304.533  , 314.04575,\n",
       "       315.03975, 326.85775, 310.98725, 310.8815 , 318.9865 , 320.214  ,\n",
       "       312.4825 , 319.14625, 319.447  , 315.6135 , 307.1375 , 319.739  ,\n",
       "       324.41075, 309.863  , 318.488  , 305.303  , 314.351  , 314.38925,\n",
       "       320.4095 , 311.46275, 315.37975, 313.97175, 323.40725, 315.31875,\n",
       "       320.40325, 310.83275, 324.29775, 307.0055 , 309.869  , 313.665  ,\n",
       "       307.7045 , 314.72975, 311.7385 , 313.408  , 305.3335 , 321.0465 ,\n",
       "       314.38525, 320.9865 , 315.30725, 321.18075, 315.083  , 307.075  ,\n",
       "       311.84825, 319.43175, 326.55025, 308.72175, 315.0855 , 310.324  ,\n",
       "       320.86   , 317.904  , 314.45825, 315.59325, 317.88125, 316.171  ,\n",
       "       304.81575, 313.9155 , 309.55575, 312.5545 , 324.489  , 314.8685 ,\n",
       "       303.28275, 314.73225, 325.1595 , 323.538  , 310.60825, 305.99425,\n",
       "       300.2405 , 315.90825, 314.2455 , 324.603  , 316.862  , 313.9275 ,\n",
       "       321.2115 , 320.15825, 299.95   , 321.15475, 315.04675, 320.4945 ,\n",
       "       310.81325, 312.74125, 306.56375, 313.7915 , 320.65325, 328.08275,\n",
       "       314.01425, 320.369  , 312.21325, 311.3525 , 323.93875, 301.68375,\n",
       "       316.2175 , 302.9075 , 321.4955 , 312.33925, 317.63775, 297.96725,\n",
       "       313.346  , 315.40775, 304.83375, 314.26825, 312.869  , 319.16125,\n",
       "       322.14525, 317.89075, 316.19875, 316.89175, 307.4555 , 319.2845 ,\n",
       "       311.77   , 312.43875, 318.492  , 316.34775, 328.99525, 321.44375,\n",
       "       325.546  , 312.182  , 307.7045 , 316.667  , 306.3205 , 309.4025 ,\n",
       "       318.98325, 313.99575, 318.169  , 316.8935 , 321.024  , 311.67925,\n",
       "       309.827  , 315.8555 , 330.0295 , 316.2005 , 315.15175, 320.263  ,\n",
       "       326.05975, 316.8805 , 306.18225, 320.00475, 314.88025, 310.512  ,\n",
       "       312.978  , 310.73625, 318.43375, 317.07025, 331.68875, 328.008  ,\n",
       "       314.2965 , 317.12075, 322.32475, 303.378  , 318.78325, 305.16   ,\n",
       "       326.12925, 312.08675, 320.09825, 310.228  , 320.1895 , 319.0505 ,\n",
       "       304.178  , 326.73475, 303.33575, 325.19225, 316.13475, 310.6095 ,\n",
       "       304.094  , 309.8415 , 315.8715 , 311.57375, 321.69175, 319.911  ,\n",
       "       317.70375, 307.6195 , 335.195  , 317.3745 , 310.85725, 319.67225,\n",
       "       320.02275, 311.31375, 324.0365 , 317.757  , 334.7195 , 316.17175,\n",
       "       305.28875, 326.37125, 309.03375, 314.2875 , 315.17025, 310.2905 ,\n",
       "       301.01975, 307.766  , 305.2235 , 308.4555 , 304.54075, 316.444  ,\n",
       "       319.18575, 302.97525, 317.60225, 317.41475, 312.752  , 321.04175,\n",
       "       313.53375, 308.5555 , 310.25775, 311.59475, 309.96175, 317.90925,\n",
       "       318.2085 , 312.34425, 304.327  , 310.5865 , 310.00325, 319.382  ,\n",
       "       308.19225, 318.89875, 311.498  , 307.347  , 298.5195 , 302.41275,\n",
       "       317.8705 , 324.03625, 310.04825, 311.15025, 311.23575, 305.50175,\n",
       "       312.91025, 313.28125, 301.75775, 322.672  , 323.18025, 316.586  ,\n",
       "       321.69075, 306.36675, 317.20225, 327.674  , 308.16275, 308.347  ,\n",
       "       306.15175, 310.8735 , 306.29275, 305.20875, 314.274  , 307.62625,\n",
       "       319.7935 , 312.48075, 309.34325, 322.43075, 309.08975, 318.528  ,\n",
       "       325.67525, 307.636  , 316.60725, 293.96   , 314.314  , 323.16425,\n",
       "       326.361  , 329.2975 , 324.793  , 309.85325, 329.006  , 319.19675,\n",
       "       300.73125, 305.568  , 307.975  , 303.44575, 324.316  , 318.05525,\n",
       "       319.0985 , 312.6385 , 318.35075, 301.98775, 327.21225, 304.85925,\n",
       "       306.64075, 314.913  , 319.373  , 320.859  , 317.2705 , 308.538  ,\n",
       "       321.96425, 315.667  , 311.14   , 319.1785 , 322.18125, 312.37375,\n",
       "       323.29875, 313.146  , 315.47825, 320.64925, 318.6815 , 315.30775,\n",
       "       306.567  , 326.9385 , 317.7585 , 308.11525, 317.11225, 326.40225,\n",
       "       303.26625, 310.04075, 334.5425 , 302.7555 , 316.60825, 319.01975,\n",
       "       323.85825, 315.6085 , 317.238  , 305.572  , 318.916  , 315.0785 ,\n",
       "       325.91575, 316.5525 , 313.30425, 316.35175, 323.1345 , 311.988  ,\n",
       "       315.055  , 297.00275, 316.83925, 314.63675, 306.50475, 302.46725,\n",
       "       313.66575, 312.4295 , 321.6085 , 328.03575, 311.76625, 307.28975,\n",
       "       320.377  , 312.3335 , 308.7695 , 310.47025, 315.15625, 311.2555 ,\n",
       "       311.399  , 315.55375, 313.72225, 312.535  , 312.21975, 322.15925,\n",
       "       321.63475, 313.528  , 300.8845 , 323.01575, 308.78925, 314.5195 ,\n",
       "       318.28275, 317.57725, 316.3705 , 315.91925, 326.06875, 300.79325,\n",
       "       328.87525, 299.5865 , 311.75575, 320.98575, 319.     , 321.5835 ,\n",
       "       325.032  , 310.3935 , 327.453  , 320.89825, 308.03725, 327.49925,\n",
       "       306.3845 , 317.522  , 312.54575, 314.22525, 316.4825 , 321.99075,\n",
       "       314.924  , 299.5765 , 310.334  , 327.1725 , 314.8905 , 316.51   ,\n",
       "       319.8825 , 306.339  , 313.55775, 320.8865 , 316.4065 , 315.293  ,\n",
       "       315.4285 , 303.78525, 310.1965 , 301.808  , 304.1565 , 316.72225,\n",
       "       308.9455 , 315.135  , 312.94725, 308.1785 , 310.131  , 320.75475,\n",
       "       316.16175, 309.11225, 315.6645 , 309.87675, 304.70475, 311.31775,\n",
       "       296.9155 , 309.28375, 320.4865 , 316.77525, 303.74925, 317.528  ,\n",
       "       319.23875, 315.06725, 292.38225, 311.34525, 325.64425, 309.17325,\n",
       "       312.7575 , 315.30625, 310.4815 , 304.63075, 314.026  , 309.48425,\n",
       "       314.13325, 308.10575, 302.6145 , 318.494  , 333.78425, 309.03125,\n",
       "       327.03125, 317.7935 , 322.3155 , 302.80025, 328.984  , 321.2515 ,\n",
       "       316.72725, 323.697  , 317.8925 , 318.06525, 311.9725 , 291.129  ,\n",
       "       319.2275 , 319.61775, 318.5225 , 305.40325, 319.702  , 313.37675,\n",
       "       312.35925, 311.25925, 321.078  , 312.61375, 316.64675, 312.321  ,\n",
       "       305.89575, 316.72325, 316.52675, 309.655  , 322.73175, 312.83125,\n",
       "       320.66175, 311.4675 , 328.66375, 312.8785 , 315.842  , 310.4315 ,\n",
       "       303.92875, 308.61125, 316.416  , 315.80075, 328.69425, 309.759  ,\n",
       "       322.059  , 318.478  , 311.1945 , 322.01525, 309.86475, 297.752  ,\n",
       "       309.3965 , 314.4745 , 310.30975, 298.724  , 316.17475, 310.15625,\n",
       "       327.90725, 329.8515 , 305.86125, 311.0185 , 318.43275, 322.784  ,\n",
       "       319.9015 , 299.29175, 311.2    , 311.7495 , 311.67125, 315.8645 ,\n",
       "       315.98225, 314.4215 , 317.2145 , 316.48375, 308.64875, 312.307  ,\n",
       "       323.787  , 313.9665 , 313.97075, 319.02525, 322.91475, 317.258  ,\n",
       "       312.76475, 325.29425, 302.80425, 314.9225 , 332.2485 , 327.4145 ,\n",
       "       324.20825, 309.97875, 313.787  , 320.36775, 323.14025, 313.90675,\n",
       "       316.13875, 328.45025, 310.36375, 315.72425, 312.2475 , 318.35575,\n",
       "       309.591  , 315.9225 , 319.966  , 316.37825, 310.85075, 304.97825,\n",
       "       318.97625, 317.53325, 335.5865 , 316.0315 , 311.03525, 321.282  ,\n",
       "       317.77775, 315.91875, 314.9665 , 313.55875, 307.53475, 311.6835 ,\n",
       "       314.84775, 316.0295 , 318.8785 , 318.62375, 315.93525, 317.935  ,\n",
       "       303.4605 , 324.78625, 320.73225, 316.493  , 313.935  , 323.886  ,\n",
       "       305.27775, 322.545  , 306.40075, 323.799  , 304.54175, 317.89375,\n",
       "       314.10925, 309.8525 , 307.22675, 300.9365 , 317.412  , 315.8615 ,\n",
       "       310.5925 , 317.9635 , 319.379  , 332.71525, 314.09925, 340.11725,\n",
       "       316.97625, 307.79875, 312.59125, 314.8215 , 307.7715 , 301.02475,\n",
       "       303.57475, 312.28375, 309.42975, 328.36725, 318.27225, 326.3225 ,\n",
       "       313.312  , 315.0825 , 315.3125 , 315.407  , 307.09575, 313.59025,\n",
       "       310.63025, 324.64275, 297.255  , 326.0635 , 307.379  , 308.56575,\n",
       "       322.24675, 314.75225, 321.1195 , 320.4675 , 307.288  , 326.18675,\n",
       "       308.16375, 304.0425 , 307.8175 , 311.64825, 322.9165 , 329.95025,\n",
       "       317.6675 , 318.75025, 287.53025, 309.93225, 316.45425, 325.293  ,\n",
       "       314.42875, 308.39675, 325.6355 , 300.335  , 321.17375, 330.21025,\n",
       "       305.39675, 308.06825, 307.88225, 313.93825, 319.30875, 307.15975,\n",
       "       314.34575, 316.7345 , 306.179  , 314.34375, 310.58225, 313.32325,\n",
       "       327.34375, 311.678  , 314.5855 , 319.06225, 320.5485 , 306.708  ,\n",
       "       320.43925, 302.60625, 310.72325, 313.0045 , 313.883  , 314.4795 ,\n",
       "       304.9725 , 309.18025, 308.406  , 315.33025, 310.317  , 304.81075,\n",
       "       310.9055 , 310.52325, 309.2355 , 312.64425, 314.5985 , 326.68675,\n",
       "       315.4435 , 301.079  , 324.1115 , 315.23525, 310.272  , 309.27825,\n",
       "       297.45325, 317.66375, 311.30475, 311.6065 , 317.0505 , 321.366  ,\n",
       "       313.41975, 330.4345 , 308.5035 , 322.64925, 314.62075, 308.5485 ,\n",
       "       315.75125, 308.811  , 319.5385 , 320.998  , 329.111  , 307.556  ,\n",
       "       313.65   , 317.86125, 317.4355 , 315.1965 , 305.27425, 312.1745 ,\n",
       "       309.50175, 319.8995 , 308.0915 , 320.6595 , 320.5215 , 307.663  ,\n",
       "       327.9305 , 307.6365 , 311.52175, 311.576  , 312.12775, 314.44875,\n",
       "       303.82775, 308.2985 , 315.14275, 312.034  , 313.556  , 314.4045 ,\n",
       "       324.49775, 308.63525, 308.28325, 323.38275, 309.6545 , 317.99225,\n",
       "       321.10875, 310.248  , 299.3485 , 316.0235 , 310.42175, 326.74775,\n",
       "       310.7675 , 319.35825, 312.942  , 317.94825, 312.62975, 324.02425,\n",
       "       311.4575 , 307.13525, 298.11275, 310.52525, 322.15475, 306.49775,\n",
       "       320.997  , 315.94825, 316.44475, 323.43725, 301.1515 , 318.626  ,\n",
       "       306.7465 , 304.87675, 317.6715 , 315.091  , 304.0335 , 313.431  ,\n",
       "       312.63525, 311.29   , 304.689  , 320.25675, 314.2115 , 308.2395 ,\n",
       "       303.24675, 315.08275, 309.142  , 300.73925, 316.87275, 321.259  ,\n",
       "       309.3635 , 314.67725, 321.63175, 313.40075, 320.904  , 316.83675,\n",
       "       325.6935 , 308.911  , 323.11675, 304.23875, 318.10275, 301.974  ,\n",
       "       298.09275, 302.57175, 313.2745 , 324.29925, 321.805  , 312.87825,\n",
       "       302.949  , 294.71275, 299.212  , 316.7385 , 320.1585 , 326.53575,\n",
       "       313.92025, 324.3765 , 315.678  , 308.88125, 324.25525, 317.5335 ,\n",
       "       326.1425 , 305.67675, 318.609  , 324.8285 , 337.55975, 317.31175,\n",
       "       323.3085 , 304.72   , 314.5075 , 315.03975, 308.07375, 319.4825 ,\n",
       "       305.62675, 330.64025, 304.54775, 310.54975, 315.36225, 303.3945 ,\n",
       "       305.45425, 310.2145 , 314.12875, 307.21825, 315.04825, 311.85625,\n",
       "       299.5695 , 313.89525, 321.03575, 308.5185 , 321.749  , 310.2385 ,\n",
       "       305.48775, 316.9115 , 317.2785 , 308.3705 , 324.5375 , 300.27425,\n",
       "       321.30375, 302.8265 , 324.405  , 316.72125, 320.8185 , 317.92875,\n",
       "       317.7335 , 332.22975, 330.75975, 311.7395 , 317.75   , 309.46025,\n",
       "       325.31975, 313.98725, 304.4815 , 316.69275, 307.532  , 314.8215 ,\n",
       "       333.608  , 309.2435 , 297.46   , 307.26225, 305.6495 , 318.86675,\n",
       "       302.08775, 315.994  , 316.23875, 336.13575, 317.93725, 315.7455 ,\n",
       "       306.9725 , 307.4885 , 316.85075, 322.70325, 315.644  , 315.4655 ,\n",
       "       317.11475, 319.4835 , 318.76175, 326.1275 , 328.24575, 322.62825,\n",
       "       326.06825, 323.50525, 314.88575, 306.08225, 305.05075, 311.458  ,\n",
       "       325.56175, 309.726  , 316.09375, 319.03025, 332.8055 , 322.5655 ,\n",
       "       324.036  , 324.58925, 301.06175, 309.62925, 320.34575, 309.463  ,\n",
       "       319.4265 , 314.37225, 316.5395 , 318.2675 , 298.774  , 315.06275,\n",
       "       311.48825, 311.48725, 309.0805 , 308.65175, 310.9045 , 295.41075,\n",
       "       312.663  , 318.86825, 295.6485 , 307.64   , 319.897  , 318.7895 ,\n",
       "       312.9375 , 321.5415 , 322.10875, 321.677  , 322.0715 , 313.6295 ,\n",
       "       314.6435 , 293.42175, 309.80925, 313.5025 ])"
      ]
     },
     "execution_count": 43,
     "metadata": {},
     "output_type": "execute_result"
    }
   ],
   "source": [
    "resample_means = np.array([])\n",
    "for i in np.arange(1000):\n",
    "    resample = shelly_scoops.sample(shelly_scoops.shape[0], replace=True)\n",
    "    resample_mean = resample.get('Weight').mean()\n",
    "    resample_means = np.append(resample_means, resample_mean)\n",
    "resample_means"
   ]
  },
  {
   "cell_type": "code",
   "execution_count": 44,
   "metadata": {
    "deletable": false,
    "editable": false
   },
   "outputs": [
    {
     "data": {
      "text/html": [
       "<p><strong><pre style='display: inline;'>q3_3</pre></strong> passed!</p>"
      ],
      "text/plain": [
       "q3_3 results: All test cases passed!"
      ]
     },
     "execution_count": 44,
     "metadata": {},
     "output_type": "execute_result"
    }
   ],
   "source": [
    "grader.check(\"q3_3\")"
   ]
  },
  {
   "cell_type": "markdown",
   "metadata": {},
   "source": [
    "Let's look at the distribution of your estimates:"
   ]
  },
  {
   "cell_type": "code",
   "execution_count": 45,
   "metadata": {},
   "outputs": [
    {
     "data": {
      "image/png": "[encoded data removed]",
      "text/plain": [
       "<Figure size 720x360 with 1 Axes>"
      ]
     },
     "metadata": {},
     "output_type": "display_data"
    }
   ],
   "source": [
    "bpd.DataFrame().assign(BootstrappedMeans = resample_means).plot(kind='hist', density=True, ec='w', bins=20, figsize=(10, 5));"
   ]
  },
  {
   "cell_type": "markdown",
   "metadata": {},
   "source": [
    "**Question 3.4.** Using the array `resample_means`, compute an approximate 95% confidence interval for the true mean weight of Shelly's scoops. Save the lower and upper bounds of the interval as `shelly_lower_bound` and `shelly_upper_bound`, respectively.\n",
    "\n",
    "*Hint*: Use `np.percentile`."
   ]
  },
  {
   "cell_type": "code",
   "execution_count": 46,
   "metadata": {},
   "outputs": [
    {
     "name": "stdout",
     "output_type": "stream",
     "text": [
      "Bootstrapped 95% confidence interval for the true mean weight of Shelly's scoops: [299.289756, 329.115662]\n"
     ]
    }
   ],
   "source": [
    "resample_means = np.sort(resample_means)\n",
    "shelly_lower_bound = np.percentile(resample_means, 2.5)\n",
    "shelly_upper_bound = np.percentile(resample_means, 97.5)\n",
    "\n",
    "#: the confidence interval\n",
    "print(\"Bootstrapped 95% confidence interval for the true mean weight of Shelly's scoops: [{:f}, {:f}]\".format(shelly_lower_bound, shelly_upper_bound))"
   ]
  },
  {
   "cell_type": "code",
   "execution_count": 47,
   "metadata": {
    "deletable": false,
    "editable": false
   },
   "outputs": [
    {
     "data": {
      "text/html": [
       "<p><strong><pre style='display: inline;'>q3_4</pre></strong> passed!</p>"
      ],
      "text/plain": [
       "q3_4 results: All test cases passed!"
      ]
     },
     "execution_count": 47,
     "metadata": {},
     "output_type": "execute_result"
    }
   ],
   "source": [
    "grader.check(\"q3_4\")"
   ]
  },
  {
   "cell_type": "markdown",
   "metadata": {},
   "source": [
    "**Question 3.5.** Which of the following would likely make the histogram from Question 3.3 wider? If you believe more than one would, choose the answer with the most substantial effect. Assign to `q3_5` either 1, 2, 3, or 4.\n",
    "\n",
    "1. Starting with a larger sample of 100 scoops.\n",
    "1. Starting with a smaller sample of 20 scoops.\n",
    "1. Decreasing the number of resamples (repetitions of the bootstrap) to 500.\n",
    "1. Increasing the number of resamples (repetitions of the bootstrap) to 3000."
   ]
  },
  {
   "cell_type": "code",
   "execution_count": 48,
   "metadata": {},
   "outputs": [
    {
     "data": {
      "text/plain": [
       "2"
      ]
     },
     "execution_count": 48,
     "metadata": {},
     "output_type": "execute_result"
    }
   ],
   "source": [
    "q3_5 = 2\n",
    "q3_5"
   ]
  },
  {
   "cell_type": "code",
   "execution_count": 49,
   "metadata": {
    "deletable": false,
    "editable": false
   },
   "outputs": [
    {
     "data": {
      "text/html": [
       "<p><strong><pre style='display: inline;'>q3_5</pre></strong> passed!</p>"
      ],
      "text/plain": [
       "q3_5 results: All test cases passed!"
      ]
     },
     "execution_count": 49,
     "metadata": {},
     "output_type": "execute_result"
    }
   ],
   "source": [
    "grader.check(\"q3_5\")"
   ]
  },
  {
   "cell_type": "markdown",
   "metadata": {},
   "source": [
    "**Question 3.6.** Suppose you want to estimate the weight of the lightest scoop Shelly has ever scooped, her biggest scam. Would bootstrapping be effective in estimating this weight? Assign `bootstrapping_effective` to either `True` or `False`, representing your answer."
   ]
  },
  {
   "cell_type": "code",
   "execution_count": 50,
   "metadata": {},
   "outputs": [],
   "source": [
    "bootstrapping_effective = False"
   ]
  },
  {
   "cell_type": "code",
   "execution_count": 51,
   "metadata": {
    "deletable": false,
    "editable": false
   },
   "outputs": [
    {
     "data": {
      "text/html": [
       "<p><strong><pre style='display: inline;'>q3_6</pre></strong> passed!</p>"
      ],
      "text/plain": [
       "q3_6 results: All test cases passed!"
      ]
     },
     "execution_count": 51,
     "metadata": {},
     "output_type": "execute_result"
    }
   ],
   "source": [
    "grader.check(\"q3_6\")"
   ]
  },
  {
   "cell_type": "markdown",
   "metadata": {},
   "source": [
    "**Question 3.7.** Now let's address a different question: how does the average weight of a *Scoops by Shelly* scoop compare to the average weight of a *Crystals by Cathy* scoop? Create a DataFrame called `cathy_scoops` that contains only the weights of scoops from *Crystals by Cathy*, and set `cathy_mean` equal to the mean weight of Cathy's scoops as you did for *Scoops by Shelly* in Question 3.2. Then, set `observed_diff_mean` to the difference in mean scoop weight for the Shelly and Cathy's scoops in our sample.\n",
    "\n",
    "$$\\text{difference} = \\text{mean weight of Shelly's scoops} - \\text{mean weight of Cathy's scoops}$$"
   ]
  },
  {
   "cell_type": "code",
   "execution_count": 52,
   "metadata": {
    "scrolled": true
   },
   "outputs": [
    {
     "data": {
      "text/plain": [
       "-88.43225000000001"
      ]
     },
     "execution_count": 52,
     "metadata": {},
     "output_type": "execute_result"
    }
   ],
   "source": [
    "cathy_scoops = crystal_weights[crystal_weights.get('Seller') == 'Crystals by Cathy']\n",
    "cathy_mean = cathy_scoops.get('Weight').mean()\n",
    "observed_diff_mean = shelly_mean - cathy_mean\n",
    "observed_diff_mean"
   ]
  },
  {
   "cell_type": "code",
   "execution_count": 53,
   "metadata": {
    "deletable": false,
    "editable": false
   },
   "outputs": [
    {
     "data": {
      "text/html": [
       "<p><strong><pre style='display: inline;'>q3_7</pre></strong> passed!</p>"
      ],
      "text/plain": [
       "q3_7 results: All test cases passed!"
      ]
     },
     "execution_count": 53,
     "metadata": {},
     "output_type": "execute_result"
    }
   ],
   "source": [
    "grader.check(\"q3_7\")"
   ]
  },
  {
   "cell_type": "markdown",
   "metadata": {},
   "source": [
    "If you completed Question 3.7 correctly, you should have found that Shelly and Cathy's mean scoop weights were quite different. Remember, all we have access to are samples of size 40 from each seller. Would we see this large of a difference if we had access to the population – that is, the weights of all scoops ever produced by both sellers – or was it just by chance that our samples displayed this difference? Let's do a **hypothesis test** to find out. We'll state our hypotheses as follows:\n",
    "\n",
    "- **Null Hypothesis:** The mean weight of scoops from *Scoops by Shelly* is equal to the mean weight of scoops from *Crystals by Cathy*. Equivalently, the difference in the mean scoop weight for the two sellers equals 0 grams.\n",
    "\n",
    "- **Alternative Hypothesis:** The mean weight of scoops from *Scoops by Shelly* is not equal to the mean weight of scoops from *Crystals by Cathy*. Equivalently, the difference in the mean scoop weight for the two sellers does not equal 0 grams.\n",
    "\n",
    "Since we were able to set up our hypothesis test as a question of whether a certain population parameter – the difference in mean scoop weight for *Scoops by Shelly* and *Crystals by Cathy* – is equal to a certain value, we can **test our hypotheses by constructing a confidence interval** for the parameter. This is the method we used in [Lecture 20](https://dsc10.com/resources/lectures/lec20/lec20.html). You can read more about conducting a hypothesis test with a confidence interval in [CIT 13.4](https://inferentialthinking.com/chapters/13/4/Using_Confidence_Intervals.html).\n",
    "\n",
    "*Note*: We are not conducting a permutation test here, although that would also be a valid approach to test these hypotheses."
   ]
  },
  {
   "cell_type": "markdown",
   "metadata": {},
   "source": [
    "**Question 3.8.** Compute 1000 bootstrapped estimates for the difference in the mean scoop weight for *Scoops by Shelly* and *Crystals by Cathy*. As in Question 3.7, do Shelly minus Cathy. Store your 1000 estimates in the `difference_means` array.\n",
    "\n",
    "You should generate your Shelly resamples by sampling from `shelly_scoops`, and your Cathy resamples by sampling from `cathy_scoops`. You should not use `crystal_weights` at all."
   ]
  },
  {
   "cell_type": "code",
   "execution_count": 54,
   "metadata": {},
   "outputs": [
    {
     "data": {
      "text/plain": [
       "array([ -3.70325,  32.45125,   4.90475, -18.31775,  10.70725, -10.98225,\n",
       "       -21.19825,   4.32575,   6.67975,   2.01175])"
      ]
     },
     "execution_count": 54,
     "metadata": {},
     "output_type": "execute_result"
    }
   ],
   "source": [
    "np.random.seed(23) # Ignore this, and don't change it.\n",
    "\n",
    "difference_means = np.array([])\n",
    "for i in range(1000):\n",
    "    shuffled = np.random.permutation(crystal_weights.get('Seller'))\n",
    "    crystal_weights_shuffled = crystal_weights.assign(Shuffled=shuffled).groupby('Shuffled').mean()\n",
    "    difference_mean = crystal_weights_shuffled.loc['Scoops by Shelly'] - crystal_weights_shuffled.loc['Crystals by Cathy']\n",
    "    difference_means = np.append(difference_means, difference_mean)\n",
    "\n",
    "# Just display the first ten differences.\n",
    "difference_means[:10]"
   ]
  },
  {
   "cell_type": "code",
   "execution_count": 55,
   "metadata": {
    "deletable": false,
    "editable": false
   },
   "outputs": [
    {
     "data": {
      "text/html": [
       "<p><strong><pre style='display: inline;'>q3_8</pre></strong> passed!</p>"
      ],
      "text/plain": [
       "q3_8 results: All test cases passed!"
      ]
     },
     "execution_count": 55,
     "metadata": {},
     "output_type": "execute_result"
    }
   ],
   "source": [
    "grader.check(\"q3_8\")"
   ]
  },
  {
   "cell_type": "markdown",
   "metadata": {},
   "source": [
    "Let's visualize your estimates:"
   ]
  },
  {
   "cell_type": "code",
   "execution_count": 56,
   "metadata": {},
   "outputs": [
    {
     "data": {
      "image/png": "[encoded data removed]",
      "text/plain": [
       "<Figure size 720x360 with 1 Axes>"
      ]
     },
     "metadata": {},
     "output_type": "display_data"
    }
   ],
   "source": [
    "bpd.DataFrame().assign(BootstrappedDifferenceMeans = difference_means).plot(kind = 'hist', density=True, ec='w', bins=20, figsize=(10, 5));\n",
    "plt.axvline(observed_diff_mean, c='black', linewidth=4, label='observed difference');\n",
    "plt.legend();"
   ]
  },
  {
   "cell_type": "markdown",
   "metadata": {},
   "source": [
    "**Question 3.9.** Compute a 95% confidence interval for the difference in mean weights of Shelly and Cathy's scoops (as before, Shelly minus Cathy). Assign the left and right endpoints of this confidence interval to `left_endpoint` and `right_endpoint` respectively. Use `np.percentile` to find the endpoints."
   ]
  },
  {
   "cell_type": "code",
   "execution_count": 57,
   "metadata": {},
   "outputs": [
    {
     "name": "stdout",
     "output_type": "stream",
     "text": [
      "Bootstrapped 95% confidence interval for the mean difference in weights of Shelly and Cathy's scoops:\n",
      " [-29.336500, 27.126738]\n"
     ]
    }
   ],
   "source": [
    "difference_means = np.sort(difference_means)\n",
    "left_endpoint = np.percentile(difference_means, 2.5)\n",
    "right_endpoint = np.percentile(difference_means, 97.5)\n",
    "\n",
    "print(\"Bootstrapped 95% confidence interval for the mean difference in weights of Shelly and Cathy's scoops:\\n [{:f}, {:f}]\".format(left_endpoint, right_endpoint))"
   ]
  },
  {
   "cell_type": "code",
   "execution_count": 58,
   "metadata": {
    "deletable": false,
    "editable": false
   },
   "outputs": [
    {
     "data": {
      "text/html": [
       "<p><strong><pre style='display: inline;'>q3_9</pre></strong> passed!</p>"
      ],
      "text/plain": [
       "q3_9 results: All test cases passed!"
      ]
     },
     "execution_count": 58,
     "metadata": {},
     "output_type": "execute_result"
    }
   ],
   "source": [
    "grader.check(\"q3_9\")"
   ]
  },
  {
   "cell_type": "markdown",
   "metadata": {},
   "source": [
    "**Question 3.10.** Based on the confidence interval you've created, would you reject the null hypothesis at the 0.05 significance level? Set `reject_null` to True if you would reject the null hypothesis, and False if you would not."
   ]
  },
  {
   "cell_type": "code",
   "execution_count": 59,
   "metadata": {},
   "outputs": [
    {
     "data": {
      "text/plain": [
       "0.0"
      ]
     },
     "execution_count": 59,
     "metadata": {},
     "output_type": "execute_result"
    }
   ],
   "source": [
    "pval = np.count_nonzero(difference_means <= observed_diff_mean) / 1000\n",
    "reject_null = True\n",
    "pval"
   ]
  },
  {
   "cell_type": "code",
   "execution_count": 60,
   "metadata": {
    "deletable": false,
    "editable": false
   },
   "outputs": [
    {
     "data": {
      "text/html": [
       "<p><strong><pre style='display: inline;'>q3_10</pre></strong> passed!</p>"
      ],
      "text/plain": [
       "q3_10 results: All test cases passed!"
      ]
     },
     "execution_count": 60,
     "metadata": {},
     "output_type": "execute_result"
    }
   ],
   "source": [
    "grader.check(\"q3_10\")"
   ]
  },
  {
   "cell_type": "markdown",
   "metadata": {},
   "source": [
    "**Question 3.11.** What if the Facebook group members had recorded all of their scoop weights in pounds instead of grams? Would your hypothesis test still come to the same conclusion either way? Set `same_conclusion` to True or False."
   ]
  },
  {
   "cell_type": "code",
   "execution_count": 61,
   "metadata": {},
   "outputs": [],
   "source": [
    "same_conclusion = True"
   ]
  },
  {
   "cell_type": "code",
   "execution_count": 62,
   "metadata": {
    "deletable": false,
    "editable": false
   },
   "outputs": [
    {
     "data": {
      "text/html": [
       "<p><strong><pre style='display: inline;'>q3_11</pre></strong> passed!</p>"
      ],
      "text/plain": [
       "q3_11 results: All test cases passed!"
      ]
     },
     "execution_count": 62,
     "metadata": {},
     "output_type": "execute_result"
    }
   ],
   "source": [
    "grader.check(\"q3_11\")"
   ]
  },
  {
   "cell_type": "markdown",
   "metadata": {},
   "source": [
    "## 4. Cheese, Please  🧀"
   ]
  },
  {
   "cell_type": "markdown",
   "metadata": {},
   "source": [
    "You work for a small grocery store. You are interested in determining which types of cheese to stock in your store, so you survey 500 randomly-selected shoppers and ask which type of cheese they prefer the most among four options – `'Brie'`, `'Cheddar'`, `'Feta'`, `'Mozzarella'`. You also record some indecisive shoppers as `'Undecided'`.\n",
    "\n",
    "Run the next cell to load in the results of the survey."
   ]
  },
  {
   "cell_type": "code",
   "execution_count": 63,
   "metadata": {},
   "outputs": [
    {
     "data": {
      "text/html": [
       "<div>\n",
       "<style scoped>\n",
       "    .dataframe tbody tr th:only-of-type {\n",
       "        vertical-align: middle;\n",
       "    }\n",
       "\n",
       "    .dataframe tbody tr th {\n",
       "        vertical-align: top;\n",
       "    }\n",
       "\n",
       "    .dataframe thead th {\n",
       "        text-align: right;\n",
       "    }\n",
       "</style>\n",
       "<table border=\"1\" class=\"dataframe\">\n",
       "  <thead>\n",
       "    <tr style=\"text-align: right;\">\n",
       "      <th></th>\n",
       "      <th>index</th>\n",
       "    </tr>\n",
       "    <tr>\n",
       "      <th>cheese</th>\n",
       "      <th></th>\n",
       "    </tr>\n",
       "  </thead>\n",
       "  <tbody>\n",
       "    <tr>\n",
       "      <th>Brie</th>\n",
       "      <td>140</td>\n",
       "    </tr>\n",
       "    <tr>\n",
       "      <th>Cheddar</th>\n",
       "      <td>120</td>\n",
       "    </tr>\n",
       "    <tr>\n",
       "      <th>Feta</th>\n",
       "      <td>50</td>\n",
       "    </tr>\n",
       "    <tr>\n",
       "      <th>Mozzarella</th>\n",
       "      <td>160</td>\n",
       "    </tr>\n",
       "    <tr>\n",
       "      <th>Undecided</th>\n",
       "      <td>30</td>\n",
       "    </tr>\n",
       "  </tbody>\n",
       "</table>\n",
       "</div>"
      ],
      "text/plain": [
       "            index\n",
       "cheese           \n",
       "Brie          140\n",
       "Cheddar       120\n",
       "Feta           50\n",
       "Mozzarella    160\n",
       "Undecided      30"
      ]
     },
     "execution_count": 63,
     "metadata": {},
     "output_type": "execute_result"
    }
   ],
   "source": [
    "cheese = bpd.read_csv('data/cheese.csv')\n",
    "cheese.reset_index().groupby('cheese').count()"
   ]
  },
  {
   "cell_type": "markdown",
   "metadata": {},
   "source": [
    "Assume that your sample is a uniform random sample of the population of grocery store shoppers. Below, we compute the proportion of shoppers in your sample that prefer each type of cheese."
   ]
  },
  {
   "cell_type": "code",
   "execution_count": 64,
   "metadata": {},
   "outputs": [
    {
     "data": {
      "text/plain": [
       "cheese\n",
       "Brie          0.28\n",
       "Cheddar       0.24\n",
       "Feta          0.10\n",
       "Mozzarella    0.32\n",
       "Undecided     0.06\n",
       "Name: counts, dtype: float64"
      ]
     },
     "execution_count": 64,
     "metadata": {},
     "output_type": "execute_result"
    }
   ],
   "source": [
    "cheese.assign(counts=cheese.get('cheese')).groupby('cheese').count().get('counts') / cheese.shape[0]"
   ]
  },
  {
   "cell_type": "markdown",
   "metadata": {},
   "source": [
    "What you're truly interested in, though, is the proportion of *all shoppers* that prefer each type of cheese. These are *population parameters* (plural, because there are 5 proportions).\n",
    "\n",
    "In this question, we will start by computing a confidence interval for the true proportion of shoppers that prefer `'Mozzarella'`, and then later compute a confidence interval for the true difference in proportions of shoppers that prefer `'Mozzarella'` over `'Brie'`. "
   ]
  },
  {
   "cell_type": "markdown",
   "metadata": {},
   "source": [
    "<center><img src=\"data/cheese_pun.jpg\" width=50%></center>\n",
    "\n",
    "Below, we have given you code that computes 1000 bootstrapped estimates of the true proportion of shoppers who prefer `'Mozzarella'` cheese over the other options. Run the next cell to calculate these estimates and display a histogram of their values."
   ]
  },
  {
   "cell_type": "code",
   "execution_count": 65,
   "metadata": {},
   "outputs": [
    {
     "data": {
      "image/png": "[encoded data removed]",
      "text/plain": [
       "<Figure size 720x360 with 1 Axes>"
      ]
     },
     "metadata": {},
     "output_type": "display_data"
    }
   ],
   "source": [
    "def proportions_in_resamples():\n",
    "    np.random.seed(55) # Ignore this, and don't change it.\n",
    "    num_shoppers = cheese.shape[0]\n",
    "    proportions = np.array([])\n",
    "    for i in np.arange(1000):\n",
    "        resample = cheese.sample(num_shoppers, replace = True)\n",
    "        resample_proportion = np.count_nonzero(resample.get('cheese') == 'Mozzarella') / num_shoppers\n",
    "        proportions = np.append(proportions, resample_proportion)\n",
    "    return proportions\n",
    "\n",
    "boot_mozzarella_proportions = proportions_in_resamples()\n",
    "bpd.DataFrame().assign(Estimated_Proportion_Mozzarella=boot_mozzarella_proportions).plot(kind='hist', density=True, ec='w', figsize=(10, 5));"
   ]
  },
  {
   "cell_type": "markdown",
   "metadata": {},
   "source": [
    "**Question 4.1.** Using the array `boot_mozzarella_proportions`, compute an approximate **99%** (not 95%) confidence interval for the true proportion of shoppers who prefer `'Mozzarella'` cheese.  Compute the lower and upper ends of the interval, named `mozzarella_lower_bound` and `mozzarella_upper_bound`, respectively.\n",
    "\n",
    "*Note*: As we did in lecture, use `np.percentile` whenever computing confidence intervals."
   ]
  },
  {
   "cell_type": "code",
   "execution_count": 66,
   "metadata": {},
   "outputs": [
    {
     "name": "stdout",
     "output_type": "stream",
     "text": [
      "Bootstrapped 99% confidence interval for the true proportion of shoppers who prefer Mozzarella cheese in the population:\n",
      "[0.269990, 0.374020]\n"
     ]
    }
   ],
   "source": [
    "mozzarella_lower_bound = np.percentile(boot_mozzarella_proportions, 0.5)\n",
    "mozzarella_upper_bound = np.percentile(boot_mozzarella_proportions, 99.5)\n",
    "\n",
    "# Print the confidence interval:\n",
    "print(\"Bootstrapped 99% confidence interval for the true proportion of shoppers who prefer Mozzarella cheese in the population:\\n[{:f}, {:f}]\".format(mozzarella_lower_bound, mozzarella_upper_bound))"
   ]
  },
  {
   "cell_type": "code",
   "execution_count": 67,
   "metadata": {
    "deletable": false,
    "editable": false
   },
   "outputs": [
    {
     "data": {
      "text/html": [
       "<p><strong><pre style='display: inline;'>q4_1</pre></strong> passed!</p>"
      ],
      "text/plain": [
       "q4_1 results: All test cases passed!"
      ]
     },
     "execution_count": 67,
     "metadata": {},
     "output_type": "execute_result"
    }
   ],
   "source": [
    "grader.check(\"q4_1\")"
   ]
  },
  {
   "cell_type": "markdown",
   "metadata": {},
   "source": [
    "**Question 4.2.**\n",
    "Is it true that 99% of the population lies in the range `mozzarella_lower_bound` to `mozzarella_upper_bound`? Assign the variable `q4_2` to either `True` or `False`. "
   ]
  },
  {
   "cell_type": "code",
   "execution_count": 68,
   "metadata": {},
   "outputs": [],
   "source": [
    "q4_2 = False"
   ]
  },
  {
   "cell_type": "code",
   "execution_count": 69,
   "metadata": {
    "deletable": false,
    "editable": false
   },
   "outputs": [
    {
     "data": {
      "text/html": [
       "<p><strong><pre style='display: inline;'>q4_2</pre></strong> passed!</p>"
      ],
      "text/plain": [
       "q4_2 results: All test cases passed!"
      ]
     },
     "execution_count": 69,
     "metadata": {},
     "output_type": "execute_result"
    }
   ],
   "source": [
    "grader.check(\"q4_2\")"
   ]
  },
  {
   "cell_type": "markdown",
   "metadata": {},
   "source": [
    "**Question 4.3.**\n",
    "Is it true that the true proportion of shoppers who prefer `'Mozzarella'` over the other cheeses is a random quantity with approximately a 99% chance of falling between `mozzarella_lower_bound` and `mozzarella_upper_bound`? Assign the variable `q4_3` to either `True` or `False`."
   ]
  },
  {
   "cell_type": "code",
   "execution_count": 70,
   "metadata": {},
   "outputs": [],
   "source": [
    "q4_3 = True"
   ]
  },
  {
   "cell_type": "code",
   "execution_count": 71,
   "metadata": {
    "deletable": false,
    "editable": false
   },
   "outputs": [
    {
     "data": {
      "text/html": [
       "<p><strong><pre style='display: inline;'>q4_3</pre></strong> passed!</p>"
      ],
      "text/plain": [
       "q4_3 results: All test cases passed!"
      ]
     },
     "execution_count": 71,
     "metadata": {},
     "output_type": "execute_result"
    }
   ],
   "source": [
    "grader.check(\"q4_3\")"
   ]
  },
  {
   "cell_type": "markdown",
   "metadata": {},
   "source": [
    "**Question 4.4.**\n",
    "Suppose we were somehow able to produce 20,000 new samples, each one a uniform random sample of 500 shoppers taken directly from the population. For each of those 20,000 new samples, we create a 99% confidence interval for the proportion of shoppers who prefer `'Mozzarella'`. Roughly how many of those 20,000 intervals should we expect to actually contain the true proportion of the population? Assign your answer to the variable `how_many` below. It should be of type `int`, representing the *number* of intervals, not the proportion or percentage."
   ]
  },
  {
   "cell_type": "code",
   "execution_count": 72,
   "metadata": {
    "scrolled": true
   },
   "outputs": [
    {
     "data": {
      "text/plain": [
       "19800"
      ]
     },
     "execution_count": 72,
     "metadata": {},
     "output_type": "execute_result"
    }
   ],
   "source": [
    "how_many = int(20000 * .99)\n",
    "how_many"
   ]
  },
  {
   "cell_type": "code",
   "execution_count": 73,
   "metadata": {
    "deletable": false,
    "editable": false
   },
   "outputs": [
    {
     "data": {
      "text/html": [
       "<p><strong><pre style='display: inline;'>q4_4</pre></strong> passed!</p>"
      ],
      "text/plain": [
       "q4_4 results: All test cases passed!"
      ]
     },
     "execution_count": 73,
     "metadata": {},
     "output_type": "execute_result"
    }
   ],
   "source": [
    "grader.check(\"q4_4\")"
   ]
  },
  {
   "cell_type": "markdown",
   "metadata": {},
   "source": [
    "**Question 4.5.** We also created 90%, 95%, and 99.9% confidence intervals from one sample (shown below), but forgot to label which confidence intervals were which! Match the interval to the percent of confidence the interval represents and assign your choices (either 1, 2, or 3) to variables `ci_90`, `ci_95`, and `ci_999`, corresponding to the 90%, 95%, and 99.9% confidence intervals respectively.\n",
    "\n",
    "*Hint*: Drawing the confidence intervals out on paper might help you visualize them better."
   ]
  },
  {
   "cell_type": "markdown",
   "metadata": {},
   "source": [
    "1. $[0.259, 0.389]$\n",
    "\n",
    "2. $[0.286, 0.358]$\n",
    "\n",
    "3. $[0.280, 0.362]$"
   ]
  },
  {
   "cell_type": "code",
   "execution_count": 74,
   "metadata": {},
   "outputs": [
    {
     "data": {
      "text/plain": [
       "(2, 3, 1)"
      ]
     },
     "execution_count": 74,
     "metadata": {},
     "output_type": "execute_result"
    }
   ],
   "source": [
    "# print(0.259-0.389, 0.286-0.358, 0.280-0.362)\n",
    "ci_90 = 2\n",
    "ci_95 = 3\n",
    "ci_999 = 1\n",
    "ci_90, ci_95, ci_999"
   ]
  },
  {
   "cell_type": "code",
   "execution_count": 75,
   "metadata": {
    "deletable": false,
    "editable": false
   },
   "outputs": [
    {
     "data": {
      "text/html": [
       "<p><strong><pre style='display: inline;'>q4_5</pre></strong> passed!</p>"
      ],
      "text/plain": [
       "q4_5 results: All test cases passed!"
      ]
     },
     "execution_count": 75,
     "metadata": {},
     "output_type": "execute_result"
    }
   ],
   "source": [
    "grader.check(\"q4_5\")"
   ]
  },
  {
   "cell_type": "markdown",
   "metadata": {},
   "source": [
    "**Question 4.6.** Based on the survey results shown at the start of the question, it seems that `'Mozzarella'` is more popular than `'Brie'` among shoppers. We would like to construct a range of likely values – that is, a confidence interval – for the difference in popularity, which we define as:\n",
    "\n",
    "$$\\text{(Proportion of shoppers who prefer Mozzarella)} - \\text{(Proportion of shoppers who prefer Brie)}$$\n",
    "\n",
    "Create a function, `differences_in_resamples`, that creates **1000 bootstrapped resamples of the original survey data** in the `cheese` DataFrame, computes the difference in proportions for each resample, and returns an array of these differences. Store your bootstrapped estimates in an array called `boot_differences` and plot a histogram of these estimates.\n",
    "\n",
    "*Note*: While this might sound like a job for permutation testing, this is instead a bootstrapping question. Note that our goal is to estimate a population parameter – the difference between the proportion of all shoppers that prefer Mozzarella and the proportion of all shoppers that prefer Brie – not to answer a question about whether two samples come from the same distribution.\n",
    "\n",
    "*Hint*: Use the code for `proportions_in_resamples` given to you above as a starting point."
   ]
  },
  {
   "cell_type": "code",
   "execution_count": 76,
   "metadata": {
    "for_assignment_type": "student",
    "manual_problem_id": "election_2"
   },
   "outputs": [
    {
     "data": {
      "image/png": "[encoded data removed]",
      "text/plain": [
       "<Figure size 720x360 with 1 Axes>"
      ]
     },
     "metadata": {},
     "output_type": "display_data"
    }
   ],
   "source": [
    "def differences_in_resamples():\n",
    "    np.random.seed(55) # Ignore this, and don't change it.\n",
    "    num_shoppers = cheese.shape[0]\n",
    "    proportions = np.array([])\n",
    "    for i in np.arange(1000):\n",
    "        resample = cheese.sample(num_shoppers, replace = True)\n",
    "        resample_mozz_proportion = np.count_nonzero(resample.get('cheese') == 'Mozzarella') / num_shoppers\n",
    "        resample_brie_proportion = np.count_nonzero(resample.get('cheese') == 'Brie') / num_shoppers\n",
    "        proportions = np.append(proportions, resample_mozz_proportion - resample_brie_proportion)\n",
    "    return proportions\n",
    "\n",
    "boot_differences = differences_in_resamples()\n",
    "\n",
    "# Plot a histogram of boot_differences.\n",
    "bpd.DataFrame().assign(Estimated_Proportion_Differences=boot_differences).plot(kind='hist', density=True, ec='w', figsize=(10, 5));"
   ]
  },
  {
   "cell_type": "code",
   "execution_count": 77,
   "metadata": {
    "deletable": false,
    "editable": false
   },
   "outputs": [
    {
     "data": {
      "text/html": [
       "<p><strong><pre style='display: inline;'>q4_6</pre></strong> passed!</p>"
      ],
      "text/plain": [
       "q4_6 results: All test cases passed!"
      ]
     },
     "execution_count": 77,
     "metadata": {},
     "output_type": "execute_result"
    }
   ],
   "source": [
    "grader.check(\"q4_6\")"
   ]
  },
  {
   "cell_type": "markdown",
   "metadata": {},
   "source": [
    "**Question 4.7.** Compute an approximate 99% confidence interval for the difference in proportions. Assign the lower and upper bounds of the interval to `diff_lower_bound` and `diff_upper_bound`, respectively."
   ]
  },
  {
   "cell_type": "code",
   "execution_count": 78,
   "metadata": {},
   "outputs": [
    {
     "name": "stdout",
     "output_type": "stream",
     "text": [
      "Bootstrapped 99% confidence interval for the difference in popularity between Mozzarella and Brie:\n",
      "[-0.042040, 0.130040]\n"
     ]
    }
   ],
   "source": [
    "diff_lower_bound = np.percentile(boot_differences, 0.5)\n",
    "diff_upper_bound = np.percentile(boot_differences, 99.5)\n",
    "\n",
    "# Print the confidence interval:\n",
    "print(\"Bootstrapped 99% confidence interval for the difference in popularity between Mozzarella and Brie:\\n[{:f}, {:f}]\".format(diff_lower_bound, diff_upper_bound))"
   ]
  },
  {
   "cell_type": "code",
   "execution_count": 79,
   "metadata": {
    "deletable": false,
    "editable": false
   },
   "outputs": [
    {
     "data": {
      "text/html": [
       "<p><strong><pre style='display: inline;'>q4_7</pre></strong> passed!</p>"
      ],
      "text/plain": [
       "q4_7 results: All test cases passed!"
      ]
     },
     "execution_count": 79,
     "metadata": {},
     "output_type": "execute_result"
    }
   ],
   "source": [
    "grader.check(\"q4_7\")"
   ]
  },
  {
   "cell_type": "markdown",
   "metadata": {},
   "source": [
    "**Question 4.8.** In this question, you computed two 99% confidence intervals:\n",
    "- In Question 4.1, you found a 99% confidence interval for the proportion of shoppers who prefer `'Mozzarella'` among the four cheese options. Let's call this the \"mozzarella CI.\"\n",
    "- In Question 4.7, you found a 99% confidence interval for the difference between the proportion of shoppers who prefer `'Mozzarella'` and the proportion of shoppers who prefer `'Brie'`. Let's call this the \"difference CI.\" \n",
    "\n",
    "Which of the explanations below best describes the widths of these two confidence intervals? Set `q4_8` to either 1, 2, 3, or 4.\n",
    "\n",
    "1. The mozzarella CI is **wider** than the difference CI because we have **more certainty** in an estimate of a single unknown parameter than in the difference between two unknown parameters.\n",
    "1. The mozzarella CI is **wider** than the difference CI because we have **less certainty** in an estimate of a single unknown parameter than in the difference between two unknown parameters.\n",
    "1. The mozzarella CI is **narrower** than the difference CI because we have **more certainty** in an estimate of a single unknown parameter than in the difference between two unknown parameters.\n",
    "1. The mozzarella CI is **narrower** than the difference CI because we have **less certainty** in an estimate of a single unknown parameter than in the difference between two unknown parameters."
   ]
  },
  {
   "cell_type": "code",
   "execution_count": 80,
   "metadata": {},
   "outputs": [
    {
     "name": "stdout",
     "output_type": "stream",
     "text": [
      "mozzarella CI 0.10402999999999996\n",
      "difference CI 0.1720799999999999\n"
     ]
    }
   ],
   "source": [
    "print('mozzarella CI', mozzarella_upper_bound - mozzarella_lower_bound)\n",
    "print('difference CI', diff_upper_bound - diff_lower_bound)\n",
    "q4_8 = 3"
   ]
  },
  {
   "cell_type": "code",
   "execution_count": 81,
   "metadata": {
    "deletable": false,
    "editable": false
   },
   "outputs": [
    {
     "data": {
      "text/html": [
       "<p><strong><pre style='display: inline;'>q4_8</pre></strong> passed!</p>"
      ],
      "text/plain": [
       "q4_8 results: All test cases passed!"
      ]
     },
     "execution_count": 81,
     "metadata": {},
     "output_type": "execute_result"
    }
   ],
   "source": [
    "grader.check(\"q4_8\")"
   ]
  },
  {
   "cell_type": "markdown",
   "metadata": {},
   "source": [
    "## Finish Line 🏁\n",
    "\n",
    "Congratulations! You are done with Homework 6 – the second-to-last homework of the quarter!\n",
    "\n",
    "To submit your assignment:\n",
    "\n",
    "1. Select `Kernel -> Restart & Run All` to ensure that you have executed all cells, including the test cells.\n",
    "2. Read through the notebook to make sure everything is fine and all tests passed.\n",
    "3. Run the cell below to run all tests, and make sure that they all pass.\n",
    "4. Download your notebook using `File -> Download as -> Notebook (.ipynb)`, then upload your notebook to Gradescope."
   ]
  },
  {
   "cell_type": "code",
   "execution_count": 82,
   "metadata": {},
   "outputs": [
    {
     "data": {
      "text/plain": [
       "q1_1 results: All test cases passed!\n",
       "\n",
       "q1_10 results: All test cases passed!\n",
       "\n",
       "q1_2 results: All test cases passed!\n",
       "\n",
       "q1_3 results: All test cases passed!\n",
       "\n",
       "q1_4 results: All test cases passed!\n",
       "\n",
       "q1_5 results: All test cases passed!\n",
       "\n",
       "q1_6 results: All test cases passed!\n",
       "\n",
       "q1_7 results: All test cases passed!\n",
       "\n",
       "q1_8 results: All test cases passed!\n",
       "\n",
       "q1_9 results: All test cases passed!\n",
       "\n",
       "q2_2 results: All test cases passed!\n",
       "\n",
       "q2_3 results: All test cases passed!\n",
       "\n",
       "q2_4 results: All test cases passed!\n",
       "\n",
       "q2_5 results: All test cases passed!\n",
       "\n",
       "q3_1 results: All test cases passed!\n",
       "\n",
       "q3_10 results: All test cases passed!\n",
       "\n",
       "q3_11 results: All test cases passed!\n",
       "\n",
       "q3_2 results: All test cases passed!\n",
       "\n",
       "q3_3 results: All test cases passed!\n",
       "\n",
       "q3_4 results: All test cases passed!\n",
       "\n",
       "q3_5 results: All test cases passed!\n",
       "\n",
       "q3_6 results: All test cases passed!\n",
       "\n",
       "q3_7 results: All test cases passed!\n",
       "\n",
       "q3_8 results: All test cases passed!\n",
       "\n",
       "q3_9 results: All test cases passed!\n",
       "\n",
       "q4_1 results: All test cases passed!\n",
       "\n",
       "q4_2 results: All test cases passed!\n",
       "\n",
       "q4_3 results: All test cases passed!\n",
       "\n",
       "q4_4 results: All test cases passed!\n",
       "\n",
       "q4_5 results: All test cases passed!\n",
       "\n",
       "q4_6 results: All test cases passed!\n",
       "\n",
       "q4_7 results: All test cases passed!\n",
       "\n",
       "q4_8 results: All test cases passed!"
      ]
     },
     "execution_count": 82,
     "metadata": {},
     "output_type": "execute_result"
    }
   ],
   "source": [
    "# For your convenience, you can run this cell to run all the tests at once!\n",
    "grader.check_all()"
   ]
  },
  {
   "cell_type": "code",
   "execution_count": null,
   "metadata": {},
   "outputs": [],
   "source": []
  }
 ],
 "metadata": {
  "kernelspec": {
   "display_name": "Python 3 (ipykernel)",
   "language": "python",
   "name": "python3"
  },
  "language_info": {
   "codemirror_mode": {
    "name": "ipython",
    "version": 3
   },
   "file_extension": ".py",
   "mimetype": "text/x-python",
   "name": "python",
   "nbconvert_exporter": "python",
   "pygments_lexer": "ipython3",
   "version": "3.9.5"
  }
 },
 "nbformat": 4,
 "nbformat_minor": 4
}
