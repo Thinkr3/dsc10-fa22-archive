{
 "cells": [
  {
   "cell_type": "code",
   "execution_count": 1,
   "metadata": {
    "slideshow": {
     "slide_type": "skip"
    }
   },
   "outputs": [],
   "source": [
    "# Imports\n",
    "import babypandas as bpd\n",
    "import numpy as np\n",
    "\n",
    "import plotly.express as px\n",
    "import matplotlib.pyplot as plt\n",
    "plt.style.use('ggplot')"
   ]
  },
  {
   "cell_type": "markdown",
   "metadata": {
    "slideshow": {
     "slide_type": "slide"
    }
   },
   "source": [
    "# Lecture 1 – Introduction\n",
    "\n",
    "## DSC 10, Fall 2022"
   ]
  },
  {
   "cell_type": "markdown",
   "metadata": {
    "slideshow": {
     "slide_type": "slide"
    }
   },
   "source": [
    "### Welcome to DSC 10! 👋\n",
    "- A guided tour of data science.\n",
    "    - Developed by UC Berkeley in 2015.\n",
    "    - Adapted by UC San Diego in 2017.\n",
    "- Learn just enough programming and statistics to do data science.\n",
    "    - Statistics without too much math, mostly simulation.\n",
    "    - Lays the foundation for all other courses in the DSC major."
   ]
  },
  {
   "cell_type": "markdown",
   "metadata": {
    "slideshow": {
     "slide_type": "slide"
    }
   },
   "source": [
    "### Agenda\n",
    "\n",
    "- Who are we?\n",
    "- What is data science?\n",
    "- How will this course run?\n",
    "- Literature demo."
   ]
  },
  {
   "cell_type": "markdown",
   "metadata": {
    "slideshow": {
     "slide_type": "slide"
    }
   },
   "source": [
    "## About the instructors 👨‍🏫👨‍🏫👩‍🏫\n",
    "\n",
    "Come to the **Meet the Professors** event today from 2-3PM! Meet outside the Hopkins Drive entrance of the San Diego Supercomputer Center. There will be cookies! 🍪"
   ]
  },
  {
   "cell_type": "markdown",
   "metadata": {
    "slideshow": {
     "slide_type": "slide"
    }
   },
   "source": [
    "### Suraj Rampure (call me Suraj, pronounced “soo-rudge”)\n",
    "\n",
    "- Originally from Windsor, ON, Canada 🇨🇦.\n",
    "- BS (’20) and MS (’21) in Electrical Engineering and Computer Sciences from UC Berkeley 🐻.\n",
    "- Second year teaching Data Science at UCSD.\n",
    "    - 3rd time teaching DSC 10.\n",
    "    - Also running the senior capstone program this year. \n",
    "    - Previously taught DSC 40A, DSC 80, and DSC 90.\n",
    "- Outside the classroom: watching basketball, traveling, learning to cook, watching TikTok, FaceTiming my dog 🐶, etc."
   ]
  },
  {
   "cell_type": "markdown",
   "metadata": {
    "slideshow": {
     "slide_type": "slide"
    }
   },
   "source": [
    "<center>\n",
    "    <table><tr>\n",
    "        <td> <img src=\"images/turkey.jpeg\">  </td>\n",
    "        <td> <img src=\"images/nova.jpeg\"> </td>\n",
    "        <td> <img src=\"images/junior.jpeg\"> </td>\n",
    "    </tr></table>\n",
    "</center>"
   ]
  },
  {
   "cell_type": "markdown",
   "metadata": {
    "slideshow": {
     "slide_type": "slide"
    }
   },
   "source": [
    "### Dr. Puoya Tabaghi (call me Puoya)\n",
    "\n",
    "- BS in Electrical and Computer Engineering (ECE) at Amirkabir University of Technology, Tehran.\n",
    "- MS in ECE at Colorado State University, CO.\n",
    "- PhD in ECE at University of Illinois at Urbana-Champaign, IL.\n",
    "- Postdoc, Halıcıoğlu Data Science Institute (HDSI) at UCSD.\n",
    "    - Collaborate with people in ECE and HDSI.\n",
    "    - First time teaching at UCSD!\n",
    "- Outside interests: Movies and more 🙂:\n",
    "    - Nuts in May (1976)."
   ]
  },
  {
   "cell_type": "markdown",
   "metadata": {
    "slideshow": {
     "slide_type": "slide"
    }
   },
   "source": [
    "<center>\n",
    "    <table><tr>\n",
    "        <td> <img src=\"images/puoya-baby.jpg\" width=95%>  </td>\n",
    "    </tr></table>\n",
    "</center>"
   ]
  },
  {
   "cell_type": "markdown",
   "metadata": {
    "slideshow": {
     "slide_type": "slide"
    }
   },
   "source": [
    "### Dr. Janine Tiefenbruck (call me Janine)\n",
    "- BS in Math and Computer Science at Loyola MD, PhD in Math (combinatorics) at UCSD 🔱.\n",
    "- Teaching at UCSD: Math ➡️ CSE ➡️ DSC.\n",
    "    - 8th time teaching DSC 10!\n",
    "    - Also teach DSC 40A often.\n",
    "- Outside interests: crafting, board games, hiking, baking 🎂."
   ]
  },
  {
   "cell_type": "markdown",
   "metadata": {
    "slideshow": {
     "slide_type": "slide"
    }
   },
   "source": [
    "<center>\n",
    "    <table><tr>\n",
    "        <td> <img src=\"images/cupcakes.jpg\" width=95%>  </td>\n",
    "        <td> <img src=\"images/janine-camping.jpg\" width=95%> </td>\n",
    "    </tr></table>\n",
    "</center>"
   ]
  },
  {
   "cell_type": "markdown",
   "metadata": {
    "slideshow": {
     "slide_type": "slide"
    }
   },
   "source": [
    "### Course staff\n",
    "\n",
    "In addition, we have several other course staff members who are here to support you in discussion, office hours, and online.\n",
    "\n",
    "- **1 graduate TA**: Dasha Veraksa.\n",
    "- **20 undergraduate tutors**: Gabriel Cha, Eric Chen, John Driscoll, Daphne Fabella, Charisse Hao, Dylan Lee, Daniel Li, Anthony Li, Anna Liu, Anastasiya Markova, Yash Potdar, Harshita Saha, Selim Shaalan, Yutian (Skylar) Shi, Tony Ta, Vineet Tallavajhala, Andrew Tan, Jiaxin Ye, Tiffany Yu, and Diego Zavalza.\n",
    "\n",
    "Learn more about them at [dsc10.com/staff](https://dsc10.com/staff)."
   ]
  },
  {
   "cell_type": "markdown",
   "metadata": {
    "slideshow": {
     "slide_type": "slide"
    }
   },
   "source": [
    "## What is \"data science\"? 🤔"
   ]
  },
  {
   "cell_type": "markdown",
   "metadata": {
    "slideshow": {
     "slide_type": "slide"
    }
   },
   "source": [
    "<center><img src='images/what-is-ds.png' width=1250>Everyone seems to have their own definition of data science.</center>"
   ]
  },
  {
   "cell_type": "markdown",
   "metadata": {
    "slideshow": {
     "slide_type": "slide"
    }
   },
   "source": [
    "### What is \"data science\"?\n",
    "\n",
    "Data science is about **drawing useful conclusions from data using computation**. Throughout the quarter, we'll touch on several aspects of data science:"
   ]
  },
  {
   "cell_type": "markdown",
   "metadata": {
    "slideshow": {
     "slide_type": "fragment"
    }
   },
   "source": [
    "- First 4 weeks: use Python to **explore** data.\n",
    "    - Lots of visualization 📈📊 and \"data manipulation\", using industry-standard tools."
   ]
  },
  {
   "cell_type": "markdown",
   "metadata": {
    "slideshow": {
     "slide_type": "fragment"
    }
   },
   "source": [
    "- Next 4 weeks: use data to **infer** about a population, given just a sample.\n",
    "    - Rely heavily on simulation, rather than formulas."
   ]
  },
  {
   "cell_type": "markdown",
   "metadata": {
    "slideshow": {
     "slide_type": "fragment"
    }
   },
   "source": [
    "- Last 2 weeks: use data from the past to **predict** what may happen in the future.\n",
    "    - A taste of machine learning 🤖."
   ]
  },
  {
   "cell_type": "markdown",
   "metadata": {
    "slideshow": {
     "slide_type": "slide"
    }
   },
   "source": [
    "### Data science is more relevant than ever\n",
    "\n",
    "We've spent the last 2 and a half years looking at graphs like this:\n",
    "\n",
    "<center><img src='images/covid-sep21.png' width=75%></center>"
   ]
  },
  {
   "cell_type": "markdown",
   "metadata": {
    "slideshow": {
     "slide_type": "slide"
    }
   },
   "source": [
    "### It can be fun, too!\n",
    "\n",
    "<center><img src='images/wordle-moving-average.png' width=75%></center>\n",
    "\n",
    "Moving average of the average number of guesses taken for each Wordle word, based on patterns shared on Twitter. ([source](https://observablehq.com/@rlesser/wordle-twitter-exploration))"
   ]
  },
  {
   "cell_type": "markdown",
   "metadata": {
    "slideshow": {
     "slide_type": "slide"
    }
   },
   "source": [
    "## Course logistics"
   ]
  },
  {
   "cell_type": "markdown",
   "metadata": {
    "slideshow": {
     "slide_type": "slide"
    }
   },
   "source": [
    "### Course website\n",
    "\n",
    "The course website is your one-stop-shop for all things related to the course.\n",
    "\n",
    "<center><h3><a href=\"https://dsc10.com\">dsc10.com</a></h3></center>\n",
    "\n",
    "This is where lectures, homeworks, labs, discussions, and all other content will be posted. Check it often, and **read the [syllabus](https://dsc10.com/syllabus)**!"
   ]
  },
  {
   "cell_type": "markdown",
   "metadata": {
    "slideshow": {
     "slide_type": "slide"
    }
   },
   "source": [
    "### Getting set up\n",
    "\n",
    "- **EdStem**: Q&A forum. All announcements will be made here. You should have gotten email invitation; if not, there's a link on syllabus.\n",
    "- **Gradescope**: Where you will submit all assignments for autograding, and where all of your grades will live. You should have been automatically added; contact us if not.\n",
    "- **DataHub**: Where you will access and run all code in this class. Access at [datahub.ucsd.edu](https://datahub.ucsd.edu). More on Wednesday.\n",
    "- We will **not** be using Canvas for anything!\n",
    "\n",
    "In addition, you must also fill out our [Beginning of Quarter Survey](https://forms.gle/PcQ2dMZmunReUKyN9)."
   ]
  },
  {
   "cell_type": "markdown",
   "metadata": {
    "slideshow": {
     "slide_type": "slide"
    }
   },
   "source": [
    "### Lecture\n",
    "\n",
    "- Lectures will be in-person and recorded for viewing afterwards.\n",
    "    - You can attend any of the 4 sections, as long as there is space for the students officially enrolled in that section.\n",
    "    - Attendance will never be required (but is strongly encouraged!)\n",
    "    - Recordings can be found at [podcast.ucsd.edu](https://podcast.ucsd.edu).\n",
    "- Slides/code from lecture will be linked on the course website, both in a \"runnable\" form (💻) and as an HTML file (✏️), which you can save as a PDF and annotate on your tablet.\n",
    "- We will try to make lectures engaging. **Bring your laptop or tablet**, if you have one."
   ]
  },
  {
   "cell_type": "markdown",
   "metadata": {
    "slideshow": {
     "slide_type": "slide"
    }
   },
   "source": [
    "### Concept Check ✅ – Answer at [cc.dsc10.com](http://cc.dsc10.com) \n",
    "\n",
    "**How many of the following food items qualify as a sandwich?**\n",
    "\n",
    "<center><img src='images/foods.png' width=30%></center>\n",
    "\n",
    "A. 0 &nbsp;&nbsp;&nbsp;&nbsp;&nbsp;&nbsp;&nbsp;&nbsp;&nbsp;&nbsp;&nbsp;&nbsp; \n",
    "B. 1 &nbsp;&nbsp;&nbsp;&nbsp;&nbsp;&nbsp;&nbsp;&nbsp;&nbsp;&nbsp;&nbsp;&nbsp;\n",
    "C. 2 &nbsp;&nbsp;&nbsp;&nbsp;&nbsp;&nbsp;&nbsp;&nbsp;&nbsp;&nbsp;&nbsp;&nbsp;\n",
    "D. 3 &nbsp;&nbsp;&nbsp;&nbsp;&nbsp;&nbsp;&nbsp;&nbsp;&nbsp;&nbsp;&nbsp;&nbsp;\n",
    "E. 4 &nbsp;&nbsp;&nbsp;&nbsp;&nbsp;&nbsp;&nbsp;&nbsp;&nbsp;&nbsp;&nbsp;&nbsp;\n",
    "\n",
    "_(We are always going to use the same link for Concept Checks, so you should bookmark it._)\n",
    "\n"
   ]
  },
  {
   "cell_type": "markdown",
   "metadata": {
    "slideshow": {
     "slide_type": "slide"
    }
   },
   "source": [
    "### Discussion\n",
    "\n",
    "- Discussion sections are designed to give you practice with the **conceptual ideas** in the course.\n",
    "    - All assignments in this class will be done on the computer using code, but the exams are on-paper and in-person.\n",
    "    - For each discussion, we've prepared a problem set, **made up of old exam problems** (see [practice.dsc10.com](https://practice.dsc10.com)). \n",
    "    - Problem sets are posted online, so bring a computer or tablet to access them. But like exams, you will answer the problems **on paper**.\n",
    "    - Discussion problem sets aren't submitted anywhere.\n",
    "- Attendance is not required, however **extra credit** is provided for attending.\n",
    "    - If you do attend, you must attend the discussion section you're enrolled in (but students in Lecture D00 can attend any one).\n",
    "    - Like lectures, discussions will be podcasted."
   ]
  },
  {
   "cell_type": "markdown",
   "metadata": {
    "slideshow": {
     "slide_type": "slide"
    }
   },
   "source": [
    "### Labs\n",
    "\n",
    "- <span style=\"color:red\"><b>🚨 Important: We will not be using the Wednesday \"Lab\" time that appears on WebReg!</b></span>\n",
    "- Instead, \"labs\" refer to **lab assignments**. Labs are a required part of the course and help you develop fluency in Python and working with data.\n",
    "- While working on labs, you'll be able to run **autograder tests** which tell you if your answers are correct.\n",
    "    - For labs, if you pass all autograder tests, you will get 100\\%!\n",
    "- You must submit labs individually, but you can discuss ideas with others (no sharing code).\n",
    "- Labs are due on **Saturdays at 11:59PM** to Gradescope. The first lab (due on Saturday, October 1st) will have submission instructions."
   ]
  },
  {
   "cell_type": "markdown",
   "metadata": {
    "slideshow": {
     "slide_type": "slide"
    }
   },
   "source": [
    "### Homeworks and projects\n",
    "\n",
    "- Weekly homework assignments build off of skills you develop in labs.\n",
    "- A key difference between homeworks and labs is that **passing autograder tests does not guarantee a perfect score!**\n",
    "    - In homeworks, we have \"hidden tests\" that are only run after you submit the assignment.\n",
    "    - The tests that are available to you within the assignment itself only verify that your answer is reasonable/on the right track.\n",
    "- Again, you must work on homeworks yourself, but you can discuss ideas with other students (no sharing code).\n",
    "- Homeworks are due on **Tuesdays at 11:59PM** to Gradescope.\n",
    "- In the **Midterm Project** and **Final Project**, you will do a deep dive into a dataset! Projects are longer than homeworks, so we give you more time to work on them.\n",
    "    - This quarter's projects: Spotify Charts 🎵 and Marvel vs. DC 🦸‍♀️.\n",
    "    - You can work on projects with partners, using [\"pair programming.\"](https://dsc10.com/pair-programming/)"
   ]
  },
  {
   "cell_type": "markdown",
   "metadata": {
    "slideshow": {
     "slide_type": "slide"
    }
   },
   "source": [
    "### Exams\n",
    "\n",
    "We will have two exams this quarter.\n",
    "- **Midterm Exam**: Friday, October 28th, during your scheduled lecture time.\n",
    "- **Final Exam**: Saturday, December 3rd, 11:30AM-2:30PM.\n",
    "- Both exams will be conducted in person and on paper. Let us know if you have a conflict in the [Beginning of Quarter Survey](https://forms.gle/PcQ2dMZmunReUKyN9)."
   ]
  },
  {
   "cell_type": "markdown",
   "metadata": {
    "slideshow": {
     "slide_type": "slide"
    }
   },
   "source": [
    "### Readings and resources\n",
    "\n",
    "- We will draw readings from two sources. Readings for each lecture will be posted on the course homepage.\n",
    "    - [Computational and Inferential Thinking (CIT)](https://inferentialthinking.com), the textbook created for Berkeley's version of this course.\n",
    "    - [`babypandas` notes](https://notes.dsc10.com), written specifically for the first part of DSC 10.\n",
    "- The [Resources](https://dsc10.com/resources) tab of the course website contains links to helpful resources that you'll want to use throughout the course (e.g. DSC 10 Reference Sheet, programming tutorials, supplemental videos).\n",
    "    - You should bookmark the [DSC 10 Reference Sheet](https://drive.google.com/file/d/1mQApk9Ovdi-QVqMgnNcq5dZcWucUKoG-/view)!\n",
    "- The [Debugging](https://dsc10.com/debugging) tab of the course website has answers to many common technical issues."
   ]
  },
  {
   "cell_type": "markdown",
   "metadata": {
    "slideshow": {
     "slide_type": "slide"
    }
   },
   "source": [
    "### A typical week in DSC 10\n",
    "\n",
    "| Sunday | Monday | Tuesday | Wednesday | Thursday | Friday | Saturday |\n",
    "|: -- :|: -- :|: -- :|: -- :|: -- :|: -- :|: -- :|\n",
    "| Nothing! 😎 | Lecture | | Lecture | | Lecture | |\n",
    "| | Discussion | | | | | |\n",
    "| | | **Homework due** | | | | **Lab due** |\n",
    "\n",
    "See the [Syllabus](https://dsc10.com/syllabus) for more details."
   ]
  },
  {
   "cell_type": "markdown",
   "metadata": {
    "slideshow": {
     "slide_type": "slide"
    }
   },
   "source": [
    "### First assignments\n",
    "- Lab 1 is due **Saturday, October 1st at 11:59PM**.\n",
    "    - Will be released tomorrow.\n",
    "- Homework 1 is due **Tuesday, October 4th at 11:59PM**.\n",
    "    - Will be released by this Tuesday.\n",
    "- Generally, do the lab before you do the homework!\n",
    "- <span style='color:red'><b>🚨 Important: Start early and submit often</b>.</span>"
   ]
  },
  {
   "cell_type": "markdown",
   "metadata": {
    "slideshow": {
     "slide_type": "slide"
    }
   },
   "source": [
    "### Getting help\n",
    "This is a tough, fast-paced course, but we're here to help you – here's how:\n",
    "\n",
    "- **Office Hours (OH)**.\n",
    "    - Remote and in-person throughout the week.\n",
    "    - See the schedule and Zoom link on the [Calendar 📆](https://dsc10.com/calendar).\n",
    "- **EdStem**.\n",
    "    - Post here with any logistical or conceptual questions (please don't email).\n",
    "    - No code or solutions in public posts. Such posts should be private to instructors + staff.\n",
    "    - Otherwise, post publicly (anonymously, if you'd like).\n",
    "- <span style=\"color:red;\"><b>🚨 Important: Use these to your advantage!</b></span>"
   ]
  },
  {
   "cell_type": "markdown",
   "metadata": {
    "slideshow": {
     "slide_type": "slide"
    }
   },
   "source": [
    "### Opportunity: Python bootcamp\n",
    "\n",
    "Diversity in Data Science, a student organization, is running a one-week Python bootcamp specifically **for students in DSC 10 with no prior programming experience**. \n",
    "\n",
    "It starts **on Monday**. Register by Sunday using the QR code below.\n",
    "\n",
    "<center><img src='images/bootcamp-qr.png' width=25%></center>"
   ]
  },
  {
   "cell_type": "markdown",
   "metadata": {
    "slideshow": {
     "slide_type": "slide"
    }
   },
   "source": [
    "### Advice from previous students\n",
    "\n",
    "At the end of each quarter, we ask DSC 10 students to give advice to future students in the course. Here are some responses:\n",
    "\n",
    "> \"Go to office hours! Get a partner for the project even if you don't want to. If you don't understand a topic try the following: go to office hours, ask on [EdStem], check the [readings], look at lecture notes. Start on the assignments early try and finish 2 days early to check your work.\"\n",
    "\n",
    "> \"I would give the advice to attend the discussions and office hours whenever possible, as a lot of the times I found myself learning new things even when I didn't come with a question ready.\"\n",
    "\n",
    "> \"Do NOT fall behind in lectures. It becomes very difficult to catch up on the concepts. Go to your discussion section! Hearing a concept explained once can be difficult to understand so discussion section was extremely helpful.\"\n",
    "\n",
    "> \"GO TO OFFICE HOURS!  It's very important to let your voice out. Talk to the professor after lectures, attend office hours, post your questions and ask a question.\""
   ]
  },
  {
   "cell_type": "markdown",
   "metadata": {
    "slideshow": {
     "slide_type": "slide"
    }
   },
   "source": [
    "### Collaboration\n",
    "\n",
    "#### Asking questions is highly encouraged!\n",
    "- Discuss all questions with each other (except exams).\n",
    "- Submit lab assignments individually, but you can work with others (no sharing code).\n",
    "- Submit homeworks individually, but you can discuss problem-solving strategies with others (no sharing code).\n",
    "- Submit projects individually or in pairs using pair programming."
   ]
  },
  {
   "cell_type": "markdown",
   "metadata": {
    "slideshow": {
     "slide_type": "fragment"
    }
   },
   "source": [
    "#### The limits of collaboration:\n",
    "- Don't share solutions with each other or look at someone’s code.\n",
    "- Project partners should work together and be physically in the same place (or same Zoom call). Don't split up the project.\n",
    "- Academic integrity violations usually result in failing the course. "
   ]
  },
  {
   "cell_type": "markdown",
   "metadata": {
    "slideshow": {
     "slide_type": "slide"
    }
   },
   "source": [
    "### We're here for you!\n",
    "\n",
    "Regardless of your background, you can succeed in this course. **No prior programming or statistics experience will be assumed!**\n",
    "\n",
    "Watch on YouTube: [We’re All Data Scientists | Rebecca Nugent | TEDxCMU](https://www.youtube.com/watch?v=YMnqPTLoj7o)."
   ]
  },
  {
   "cell_type": "markdown",
   "metadata": {
    "slideshow": {
     "slide_type": "slide"
    }
   },
   "source": [
    "### Campus resources\n",
    "\n",
    "Counseling and Psychological Services (CAPS) is a campus unit that offers “short term counseling for academic, career, and personal issues and also offers psychiatry services for circumstances when medication can help with counseling.”\n",
    "If you or anyone you know is ever in need of mental health care, you should contact CAPS.\n",
    "\n",
    "<center><h3><a href=\"https://caps.ucsd.edu/\">caps.ucsd.edu</a></h3></center>"
   ]
  },
  {
   "cell_type": "markdown",
   "metadata": {
    "slideshow": {
     "slide_type": "slide"
    }
   },
   "source": [
    "## Demo"
   ]
  },
  {
   "cell_type": "markdown",
   "metadata": {
    "slideshow": {
     "slide_type": "slide"
    }
   },
   "source": [
    "### _Little Women_ (1868)\n",
    "\n",
    "- _Little Women_, by Louisa May Alcott, is a novel that follows the life of four sisters – Meg, Jo, Beth, and Amy.\n",
    "- Using tools from this class, we'll learn (a bit) about the plot of the book, without reading it.\n",
    "- Do not worry about any of this code – we'll cover the necessary pieces in the weeks to come. Sit back and relax!"
   ]
  },
  {
   "cell_type": "code",
   "execution_count": 2,
   "metadata": {
    "scrolled": true,
    "slideshow": {
     "slide_type": "slide"
    }
   },
   "outputs": [],
   "source": [
    "# Read in 'lw.txt' to a variable called \"little_women_text\"\n",
    "little_women_text = open('data/lw.txt').read()"
   ]
  },
  {
   "cell_type": "code",
   "execution_count": 3,
   "metadata": {
    "slideshow": {
     "slide_type": "slide"
    }
   },
   "outputs": [
    {
     "data": {
      "text/plain": [
       "'The Project Gutenberg EBook of Little Women, by Louisa May Alcott\\n\\nThis eBook is for the use of anyone anywhere at no cost and with\\nalmost no restrictions whatsoever.  You may copy it, give it away or\\nre-use it under the terms of the Project Gutenberg License included\\nwith this eBook or online at www.gutenberg.net\\n\\n\\nTitle: Little Women\\n\\nAuthor: Louisa May Alcott\\n\\nPosting Date: September 13, 2008 [EBook #514]\\nRelease Date: May, 1996\\n[This file last updated on August 19, 2010]\\n\\nLanguage: English\\n\\n\\n*** START OF THIS PROJECT GUTENBERG EBOOK LITTLE WOMEN ***\\n\\n\\n\\n\\nLITTLE WOMEN\\n\\n\\nby\\n\\nLouisa May Alcott\\n\\n\\n\\n\\nCONTENTS\\n\\n\\nPART 1\\n\\n          ONE  PLAYING PILGRIMS\\n          TWO  A MERRY CHRISTMAS\\n        THREE  THE LAURENCE BOY\\n         FOUR  BURDENS\\n         FIVE  BEING NEIGHBORLY\\n          SIX  BETH FINDS THE PALACE BEAUTIFUL\\n        SEVEN  AMY\\'S VALLEY OF HUMILIATION\\n        EIGHT  JO MEETS APOLLYON\\n         NINE  MEG GOES TO VANITY FAIR\\n          TEN  THE P.C. AND P.O.\\n       ELEVEN  EXPERIMENTS\\n       TWELVE  CAMP LAURENCE\\n     THIRTEEN  CASTLES IN THE AIR\\n     FOURTEEN  SECRETS\\n      FIFTEEN  A TELEGRAM\\n      SIXTEEN  LETTERS\\n    SEVENTEEN  LITTLE FAITHFUL\\n     EIGHTEEN  DARK DAYS\\n     NINETEEN  AMY\\'S WILL\\n       TWENTY  CONFIDENTIAL\\n   TWENTY-ONE  LAURIE MAKES MISCHIEF, AND JO MAKES PEACE\\n   TWENTY-TWO  PLEASANT MEADOWS\\n TWENTY-THREE  AUNT MARCH SETTLES THE QUESTION\\n\\n\\nPART 2\\n\\n  TWENTY-FOUR  GOSSIP\\n  TWENTY-FIVE  THE FIRST WEDDING\\n   TWENTY-SIX  ARTISTIC ATTEMPTS\\n TWENTY-SEVEN  LITERARY LESSONS\\n TWENTY-EIGHT  DOMESTIC EXPERIENCES\\n  TWENTY-NINE  CALLS\\n       THIRTY  CONSEQUENCES\\n   THIRTY-ONE  OUR FOREIGN CORRESPONDENT\\n   THIRTY-TWO  TENDER TROUBLES\\n THIRTY-THREE  JO\\'S JOURNAL\\n  THIRTY-FOUR  FRIEND\\n  THIRTY-FIVE  HEARTACHE\\n   THIRTY-SIX  BETH\\'S SECRET\\n THIRTY-SEVEN  NEW IMPRESSIONS\\n THIRTY-EIGHT  ON THE SHELF\\n  THIRTY-NINE  LAZY LAURENCE\\n        FORTY  THE VALLEY OF THE SHADOW\\n    FORTY-ONE  LEARNING TO FORGET\\n    FORTY-TWO  ALL ALONE\\n  FORTY-THREE  SURPRISES\\n   FORTY-FOUR  MY LORD AND LADY\\n   FORTY-FIVE  DAISY AND DEMI\\n    FORTY-SIX  UNDER THE UMBRELLA\\n  FORTY-SEVEN  HARVEST TIME\\n\\n\\n\\nCHAPTER ONE\\n\\nPLAYING PILGRIMS\\n\\n\"Christmas won\\'t be Christmas without any presents,\" grumbled Jo, lying\\non the rug.\\n\\n\"It\\'s so dreadful to be poor!\" sighed Meg, looking down at her old\\ndress.\\n\\n\"I don\\'t think it\\'s fair for some girls to have plenty of pretty\\nthings, and other girls nothing at all,\" added little Amy, with an\\ninjured sniff.\\n\\n\"We\\'ve got Father and Mother, and each other,\" said Beth contentedly\\nfrom her corner.\\n\\nThe four young faces on which the firelight shone brightened at the\\ncheerful words, but darkened again as Jo said sadly, \"We haven\\'t got\\nFather, and shall not have him for a long time.\" She didn\\'t say\\n\"perhaps never,\" but each silently added it, thinking of Father far\\naway, where the fighting was.\\n\\nNobody spoke for a minute; then Meg said in an altered tone, \"You know\\nthe reason Mother proposed not having any presents this Christmas was\\nbecause it is going to b'"
      ]
     },
     "execution_count": 3,
     "metadata": {},
     "output_type": "execute_result"
    }
   ],
   "source": [
    "# See the first three thousand characters\n",
    "little_women_text[:3000]"
   ]
  },
  {
   "cell_type": "code",
   "execution_count": 4,
   "metadata": {
    "slideshow": {
     "slide_type": "slide"
    }
   },
   "outputs": [
    {
     "name": "stdout",
     "output_type": "stream",
     "text": [
      "The Project Gutenberg EBook of Little Women, by Louisa May Alcott\n",
      "\n",
      "This eBook is for the use of anyone anywhere at no cost and with\n",
      "almost no restrictions whatsoever.  You may copy it, give it away or\n",
      "re-use it under the terms of the Project Gutenberg License included\n",
      "with this eBook or online at www.gutenberg.net\n",
      "\n",
      "\n",
      "Title: Little Women\n",
      "\n",
      "Author: Louisa May Alcott\n",
      "\n",
      "Posting Date: September 13, 2008 [EBook #514]\n",
      "Release Date: May, 1996\n",
      "[This file last updated on August 19, 2010]\n",
      "\n",
      "Language: English\n",
      "\n",
      "\n",
      "*** START OF THIS PROJECT GUTENBERG EBOOK LITTLE WOMEN ***\n",
      "\n",
      "\n",
      "\n",
      "\n",
      "LITTLE WOMEN\n",
      "\n",
      "\n",
      "by\n",
      "\n",
      "Louisa May Alcott\n",
      "\n",
      "\n",
      "\n",
      "\n",
      "CONTENTS\n",
      "\n",
      "\n",
      "PART 1\n",
      "\n",
      "          ONE  PLAYING PILGRIMS\n",
      "          TWO  A MERRY CHRISTMAS\n",
      "        THREE  THE LAURENCE BOY\n",
      "         FOUR  BURDENS\n",
      "         FIVE  BEING NEIGHBORLY\n",
      "          SIX  BETH FINDS THE PALACE BEAUTIFUL\n",
      "        SEVEN  AMY'S VALLEY OF HUMILIATION\n",
      "        EIGHT  JO MEETS APOLLYON\n",
      "         NINE  MEG GOES TO VANITY FAIR\n",
      "          TEN  THE P.C. AND P.O.\n",
      "       ELEVEN  EXPERIMENTS\n",
      "       TWELVE  CAMP LAURENCE\n",
      "     THIRTEEN  CASTLES IN THE AIR\n",
      "     FOURTEEN  SECRETS\n",
      "      FIFTEEN  A TELEGRAM\n",
      "      SIXTEEN  LETTERS\n",
      "    SEVENTEEN  LITTLE FAITHFUL\n",
      "     EIGHTEEN  DARK DAYS\n",
      "     NINETEEN  AMY'S WILL\n",
      "       TWENTY  CONFIDENTIAL\n",
      "   TWENTY-ONE  LAURIE MAKES MISCHIEF, AND JO MAKES PEACE\n",
      "   TWENTY-TWO  PLEASANT MEADOWS\n",
      " TWENTY-THREE  AUNT MARCH SETTLES THE QUESTION\n",
      "\n",
      "\n",
      "PART 2\n",
      "\n",
      "  TWENTY-FOUR  GOSSIP\n",
      "  TWENTY-FIVE  THE FIRST WEDDING\n",
      "   TWENTY-SIX  ARTISTIC ATTEMPTS\n",
      " TWENTY-SEVEN  LITERARY LESSONS\n",
      " TWENTY-EIGHT  DOMESTIC EXPERIENCES\n",
      "  TWENTY-NINE  CALLS\n",
      "       THIRTY  CONSEQUENCES\n",
      "   THIRTY-ONE  OUR FOREIGN CORRESPONDENT\n",
      "   THIRTY-TWO  TENDER TROUBLES\n",
      " THIRTY-THREE  JO'S JOURNAL\n",
      "  THIRTY-FOUR  FRIEND\n",
      "  THIRTY-FIVE  HEARTACHE\n",
      "   THIRTY-SIX  BETH'S SECRET\n",
      " THIRTY-SEVEN  NEW IMPRESSIONS\n",
      " THIRTY-EIGHT  ON THE SHELF\n",
      "  THIRTY-NINE  LAZY LAURENCE\n",
      "        FORTY  THE VALLEY OF THE SHADOW\n",
      "    FORTY-ONE  LEARNING TO FORGET\n",
      "    FORTY-TWO  ALL ALONE\n",
      "  FORTY-THREE  SURPRISES\n",
      "   FORTY-FOUR  MY LORD AND LADY\n",
      "   FORTY-FIVE  DAISY AND DEMI\n",
      "    FORTY-SIX  UNDER THE UMBRELLA\n",
      "  FORTY-SEVEN  HARVEST TIME\n",
      "\n",
      "\n",
      "\n",
      "CHAPTER ONE\n",
      "\n",
      "PLAYING PILGRIMS\n",
      "\n",
      "\"Christmas won't be Christmas without any presents,\" grumbled Jo, lying\n",
      "on the rug.\n",
      "\n",
      "\"It's so dreadful to be poor!\" sighed Meg, looking down at her old\n",
      "dress.\n",
      "\n",
      "\"I don't think it's fair for some girls to have plenty of pretty\n",
      "things, and other girls nothing at all,\" added little Amy, with an\n",
      "injured sniff.\n",
      "\n",
      "\"We've got Father and Mother, and each other,\" said Beth contentedly\n",
      "from her corner.\n",
      "\n",
      "The four young faces on which the firelight shone brightened at the\n",
      "cheerful words, but darkened again as Jo said sadly, \"We haven't got\n",
      "Father, and shall not have him for a long time.\" She didn't say\n",
      "\"perhaps never,\" but each silently added it, thinking of Father far\n",
      "away, where the fighting was.\n",
      "\n",
      "Nobody spoke for a minute; then Meg said in an altered tone, \"You know\n",
      "the reason Mother proposed not having any presents this Christmas was\n",
      "because it is going to b\n"
     ]
    }
   ],
   "source": [
    "# Print the first three thousand characters\n",
    "print(little_women_text[:3000])"
   ]
  },
  {
   "cell_type": "code",
   "execution_count": 5,
   "metadata": {
    "slideshow": {
     "slide_type": "slide"
    }
   },
   "outputs": [
    {
     "data": {
      "text/html": [
       "<div>\n",
       "<style scoped>\n",
       "    .dataframe tbody tr th:only-of-type {\n",
       "        vertical-align: middle;\n",
       "    }\n",
       "\n",
       "    .dataframe tbody tr th {\n",
       "        vertical-align: top;\n",
       "    }\n",
       "\n",
       "    .dataframe thead th {\n",
       "        text-align: right;\n",
       "    }\n",
       "</style>\n",
       "<table border=\"1\" class=\"dataframe\">\n",
       "  <thead>\n",
       "    <tr style=\"text-align: right;\">\n",
       "      <th></th>\n",
       "      <th>chapters</th>\n",
       "    </tr>\n",
       "  </thead>\n",
       "  <tbody>\n",
       "    <tr>\n",
       "      <th>0</th>\n",
       "      <td>The Project Gutenberg EBook of Little Women, b...</td>\n",
       "    </tr>\n",
       "    <tr>\n",
       "      <th>1</th>\n",
       "      <td>ONE\\n\\nPLAYING PILGRIMS\\n\\n\"Christmas won't be...</td>\n",
       "    </tr>\n",
       "    <tr>\n",
       "      <th>2</th>\n",
       "      <td>TWO\\n\\nA MERRY CHRISTMAS\\n\\nJo was the first t...</td>\n",
       "    </tr>\n",
       "    <tr>\n",
       "      <th>3</th>\n",
       "      <td>THREE\\n\\nTHE LAURENCE BOY\\n\\n\"Jo!  Jo!  Where ...</td>\n",
       "    </tr>\n",
       "    <tr>\n",
       "      <th>4</th>\n",
       "      <td>FOUR\\n\\nBURDENS\\n\\n\"Oh, dear, how hard it does...</td>\n",
       "    </tr>\n",
       "    <tr>\n",
       "      <th>...</th>\n",
       "      <td>...</td>\n",
       "    </tr>\n",
       "    <tr>\n",
       "      <th>43</th>\n",
       "      <td>FORTY-THREE\\n\\nSURPRISES\\n\\nJo was alone in th...</td>\n",
       "    </tr>\n",
       "    <tr>\n",
       "      <th>44</th>\n",
       "      <td>FORTY-FOUR\\n\\nMY LORD AND LADY\\n\\n\"Please, Mad...</td>\n",
       "    </tr>\n",
       "    <tr>\n",
       "      <th>45</th>\n",
       "      <td>FORTY-FIVE\\n\\nDAISY AND DEMI\\n\\nI cannot feel ...</td>\n",
       "    </tr>\n",
       "    <tr>\n",
       "      <th>46</th>\n",
       "      <td>FORTY-SIX\\n\\nUNDER THE UMBRELLA\\n\\nWhile Lauri...</td>\n",
       "    </tr>\n",
       "    <tr>\n",
       "      <th>47</th>\n",
       "      <td>FORTY-SEVEN\\n\\nHARVEST TIME\\n\\nFor a year Jo a...</td>\n",
       "    </tr>\n",
       "  </tbody>\n",
       "</table>\n",
       "<p>48 rows × 1 columns</p>\n",
       "</div>"
      ],
      "text/plain": [
       "                                             chapters\n",
       "0   The Project Gutenberg EBook of Little Women, b...\n",
       "1   ONE\\n\\nPLAYING PILGRIMS\\n\\n\"Christmas won't be...\n",
       "2   TWO\\n\\nA MERRY CHRISTMAS\\n\\nJo was the first t...\n",
       "3   THREE\\n\\nTHE LAURENCE BOY\\n\\n\"Jo!  Jo!  Where ...\n",
       "4   FOUR\\n\\nBURDENS\\n\\n\"Oh, dear, how hard it does...\n",
       "..                                                ...\n",
       "43  FORTY-THREE\\n\\nSURPRISES\\n\\nJo was alone in th...\n",
       "44  FORTY-FOUR\\n\\nMY LORD AND LADY\\n\\n\"Please, Mad...\n",
       "45  FORTY-FIVE\\n\\nDAISY AND DEMI\\n\\nI cannot feel ...\n",
       "46  FORTY-SIX\\n\\nUNDER THE UMBRELLA\\n\\nWhile Lauri...\n",
       "47  FORTY-SEVEN\\n\\nHARVEST TIME\\n\\nFor a year Jo a...\n",
       "\n",
       "[48 rows x 1 columns]"
      ]
     },
     "execution_count": 5,
     "metadata": {},
     "output_type": "execute_result"
    }
   ],
   "source": [
    "# Create a variable \"chapters\" by splitting the text on 'CHAPTER '\n",
    "chapters = little_women_text.split('CHAPTER ') \n",
    "\n",
    "# Create a DataFrame with one column -- the chapters\n",
    "bpd.DataFrame().assign(chapters=chapters)"
   ]
  },
  {
   "cell_type": "code",
   "execution_count": 6,
   "metadata": {
    "slideshow": {
     "slide_type": "slide"
    }
   },
   "outputs": [
    {
     "data": {
      "text/html": [
       "<div>\n",
       "<style scoped>\n",
       "    .dataframe tbody tr th:only-of-type {\n",
       "        vertical-align: middle;\n",
       "    }\n",
       "\n",
       "    .dataframe tbody tr th {\n",
       "        vertical-align: top;\n",
       "    }\n",
       "\n",
       "    .dataframe thead th {\n",
       "        text-align: right;\n",
       "    }\n",
       "</style>\n",
       "<table border=\"1\" class=\"dataframe\">\n",
       "  <thead>\n",
       "    <tr style=\"text-align: right;\">\n",
       "      <th></th>\n",
       "      <th>Amy</th>\n",
       "      <th>Beth</th>\n",
       "      <th>Jo</th>\n",
       "      <th>Meg</th>\n",
       "      <th>Laurie</th>\n",
       "    </tr>\n",
       "  </thead>\n",
       "  <tbody>\n",
       "    <tr>\n",
       "      <th>0</th>\n",
       "      <td>0</td>\n",
       "      <td>0</td>\n",
       "      <td>0</td>\n",
       "      <td>0</td>\n",
       "      <td>0</td>\n",
       "    </tr>\n",
       "    <tr>\n",
       "      <th>1</th>\n",
       "      <td>23</td>\n",
       "      <td>26</td>\n",
       "      <td>44</td>\n",
       "      <td>26</td>\n",
       "      <td>0</td>\n",
       "    </tr>\n",
       "    <tr>\n",
       "      <th>2</th>\n",
       "      <td>13</td>\n",
       "      <td>12</td>\n",
       "      <td>21</td>\n",
       "      <td>20</td>\n",
       "      <td>0</td>\n",
       "    </tr>\n",
       "    <tr>\n",
       "      <th>3</th>\n",
       "      <td>2</td>\n",
       "      <td>2</td>\n",
       "      <td>62</td>\n",
       "      <td>36</td>\n",
       "      <td>16</td>\n",
       "    </tr>\n",
       "    <tr>\n",
       "      <th>4</th>\n",
       "      <td>14</td>\n",
       "      <td>18</td>\n",
       "      <td>34</td>\n",
       "      <td>17</td>\n",
       "      <td>0</td>\n",
       "    </tr>\n",
       "    <tr>\n",
       "      <th>...</th>\n",
       "      <td>...</td>\n",
       "      <td>...</td>\n",
       "      <td>...</td>\n",
       "      <td>...</td>\n",
       "      <td>...</td>\n",
       "    </tr>\n",
       "    <tr>\n",
       "      <th>43</th>\n",
       "      <td>31</td>\n",
       "      <td>8</td>\n",
       "      <td>61</td>\n",
       "      <td>3</td>\n",
       "      <td>29</td>\n",
       "    </tr>\n",
       "    <tr>\n",
       "      <th>44</th>\n",
       "      <td>13</td>\n",
       "      <td>0</td>\n",
       "      <td>9</td>\n",
       "      <td>0</td>\n",
       "      <td>10</td>\n",
       "    </tr>\n",
       "    <tr>\n",
       "      <th>45</th>\n",
       "      <td>1</td>\n",
       "      <td>2</td>\n",
       "      <td>6</td>\n",
       "      <td>2</td>\n",
       "      <td>0</td>\n",
       "    </tr>\n",
       "    <tr>\n",
       "      <th>46</th>\n",
       "      <td>2</td>\n",
       "      <td>1</td>\n",
       "      <td>56</td>\n",
       "      <td>4</td>\n",
       "      <td>2</td>\n",
       "    </tr>\n",
       "    <tr>\n",
       "      <th>47</th>\n",
       "      <td>10</td>\n",
       "      <td>3</td>\n",
       "      <td>37</td>\n",
       "      <td>6</td>\n",
       "      <td>13</td>\n",
       "    </tr>\n",
       "  </tbody>\n",
       "</table>\n",
       "<p>48 rows × 5 columns</p>\n",
       "</div>"
      ],
      "text/plain": [
       "    Amy  Beth  Jo  Meg  Laurie\n",
       "0     0     0   0    0       0\n",
       "1    23    26  44   26       0\n",
       "2    13    12  21   20       0\n",
       "3     2     2  62   36      16\n",
       "4    14    18  34   17       0\n",
       "..  ...   ...  ..  ...     ...\n",
       "43   31     8  61    3      29\n",
       "44   13     0   9    0      10\n",
       "45    1     2   6    2       0\n",
       "46    2     1  56    4       2\n",
       "47   10     3  37    6      13\n",
       "\n",
       "[48 rows x 5 columns]"
      ]
     },
     "execution_count": 6,
     "metadata": {},
     "output_type": "execute_result"
    }
   ],
   "source": [
    "# Counts of names in the chapters of Little Women\n",
    "\n",
    "counts = bpd.DataFrame().assign(\n",
    "    Amy=np.char.count(chapters, 'Amy'),\n",
    "    Beth=np.char.count(chapters, 'Beth'),\n",
    "    Jo=np.char.count(chapters, 'Jo'),\n",
    "    Meg=np.char.count(chapters, 'Meg'),\n",
    "    Laurie=np.char.count(chapters, 'Laurie'),\n",
    ")\n",
    "counts"
   ]
  },
  {
   "cell_type": "code",
   "execution_count": 7,
   "metadata": {
    "scrolled": false,
    "slideshow": {
     "slide_type": "slide"
    }
   },
   "outputs": [
    {
     "data": {
      "image/png": "[encoded data removed]",
      "text/plain": [
       "<Figure size 720x360 with 1 Axes>"
      ]
     },
     "metadata": {},
     "output_type": "display_data"
    }
   ],
   "source": [
    "# Cumulative number of times each name appears\n",
    "\n",
    "cumulative_counts = bpd.DataFrame().assign(\n",
    "    Amy=np.cumsum(counts.get('Amy')),\n",
    "    Beth=np.cumsum(counts.get('Beth')),\n",
    "    Jo=np.cumsum(counts.get('Jo')),\n",
    "    Meg=np.cumsum(counts.get('Meg')),\n",
    "    Laurie=np.cumsum(counts.get('Laurie')),\n",
    "    Chapter=np.arange(1, 49, 1)\n",
    ")\n",
    "\n",
    "cumulative_counts.plot(x='Chapter', figsize=(10, 5))\n",
    "\n",
    "plt.title('Cumulative Number of Times Each Name Appears', y=1.08);"
   ]
  },
  {
   "cell_type": "code",
   "execution_count": null,
   "metadata": {
    "slideshow": {
     "slide_type": "slide"
    }
   },
   "outputs": [],
   "source": [
    "# Interactive version of the previous plot\n",
    "\n",
    "cumulative_counts_df = cumulative_counts.drop(columns=['Chapter']).to_df().melt().rename(columns={'variable': 'name', 'value': 'count'})\n",
    "cumulative_counts_df = cumulative_counts_df.assign(chapter = list(range(1, 49)) * 5)\n",
    "px.line(cumulative_counts_df, x='chapter', y='count', color='name', width=900, height=600, title='Cumulative Number of Times Each Name Appears')"
   ]
  },
  {
   "cell_type": "markdown",
   "metadata": {
    "slideshow": {
     "slide_type": "slide"
    }
   },
   "source": [
    "### Concept Check ✅ – Answer at [cc.dsc10.com](http://cc.dsc10.com) \n",
    "\n",
    "In Chapter 32, Jo moves to New York alone. Her relationship with which sister suffers the most from this faraway move?\n",
    "\n",
    "A. Amy\n",
    "\n",
    "B. Beth\n",
    "\n",
    "C. Meg"
   ]
  },
  {
   "cell_type": "markdown",
   "metadata": {
    "slideshow": {
     "slide_type": "slide"
    }
   },
   "source": [
    "### Concept Check ✅ – Answer at [cc.dsc10.com](http://cc.dsc10.com) \n",
    "\n",
    "Laurie is a man who marries one of the sisters at the end. Which one?\n",
    "\n",
    "\n",
    "A. Amy\n",
    "\n",
    "B. Beth\n",
    "\n",
    "C. Jo\n",
    "\n",
    "D. Meg"
   ]
  },
  {
   "cell_type": "markdown",
   "metadata": {
    "slideshow": {
     "slide_type": "slide"
    }
   },
   "source": [
    "### Next time\n",
    "\n",
    "On Monday, we'll learn all about cause and effect, before moving on to Python on Wednesday."
   ]
  },
  {
   "cell_type": "markdown",
   "metadata": {
    "slideshow": {
     "slide_type": "slide"
    }
   },
   "source": [
    "### Meet the Professors \n",
    "\n",
    "Come say hi and eat cookies 🍪 with us! Meet us 2-3PM outside the Hopkins Drive entrance of the San Diego Supercomputer Center."
   ]
  }
 ],
 "metadata": {
  "kernelspec": {
   "display_name": "Python 3 (ipykernel)",
   "language": "python",
   "name": "python3"
  },
  "language_info": {
   "codemirror_mode": {
    "name": "ipython",
    "version": 3
   },
   "file_extension": ".py",
   "mimetype": "text/x-python",
   "name": "python",
   "nbconvert_exporter": "python",
   "pygments_lexer": "ipython3",
   "version": "3.9.5"
  },
  "livereveal": {
   "scroll": true,
   "transition": "none"
  },
  "rise": {
   "enable_chalkboard": true
  }
 },
 "nbformat": 4,
 "nbformat_minor": 4
}
