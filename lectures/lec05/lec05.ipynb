{
 "cells": [
  {
   "cell_type": "markdown",
   "metadata": {
    "slideshow": {
     "slide_type": "slide"
    }
   },
   "source": [
    "# Lecture 5 –  DataFrames: Accessing, Sorting, and Querying\n",
    "## DSC 10, Fall 2022"
   ]
  },
  {
   "cell_type": "markdown",
   "metadata": {
    "slideshow": {
     "slide_type": "slide"
    }
   },
   "source": [
    "### Announcements\n",
    "\n",
    "- Homework 1 is due **tomorrow at 11:59PM**.\n",
    "- Lab 2 is released and is due **Saturday at 11:59PM**.\n",
    "- Discussion section is tonight. Attendance policy updates:\n",
    "    - Attendance will be taken at a \"random\" time during the 50-minute discussion section.\n",
    "    - To earn credit, you must be there at that moment and have a photo ID with you. **No exceptions.**\n",
    "- [This video](https://www.youtube.com/watch?v=w_witptT6Ts) walks through the lottery example from the end of Lecture 4."
   ]
  },
  {
   "cell_type": "markdown",
   "metadata": {
    "slideshow": {
     "slide_type": "slide"
    }
   },
   "source": [
    "### Agenda\n",
    "\n",
    "Today, we'll use a real dataset and lots of motivating questions to illustrate key DataFrame manipulation techniques.\n",
    "\n",
    "#### Note:\n",
    "\n",
    "- Remember to check the [Resources tab of the course website](https://dsc10.com/resources/) for programming resources.\n",
    "- Some key links moving forward:\n",
    "    - [DSC 10 Reference Sheet](https://drive.google.com/file/d/1mQApk9Ovdi-QVqMgnNcq5dZcWucUKoG-/view).\n",
    "    - [`babypandas` notes](https://notes.dsc10.com).\n",
    "    - [`babypandas` documentation](https://babypandas.readthedocs.io/en/latest/index.html)."
   ]
  },
  {
   "cell_type": "markdown",
   "metadata": {
    "slideshow": {
     "slide_type": "slide"
    }
   },
   "source": [
    "## DataFrames"
   ]
  },
  {
   "cell_type": "markdown",
   "metadata": {
    "slideshow": {
     "slide_type": "slide"
    }
   },
   "source": [
    "### `pandas`\n",
    "\n",
    "- DataFrames (tables) are provided by a package called `pandas`.\n",
    "- `pandas` is **the** tool for doing data science in Python.\n",
    "\n",
    "<center>\n",
    "<img src='data/pandas.png' width=500>\n",
    "</center>"
   ]
  },
  {
   "cell_type": "markdown",
   "metadata": {
    "slideshow": {
     "slide_type": "slide"
    }
   },
   "source": [
    "### But `pandas` is not so cute...\n",
    "\n",
    "<center>\n",
    "<img height=100% src=\"data/angrypanda.jpg\"/>\n",
    "</center>"
   ]
  },
  {
   "cell_type": "markdown",
   "metadata": {
    "slideshow": {
     "slide_type": "slide"
    }
   },
   "source": [
    "### Enter `babypandas`!\n",
    "\n",
    "- We at UCSD have created a smaller, nicer version of `pandas` called `babypandas`.\n",
    "- It keeps the important stuff and has much better error messages.\n",
    "- It's easier to learn, but is still valid `pandas` code.\n",
    "\n",
    "<center>\n",
    "<img height=75% src=\"data/babypanda.jpg\"/ width=500>\n",
    "</center>"
   ]
  },
  {
   "cell_type": "markdown",
   "metadata": {
    "slideshow": {
     "slide_type": "slide"
    }
   },
   "source": [
    "### DataFrames in `babypandas` 🐼\n",
    "\n",
    "- Tables in `babypandas` (and `pandas`) are called \"DataFrames.\"\n",
    "- To use DataFrames, we'll need to import `babypandas`. (We'll need `numpy` as well.)"
   ]
  },
  {
   "cell_type": "code",
   "execution_count": 1,
   "metadata": {
    "slideshow": {
     "slide_type": "-"
    }
   },
   "outputs": [],
   "source": [
    "import babypandas as bpd\n",
    "import numpy as np"
   ]
  },
  {
   "cell_type": "markdown",
   "metadata": {
    "slideshow": {
     "slide_type": "slide"
    }
   },
   "source": [
    "### About the Data: Get It Done 👷\n",
    "\n",
    "- We'll usually work with data stored in the CSV format. CSV stands for \"comma-separated values.\"\n",
    "- The file `data/get-it-done-oct-1.csv` contains service requests made on October 1, 2022 through the [Get It Done](https://www.sandiego.gov/get-it-done) program. \n",
    "- Get It Done allows the general public to report non-emergency problems to the City of San Diego through a mobile app, website, or phone call.\n",
    "\n",
    "<center>\n",
    "<img height=75% src=\"data/get-it-done.jpg\"/ width=500>\n",
    "</center>"
   ]
  },
  {
   "cell_type": "markdown",
   "metadata": {
    "slideshow": {
     "slide_type": "slide"
    }
   },
   "source": [
    "### Reading data from a file 📖\n",
    "\n",
    "We can read in a CSV using `bpd.read_csv(...)`. Give it the path to a file relative to your notebook (if the file is in the same folder as your notebook, this is just the name of the file)."
   ]
  },
  {
   "cell_type": "code",
   "execution_count": 2,
   "metadata": {
    "scrolled": false
   },
   "outputs": [
    {
     "data": {
      "text/html": [
       "<div>\n",
       "<style scoped>\n",
       "    .dataframe tbody tr th:only-of-type {\n",
       "        vertical-align: middle;\n",
       "    }\n",
       "\n",
       "    .dataframe tbody tr th {\n",
       "        vertical-align: top;\n",
       "    }\n",
       "\n",
       "    .dataframe thead th {\n",
       "        text-align: right;\n",
       "    }\n",
       "</style>\n",
       "<table border=\"1\" class=\"dataframe\">\n",
       "  <thead>\n",
       "    <tr style=\"text-align: right;\">\n",
       "      <th></th>\n",
       "      <th>service_request_id</th>\n",
       "      <th>date_requested</th>\n",
       "      <th>neighborhood</th>\n",
       "      <th>service</th>\n",
       "      <th>status</th>\n",
       "      <th>street_address</th>\n",
       "      <th>public_description</th>\n",
       "    </tr>\n",
       "  </thead>\n",
       "  <tbody>\n",
       "    <tr>\n",
       "      <th>0</th>\n",
       "      <td>3940112</td>\n",
       "      <td>2022-10-01T00:11:00</td>\n",
       "      <td>La Jolla</td>\n",
       "      <td>Pothole</td>\n",
       "      <td>Open</td>\n",
       "      <td>7556 VIA CAPRI, San Diego, CA 92037, USA</td>\n",
       "      <td>Pothole</td>\n",
       "    </tr>\n",
       "    <tr>\n",
       "      <th>1</th>\n",
       "      <td>3940113</td>\n",
       "      <td>2022-10-01T00:12:00</td>\n",
       "      <td>La Jolla</td>\n",
       "      <td>Pothole</td>\n",
       "      <td>Open</td>\n",
       "      <td>7566 VIA CAPRI, San Diego, CA 92037, USA</td>\n",
       "      <td>Potholes / fix the damn road</td>\n",
       "    </tr>\n",
       "    <tr>\n",
       "      <th>2</th>\n",
       "      <td>3940114</td>\n",
       "      <td>2022-10-01T00:13:00</td>\n",
       "      <td>Pacific Beach</td>\n",
       "      <td>Street Light Maintenance</td>\n",
       "      <td>Open</td>\n",
       "      <td>1698-1500 Monmouth Dr, San Diego, CA 92109, USA</td>\n",
       "      <td>Street light out on the corner of Monmouth Dr ...</td>\n",
       "    </tr>\n",
       "    <tr>\n",
       "      <th>3</th>\n",
       "      <td>3940115</td>\n",
       "      <td>2022-10-01T00:13:00</td>\n",
       "      <td>La Jolla</td>\n",
       "      <td>Pothole</td>\n",
       "      <td>Open</td>\n",
       "      <td>7456 VIA CAPRI, San Diego, CA 92037, USA</td>\n",
       "      <td>Pothole</td>\n",
       "    </tr>\n",
       "    <tr>\n",
       "      <th>4</th>\n",
       "      <td>3940116</td>\n",
       "      <td>2022-10-01T00:16:00</td>\n",
       "      <td>Scripps Miramar Ranch</td>\n",
       "      <td>Traffic Signal Timing</td>\n",
       "      <td>Open</td>\n",
       "      <td>10895 Hibert St, San Diego, CA 92131, USA</td>\n",
       "      <td>Is it possible to time this light sequentially...</td>\n",
       "    </tr>\n",
       "    <tr>\n",
       "      <th>...</th>\n",
       "      <td>...</td>\n",
       "      <td>...</td>\n",
       "      <td>...</td>\n",
       "      <td>...</td>\n",
       "      <td>...</td>\n",
       "      <td>...</td>\n",
       "      <td>...</td>\n",
       "    </tr>\n",
       "    <tr>\n",
       "      <th>748</th>\n",
       "      <td>3940819</td>\n",
       "      <td>2022-10-01T17:39:00</td>\n",
       "      <td>North Park</td>\n",
       "      <td>Other</td>\n",
       "      <td>Closed</td>\n",
       "      <td>3935 32nd St</td>\n",
       "      <td>Bike Theft Chop Shop Behind Starbucks on 32nd ...</td>\n",
       "    </tr>\n",
       "    <tr>\n",
       "      <th>749</th>\n",
       "      <td>3940876</td>\n",
       "      <td>2022-10-01T19:47:00</td>\n",
       "      <td>Skyline-Paradise Hills</td>\n",
       "      <td>Parking</td>\n",
       "      <td>Closed</td>\n",
       "      <td>7701-7899 Bloomfield Rd, San Diego, CA 92114, USA</td>\n",
       "      <td>Car has been parked there for many months. Exp...</td>\n",
       "    </tr>\n",
       "    <tr>\n",
       "      <th>750</th>\n",
       "      <td>3940900</td>\n",
       "      <td>2022-10-01T21:06:00</td>\n",
       "      <td>Downtown</td>\n",
       "      <td>Sidewalk Repair Issue</td>\n",
       "      <td>Closed</td>\n",
       "      <td>Petco Park</td>\n",
       "      <td>Safety hazard illegal vending</td>\n",
       "    </tr>\n",
       "    <tr>\n",
       "      <th>751</th>\n",
       "      <td>3940909</td>\n",
       "      <td>2022-10-01T21:44:00</td>\n",
       "      <td>Clairemont Mesa</td>\n",
       "      <td>Other</td>\n",
       "      <td>Closed</td>\n",
       "      <td>2810 Denver Street</td>\n",
       "      <td>Underage drinking party</td>\n",
       "    </tr>\n",
       "    <tr>\n",
       "      <th>752</th>\n",
       "      <td>3940924</td>\n",
       "      <td>2022-10-01T22:54:00</td>\n",
       "      <td>Clairemont Mesa</td>\n",
       "      <td>Other</td>\n",
       "      <td>Closed</td>\n",
       "      <td>5378 Jamestown Rd</td>\n",
       "      <td>People doing drugs in their car AGAIN. Please ...</td>\n",
       "    </tr>\n",
       "  </tbody>\n",
       "</table>\n",
       "<p>753 rows × 7 columns</p>\n",
       "</div>"
      ],
      "text/plain": [
       "     service_request_id       date_requested            neighborhood  \\\n",
       "0               3940112  2022-10-01T00:11:00                La Jolla   \n",
       "1               3940113  2022-10-01T00:12:00                La Jolla   \n",
       "2               3940114  2022-10-01T00:13:00           Pacific Beach   \n",
       "3               3940115  2022-10-01T00:13:00                La Jolla   \n",
       "4               3940116  2022-10-01T00:16:00   Scripps Miramar Ranch   \n",
       "..                  ...                  ...                     ...   \n",
       "748             3940819  2022-10-01T17:39:00              North Park   \n",
       "749             3940876  2022-10-01T19:47:00  Skyline-Paradise Hills   \n",
       "750             3940900  2022-10-01T21:06:00                Downtown   \n",
       "751             3940909  2022-10-01T21:44:00         Clairemont Mesa   \n",
       "752             3940924  2022-10-01T22:54:00         Clairemont Mesa   \n",
       "\n",
       "                      service  status  \\\n",
       "0                     Pothole    Open   \n",
       "1                     Pothole    Open   \n",
       "2    Street Light Maintenance    Open   \n",
       "3                     Pothole    Open   \n",
       "4       Traffic Signal Timing    Open   \n",
       "..                        ...     ...   \n",
       "748                     Other  Closed   \n",
       "749                   Parking  Closed   \n",
       "750     Sidewalk Repair Issue  Closed   \n",
       "751                     Other  Closed   \n",
       "752                     Other  Closed   \n",
       "\n",
       "                                        street_address  \\\n",
       "0             7556 VIA CAPRI, San Diego, CA 92037, USA   \n",
       "1             7566 VIA CAPRI, San Diego, CA 92037, USA   \n",
       "2      1698-1500 Monmouth Dr, San Diego, CA 92109, USA   \n",
       "3             7456 VIA CAPRI, San Diego, CA 92037, USA   \n",
       "4            10895 Hibert St, San Diego, CA 92131, USA   \n",
       "..                                                 ...   \n",
       "748                                       3935 32nd St   \n",
       "749  7701-7899 Bloomfield Rd, San Diego, CA 92114, USA   \n",
       "750                                         Petco Park   \n",
       "751                                 2810 Denver Street   \n",
       "752                                  5378 Jamestown Rd   \n",
       "\n",
       "                                    public_description  \n",
       "0                                              Pothole  \n",
       "1                         Potholes / fix the damn road  \n",
       "2    Street light out on the corner of Monmouth Dr ...  \n",
       "3                                              Pothole  \n",
       "4    Is it possible to time this light sequentially...  \n",
       "..                                                 ...  \n",
       "748  Bike Theft Chop Shop Behind Starbucks on 32nd ...  \n",
       "749  Car has been parked there for many months. Exp...  \n",
       "750                      Safety hazard illegal vending  \n",
       "751                            Underage drinking party  \n",
       "752  People doing drugs in their car AGAIN. Please ...  \n",
       "\n",
       "[753 rows x 7 columns]"
      ]
     },
     "execution_count": 2,
     "metadata": {},
     "output_type": "execute_result"
    }
   ],
   "source": [
    "oct_1 = bpd.read_csv('data/get-it-done-oct-1.csv')\n",
    "oct_1"
   ]
  },
  {
   "cell_type": "markdown",
   "metadata": {
    "slideshow": {
     "slide_type": "slide"
    }
   },
   "source": [
    "### Structure of a DataFrame\n",
    "\n",
    "- DataFrames have *columns* and *rows*.\n",
    "    - Think of each column as an array. Columns contain data of the same `type`.\n",
    "- Each column has a label, e.g. `'neighborhood'` and `'status'`.\n",
    "    - A column's label is its name.\n",
    "    - Column labels are stored as strings.\n",
    "- Each row has a label too.\n",
    "    - Together, the row labels are called the _index_. The index is **not** a column!\n",
    "    "
   ]
  },
  {
   "cell_type": "code",
   "execution_count": 3,
   "metadata": {
    "scrolled": true,
    "slideshow": {
     "slide_type": "-"
    }
   },
   "outputs": [
    {
     "data": {
      "text/html": [
       "<div>\n",
       "<style scoped>\n",
       "    .dataframe tbody tr th:only-of-type {\n",
       "        vertical-align: middle;\n",
       "    }\n",
       "\n",
       "    .dataframe tbody tr th {\n",
       "        vertical-align: top;\n",
       "    }\n",
       "\n",
       "    .dataframe thead th {\n",
       "        text-align: right;\n",
       "    }\n",
       "</style>\n",
       "<table border=\"1\" class=\"dataframe\">\n",
       "  <thead>\n",
       "    <tr style=\"text-align: right;\">\n",
       "      <th></th>\n",
       "      <th>service_request_id</th>\n",
       "      <th>date_requested</th>\n",
       "      <th>neighborhood</th>\n",
       "      <th>service</th>\n",
       "      <th>status</th>\n",
       "      <th>street_address</th>\n",
       "      <th>public_description</th>\n",
       "    </tr>\n",
       "  </thead>\n",
       "  <tbody>\n",
       "    <tr>\n",
       "      <th>0</th>\n",
       "      <td>3940112</td>\n",
       "      <td>2022-10-01T00:11:00</td>\n",
       "      <td>La Jolla</td>\n",
       "      <td>Pothole</td>\n",
       "      <td>Open</td>\n",
       "      <td>7556 VIA CAPRI, San Diego, CA 92037, USA</td>\n",
       "      <td>Pothole</td>\n",
       "    </tr>\n",
       "    <tr>\n",
       "      <th>1</th>\n",
       "      <td>3940113</td>\n",
       "      <td>2022-10-01T00:12:00</td>\n",
       "      <td>La Jolla</td>\n",
       "      <td>Pothole</td>\n",
       "      <td>Open</td>\n",
       "      <td>7566 VIA CAPRI, San Diego, CA 92037, USA</td>\n",
       "      <td>Potholes / fix the damn road</td>\n",
       "    </tr>\n",
       "    <tr>\n",
       "      <th>2</th>\n",
       "      <td>3940114</td>\n",
       "      <td>2022-10-01T00:13:00</td>\n",
       "      <td>Pacific Beach</td>\n",
       "      <td>Street Light Maintenance</td>\n",
       "      <td>Open</td>\n",
       "      <td>1698-1500 Monmouth Dr, San Diego, CA 92109, USA</td>\n",
       "      <td>Street light out on the corner of Monmouth Dr ...</td>\n",
       "    </tr>\n",
       "    <tr>\n",
       "      <th>3</th>\n",
       "      <td>3940115</td>\n",
       "      <td>2022-10-01T00:13:00</td>\n",
       "      <td>La Jolla</td>\n",
       "      <td>Pothole</td>\n",
       "      <td>Open</td>\n",
       "      <td>7456 VIA CAPRI, San Diego, CA 92037, USA</td>\n",
       "      <td>Pothole</td>\n",
       "    </tr>\n",
       "    <tr>\n",
       "      <th>4</th>\n",
       "      <td>3940116</td>\n",
       "      <td>2022-10-01T00:16:00</td>\n",
       "      <td>Scripps Miramar Ranch</td>\n",
       "      <td>Traffic Signal Timing</td>\n",
       "      <td>Open</td>\n",
       "      <td>10895 Hibert St, San Diego, CA 92131, USA</td>\n",
       "      <td>Is it possible to time this light sequentially...</td>\n",
       "    </tr>\n",
       "    <tr>\n",
       "      <th>...</th>\n",
       "      <td>...</td>\n",
       "      <td>...</td>\n",
       "      <td>...</td>\n",
       "      <td>...</td>\n",
       "      <td>...</td>\n",
       "      <td>...</td>\n",
       "      <td>...</td>\n",
       "    </tr>\n",
       "    <tr>\n",
       "      <th>748</th>\n",
       "      <td>3940819</td>\n",
       "      <td>2022-10-01T17:39:00</td>\n",
       "      <td>North Park</td>\n",
       "      <td>Other</td>\n",
       "      <td>Closed</td>\n",
       "      <td>3935 32nd St</td>\n",
       "      <td>Bike Theft Chop Shop Behind Starbucks on 32nd ...</td>\n",
       "    </tr>\n",
       "    <tr>\n",
       "      <th>749</th>\n",
       "      <td>3940876</td>\n",
       "      <td>2022-10-01T19:47:00</td>\n",
       "      <td>Skyline-Paradise Hills</td>\n",
       "      <td>Parking</td>\n",
       "      <td>Closed</td>\n",
       "      <td>7701-7899 Bloomfield Rd, San Diego, CA 92114, USA</td>\n",
       "      <td>Car has been parked there for many months. Exp...</td>\n",
       "    </tr>\n",
       "    <tr>\n",
       "      <th>750</th>\n",
       "      <td>3940900</td>\n",
       "      <td>2022-10-01T21:06:00</td>\n",
       "      <td>Downtown</td>\n",
       "      <td>Sidewalk Repair Issue</td>\n",
       "      <td>Closed</td>\n",
       "      <td>Petco Park</td>\n",
       "      <td>Safety hazard illegal vending</td>\n",
       "    </tr>\n",
       "    <tr>\n",
       "      <th>751</th>\n",
       "      <td>3940909</td>\n",
       "      <td>2022-10-01T21:44:00</td>\n",
       "      <td>Clairemont Mesa</td>\n",
       "      <td>Other</td>\n",
       "      <td>Closed</td>\n",
       "      <td>2810 Denver Street</td>\n",
       "      <td>Underage drinking party</td>\n",
       "    </tr>\n",
       "    <tr>\n",
       "      <th>752</th>\n",
       "      <td>3940924</td>\n",
       "      <td>2022-10-01T22:54:00</td>\n",
       "      <td>Clairemont Mesa</td>\n",
       "      <td>Other</td>\n",
       "      <td>Closed</td>\n",
       "      <td>5378 Jamestown Rd</td>\n",
       "      <td>People doing drugs in their car AGAIN. Please ...</td>\n",
       "    </tr>\n",
       "  </tbody>\n",
       "</table>\n",
       "<p>753 rows × 7 columns</p>\n",
       "</div>"
      ],
      "text/plain": [
       "     service_request_id       date_requested            neighborhood  \\\n",
       "0               3940112  2022-10-01T00:11:00                La Jolla   \n",
       "1               3940113  2022-10-01T00:12:00                La Jolla   \n",
       "2               3940114  2022-10-01T00:13:00           Pacific Beach   \n",
       "3               3940115  2022-10-01T00:13:00                La Jolla   \n",
       "4               3940116  2022-10-01T00:16:00   Scripps Miramar Ranch   \n",
       "..                  ...                  ...                     ...   \n",
       "748             3940819  2022-10-01T17:39:00              North Park   \n",
       "749             3940876  2022-10-01T19:47:00  Skyline-Paradise Hills   \n",
       "750             3940900  2022-10-01T21:06:00                Downtown   \n",
       "751             3940909  2022-10-01T21:44:00         Clairemont Mesa   \n",
       "752             3940924  2022-10-01T22:54:00         Clairemont Mesa   \n",
       "\n",
       "                      service  status  \\\n",
       "0                     Pothole    Open   \n",
       "1                     Pothole    Open   \n",
       "2    Street Light Maintenance    Open   \n",
       "3                     Pothole    Open   \n",
       "4       Traffic Signal Timing    Open   \n",
       "..                        ...     ...   \n",
       "748                     Other  Closed   \n",
       "749                   Parking  Closed   \n",
       "750     Sidewalk Repair Issue  Closed   \n",
       "751                     Other  Closed   \n",
       "752                     Other  Closed   \n",
       "\n",
       "                                        street_address  \\\n",
       "0             7556 VIA CAPRI, San Diego, CA 92037, USA   \n",
       "1             7566 VIA CAPRI, San Diego, CA 92037, USA   \n",
       "2      1698-1500 Monmouth Dr, San Diego, CA 92109, USA   \n",
       "3             7456 VIA CAPRI, San Diego, CA 92037, USA   \n",
       "4            10895 Hibert St, San Diego, CA 92131, USA   \n",
       "..                                                 ...   \n",
       "748                                       3935 32nd St   \n",
       "749  7701-7899 Bloomfield Rd, San Diego, CA 92114, USA   \n",
       "750                                         Petco Park   \n",
       "751                                 2810 Denver Street   \n",
       "752                                  5378 Jamestown Rd   \n",
       "\n",
       "                                    public_description  \n",
       "0                                              Pothole  \n",
       "1                         Potholes / fix the damn road  \n",
       "2    Street light out on the corner of Monmouth Dr ...  \n",
       "3                                              Pothole  \n",
       "4    Is it possible to time this light sequentially...  \n",
       "..                                                 ...  \n",
       "748  Bike Theft Chop Shop Behind Starbucks on 32nd ...  \n",
       "749  Car has been parked there for many months. Exp...  \n",
       "750                      Safety hazard illegal vending  \n",
       "751                            Underage drinking party  \n",
       "752  People doing drugs in their car AGAIN. Please ...  \n",
       "\n",
       "[753 rows x 7 columns]"
      ]
     },
     "execution_count": 3,
     "metadata": {},
     "output_type": "execute_result"
    }
   ],
   "source": [
    "# This DataFrame has 753 rows and 7 columns\n",
    "oct_1"
   ]
  },
  {
   "cell_type": "markdown",
   "metadata": {
    "slideshow": {
     "slide_type": "slide"
    }
   },
   "source": [
    "### Setting a new index\n",
    "\n",
    "- We can set a better index using `.set_index(column_name)`.\n",
    "- Row labels should be unique identifiers.\n",
    "    - Row labels are row names; ideally, each row has a different, descriptive name.\n",
    "- ⚠️ Like most DataFrame methods, `.set_index` returns a new DataFrame; it does not modify the original DataFrame."
   ]
  },
  {
   "cell_type": "code",
   "execution_count": 4,
   "metadata": {},
   "outputs": [
    {
     "data": {
      "text/html": [
       "<div>\n",
       "<style scoped>\n",
       "    .dataframe tbody tr th:only-of-type {\n",
       "        vertical-align: middle;\n",
       "    }\n",
       "\n",
       "    .dataframe tbody tr th {\n",
       "        vertical-align: top;\n",
       "    }\n",
       "\n",
       "    .dataframe thead th {\n",
       "        text-align: right;\n",
       "    }\n",
       "</style>\n",
       "<table border=\"1\" class=\"dataframe\">\n",
       "  <thead>\n",
       "    <tr style=\"text-align: right;\">\n",
       "      <th></th>\n",
       "      <th>date_requested</th>\n",
       "      <th>neighborhood</th>\n",
       "      <th>service</th>\n",
       "      <th>status</th>\n",
       "      <th>street_address</th>\n",
       "      <th>public_description</th>\n",
       "    </tr>\n",
       "    <tr>\n",
       "      <th>service_request_id</th>\n",
       "      <th></th>\n",
       "      <th></th>\n",
       "      <th></th>\n",
       "      <th></th>\n",
       "      <th></th>\n",
       "      <th></th>\n",
       "    </tr>\n",
       "  </thead>\n",
       "  <tbody>\n",
       "    <tr>\n",
       "      <th>3940112</th>\n",
       "      <td>2022-10-01T00:11:00</td>\n",
       "      <td>La Jolla</td>\n",
       "      <td>Pothole</td>\n",
       "      <td>Open</td>\n",
       "      <td>7556 VIA CAPRI, San Diego, CA 92037, USA</td>\n",
       "      <td>Pothole</td>\n",
       "    </tr>\n",
       "    <tr>\n",
       "      <th>3940113</th>\n",
       "      <td>2022-10-01T00:12:00</td>\n",
       "      <td>La Jolla</td>\n",
       "      <td>Pothole</td>\n",
       "      <td>Open</td>\n",
       "      <td>7566 VIA CAPRI, San Diego, CA 92037, USA</td>\n",
       "      <td>Potholes / fix the damn road</td>\n",
       "    </tr>\n",
       "    <tr>\n",
       "      <th>3940114</th>\n",
       "      <td>2022-10-01T00:13:00</td>\n",
       "      <td>Pacific Beach</td>\n",
       "      <td>Street Light Maintenance</td>\n",
       "      <td>Open</td>\n",
       "      <td>1698-1500 Monmouth Dr, San Diego, CA 92109, USA</td>\n",
       "      <td>Street light out on the corner of Monmouth Dr ...</td>\n",
       "    </tr>\n",
       "    <tr>\n",
       "      <th>3940115</th>\n",
       "      <td>2022-10-01T00:13:00</td>\n",
       "      <td>La Jolla</td>\n",
       "      <td>Pothole</td>\n",
       "      <td>Open</td>\n",
       "      <td>7456 VIA CAPRI, San Diego, CA 92037, USA</td>\n",
       "      <td>Pothole</td>\n",
       "    </tr>\n",
       "    <tr>\n",
       "      <th>3940116</th>\n",
       "      <td>2022-10-01T00:16:00</td>\n",
       "      <td>Scripps Miramar Ranch</td>\n",
       "      <td>Traffic Signal Timing</td>\n",
       "      <td>Open</td>\n",
       "      <td>10895 Hibert St, San Diego, CA 92131, USA</td>\n",
       "      <td>Is it possible to time this light sequentially...</td>\n",
       "    </tr>\n",
       "    <tr>\n",
       "      <th>...</th>\n",
       "      <td>...</td>\n",
       "      <td>...</td>\n",
       "      <td>...</td>\n",
       "      <td>...</td>\n",
       "      <td>...</td>\n",
       "      <td>...</td>\n",
       "    </tr>\n",
       "    <tr>\n",
       "      <th>3940819</th>\n",
       "      <td>2022-10-01T17:39:00</td>\n",
       "      <td>North Park</td>\n",
       "      <td>Other</td>\n",
       "      <td>Closed</td>\n",
       "      <td>3935 32nd St</td>\n",
       "      <td>Bike Theft Chop Shop Behind Starbucks on 32nd ...</td>\n",
       "    </tr>\n",
       "    <tr>\n",
       "      <th>3940876</th>\n",
       "      <td>2022-10-01T19:47:00</td>\n",
       "      <td>Skyline-Paradise Hills</td>\n",
       "      <td>Parking</td>\n",
       "      <td>Closed</td>\n",
       "      <td>7701-7899 Bloomfield Rd, San Diego, CA 92114, USA</td>\n",
       "      <td>Car has been parked there for many months. Exp...</td>\n",
       "    </tr>\n",
       "    <tr>\n",
       "      <th>3940900</th>\n",
       "      <td>2022-10-01T21:06:00</td>\n",
       "      <td>Downtown</td>\n",
       "      <td>Sidewalk Repair Issue</td>\n",
       "      <td>Closed</td>\n",
       "      <td>Petco Park</td>\n",
       "      <td>Safety hazard illegal vending</td>\n",
       "    </tr>\n",
       "    <tr>\n",
       "      <th>3940909</th>\n",
       "      <td>2022-10-01T21:44:00</td>\n",
       "      <td>Clairemont Mesa</td>\n",
       "      <td>Other</td>\n",
       "      <td>Closed</td>\n",
       "      <td>2810 Denver Street</td>\n",
       "      <td>Underage drinking party</td>\n",
       "    </tr>\n",
       "    <tr>\n",
       "      <th>3940924</th>\n",
       "      <td>2022-10-01T22:54:00</td>\n",
       "      <td>Clairemont Mesa</td>\n",
       "      <td>Other</td>\n",
       "      <td>Closed</td>\n",
       "      <td>5378 Jamestown Rd</td>\n",
       "      <td>People doing drugs in their car AGAIN. Please ...</td>\n",
       "    </tr>\n",
       "  </tbody>\n",
       "</table>\n",
       "<p>753 rows × 6 columns</p>\n",
       "</div>"
      ],
      "text/plain": [
       "                         date_requested            neighborhood  \\\n",
       "service_request_id                                                \n",
       "3940112             2022-10-01T00:11:00                La Jolla   \n",
       "3940113             2022-10-01T00:12:00                La Jolla   \n",
       "3940114             2022-10-01T00:13:00           Pacific Beach   \n",
       "3940115             2022-10-01T00:13:00                La Jolla   \n",
       "3940116             2022-10-01T00:16:00   Scripps Miramar Ranch   \n",
       "...                                 ...                     ...   \n",
       "3940819             2022-10-01T17:39:00              North Park   \n",
       "3940876             2022-10-01T19:47:00  Skyline-Paradise Hills   \n",
       "3940900             2022-10-01T21:06:00                Downtown   \n",
       "3940909             2022-10-01T21:44:00         Clairemont Mesa   \n",
       "3940924             2022-10-01T22:54:00         Clairemont Mesa   \n",
       "\n",
       "                                     service  status  \\\n",
       "service_request_id                                     \n",
       "3940112                              Pothole    Open   \n",
       "3940113                              Pothole    Open   \n",
       "3940114             Street Light Maintenance    Open   \n",
       "3940115                              Pothole    Open   \n",
       "3940116                Traffic Signal Timing    Open   \n",
       "...                                      ...     ...   \n",
       "3940819                                Other  Closed   \n",
       "3940876                              Parking  Closed   \n",
       "3940900                Sidewalk Repair Issue  Closed   \n",
       "3940909                                Other  Closed   \n",
       "3940924                                Other  Closed   \n",
       "\n",
       "                                                       street_address  \\\n",
       "service_request_id                                                      \n",
       "3940112                      7556 VIA CAPRI, San Diego, CA 92037, USA   \n",
       "3940113                      7566 VIA CAPRI, San Diego, CA 92037, USA   \n",
       "3940114               1698-1500 Monmouth Dr, San Diego, CA 92109, USA   \n",
       "3940115                      7456 VIA CAPRI, San Diego, CA 92037, USA   \n",
       "3940116                     10895 Hibert St, San Diego, CA 92131, USA   \n",
       "...                                                               ...   \n",
       "3940819                                                  3935 32nd St   \n",
       "3940876             7701-7899 Bloomfield Rd, San Diego, CA 92114, USA   \n",
       "3940900                                                    Petco Park   \n",
       "3940909                                            2810 Denver Street   \n",
       "3940924                                             5378 Jamestown Rd   \n",
       "\n",
       "                                                   public_description  \n",
       "service_request_id                                                     \n",
       "3940112                                                       Pothole  \n",
       "3940113                                  Potholes / fix the damn road  \n",
       "3940114             Street light out on the corner of Monmouth Dr ...  \n",
       "3940115                                                       Pothole  \n",
       "3940116             Is it possible to time this light sequentially...  \n",
       "...                                                               ...  \n",
       "3940819             Bike Theft Chop Shop Behind Starbucks on 32nd ...  \n",
       "3940876             Car has been parked there for many months. Exp...  \n",
       "3940900                                 Safety hazard illegal vending  \n",
       "3940909                                       Underage drinking party  \n",
       "3940924             People doing drugs in their car AGAIN. Please ...  \n",
       "\n",
       "[753 rows x 6 columns]"
      ]
     },
     "execution_count": 4,
     "metadata": {},
     "output_type": "execute_result"
    }
   ],
   "source": [
    "oct_1.set_index('service_request_id')"
   ]
  },
  {
   "cell_type": "code",
   "execution_count": 5,
   "metadata": {},
   "outputs": [
    {
     "data": {
      "text/html": [
       "<div>\n",
       "<style scoped>\n",
       "    .dataframe tbody tr th:only-of-type {\n",
       "        vertical-align: middle;\n",
       "    }\n",
       "\n",
       "    .dataframe tbody tr th {\n",
       "        vertical-align: top;\n",
       "    }\n",
       "\n",
       "    .dataframe thead th {\n",
       "        text-align: right;\n",
       "    }\n",
       "</style>\n",
       "<table border=\"1\" class=\"dataframe\">\n",
       "  <thead>\n",
       "    <tr style=\"text-align: right;\">\n",
       "      <th></th>\n",
       "      <th>service_request_id</th>\n",
       "      <th>date_requested</th>\n",
       "      <th>neighborhood</th>\n",
       "      <th>service</th>\n",
       "      <th>status</th>\n",
       "      <th>street_address</th>\n",
       "      <th>public_description</th>\n",
       "    </tr>\n",
       "  </thead>\n",
       "  <tbody>\n",
       "    <tr>\n",
       "      <th>0</th>\n",
       "      <td>3940112</td>\n",
       "      <td>2022-10-01T00:11:00</td>\n",
       "      <td>La Jolla</td>\n",
       "      <td>Pothole</td>\n",
       "      <td>Open</td>\n",
       "      <td>7556 VIA CAPRI, San Diego, CA 92037, USA</td>\n",
       "      <td>Pothole</td>\n",
       "    </tr>\n",
       "    <tr>\n",
       "      <th>1</th>\n",
       "      <td>3940113</td>\n",
       "      <td>2022-10-01T00:12:00</td>\n",
       "      <td>La Jolla</td>\n",
       "      <td>Pothole</td>\n",
       "      <td>Open</td>\n",
       "      <td>7566 VIA CAPRI, San Diego, CA 92037, USA</td>\n",
       "      <td>Potholes / fix the damn road</td>\n",
       "    </tr>\n",
       "    <tr>\n",
       "      <th>2</th>\n",
       "      <td>3940114</td>\n",
       "      <td>2022-10-01T00:13:00</td>\n",
       "      <td>Pacific Beach</td>\n",
       "      <td>Street Light Maintenance</td>\n",
       "      <td>Open</td>\n",
       "      <td>1698-1500 Monmouth Dr, San Diego, CA 92109, USA</td>\n",
       "      <td>Street light out on the corner of Monmouth Dr ...</td>\n",
       "    </tr>\n",
       "    <tr>\n",
       "      <th>3</th>\n",
       "      <td>3940115</td>\n",
       "      <td>2022-10-01T00:13:00</td>\n",
       "      <td>La Jolla</td>\n",
       "      <td>Pothole</td>\n",
       "      <td>Open</td>\n",
       "      <td>7456 VIA CAPRI, San Diego, CA 92037, USA</td>\n",
       "      <td>Pothole</td>\n",
       "    </tr>\n",
       "    <tr>\n",
       "      <th>4</th>\n",
       "      <td>3940116</td>\n",
       "      <td>2022-10-01T00:16:00</td>\n",
       "      <td>Scripps Miramar Ranch</td>\n",
       "      <td>Traffic Signal Timing</td>\n",
       "      <td>Open</td>\n",
       "      <td>10895 Hibert St, San Diego, CA 92131, USA</td>\n",
       "      <td>Is it possible to time this light sequentially...</td>\n",
       "    </tr>\n",
       "    <tr>\n",
       "      <th>...</th>\n",
       "      <td>...</td>\n",
       "      <td>...</td>\n",
       "      <td>...</td>\n",
       "      <td>...</td>\n",
       "      <td>...</td>\n",
       "      <td>...</td>\n",
       "      <td>...</td>\n",
       "    </tr>\n",
       "    <tr>\n",
       "      <th>748</th>\n",
       "      <td>3940819</td>\n",
       "      <td>2022-10-01T17:39:00</td>\n",
       "      <td>North Park</td>\n",
       "      <td>Other</td>\n",
       "      <td>Closed</td>\n",
       "      <td>3935 32nd St</td>\n",
       "      <td>Bike Theft Chop Shop Behind Starbucks on 32nd ...</td>\n",
       "    </tr>\n",
       "    <tr>\n",
       "      <th>749</th>\n",
       "      <td>3940876</td>\n",
       "      <td>2022-10-01T19:47:00</td>\n",
       "      <td>Skyline-Paradise Hills</td>\n",
       "      <td>Parking</td>\n",
       "      <td>Closed</td>\n",
       "      <td>7701-7899 Bloomfield Rd, San Diego, CA 92114, USA</td>\n",
       "      <td>Car has been parked there for many months. Exp...</td>\n",
       "    </tr>\n",
       "    <tr>\n",
       "      <th>750</th>\n",
       "      <td>3940900</td>\n",
       "      <td>2022-10-01T21:06:00</td>\n",
       "      <td>Downtown</td>\n",
       "      <td>Sidewalk Repair Issue</td>\n",
       "      <td>Closed</td>\n",
       "      <td>Petco Park</td>\n",
       "      <td>Safety hazard illegal vending</td>\n",
       "    </tr>\n",
       "    <tr>\n",
       "      <th>751</th>\n",
       "      <td>3940909</td>\n",
       "      <td>2022-10-01T21:44:00</td>\n",
       "      <td>Clairemont Mesa</td>\n",
       "      <td>Other</td>\n",
       "      <td>Closed</td>\n",
       "      <td>2810 Denver Street</td>\n",
       "      <td>Underage drinking party</td>\n",
       "    </tr>\n",
       "    <tr>\n",
       "      <th>752</th>\n",
       "      <td>3940924</td>\n",
       "      <td>2022-10-01T22:54:00</td>\n",
       "      <td>Clairemont Mesa</td>\n",
       "      <td>Other</td>\n",
       "      <td>Closed</td>\n",
       "      <td>5378 Jamestown Rd</td>\n",
       "      <td>People doing drugs in their car AGAIN. Please ...</td>\n",
       "    </tr>\n",
       "  </tbody>\n",
       "</table>\n",
       "<p>753 rows × 7 columns</p>\n",
       "</div>"
      ],
      "text/plain": [
       "     service_request_id       date_requested            neighborhood  \\\n",
       "0               3940112  2022-10-01T00:11:00                La Jolla   \n",
       "1               3940113  2022-10-01T00:12:00                La Jolla   \n",
       "2               3940114  2022-10-01T00:13:00           Pacific Beach   \n",
       "3               3940115  2022-10-01T00:13:00                La Jolla   \n",
       "4               3940116  2022-10-01T00:16:00   Scripps Miramar Ranch   \n",
       "..                  ...                  ...                     ...   \n",
       "748             3940819  2022-10-01T17:39:00              North Park   \n",
       "749             3940876  2022-10-01T19:47:00  Skyline-Paradise Hills   \n",
       "750             3940900  2022-10-01T21:06:00                Downtown   \n",
       "751             3940909  2022-10-01T21:44:00         Clairemont Mesa   \n",
       "752             3940924  2022-10-01T22:54:00         Clairemont Mesa   \n",
       "\n",
       "                      service  status  \\\n",
       "0                     Pothole    Open   \n",
       "1                     Pothole    Open   \n",
       "2    Street Light Maintenance    Open   \n",
       "3                     Pothole    Open   \n",
       "4       Traffic Signal Timing    Open   \n",
       "..                        ...     ...   \n",
       "748                     Other  Closed   \n",
       "749                   Parking  Closed   \n",
       "750     Sidewalk Repair Issue  Closed   \n",
       "751                     Other  Closed   \n",
       "752                     Other  Closed   \n",
       "\n",
       "                                        street_address  \\\n",
       "0             7556 VIA CAPRI, San Diego, CA 92037, USA   \n",
       "1             7566 VIA CAPRI, San Diego, CA 92037, USA   \n",
       "2      1698-1500 Monmouth Dr, San Diego, CA 92109, USA   \n",
       "3             7456 VIA CAPRI, San Diego, CA 92037, USA   \n",
       "4            10895 Hibert St, San Diego, CA 92131, USA   \n",
       "..                                                 ...   \n",
       "748                                       3935 32nd St   \n",
       "749  7701-7899 Bloomfield Rd, San Diego, CA 92114, USA   \n",
       "750                                         Petco Park   \n",
       "751                                 2810 Denver Street   \n",
       "752                                  5378 Jamestown Rd   \n",
       "\n",
       "                                    public_description  \n",
       "0                                              Pothole  \n",
       "1                         Potholes / fix the damn road  \n",
       "2    Street light out on the corner of Monmouth Dr ...  \n",
       "3                                              Pothole  \n",
       "4    Is it possible to time this light sequentially...  \n",
       "..                                                 ...  \n",
       "748  Bike Theft Chop Shop Behind Starbucks on 32nd ...  \n",
       "749  Car has been parked there for many months. Exp...  \n",
       "750                      Safety hazard illegal vending  \n",
       "751                            Underage drinking party  \n",
       "752  People doing drugs in their car AGAIN. Please ...  \n",
       "\n",
       "[753 rows x 7 columns]"
      ]
     },
     "execution_count": 5,
     "metadata": {},
     "output_type": "execute_result"
    }
   ],
   "source": [
    "oct_1"
   ]
  },
  {
   "cell_type": "code",
   "execution_count": 6,
   "metadata": {},
   "outputs": [
    {
     "data": {
      "text/html": [
       "<div>\n",
       "<style scoped>\n",
       "    .dataframe tbody tr th:only-of-type {\n",
       "        vertical-align: middle;\n",
       "    }\n",
       "\n",
       "    .dataframe tbody tr th {\n",
       "        vertical-align: top;\n",
       "    }\n",
       "\n",
       "    .dataframe thead th {\n",
       "        text-align: right;\n",
       "    }\n",
       "</style>\n",
       "<table border=\"1\" class=\"dataframe\">\n",
       "  <thead>\n",
       "    <tr style=\"text-align: right;\">\n",
       "      <th></th>\n",
       "      <th>date_requested</th>\n",
       "      <th>neighborhood</th>\n",
       "      <th>service</th>\n",
       "      <th>status</th>\n",
       "      <th>street_address</th>\n",
       "      <th>public_description</th>\n",
       "    </tr>\n",
       "    <tr>\n",
       "      <th>service_request_id</th>\n",
       "      <th></th>\n",
       "      <th></th>\n",
       "      <th></th>\n",
       "      <th></th>\n",
       "      <th></th>\n",
       "      <th></th>\n",
       "    </tr>\n",
       "  </thead>\n",
       "  <tbody>\n",
       "    <tr>\n",
       "      <th>3940112</th>\n",
       "      <td>2022-10-01T00:11:00</td>\n",
       "      <td>La Jolla</td>\n",
       "      <td>Pothole</td>\n",
       "      <td>Open</td>\n",
       "      <td>7556 VIA CAPRI, San Diego, CA 92037, USA</td>\n",
       "      <td>Pothole</td>\n",
       "    </tr>\n",
       "    <tr>\n",
       "      <th>3940113</th>\n",
       "      <td>2022-10-01T00:12:00</td>\n",
       "      <td>La Jolla</td>\n",
       "      <td>Pothole</td>\n",
       "      <td>Open</td>\n",
       "      <td>7566 VIA CAPRI, San Diego, CA 92037, USA</td>\n",
       "      <td>Potholes / fix the damn road</td>\n",
       "    </tr>\n",
       "    <tr>\n",
       "      <th>3940114</th>\n",
       "      <td>2022-10-01T00:13:00</td>\n",
       "      <td>Pacific Beach</td>\n",
       "      <td>Street Light Maintenance</td>\n",
       "      <td>Open</td>\n",
       "      <td>1698-1500 Monmouth Dr, San Diego, CA 92109, USA</td>\n",
       "      <td>Street light out on the corner of Monmouth Dr ...</td>\n",
       "    </tr>\n",
       "    <tr>\n",
       "      <th>3940115</th>\n",
       "      <td>2022-10-01T00:13:00</td>\n",
       "      <td>La Jolla</td>\n",
       "      <td>Pothole</td>\n",
       "      <td>Open</td>\n",
       "      <td>7456 VIA CAPRI, San Diego, CA 92037, USA</td>\n",
       "      <td>Pothole</td>\n",
       "    </tr>\n",
       "    <tr>\n",
       "      <th>3940116</th>\n",
       "      <td>2022-10-01T00:16:00</td>\n",
       "      <td>Scripps Miramar Ranch</td>\n",
       "      <td>Traffic Signal Timing</td>\n",
       "      <td>Open</td>\n",
       "      <td>10895 Hibert St, San Diego, CA 92131, USA</td>\n",
       "      <td>Is it possible to time this light sequentially...</td>\n",
       "    </tr>\n",
       "    <tr>\n",
       "      <th>...</th>\n",
       "      <td>...</td>\n",
       "      <td>...</td>\n",
       "      <td>...</td>\n",
       "      <td>...</td>\n",
       "      <td>...</td>\n",
       "      <td>...</td>\n",
       "    </tr>\n",
       "    <tr>\n",
       "      <th>3940819</th>\n",
       "      <td>2022-10-01T17:39:00</td>\n",
       "      <td>North Park</td>\n",
       "      <td>Other</td>\n",
       "      <td>Closed</td>\n",
       "      <td>3935 32nd St</td>\n",
       "      <td>Bike Theft Chop Shop Behind Starbucks on 32nd ...</td>\n",
       "    </tr>\n",
       "    <tr>\n",
       "      <th>3940876</th>\n",
       "      <td>2022-10-01T19:47:00</td>\n",
       "      <td>Skyline-Paradise Hills</td>\n",
       "      <td>Parking</td>\n",
       "      <td>Closed</td>\n",
       "      <td>7701-7899 Bloomfield Rd, San Diego, CA 92114, USA</td>\n",
       "      <td>Car has been parked there for many months. Exp...</td>\n",
       "    </tr>\n",
       "    <tr>\n",
       "      <th>3940900</th>\n",
       "      <td>2022-10-01T21:06:00</td>\n",
       "      <td>Downtown</td>\n",
       "      <td>Sidewalk Repair Issue</td>\n",
       "      <td>Closed</td>\n",
       "      <td>Petco Park</td>\n",
       "      <td>Safety hazard illegal vending</td>\n",
       "    </tr>\n",
       "    <tr>\n",
       "      <th>3940909</th>\n",
       "      <td>2022-10-01T21:44:00</td>\n",
       "      <td>Clairemont Mesa</td>\n",
       "      <td>Other</td>\n",
       "      <td>Closed</td>\n",
       "      <td>2810 Denver Street</td>\n",
       "      <td>Underage drinking party</td>\n",
       "    </tr>\n",
       "    <tr>\n",
       "      <th>3940924</th>\n",
       "      <td>2022-10-01T22:54:00</td>\n",
       "      <td>Clairemont Mesa</td>\n",
       "      <td>Other</td>\n",
       "      <td>Closed</td>\n",
       "      <td>5378 Jamestown Rd</td>\n",
       "      <td>People doing drugs in their car AGAIN. Please ...</td>\n",
       "    </tr>\n",
       "  </tbody>\n",
       "</table>\n",
       "<p>753 rows × 6 columns</p>\n",
       "</div>"
      ],
      "text/plain": [
       "                         date_requested            neighborhood  \\\n",
       "service_request_id                                                \n",
       "3940112             2022-10-01T00:11:00                La Jolla   \n",
       "3940113             2022-10-01T00:12:00                La Jolla   \n",
       "3940114             2022-10-01T00:13:00           Pacific Beach   \n",
       "3940115             2022-10-01T00:13:00                La Jolla   \n",
       "3940116             2022-10-01T00:16:00   Scripps Miramar Ranch   \n",
       "...                                 ...                     ...   \n",
       "3940819             2022-10-01T17:39:00              North Park   \n",
       "3940876             2022-10-01T19:47:00  Skyline-Paradise Hills   \n",
       "3940900             2022-10-01T21:06:00                Downtown   \n",
       "3940909             2022-10-01T21:44:00         Clairemont Mesa   \n",
       "3940924             2022-10-01T22:54:00         Clairemont Mesa   \n",
       "\n",
       "                                     service  status  \\\n",
       "service_request_id                                     \n",
       "3940112                              Pothole    Open   \n",
       "3940113                              Pothole    Open   \n",
       "3940114             Street Light Maintenance    Open   \n",
       "3940115                              Pothole    Open   \n",
       "3940116                Traffic Signal Timing    Open   \n",
       "...                                      ...     ...   \n",
       "3940819                                Other  Closed   \n",
       "3940876                              Parking  Closed   \n",
       "3940900                Sidewalk Repair Issue  Closed   \n",
       "3940909                                Other  Closed   \n",
       "3940924                                Other  Closed   \n",
       "\n",
       "                                                       street_address  \\\n",
       "service_request_id                                                      \n",
       "3940112                      7556 VIA CAPRI, San Diego, CA 92037, USA   \n",
       "3940113                      7566 VIA CAPRI, San Diego, CA 92037, USA   \n",
       "3940114               1698-1500 Monmouth Dr, San Diego, CA 92109, USA   \n",
       "3940115                      7456 VIA CAPRI, San Diego, CA 92037, USA   \n",
       "3940116                     10895 Hibert St, San Diego, CA 92131, USA   \n",
       "...                                                               ...   \n",
       "3940819                                                  3935 32nd St   \n",
       "3940876             7701-7899 Bloomfield Rd, San Diego, CA 92114, USA   \n",
       "3940900                                                    Petco Park   \n",
       "3940909                                            2810 Denver Street   \n",
       "3940924                                             5378 Jamestown Rd   \n",
       "\n",
       "                                                   public_description  \n",
       "service_request_id                                                     \n",
       "3940112                                                       Pothole  \n",
       "3940113                                  Potholes / fix the damn road  \n",
       "3940114             Street light out on the corner of Monmouth Dr ...  \n",
       "3940115                                                       Pothole  \n",
       "3940116             Is it possible to time this light sequentially...  \n",
       "...                                                               ...  \n",
       "3940819             Bike Theft Chop Shop Behind Starbucks on 32nd ...  \n",
       "3940876             Car has been parked there for many months. Exp...  \n",
       "3940900                                 Safety hazard illegal vending  \n",
       "3940909                                       Underage drinking party  \n",
       "3940924             People doing drugs in their car AGAIN. Please ...  \n",
       "\n",
       "[753 rows x 6 columns]"
      ]
     },
     "execution_count": 6,
     "metadata": {},
     "output_type": "execute_result"
    }
   ],
   "source": [
    "oct_1 = oct_1.set_index('service_request_id')"
   ]
  },
  {
   "cell_type": "markdown",
   "metadata": {
    "slideshow": {
     "slide_type": "slide"
    }
   },
   "source": [
    "### Shape of a DataFrame\n",
    "\n",
    "- `.shape` returns the number of rows and columns in a given DataFrame.\n",
    "- Access each with `[]`: \n",
    "    - `.shape[0]` for rows.\n",
    "    - `.shape[1]` for columns."
   ]
  },
  {
   "cell_type": "code",
   "execution_count": 7,
   "metadata": {},
   "outputs": [
    {
     "data": {
      "text/plain": [
       "(753, 6)"
      ]
     },
     "execution_count": 7,
     "metadata": {},
     "output_type": "execute_result"
    }
   ],
   "source": [
    "# There were 7 columns before, but one of them became the index, and the index is not a column!\n",
    "oct_1.shape"
   ]
  },
  {
   "cell_type": "code",
   "execution_count": 8,
   "metadata": {},
   "outputs": [
    {
     "data": {
      "text/plain": [
       "753"
      ]
     },
     "execution_count": 8,
     "metadata": {},
     "output_type": "execute_result"
    }
   ],
   "source": [
    "# Number of rows\n",
    "oct_1.shape[0]"
   ]
  },
  {
   "cell_type": "code",
   "execution_count": 9,
   "metadata": {},
   "outputs": [
    {
     "data": {
      "text/plain": [
       "6"
      ]
     },
     "execution_count": 9,
     "metadata": {},
     "output_type": "execute_result"
    }
   ],
   "source": [
    "# Number of columns\n",
    "oct_1.shape[1]"
   ]
  },
  {
   "cell_type": "markdown",
   "metadata": {
    "slideshow": {
     "slide_type": "slide"
    }
   },
   "source": [
    "### Annual summary of Get It Done requests\n",
    "\n",
    "- The file `data/get-it-done-requests.csv` contains a summary of all Get It Done requests submitted this calendar year (2022) so far. \n",
    "- This whole year's worth of data shows the types of problems being reported in each neighborhood and how many service requests are resolved (`'closed'`) versus unresolved (`'open'`)."
   ]
  },
  {
   "cell_type": "code",
   "execution_count": 10,
   "metadata": {},
   "outputs": [
    {
     "data": {
      "text/html": [
       "<div>\n",
       "<style scoped>\n",
       "    .dataframe tbody tr th:only-of-type {\n",
       "        vertical-align: middle;\n",
       "    }\n",
       "\n",
       "    .dataframe tbody tr th {\n",
       "        vertical-align: top;\n",
       "    }\n",
       "\n",
       "    .dataframe thead th {\n",
       "        text-align: right;\n",
       "    }\n",
       "</style>\n",
       "<table border=\"1\" class=\"dataframe\">\n",
       "  <thead>\n",
       "    <tr style=\"text-align: right;\">\n",
       "      <th></th>\n",
       "      <th>neighborhood</th>\n",
       "      <th>service</th>\n",
       "      <th>closed</th>\n",
       "      <th>open</th>\n",
       "    </tr>\n",
       "  </thead>\n",
       "  <tbody>\n",
       "    <tr>\n",
       "      <th>0</th>\n",
       "      <td>Balboa Park</td>\n",
       "      <td>Dead Animal</td>\n",
       "      <td>46</td>\n",
       "      <td>0</td>\n",
       "    </tr>\n",
       "    <tr>\n",
       "      <th>1</th>\n",
       "      <td>Balboa Park</td>\n",
       "      <td>Development Services - Code Enforcement</td>\n",
       "      <td>2</td>\n",
       "      <td>0</td>\n",
       "    </tr>\n",
       "    <tr>\n",
       "      <th>2</th>\n",
       "      <td>Balboa Park</td>\n",
       "      <td>Encampment</td>\n",
       "      <td>1484</td>\n",
       "      <td>219</td>\n",
       "    </tr>\n",
       "    <tr>\n",
       "      <th>3</th>\n",
       "      <td>Balboa Park</td>\n",
       "      <td>Environmental Services Code Compliance</td>\n",
       "      <td>25</td>\n",
       "      <td>1</td>\n",
       "    </tr>\n",
       "    <tr>\n",
       "      <th>4</th>\n",
       "      <td>Balboa Park</td>\n",
       "      <td>Graffiti</td>\n",
       "      <td>977</td>\n",
       "      <td>0</td>\n",
       "    </tr>\n",
       "    <tr>\n",
       "      <th>...</th>\n",
       "      <td>...</td>\n",
       "      <td>...</td>\n",
       "      <td>...</td>\n",
       "      <td>...</td>\n",
       "    </tr>\n",
       "    <tr>\n",
       "      <th>1582</th>\n",
       "      <td>Via De La Valle</td>\n",
       "      <td>Parking</td>\n",
       "      <td>1</td>\n",
       "      <td>0</td>\n",
       "    </tr>\n",
       "    <tr>\n",
       "      <th>1583</th>\n",
       "      <td>Via De La Valle</td>\n",
       "      <td>Pavement Maintenance</td>\n",
       "      <td>0</td>\n",
       "      <td>1</td>\n",
       "    </tr>\n",
       "    <tr>\n",
       "      <th>1584</th>\n",
       "      <td>Via De La Valle</td>\n",
       "      <td>Pothole</td>\n",
       "      <td>9</td>\n",
       "      <td>1</td>\n",
       "    </tr>\n",
       "    <tr>\n",
       "      <th>1585</th>\n",
       "      <td>Via De La Valle</td>\n",
       "      <td>Stormwater Code Enforcement</td>\n",
       "      <td>3</td>\n",
       "      <td>0</td>\n",
       "    </tr>\n",
       "    <tr>\n",
       "      <th>1586</th>\n",
       "      <td>Via De La Valle</td>\n",
       "      <td>Street Light Maintenance</td>\n",
       "      <td>1</td>\n",
       "      <td>0</td>\n",
       "    </tr>\n",
       "  </tbody>\n",
       "</table>\n",
       "<p>1587 rows × 4 columns</p>\n",
       "</div>"
      ],
      "text/plain": [
       "         neighborhood                                  service  closed  open\n",
       "0         Balboa Park                              Dead Animal      46     0\n",
       "1         Balboa Park  Development Services - Code Enforcement       2     0\n",
       "2         Balboa Park                               Encampment    1484   219\n",
       "3         Balboa Park   Environmental Services Code Compliance      25     1\n",
       "4         Balboa Park                                 Graffiti     977     0\n",
       "...               ...                                      ...     ...   ...\n",
       "1582  Via De La Valle                                  Parking       1     0\n",
       "1583  Via De La Valle                     Pavement Maintenance       0     1\n",
       "1584  Via De La Valle                                  Pothole       9     1\n",
       "1585  Via De La Valle              Stormwater Code Enforcement       3     0\n",
       "1586  Via De La Valle                 Street Light Maintenance       1     0\n",
       "\n",
       "[1587 rows x 4 columns]"
      ]
     },
     "execution_count": 10,
     "metadata": {},
     "output_type": "execute_result"
    }
   ],
   "source": [
    "requests = bpd.read_csv('data/get-it-done-requests.csv')\n",
    "requests"
   ]
  },
  {
   "cell_type": "markdown",
   "metadata": {
    "slideshow": {
     "slide_type": "slide"
    }
   },
   "source": [
    "## Example 1: Total requests\n",
    "\n",
    "**Key concepts:** Accessing columns, performing operations with them, and adding new columns."
   ]
  },
  {
   "cell_type": "markdown",
   "metadata": {
    "slideshow": {
     "slide_type": "slide"
    }
   },
   "source": [
    "### Finding total requests\n",
    "\n",
    "- **Question:** How many service requests of each type in each neighborhood have been made this year?\n",
    "- We have, separately, the number of closed service requests and open service requests of each type in each neighborhood.\n",
    "- Workflow:\n",
    "    - Get the column of closed requests.\n",
    "    - Get the column of open requests.\n",
    "    - Add these columns element-wise.\n",
    "    - Add a new column to the DataFrame with these totals."
   ]
  },
  {
   "cell_type": "markdown",
   "metadata": {
    "slideshow": {
     "slide_type": "slide"
    }
   },
   "source": [
    "#### Step 1 – Getting a column\n",
    "\n",
    "- We can get a column from a DataFrame using `.get(column_name)`.\n",
    "- ⚠️ Column names are case sensitive!\n",
    "- Column names are strings, so we need to use quotes.\n",
    "- The result looks like a 1-column DataFrame, but is actually a *Series*."
   ]
  },
  {
   "cell_type": "code",
   "execution_count": 11,
   "metadata": {},
   "outputs": [
    {
     "data": {
      "text/html": [
       "<div>\n",
       "<style scoped>\n",
       "    .dataframe tbody tr th:only-of-type {\n",
       "        vertical-align: middle;\n",
       "    }\n",
       "\n",
       "    .dataframe tbody tr th {\n",
       "        vertical-align: top;\n",
       "    }\n",
       "\n",
       "    .dataframe thead th {\n",
       "        text-align: right;\n",
       "    }\n",
       "</style>\n",
       "<table border=\"1\" class=\"dataframe\">\n",
       "  <thead>\n",
       "    <tr style=\"text-align: right;\">\n",
       "      <th></th>\n",
       "      <th>neighborhood</th>\n",
       "      <th>service</th>\n",
       "      <th>closed</th>\n",
       "      <th>open</th>\n",
       "    </tr>\n",
       "  </thead>\n",
       "  <tbody>\n",
       "    <tr>\n",
       "      <th>0</th>\n",
       "      <td>Balboa Park</td>\n",
       "      <td>Dead Animal</td>\n",
       "      <td>46</td>\n",
       "      <td>0</td>\n",
       "    </tr>\n",
       "    <tr>\n",
       "      <th>1</th>\n",
       "      <td>Balboa Park</td>\n",
       "      <td>Development Services - Code Enforcement</td>\n",
       "      <td>2</td>\n",
       "      <td>0</td>\n",
       "    </tr>\n",
       "    <tr>\n",
       "      <th>2</th>\n",
       "      <td>Balboa Park</td>\n",
       "      <td>Encampment</td>\n",
       "      <td>1484</td>\n",
       "      <td>219</td>\n",
       "    </tr>\n",
       "    <tr>\n",
       "      <th>3</th>\n",
       "      <td>Balboa Park</td>\n",
       "      <td>Environmental Services Code Compliance</td>\n",
       "      <td>25</td>\n",
       "      <td>1</td>\n",
       "    </tr>\n",
       "    <tr>\n",
       "      <th>4</th>\n",
       "      <td>Balboa Park</td>\n",
       "      <td>Graffiti</td>\n",
       "      <td>977</td>\n",
       "      <td>0</td>\n",
       "    </tr>\n",
       "    <tr>\n",
       "      <th>...</th>\n",
       "      <td>...</td>\n",
       "      <td>...</td>\n",
       "      <td>...</td>\n",
       "      <td>...</td>\n",
       "    </tr>\n",
       "    <tr>\n",
       "      <th>1582</th>\n",
       "      <td>Via De La Valle</td>\n",
       "      <td>Parking</td>\n",
       "      <td>1</td>\n",
       "      <td>0</td>\n",
       "    </tr>\n",
       "    <tr>\n",
       "      <th>1583</th>\n",
       "      <td>Via De La Valle</td>\n",
       "      <td>Pavement Maintenance</td>\n",
       "      <td>0</td>\n",
       "      <td>1</td>\n",
       "    </tr>\n",
       "    <tr>\n",
       "      <th>1584</th>\n",
       "      <td>Via De La Valle</td>\n",
       "      <td>Pothole</td>\n",
       "      <td>9</td>\n",
       "      <td>1</td>\n",
       "    </tr>\n",
       "    <tr>\n",
       "      <th>1585</th>\n",
       "      <td>Via De La Valle</td>\n",
       "      <td>Stormwater Code Enforcement</td>\n",
       "      <td>3</td>\n",
       "      <td>0</td>\n",
       "    </tr>\n",
       "    <tr>\n",
       "      <th>1586</th>\n",
       "      <td>Via De La Valle</td>\n",
       "      <td>Street Light Maintenance</td>\n",
       "      <td>1</td>\n",
       "      <td>0</td>\n",
       "    </tr>\n",
       "  </tbody>\n",
       "</table>\n",
       "<p>1587 rows × 4 columns</p>\n",
       "</div>"
      ],
      "text/plain": [
       "         neighborhood                                  service  closed  open\n",
       "0         Balboa Park                              Dead Animal      46     0\n",
       "1         Balboa Park  Development Services - Code Enforcement       2     0\n",
       "2         Balboa Park                               Encampment    1484   219\n",
       "3         Balboa Park   Environmental Services Code Compliance      25     1\n",
       "4         Balboa Park                                 Graffiti     977     0\n",
       "...               ...                                      ...     ...   ...\n",
       "1582  Via De La Valle                                  Parking       1     0\n",
       "1583  Via De La Valle                     Pavement Maintenance       0     1\n",
       "1584  Via De La Valle                                  Pothole       9     1\n",
       "1585  Via De La Valle              Stormwater Code Enforcement       3     0\n",
       "1586  Via De La Valle                 Street Light Maintenance       1     0\n",
       "\n",
       "[1587 rows x 4 columns]"
      ]
     },
     "execution_count": 11,
     "metadata": {},
     "output_type": "execute_result"
    }
   ],
   "source": [
    "requests"
   ]
  },
  {
   "cell_type": "code",
   "execution_count": 12,
   "metadata": {},
   "outputs": [
    {
     "data": {
      "text/plain": [
       "0         46\n",
       "1          2\n",
       "2       1484\n",
       "3         25\n",
       "4        977\n",
       "        ... \n",
       "1582       1\n",
       "1583       0\n",
       "1584       9\n",
       "1585       3\n",
       "1586       1\n",
       "Name: closed, Length: 1587, dtype: int64"
      ]
     },
     "execution_count": 12,
     "metadata": {},
     "output_type": "execute_result"
    }
   ],
   "source": [
    "requests.get('closed')"
   ]
  },
  {
   "cell_type": "markdown",
   "metadata": {
    "slideshow": {
     "slide_type": "slide"
    }
   },
   "source": [
    "### Digression: Series\n",
    "\n",
    "- A *Series* is like an array, but with an index.\n",
    "- In particular, Series' support arithmetic."
   ]
  },
  {
   "cell_type": "code",
   "execution_count": 13,
   "metadata": {},
   "outputs": [
    {
     "data": {
      "text/plain": [
       "0         46\n",
       "1          2\n",
       "2       1484\n",
       "3         25\n",
       "4        977\n",
       "        ... \n",
       "1582       1\n",
       "1583       0\n",
       "1584       9\n",
       "1585       3\n",
       "1586       1\n",
       "Name: closed, Length: 1587, dtype: int64"
      ]
     },
     "execution_count": 13,
     "metadata": {},
     "output_type": "execute_result"
    }
   ],
   "source": [
    "requests.get('closed')"
   ]
  },
  {
   "cell_type": "markdown",
   "metadata": {
    "slideshow": {
     "slide_type": "slide"
    }
   },
   "source": [
    "#### Step 2 – Getting another column"
   ]
  },
  {
   "cell_type": "code",
   "execution_count": 14,
   "metadata": {},
   "outputs": [
    {
     "data": {
      "text/plain": [
       "0         0\n",
       "1         0\n",
       "2       219\n",
       "3         1\n",
       "4         0\n",
       "       ... \n",
       "1582      0\n",
       "1583      1\n",
       "1584      1\n",
       "1585      0\n",
       "1586      0\n",
       "Name: open, Length: 1587, dtype: int64"
      ]
     },
     "execution_count": 14,
     "metadata": {},
     "output_type": "execute_result"
    }
   ],
   "source": [
    "requests.get('open')"
   ]
  },
  {
   "cell_type": "markdown",
   "metadata": {
    "slideshow": {
     "slide_type": "slide"
    }
   },
   "source": [
    "#### Step 3 – Calculating the total\n",
    "\n",
    "- Just like with arrays, we can perform arithmetic operations with two Series, as long as they have the same length and same index. \n",
    "- Operations happen element-wise.\n",
    "- The result is also a Series."
   ]
  },
  {
   "cell_type": "code",
   "execution_count": 15,
   "metadata": {},
   "outputs": [
    {
     "data": {
      "text/plain": [
       "0         46\n",
       "1          2\n",
       "2       1703\n",
       "3         26\n",
       "4        977\n",
       "        ... \n",
       "1582       1\n",
       "1583       1\n",
       "1584      10\n",
       "1585       3\n",
       "1586       1\n",
       "Length: 1587, dtype: int64"
      ]
     },
     "execution_count": 15,
     "metadata": {},
     "output_type": "execute_result"
    }
   ],
   "source": [
    "requests.get('closed') + requests.get('open')"
   ]
  },
  {
   "cell_type": "markdown",
   "metadata": {
    "slideshow": {
     "slide_type": "slide"
    }
   },
   "source": [
    "#### Step 4 – Adding the totals to the DataFrame as a new column\n",
    "\n",
    "- Use `.assign(name_of_column=data_in_series)` to assign a Series (or array, or list) to a DataFrame.\n",
    "- ⚠️ Don't put quotes around `name_of_column`.\n",
    "- Creates a new DataFrame! Must save to variable."
   ]
  },
  {
   "cell_type": "code",
   "execution_count": 16,
   "metadata": {
    "scrolled": false
   },
   "outputs": [
    {
     "data": {
      "text/html": [
       "<div>\n",
       "<style scoped>\n",
       "    .dataframe tbody tr th:only-of-type {\n",
       "        vertical-align: middle;\n",
       "    }\n",
       "\n",
       "    .dataframe tbody tr th {\n",
       "        vertical-align: top;\n",
       "    }\n",
       "\n",
       "    .dataframe thead th {\n",
       "        text-align: right;\n",
       "    }\n",
       "</style>\n",
       "<table border=\"1\" class=\"dataframe\">\n",
       "  <thead>\n",
       "    <tr style=\"text-align: right;\">\n",
       "      <th></th>\n",
       "      <th>neighborhood</th>\n",
       "      <th>service</th>\n",
       "      <th>closed</th>\n",
       "      <th>open</th>\n",
       "      <th>total</th>\n",
       "    </tr>\n",
       "  </thead>\n",
       "  <tbody>\n",
       "    <tr>\n",
       "      <th>0</th>\n",
       "      <td>Balboa Park</td>\n",
       "      <td>Dead Animal</td>\n",
       "      <td>46</td>\n",
       "      <td>0</td>\n",
       "      <td>46</td>\n",
       "    </tr>\n",
       "    <tr>\n",
       "      <th>1</th>\n",
       "      <td>Balboa Park</td>\n",
       "      <td>Development Services - Code Enforcement</td>\n",
       "      <td>2</td>\n",
       "      <td>0</td>\n",
       "      <td>2</td>\n",
       "    </tr>\n",
       "    <tr>\n",
       "      <th>2</th>\n",
       "      <td>Balboa Park</td>\n",
       "      <td>Encampment</td>\n",
       "      <td>1484</td>\n",
       "      <td>219</td>\n",
       "      <td>1703</td>\n",
       "    </tr>\n",
       "    <tr>\n",
       "      <th>3</th>\n",
       "      <td>Balboa Park</td>\n",
       "      <td>Environmental Services Code Compliance</td>\n",
       "      <td>25</td>\n",
       "      <td>1</td>\n",
       "      <td>26</td>\n",
       "    </tr>\n",
       "    <tr>\n",
       "      <th>4</th>\n",
       "      <td>Balboa Park</td>\n",
       "      <td>Graffiti</td>\n",
       "      <td>977</td>\n",
       "      <td>0</td>\n",
       "      <td>977</td>\n",
       "    </tr>\n",
       "    <tr>\n",
       "      <th>...</th>\n",
       "      <td>...</td>\n",
       "      <td>...</td>\n",
       "      <td>...</td>\n",
       "      <td>...</td>\n",
       "      <td>...</td>\n",
       "    </tr>\n",
       "    <tr>\n",
       "      <th>1582</th>\n",
       "      <td>Via De La Valle</td>\n",
       "      <td>Parking</td>\n",
       "      <td>1</td>\n",
       "      <td>0</td>\n",
       "      <td>1</td>\n",
       "    </tr>\n",
       "    <tr>\n",
       "      <th>1583</th>\n",
       "      <td>Via De La Valle</td>\n",
       "      <td>Pavement Maintenance</td>\n",
       "      <td>0</td>\n",
       "      <td>1</td>\n",
       "      <td>1</td>\n",
       "    </tr>\n",
       "    <tr>\n",
       "      <th>1584</th>\n",
       "      <td>Via De La Valle</td>\n",
       "      <td>Pothole</td>\n",
       "      <td>9</td>\n",
       "      <td>1</td>\n",
       "      <td>10</td>\n",
       "    </tr>\n",
       "    <tr>\n",
       "      <th>1585</th>\n",
       "      <td>Via De La Valle</td>\n",
       "      <td>Stormwater Code Enforcement</td>\n",
       "      <td>3</td>\n",
       "      <td>0</td>\n",
       "      <td>3</td>\n",
       "    </tr>\n",
       "    <tr>\n",
       "      <th>1586</th>\n",
       "      <td>Via De La Valle</td>\n",
       "      <td>Street Light Maintenance</td>\n",
       "      <td>1</td>\n",
       "      <td>0</td>\n",
       "      <td>1</td>\n",
       "    </tr>\n",
       "  </tbody>\n",
       "</table>\n",
       "<p>1587 rows × 5 columns</p>\n",
       "</div>"
      ],
      "text/plain": [
       "         neighborhood                                  service  closed  open  \\\n",
       "0         Balboa Park                              Dead Animal      46     0   \n",
       "1         Balboa Park  Development Services - Code Enforcement       2     0   \n",
       "2         Balboa Park                               Encampment    1484   219   \n",
       "3         Balboa Park   Environmental Services Code Compliance      25     1   \n",
       "4         Balboa Park                                 Graffiti     977     0   \n",
       "...               ...                                      ...     ...   ...   \n",
       "1582  Via De La Valle                                  Parking       1     0   \n",
       "1583  Via De La Valle                     Pavement Maintenance       0     1   \n",
       "1584  Via De La Valle                                  Pothole       9     1   \n",
       "1585  Via De La Valle              Stormwater Code Enforcement       3     0   \n",
       "1586  Via De La Valle                 Street Light Maintenance       1     0   \n",
       "\n",
       "      total  \n",
       "0        46  \n",
       "1         2  \n",
       "2      1703  \n",
       "3        26  \n",
       "4       977  \n",
       "...     ...  \n",
       "1582      1  \n",
       "1583      1  \n",
       "1584     10  \n",
       "1585      3  \n",
       "1586      1  \n",
       "\n",
       "[1587 rows x 5 columns]"
      ]
     },
     "execution_count": 16,
     "metadata": {},
     "output_type": "execute_result"
    }
   ],
   "source": [
    "requests.assign(\n",
    "    total=requests.get('closed') + requests.get('open')\n",
    ")"
   ]
  },
  {
   "cell_type": "code",
   "execution_count": 17,
   "metadata": {},
   "outputs": [
    {
     "data": {
      "text/html": [
       "<div>\n",
       "<style scoped>\n",
       "    .dataframe tbody tr th:only-of-type {\n",
       "        vertical-align: middle;\n",
       "    }\n",
       "\n",
       "    .dataframe tbody tr th {\n",
       "        vertical-align: top;\n",
       "    }\n",
       "\n",
       "    .dataframe thead th {\n",
       "        text-align: right;\n",
       "    }\n",
       "</style>\n",
       "<table border=\"1\" class=\"dataframe\">\n",
       "  <thead>\n",
       "    <tr style=\"text-align: right;\">\n",
       "      <th></th>\n",
       "      <th>neighborhood</th>\n",
       "      <th>service</th>\n",
       "      <th>closed</th>\n",
       "      <th>open</th>\n",
       "    </tr>\n",
       "  </thead>\n",
       "  <tbody>\n",
       "    <tr>\n",
       "      <th>0</th>\n",
       "      <td>Balboa Park</td>\n",
       "      <td>Dead Animal</td>\n",
       "      <td>46</td>\n",
       "      <td>0</td>\n",
       "    </tr>\n",
       "    <tr>\n",
       "      <th>1</th>\n",
       "      <td>Balboa Park</td>\n",
       "      <td>Development Services - Code Enforcement</td>\n",
       "      <td>2</td>\n",
       "      <td>0</td>\n",
       "    </tr>\n",
       "    <tr>\n",
       "      <th>2</th>\n",
       "      <td>Balboa Park</td>\n",
       "      <td>Encampment</td>\n",
       "      <td>1484</td>\n",
       "      <td>219</td>\n",
       "    </tr>\n",
       "    <tr>\n",
       "      <th>3</th>\n",
       "      <td>Balboa Park</td>\n",
       "      <td>Environmental Services Code Compliance</td>\n",
       "      <td>25</td>\n",
       "      <td>1</td>\n",
       "    </tr>\n",
       "    <tr>\n",
       "      <th>4</th>\n",
       "      <td>Balboa Park</td>\n",
       "      <td>Graffiti</td>\n",
       "      <td>977</td>\n",
       "      <td>0</td>\n",
       "    </tr>\n",
       "    <tr>\n",
       "      <th>...</th>\n",
       "      <td>...</td>\n",
       "      <td>...</td>\n",
       "      <td>...</td>\n",
       "      <td>...</td>\n",
       "    </tr>\n",
       "    <tr>\n",
       "      <th>1582</th>\n",
       "      <td>Via De La Valle</td>\n",
       "      <td>Parking</td>\n",
       "      <td>1</td>\n",
       "      <td>0</td>\n",
       "    </tr>\n",
       "    <tr>\n",
       "      <th>1583</th>\n",
       "      <td>Via De La Valle</td>\n",
       "      <td>Pavement Maintenance</td>\n",
       "      <td>0</td>\n",
       "      <td>1</td>\n",
       "    </tr>\n",
       "    <tr>\n",
       "      <th>1584</th>\n",
       "      <td>Via De La Valle</td>\n",
       "      <td>Pothole</td>\n",
       "      <td>9</td>\n",
       "      <td>1</td>\n",
       "    </tr>\n",
       "    <tr>\n",
       "      <th>1585</th>\n",
       "      <td>Via De La Valle</td>\n",
       "      <td>Stormwater Code Enforcement</td>\n",
       "      <td>3</td>\n",
       "      <td>0</td>\n",
       "    </tr>\n",
       "    <tr>\n",
       "      <th>1586</th>\n",
       "      <td>Via De La Valle</td>\n",
       "      <td>Street Light Maintenance</td>\n",
       "      <td>1</td>\n",
       "      <td>0</td>\n",
       "    </tr>\n",
       "  </tbody>\n",
       "</table>\n",
       "<p>1587 rows × 4 columns</p>\n",
       "</div>"
      ],
      "text/plain": [
       "         neighborhood                                  service  closed  open\n",
       "0         Balboa Park                              Dead Animal      46     0\n",
       "1         Balboa Park  Development Services - Code Enforcement       2     0\n",
       "2         Balboa Park                               Encampment    1484   219\n",
       "3         Balboa Park   Environmental Services Code Compliance      25     1\n",
       "4         Balboa Park                                 Graffiti     977     0\n",
       "...               ...                                      ...     ...   ...\n",
       "1582  Via De La Valle                                  Parking       1     0\n",
       "1583  Via De La Valle                     Pavement Maintenance       0     1\n",
       "1584  Via De La Valle                                  Pothole       9     1\n",
       "1585  Via De La Valle              Stormwater Code Enforcement       3     0\n",
       "1586  Via De La Valle                 Street Light Maintenance       1     0\n",
       "\n",
       "[1587 rows x 4 columns]"
      ]
     },
     "execution_count": 17,
     "metadata": {},
     "output_type": "execute_result"
    }
   ],
   "source": [
    "requests"
   ]
  },
  {
   "cell_type": "code",
   "execution_count": 18,
   "metadata": {
    "slideshow": {
     "slide_type": "slide"
    }
   },
   "outputs": [
    {
     "data": {
      "text/html": [
       "<div>\n",
       "<style scoped>\n",
       "    .dataframe tbody tr th:only-of-type {\n",
       "        vertical-align: middle;\n",
       "    }\n",
       "\n",
       "    .dataframe tbody tr th {\n",
       "        vertical-align: top;\n",
       "    }\n",
       "\n",
       "    .dataframe thead th {\n",
       "        text-align: right;\n",
       "    }\n",
       "</style>\n",
       "<table border=\"1\" class=\"dataframe\">\n",
       "  <thead>\n",
       "    <tr style=\"text-align: right;\">\n",
       "      <th></th>\n",
       "      <th>neighborhood</th>\n",
       "      <th>service</th>\n",
       "      <th>closed</th>\n",
       "      <th>open</th>\n",
       "      <th>total</th>\n",
       "    </tr>\n",
       "  </thead>\n",
       "  <tbody>\n",
       "    <tr>\n",
       "      <th>0</th>\n",
       "      <td>Balboa Park</td>\n",
       "      <td>Dead Animal</td>\n",
       "      <td>46</td>\n",
       "      <td>0</td>\n",
       "      <td>46</td>\n",
       "    </tr>\n",
       "    <tr>\n",
       "      <th>1</th>\n",
       "      <td>Balboa Park</td>\n",
       "      <td>Development Services - Code Enforcement</td>\n",
       "      <td>2</td>\n",
       "      <td>0</td>\n",
       "      <td>2</td>\n",
       "    </tr>\n",
       "    <tr>\n",
       "      <th>2</th>\n",
       "      <td>Balboa Park</td>\n",
       "      <td>Encampment</td>\n",
       "      <td>1484</td>\n",
       "      <td>219</td>\n",
       "      <td>1703</td>\n",
       "    </tr>\n",
       "    <tr>\n",
       "      <th>3</th>\n",
       "      <td>Balboa Park</td>\n",
       "      <td>Environmental Services Code Compliance</td>\n",
       "      <td>25</td>\n",
       "      <td>1</td>\n",
       "      <td>26</td>\n",
       "    </tr>\n",
       "    <tr>\n",
       "      <th>4</th>\n",
       "      <td>Balboa Park</td>\n",
       "      <td>Graffiti</td>\n",
       "      <td>977</td>\n",
       "      <td>0</td>\n",
       "      <td>977</td>\n",
       "    </tr>\n",
       "    <tr>\n",
       "      <th>...</th>\n",
       "      <td>...</td>\n",
       "      <td>...</td>\n",
       "      <td>...</td>\n",
       "      <td>...</td>\n",
       "      <td>...</td>\n",
       "    </tr>\n",
       "    <tr>\n",
       "      <th>1582</th>\n",
       "      <td>Via De La Valle</td>\n",
       "      <td>Parking</td>\n",
       "      <td>1</td>\n",
       "      <td>0</td>\n",
       "      <td>1</td>\n",
       "    </tr>\n",
       "    <tr>\n",
       "      <th>1583</th>\n",
       "      <td>Via De La Valle</td>\n",
       "      <td>Pavement Maintenance</td>\n",
       "      <td>0</td>\n",
       "      <td>1</td>\n",
       "      <td>1</td>\n",
       "    </tr>\n",
       "    <tr>\n",
       "      <th>1584</th>\n",
       "      <td>Via De La Valle</td>\n",
       "      <td>Pothole</td>\n",
       "      <td>9</td>\n",
       "      <td>1</td>\n",
       "      <td>10</td>\n",
       "    </tr>\n",
       "    <tr>\n",
       "      <th>1585</th>\n",
       "      <td>Via De La Valle</td>\n",
       "      <td>Stormwater Code Enforcement</td>\n",
       "      <td>3</td>\n",
       "      <td>0</td>\n",
       "      <td>3</td>\n",
       "    </tr>\n",
       "    <tr>\n",
       "      <th>1586</th>\n",
       "      <td>Via De La Valle</td>\n",
       "      <td>Street Light Maintenance</td>\n",
       "      <td>1</td>\n",
       "      <td>0</td>\n",
       "      <td>1</td>\n",
       "    </tr>\n",
       "  </tbody>\n",
       "</table>\n",
       "<p>1587 rows × 5 columns</p>\n",
       "</div>"
      ],
      "text/plain": [
       "         neighborhood                                  service  closed  open  \\\n",
       "0         Balboa Park                              Dead Animal      46     0   \n",
       "1         Balboa Park  Development Services - Code Enforcement       2     0   \n",
       "2         Balboa Park                               Encampment    1484   219   \n",
       "3         Balboa Park   Environmental Services Code Compliance      25     1   \n",
       "4         Balboa Park                                 Graffiti     977     0   \n",
       "...               ...                                      ...     ...   ...   \n",
       "1582  Via De La Valle                                  Parking       1     0   \n",
       "1583  Via De La Valle                     Pavement Maintenance       0     1   \n",
       "1584  Via De La Valle                                  Pothole       9     1   \n",
       "1585  Via De La Valle              Stormwater Code Enforcement       3     0   \n",
       "1586  Via De La Valle                 Street Light Maintenance       1     0   \n",
       "\n",
       "      total  \n",
       "0        46  \n",
       "1         2  \n",
       "2      1703  \n",
       "3        26  \n",
       "4       977  \n",
       "...     ...  \n",
       "1582      1  \n",
       "1583      1  \n",
       "1584     10  \n",
       "1585      3  \n",
       "1586      1  \n",
       "\n",
       "[1587 rows x 5 columns]"
      ]
     },
     "execution_count": 18,
     "metadata": {},
     "output_type": "execute_result"
    }
   ],
   "source": [
    "requests = requests.assign(\n",
    "    total=requests.get('closed') + requests.get('open')\n",
    ")\n",
    "requests"
   ]
  },
  {
   "cell_type": "markdown",
   "metadata": {
    "slideshow": {
     "slide_type": "slide"
    }
   },
   "source": [
    "## Example 2: Analyzing requests\n",
    "**Key concept**: Computing statistics of columns using Series methods."
   ]
  },
  {
   "cell_type": "markdown",
   "metadata": {
    "slideshow": {
     "slide_type": "slide"
    }
   },
   "source": [
    "### Questions\n",
    "\n",
    "- What is the largest number of service requests for any one service in any one neighborhood? \n",
    "- What is a typical number of service requests for any one service in any one neighborhood?\n",
    "\n",
    "Series, like arrays, have helpful methods, including `.min()`, `.max()`, and `.mean()`."
   ]
  },
  {
   "cell_type": "code",
   "execution_count": 19,
   "metadata": {
    "scrolled": true
   },
   "outputs": [
    {
     "data": {
      "text/plain": [
       "11342"
      ]
     },
     "execution_count": 19,
     "metadata": {},
     "output_type": "execute_result"
    }
   ],
   "source": [
    "requests.get('total').max()"
   ]
  },
  {
   "cell_type": "code",
   "execution_count": 20,
   "metadata": {
    "slideshow": {
     "slide_type": "fragment"
    }
   },
   "outputs": [
    {
     "data": {
      "text/plain": [
       "171.33333333333334"
      ]
     },
     "execution_count": 20,
     "metadata": {},
     "output_type": "execute_result"
    }
   ],
   "source": [
    "requests.get('total').mean()"
   ]
  },
  {
   "cell_type": "code",
   "execution_count": 21,
   "metadata": {
    "scrolled": true
   },
   "outputs": [
    {
     "data": {
      "text/plain": [
       "41.0"
      ]
     },
     "execution_count": 21,
     "metadata": {},
     "output_type": "execute_result"
    }
   ],
   "source": [
    "requests.get('total').median()"
   ]
  },
  {
   "cell_type": "code",
   "execution_count": 22,
   "metadata": {},
   "outputs": [
    {
     "data": {
      "text/plain": [
       "25.220541902961564"
      ]
     },
     "execution_count": 22,
     "metadata": {},
     "output_type": "execute_result"
    }
   ],
   "source": [
    "requests.get('open').mean()"
   ]
  },
  {
   "cell_type": "code",
   "execution_count": 23,
   "metadata": {},
   "outputs": [
    {
     "data": {
      "text/plain": [
       "4.0"
      ]
     },
     "execution_count": 23,
     "metadata": {},
     "output_type": "execute_result"
    }
   ],
   "source": [
    "requests.get('open').median()"
   ]
  },
  {
   "cell_type": "markdown",
   "metadata": {
    "slideshow": {
     "slide_type": "slide"
    }
   },
   "source": [
    "## Example 3: *What and where* is the most frequently requested service?\n",
    "\n",
    "**Key concepts**: Sorting. Accessing using integer positions."
   ]
  },
  {
   "cell_type": "markdown",
   "metadata": {
    "slideshow": {
     "slide_type": "slide"
    }
   },
   "source": [
    "#### Step 1  – Sorting the DataFrame\n",
    "\n",
    "- Use the `.sort_values(by=column_name)` method to sort.\n",
    "    - The `by=` is not necessary.\n",
    "- Like most DataFrame methods, this returns a new DataFrame."
   ]
  },
  {
   "cell_type": "code",
   "execution_count": 24,
   "metadata": {
    "scrolled": false
   },
   "outputs": [
    {
     "data": {
      "text/html": [
       "<div>\n",
       "<style scoped>\n",
       "    .dataframe tbody tr th:only-of-type {\n",
       "        vertical-align: middle;\n",
       "    }\n",
       "\n",
       "    .dataframe tbody tr th {\n",
       "        vertical-align: top;\n",
       "    }\n",
       "\n",
       "    .dataframe thead th {\n",
       "        text-align: right;\n",
       "    }\n",
       "</style>\n",
       "<table border=\"1\" class=\"dataframe\">\n",
       "  <thead>\n",
       "    <tr style=\"text-align: right;\">\n",
       "      <th></th>\n",
       "      <th>neighborhood</th>\n",
       "      <th>service</th>\n",
       "      <th>closed</th>\n",
       "      <th>open</th>\n",
       "      <th>total</th>\n",
       "    </tr>\n",
       "  </thead>\n",
       "  <tbody>\n",
       "    <tr>\n",
       "      <th>1586</th>\n",
       "      <td>Via De La Valle</td>\n",
       "      <td>Street Light Maintenance</td>\n",
       "      <td>1</td>\n",
       "      <td>0</td>\n",
       "      <td>1</td>\n",
       "    </tr>\n",
       "    <tr>\n",
       "      <th>229</th>\n",
       "      <td>Del Mar Mesa</td>\n",
       "      <td>Weed Cleanup</td>\n",
       "      <td>1</td>\n",
       "      <td>0</td>\n",
       "      <td>1</td>\n",
       "    </tr>\n",
       "    <tr>\n",
       "      <th>1429</th>\n",
       "      <td>Tijuana River Valley</td>\n",
       "      <td>Street Sweeping</td>\n",
       "      <td>1</td>\n",
       "      <td>0</td>\n",
       "      <td>1</td>\n",
       "    </tr>\n",
       "    <tr>\n",
       "      <th>1428</th>\n",
       "      <td>Tijuana River Valley</td>\n",
       "      <td>Street Light Maintenance</td>\n",
       "      <td>0</td>\n",
       "      <td>1</td>\n",
       "      <td>1</td>\n",
       "    </tr>\n",
       "    <tr>\n",
       "      <th>1426</th>\n",
       "      <td>Tijuana River Valley</td>\n",
       "      <td>Sidewalk Repair Issue</td>\n",
       "      <td>1</td>\n",
       "      <td>0</td>\n",
       "      <td>1</td>\n",
       "    </tr>\n",
       "    <tr>\n",
       "      <th>...</th>\n",
       "      <td>...</td>\n",
       "      <td>...</td>\n",
       "      <td>...</td>\n",
       "      <td>...</td>\n",
       "      <td>...</td>\n",
       "    </tr>\n",
       "    <tr>\n",
       "      <th>840</th>\n",
       "      <td>North Park</td>\n",
       "      <td>Parking</td>\n",
       "      <td>3059</td>\n",
       "      <td>224</td>\n",
       "      <td>3283</td>\n",
       "    </tr>\n",
       "    <tr>\n",
       "      <th>1363</th>\n",
       "      <td>Southeastern San Diego</td>\n",
       "      <td>Parking</td>\n",
       "      <td>2780</td>\n",
       "      <td>614</td>\n",
       "      <td>3394</td>\n",
       "    </tr>\n",
       "    <tr>\n",
       "      <th>1360</th>\n",
       "      <td>Southeastern San Diego</td>\n",
       "      <td>Illegal Dumping</td>\n",
       "      <td>5350</td>\n",
       "      <td>228</td>\n",
       "      <td>5578</td>\n",
       "    </tr>\n",
       "    <tr>\n",
       "      <th>452</th>\n",
       "      <td>Mid-City:City Heights</td>\n",
       "      <td>Illegal Dumping</td>\n",
       "      <td>9021</td>\n",
       "      <td>222</td>\n",
       "      <td>9243</td>\n",
       "    </tr>\n",
       "    <tr>\n",
       "      <th>232</th>\n",
       "      <td>Downtown</td>\n",
       "      <td>Encampment</td>\n",
       "      <td>9262</td>\n",
       "      <td>2080</td>\n",
       "      <td>11342</td>\n",
       "    </tr>\n",
       "  </tbody>\n",
       "</table>\n",
       "<p>1587 rows × 5 columns</p>\n",
       "</div>"
      ],
      "text/plain": [
       "                neighborhood                   service  closed  open  total\n",
       "1586         Via De La Valle  Street Light Maintenance       1     0      1\n",
       "229             Del Mar Mesa              Weed Cleanup       1     0      1\n",
       "1429    Tijuana River Valley           Street Sweeping       1     0      1\n",
       "1428    Tijuana River Valley  Street Light Maintenance       0     1      1\n",
       "1426    Tijuana River Valley     Sidewalk Repair Issue       1     0      1\n",
       "...                      ...                       ...     ...   ...    ...\n",
       "840               North Park                   Parking    3059   224   3283\n",
       "1363  Southeastern San Diego                   Parking    2780   614   3394\n",
       "1360  Southeastern San Diego           Illegal Dumping    5350   228   5578\n",
       "452    Mid-City:City Heights           Illegal Dumping    9021   222   9243\n",
       "232                 Downtown                Encampment    9262  2080  11342\n",
       "\n",
       "[1587 rows x 5 columns]"
      ]
     },
     "execution_count": 24,
     "metadata": {},
     "output_type": "execute_result"
    }
   ],
   "source": [
    "requests.sort_values(by='total')"
   ]
  },
  {
   "cell_type": "markdown",
   "metadata": {
    "slideshow": {
     "slide_type": "fragment"
    }
   },
   "source": [
    "This sorts, but in ascending order (small to large). We want the opposite!"
   ]
  },
  {
   "cell_type": "markdown",
   "metadata": {
    "slideshow": {
     "slide_type": "slide"
    }
   },
   "source": [
    "#### Step 1 – Sorting the DataFrame in *descending* order\n",
    "\n",
    "- Use `.sort_values(by=column_name, ascending=False)` to sort in *descending* order.\n",
    "- `ascending` is an optional argument. If omitted, it will be set to `True` by default."
   ]
  },
  {
   "cell_type": "code",
   "execution_count": 27,
   "metadata": {},
   "outputs": [
    {
     "data": {
      "text/html": [
       "<div>\n",
       "<style scoped>\n",
       "    .dataframe tbody tr th:only-of-type {\n",
       "        vertical-align: middle;\n",
       "    }\n",
       "\n",
       "    .dataframe tbody tr th {\n",
       "        vertical-align: top;\n",
       "    }\n",
       "\n",
       "    .dataframe thead th {\n",
       "        text-align: right;\n",
       "    }\n",
       "</style>\n",
       "<table border=\"1\" class=\"dataframe\">\n",
       "  <thead>\n",
       "    <tr style=\"text-align: right;\">\n",
       "      <th></th>\n",
       "      <th>neighborhood</th>\n",
       "      <th>service</th>\n",
       "      <th>closed</th>\n",
       "      <th>open</th>\n",
       "      <th>total</th>\n",
       "    </tr>\n",
       "  </thead>\n",
       "  <tbody>\n",
       "    <tr>\n",
       "      <th>232</th>\n",
       "      <td>Downtown</td>\n",
       "      <td>Encampment</td>\n",
       "      <td>9262</td>\n",
       "      <td>2080</td>\n",
       "      <td>11342</td>\n",
       "    </tr>\n",
       "    <tr>\n",
       "      <th>452</th>\n",
       "      <td>Mid-City:City Heights</td>\n",
       "      <td>Illegal Dumping</td>\n",
       "      <td>9021</td>\n",
       "      <td>222</td>\n",
       "      <td>9243</td>\n",
       "    </tr>\n",
       "    <tr>\n",
       "      <th>1360</th>\n",
       "      <td>Southeastern San Diego</td>\n",
       "      <td>Illegal Dumping</td>\n",
       "      <td>5350</td>\n",
       "      <td>228</td>\n",
       "      <td>5578</td>\n",
       "    </tr>\n",
       "    <tr>\n",
       "      <th>1363</th>\n",
       "      <td>Southeastern San Diego</td>\n",
       "      <td>Parking</td>\n",
       "      <td>2780</td>\n",
       "      <td>614</td>\n",
       "      <td>3394</td>\n",
       "    </tr>\n",
       "    <tr>\n",
       "      <th>840</th>\n",
       "      <td>North Park</td>\n",
       "      <td>Parking</td>\n",
       "      <td>3059</td>\n",
       "      <td>224</td>\n",
       "      <td>3283</td>\n",
       "    </tr>\n",
       "    <tr>\n",
       "      <th>...</th>\n",
       "      <td>...</td>\n",
       "      <td>...</td>\n",
       "      <td>...</td>\n",
       "      <td>...</td>\n",
       "      <td>...</td>\n",
       "    </tr>\n",
       "    <tr>\n",
       "      <th>1428</th>\n",
       "      <td>Tijuana River Valley</td>\n",
       "      <td>Street Light Maintenance</td>\n",
       "      <td>0</td>\n",
       "      <td>1</td>\n",
       "      <td>1</td>\n",
       "    </tr>\n",
       "    <tr>\n",
       "      <th>1426</th>\n",
       "      <td>Tijuana River Valley</td>\n",
       "      <td>Sidewalk Repair Issue</td>\n",
       "      <td>1</td>\n",
       "      <td>0</td>\n",
       "      <td>1</td>\n",
       "    </tr>\n",
       "    <tr>\n",
       "      <th>1423</th>\n",
       "      <td>Tijuana River Valley</td>\n",
       "      <td>Pavement Maintenance</td>\n",
       "      <td>1</td>\n",
       "      <td>0</td>\n",
       "      <td>1</td>\n",
       "    </tr>\n",
       "    <tr>\n",
       "      <th>1422</th>\n",
       "      <td>Tijuana River Valley</td>\n",
       "      <td>Parks Issue</td>\n",
       "      <td>1</td>\n",
       "      <td>0</td>\n",
       "      <td>1</td>\n",
       "    </tr>\n",
       "    <tr>\n",
       "      <th>1586</th>\n",
       "      <td>Via De La Valle</td>\n",
       "      <td>Street Light Maintenance</td>\n",
       "      <td>1</td>\n",
       "      <td>0</td>\n",
       "      <td>1</td>\n",
       "    </tr>\n",
       "  </tbody>\n",
       "</table>\n",
       "<p>1587 rows × 5 columns</p>\n",
       "</div>"
      ],
      "text/plain": [
       "                neighborhood                   service  closed  open  total\n",
       "232                 Downtown                Encampment    9262  2080  11342\n",
       "452    Mid-City:City Heights           Illegal Dumping    9021   222   9243\n",
       "1360  Southeastern San Diego           Illegal Dumping    5350   228   5578\n",
       "1363  Southeastern San Diego                   Parking    2780   614   3394\n",
       "840               North Park                   Parking    3059   224   3283\n",
       "...                      ...                       ...     ...   ...    ...\n",
       "1428    Tijuana River Valley  Street Light Maintenance       0     1      1\n",
       "1426    Tijuana River Valley     Sidewalk Repair Issue       1     0      1\n",
       "1423    Tijuana River Valley      Pavement Maintenance       1     0      1\n",
       "1422    Tijuana River Valley               Parks Issue       1     0      1\n",
       "1586         Via De La Valle  Street Light Maintenance       1     0      1\n",
       "\n",
       "[1587 rows x 5 columns]"
      ]
     },
     "execution_count": 27,
     "metadata": {},
     "output_type": "execute_result"
    }
   ],
   "source": [
    "ordered_requests = requests.sort_values(by='total', ascending=False)\n",
    "ordered_requests"
   ]
  },
  {
   "cell_type": "markdown",
   "metadata": {
    "slideshow": {
     "slide_type": "slide"
    }
   },
   "source": [
    "#### Step 2 – Extracting the neighborhood and service\n",
    "\n",
    "- We saw that the most reported issue is `'Encampment'` in `'Downtown'`, but how do we extract that information using code?\n",
    "- First, grab an entire column as a Series.\n",
    "- Navigate to a particular entry of the Series using `.iloc[integer_position]`."
   ]
  },
  {
   "cell_type": "code",
   "execution_count": 28,
   "metadata": {
    "scrolled": true
   },
   "outputs": [
    {
     "data": {
      "text/html": [
       "<div>\n",
       "<style scoped>\n",
       "    .dataframe tbody tr th:only-of-type {\n",
       "        vertical-align: middle;\n",
       "    }\n",
       "\n",
       "    .dataframe tbody tr th {\n",
       "        vertical-align: top;\n",
       "    }\n",
       "\n",
       "    .dataframe thead th {\n",
       "        text-align: right;\n",
       "    }\n",
       "</style>\n",
       "<table border=\"1\" class=\"dataframe\">\n",
       "  <thead>\n",
       "    <tr style=\"text-align: right;\">\n",
       "      <th></th>\n",
       "      <th>neighborhood</th>\n",
       "      <th>service</th>\n",
       "      <th>closed</th>\n",
       "      <th>open</th>\n",
       "      <th>total</th>\n",
       "    </tr>\n",
       "  </thead>\n",
       "  <tbody>\n",
       "    <tr>\n",
       "      <th>232</th>\n",
       "      <td>Downtown</td>\n",
       "      <td>Encampment</td>\n",
       "      <td>9262</td>\n",
       "      <td>2080</td>\n",
       "      <td>11342</td>\n",
       "    </tr>\n",
       "    <tr>\n",
       "      <th>452</th>\n",
       "      <td>Mid-City:City Heights</td>\n",
       "      <td>Illegal Dumping</td>\n",
       "      <td>9021</td>\n",
       "      <td>222</td>\n",
       "      <td>9243</td>\n",
       "    </tr>\n",
       "    <tr>\n",
       "      <th>1360</th>\n",
       "      <td>Southeastern San Diego</td>\n",
       "      <td>Illegal Dumping</td>\n",
       "      <td>5350</td>\n",
       "      <td>228</td>\n",
       "      <td>5578</td>\n",
       "    </tr>\n",
       "    <tr>\n",
       "      <th>1363</th>\n",
       "      <td>Southeastern San Diego</td>\n",
       "      <td>Parking</td>\n",
       "      <td>2780</td>\n",
       "      <td>614</td>\n",
       "      <td>3394</td>\n",
       "    </tr>\n",
       "    <tr>\n",
       "      <th>840</th>\n",
       "      <td>North Park</td>\n",
       "      <td>Parking</td>\n",
       "      <td>3059</td>\n",
       "      <td>224</td>\n",
       "      <td>3283</td>\n",
       "    </tr>\n",
       "    <tr>\n",
       "      <th>...</th>\n",
       "      <td>...</td>\n",
       "      <td>...</td>\n",
       "      <td>...</td>\n",
       "      <td>...</td>\n",
       "      <td>...</td>\n",
       "    </tr>\n",
       "    <tr>\n",
       "      <th>1428</th>\n",
       "      <td>Tijuana River Valley</td>\n",
       "      <td>Street Light Maintenance</td>\n",
       "      <td>0</td>\n",
       "      <td>1</td>\n",
       "      <td>1</td>\n",
       "    </tr>\n",
       "    <tr>\n",
       "      <th>1426</th>\n",
       "      <td>Tijuana River Valley</td>\n",
       "      <td>Sidewalk Repair Issue</td>\n",
       "      <td>1</td>\n",
       "      <td>0</td>\n",
       "      <td>1</td>\n",
       "    </tr>\n",
       "    <tr>\n",
       "      <th>1423</th>\n",
       "      <td>Tijuana River Valley</td>\n",
       "      <td>Pavement Maintenance</td>\n",
       "      <td>1</td>\n",
       "      <td>0</td>\n",
       "      <td>1</td>\n",
       "    </tr>\n",
       "    <tr>\n",
       "      <th>1422</th>\n",
       "      <td>Tijuana River Valley</td>\n",
       "      <td>Parks Issue</td>\n",
       "      <td>1</td>\n",
       "      <td>0</td>\n",
       "      <td>1</td>\n",
       "    </tr>\n",
       "    <tr>\n",
       "      <th>1586</th>\n",
       "      <td>Via De La Valle</td>\n",
       "      <td>Street Light Maintenance</td>\n",
       "      <td>1</td>\n",
       "      <td>0</td>\n",
       "      <td>1</td>\n",
       "    </tr>\n",
       "  </tbody>\n",
       "</table>\n",
       "<p>1587 rows × 5 columns</p>\n",
       "</div>"
      ],
      "text/plain": [
       "                neighborhood                   service  closed  open  total\n",
       "232                 Downtown                Encampment    9262  2080  11342\n",
       "452    Mid-City:City Heights           Illegal Dumping    9021   222   9243\n",
       "1360  Southeastern San Diego           Illegal Dumping    5350   228   5578\n",
       "1363  Southeastern San Diego                   Parking    2780   614   3394\n",
       "840               North Park                   Parking    3059   224   3283\n",
       "...                      ...                       ...     ...   ...    ...\n",
       "1428    Tijuana River Valley  Street Light Maintenance       0     1      1\n",
       "1426    Tijuana River Valley     Sidewalk Repair Issue       1     0      1\n",
       "1423    Tijuana River Valley      Pavement Maintenance       1     0      1\n",
       "1422    Tijuana River Valley               Parks Issue       1     0      1\n",
       "1586         Via De La Valle  Street Light Maintenance       1     0      1\n",
       "\n",
       "[1587 rows x 5 columns]"
      ]
     },
     "execution_count": 28,
     "metadata": {},
     "output_type": "execute_result"
    }
   ],
   "source": [
    "ordered_requests"
   ]
  },
  {
   "cell_type": "code",
   "execution_count": 29,
   "metadata": {},
   "outputs": [
    {
     "data": {
      "text/plain": [
       "232                   Downtown\n",
       "452      Mid-City:City Heights\n",
       "1360    Southeastern San Diego\n",
       "1363    Southeastern San Diego\n",
       "840                 North Park\n",
       "                 ...          \n",
       "1428      Tijuana River Valley\n",
       "1426      Tijuana River Valley\n",
       "1423      Tijuana River Valley\n",
       "1422      Tijuana River Valley\n",
       "1586           Via De La Valle\n",
       "Name: neighborhood, Length: 1587, dtype: object"
      ]
     },
     "execution_count": 29,
     "metadata": {},
     "output_type": "execute_result"
    }
   ],
   "source": [
    "ordered_requests.get('neighborhood')"
   ]
  },
  {
   "cell_type": "code",
   "execution_count": 30,
   "metadata": {},
   "outputs": [
    {
     "data": {
      "text/plain": [
       "'Downtown'"
      ]
     },
     "execution_count": 30,
     "metadata": {},
     "output_type": "execute_result"
    }
   ],
   "source": [
    "ordered_requests.get('neighborhood').iloc[0]"
   ]
  },
  {
   "cell_type": "code",
   "execution_count": 31,
   "metadata": {},
   "outputs": [
    {
     "data": {
      "text/plain": [
       "'Encampment'"
      ]
     },
     "execution_count": 31,
     "metadata": {},
     "output_type": "execute_result"
    }
   ],
   "source": [
    "ordered_requests.get('service').iloc[0]"
   ]
  },
  {
   "cell_type": "markdown",
   "metadata": {
    "slideshow": {
     "slide_type": "slide"
    }
   },
   "source": [
    "## Example 4: Status of a request\n",
    "\n",
    "**Key concept**: Accessing using row labels."
   ]
  },
  {
   "cell_type": "markdown",
   "metadata": {
    "slideshow": {
     "slide_type": "slide"
    }
   },
   "source": [
    "### Status of a request\n",
    "\n",
    "- On October 1, you submitted service request **3940652**. Has the issue been resolved? \n",
    "\n",
    "- This cannot be answered from the annual summary data, but must be answered from the detailed data about October 1."
   ]
  },
  {
   "cell_type": "code",
   "execution_count": 32,
   "metadata": {},
   "outputs": [
    {
     "data": {
      "text/html": [
       "<div>\n",
       "<style scoped>\n",
       "    .dataframe tbody tr th:only-of-type {\n",
       "        vertical-align: middle;\n",
       "    }\n",
       "\n",
       "    .dataframe tbody tr th {\n",
       "        vertical-align: top;\n",
       "    }\n",
       "\n",
       "    .dataframe thead th {\n",
       "        text-align: right;\n",
       "    }\n",
       "</style>\n",
       "<table border=\"1\" class=\"dataframe\">\n",
       "  <thead>\n",
       "    <tr style=\"text-align: right;\">\n",
       "      <th></th>\n",
       "      <th>date_requested</th>\n",
       "      <th>neighborhood</th>\n",
       "      <th>service</th>\n",
       "      <th>status</th>\n",
       "      <th>street_address</th>\n",
       "      <th>public_description</th>\n",
       "    </tr>\n",
       "    <tr>\n",
       "      <th>service_request_id</th>\n",
       "      <th></th>\n",
       "      <th></th>\n",
       "      <th></th>\n",
       "      <th></th>\n",
       "      <th></th>\n",
       "      <th></th>\n",
       "    </tr>\n",
       "  </thead>\n",
       "  <tbody>\n",
       "    <tr>\n",
       "      <th>3940112</th>\n",
       "      <td>2022-10-01T00:11:00</td>\n",
       "      <td>La Jolla</td>\n",
       "      <td>Pothole</td>\n",
       "      <td>Open</td>\n",
       "      <td>7556 VIA CAPRI, San Diego, CA 92037, USA</td>\n",
       "      <td>Pothole</td>\n",
       "    </tr>\n",
       "    <tr>\n",
       "      <th>3940113</th>\n",
       "      <td>2022-10-01T00:12:00</td>\n",
       "      <td>La Jolla</td>\n",
       "      <td>Pothole</td>\n",
       "      <td>Open</td>\n",
       "      <td>7566 VIA CAPRI, San Diego, CA 92037, USA</td>\n",
       "      <td>Potholes / fix the damn road</td>\n",
       "    </tr>\n",
       "    <tr>\n",
       "      <th>3940114</th>\n",
       "      <td>2022-10-01T00:13:00</td>\n",
       "      <td>Pacific Beach</td>\n",
       "      <td>Street Light Maintenance</td>\n",
       "      <td>Open</td>\n",
       "      <td>1698-1500 Monmouth Dr, San Diego, CA 92109, USA</td>\n",
       "      <td>Street light out on the corner of Monmouth Dr ...</td>\n",
       "    </tr>\n",
       "    <tr>\n",
       "      <th>3940115</th>\n",
       "      <td>2022-10-01T00:13:00</td>\n",
       "      <td>La Jolla</td>\n",
       "      <td>Pothole</td>\n",
       "      <td>Open</td>\n",
       "      <td>7456 VIA CAPRI, San Diego, CA 92037, USA</td>\n",
       "      <td>Pothole</td>\n",
       "    </tr>\n",
       "    <tr>\n",
       "      <th>3940116</th>\n",
       "      <td>2022-10-01T00:16:00</td>\n",
       "      <td>Scripps Miramar Ranch</td>\n",
       "      <td>Traffic Signal Timing</td>\n",
       "      <td>Open</td>\n",
       "      <td>10895 Hibert St, San Diego, CA 92131, USA</td>\n",
       "      <td>Is it possible to time this light sequentially...</td>\n",
       "    </tr>\n",
       "    <tr>\n",
       "      <th>...</th>\n",
       "      <td>...</td>\n",
       "      <td>...</td>\n",
       "      <td>...</td>\n",
       "      <td>...</td>\n",
       "      <td>...</td>\n",
       "      <td>...</td>\n",
       "    </tr>\n",
       "    <tr>\n",
       "      <th>3940819</th>\n",
       "      <td>2022-10-01T17:39:00</td>\n",
       "      <td>North Park</td>\n",
       "      <td>Other</td>\n",
       "      <td>Closed</td>\n",
       "      <td>3935 32nd St</td>\n",
       "      <td>Bike Theft Chop Shop Behind Starbucks on 32nd ...</td>\n",
       "    </tr>\n",
       "    <tr>\n",
       "      <th>3940876</th>\n",
       "      <td>2022-10-01T19:47:00</td>\n",
       "      <td>Skyline-Paradise Hills</td>\n",
       "      <td>Parking</td>\n",
       "      <td>Closed</td>\n",
       "      <td>7701-7899 Bloomfield Rd, San Diego, CA 92114, USA</td>\n",
       "      <td>Car has been parked there for many months. Exp...</td>\n",
       "    </tr>\n",
       "    <tr>\n",
       "      <th>3940900</th>\n",
       "      <td>2022-10-01T21:06:00</td>\n",
       "      <td>Downtown</td>\n",
       "      <td>Sidewalk Repair Issue</td>\n",
       "      <td>Closed</td>\n",
       "      <td>Petco Park</td>\n",
       "      <td>Safety hazard illegal vending</td>\n",
       "    </tr>\n",
       "    <tr>\n",
       "      <th>3940909</th>\n",
       "      <td>2022-10-01T21:44:00</td>\n",
       "      <td>Clairemont Mesa</td>\n",
       "      <td>Other</td>\n",
       "      <td>Closed</td>\n",
       "      <td>2810 Denver Street</td>\n",
       "      <td>Underage drinking party</td>\n",
       "    </tr>\n",
       "    <tr>\n",
       "      <th>3940924</th>\n",
       "      <td>2022-10-01T22:54:00</td>\n",
       "      <td>Clairemont Mesa</td>\n",
       "      <td>Other</td>\n",
       "      <td>Closed</td>\n",
       "      <td>5378 Jamestown Rd</td>\n",
       "      <td>People doing drugs in their car AGAIN. Please ...</td>\n",
       "    </tr>\n",
       "  </tbody>\n",
       "</table>\n",
       "<p>753 rows × 6 columns</p>\n",
       "</div>"
      ],
      "text/plain": [
       "                         date_requested            neighborhood  \\\n",
       "service_request_id                                                \n",
       "3940112             2022-10-01T00:11:00                La Jolla   \n",
       "3940113             2022-10-01T00:12:00                La Jolla   \n",
       "3940114             2022-10-01T00:13:00           Pacific Beach   \n",
       "3940115             2022-10-01T00:13:00                La Jolla   \n",
       "3940116             2022-10-01T00:16:00   Scripps Miramar Ranch   \n",
       "...                                 ...                     ...   \n",
       "3940819             2022-10-01T17:39:00              North Park   \n",
       "3940876             2022-10-01T19:47:00  Skyline-Paradise Hills   \n",
       "3940900             2022-10-01T21:06:00                Downtown   \n",
       "3940909             2022-10-01T21:44:00         Clairemont Mesa   \n",
       "3940924             2022-10-01T22:54:00         Clairemont Mesa   \n",
       "\n",
       "                                     service  status  \\\n",
       "service_request_id                                     \n",
       "3940112                              Pothole    Open   \n",
       "3940113                              Pothole    Open   \n",
       "3940114             Street Light Maintenance    Open   \n",
       "3940115                              Pothole    Open   \n",
       "3940116                Traffic Signal Timing    Open   \n",
       "...                                      ...     ...   \n",
       "3940819                                Other  Closed   \n",
       "3940876                              Parking  Closed   \n",
       "3940900                Sidewalk Repair Issue  Closed   \n",
       "3940909                                Other  Closed   \n",
       "3940924                                Other  Closed   \n",
       "\n",
       "                                                       street_address  \\\n",
       "service_request_id                                                      \n",
       "3940112                      7556 VIA CAPRI, San Diego, CA 92037, USA   \n",
       "3940113                      7566 VIA CAPRI, San Diego, CA 92037, USA   \n",
       "3940114               1698-1500 Monmouth Dr, San Diego, CA 92109, USA   \n",
       "3940115                      7456 VIA CAPRI, San Diego, CA 92037, USA   \n",
       "3940116                     10895 Hibert St, San Diego, CA 92131, USA   \n",
       "...                                                               ...   \n",
       "3940819                                                  3935 32nd St   \n",
       "3940876             7701-7899 Bloomfield Rd, San Diego, CA 92114, USA   \n",
       "3940900                                                    Petco Park   \n",
       "3940909                                            2810 Denver Street   \n",
       "3940924                                             5378 Jamestown Rd   \n",
       "\n",
       "                                                   public_description  \n",
       "service_request_id                                                     \n",
       "3940112                                                       Pothole  \n",
       "3940113                                  Potholes / fix the damn road  \n",
       "3940114             Street light out on the corner of Monmouth Dr ...  \n",
       "3940115                                                       Pothole  \n",
       "3940116             Is it possible to time this light sequentially...  \n",
       "...                                                               ...  \n",
       "3940819             Bike Theft Chop Shop Behind Starbucks on 32nd ...  \n",
       "3940876             Car has been parked there for many months. Exp...  \n",
       "3940900                                 Safety hazard illegal vending  \n",
       "3940909                                       Underage drinking party  \n",
       "3940924             People doing drugs in their car AGAIN. Please ...  \n",
       "\n",
       "[753 rows x 6 columns]"
      ]
     },
     "execution_count": 32,
     "metadata": {},
     "output_type": "execute_result"
    }
   ],
   "source": [
    "oct_1"
   ]
  },
  {
   "cell_type": "markdown",
   "metadata": {
    "slideshow": {
     "slide_type": "fragment"
    }
   },
   "source": [
    "Your service request is buried in the middle of the DataFrame. Only the first few rows and last few rows are shown, so you can't tell just by looking at the DataFrame."
   ]
  },
  {
   "cell_type": "markdown",
   "metadata": {
    "slideshow": {
     "slide_type": "slide"
    }
   },
   "source": [
    "### Accessing using the row label\n",
    "\n",
    "To pull out one particular entry of a DataFrame corresponding to a row and column with certain labels:\n",
    "1. Use `.get(column_name)` to extract the entire column as a Series.\n",
    "2. Use `.loc[]` to access the element of a Series with a particular row label.\n",
    "\n",
    "In this class, we'll always get a column, then a row (but row, then column is also possible)."
   ]
  },
  {
   "cell_type": "code",
   "execution_count": 33,
   "metadata": {},
   "outputs": [
    {
     "data": {
      "text/plain": [
       "service_request_id\n",
       "3940112      Open\n",
       "3940113      Open\n",
       "3940114      Open\n",
       "3940115      Open\n",
       "3940116      Open\n",
       "            ...  \n",
       "3940819    Closed\n",
       "3940876    Closed\n",
       "3940900    Closed\n",
       "3940909    Closed\n",
       "3940924    Closed\n",
       "Name: status, Length: 753, dtype: object"
      ]
     },
     "execution_count": 33,
     "metadata": {},
     "output_type": "execute_result"
    }
   ],
   "source": [
    "oct_1.get('status')"
   ]
  },
  {
   "cell_type": "code",
   "execution_count": 34,
   "metadata": {},
   "outputs": [
    {
     "data": {
      "text/plain": [
       "'Open'"
      ]
     },
     "execution_count": 34,
     "metadata": {},
     "output_type": "execute_result"
    }
   ],
   "source": [
    "oct_1.get('status').loc[3940652]"
   ]
  },
  {
   "cell_type": "markdown",
   "metadata": {
    "slideshow": {
     "slide_type": "slide"
    }
   },
   "source": [
    "### Activity 🚚\n",
    "\n",
    "Oh no, your service request 3940652 has still not been resolved! What was the problem again?\n",
    "\n",
    "Write one line of code that evaluates to the full description of the problem, as you described it in your service request."
   ]
  },
  {
   "cell_type": "code",
   "execution_count": 35,
   "metadata": {},
   "outputs": [
    {
     "data": {
      "text/plain": [
       "'Truck parked in red blocking driveway'"
      ]
     },
     "execution_count": 35,
     "metadata": {},
     "output_type": "execute_result"
    }
   ],
   "source": [
    "oct_1.get('public_description').loc[3940652]"
   ]
  },
  {
   "cell_type": "markdown",
   "metadata": {
    "slideshow": {
     "slide_type": "slide"
    }
   },
   "source": [
    "### Summary of accessing a Series\n",
    "\n",
    "- There are two ways to get an element of a Series:\n",
    "    - `.loc[]` uses the row label.\n",
    "    - `.iloc[]` uses the integer position.\n",
    "- Usually `.loc[]` is more convenient, but each is best for different scenarios."
   ]
  },
  {
   "cell_type": "markdown",
   "metadata": {
    "slideshow": {
     "slide_type": "slide"
    }
   },
   "source": [
    "### Note\n",
    "\n",
    "- Sometimes the integer position and row label are the same.\n",
    "- This happens by default with `bpd.read_csv`."
   ]
  },
  {
   "cell_type": "code",
   "execution_count": null,
   "metadata": {},
   "outputs": [],
   "source": [
    "bpd.read_csv('data/get-it-done-oct-1.csv')"
   ]
  },
  {
   "cell_type": "code",
   "execution_count": null,
   "metadata": {},
   "outputs": [],
   "source": [
    "bpd.read_csv('data/get-it-done-oct-1.csv').get('public_description').loc[31]"
   ]
  },
  {
   "cell_type": "code",
   "execution_count": null,
   "metadata": {},
   "outputs": [],
   "source": [
    "bpd.read_csv('data/get-it-done-oct-1.csv').get('public_description').iloc[31]"
   ]
  },
  {
   "cell_type": "markdown",
   "metadata": {
    "slideshow": {
     "slide_type": "slide"
    }
   },
   "source": [
    "## Reflection"
   ]
  },
  {
   "cell_type": "markdown",
   "metadata": {
    "slideshow": {
     "slide_type": "slide"
    }
   },
   "source": [
    "### Questions we can answer right now..."
   ]
  },
  {
   "cell_type": "markdown",
   "metadata": {
    "slideshow": {
     "slide_type": "fragment"
    }
   },
   "source": [
    "- What is the largest number of open requests of one type in one neighborhood?\n",
    "    - `requests.get('open').max()`."
   ]
  },
  {
   "cell_type": "markdown",
   "metadata": {
    "slideshow": {
     "slide_type": "fragment"
    }
   },
   "source": [
    "- How many requests were made on October 1?\n",
    "    - `oct_1.shape[0]`."
   ]
  },
  {
   "cell_type": "markdown",
   "metadata": {
    "slideshow": {
     "slide_type": "fragment"
    }
   },
   "source": [
    "- What is the description of the latest request made on October 1?\n",
    "    - `oct_1.sort_values(by='date_requested', ascending=False).get('public_description').iloc[0]`."
   ]
  },
  {
   "cell_type": "markdown",
   "metadata": {
    "slideshow": {
     "slide_type": "slide"
    }
   },
   "source": [
    "Moving forward, let's just focus on the `requests` DataFrame. As a reminder, here's what it looks like:"
   ]
  },
  {
   "cell_type": "code",
   "execution_count": null,
   "metadata": {
    "slideshow": {
     "slide_type": "-"
    }
   },
   "outputs": [],
   "source": [
    "requests"
   ]
  },
  {
   "cell_type": "markdown",
   "metadata": {
    "slideshow": {
     "slide_type": "slide"
    }
   },
   "source": [
    "### Questions we can't yet answer...\n",
    "- Which neighborhood has the most `'Weed Cleanup'` requests?\n",
    "- What is the most commonly requested service in the `'University'` neighborhood (near UCSD)?\n",
    "- In the `'Downtown'` neighborhood, how many open service requests are there?\n",
    "\n",
    "The common thread between these questions is that they all involve only a **subset** of the rows in our DataFrame."
   ]
  },
  {
   "cell_type": "markdown",
   "metadata": {
    "slideshow": {
     "slide_type": "slide"
    }
   },
   "source": [
    "## Example 6: Which neighborhood has the most `'Weed Cleanup'` requests?\n",
    "\n",
    "**Key concept**: Selecting rows (via Boolean indexing)."
   ]
  },
  {
   "cell_type": "markdown",
   "metadata": {
    "slideshow": {
     "slide_type": "slide"
    }
   },
   "source": [
    "### Selecting rows\n",
    "\n",
    "- We could determine the neighborhood with the most `'Weed Cleanup'` requests if we had a DataFrame consisting of only these type of requests.\n",
    "    - We would sort by the `'total'` column in descending order, then extract the neighborhood name in the first row.\n",
    "- How do we get that DataFrame?"
   ]
  },
  {
   "cell_type": "markdown",
   "metadata": {
    "slideshow": {
     "slide_type": "slide"
    }
   },
   "source": [
    "### The solution"
   ]
  },
  {
   "cell_type": "code",
   "execution_count": 36,
   "metadata": {},
   "outputs": [
    {
     "data": {
      "text/html": [
       "<div>\n",
       "<style scoped>\n",
       "    .dataframe tbody tr th:only-of-type {\n",
       "        vertical-align: middle;\n",
       "    }\n",
       "\n",
       "    .dataframe tbody tr th {\n",
       "        vertical-align: top;\n",
       "    }\n",
       "\n",
       "    .dataframe thead th {\n",
       "        text-align: right;\n",
       "    }\n",
       "</style>\n",
       "<table border=\"1\" class=\"dataframe\">\n",
       "  <thead>\n",
       "    <tr style=\"text-align: right;\">\n",
       "      <th></th>\n",
       "      <th>neighborhood</th>\n",
       "      <th>service</th>\n",
       "      <th>closed</th>\n",
       "      <th>open</th>\n",
       "      <th>total</th>\n",
       "    </tr>\n",
       "  </thead>\n",
       "  <tbody>\n",
       "    <tr>\n",
       "      <th>30</th>\n",
       "      <td>Balboa Park</td>\n",
       "      <td>Weed Cleanup</td>\n",
       "      <td>23</td>\n",
       "      <td>0</td>\n",
       "      <td>23</td>\n",
       "    </tr>\n",
       "    <tr>\n",
       "      <th>61</th>\n",
       "      <td>Barrio Logan</td>\n",
       "      <td>Weed Cleanup</td>\n",
       "      <td>10</td>\n",
       "      <td>1</td>\n",
       "      <td>11</td>\n",
       "    </tr>\n",
       "    <tr>\n",
       "      <th>87</th>\n",
       "      <td>Black Mountain Ranch</td>\n",
       "      <td>Weed Cleanup</td>\n",
       "      <td>0</td>\n",
       "      <td>1</td>\n",
       "      <td>1</td>\n",
       "    </tr>\n",
       "    <tr>\n",
       "      <th>116</th>\n",
       "      <td>Carmel Mountain Ranch</td>\n",
       "      <td>Weed Cleanup</td>\n",
       "      <td>2</td>\n",
       "      <td>0</td>\n",
       "      <td>2</td>\n",
       "    </tr>\n",
       "    <tr>\n",
       "      <th>146</th>\n",
       "      <td>Carmel Valley</td>\n",
       "      <td>Weed Cleanup</td>\n",
       "      <td>6</td>\n",
       "      <td>1</td>\n",
       "      <td>7</td>\n",
       "    </tr>\n",
       "    <tr>\n",
       "      <th>...</th>\n",
       "      <td>...</td>\n",
       "      <td>...</td>\n",
       "      <td>...</td>\n",
       "      <td>...</td>\n",
       "      <td>...</td>\n",
       "    </tr>\n",
       "    <tr>\n",
       "      <th>1433</th>\n",
       "      <td>Tijuana River Valley</td>\n",
       "      <td>Weed Cleanup</td>\n",
       "      <td>2</td>\n",
       "      <td>0</td>\n",
       "      <td>2</td>\n",
       "    </tr>\n",
       "    <tr>\n",
       "      <th>1489</th>\n",
       "      <td>Torrey Hills</td>\n",
       "      <td>Weed Cleanup</td>\n",
       "      <td>1</td>\n",
       "      <td>0</td>\n",
       "      <td>1</td>\n",
       "    </tr>\n",
       "    <tr>\n",
       "      <th>1518</th>\n",
       "      <td>Torrey Pines</td>\n",
       "      <td>Weed Cleanup</td>\n",
       "      <td>10</td>\n",
       "      <td>7</td>\n",
       "      <td>17</td>\n",
       "    </tr>\n",
       "    <tr>\n",
       "      <th>1549</th>\n",
       "      <td>University</td>\n",
       "      <td>Weed Cleanup</td>\n",
       "      <td>53</td>\n",
       "      <td>10</td>\n",
       "      <td>63</td>\n",
       "    </tr>\n",
       "    <tr>\n",
       "      <th>1580</th>\n",
       "      <td>Uptown</td>\n",
       "      <td>Weed Cleanup</td>\n",
       "      <td>36</td>\n",
       "      <td>8</td>\n",
       "      <td>44</td>\n",
       "    </tr>\n",
       "  </tbody>\n",
       "</table>\n",
       "<p>53 rows × 5 columns</p>\n",
       "</div>"
      ],
      "text/plain": [
       "               neighborhood       service  closed  open  total\n",
       "30              Balboa Park  Weed Cleanup      23     0     23\n",
       "61             Barrio Logan  Weed Cleanup      10     1     11\n",
       "87     Black Mountain Ranch  Weed Cleanup       0     1      1\n",
       "116   Carmel Mountain Ranch  Weed Cleanup       2     0      2\n",
       "146           Carmel Valley  Weed Cleanup       6     1      7\n",
       "...                     ...           ...     ...   ...    ...\n",
       "1433   Tijuana River Valley  Weed Cleanup       2     0      2\n",
       "1489           Torrey Hills  Weed Cleanup       1     0      1\n",
       "1518           Torrey Pines  Weed Cleanup      10     7     17\n",
       "1549             University  Weed Cleanup      53    10     63\n",
       "1580                 Uptown  Weed Cleanup      36     8     44\n",
       "\n",
       "[53 rows x 5 columns]"
      ]
     },
     "execution_count": 36,
     "metadata": {},
     "output_type": "execute_result"
    }
   ],
   "source": [
    "requests[requests.get('service') == 'Weed Cleanup']"
   ]
  },
  {
   "cell_type": "markdown",
   "metadata": {
    "slideshow": {
     "slide_type": "fragment"
    }
   },
   "source": [
    "Use `==` to check equality. Not `=`, as that's for assignment of a value to a variable."
   ]
  },
  {
   "cell_type": "code",
   "execution_count": 37,
   "metadata": {},
   "outputs": [
    {
     "data": {
      "text/plain": [
       "False"
      ]
     },
     "execution_count": 37,
     "metadata": {},
     "output_type": "execute_result"
    }
   ],
   "source": [
    "'Weed Cleanup' == 'Weed Clean-Up'"
   ]
  },
  {
   "cell_type": "code",
   "execution_count": 38,
   "metadata": {},
   "outputs": [
    {
     "data": {
      "text/plain": [
       "True"
      ]
     },
     "execution_count": 38,
     "metadata": {},
     "output_type": "execute_result"
    }
   ],
   "source": [
    "'Weed Cleanup' == 'Weed Cleanup'"
   ]
  },
  {
   "cell_type": "markdown",
   "metadata": {
    "slideshow": {
     "slide_type": "fragment"
    }
   },
   "source": [
    "We can *broadcast* the equality check to each element of a Series. The comparison happens element-wise."
   ]
  },
  {
   "cell_type": "code",
   "execution_count": 39,
   "metadata": {},
   "outputs": [
    {
     "data": {
      "text/plain": [
       "0       False\n",
       "1       False\n",
       "2       False\n",
       "3       False\n",
       "4       False\n",
       "        ...  \n",
       "1582    False\n",
       "1583    False\n",
       "1584    False\n",
       "1585    False\n",
       "1586    False\n",
       "Name: service, Length: 1587, dtype: bool"
      ]
     },
     "execution_count": 39,
     "metadata": {},
     "output_type": "execute_result"
    }
   ],
   "source": [
    "requests.get('service') == 'Weed Cleanup'"
   ]
  },
  {
   "cell_type": "markdown",
   "metadata": {
    "slideshow": {
     "slide_type": "slide"
    }
   },
   "source": [
    "### Boolean indexing\n",
    "\n",
    "To select only some rows of `requests`:\n",
    "\n",
    "1. Make a sequence (list/array/Series) of `True`s (keep) and `False`s (toss).\n",
    "    - The values `True` and `False` are of the _Boolean_ data type.\n",
    "    \n",
    "2. Then pass it into `requests[sequence_goes_here]`.\n",
    "\n",
    "Rather than making the sequence by hand, we usually generate it by making a comparison."
   ]
  },
  {
   "cell_type": "markdown",
   "metadata": {
    "slideshow": {
     "slide_type": "slide"
    }
   },
   "source": [
    "### Another example of element-wise comparison\n",
    "\n",
    "Comparisons can check inequality as well as equality."
   ]
  },
  {
   "cell_type": "code",
   "execution_count": 40,
   "metadata": {},
   "outputs": [
    {
     "data": {
      "text/html": [
       "<div>\n",
       "<style scoped>\n",
       "    .dataframe tbody tr th:only-of-type {\n",
       "        vertical-align: middle;\n",
       "    }\n",
       "\n",
       "    .dataframe tbody tr th {\n",
       "        vertical-align: top;\n",
       "    }\n",
       "\n",
       "    .dataframe thead th {\n",
       "        text-align: right;\n",
       "    }\n",
       "</style>\n",
       "<table border=\"1\" class=\"dataframe\">\n",
       "  <thead>\n",
       "    <tr style=\"text-align: right;\">\n",
       "      <th></th>\n",
       "      <th>neighborhood</th>\n",
       "      <th>service</th>\n",
       "      <th>closed</th>\n",
       "      <th>open</th>\n",
       "      <th>total</th>\n",
       "    </tr>\n",
       "  </thead>\n",
       "  <tbody>\n",
       "    <tr>\n",
       "      <th>0</th>\n",
       "      <td>Balboa Park</td>\n",
       "      <td>Dead Animal</td>\n",
       "      <td>46</td>\n",
       "      <td>0</td>\n",
       "      <td>46</td>\n",
       "    </tr>\n",
       "    <tr>\n",
       "      <th>1</th>\n",
       "      <td>Balboa Park</td>\n",
       "      <td>Development Services - Code Enforcement</td>\n",
       "      <td>2</td>\n",
       "      <td>0</td>\n",
       "      <td>2</td>\n",
       "    </tr>\n",
       "    <tr>\n",
       "      <th>2</th>\n",
       "      <td>Balboa Park</td>\n",
       "      <td>Encampment</td>\n",
       "      <td>1484</td>\n",
       "      <td>219</td>\n",
       "      <td>1703</td>\n",
       "    </tr>\n",
       "    <tr>\n",
       "      <th>3</th>\n",
       "      <td>Balboa Park</td>\n",
       "      <td>Environmental Services Code Compliance</td>\n",
       "      <td>25</td>\n",
       "      <td>1</td>\n",
       "      <td>26</td>\n",
       "    </tr>\n",
       "    <tr>\n",
       "      <th>4</th>\n",
       "      <td>Balboa Park</td>\n",
       "      <td>Graffiti</td>\n",
       "      <td>977</td>\n",
       "      <td>0</td>\n",
       "      <td>977</td>\n",
       "    </tr>\n",
       "    <tr>\n",
       "      <th>...</th>\n",
       "      <td>...</td>\n",
       "      <td>...</td>\n",
       "      <td>...</td>\n",
       "      <td>...</td>\n",
       "      <td>...</td>\n",
       "    </tr>\n",
       "    <tr>\n",
       "      <th>1582</th>\n",
       "      <td>Via De La Valle</td>\n",
       "      <td>Parking</td>\n",
       "      <td>1</td>\n",
       "      <td>0</td>\n",
       "      <td>1</td>\n",
       "    </tr>\n",
       "    <tr>\n",
       "      <th>1583</th>\n",
       "      <td>Via De La Valle</td>\n",
       "      <td>Pavement Maintenance</td>\n",
       "      <td>0</td>\n",
       "      <td>1</td>\n",
       "      <td>1</td>\n",
       "    </tr>\n",
       "    <tr>\n",
       "      <th>1584</th>\n",
       "      <td>Via De La Valle</td>\n",
       "      <td>Pothole</td>\n",
       "      <td>9</td>\n",
       "      <td>1</td>\n",
       "      <td>10</td>\n",
       "    </tr>\n",
       "    <tr>\n",
       "      <th>1585</th>\n",
       "      <td>Via De La Valle</td>\n",
       "      <td>Stormwater Code Enforcement</td>\n",
       "      <td>3</td>\n",
       "      <td>0</td>\n",
       "      <td>3</td>\n",
       "    </tr>\n",
       "    <tr>\n",
       "      <th>1586</th>\n",
       "      <td>Via De La Valle</td>\n",
       "      <td>Street Light Maintenance</td>\n",
       "      <td>1</td>\n",
       "      <td>0</td>\n",
       "      <td>1</td>\n",
       "    </tr>\n",
       "  </tbody>\n",
       "</table>\n",
       "<p>1587 rows × 5 columns</p>\n",
       "</div>"
      ],
      "text/plain": [
       "         neighborhood                                  service  closed  open  \\\n",
       "0         Balboa Park                              Dead Animal      46     0   \n",
       "1         Balboa Park  Development Services - Code Enforcement       2     0   \n",
       "2         Balboa Park                               Encampment    1484   219   \n",
       "3         Balboa Park   Environmental Services Code Compliance      25     1   \n",
       "4         Balboa Park                                 Graffiti     977     0   \n",
       "...               ...                                      ...     ...   ...   \n",
       "1582  Via De La Valle                                  Parking       1     0   \n",
       "1583  Via De La Valle                     Pavement Maintenance       0     1   \n",
       "1584  Via De La Valle                                  Pothole       9     1   \n",
       "1585  Via De La Valle              Stormwater Code Enforcement       3     0   \n",
       "1586  Via De La Valle                 Street Light Maintenance       1     0   \n",
       "\n",
       "      total  \n",
       "0        46  \n",
       "1         2  \n",
       "2      1703  \n",
       "3        26  \n",
       "4       977  \n",
       "...     ...  \n",
       "1582      1  \n",
       "1583      1  \n",
       "1584     10  \n",
       "1585      3  \n",
       "1586      1  \n",
       "\n",
       "[1587 rows x 5 columns]"
      ]
     },
     "execution_count": 40,
     "metadata": {},
     "output_type": "execute_result"
    }
   ],
   "source": [
    "requests"
   ]
  },
  {
   "cell_type": "code",
   "execution_count": 41,
   "metadata": {},
   "outputs": [
    {
     "data": {
      "text/plain": [
       "0       False\n",
       "1       False\n",
       "2        True\n",
       "3       False\n",
       "4       False\n",
       "        ...  \n",
       "1582    False\n",
       "1583    False\n",
       "1584    False\n",
       "1585    False\n",
       "1586    False\n",
       "Name: open, Length: 1587, dtype: bool"
      ]
     },
     "execution_count": 41,
     "metadata": {},
     "output_type": "execute_result"
    }
   ],
   "source": [
    "requests.get('open') > 1"
   ]
  },
  {
   "cell_type": "code",
   "execution_count": 42,
   "metadata": {},
   "outputs": [
    {
     "data": {
      "text/html": [
       "<div>\n",
       "<style scoped>\n",
       "    .dataframe tbody tr th:only-of-type {\n",
       "        vertical-align: middle;\n",
       "    }\n",
       "\n",
       "    .dataframe tbody tr th {\n",
       "        vertical-align: top;\n",
       "    }\n",
       "\n",
       "    .dataframe thead th {\n",
       "        text-align: right;\n",
       "    }\n",
       "</style>\n",
       "<table border=\"1\" class=\"dataframe\">\n",
       "  <thead>\n",
       "    <tr style=\"text-align: right;\">\n",
       "      <th></th>\n",
       "      <th>neighborhood</th>\n",
       "      <th>service</th>\n",
       "      <th>closed</th>\n",
       "      <th>open</th>\n",
       "      <th>total</th>\n",
       "    </tr>\n",
       "  </thead>\n",
       "  <tbody>\n",
       "    <tr>\n",
       "      <th>2</th>\n",
       "      <td>Balboa Park</td>\n",
       "      <td>Encampment</td>\n",
       "      <td>1484</td>\n",
       "      <td>219</td>\n",
       "      <td>1703</td>\n",
       "    </tr>\n",
       "    <tr>\n",
       "      <th>5</th>\n",
       "      <td>Balboa Park</td>\n",
       "      <td>Graffiti - Code Enforcement</td>\n",
       "      <td>12</td>\n",
       "      <td>2</td>\n",
       "      <td>14</td>\n",
       "    </tr>\n",
       "    <tr>\n",
       "      <th>6</th>\n",
       "      <td>Balboa Park</td>\n",
       "      <td>Graffiti - Public</td>\n",
       "      <td>137</td>\n",
       "      <td>41</td>\n",
       "      <td>178</td>\n",
       "    </tr>\n",
       "    <tr>\n",
       "      <th>7</th>\n",
       "      <td>Balboa Park</td>\n",
       "      <td>Illegal Dumping</td>\n",
       "      <td>255</td>\n",
       "      <td>29</td>\n",
       "      <td>284</td>\n",
       "    </tr>\n",
       "    <tr>\n",
       "      <th>10</th>\n",
       "      <td>Balboa Park</td>\n",
       "      <td>Parking</td>\n",
       "      <td>87</td>\n",
       "      <td>4</td>\n",
       "      <td>91</td>\n",
       "    </tr>\n",
       "    <tr>\n",
       "      <th>...</th>\n",
       "      <td>...</td>\n",
       "      <td>...</td>\n",
       "      <td>...</td>\n",
       "      <td>...</td>\n",
       "      <td>...</td>\n",
       "    </tr>\n",
       "    <tr>\n",
       "      <th>1577</th>\n",
       "      <td>Uptown</td>\n",
       "      <td>Trash/Recycling Collection</td>\n",
       "      <td>61</td>\n",
       "      <td>3</td>\n",
       "      <td>64</td>\n",
       "    </tr>\n",
       "    <tr>\n",
       "      <th>1578</th>\n",
       "      <td>Uptown</td>\n",
       "      <td>Tree Maintenance</td>\n",
       "      <td>271</td>\n",
       "      <td>83</td>\n",
       "      <td>354</td>\n",
       "    </tr>\n",
       "    <tr>\n",
       "      <th>1579</th>\n",
       "      <td>Uptown</td>\n",
       "      <td>Waste on Private Property</td>\n",
       "      <td>102</td>\n",
       "      <td>12</td>\n",
       "      <td>114</td>\n",
       "    </tr>\n",
       "    <tr>\n",
       "      <th>1580</th>\n",
       "      <td>Uptown</td>\n",
       "      <td>Weed Cleanup</td>\n",
       "      <td>36</td>\n",
       "      <td>8</td>\n",
       "      <td>44</td>\n",
       "    </tr>\n",
       "    <tr>\n",
       "      <th>1581</th>\n",
       "      <td>Via De La Valle</td>\n",
       "      <td>Encampment</td>\n",
       "      <td>1</td>\n",
       "      <td>2</td>\n",
       "      <td>3</td>\n",
       "    </tr>\n",
       "  </tbody>\n",
       "</table>\n",
       "<p>1001 rows × 5 columns</p>\n",
       "</div>"
      ],
      "text/plain": [
       "         neighborhood                      service  closed  open  total\n",
       "2         Balboa Park                   Encampment    1484   219   1703\n",
       "5         Balboa Park  Graffiti - Code Enforcement      12     2     14\n",
       "6         Balboa Park            Graffiti - Public     137    41    178\n",
       "7         Balboa Park              Illegal Dumping     255    29    284\n",
       "10        Balboa Park                      Parking      87     4     91\n",
       "...               ...                          ...     ...   ...    ...\n",
       "1577           Uptown   Trash/Recycling Collection      61     3     64\n",
       "1578           Uptown             Tree Maintenance     271    83    354\n",
       "1579           Uptown    Waste on Private Property     102    12    114\n",
       "1580           Uptown                 Weed Cleanup      36     8     44\n",
       "1581  Via De La Valle                   Encampment       1     2      3\n",
       "\n",
       "[1001 rows x 5 columns]"
      ]
     },
     "execution_count": 42,
     "metadata": {},
     "output_type": "execute_result"
    }
   ],
   "source": [
    "requests[requests.get('open') > 1]"
   ]
  },
  {
   "cell_type": "markdown",
   "metadata": {
    "slideshow": {
     "slide_type": "slide"
    }
   },
   "source": [
    "### Original Question: Which neighborhood has the most `'Weed Cleanup'` requests?\n",
    "\n",
    "Strategy:\n",
    "1. Extract a DataFrame of just the `'Weed Cleanup'` requests.\n",
    "2. Sort by `'total'` in descending order.\n",
    "3. Return the first element in the `'neighborhood'` column."
   ]
  },
  {
   "cell_type": "code",
   "execution_count": 43,
   "metadata": {},
   "outputs": [
    {
     "data": {
      "text/html": [
       "<div>\n",
       "<style scoped>\n",
       "    .dataframe tbody tr th:only-of-type {\n",
       "        vertical-align: middle;\n",
       "    }\n",
       "\n",
       "    .dataframe tbody tr th {\n",
       "        vertical-align: top;\n",
       "    }\n",
       "\n",
       "    .dataframe thead th {\n",
       "        text-align: right;\n",
       "    }\n",
       "</style>\n",
       "<table border=\"1\" class=\"dataframe\">\n",
       "  <thead>\n",
       "    <tr style=\"text-align: right;\">\n",
       "      <th></th>\n",
       "      <th>neighborhood</th>\n",
       "      <th>service</th>\n",
       "      <th>closed</th>\n",
       "      <th>open</th>\n",
       "      <th>total</th>\n",
       "    </tr>\n",
       "  </thead>\n",
       "  <tbody>\n",
       "    <tr>\n",
       "      <th>1383</th>\n",
       "      <td>Southeastern San Diego</td>\n",
       "      <td>Weed Cleanup</td>\n",
       "      <td>72</td>\n",
       "      <td>7</td>\n",
       "      <td>79</td>\n",
       "    </tr>\n",
       "    <tr>\n",
       "      <th>807</th>\n",
       "      <td>Navajo</td>\n",
       "      <td>Weed Cleanup</td>\n",
       "      <td>66</td>\n",
       "      <td>1</td>\n",
       "      <td>67</td>\n",
       "    </tr>\n",
       "    <tr>\n",
       "      <th>177</th>\n",
       "      <td>Clairemont Mesa</td>\n",
       "      <td>Weed Cleanup</td>\n",
       "      <td>55</td>\n",
       "      <td>11</td>\n",
       "      <td>66</td>\n",
       "    </tr>\n",
       "    <tr>\n",
       "      <th>1549</th>\n",
       "      <td>University</td>\n",
       "      <td>Weed Cleanup</td>\n",
       "      <td>53</td>\n",
       "      <td>10</td>\n",
       "      <td>63</td>\n",
       "    </tr>\n",
       "    <tr>\n",
       "      <th>1352</th>\n",
       "      <td>Skyline-Paradise Hills</td>\n",
       "      <td>Weed Cleanup</td>\n",
       "      <td>52</td>\n",
       "      <td>8</td>\n",
       "      <td>60</td>\n",
       "    </tr>\n",
       "    <tr>\n",
       "      <th>...</th>\n",
       "      <td>...</td>\n",
       "      <td>...</td>\n",
       "      <td>...</td>\n",
       "      <td>...</td>\n",
       "      <td>...</td>\n",
       "    </tr>\n",
       "    <tr>\n",
       "      <th>268</th>\n",
       "      <td>East Elliott</td>\n",
       "      <td>Weed Cleanup</td>\n",
       "      <td>1</td>\n",
       "      <td>0</td>\n",
       "      <td>1</td>\n",
       "    </tr>\n",
       "    <tr>\n",
       "      <th>309</th>\n",
       "      <td>Fairbanks Ranch Country Club</td>\n",
       "      <td>Weed Cleanup</td>\n",
       "      <td>1</td>\n",
       "      <td>0</td>\n",
       "      <td>1</td>\n",
       "    </tr>\n",
       "    <tr>\n",
       "      <th>1489</th>\n",
       "      <td>Torrey Hills</td>\n",
       "      <td>Weed Cleanup</td>\n",
       "      <td>1</td>\n",
       "      <td>0</td>\n",
       "      <td>1</td>\n",
       "    </tr>\n",
       "    <tr>\n",
       "      <th>87</th>\n",
       "      <td>Black Mountain Ranch</td>\n",
       "      <td>Weed Cleanup</td>\n",
       "      <td>0</td>\n",
       "      <td>1</td>\n",
       "      <td>1</td>\n",
       "    </tr>\n",
       "    <tr>\n",
       "      <th>746</th>\n",
       "      <td>Mission Beach</td>\n",
       "      <td>Weed Cleanup</td>\n",
       "      <td>1</td>\n",
       "      <td>0</td>\n",
       "      <td>1</td>\n",
       "    </tr>\n",
       "  </tbody>\n",
       "</table>\n",
       "<p>53 rows × 5 columns</p>\n",
       "</div>"
      ],
      "text/plain": [
       "                      neighborhood       service  closed  open  total\n",
       "1383        Southeastern San Diego  Weed Cleanup      72     7     79\n",
       "807                         Navajo  Weed Cleanup      66     1     67\n",
       "177                Clairemont Mesa  Weed Cleanup      55    11     66\n",
       "1549                    University  Weed Cleanup      53    10     63\n",
       "1352        Skyline-Paradise Hills  Weed Cleanup      52     8     60\n",
       "...                            ...           ...     ...   ...    ...\n",
       "268                   East Elliott  Weed Cleanup       1     0      1\n",
       "309   Fairbanks Ranch Country Club  Weed Cleanup       1     0      1\n",
       "1489                  Torrey Hills  Weed Cleanup       1     0      1\n",
       "87            Black Mountain Ranch  Weed Cleanup       0     1      1\n",
       "746                  Mission Beach  Weed Cleanup       1     0      1\n",
       "\n",
       "[53 rows x 5 columns]"
      ]
     },
     "execution_count": 43,
     "metadata": {},
     "output_type": "execute_result"
    }
   ],
   "source": [
    "weed_cleanup_only = requests[requests.get('service') == 'Weed Cleanup']\n",
    "weed_cleanup_sorted = weed_cleanup_only.sort_values(by='total', ascending=False)\n",
    "weed_cleanup_sorted"
   ]
  },
  {
   "cell_type": "code",
   "execution_count": 44,
   "metadata": {},
   "outputs": [
    {
     "data": {
      "text/plain": [
       "'Southeastern San Diego'"
      ]
     },
     "execution_count": 44,
     "metadata": {},
     "output_type": "execute_result"
    }
   ],
   "source": [
    "weed_cleanup_sorted.get('neighborhood').iloc[0]"
   ]
  },
  {
   "cell_type": "markdown",
   "metadata": {
    "slideshow": {
     "slide_type": "slide"
    }
   },
   "source": [
    "### What if the condition isn't satisfied?"
   ]
  },
  {
   "cell_type": "code",
   "execution_count": 45,
   "metadata": {},
   "outputs": [
    {
     "data": {
      "text/html": [
       "<div>\n",
       "<style scoped>\n",
       "    .dataframe tbody tr th:only-of-type {\n",
       "        vertical-align: middle;\n",
       "    }\n",
       "\n",
       "    .dataframe tbody tr th {\n",
       "        vertical-align: top;\n",
       "    }\n",
       "\n",
       "    .dataframe thead th {\n",
       "        text-align: right;\n",
       "    }\n",
       "</style>\n",
       "<table border=\"1\" class=\"dataframe\">\n",
       "  <thead>\n",
       "    <tr style=\"text-align: right;\">\n",
       "      <th></th>\n",
       "      <th>neighborhood</th>\n",
       "      <th>service</th>\n",
       "      <th>closed</th>\n",
       "      <th>open</th>\n",
       "      <th>total</th>\n",
       "    </tr>\n",
       "  </thead>\n",
       "  <tbody>\n",
       "  </tbody>\n",
       "</table>\n",
       "</div>"
      ],
      "text/plain": [
       "Empty DataFrame\n",
       "Columns: [neighborhood, service, closed, open, total]\n",
       "Index: []"
      ]
     },
     "execution_count": 45,
     "metadata": {},
     "output_type": "execute_result"
    }
   ],
   "source": [
    "requests[requests.get('service') == 'Lime Cleanup']"
   ]
  },
  {
   "cell_type": "markdown",
   "metadata": {
    "slideshow": {
     "slide_type": "slide"
    }
   },
   "source": [
    "### Concept Check ✅ – Answer at [cc.dsc10.com](http://cc.dsc10.com) \n",
    "\n",
    "Which expression below evaluates to **the total number of service requests in the `'Downtown'` neighborhood**?\n",
    "\n",
    "A. `requests[requests.get('neighborhood') == 'Downtown'].get('total').sum()`\n",
    "\n",
    "B. `requests.get('total').sum()[requests.get('neighborhood') == 'Downtown']`\n",
    "\n",
    "C. `requests['Downtown'].get('total').sum()`\n",
    "   \n",
    "D. More than one of the above."
   ]
  },
  {
   "cell_type": "code",
   "execution_count": null,
   "metadata": {},
   "outputs": [],
   "source": [
    "..."
   ]
  },
  {
   "cell_type": "markdown",
   "metadata": {
    "slideshow": {
     "slide_type": "slide"
    }
   },
   "source": [
    "### Activity 🚘\n",
    "\n",
    "**Question**: What is the most commonly requested service in the `'University'` neighborhood (near UCSD)?\n",
    "\n",
    "Write one line of code that evaluates to the answer."
   ]
  },
  {
   "cell_type": "code",
   "execution_count": null,
   "metadata": {
    "scrolled": true
   },
   "outputs": [],
   "source": [
    "..."
   ]
  },
  {
   "cell_type": "markdown",
   "metadata": {
    "slideshow": {
     "slide_type": "slide"
    }
   },
   "source": [
    "## Summary"
   ]
  },
  {
   "cell_type": "markdown",
   "metadata": {
    "slideshow": {
     "slide_type": "slide"
    }
   },
   "source": [
    "### Summary\n",
    "\n",
    "- We learned many DataFrame methods and techniques.\n",
    "- Don't feel the need to memorize them all right away.\n",
    "- Instead, refer to this lecture, [the DSC 10 reference sheet](https://drive.google.com/file/d/1mQApk9Ovdi-QVqMgnNcq5dZcWucUKoG-/view), [the `babypandas` notes](https://notes.dsc10.com/front.html), and [the `babypandas` documentation](https://babypandas.readthedocs.io/en/latest/index.html) when working on assignments.\n",
    "- Over time, these techniques will become more and more familiar.\n",
    "- **Practice!** Frame your own questions using this dataset and try and answer them."
   ]
  },
  {
   "cell_type": "markdown",
   "metadata": {
    "slideshow": {
     "slide_type": "slide"
    }
   },
   "source": [
    "### Next time\n",
    "\n",
    "We'll answer more complicated questions, which will lead us to a new core DataFrame method, `.groupby`."
   ]
  }
 ],
 "metadata": {
  "kernelspec": {
   "display_name": "Python 3 (ipykernel)",
   "language": "python",
   "name": "python3"
  },
  "language_info": {
   "codemirror_mode": {
    "name": "ipython",
    "version": 3
   },
   "file_extension": ".py",
   "mimetype": "text/x-python",
   "name": "python",
   "nbconvert_exporter": "python",
   "pygments_lexer": "ipython3",
   "version": "3.9.5"
  },
  "livereveal": {
   "scroll": true,
   "transition": "none"
  },
  "rise": {
   "enable_chalkboard": true
  }
 },
 "nbformat": 4,
 "nbformat_minor": 2
}
