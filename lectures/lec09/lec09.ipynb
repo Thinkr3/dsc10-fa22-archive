{
 "cells": [
  {
   "cell_type": "code",
   "execution_count": 1,
   "metadata": {
    "slideshow": {
     "slide_type": "skip"
    }
   },
   "outputs": [
    {
     "data": {
      "text/html": [
       "\n",
       "<script type=\"text/javascript\" src=\"https://pandastutor.com/build/wsembed.bundle.2022-07-07-release.js\"></script>\n",
       "<script>\n",
       "console.log(\"initializing pandas_tutor js\")\n",
       "\n",
       "function drawWsv(viz_id, spec, options) {\n",
       "  if (typeof createWsvFromPandasTrace === 'undefined') {\n",
       "    setTimeout(() => drawWsv(viz_id, spec, options), 2000) // retry in 2 seconds\n",
       "    return\n",
       "  }\n",
       "  createWsvFromPandasTrace(viz_id, spec, options)\n",
       "}\n",
       "</script>\n"
      ],
      "text/plain": [
       "<IPython.core.display.HTML object>"
      ]
     },
     "metadata": {},
     "output_type": "display_data"
    }
   ],
   "source": [
    "# Set up packages for lecture. Don't worry about understanding this code, but\n",
    "# make sure to run it if you're following along.\n",
    "import numpy as np\n",
    "import babypandas as bpd\n",
    "import pandas as pd\n",
    "from matplotlib_inline.backend_inline import set_matplotlib_formats\n",
    "import matplotlib.pyplot as plt\n",
    "%reload_ext pandas_tutor\n",
    "%set_pandas_tutor_options {'projectorMode': True}\n",
    "set_matplotlib_formats(\"svg\")\n",
    "plt.style.use('ggplot')\n",
    "\n",
    "np.set_printoptions(threshold=20, precision=2, suppress=True)\n",
    "pd.set_option(\"display.max_rows\", 7)\n",
    "pd.set_option(\"display.max_columns\", 8)\n",
    "pd.set_option(\"display.precision\", 2)\n",
    "\n",
    "from IPython.display import display, IFrame\n",
    "def show_def():\n",
    "    src = \"https://docs.google.com/presentation/d/e/2PACX-1vRKMMwGtrQOeLefj31fCtmbNOaJuKY32eBz1VwHi_5ui0AGYV3MoCjPUtQ_4SB1f9x4Iu6gbH0vFvmB/embed?start=false&loop=false&delayms=60000\"\n",
    "    width = 960 \n",
    "    height = 569\n",
    "    display(IFrame(src, width, height))"
   ]
  },
  {
   "cell_type": "markdown",
   "metadata": {
    "slideshow": {
     "slide_type": "slide"
    }
   },
   "source": [
    "# Lecture 9 – Functions and Apply\n",
    "\n",
    "## DSC 10, Fall 2022"
   ]
  },
  {
   "cell_type": "markdown",
   "metadata": {
    "slideshow": {
     "slide_type": "slide"
    }
   },
   "source": [
    "### Announcements\n",
    "\n",
    "- Lab 3 is due on **Saturday 10/15 at 11:59PM**.\n",
    "- Homework 3 is due on **Tuesday 10/18 at 11:59PM**.\n",
    "- The Midterm Project will be released one week from today – start thinking about who you may want to partner up with!\n",
    "    - You don't have to work with a partner.\n",
    "    - If you do, your partner doesn't have to be from your lecture section."
   ]
  },
  {
   "cell_type": "markdown",
   "metadata": {
    "slideshow": {
     "slide_type": "slide"
    }
   },
   "source": [
    "### Agenda\n",
    "\n",
    "- Functions.\n",
    "- Applying functions to DataFrames.\n",
    "- Example: Student names.\n",
    "\n",
    "**Reminder:** Use the [DSC 10 Reference Sheet](https://drive.google.com/file/d/1mQApk9Ovdi-QVqMgnNcq5dZcWucUKoG-/view). You can also use it on exams!"
   ]
  },
  {
   "cell_type": "markdown",
   "metadata": {
    "slideshow": {
     "slide_type": "slide"
    }
   },
   "source": [
    "## Functions"
   ]
  },
  {
   "cell_type": "markdown",
   "metadata": {
    "slideshow": {
     "slide_type": "slide"
    }
   },
   "source": [
    "### Defining functions\n",
    "* We've learned how to do quite a bit in Python:\n",
    "    * Manipulate arrays, Series, and DataFrames.\n",
    "    * Perform operations on strings.\n",
    "    * Create visualizations.\n",
    "* But so far, we've been restricted to using existing functions (e.g. `max`, `np.sqrt`, `len`) and methods (e.g. `.groupby`, `.assign`, `.plot`). "
   ]
  },
  {
   "cell_type": "markdown",
   "metadata": {
    "slideshow": {
     "slide_type": "slide"
    }
   },
   "source": [
    "### Motivation\n",
    "\n",
    "Suppose you drive to a restaurant 🥘 in LA, located exactly 100 miles away.\n",
    "\n",
    "- For the first 50 miles, you drive at 80 miles per hour.\n",
    "- For the last 50 miles, you drive at 60 miles per hour."
   ]
  },
  {
   "cell_type": "markdown",
   "metadata": {
    "slideshow": {
     "slide_type": "fragment"
    }
   },
   "source": [
    "- **Question:** What is your **average speed** throughout the journey?"
   ]
  },
  {
   "cell_type": "markdown",
   "metadata": {
    "slideshow": {
     "slide_type": "fragment"
    }
   },
   "source": [
    "- 🚨 The answer is not 70 miles per hour! Remember, from Homework 1, you need to use the fact that $\\text{speed} = \\frac{\\text{distance}}{\\text{time}}$."
   ]
  },
  {
   "cell_type": "markdown",
   "metadata": {
    "slideshow": {
     "slide_type": "slide"
    }
   },
   "source": [
    "$$\\text{average speed} = \\frac{\\text{distance}}{\\text{time}} = \\frac{50 + 50}{\\text{time}_1 + \\text{time}_2} \\text{ miles per hour}$$"
   ]
  },
  {
   "cell_type": "markdown",
   "metadata": {
    "slideshow": {
     "slide_type": "fragment"
    }
   },
   "source": [
    "In segment 1, when you drove 50 miles at 80 miles per hour, you drove for $\\frac{50}{80}$ hours:\n",
    "\n",
    "$$\\text{speed}_1 = \\frac{\\text{distance}_1}{\\text{time}_1}$$"
   ]
  },
  {
   "cell_type": "markdown",
   "metadata": {
    "slideshow": {
     "slide_type": "fragment"
    }
   },
   "source": [
    "$$80 \\text{ miles per hour} = \\frac{50 \\text{ miles}}{\\text{time}_1} \\implies \\text{time}_1 = \\frac{50}{80} \\text{ hours}$$"
   ]
  },
  {
   "cell_type": "markdown",
   "metadata": {
    "slideshow": {
     "slide_type": "fragment"
    }
   },
   "source": [
    "Similarly, in segment 2, when you drove 50 miles at 60 miles per hour, you drove for $\\text{time}_2 = \\frac{50}{60} \\text{ hours}$."
   ]
  },
  {
   "cell_type": "markdown",
   "metadata": {
    "slideshow": {
     "slide_type": "fragment"
    }
   },
   "source": [
    "Then,\n",
    "\n",
    "$$\\text{average speed} = \\frac{50 + 50}{\\frac{50}{80} + \\frac{50}{60}}  \\text{ miles per hour} $$"
   ]
  },
  {
   "cell_type": "markdown",
   "metadata": {
    "slideshow": {
     "slide_type": "fragment"
    }
   },
   "source": [
    "$$\\begin{align*}\\text{average speed} &= \\frac{50}{50} \\cdot \\frac{1 + 1}{\\frac{1}{80} + \\frac{1}{60}} \\text{ miles per hour} \\\\  &= \\frac{2}{\\frac{1}{80} + \\frac{1}{60}} \\text{ miles per hour} \\end{align*}$$"
   ]
  },
  {
   "cell_type": "markdown",
   "metadata": {
    "slideshow": {
     "slide_type": "slide"
    }
   },
   "source": [
    "### Example: Harmonic mean\n",
    "\n",
    "The **harmonic mean** ($\\text{HM}$) of two positive numbers, $a$ and $b$, is defined as\n",
    "\n",
    "$$\\text{HM} = \\frac{2}{\\frac{1}{a} + \\frac{1}{b}}$$\n",
    "\n",
    "It is often used to find the average of multiple **rates**."
   ]
  },
  {
   "cell_type": "markdown",
   "metadata": {
    "slideshow": {
     "slide_type": "fragment"
    }
   },
   "source": [
    "Finding the harmonic mean of 80 and 60 is not hard:"
   ]
  },
  {
   "cell_type": "code",
   "execution_count": 2,
   "metadata": {},
   "outputs": [
    {
     "data": {
      "text/plain": [
       "68.57142857142857"
      ]
     },
     "execution_count": 2,
     "metadata": {},
     "output_type": "execute_result"
    }
   ],
   "source": [
    "2 / (1 / 80 + 1 / 60)"
   ]
  },
  {
   "cell_type": "markdown",
   "metadata": {},
   "source": [
    "But what if we want to find the harmonic mean of 80 and 70? 80 and 90? 20 and 40? **This would require a lot of copy-pasting, which is prone to error.**"
   ]
  },
  {
   "cell_type": "markdown",
   "metadata": {
    "slideshow": {
     "slide_type": "slide"
    }
   },
   "source": [
    "It turns out that we can **define** our own \"harmonic mean\" **function** just once, and re-use it multiple times."
   ]
  },
  {
   "cell_type": "code",
   "execution_count": 3,
   "metadata": {},
   "outputs": [],
   "source": [
    "def harmonic_mean(a, b):\n",
    "    return 2 / (1 / a + 1 / b)"
   ]
  },
  {
   "cell_type": "code",
   "execution_count": 4,
   "metadata": {
    "scrolled": true
   },
   "outputs": [
    {
     "data": {
      "text/plain": [
       "68.57142857142857"
      ]
     },
     "execution_count": 4,
     "metadata": {},
     "output_type": "execute_result"
    }
   ],
   "source": [
    "harmonic_mean(80, 60)"
   ]
  },
  {
   "cell_type": "code",
   "execution_count": 5,
   "metadata": {},
   "outputs": [
    {
     "data": {
      "text/plain": [
       "26.666666666666664"
      ]
     },
     "execution_count": 5,
     "metadata": {},
     "output_type": "execute_result"
    }
   ],
   "source": [
    "harmonic_mean(20, 40)"
   ]
  },
  {
   "cell_type": "markdown",
   "metadata": {
    "slideshow": {
     "slide_type": "fragment"
    }
   },
   "source": [
    "Note that we only had to specify how to calculate the harmonic mean once!"
   ]
  },
  {
   "cell_type": "markdown",
   "metadata": {
    "slideshow": {
     "slide_type": "slide"
    }
   },
   "source": [
    "### Functions\n",
    "\n",
    "Functions are a way to divide our code into small subparts to prevent us from writing repetitive code. Each time we **define** our own function in Python, we will use the following pattern."
   ]
  },
  {
   "cell_type": "code",
   "execution_count": 6,
   "metadata": {},
   "outputs": [
    {
     "data": {
      "text/html": [
       "\n",
       "        <iframe\n",
       "            width=\"960\"\n",
       "            height=\"569\"\n",
       "            src=\"https://docs.google.com/presentation/d/e/2PACX-1vRKMMwGtrQOeLefj31fCtmbNOaJuKY32eBz1VwHi_5ui0AGYV3MoCjPUtQ_4SB1f9x4Iu6gbH0vFvmB/embed?start=false&loop=false&delayms=60000\"\n",
       "            frameborder=\"0\"\n",
       "            allowfullscreen\n",
       "        ></iframe>\n",
       "        "
      ],
      "text/plain": [
       "<IPython.lib.display.IFrame at 0x7fd19f8fbdf0>"
      ]
     },
     "metadata": {},
     "output_type": "display_data"
    }
   ],
   "source": [
    "show_def()"
   ]
  },
  {
   "cell_type": "markdown",
   "metadata": {
    "slideshow": {
     "slide_type": "slide"
    }
   },
   "source": [
    "### Functions are \"recipes\"\n",
    "\n",
    "- Functions take in inputs, known as **arguments**, do something, and produce some outputs.\n",
    "- The beauty of functions is that **you don't need to know how they are implemented in order to use them!**\n",
    "    - This is the premise of the idea of **abstraction** in computer science – you'll hear a lot about this in DSC 20."
   ]
  },
  {
   "cell_type": "code",
   "execution_count": 7,
   "metadata": {},
   "outputs": [
    {
     "data": {
      "text/plain": [
       "26.666666666666664"
      ]
     },
     "execution_count": 7,
     "metadata": {},
     "output_type": "execute_result"
    }
   ],
   "source": [
    "harmonic_mean(20, 40)"
   ]
  },
  {
   "cell_type": "code",
   "execution_count": 8,
   "metadata": {},
   "outputs": [
    {
     "data": {
      "text/plain": [
       "145.17163412127442"
      ]
     },
     "execution_count": 8,
     "metadata": {},
     "output_type": "execute_result"
    }
   ],
   "source": [
    "harmonic_mean(79, 894)"
   ]
  },
  {
   "cell_type": "code",
   "execution_count": 9,
   "metadata": {},
   "outputs": [
    {
     "data": {
      "text/plain": [
       "-8.0"
      ]
     },
     "execution_count": 9,
     "metadata": {},
     "output_type": "execute_result"
    }
   ],
   "source": [
    "harmonic_mean(-2, 4)"
   ]
  },
  {
   "cell_type": "markdown",
   "metadata": {
    "slideshow": {
     "slide_type": "slide"
    }
   },
   "source": [
    "### Parameters and arguments\n",
    "\n",
    "`triple` has one **parameter**, `x`."
   ]
  },
  {
   "cell_type": "code",
   "execution_count": 10,
   "metadata": {},
   "outputs": [],
   "source": [
    "def triple(x):\n",
    "    return x * 3"
   ]
  },
  {
   "cell_type": "markdown",
   "metadata": {},
   "source": [
    "When we call `triple` with the **argument** 5, you can pretend that there's an invisible first line in the body of `triple` that says `x = 5`."
   ]
  },
  {
   "cell_type": "code",
   "execution_count": 11,
   "metadata": {},
   "outputs": [
    {
     "data": {
      "text/plain": [
       "15"
      ]
     },
     "execution_count": 11,
     "metadata": {},
     "output_type": "execute_result"
    }
   ],
   "source": [
    "triple(5)"
   ]
  },
  {
   "cell_type": "markdown",
   "metadata": {
    "slideshow": {
     "slide_type": "fragment"
    }
   },
   "source": [
    "Note that arguments can be of any type!"
   ]
  },
  {
   "cell_type": "code",
   "execution_count": 12,
   "metadata": {},
   "outputs": [
    {
     "data": {
      "text/plain": [
       "'tritontritontriton'"
      ]
     },
     "execution_count": 12,
     "metadata": {},
     "output_type": "execute_result"
    }
   ],
   "source": [
    "triple('triton')"
   ]
  },
  {
   "cell_type": "markdown",
   "metadata": {
    "slideshow": {
     "slide_type": "slide"
    }
   },
   "source": [
    "### Functions can take 0 or more arguments\n",
    "\n",
    "Functions can have any number of arguments. So far, we've created a function that takes two arguments – `harmonic_mean` – and a function that takes one argument – `triple`."
   ]
  },
  {
   "cell_type": "markdown",
   "metadata": {
    "slideshow": {
     "slide_type": "fragment"
    }
   },
   "source": [
    "`greeting` takes no arguments!"
   ]
  },
  {
   "cell_type": "code",
   "execution_count": 13,
   "metadata": {
    "slideshow": {
     "slide_type": "-"
    }
   },
   "outputs": [],
   "source": [
    "def greeting():\n",
    "    return 'Hi! 👋'"
   ]
  },
  {
   "cell_type": "code",
   "execution_count": 14,
   "metadata": {},
   "outputs": [
    {
     "data": {
      "text/plain": [
       "'Hi! 👋'"
      ]
     },
     "execution_count": 14,
     "metadata": {},
     "output_type": "execute_result"
    }
   ],
   "source": [
    "greeting()"
   ]
  },
  {
   "cell_type": "markdown",
   "metadata": {
    "slideshow": {
     "slide_type": "slide"
    }
   },
   "source": [
    "### Functions don't run until you call them!\n",
    "\n",
    "The body of a function is not run until you use (**call**) the function.\n",
    "\n",
    "Here, we can define `where_is_the_error` without seeing an error message. "
   ]
  },
  {
   "cell_type": "code",
   "execution_count": 18,
   "metadata": {},
   "outputs": [],
   "source": [
    "def where_is_the_error(something):\n",
    "    '''You can describe your function within triple quotes. '''\n",
    "    return (1 / 0) + something"
   ]
  },
  {
   "cell_type": "markdown",
   "metadata": {},
   "source": [
    "It is only when we **call** `where_is_the_error` that Python gives us an error message."
   ]
  },
  {
   "cell_type": "code",
   "execution_count": 22,
   "metadata": {
    "tags": [
     "raises-exception"
    ]
   },
   "outputs": [
    {
     "name": "stdout",
     "output_type": "stream",
     "text": [
      "Help on function where_is_the_error in module __main__:\n",
      "\n",
      "where_is_the_error(something)\n",
      "    You can describe your function within triple quotes.\n",
      "\n"
     ]
    }
   ],
   "source": [
    "help(where_is_the_error)"
   ]
  },
  {
   "cell_type": "markdown",
   "metadata": {
    "slideshow": {
     "slide_type": "slide"
    }
   },
   "source": [
    "### Example: `first_name`\n",
    "\n",
    "Let's create a function called `first_name` that takes in someone's full name and returns their first name. Example behavior is shown below.\n",
    "```py\n",
    ">>> first_name('Pradeep Khosla')\n",
    "'Pradeep'\n",
    "```\n",
    "*Hint*: Use the string method `.split`."
   ]
  },
  {
   "cell_type": "markdown",
   "metadata": {
    "slideshow": {
     "slide_type": "fragment"
    }
   },
   "source": [
    "General strategy for writing functions: \n",
    "1. First, try and get the behavior to work on a single example. \n",
    "2. Then, encapsulate that behavior inside a function."
   ]
  },
  {
   "cell_type": "code",
   "execution_count": 23,
   "metadata": {},
   "outputs": [
    {
     "data": {
      "text/plain": [
       "'Pradeep'"
      ]
     },
     "execution_count": 23,
     "metadata": {},
     "output_type": "execute_result"
    }
   ],
   "source": [
    "'Pradeep Khosla'.split(' ')[0]"
   ]
  },
  {
   "cell_type": "code",
   "execution_count": 24,
   "metadata": {},
   "outputs": [],
   "source": [
    "def first_name(full_name):\n",
    "    '''Returns the first name given a full name.'''\n",
    "    return full_name.split(' ')[0]"
   ]
  },
  {
   "cell_type": "code",
   "execution_count": 25,
   "metadata": {},
   "outputs": [
    {
     "data": {
      "text/plain": [
       "'Pradeep'"
      ]
     },
     "execution_count": 25,
     "metadata": {},
     "output_type": "execute_result"
    }
   ],
   "source": [
    "first_name('Pradeep Khosla')"
   ]
  },
  {
   "cell_type": "code",
   "execution_count": 26,
   "metadata": {},
   "outputs": [
    {
     "data": {
      "text/plain": [
       "'Chancellor'"
      ]
     },
     "execution_count": 26,
     "metadata": {},
     "output_type": "execute_result"
    }
   ],
   "source": [
    "# What if there are three names?\n",
    "first_name('Chancellor Pradeep Khosla')"
   ]
  },
  {
   "cell_type": "markdown",
   "metadata": {
    "slideshow": {
     "slide_type": "slide"
    }
   },
   "source": [
    "### Returning\n",
    "\n",
    "- The `return` keyword specifies what the output of your function should be, i.e. what a call to your function will evaluate to.\n",
    "- Most functions we write will use `return`, but using `return` is not required.\n",
    "- Be careful: `print` and `return` work differently!"
   ]
  },
  {
   "cell_type": "code",
   "execution_count": 27,
   "metadata": {},
   "outputs": [],
   "source": [
    "def pythagorean(a, b):\n",
    "    '''Computes the hypotenuse length of a triangle with legs a and b.'''\n",
    "    c = (a ** 2 + b ** 2) ** 0.5\n",
    "    print(c)"
   ]
  },
  {
   "cell_type": "code",
   "execution_count": 28,
   "metadata": {},
   "outputs": [
    {
     "name": "stdout",
     "output_type": "stream",
     "text": [
      "5.0\n"
     ]
    }
   ],
   "source": [
    "x = pythagorean(3, 4)"
   ]
  },
  {
   "cell_type": "code",
   "execution_count": 29,
   "metadata": {},
   "outputs": [],
   "source": [
    "# No output – why?\n",
    "x"
   ]
  },
  {
   "cell_type": "code",
   "execution_count": 30,
   "metadata": {
    "tags": [
     "raises-exception"
    ]
   },
   "outputs": [
    {
     "ename": "TypeError",
     "evalue": "unsupported operand type(s) for +: 'NoneType' and 'int'",
     "output_type": "error",
     "traceback": [
      "\u001b[0;31m---------------------------------------------------------------------------\u001b[0m",
      "\u001b[0;31mTypeError\u001b[0m                                 Traceback (most recent call last)",
      "\u001b[0;32m/tmp/ipykernel_193/3707561498.py\u001b[0m in \u001b[0;36m<module>\u001b[0;34m\u001b[0m\n\u001b[1;32m      1\u001b[0m \u001b[0;31m# Errors – why?\u001b[0m\u001b[0;34m\u001b[0m\u001b[0;34m\u001b[0m\u001b[0;34m\u001b[0m\u001b[0m\n\u001b[0;32m----> 2\u001b[0;31m \u001b[0mx\u001b[0m \u001b[0;34m+\u001b[0m \u001b[0;36m10\u001b[0m\u001b[0;34m\u001b[0m\u001b[0;34m\u001b[0m\u001b[0m\n\u001b[0m",
      "\u001b[0;31mTypeError\u001b[0m: unsupported operand type(s) for +: 'NoneType' and 'int'"
     ]
    }
   ],
   "source": [
    "# Errors – why?\n",
    "x + 10"
   ]
  },
  {
   "cell_type": "code",
   "execution_count": 31,
   "metadata": {
    "slideshow": {
     "slide_type": "slide"
    }
   },
   "outputs": [],
   "source": [
    "def better_pythagorean(a, b):\n",
    "    '''Computes the hypotenuse length of a triangle with legs a and b, and actually returns the result.'''\n",
    "    c = (a ** 2 + b ** 2) ** 0.5\n",
    "    return c"
   ]
  },
  {
   "cell_type": "code",
   "execution_count": 32,
   "metadata": {},
   "outputs": [
    {
     "data": {
      "text/plain": [
       "5.0"
      ]
     },
     "execution_count": 32,
     "metadata": {},
     "output_type": "execute_result"
    }
   ],
   "source": [
    "x = better_pythagorean(3, 4)\n",
    "x"
   ]
  },
  {
   "cell_type": "code",
   "execution_count": 33,
   "metadata": {},
   "outputs": [
    {
     "data": {
      "text/plain": [
       "15.0"
      ]
     },
     "execution_count": 33,
     "metadata": {},
     "output_type": "execute_result"
    }
   ],
   "source": [
    "x + 10"
   ]
  },
  {
   "cell_type": "markdown",
   "metadata": {
    "slideshow": {
     "slide_type": "slide"
    }
   },
   "source": [
    "### Returning\n",
    "Once a function executes a `return` statement, it stops running."
   ]
  },
  {
   "cell_type": "code",
   "execution_count": 34,
   "metadata": {},
   "outputs": [],
   "source": [
    "def motivational(quote):\n",
    "    return 0\n",
    "    print(\"Here's a motivational quote:\", quote)"
   ]
  },
  {
   "cell_type": "code",
   "execution_count": 35,
   "metadata": {},
   "outputs": [
    {
     "data": {
      "text/plain": [
       "0"
      ]
     },
     "execution_count": 35,
     "metadata": {},
     "output_type": "execute_result"
    }
   ],
   "source": [
    "motivational('Fall seven times and stand up eight.')"
   ]
  },
  {
   "cell_type": "markdown",
   "metadata": {
    "slideshow": {
     "slide_type": "slide"
    }
   },
   "source": [
    "### Scope 🩺\n",
    "\n",
    "The names you choose for a function’s parameters are only known to that function (known as **local scope**). The rest of your notebook is unaffected by parameter names."
   ]
  },
  {
   "cell_type": "code",
   "execution_count": 42,
   "metadata": {},
   "outputs": [],
   "source": [
    "def what_is_awesome(s):\n",
    "    return s + ' is awesome!'"
   ]
  },
  {
   "cell_type": "code",
   "execution_count": 43,
   "metadata": {},
   "outputs": [
    {
     "data": {
      "text/plain": [
       "'data science is awesome!'"
      ]
     },
     "execution_count": 43,
     "metadata": {},
     "output_type": "execute_result"
    }
   ],
   "source": [
    "what_is_awesome('data science')"
   ]
  },
  {
   "cell_type": "code",
   "execution_count": 50,
   "metadata": {},
   "outputs": [
    {
     "ename": "NameError",
     "evalue": "name 'sd' is not defined",
     "output_type": "error",
     "traceback": [
      "\u001b[0;31m---------------------------------------------------------------------------\u001b[0m",
      "\u001b[0;31mNameError\u001b[0m                                 Traceback (most recent call last)",
      "\u001b[0;32m/tmp/ipykernel_193/909941642.py\u001b[0m in \u001b[0;36m<module>\u001b[0;34m\u001b[0m\n\u001b[0;32m----> 1\u001b[0;31m \u001b[0msd\u001b[0m\u001b[0;34m\u001b[0m\u001b[0;34m\u001b[0m\u001b[0m\n\u001b[0m",
      "\u001b[0;31mNameError\u001b[0m: name 'sd' is not defined"
     ]
    }
   ],
   "source": [
    "sd"
   ]
  },
  {
   "cell_type": "code",
   "execution_count": 51,
   "metadata": {},
   "outputs": [],
   "source": [
    "sd = 'DSC 10'"
   ]
  },
  {
   "cell_type": "code",
   "execution_count": 53,
   "metadata": {},
   "outputs": [
    {
     "data": {
      "text/plain": [
       "2"
      ]
     },
     "execution_count": 53,
     "metadata": {},
     "output_type": "execute_result"
    }
   ],
   "source": [
    "#what_is_awesome('data science')\n",
    "\n",
    "\n",
    "x=2\n",
    "def ex():\n",
    "    return x\n",
    "ex()"
   ]
  },
  {
   "cell_type": "markdown",
   "metadata": {
    "slideshow": {
     "slide_type": "slide"
    }
   },
   "source": [
    "## Applying functions to DataFrames"
   ]
  },
  {
   "cell_type": "markdown",
   "metadata": {
    "slideshow": {
     "slide_type": "slide"
    }
   },
   "source": [
    "### DSC 10 student data\n",
    "\n",
    "The DataFrame `roster` contains the names and lecture sections of all students enrolled in DSC 10 this quarter. The first names are real, while the last names have been anonymized for privacy."
   ]
  },
  {
   "cell_type": "code",
   "execution_count": 59,
   "metadata": {
    "scrolled": false
   },
   "outputs": [
    {
     "data": {
      "text/plain": [
       "0       Levy Dmxsqj\n",
       "1      Aiden Nyozzx\n",
       "2      Sruti Fivolq\n",
       "           ...     \n",
       "408     Leni Hlfjhh\n",
       "409     Dory Xaghsk\n",
       "410    Laura Xfqwzu\n",
       "Name: name, Length: 411, dtype: object"
      ]
     },
     "execution_count": 59,
     "metadata": {},
     "output_type": "execute_result"
    }
   ],
   "source": [
    "roster = bpd.read_csv('data/roster-anon.csv')\n",
    "roster.get('name')."
   ]
  },
  {
   "cell_type": "markdown",
   "metadata": {
    "slideshow": {
     "slide_type": "slide"
    }
   },
   "source": [
    "### Example: Common first names\n",
    "\n",
    "What is the most common first name among DSC 10 students? (Any guesses?)"
   ]
  },
  {
   "cell_type": "code",
   "execution_count": 60,
   "metadata": {},
   "outputs": [
    {
     "data": {
      "text/html": [
       "<div>\n",
       "<style scoped>\n",
       "    .dataframe tbody tr th:only-of-type {\n",
       "        vertical-align: middle;\n",
       "    }\n",
       "\n",
       "    .dataframe tbody tr th {\n",
       "        vertical-align: top;\n",
       "    }\n",
       "\n",
       "    .dataframe thead th {\n",
       "        text-align: right;\n",
       "    }\n",
       "</style>\n",
       "<table border=\"1\" class=\"dataframe\">\n",
       "  <thead>\n",
       "    <tr style=\"text-align: right;\">\n",
       "      <th></th>\n",
       "      <th>name</th>\n",
       "      <th>section</th>\n",
       "    </tr>\n",
       "  </thead>\n",
       "  <tbody>\n",
       "    <tr>\n",
       "      <th>0</th>\n",
       "      <td>Levy Dmxsqj</td>\n",
       "      <td>11AM</td>\n",
       "    </tr>\n",
       "    <tr>\n",
       "      <th>1</th>\n",
       "      <td>Aiden Nyozzx</td>\n",
       "      <td>1PM</td>\n",
       "    </tr>\n",
       "    <tr>\n",
       "      <th>2</th>\n",
       "      <td>Sruti Fivolq</td>\n",
       "      <td>12PM</td>\n",
       "    </tr>\n",
       "    <tr>\n",
       "      <th>...</th>\n",
       "      <td>...</td>\n",
       "      <td>...</td>\n",
       "    </tr>\n",
       "    <tr>\n",
       "      <th>408</th>\n",
       "      <td>Leni Hlfjhh</td>\n",
       "      <td>11AM</td>\n",
       "    </tr>\n",
       "    <tr>\n",
       "      <th>409</th>\n",
       "      <td>Dory Xaghsk</td>\n",
       "      <td>1PM</td>\n",
       "    </tr>\n",
       "    <tr>\n",
       "      <th>410</th>\n",
       "      <td>Laura Xfqwzu</td>\n",
       "      <td>11AM</td>\n",
       "    </tr>\n",
       "  </tbody>\n",
       "</table>\n",
       "<p>411 rows × 2 columns</p>\n",
       "</div>"
      ],
      "text/plain": [
       "             name section\n",
       "0     Levy Dmxsqj    11AM\n",
       "1    Aiden Nyozzx     1PM\n",
       "2    Sruti Fivolq    12PM\n",
       "..            ...     ...\n",
       "408   Leni Hlfjhh    11AM\n",
       "409   Dory Xaghsk     1PM\n",
       "410  Laura Xfqwzu    11AM\n",
       "\n",
       "[411 rows x 2 columns]"
      ]
     },
     "execution_count": 60,
     "metadata": {},
     "output_type": "execute_result"
    }
   ],
   "source": [
    "roster"
   ]
  },
  {
   "cell_type": "markdown",
   "metadata": {
    "slideshow": {
     "slide_type": "fragment"
    }
   },
   "source": [
    "- **Problem**: We can't answer that right now, since we don't have a column with first names. If we did, we could group by it.\n",
    "\n"
   ]
  },
  {
   "cell_type": "markdown",
   "metadata": {
    "slideshow": {
     "slide_type": "fragment"
    }
   },
   "source": [
    "- **Solution**: Use our function that extracts first names on _every_ element of the `'name'` column."
   ]
  },
  {
   "cell_type": "markdown",
   "metadata": {
    "slideshow": {
     "slide_type": "slide"
    }
   },
   "source": [
    "### Using our `first_name` function\n",
    "\n",
    "Somehow, we need to call `first_name` on every student's `'name'`."
   ]
  },
  {
   "cell_type": "code",
   "execution_count": 61,
   "metadata": {
    "scrolled": false
   },
   "outputs": [
    {
     "data": {
      "text/html": [
       "<div>\n",
       "<style scoped>\n",
       "    .dataframe tbody tr th:only-of-type {\n",
       "        vertical-align: middle;\n",
       "    }\n",
       "\n",
       "    .dataframe tbody tr th {\n",
       "        vertical-align: top;\n",
       "    }\n",
       "\n",
       "    .dataframe thead th {\n",
       "        text-align: right;\n",
       "    }\n",
       "</style>\n",
       "<table border=\"1\" class=\"dataframe\">\n",
       "  <thead>\n",
       "    <tr style=\"text-align: right;\">\n",
       "      <th></th>\n",
       "      <th>name</th>\n",
       "      <th>section</th>\n",
       "    </tr>\n",
       "  </thead>\n",
       "  <tbody>\n",
       "    <tr>\n",
       "      <th>0</th>\n",
       "      <td>Levy Dmxsqj</td>\n",
       "      <td>11AM</td>\n",
       "    </tr>\n",
       "    <tr>\n",
       "      <th>1</th>\n",
       "      <td>Aiden Nyozzx</td>\n",
       "      <td>1PM</td>\n",
       "    </tr>\n",
       "    <tr>\n",
       "      <th>2</th>\n",
       "      <td>Sruti Fivolq</td>\n",
       "      <td>12PM</td>\n",
       "    </tr>\n",
       "    <tr>\n",
       "      <th>...</th>\n",
       "      <td>...</td>\n",
       "      <td>...</td>\n",
       "    </tr>\n",
       "    <tr>\n",
       "      <th>408</th>\n",
       "      <td>Leni Hlfjhh</td>\n",
       "      <td>11AM</td>\n",
       "    </tr>\n",
       "    <tr>\n",
       "      <th>409</th>\n",
       "      <td>Dory Xaghsk</td>\n",
       "      <td>1PM</td>\n",
       "    </tr>\n",
       "    <tr>\n",
       "      <th>410</th>\n",
       "      <td>Laura Xfqwzu</td>\n",
       "      <td>11AM</td>\n",
       "    </tr>\n",
       "  </tbody>\n",
       "</table>\n",
       "<p>411 rows × 2 columns</p>\n",
       "</div>"
      ],
      "text/plain": [
       "             name section\n",
       "0     Levy Dmxsqj    11AM\n",
       "1    Aiden Nyozzx     1PM\n",
       "2    Sruti Fivolq    12PM\n",
       "..            ...     ...\n",
       "408   Leni Hlfjhh    11AM\n",
       "409   Dory Xaghsk     1PM\n",
       "410  Laura Xfqwzu    11AM\n",
       "\n",
       "[411 rows x 2 columns]"
      ]
     },
     "execution_count": 61,
     "metadata": {},
     "output_type": "execute_result"
    }
   ],
   "source": [
    "roster"
   ]
  },
  {
   "cell_type": "code",
   "execution_count": 62,
   "metadata": {
    "scrolled": true
   },
   "outputs": [
    {
     "data": {
      "text/plain": [
       "'Levy Dmxsqj'"
      ]
     },
     "execution_count": 62,
     "metadata": {},
     "output_type": "execute_result"
    }
   ],
   "source": [
    "roster.get('name').iloc[0]"
   ]
  },
  {
   "cell_type": "code",
   "execution_count": 63,
   "metadata": {},
   "outputs": [
    {
     "data": {
      "text/plain": [
       "'Levy'"
      ]
     },
     "execution_count": 63,
     "metadata": {},
     "output_type": "execute_result"
    }
   ],
   "source": [
    "first_name(roster.get('name').iloc[0])"
   ]
  },
  {
   "cell_type": "code",
   "execution_count": 64,
   "metadata": {},
   "outputs": [
    {
     "data": {
      "text/plain": [
       "'Aiden'"
      ]
     },
     "execution_count": 64,
     "metadata": {},
     "output_type": "execute_result"
    }
   ],
   "source": [
    "first_name(roster.get('name').iloc[1])"
   ]
  },
  {
   "cell_type": "markdown",
   "metadata": {},
   "source": [
    "Ideally, there's a better solution than doing this 411 times..."
   ]
  },
  {
   "cell_type": "markdown",
   "metadata": {
    "slideshow": {
     "slide_type": "slide"
    }
   },
   "source": [
    "### `.apply`\n",
    "\n",
    "- To **apply** a function to every element of column `column_name` in DataFrame `df`, use\n",
    "\n",
    "<br>\n",
    "\n",
    "<center><code>df.get(column_name).apply(function_name)</code></center>"
   ]
  },
  {
   "cell_type": "markdown",
   "metadata": {
    "slideshow": {
     "slide_type": "fragment"
    }
   },
   "source": [
    "- The `.apply` method is a **Series** method.\n",
    "    - **Important:** We use `.apply` on Series, **not** DataFrames.\n",
    "    - The output of `.apply` is also a Series."
   ]
  },
  {
   "cell_type": "markdown",
   "metadata": {
    "slideshow": {
     "slide_type": "fragment"
    }
   },
   "source": [
    "- Pass _just the name_ of the function – don't call it!\n",
    "    - Good ✅: `.apply(first_name)`.\n",
    "    - Bad ❌: `.apply(first_name())`."
   ]
  },
  {
   "cell_type": "code",
   "execution_count": 65,
   "metadata": {
    "scrolled": true,
    "slideshow": {
     "slide_type": "fragment"
    }
   },
   "outputs": [
    {
     "data": {
      "text/plain": [
       "0       Levy\n",
       "1      Aiden\n",
       "2      Sruti\n",
       "       ...  \n",
       "408     Leni\n",
       "409     Dory\n",
       "410    Laura\n",
       "Name: name, Length: 411, dtype: object"
      ]
     },
     "execution_count": 65,
     "metadata": {},
     "output_type": "execute_result"
    }
   ],
   "source": [
    "roster.get('name').apply(first_name)"
   ]
  },
  {
   "cell_type": "code",
   "execution_count": 66,
   "metadata": {},
   "outputs": [
    {
     "data": {
      "text/html": [
       "\n",
       "<div class=\"pt-viz\" id=\"pt-viz-0\"></div>\n",
       "<script>\n",
       "drawWsv('#pt-viz-0', \"{\\n  \\\"code\\\": \\\"\\\\nroster.get('name').apply(first_name)\\\\n\\\",\\n  \\\"explanation\\\": [\\n    {\\n      \\\"type\\\": \\\"GetCall\\\",\\n      \\\"code_step\\\": \\\"roster.get('name').apply(first_name)\\\",\\n      \\\"fragment\\\": {\\n        \\\"start\\\": {\\n          \\\"line\\\": 0,\\n          \\\"ch\\\": 6\\n        },\\n        \\\"end\\\": {\\n          \\\"line\\\": 0,\\n          \\\"ch\\\": 18\\n        }\\n      },\\n      \\\"marks\\\": [\\n        {\\n          \\\"type\\\": \\\"map\\\",\\n          \\\"from\\\": {\\n            \\\"type\\\": \\\"axis\\\",\\n            \\\"anchor\\\": \\\"lhs\\\",\\n            \\\"select\\\": \\\"column\\\",\\n            \\\"label\\\": \\\"name\\\"\\n          },\\n          \\\"to\\\": {\\n            \\\"type\\\": \\\"series\\\",\\n            \\\"anchor\\\": \\\"rhs\\\",\\n            \\\"label\\\": \\\"pandas.Series\\\"\\n          }\\n        }\\n      ],\\n      \\\"data\\\": {\\n        \\\"lhs\\\": {\\n          \\\"type\\\": \\\"DataFrame\\\",\\n          \\\"columns\\\": {\\n            \\\"names\\\": [\\n              null\\n            ],\\n            \\\"labels\\\": [\\n              \\\"name\\\",\\n              \\\"section\\\"\\n            ]\\n          },\\n          \\\"index\\\": {\\n            \\\"names\\\": [\\n              null\\n            ],\\n            \\\"labels\\\": [\\n              0,\\n              1,\\n              2,\\n              3,\\n              4,\\n              5,\\n              6,\\n              7,\\n              8,\\n              9,\\n              10,\\n              11,\\n              12,\\n              13,\\n              14,\\n              15,\\n              16,\\n              17,\\n              18,\\n              19,\\n              20,\\n              21,\\n              22,\\n              23,\\n              24,\\n              25,\\n              26,\\n              27,\\n              28,\\n              29,\\n              30,\\n              31,\\n              32,\\n              33,\\n              34,\\n              35,\\n              36,\\n              37,\\n              38,\\n              39,\\n              40,\\n              41,\\n              42,\\n              43,\\n              44,\\n              45,\\n              46,\\n              47,\\n              48,\\n              49,\\n              50,\\n              51,\\n              52,\\n              53,\\n              54,\\n              55,\\n              56,\\n              57,\\n              58,\\n              59,\\n              60,\\n              61,\\n              62,\\n              63,\\n              64,\\n              65,\\n              66,\\n              67,\\n              68,\\n              69,\\n              70,\\n              71,\\n              72,\\n              73,\\n              74,\\n              75,\\n              76,\\n              77,\\n              78,\\n              79,\\n              80,\\n              81,\\n              82,\\n              83,\\n              84,\\n              85,\\n              86,\\n              87,\\n              88,\\n              89,\\n              90,\\n              91,\\n              92,\\n              93,\\n              94,\\n              95,\\n              96,\\n              97,\\n              98,\\n              99,\\n              100,\\n              101,\\n              102,\\n              103,\\n              104,\\n              105,\\n              106,\\n              107,\\n              108,\\n              109,\\n              110,\\n              111,\\n              112,\\n              113,\\n              114,\\n              115,\\n              116,\\n              117,\\n              118,\\n              119,\\n              120,\\n              121,\\n              122,\\n              123,\\n              124,\\n              125,\\n              126,\\n              127,\\n              128,\\n              129,\\n              130,\\n              131,\\n              132,\\n              133,\\n              134,\\n              135,\\n              136,\\n              137,\\n              138,\\n              139,\\n              140,\\n              141,\\n              142,\\n              143,\\n              144,\\n              145,\\n              146,\\n              147,\\n              148,\\n              149,\\n              150,\\n              151,\\n              152,\\n              153,\\n              154,\\n              155,\\n              156,\\n              157,\\n              158,\\n              159,\\n              160,\\n              161,\\n              162,\\n              163,\\n              164,\\n              165,\\n              166,\\n              167,\\n              168,\\n              169,\\n              170,\\n              171,\\n              172,\\n              173,\\n              174,\\n              175,\\n              176,\\n              177,\\n              178,\\n              179,\\n              180,\\n              181,\\n              182,\\n              183,\\n              184,\\n              185,\\n              186,\\n              187,\\n              188,\\n              189,\\n              190,\\n              191,\\n              192,\\n              193,\\n              194,\\n              195,\\n              196,\\n              197,\\n              198,\\n              199,\\n              200,\\n              201,\\n              202,\\n              203,\\n              204,\\n              205,\\n              206,\\n              207,\\n              208,\\n              209,\\n              210,\\n              211,\\n              212,\\n              213,\\n              214,\\n              215,\\n              216,\\n              217,\\n              218,\\n              219,\\n              220,\\n              221,\\n              222,\\n              223,\\n              224,\\n              225,\\n              226,\\n              227,\\n              228,\\n              229,\\n              230,\\n              231,\\n              232,\\n              233,\\n              234,\\n              235,\\n              236,\\n              237,\\n              238,\\n              239,\\n              240,\\n              241,\\n              242,\\n              243,\\n              244,\\n              245,\\n              246,\\n              247,\\n              248,\\n              249,\\n              250,\\n              251,\\n              252,\\n              253,\\n              254,\\n              255,\\n              256,\\n              257,\\n              258,\\n              259,\\n              260,\\n              261,\\n              262,\\n              263,\\n              264,\\n              265,\\n              266,\\n              267,\\n              268,\\n              269,\\n              270,\\n              271,\\n              272,\\n              273,\\n              274,\\n              275,\\n              276,\\n              277,\\n              278,\\n              279,\\n              280,\\n              281,\\n              282,\\n              283,\\n              284,\\n              285,\\n              286,\\n              287,\\n              288,\\n              289,\\n              290,\\n              291,\\n              292,\\n              293,\\n              294,\\n              295,\\n              296,\\n              297,\\n              298,\\n              299,\\n              300,\\n              301,\\n              302,\\n              303,\\n              304,\\n              305,\\n              306,\\n              307,\\n              308,\\n              309,\\n              310,\\n              311,\\n              312,\\n              313,\\n              314,\\n              315,\\n              316,\\n              317,\\n              318,\\n              319,\\n              320,\\n              321,\\n              322,\\n              323,\\n              324,\\n              325,\\n              326,\\n              327,\\n              328,\\n              329,\\n              330,\\n              331,\\n              332,\\n              333,\\n              334,\\n              335,\\n              336,\\n              337,\\n              338,\\n              339,\\n              340,\\n              341,\\n              342,\\n              343,\\n              344,\\n              345,\\n              346,\\n              347,\\n              348,\\n              349,\\n              350,\\n              351,\\n              352,\\n              353,\\n              354,\\n              355,\\n              356,\\n              357,\\n              358,\\n              359,\\n              360,\\n              361,\\n              362,\\n              363,\\n              364,\\n              365,\\n              366,\\n              367,\\n              368,\\n              369,\\n              370,\\n              371,\\n              372,\\n              373,\\n              374,\\n              375,\\n              376,\\n              377,\\n              378,\\n              379,\\n              380,\\n              381,\\n              382,\\n              383,\\n              384,\\n              385,\\n              386,\\n              387,\\n              388,\\n              389,\\n              390,\\n              391,\\n              392,\\n              393,\\n              394,\\n              395,\\n              396,\\n              397,\\n              398,\\n              399,\\n              400,\\n              401,\\n              402,\\n              403,\\n              404,\\n              405,\\n              406,\\n              407,\\n              408,\\n              409,\\n              410\\n            ]\\n          },\\n          \\\"data\\\": [\\n            [\\n              \\\"Levy Dmxsqj\\\",\\n              \\\"11AM\\\"\\n            ],\\n            [\\n              \\\"Aiden Nyozzx\\\",\\n              \\\"1PM\\\"\\n            ],\\n            [\\n              \\\"Sruti Fivolq\\\",\\n              \\\"12PM\\\"\\n            ],\\n            [\\n              \\\"Huishan Zvnfcr\\\",\\n              \\\"1PM\\\"\\n            ],\\n            [\\n              \\\"Andrew Lxrtsl\\\",\\n              \\\"12PM\\\"\\n            ],\\n            [\\n              \\\"Hikaru Rmkxxh\\\",\\n              \\\"11AM\\\"\\n            ],\\n            [\\n              \\\"Haohan Faoqnc\\\",\\n              \\\"12PM\\\"\\n            ],\\n            [\\n              \\\"Shangqi Mfyohz\\\",\\n              \\\"12PM\\\"\\n            ],\\n            [\\n              \\\"Kyra Hbskdy\\\",\\n              \\\"10AM\\\"\\n            ],\\n            [\\n              \\\"Minsang Uusxyq\\\",\\n              \\\"10AM\\\"\\n            ],\\n            [\\n              \\\"Ciro Rwhksx\\\",\\n              \\\"10AM\\\"\\n            ],\\n            [\\n              \\\"Calwin Yseqvp\\\",\\n              \\\"10AM\\\"\\n            ],\\n            [\\n              \\\"Lebin Swarww\\\",\\n              \\\"10AM\\\"\\n            ],\\n            [\\n              \\\"Abjith Casmeb\\\",\\n              \\\"1PM\\\"\\n            ],\\n            [\\n              \\\"Natasha Wrrwsy\\\",\\n              \\\"11AM\\\"\\n            ],\\n            [\\n              \\\"Vishwak Cjddea\\\",\\n              \\\"10AM\\\"\\n            ],\\n            [\\n              \\\"Zoya Kchqlf\\\",\\n              \\\"11AM\\\"\\n            ],\\n            [\\n              \\\"Yanqiao Fdvdgq\\\",\\n              \\\"12PM\\\"\\n            ],\\n            [\\n              \\\"Sia Mlcasx\\\",\\n              \\\"11AM\\\"\\n            ],\\n            [\\n              \\\"Katie Kiqxab\\\",\\n              \\\"11AM\\\"\\n            ],\\n            [\\n              \\\"Zakaraya Hnuhdj\\\",\\n              \\\"1PM\\\"\\n            ],\\n            [\\n              \\\"Eli Bdkgsu\\\",\\n              \\\"10AM\\\"\\n            ],\\n            [\\n              \\\"Sylvia Hlvwpr\\\",\\n              \\\"10AM\\\"\\n            ],\\n            [\\n              \\\"Jesse Cgcgit\\\",\\n              \\\"1PM\\\"\\n            ],\\n            [\\n              \\\"Ashley Jnrvhz\\\",\\n              \\\"10AM\\\"\\n            ],\\n            [\\n              \\\"Paul Jxgoxj\\\",\\n              \\\"12PM\\\"\\n            ],\\n            [\\n              \\\"Emily Fcylkh\\\",\\n              \\\"1PM\\\"\\n            ],\\n            [\\n              \\\"Andy Zzkhjj\\\",\\n              \\\"11AM\\\"\\n            ],\\n            [\\n              \\\"Kevin Wphdws\\\",\\n              \\\"10AM\\\"\\n            ],\\n            [\\n              \\\"Dhruv Vgwpkh\\\",\\n              \\\"1PM\\\"\\n            ],\\n            [\\n              \\\"Carmen Sparnu\\\",\\n              \\\"1PM\\\"\\n            ],\\n            [\\n              \\\"Caleb Dbyewc\\\",\\n              \\\"10AM\\\"\\n            ],\\n            [\\n              \\\"Anish Tyljgw\\\",\\n              \\\"10AM\\\"\\n            ],\\n            [\\n              \\\"Walter Nhomlo\\\",\\n              \\\"1PM\\\"\\n            ],\\n            [\\n              \\\"Justin Lyrfrf\\\",\\n              \\\"11AM\\\"\\n            ],\\n            [\\n              \\\"Cong Ubpurw\\\",\\n              \\\"1PM\\\"\\n            ],\\n            [\\n              \\\"Krish Csobrx\\\",\\n              \\\"10AM\\\"\\n            ],\\n            [\\n              \\\"Adrian Yombcy\\\",\\n              \\\"10AM\\\"\\n            ],\\n            [\\n              \\\"Caleb Bfwuym\\\",\\n              \\\"11AM\\\"\\n            ],\\n            [\\n              \\\"Ethan Dpcred\\\",\\n              \\\"1PM\\\"\\n            ],\\n            [\\n              \\\"Justin Plbevg\\\",\\n              \\\"11AM\\\"\\n            ],\\n            [\\n              \\\"Amelia Toiwpu\\\",\\n              \\\"10AM\\\"\\n            ],\\n            [\\n              \\\"Jingmin Oqmszp\\\",\\n              \\\"12PM\\\"\\n            ],\\n            [\\n              \\\"Jevan Ydkezw\\\",\\n              \\\"1PM\\\"\\n            ],\\n            [\\n              \\\"Junyue Ttbvkg\\\",\\n              \\\"12PM\\\"\\n            ],\\n            [\\n              \\\"Bernie Gogqrz\\\",\\n              \\\"10AM\\\"\\n            ],\\n            [\\n              \\\"Alyssa Yurjsz\\\",\\n              \\\"10AM\\\"\\n            ],\\n            [\\n              \\\"Abigail Sxojqp\\\",\\n              \\\"11AM\\\"\\n            ],\\n            [\\n              \\\"Noelle Gancda\\\",\\n              \\\"1PM\\\"\\n            ],\\n            [\\n              \\\"Suhani Lszptw\\\",\\n              \\\"10AM\\\"\\n            ],\\n            [\\n              \\\"Seyeon Svvnbi\\\",\\n              \\\"1PM\\\"\\n            ],\\n            [\\n              \\\"Wendy Jlkwzq\\\",\\n              \\\"10AM\\\"\\n            ],\\n            [\\n              \\\"Tuesday Dtndpr\\\",\\n              \\\"10AM\\\"\\n            ],\\n            [\\n              \\\"Liyang Rwavvv\\\",\\n              \\\"1PM\\\"\\n            ],\\n            [\\n              \\\"Navneet Geycek\\\",\\n              \\\"11AM\\\"\\n            ],\\n            [\\n              \\\"Matthew Kcnhzb\\\",\\n              \\\"10AM\\\"\\n            ],\\n            [\\n              \\\"Brandon Jrywgk\\\",\\n              \\\"1PM\\\"\\n            ],\\n            [\\n              \\\"Leena Bavcls\\\",\\n              \\\"12PM\\\"\\n            ],\\n            [\\n              \\\"Nathan Djywpt\\\",\\n              \\\"1PM\\\"\\n            ],\\n            [\\n              \\\"Tom Jvetfu\\\",\\n              \\\"1PM\\\"\\n            ],\\n            [\\n              \\\"Mihir Fakurv\\\",\\n              \\\"10AM\\\"\\n            ],\\n            [\\n              \\\"Eric Hawqyf\\\",\\n              \\\"11AM\\\"\\n            ],\\n            [\\n              \\\"Eddie Eskbcy\\\",\\n              \\\"1PM\\\"\\n            ],\\n            [\\n              \\\"Hannah Pxpeyg\\\",\\n              \\\"10AM\\\"\\n            ],\\n            [\\n              \\\"Huize Tkixea\\\",\\n              \\\"10AM\\\"\\n            ],\\n            [\\n              \\\"Pranav Paykkd\\\",\\n              \\\"1PM\\\"\\n            ],\\n            [\\n              \\\"Manya Cxsqna\\\",\\n              \\\"12PM\\\"\\n            ],\\n            [\\n              \\\"Jonathan Jytawz\\\",\\n              \\\"11AM\\\"\\n            ],\\n            [\\n              \\\"Saksham Pekvwf\\\",\\n              \\\"11AM\\\"\\n            ],\\n            [\\n              \\\"Athulith Wpxwuk\\\",\\n              \\\"11AM\\\"\\n            ],\\n            [\\n              \\\"Kathy Oytrsv\\\",\\n              \\\"10AM\\\"\\n            ],\\n            [\\n              \\\"Kyunghwan Vptlda\\\",\\n              \\\"1PM\\\"\\n            ],\\n            [\\n              \\\"Adriana Eeruvd\\\",\\n              \\\"11AM\\\"\\n            ],\\n            [\\n              \\\"Milan Aetgfg\\\",\\n              \\\"1PM\\\"\\n            ],\\n            [\\n              \\\"John Owzymy\\\",\\n              \\\"11AM\\\"\\n            ],\\n            [\\n              \\\"Jueun Ybfpgx\\\",\\n              \\\"11AM\\\"\\n            ],\\n            [\\n              \\\"Dhyay Aywzzq\\\",\\n              \\\"11AM\\\"\\n            ],\\n            [\\n              \\\"Vinson Ljbvnm\\\",\\n              \\\"12PM\\\"\\n            ],\\n            [\\n              \\\"Imangali Ehckaf\\\",\\n              \\\"11AM\\\"\\n            ],\\n            [\\n              \\\"Derrick Fpzczv\\\",\\n              \\\"1PM\\\"\\n            ],\\n            [\\n              \\\"Samuel Vwwdmu\\\",\\n              \\\"1PM\\\"\\n            ],\\n            [\\n              \\\"Bhagya Ygbnnq\\\",\\n              \\\"10AM\\\"\\n            ],\\n            [\\n              \\\"Ryan Ufhwdl\\\",\\n              \\\"1PM\\\"\\n            ],\\n            [\\n              \\\"Brenda Gbncfp\\\",\\n              \\\"1PM\\\"\\n            ],\\n            [\\n              \\\"Stephanie Ifzdqu\\\",\\n              \\\"10AM\\\"\\n            ],\\n            [\\n              \\\"Joyce Wjstbg\\\",\\n              \\\"11AM\\\"\\n            ],\\n            [\\n              \\\"Janelle Itpput\\\",\\n              \\\"11AM\\\"\\n            ],\\n            [\\n              \\\"Zijin Vxrjtq\\\",\\n              \\\"10AM\\\"\\n            ],\\n            [\\n              \\\"Andrew Qgvdmn\\\",\\n              \\\"10AM\\\"\\n            ],\\n            [\\n              \\\"Xinyu Pzwlqq\\\",\\n              \\\"1PM\\\"\\n            ],\\n            [\\n              \\\"Nathan Slcmeb\\\",\\n              \\\"12PM\\\"\\n            ],\\n            [\\n              \\\"Pansy Iylqjl\\\",\\n              \\\"11AM\\\"\\n            ],\\n            [\\n              \\\"Haoyang Stecsa\\\",\\n              \\\"12PM\\\"\\n            ],\\n            [\\n              \\\"Ziwei Jkvgaa\\\",\\n              \\\"1PM\\\"\\n            ],\\n            [\\n              \\\"Reona Bqbgpv\\\",\\n              \\\"11AM\\\"\\n            ],\\n            [\\n              \\\"Wenbin Dzmphv\\\",\\n              \\\"1PM\\\"\\n            ],\\n            [\\n              \\\"Sophia Pffgiz\\\",\\n              \\\"10AM\\\"\\n            ],\\n            [\\n              \\\"Carey Qakcxu\\\",\\n              \\\"11AM\\\"\\n            ],\\n            [\\n              \\\"Jordan Qnwmne\\\",\\n              \\\"10AM\\\"\\n            ],\\n            [\\n              \\\"Yihui Dyupsq\\\",\\n              \\\"10AM\\\"\\n            ],\\n            [\\n              \\\"Danny Zxhlnw\\\",\\n              \\\"11AM\\\"\\n            ],\\n            [\\n              \\\"Zhihan Gdhvyl\\\",\\n              \\\"10AM\\\"\\n            ],\\n            [\\n              \\\"Talia Rglsvm\\\",\\n              \\\"10AM\\\"\\n            ],\\n            [\\n              \\\"Ahmed Staurg\\\",\\n              \\\"10AM\\\"\\n            ],\\n            [\\n              \\\"Tarun Qfzdpa\\\",\\n              \\\"1PM\\\"\\n            ],\\n            [\\n              \\\"Peyton Ogaydu\\\",\\n              \\\"1PM\\\"\\n            ],\\n            [\\n              \\\"Neil Cequxl\\\",\\n              \\\"1PM\\\"\\n            ],\\n            [\\n              \\\"Jiyoon Pqlawb\\\",\\n              \\\"11AM\\\"\\n            ],\\n            [\\n              \\\"Rihui Zwxpqq\\\",\\n              \\\"12PM\\\"\\n            ],\\n            [\\n              \\\"Ylesia Dxanqr\\\",\\n              \\\"12PM\\\"\\n            ],\\n            [\\n              \\\"Edward Qacane\\\",\\n              \\\"12PM\\\"\\n            ],\\n            [\\n              \\\"Runjie Kimirx\\\",\\n              \\\"10AM\\\"\\n            ],\\n            [\\n              \\\"Aneesh Okqvdy\\\",\\n              \\\"10AM\\\"\\n            ],\\n            [\\n              \\\"Rishaant Xrdwlv\\\",\\n              \\\"10AM\\\"\\n            ],\\n            [\\n              \\\"Christian Htyfnt\\\",\\n              \\\"12PM\\\"\\n            ],\\n            [\\n              \\\"Housheng Jawcjn\\\",\\n              \\\"1PM\\\"\\n            ],\\n            [\\n              \\\"Marguerite Rogxes\\\",\\n              \\\"10AM\\\"\\n            ],\\n            [\\n              \\\"Andrew Klhlht\\\",\\n              \\\"10AM\\\"\\n            ],\\n            [\\n              \\\"Liuyang Uxsrnj\\\",\\n              \\\"12PM\\\"\\n            ],\\n            [\\n              \\\"Nathaphat Wansyb\\\",\\n              \\\"10AM\\\"\\n            ],\\n            [\\n              \\\"Idhant Bepqxg\\\",\\n              \\\"10AM\\\"\\n            ],\\n            [\\n              \\\"Faline Bgdymg\\\",\\n              \\\"11AM\\\"\\n            ],\\n            [\\n              \\\"Christian Bcklha\\\",\\n              \\\"1PM\\\"\\n            ],\\n            [\\n              \\\"Jimmy Lsjzzf\\\",\\n              \\\"1PM\\\"\\n            ],\\n            [\\n              \\\"Yasmin Eamgzk\\\",\\n              \\\"11AM\\\"\\n            ],\\n            [\\n              \\\"Cynthia Kccdsr\\\",\\n              \\\"12PM\\\"\\n            ],\\n            [\\n              \\\"Samuel Sneyxs\\\",\\n              \\\"1PM\\\"\\n            ],\\n            [\\n              \\\"Yejin Muddny\\\",\\n              \\\"10AM\\\"\\n            ],\\n            [\\n              \\\"Hogun Limtik\\\",\\n              \\\"12PM\\\"\\n            ],\\n            [\\n              \\\"Kang Dawjck\\\",\\n              \\\"12PM\\\"\\n            ],\\n            [\\n              \\\"Ryan Mkddal\\\",\\n              \\\"12PM\\\"\\n            ],\\n            [\\n              \\\"Mia Jwyhir\\\",\\n              \\\"12PM\\\"\\n            ],\\n            [\\n              \\\"Chengxi Kigfcn\\\",\\n              \\\"11AM\\\"\\n            ],\\n            [\\n              \\\"Haotong Mkocan\\\",\\n              \\\"1PM\\\"\\n            ],\\n            [\\n              \\\"Varun Lmxnrn\\\",\\n              \\\"10AM\\\"\\n            ],\\n            [\\n              \\\"Subika Fxkjzg\\\",\\n              \\\"11AM\\\"\\n            ],\\n            [\\n              \\\"Rahama Jrnqjp\\\",\\n              \\\"10AM\\\"\\n            ],\\n            [\\n              \\\"Marlon Xlndmk\\\",\\n              \\\"1PM\\\"\\n            ],\\n            [\\n              \\\"Kenneth Iszari\\\",\\n              \\\"1PM\\\"\\n            ],\\n            [\\n              \\\"Yiwei Esccbf\\\",\\n              \\\"11AM\\\"\\n            ],\\n            [\\n              \\\"Allison Uavqoy\\\",\\n              \\\"1PM\\\"\\n            ],\\n            [\\n              \\\"Huanchang Homeoz\\\",\\n              \\\"11AM\\\"\\n            ],\\n            [\\n              \\\"Nian-Nian Gthpaf\\\",\\n              \\\"10AM\\\"\\n            ],\\n            [\\n              \\\"Fabrizio Rcjsex\\\",\\n              \\\"12PM\\\"\\n            ],\\n            [\\n              \\\"Leena Nsbhdr\\\",\\n              \\\"1PM\\\"\\n            ],\\n            [\\n              \\\"Chengyu Lvbujs\\\",\\n              \\\"1PM\\\"\\n            ],\\n            [\\n              \\\"Purich Eyhjsj\\\",\\n              \\\"10AM\\\"\\n            ],\\n            [\\n              \\\"Ryan Heljog\\\",\\n              \\\"1PM\\\"\\n            ],\\n            [\\n              \\\"Mert Gxybnf\\\",\\n              \\\"1PM\\\"\\n            ],\\n            [\\n              \\\"Fnu Nszqtw\\\",\\n              \\\"10AM\\\"\\n            ],\\n            [\\n              \\\"Yash Syeazc\\\",\\n              \\\"11AM\\\"\\n            ],\\n            [\\n              \\\"Jeffrey Ldkmjx\\\",\\n              \\\"11AM\\\"\\n            ],\\n            [\\n              \\\"Prithvi Lhujxm\\\",\\n              \\\"11AM\\\"\\n            ],\\n            [\\n              \\\"Christian Cqdkjl\\\",\\n              \\\"10AM\\\"\\n            ],\\n            [\\n              \\\"Mianchen Htlcas\\\",\\n              \\\"1PM\\\"\\n            ],\\n            [\\n              \\\"Xiang Rzbsdi\\\",\\n              \\\"12PM\\\"\\n            ],\\n            [\\n              \\\"Guoxuan Wkpcan\\\",\\n              \\\"10AM\\\"\\n            ],\\n            [\\n              \\\"Kailey Ckjlqt\\\",\\n              \\\"11AM\\\"\\n            ],\\n            [\\n              \\\"Ryan Xnixlj\\\",\\n              \\\"10AM\\\"\\n            ],\\n            [\\n              \\\"Aile Csbexi\\\",\\n              \\\"11AM\\\"\\n            ],\\n            [\\n              \\\"Angelia Wuusnm\\\",\\n              \\\"11AM\\\"\\n            ],\\n            [\\n              \\\"Sardor Wemrvl\\\",\\n              \\\"1PM\\\"\\n            ],\\n            [\\n              \\\"Vivian Htgtwh\\\",\\n              \\\"1PM\\\"\\n            ],\\n            [\\n              \\\"Brendan Joefav\\\",\\n              \\\"10AM\\\"\\n            ],\\n            [\\n              \\\"Wan-Rong Cmnmed\\\",\\n              \\\"10AM\\\"\\n            ],\\n            [\\n              \\\"Ricardo Iwipyd\\\",\\n              \\\"11AM\\\"\\n            ],\\n            [\\n              \\\"Daniel Zfwoaf\\\",\\n              \\\"10AM\\\"\\n            ],\\n            [\\n              \\\"Quennie Smrnkf\\\",\\n              \\\"10AM\\\"\\n            ],\\n            [\\n              \\\"Lewis Sbzxrq\\\",\\n              \\\"1PM\\\"\\n            ],\\n            [\\n              \\\"Stephanie Pcanti\\\",\\n              \\\"11AM\\\"\\n            ],\\n            [\\n              \\\"Jiayi Ealhli\\\",\\n              \\\"12PM\\\"\\n            ],\\n            [\\n              \\\"Cariappa Ikzksg\\\",\\n              \\\"10AM\\\"\\n            ],\\n            [\\n              \\\"David Iigsud\\\",\\n              \\\"1PM\\\"\\n            ],\\n            [\\n              \\\"Yujin Tbvkwu\\\",\\n              \\\"1PM\\\"\\n            ],\\n            [\\n              \\\"Connor Dnuzhi\\\",\\n              \\\"11AM\\\"\\n            ],\\n            [\\n              \\\"Yiran Whjrfa\\\",\\n              \\\"1PM\\\"\\n            ],\\n            [\\n              \\\"Tatiana Ejhvol\\\",\\n              \\\"11AM\\\"\\n            ],\\n            [\\n              \\\"Shangcheng Kvdhpo\\\",\\n              \\\"1PM\\\"\\n            ],\\n            [\\n              \\\"Roy Ecrpqc\\\",\\n              \\\"12PM\\\"\\n            ],\\n            [\\n              \\\"Andres Zqnfmc\\\",\\n              \\\"10AM\\\"\\n            ],\\n            [\\n              \\\"Baichuan Ydzaqv\\\",\\n              \\\"10AM\\\"\\n            ],\\n            [\\n              \\\"Kelly Eltatd\\\",\\n              \\\"11AM\\\"\\n            ],\\n            [\\n              \\\"Francis Qgujzf\\\",\\n              \\\"11AM\\\"\\n            ],\\n            [\\n              \\\"Emmanuel Ckfhiq\\\",\\n              \\\"1PM\\\"\\n            ],\\n            [\\n              \\\"Zhenjia Ihdhxd\\\",\\n              \\\"12PM\\\"\\n            ],\\n            [\\n              \\\"Sohan Vjchsl\\\",\\n              \\\"1PM\\\"\\n            ],\\n            [\\n              \\\"Jill Ovtedg\\\",\\n              \\\"10AM\\\"\\n            ],\\n            [\\n              \\\"Jialun Yqlhkh\\\",\\n              \\\"12PM\\\"\\n            ],\\n            [\\n              \\\"George Xihgtt\\\",\\n              \\\"1PM\\\"\\n            ],\\n            [\\n              \\\"Katelyn Ivmfxa\\\",\\n              \\\"11AM\\\"\\n            ],\\n            [\\n              \\\"Lauren Jnzdke\\\",\\n              \\\"11AM\\\"\\n            ],\\n            [\\n              \\\"Brian Bjtclf\\\",\\n              \\\"10AM\\\"\\n            ],\\n            [\\n              \\\"Sally Bjympf\\\",\\n              \\\"1PM\\\"\\n            ],\\n            [\\n              \\\"Luke Ghqzmh\\\",\\n              \\\"12PM\\\"\\n            ],\\n            [\\n              \\\"Haotian Jaafkg\\\",\\n              \\\"1PM\\\"\\n            ],\\n            [\\n              \\\"Haoting Emktca\\\",\\n              \\\"12PM\\\"\\n            ],\\n            [\\n              \\\"Monica Nrntzn\\\",\\n              \\\"10AM\\\"\\n            ],\\n            [\\n              \\\"Justin Lugedo\\\",\\n              \\\"10AM\\\"\\n            ],\\n            [\\n              \\\"Kai Myjuzu\\\",\\n              \\\"10AM\\\"\\n            ],\\n            [\\n              \\\"Bingyan Gcxhog\\\",\\n              \\\"10AM\\\"\\n            ],\\n            [\\n              \\\"Michael Hkhubc\\\",\\n              \\\"10AM\\\"\\n            ],\\n            [\\n              \\\"Yuen Hhqkrf\\\",\\n              \\\"1PM\\\"\\n            ],\\n            [\\n              \\\"Camille Xtlhax\\\",\\n              \\\"10AM\\\"\\n            ],\\n            [\\n              \\\"Narasimhan Wimsxy\\\",\\n              \\\"12PM\\\"\\n            ],\\n            [\\n              \\\"Zhijun Qqoxup\\\",\\n              \\\"10AM\\\"\\n            ],\\n            [\\n              \\\"Yonam Igfsbl\\\",\\n              \\\"10AM\\\"\\n            ],\\n            [\\n              \\\"Kendall Ytrpas\\\",\\n              \\\"11AM\\\"\\n            ],\\n            [\\n              \\\"Sunghyeok Vtlall\\\",\\n              \\\"11AM\\\"\\n            ],\\n            [\\n              \\\"Bokyeong Ddrizt\\\",\\n              \\\"1PM\\\"\\n            ],\\n            [\\n              \\\"Shihan Afzqly\\\",\\n              \\\"11AM\\\"\\n            ],\\n            [\\n              \\\"Cindy Kzruqi\\\",\\n              \\\"12PM\\\"\\n            ],\\n            [\\n              \\\"Derek Bobskz\\\",\\n              \\\"10AM\\\"\\n            ],\\n            [\\n              \\\"Joseph Kaipvx\\\",\\n              \\\"11AM\\\"\\n            ],\\n            [\\n              \\\"Yunqi Sxxley\\\",\\n              \\\"12PM\\\"\\n            ],\\n            [\\n              \\\"Ravina Cjysib\\\",\\n              \\\"10AM\\\"\\n            ],\\n            [\\n              \\\"Essie Eqwuxl\\\",\\n              \\\"11AM\\\"\\n            ],\\n            [\\n              \\\"Sungwook Zisdtq\\\",\\n              \\\"1PM\\\"\\n            ],\\n            [\\n              \\\"Saloni Pgpysr\\\",\\n              \\\"10AM\\\"\\n            ],\\n            [\\n              \\\"Jimmy Krwbqc\\\",\\n              \\\"1PM\\\"\\n            ],\\n            [\\n              \\\"Roger Wxxxph\\\",\\n              \\\"12PM\\\"\\n            ],\\n            [\\n              \\\"Vishnudeep Bljgqs\\\",\\n              \\\"11AM\\\"\\n            ],\\n            [\\n              \\\"Timothy Dcjixd\\\",\\n              \\\"1PM\\\"\\n            ],\\n            [\\n              \\\"Matthew Qlbjke\\\",\\n              \\\"12PM\\\"\\n            ],\\n            [\\n              \\\"Gahn Czvier\\\",\\n              \\\"12PM\\\"\\n            ],\\n            [\\n              \\\"Angela Efeybh\\\",\\n              \\\"12PM\\\"\\n            ],\\n            [\\n              \\\"Steven Cnszos\\\",\\n              \\\"1PM\\\"\\n            ],\\n            [\\n              \\\"Wenyu Wkzwvo\\\",\\n              \\\"11AM\\\"\\n            ],\\n            [\\n              \\\"Diego Xufywl\\\",\\n              \\\"1PM\\\"\\n            ],\\n            [\\n              \\\"Ethan Qdyctl\\\",\\n              \\\"10AM\\\"\\n            ],\\n            [\\n              \\\"Jasmine Flxfzz\\\",\\n              \\\"1PM\\\"\\n            ],\\n            [\\n              \\\"Elif Qpwmwh\\\",\\n              \\\"11AM\\\"\\n            ],\\n            [\\n              \\\"Zhenghao Agknyd\\\",\\n              \\\"11AM\\\"\\n            ],\\n            [\\n              \\\"Tanisha Hxpbkl\\\",\\n              \\\"11AM\\\"\\n            ],\\n            [\\n              \\\"Sarah Wqsiev\\\",\\n              \\\"12PM\\\"\\n            ],\\n            [\\n              \\\"Sadrac Cirnse\\\",\\n              \\\"11AM\\\"\\n            ],\\n            [\\n              \\\"Heidi Owsgxi\\\",\\n              \\\"10AM\\\"\\n            ],\\n            [\\n              \\\"Lincoln Cmlhfp\\\",\\n              \\\"12PM\\\"\\n            ],\\n            [\\n              \\\"Yue Xtqmnl\\\",\\n              \\\"10AM\\\"\\n            ],\\n            [\\n              \\\"Bella Qkujxa\\\",\\n              \\\"12PM\\\"\\n            ],\\n            [\\n              \\\"Owen Eubwym\\\",\\n              \\\"11AM\\\"\\n            ],\\n            [\\n              \\\"Minchan Vsoymc\\\",\\n              \\\"10AM\\\"\\n            ],\\n            [\\n              \\\"Raymond Dhefiy\\\",\\n              \\\"11AM\\\"\\n            ],\\n            [\\n              \\\"Peiyuan Zuqoms\\\",\\n              \\\"10AM\\\"\\n            ],\\n            [\\n              \\\"Ethan Ydaffs\\\",\\n              \\\"1PM\\\"\\n            ],\\n            [\\n              \\\"Trevan Aqoaoc\\\",\\n              \\\"1PM\\\"\\n            ],\\n            [\\n              \\\"Irene Cwmcts\\\",\\n              \\\"1PM\\\"\\n            ],\\n            [\\n              \\\"Darief Upbwwk\\\",\\n              \\\"11AM\\\"\\n            ],\\n            [\\n              \\\"Kaushika Akgvcs\\\",\\n              \\\"11AM\\\"\\n            ],\\n            [\\n              \\\"Kuanmin Jokpxg\\\",\\n              \\\"11AM\\\"\\n            ],\\n            [\\n              \\\"Samuel Csaela\\\",\\n              \\\"1PM\\\"\\n            ],\\n            [\\n              \\\"Madeline Ccmcls\\\",\\n              \\\"11AM\\\"\\n            ],\\n            [\\n              \\\"Su Xgeudh\\\",\\n              \\\"1PM\\\"\\n            ],\\n            [\\n              \\\"Vikram Ryjzbc\\\",\\n              \\\"11AM\\\"\\n            ],\\n            [\\n              \\\"Connor Fqadzg\\\",\\n              \\\"11AM\\\"\\n            ],\\n            [\\n              \\\"Daniel Uraenh\\\",\\n              \\\"1PM\\\"\\n            ],\\n            [\\n              \\\"Aryan Yiomcb\\\",\\n              \\\"1PM\\\"\\n            ],\\n            [\\n              \\\"Hana Cgybop\\\",\\n              \\\"11AM\\\"\\n            ],\\n            [\\n              \\\"Ethan Zrndvr\\\",\\n              \\\"1PM\\\"\\n            ],\\n            [\\n              \\\"Hongyu Rfocjw\\\",\\n              \\\"1PM\\\"\\n            ],\\n            [\\n              \\\"Lacha Hkklln\\\",\\n              \\\"1PM\\\"\\n            ],\\n            [\\n              \\\"Lorenzo Qmcsgg\\\",\\n              \\\"1PM\\\"\\n            ],\\n            [\\n              \\\"Cecilia Ncveoo\\\",\\n              \\\"11AM\\\"\\n            ],\\n            [\\n              \\\"Akshay Zriomp\\\",\\n              \\\"10AM\\\"\\n            ],\\n            [\\n              \\\"Marco Srprpp\\\",\\n              \\\"1PM\\\"\\n            ],\\n            [\\n              \\\"Jason Tcndlh\\\",\\n              \\\"11AM\\\"\\n            ],\\n            [\\n              \\\"Eduardo Xaoorf\\\",\\n              \\\"10AM\\\"\\n            ],\\n            [\\n              \\\"Catherine Fwajqu\\\",\\n              \\\"1PM\\\"\\n            ],\\n            [\\n              \\\"Steven Zajshd\\\",\\n              \\\"11AM\\\"\\n            ],\\n            [\\n              \\\"Sebastian Hfjyul\\\",\\n              \\\"10AM\\\"\\n            ],\\n            [\\n              \\\"Stuti Gcsxxu\\\",\\n              \\\"11AM\\\"\\n            ],\\n            [\\n              \\\"Jiayun Waammo\\\",\\n              \\\"12PM\\\"\\n            ],\\n            [\\n              \\\"Yuqiu Habwyf\\\",\\n              \\\"11AM\\\"\\n            ],\\n            [\\n              \\\"Avi Nrvrzd\\\",\\n              \\\"10AM\\\"\\n            ],\\n            [\\n              \\\"Jun Dyxyjl\\\",\\n              \\\"1PM\\\"\\n            ],\\n            [\\n              \\\"Keenan Pspmgr\\\",\\n              \\\"11AM\\\"\\n            ],\\n            [\\n              \\\"Lok Wgxnwz\\\",\\n              \\\"11AM\\\"\\n            ],\\n            [\\n              \\\"Joyce Zgzqis\\\",\\n              \\\"10AM\\\"\\n            ],\\n            [\\n              \\\"Timothy Bwhagm\\\",\\n              \\\"11AM\\\"\\n            ],\\n            [\\n              \\\"Zoey Nzmadx\\\",\\n              \\\"11AM\\\"\\n            ],\\n            [\\n              \\\"Megha Oygtxy\\\",\\n              \\\"1PM\\\"\\n            ],\\n            [\\n              \\\"Ciby Vzjrmw\\\",\\n              \\\"12PM\\\"\\n            ],\\n            [\\n              \\\"Mark Muknjo\\\",\\n              \\\"11AM\\\"\\n            ],\\n            [\\n              \\\"Basti Yogdos\\\",\\n              \\\"1PM\\\"\\n            ],\\n            [\\n              \\\"Jessica Tfehfu\\\",\\n              \\\"11AM\\\"\\n            ],\\n            [\\n              \\\"Van Tfxqia\\\",\\n              \\\"11AM\\\"\\n            ],\\n            [\\n              \\\"Jialin Tlwzfh\\\",\\n              \\\"1PM\\\"\\n            ],\\n            [\\n              \\\"Jason Vlbnzo\\\",\\n              \\\"1PM\\\"\\n            ],\\n            [\\n              \\\"Xin Qqvqmn\\\",\\n              \\\"1PM\\\"\\n            ],\\n            [\\n              \\\"Maya Otbqwu\\\",\\n              \\\"1PM\\\"\\n            ],\\n            [\\n              \\\"Bill Nqawwr\\\",\\n              \\\"11AM\\\"\\n            ],\\n            [\\n              \\\"Jessica Cmpvmd\\\",\\n              \\\"11AM\\\"\\n            ],\\n            [\\n              \\\"Qirui Cgursn\\\",\\n              \\\"10AM\\\"\\n            ],\\n            [\\n              \\\"Emanoel Nxakpe\\\",\\n              \\\"11AM\\\"\\n            ],\\n            [\\n              \\\"Qilong Mbmmxx\\\",\\n              \\\"1PM\\\"\\n            ],\\n            [\\n              \\\"Donglang Ikrwpa\\\",\\n              \\\"10AM\\\"\\n            ],\\n            [\\n              \\\"Yuen Foacvb\\\",\\n              \\\"1PM\\\"\\n            ],\\n            [\\n              \\\"Jessie Lbeaxz\\\",\\n              \\\"12PM\\\"\\n            ],\\n            [\\n              \\\"Jiarui Ovspca\\\",\\n              \\\"10AM\\\"\\n            ],\\n            [\\n              \\\"Orlando Lupowo\\\",\\n              \\\"10AM\\\"\\n            ],\\n            [\\n              \\\"Kyla Zcmukq\\\",\\n              \\\"10AM\\\"\\n            ],\\n            [\\n              \\\"Viveka Nwvuxa\\\",\\n              \\\"10AM\\\"\\n            ],\\n            [\\n              \\\"Jason Xpnfrq\\\",\\n              \\\"1PM\\\"\\n            ],\\n            [\\n              \\\"Ho Ntlnai\\\",\\n              \\\"1PM\\\"\\n            ],\\n            [\\n              \\\"Cristina Uvuknx\\\",\\n              \\\"1PM\\\"\\n            ],\\n            [\\n              \\\"Shawn Pvblgl\\\",\\n              \\\"12PM\\\"\\n            ],\\n            [\\n              \\\"Ye Seekmp\\\",\\n              \\\"12PM\\\"\\n            ],\\n            [\\n              \\\"Zilu Mrikyi\\\",\\n              \\\"1PM\\\"\\n            ],\\n            [\\n              \\\"Abdulrahim Iqecpc\\\",\\n              \\\"11AM\\\"\\n            ],\\n            [\\n              \\\"Uzair Fcpopi\\\",\\n              \\\"11AM\\\"\\n            ],\\n            [\\n              \\\"Jaznik Dxquzj\\\",\\n              \\\"10AM\\\"\\n            ],\\n            [\\n              \\\"Ding Fvatmn\\\",\\n              \\\"10AM\\\"\\n            ],\\n            [\\n              \\\"Nathaniel Esyrle\\\",\\n              \\\"1PM\\\"\\n            ],\\n            [\\n              \\\"Iain Fluitl\\\",\\n              \\\"1PM\\\"\\n            ],\\n            [\\n              \\\"Rohan Ksogco\\\",\\n              \\\"1PM\\\"\\n            ],\\n            [\\n              \\\"Gurjinder Gxcuud\\\",\\n              \\\"11AM\\\"\\n            ],\\n            [\\n              \\\"Arohi Uezvrf\\\",\\n              \\\"1PM\\\"\\n            ],\\n            [\\n              \\\"Raam Zkpcrl\\\",\\n              \\\"11AM\\\"\\n            ],\\n            [\\n              \\\"Quinn Mfrigt\\\",\\n              \\\"10AM\\\"\\n            ],\\n            [\\n              \\\"Andy Qvxbtn\\\",\\n              \\\"10AM\\\"\\n            ],\\n            [\\n              \\\"Weijie Wzqlmt\\\",\\n              \\\"11AM\\\"\\n            ],\\n            [\\n              \\\"Kyle Gnhvst\\\",\\n              \\\"11AM\\\"\\n            ],\\n            [\\n              \\\"Eshaan Zdfaxv\\\",\\n              \\\"1PM\\\"\\n            ],\\n            [\\n              \\\"Sivaram Mtkrtx\\\",\\n              \\\"1PM\\\"\\n            ],\\n            [\\n              \\\"Connie Ilxryu\\\",\\n              \\\"12PM\\\"\\n            ],\\n            [\\n              \\\"Chloe Symlle\\\",\\n              \\\"11AM\\\"\\n            ],\\n            [\\n              \\\"Ketki Cecqin\\\",\\n              \\\"10AM\\\"\\n            ],\\n            [\\n              \\\"Tianqi Ltotux\\\",\\n              \\\"10AM\\\"\\n            ],\\n            [\\n              \\\"Amjad Dlprzo\\\",\\n              \\\"10AM\\\"\\n            ],\\n            [\\n              \\\"Chris Qbtfwb\\\",\\n              \\\"12PM\\\"\\n            ],\\n            [\\n              \\\"Marija Tfykvh\\\",\\n              \\\"11AM\\\"\\n            ],\\n            [\\n              \\\"Leo Kfpdgd\\\",\\n              \\\"10AM\\\"\\n            ],\\n            [\\n              \\\"Steven Wbjqwc\\\",\\n              \\\"1PM\\\"\\n            ],\\n            [\\n              \\\"Adrian Rxppvf\\\",\\n              \\\"11AM\\\"\\n            ],\\n            [\\n              \\\"Steven Arizdv\\\",\\n              \\\"11AM\\\"\\n            ],\\n            [\\n              \\\"Kaylani Cjwkwa\\\",\\n              \\\"10AM\\\"\\n            ],\\n            [\\n              \\\"Angela Zpqloc\\\",\\n              \\\"11AM\\\"\\n            ],\\n            [\\n              \\\"Matthew Tsupae\\\",\\n              \\\"12PM\\\"\\n            ],\\n            [\\n              \\\"Cancan Puxcke\\\",\\n              \\\"1PM\\\"\\n            ],\\n            [\\n              \\\"Srisaibhaavana Rqixvm\\\",\\n              \\\"10AM\\\"\\n            ],\\n            [\\n              \\\"Julia Wwagjy\\\",\\n              \\\"11AM\\\"\\n            ],\\n            [\\n              \\\"Jiarui Mwzxlb\\\",\\n              \\\"11AM\\\"\\n            ],\\n            [\\n              \\\"Ethan Hrgwzn\\\",\\n              \\\"11AM\\\"\\n            ],\\n            [\\n              \\\"Dhanvi Sojxay\\\",\\n              \\\"10AM\\\"\\n            ],\\n            [\\n              \\\"Chenlong Nazpos\\\",\\n              \\\"1PM\\\"\\n            ],\\n            [\\n              \\\"Owen Fhupkt\\\",\\n              \\\"11AM\\\"\\n            ],\\n            [\\n              \\\"Sean Peluzn\\\",\\n              \\\"1PM\\\"\\n            ],\\n            [\\n              \\\"Yuhan Ucylpw\\\",\\n              \\\"1PM\\\"\\n            ],\\n            [\\n              \\\"Jason Yplncf\\\",\\n              \\\"12PM\\\"\\n            ],\\n            [\\n              \\\"Raymond Fiinnx\\\",\\n              \\\"1PM\\\"\\n            ],\\n            [\\n              \\\"Emily Bfrnqo\\\",\\n              \\\"10AM\\\"\\n            ],\\n            [\\n              \\\"Shekar Fbgnwm\\\",\\n              \\\"10AM\\\"\\n            ],\\n            [\\n              \\\"Yihuan Acbcbi\\\",\\n              \\\"11AM\\\"\\n            ],\\n            [\\n              \\\"Andrew Aspfmf\\\",\\n              \\\"10AM\\\"\\n            ],\\n            [\\n              \\\"Luke Xdcvkb\\\",\\n              \\\"1PM\\\"\\n            ],\\n            [\\n              \\\"Paige Esmhma\\\",\\n              \\\"11AM\\\"\\n            ],\\n            [\\n              \\\"Ellie Imoann\\\",\\n              \\\"1PM\\\"\\n            ],\\n            [\\n              \\\"Albert Qgwcyk\\\",\\n              \\\"10AM\\\"\\n            ],\\n            [\\n              \\\"Darren Fnsbqt\\\",\\n              \\\"11AM\\\"\\n            ],\\n            [\\n              \\\"Danny Xmbrwe\\\",\\n              \\\"10AM\\\"\\n            ],\\n            [\\n              \\\"Jovanna Qbjxig\\\",\\n              \\\"11AM\\\"\\n            ],\\n            [\\n              \\\"Sirui Gfkamq\\\",\\n              \\\"10AM\\\"\\n            ],\\n            [\\n              \\\"Han Ovkedz\\\",\\n              \\\"1PM\\\"\\n            ],\\n            [\\n              \\\"Reema Bivgjc\\\",\\n              \\\"10AM\\\"\\n            ],\\n            [\\n              \\\"Colin Bfwkhx\\\",\\n              \\\"11AM\\\"\\n            ],\\n            [\\n              \\\"Shandha Adsoum\\\",\\n              \\\"1PM\\\"\\n            ],\\n            [\\n              \\\"Arshia Swasay\\\",\\n              \\\"11AM\\\"\\n            ],\\n            [\\n              \\\"Allen Jyfxdy\\\",\\n              \\\"11AM\\\"\\n            ],\\n            [\\n              \\\"Rahul Johsqx\\\",\\n              \\\"10AM\\\"\\n            ],\\n            [\\n              \\\"Leah Djgyoi\\\",\\n              \\\"1PM\\\"\\n            ],\\n            [\\n              \\\"Hillary Jeatzg\\\",\\n              \\\"10AM\\\"\\n            ],\\n            [\\n              \\\"Karthyayani Woykys\\\",\\n              \\\"1PM\\\"\\n            ],\\n            [\\n              \\\"Hyejun Amjriy\\\",\\n              \\\"11AM\\\"\\n            ],\\n            [\\n              \\\"Brighton Rxvilk\\\",\\n              \\\"11AM\\\"\\n            ],\\n            [\\n              \\\"Kathleen Emyzqa\\\",\\n              \\\"1PM\\\"\\n            ],\\n            [\\n              \\\"Poornasree Dudfmt\\\",\\n              \\\"1PM\\\"\\n            ],\\n            [\\n              \\\"Kevin Sgywid\\\",\\n              \\\"10AM\\\"\\n            ],\\n            [\\n              \\\"Matilda Njozxe\\\",\\n              \\\"10AM\\\"\\n            ],\\n            [\\n              \\\"Ishaan Hussjd\\\",\\n              \\\"11AM\\\"\\n            ],\\n            [\\n              \\\"Martin Ewkwwm\\\",\\n              \\\"10AM\\\"\\n            ],\\n            [\\n              \\\"Dhruv Lzkzse\\\",\\n              \\\"10AM\\\"\\n            ],\\n            [\\n              \\\"Andy Fqkcuq\\\",\\n              \\\"12PM\\\"\\n            ],\\n            [\\n              \\\"Ayush Mdyryg\\\",\\n              \\\"10AM\\\"\\n            ],\\n            [\\n              \\\"Mizuho Oktwbh\\\",\\n              \\\"11AM\\\"\\n            ],\\n            [\\n              \\\"Utkarsh Wfpmqn\\\",\\n              \\\"10AM\\\"\\n            ],\\n            [\\n              \\\"Rushil Evasol\\\",\\n              \\\"10AM\\\"\\n            ],\\n            [\\n              \\\"Samuel Jngvkb\\\",\\n              \\\"10AM\\\"\\n            ],\\n            [\\n              \\\"David Fkygzf\\\",\\n              \\\"10AM\\\"\\n            ],\\n            [\\n              \\\"Ahmad Jhftmn\\\",\\n              \\\"11AM\\\"\\n            ],\\n            [\\n              \\\"Raine Bpahnx\\\",\\n              \\\"10AM\\\"\\n            ],\\n            [\\n              \\\"Thanh Ovjtaa\\\",\\n              \\\"11AM\\\"\\n            ],\\n            [\\n              \\\"Yucheng Rkcovt\\\",\\n              \\\"12PM\\\"\\n            ],\\n            [\\n              \\\"Peike Yujmyv\\\",\\n              \\\"1PM\\\"\\n            ],\\n            [\\n              \\\"Holden Iznlki\\\",\\n              \\\"11AM\\\"\\n            ],\\n            [\\n              \\\"Aaron Pprbrk\\\",\\n              \\\"11AM\\\"\\n            ],\\n            [\\n              \\\"Jacob Bwkqfn\\\",\\n              \\\"12PM\\\"\\n            ],\\n            [\\n              \\\"Ansh Ssydep\\\",\\n              \\\"11AM\\\"\\n            ],\\n            [\\n              \\\"Shruti Ahctez\\\",\\n              \\\"11AM\\\"\\n            ],\\n            [\\n              \\\"Ruofan Tthnck\\\",\\n              \\\"11AM\\\"\\n            ],\\n            [\\n              \\\"Ziyu Ckqhfa\\\",\\n              \\\"1PM\\\"\\n            ],\\n            [\\n              \\\"Anirvinna Ciqbzh\\\",\\n              \\\"11AM\\\"\\n            ],\\n            [\\n              \\\"Pranav Gnvqph\\\",\\n              \\\"10AM\\\"\\n            ],\\n            [\\n              \\\"Ziqi Jhvyjl\\\",\\n              \\\"12PM\\\"\\n            ],\\n            [\\n              \\\"Mehak Piuskl\\\",\\n              \\\"11AM\\\"\\n            ],\\n            [\\n              \\\"Trinity Gmrbel\\\",\\n              \\\"10AM\\\"\\n            ],\\n            [\\n              \\\"Evan Rzhomj\\\",\\n              \\\"10AM\\\"\\n            ],\\n            [\\n              \\\"Samantha Kxfzup\\\",\\n              \\\"1PM\\\"\\n            ],\\n            [\\n              \\\"Yulin Dwnyty\\\",\\n              \\\"12PM\\\"\\n            ],\\n            [\\n              \\\"Xueheng Eftnhw\\\",\\n              \\\"12PM\\\"\\n            ],\\n            [\\n              \\\"Leni Hlfjhh\\\",\\n              \\\"11AM\\\"\\n            ],\\n            [\\n              \\\"Dory Xaghsk\\\",\\n              \\\"1PM\\\"\\n            ],\\n            [\\n              \\\"Laura Xfqwzu\\\",\\n              \\\"11AM\\\"\\n            ]\\n          ]\\n        },\\n        \\\"rhs\\\": {\\n          \\\"type\\\": \\\"Series\\\",\\n          \\\"index\\\": {\\n            \\\"names\\\": [\\n              null\\n            ],\\n            \\\"labels\\\": [\\n              0,\\n              1,\\n              2,\\n              3,\\n              4,\\n              5,\\n              6,\\n              7,\\n              8,\\n              9,\\n              10,\\n              11,\\n              12,\\n              13,\\n              14,\\n              15,\\n              16,\\n              17,\\n              18,\\n              19,\\n              20,\\n              21,\\n              22,\\n              23,\\n              24,\\n              25,\\n              26,\\n              27,\\n              28,\\n              29,\\n              30,\\n              31,\\n              32,\\n              33,\\n              34,\\n              35,\\n              36,\\n              37,\\n              38,\\n              39,\\n              40,\\n              41,\\n              42,\\n              43,\\n              44,\\n              45,\\n              46,\\n              47,\\n              48,\\n              49,\\n              50,\\n              51,\\n              52,\\n              53,\\n              54,\\n              55,\\n              56,\\n              57,\\n              58,\\n              59,\\n              60,\\n              61,\\n              62,\\n              63,\\n              64,\\n              65,\\n              66,\\n              67,\\n              68,\\n              69,\\n              70,\\n              71,\\n              72,\\n              73,\\n              74,\\n              75,\\n              76,\\n              77,\\n              78,\\n              79,\\n              80,\\n              81,\\n              82,\\n              83,\\n              84,\\n              85,\\n              86,\\n              87,\\n              88,\\n              89,\\n              90,\\n              91,\\n              92,\\n              93,\\n              94,\\n              95,\\n              96,\\n              97,\\n              98,\\n              99,\\n              100,\\n              101,\\n              102,\\n              103,\\n              104,\\n              105,\\n              106,\\n              107,\\n              108,\\n              109,\\n              110,\\n              111,\\n              112,\\n              113,\\n              114,\\n              115,\\n              116,\\n              117,\\n              118,\\n              119,\\n              120,\\n              121,\\n              122,\\n              123,\\n              124,\\n              125,\\n              126,\\n              127,\\n              128,\\n              129,\\n              130,\\n              131,\\n              132,\\n              133,\\n              134,\\n              135,\\n              136,\\n              137,\\n              138,\\n              139,\\n              140,\\n              141,\\n              142,\\n              143,\\n              144,\\n              145,\\n              146,\\n              147,\\n              148,\\n              149,\\n              150,\\n              151,\\n              152,\\n              153,\\n              154,\\n              155,\\n              156,\\n              157,\\n              158,\\n              159,\\n              160,\\n              161,\\n              162,\\n              163,\\n              164,\\n              165,\\n              166,\\n              167,\\n              168,\\n              169,\\n              170,\\n              171,\\n              172,\\n              173,\\n              174,\\n              175,\\n              176,\\n              177,\\n              178,\\n              179,\\n              180,\\n              181,\\n              182,\\n              183,\\n              184,\\n              185,\\n              186,\\n              187,\\n              188,\\n              189,\\n              190,\\n              191,\\n              192,\\n              193,\\n              194,\\n              195,\\n              196,\\n              197,\\n              198,\\n              199,\\n              200,\\n              201,\\n              202,\\n              203,\\n              204,\\n              205,\\n              206,\\n              207,\\n              208,\\n              209,\\n              210,\\n              211,\\n              212,\\n              213,\\n              214,\\n              215,\\n              216,\\n              217,\\n              218,\\n              219,\\n              220,\\n              221,\\n              222,\\n              223,\\n              224,\\n              225,\\n              226,\\n              227,\\n              228,\\n              229,\\n              230,\\n              231,\\n              232,\\n              233,\\n              234,\\n              235,\\n              236,\\n              237,\\n              238,\\n              239,\\n              240,\\n              241,\\n              242,\\n              243,\\n              244,\\n              245,\\n              246,\\n              247,\\n              248,\\n              249,\\n              250,\\n              251,\\n              252,\\n              253,\\n              254,\\n              255,\\n              256,\\n              257,\\n              258,\\n              259,\\n              260,\\n              261,\\n              262,\\n              263,\\n              264,\\n              265,\\n              266,\\n              267,\\n              268,\\n              269,\\n              270,\\n              271,\\n              272,\\n              273,\\n              274,\\n              275,\\n              276,\\n              277,\\n              278,\\n              279,\\n              280,\\n              281,\\n              282,\\n              283,\\n              284,\\n              285,\\n              286,\\n              287,\\n              288,\\n              289,\\n              290,\\n              291,\\n              292,\\n              293,\\n              294,\\n              295,\\n              296,\\n              297,\\n              298,\\n              299,\\n              300,\\n              301,\\n              302,\\n              303,\\n              304,\\n              305,\\n              306,\\n              307,\\n              308,\\n              309,\\n              310,\\n              311,\\n              312,\\n              313,\\n              314,\\n              315,\\n              316,\\n              317,\\n              318,\\n              319,\\n              320,\\n              321,\\n              322,\\n              323,\\n              324,\\n              325,\\n              326,\\n              327,\\n              328,\\n              329,\\n              330,\\n              331,\\n              332,\\n              333,\\n              334,\\n              335,\\n              336,\\n              337,\\n              338,\\n              339,\\n              340,\\n              341,\\n              342,\\n              343,\\n              344,\\n              345,\\n              346,\\n              347,\\n              348,\\n              349,\\n              350,\\n              351,\\n              352,\\n              353,\\n              354,\\n              355,\\n              356,\\n              357,\\n              358,\\n              359,\\n              360,\\n              361,\\n              362,\\n              363,\\n              364,\\n              365,\\n              366,\\n              367,\\n              368,\\n              369,\\n              370,\\n              371,\\n              372,\\n              373,\\n              374,\\n              375,\\n              376,\\n              377,\\n              378,\\n              379,\\n              380,\\n              381,\\n              382,\\n              383,\\n              384,\\n              385,\\n              386,\\n              387,\\n              388,\\n              389,\\n              390,\\n              391,\\n              392,\\n              393,\\n              394,\\n              395,\\n              396,\\n              397,\\n              398,\\n              399,\\n              400,\\n              401,\\n              402,\\n              403,\\n              404,\\n              405,\\n              406,\\n              407,\\n              408,\\n              409,\\n              410\\n            ]\\n          },\\n          \\\"data\\\": [\\n            \\\"Levy Dmxsqj\\\",\\n            \\\"Aiden Nyozzx\\\",\\n            \\\"Sruti Fivolq\\\",\\n            \\\"Huishan Zvnfcr\\\",\\n            \\\"Andrew Lxrtsl\\\",\\n            \\\"Hikaru Rmkxxh\\\",\\n            \\\"Haohan Faoqnc\\\",\\n            \\\"Shangqi Mfyohz\\\",\\n            \\\"Kyra Hbskdy\\\",\\n            \\\"Minsang Uusxyq\\\",\\n            \\\"Ciro Rwhksx\\\",\\n            \\\"Calwin Yseqvp\\\",\\n            \\\"Lebin Swarww\\\",\\n            \\\"Abjith Casmeb\\\",\\n            \\\"Natasha Wrrwsy\\\",\\n            \\\"Vishwak Cjddea\\\",\\n            \\\"Zoya Kchqlf\\\",\\n            \\\"Yanqiao Fdvdgq\\\",\\n            \\\"Sia Mlcasx\\\",\\n            \\\"Katie Kiqxab\\\",\\n            \\\"Zakaraya Hnuhdj\\\",\\n            \\\"Eli Bdkgsu\\\",\\n            \\\"Sylvia Hlvwpr\\\",\\n            \\\"Jesse Cgcgit\\\",\\n            \\\"Ashley Jnrvhz\\\",\\n            \\\"Paul Jxgoxj\\\",\\n            \\\"Emily Fcylkh\\\",\\n            \\\"Andy Zzkhjj\\\",\\n            \\\"Kevin Wphdws\\\",\\n            \\\"Dhruv Vgwpkh\\\",\\n            \\\"Carmen Sparnu\\\",\\n            \\\"Caleb Dbyewc\\\",\\n            \\\"Anish Tyljgw\\\",\\n            \\\"Walter Nhomlo\\\",\\n            \\\"Justin Lyrfrf\\\",\\n            \\\"Cong Ubpurw\\\",\\n            \\\"Krish Csobrx\\\",\\n            \\\"Adrian Yombcy\\\",\\n            \\\"Caleb Bfwuym\\\",\\n            \\\"Ethan Dpcred\\\",\\n            \\\"Justin Plbevg\\\",\\n            \\\"Amelia Toiwpu\\\",\\n            \\\"Jingmin Oqmszp\\\",\\n            \\\"Jevan Ydkezw\\\",\\n            \\\"Junyue Ttbvkg\\\",\\n            \\\"Bernie Gogqrz\\\",\\n            \\\"Alyssa Yurjsz\\\",\\n            \\\"Abigail Sxojqp\\\",\\n            \\\"Noelle Gancda\\\",\\n            \\\"Suhani Lszptw\\\",\\n            \\\"Seyeon Svvnbi\\\",\\n            \\\"Wendy Jlkwzq\\\",\\n            \\\"Tuesday Dtndpr\\\",\\n            \\\"Liyang Rwavvv\\\",\\n            \\\"Navneet Geycek\\\",\\n            \\\"Matthew Kcnhzb\\\",\\n            \\\"Brandon Jrywgk\\\",\\n            \\\"Leena Bavcls\\\",\\n            \\\"Nathan Djywpt\\\",\\n            \\\"Tom Jvetfu\\\",\\n            \\\"Mihir Fakurv\\\",\\n            \\\"Eric Hawqyf\\\",\\n            \\\"Eddie Eskbcy\\\",\\n            \\\"Hannah Pxpeyg\\\",\\n            \\\"Huize Tkixea\\\",\\n            \\\"Pranav Paykkd\\\",\\n            \\\"Manya Cxsqna\\\",\\n            \\\"Jonathan Jytawz\\\",\\n            \\\"Saksham Pekvwf\\\",\\n            \\\"Athulith Wpxwuk\\\",\\n            \\\"Kathy Oytrsv\\\",\\n            \\\"Kyunghwan Vptlda\\\",\\n            \\\"Adriana Eeruvd\\\",\\n            \\\"Milan Aetgfg\\\",\\n            \\\"John Owzymy\\\",\\n            \\\"Jueun Ybfpgx\\\",\\n            \\\"Dhyay Aywzzq\\\",\\n            \\\"Vinson Ljbvnm\\\",\\n            \\\"Imangali Ehckaf\\\",\\n            \\\"Derrick Fpzczv\\\",\\n            \\\"Samuel Vwwdmu\\\",\\n            \\\"Bhagya Ygbnnq\\\",\\n            \\\"Ryan Ufhwdl\\\",\\n            \\\"Brenda Gbncfp\\\",\\n            \\\"Stephanie Ifzdqu\\\",\\n            \\\"Joyce Wjstbg\\\",\\n            \\\"Janelle Itpput\\\",\\n            \\\"Zijin Vxrjtq\\\",\\n            \\\"Andrew Qgvdmn\\\",\\n            \\\"Xinyu Pzwlqq\\\",\\n            \\\"Nathan Slcmeb\\\",\\n            \\\"Pansy Iylqjl\\\",\\n            \\\"Haoyang Stecsa\\\",\\n            \\\"Ziwei Jkvgaa\\\",\\n            \\\"Reona Bqbgpv\\\",\\n            \\\"Wenbin Dzmphv\\\",\\n            \\\"Sophia Pffgiz\\\",\\n            \\\"Carey Qakcxu\\\",\\n            \\\"Jordan Qnwmne\\\",\\n            \\\"Yihui Dyupsq\\\",\\n            \\\"Danny Zxhlnw\\\",\\n            \\\"Zhihan Gdhvyl\\\",\\n            \\\"Talia Rglsvm\\\",\\n            \\\"Ahmed Staurg\\\",\\n            \\\"Tarun Qfzdpa\\\",\\n            \\\"Peyton Ogaydu\\\",\\n            \\\"Neil Cequxl\\\",\\n            \\\"Jiyoon Pqlawb\\\",\\n            \\\"Rihui Zwxpqq\\\",\\n            \\\"Ylesia Dxanqr\\\",\\n            \\\"Edward Qacane\\\",\\n            \\\"Runjie Kimirx\\\",\\n            \\\"Aneesh Okqvdy\\\",\\n            \\\"Rishaant Xrdwlv\\\",\\n            \\\"Christian Htyfnt\\\",\\n            \\\"Housheng Jawcjn\\\",\\n            \\\"Marguerite Rogxes\\\",\\n            \\\"Andrew Klhlht\\\",\\n            \\\"Liuyang Uxsrnj\\\",\\n            \\\"Nathaphat Wansyb\\\",\\n            \\\"Idhant Bepqxg\\\",\\n            \\\"Faline Bgdymg\\\",\\n            \\\"Christian Bcklha\\\",\\n            \\\"Jimmy Lsjzzf\\\",\\n            \\\"Yasmin Eamgzk\\\",\\n            \\\"Cynthia Kccdsr\\\",\\n            \\\"Samuel Sneyxs\\\",\\n            \\\"Yejin Muddny\\\",\\n            \\\"Hogun Limtik\\\",\\n            \\\"Kang Dawjck\\\",\\n            \\\"Ryan Mkddal\\\",\\n            \\\"Mia Jwyhir\\\",\\n            \\\"Chengxi Kigfcn\\\",\\n            \\\"Haotong Mkocan\\\",\\n            \\\"Varun Lmxnrn\\\",\\n            \\\"Subika Fxkjzg\\\",\\n            \\\"Rahama Jrnqjp\\\",\\n            \\\"Marlon Xlndmk\\\",\\n            \\\"Kenneth Iszari\\\",\\n            \\\"Yiwei Esccbf\\\",\\n            \\\"Allison Uavqoy\\\",\\n            \\\"Huanchang Homeoz\\\",\\n            \\\"Nian-Nian Gthpaf\\\",\\n            \\\"Fabrizio Rcjsex\\\",\\n            \\\"Leena Nsbhdr\\\",\\n            \\\"Chengyu Lvbujs\\\",\\n            \\\"Purich Eyhjsj\\\",\\n            \\\"Ryan Heljog\\\",\\n            \\\"Mert Gxybnf\\\",\\n            \\\"Fnu Nszqtw\\\",\\n            \\\"Yash Syeazc\\\",\\n            \\\"Jeffrey Ldkmjx\\\",\\n            \\\"Prithvi Lhujxm\\\",\\n            \\\"Christian Cqdkjl\\\",\\n            \\\"Mianchen Htlcas\\\",\\n            \\\"Xiang Rzbsdi\\\",\\n            \\\"Guoxuan Wkpcan\\\",\\n            \\\"Kailey Ckjlqt\\\",\\n            \\\"Ryan Xnixlj\\\",\\n            \\\"Aile Csbexi\\\",\\n            \\\"Angelia Wuusnm\\\",\\n            \\\"Sardor Wemrvl\\\",\\n            \\\"Vivian Htgtwh\\\",\\n            \\\"Brendan Joefav\\\",\\n            \\\"Wan-Rong Cmnmed\\\",\\n            \\\"Ricardo Iwipyd\\\",\\n            \\\"Daniel Zfwoaf\\\",\\n            \\\"Quennie Smrnkf\\\",\\n            \\\"Lewis Sbzxrq\\\",\\n            \\\"Stephanie Pcanti\\\",\\n            \\\"Jiayi Ealhli\\\",\\n            \\\"Cariappa Ikzksg\\\",\\n            \\\"David Iigsud\\\",\\n            \\\"Yujin Tbvkwu\\\",\\n            \\\"Connor Dnuzhi\\\",\\n            \\\"Yiran Whjrfa\\\",\\n            \\\"Tatiana Ejhvol\\\",\\n            \\\"Shangcheng Kvdhpo\\\",\\n            \\\"Roy Ecrpqc\\\",\\n            \\\"Andres Zqnfmc\\\",\\n            \\\"Baichuan Ydzaqv\\\",\\n            \\\"Kelly Eltatd\\\",\\n            \\\"Francis Qgujzf\\\",\\n            \\\"Emmanuel Ckfhiq\\\",\\n            \\\"Zhenjia Ihdhxd\\\",\\n            \\\"Sohan Vjchsl\\\",\\n            \\\"Jill Ovtedg\\\",\\n            \\\"Jialun Yqlhkh\\\",\\n            \\\"George Xihgtt\\\",\\n            \\\"Katelyn Ivmfxa\\\",\\n            \\\"Lauren Jnzdke\\\",\\n            \\\"Brian Bjtclf\\\",\\n            \\\"Sally Bjympf\\\",\\n            \\\"Luke Ghqzmh\\\",\\n            \\\"Haotian Jaafkg\\\",\\n            \\\"Haoting Emktca\\\",\\n            \\\"Monica Nrntzn\\\",\\n            \\\"Justin Lugedo\\\",\\n            \\\"Kai Myjuzu\\\",\\n            \\\"Bingyan Gcxhog\\\",\\n            \\\"Michael Hkhubc\\\",\\n            \\\"Yuen Hhqkrf\\\",\\n            \\\"Camille Xtlhax\\\",\\n            \\\"Narasimhan Wimsxy\\\",\\n            \\\"Zhijun Qqoxup\\\",\\n            \\\"Yonam Igfsbl\\\",\\n            \\\"Kendall Ytrpas\\\",\\n            \\\"Sunghyeok Vtlall\\\",\\n            \\\"Bokyeong Ddrizt\\\",\\n            \\\"Shihan Afzqly\\\",\\n            \\\"Cindy Kzruqi\\\",\\n            \\\"Derek Bobskz\\\",\\n            \\\"Joseph Kaipvx\\\",\\n            \\\"Yunqi Sxxley\\\",\\n            \\\"Ravina Cjysib\\\",\\n            \\\"Essie Eqwuxl\\\",\\n            \\\"Sungwook Zisdtq\\\",\\n            \\\"Saloni Pgpysr\\\",\\n            \\\"Jimmy Krwbqc\\\",\\n            \\\"Roger Wxxxph\\\",\\n            \\\"Vishnudeep Bljgqs\\\",\\n            \\\"Timothy Dcjixd\\\",\\n            \\\"Matthew Qlbjke\\\",\\n            \\\"Gahn Czvier\\\",\\n            \\\"Angela Efeybh\\\",\\n            \\\"Steven Cnszos\\\",\\n            \\\"Wenyu Wkzwvo\\\",\\n            \\\"Diego Xufywl\\\",\\n            \\\"Ethan Qdyctl\\\",\\n            \\\"Jasmine Flxfzz\\\",\\n            \\\"Elif Qpwmwh\\\",\\n            \\\"Zhenghao Agknyd\\\",\\n            \\\"Tanisha Hxpbkl\\\",\\n            \\\"Sarah Wqsiev\\\",\\n            \\\"Sadrac Cirnse\\\",\\n            \\\"Heidi Owsgxi\\\",\\n            \\\"Lincoln Cmlhfp\\\",\\n            \\\"Yue Xtqmnl\\\",\\n            \\\"Bella Qkujxa\\\",\\n            \\\"Owen Eubwym\\\",\\n            \\\"Minchan Vsoymc\\\",\\n            \\\"Raymond Dhefiy\\\",\\n            \\\"Peiyuan Zuqoms\\\",\\n            \\\"Ethan Ydaffs\\\",\\n            \\\"Trevan Aqoaoc\\\",\\n            \\\"Irene Cwmcts\\\",\\n            \\\"Darief Upbwwk\\\",\\n            \\\"Kaushika Akgvcs\\\",\\n            \\\"Kuanmin Jokpxg\\\",\\n            \\\"Samuel Csaela\\\",\\n            \\\"Madeline Ccmcls\\\",\\n            \\\"Su Xgeudh\\\",\\n            \\\"Vikram Ryjzbc\\\",\\n            \\\"Connor Fqadzg\\\",\\n            \\\"Daniel Uraenh\\\",\\n            \\\"Aryan Yiomcb\\\",\\n            \\\"Hana Cgybop\\\",\\n            \\\"Ethan Zrndvr\\\",\\n            \\\"Hongyu Rfocjw\\\",\\n            \\\"Lacha Hkklln\\\",\\n            \\\"Lorenzo Qmcsgg\\\",\\n            \\\"Cecilia Ncveoo\\\",\\n            \\\"Akshay Zriomp\\\",\\n            \\\"Marco Srprpp\\\",\\n            \\\"Jason Tcndlh\\\",\\n            \\\"Eduardo Xaoorf\\\",\\n            \\\"Catherine Fwajqu\\\",\\n            \\\"Steven Zajshd\\\",\\n            \\\"Sebastian Hfjyul\\\",\\n            \\\"Stuti Gcsxxu\\\",\\n            \\\"Jiayun Waammo\\\",\\n            \\\"Yuqiu Habwyf\\\",\\n            \\\"Avi Nrvrzd\\\",\\n            \\\"Jun Dyxyjl\\\",\\n            \\\"Keenan Pspmgr\\\",\\n            \\\"Lok Wgxnwz\\\",\\n            \\\"Joyce Zgzqis\\\",\\n            \\\"Timothy Bwhagm\\\",\\n            \\\"Zoey Nzmadx\\\",\\n            \\\"Megha Oygtxy\\\",\\n            \\\"Ciby Vzjrmw\\\",\\n            \\\"Mark Muknjo\\\",\\n            \\\"Basti Yogdos\\\",\\n            \\\"Jessica Tfehfu\\\",\\n            \\\"Van Tfxqia\\\",\\n            \\\"Jialin Tlwzfh\\\",\\n            \\\"Jason Vlbnzo\\\",\\n            \\\"Xin Qqvqmn\\\",\\n            \\\"Maya Otbqwu\\\",\\n            \\\"Bill Nqawwr\\\",\\n            \\\"Jessica Cmpvmd\\\",\\n            \\\"Qirui Cgursn\\\",\\n            \\\"Emanoel Nxakpe\\\",\\n            \\\"Qilong Mbmmxx\\\",\\n            \\\"Donglang Ikrwpa\\\",\\n            \\\"Yuen Foacvb\\\",\\n            \\\"Jessie Lbeaxz\\\",\\n            \\\"Jiarui Ovspca\\\",\\n            \\\"Orlando Lupowo\\\",\\n            \\\"Kyla Zcmukq\\\",\\n            \\\"Viveka Nwvuxa\\\",\\n            \\\"Jason Xpnfrq\\\",\\n            \\\"Ho Ntlnai\\\",\\n            \\\"Cristina Uvuknx\\\",\\n            \\\"Shawn Pvblgl\\\",\\n            \\\"Ye Seekmp\\\",\\n            \\\"Zilu Mrikyi\\\",\\n            \\\"Abdulrahim Iqecpc\\\",\\n            \\\"Uzair Fcpopi\\\",\\n            \\\"Jaznik Dxquzj\\\",\\n            \\\"Ding Fvatmn\\\",\\n            \\\"Nathaniel Esyrle\\\",\\n            \\\"Iain Fluitl\\\",\\n            \\\"Rohan Ksogco\\\",\\n            \\\"Gurjinder Gxcuud\\\",\\n            \\\"Arohi Uezvrf\\\",\\n            \\\"Raam Zkpcrl\\\",\\n            \\\"Quinn Mfrigt\\\",\\n            \\\"Andy Qvxbtn\\\",\\n            \\\"Weijie Wzqlmt\\\",\\n            \\\"Kyle Gnhvst\\\",\\n            \\\"Eshaan Zdfaxv\\\",\\n            \\\"Sivaram Mtkrtx\\\",\\n            \\\"Connie Ilxryu\\\",\\n            \\\"Chloe Symlle\\\",\\n            \\\"Ketki Cecqin\\\",\\n            \\\"Tianqi Ltotux\\\",\\n            \\\"Amjad Dlprzo\\\",\\n            \\\"Chris Qbtfwb\\\",\\n            \\\"Marija Tfykvh\\\",\\n            \\\"Leo Kfpdgd\\\",\\n            \\\"Steven Wbjqwc\\\",\\n            \\\"Adrian Rxppvf\\\",\\n            \\\"Steven Arizdv\\\",\\n            \\\"Kaylani Cjwkwa\\\",\\n            \\\"Angela Zpqloc\\\",\\n            \\\"Matthew Tsupae\\\",\\n            \\\"Cancan Puxcke\\\",\\n            \\\"Srisaibhaavana Rqixvm\\\",\\n            \\\"Julia Wwagjy\\\",\\n            \\\"Jiarui Mwzxlb\\\",\\n            \\\"Ethan Hrgwzn\\\",\\n            \\\"Dhanvi Sojxay\\\",\\n            \\\"Chenlong Nazpos\\\",\\n            \\\"Owen Fhupkt\\\",\\n            \\\"Sean Peluzn\\\",\\n            \\\"Yuhan Ucylpw\\\",\\n            \\\"Jason Yplncf\\\",\\n            \\\"Raymond Fiinnx\\\",\\n            \\\"Emily Bfrnqo\\\",\\n            \\\"Shekar Fbgnwm\\\",\\n            \\\"Yihuan Acbcbi\\\",\\n            \\\"Andrew Aspfmf\\\",\\n            \\\"Luke Xdcvkb\\\",\\n            \\\"Paige Esmhma\\\",\\n            \\\"Ellie Imoann\\\",\\n            \\\"Albert Qgwcyk\\\",\\n            \\\"Darren Fnsbqt\\\",\\n            \\\"Danny Xmbrwe\\\",\\n            \\\"Jovanna Qbjxig\\\",\\n            \\\"Sirui Gfkamq\\\",\\n            \\\"Han Ovkedz\\\",\\n            \\\"Reema Bivgjc\\\",\\n            \\\"Colin Bfwkhx\\\",\\n            \\\"Shandha Adsoum\\\",\\n            \\\"Arshia Swasay\\\",\\n            \\\"Allen Jyfxdy\\\",\\n            \\\"Rahul Johsqx\\\",\\n            \\\"Leah Djgyoi\\\",\\n            \\\"Hillary Jeatzg\\\",\\n            \\\"Karthyayani Woykys\\\",\\n            \\\"Hyejun Amjriy\\\",\\n            \\\"Brighton Rxvilk\\\",\\n            \\\"Kathleen Emyzqa\\\",\\n            \\\"Poornasree Dudfmt\\\",\\n            \\\"Kevin Sgywid\\\",\\n            \\\"Matilda Njozxe\\\",\\n            \\\"Ishaan Hussjd\\\",\\n            \\\"Martin Ewkwwm\\\",\\n            \\\"Dhruv Lzkzse\\\",\\n            \\\"Andy Fqkcuq\\\",\\n            \\\"Ayush Mdyryg\\\",\\n            \\\"Mizuho Oktwbh\\\",\\n            \\\"Utkarsh Wfpmqn\\\",\\n            \\\"Rushil Evasol\\\",\\n            \\\"Samuel Jngvkb\\\",\\n            \\\"David Fkygzf\\\",\\n            \\\"Ahmad Jhftmn\\\",\\n            \\\"Raine Bpahnx\\\",\\n            \\\"Thanh Ovjtaa\\\",\\n            \\\"Yucheng Rkcovt\\\",\\n            \\\"Peike Yujmyv\\\",\\n            \\\"Holden Iznlki\\\",\\n            \\\"Aaron Pprbrk\\\",\\n            \\\"Jacob Bwkqfn\\\",\\n            \\\"Ansh Ssydep\\\",\\n            \\\"Shruti Ahctez\\\",\\n            \\\"Ruofan Tthnck\\\",\\n            \\\"Ziyu Ckqhfa\\\",\\n            \\\"Anirvinna Ciqbzh\\\",\\n            \\\"Pranav Gnvqph\\\",\\n            \\\"Ziqi Jhvyjl\\\",\\n            \\\"Mehak Piuskl\\\",\\n            \\\"Trinity Gmrbel\\\",\\n            \\\"Evan Rzhomj\\\",\\n            \\\"Samantha Kxfzup\\\",\\n            \\\"Yulin Dwnyty\\\",\\n            \\\"Xueheng Eftnhw\\\",\\n            \\\"Leni Hlfjhh\\\",\\n            \\\"Dory Xaghsk\\\",\\n            \\\"Laura Xfqwzu\\\"\\n          ]\\n        }\\n      }\\n    },\\n    {\\n      \\\"type\\\": \\\"ApplyCall\\\",\\n      \\\"code_step\\\": \\\"roster.get('name').apply(first_name)\\\",\\n      \\\"fragment\\\": {\\n        \\\"start\\\": {\\n          \\\"line\\\": 0,\\n          \\\"ch\\\": 18\\n        },\\n        \\\"end\\\": {\\n          \\\"line\\\": 0,\\n          \\\"ch\\\": 36\\n        }\\n      },\\n      \\\"marks\\\": [\\n        {\\n          \\\"type\\\": \\\"map\\\",\\n          \\\"from\\\": {\\n            \\\"type\\\": \\\"axis\\\",\\n            \\\"anchor\\\": \\\"lhs\\\",\\n            \\\"select\\\": \\\"row\\\",\\n            \\\"label\\\": 0\\n          },\\n          \\\"to\\\": {\\n            \\\"type\\\": \\\"axis\\\",\\n            \\\"anchor\\\": \\\"rhs\\\",\\n            \\\"select\\\": \\\"row\\\",\\n            \\\"label\\\": 0\\n          }\\n        },\\n        {\\n          \\\"type\\\": \\\"map\\\",\\n          \\\"from\\\": {\\n            \\\"type\\\": \\\"axis\\\",\\n            \\\"anchor\\\": \\\"lhs\\\",\\n            \\\"select\\\": \\\"row\\\",\\n            \\\"label\\\": 1\\n          },\\n          \\\"to\\\": {\\n            \\\"type\\\": \\\"axis\\\",\\n            \\\"anchor\\\": \\\"rhs\\\",\\n            \\\"select\\\": \\\"row\\\",\\n            \\\"label\\\": 1\\n          }\\n        },\\n        {\\n          \\\"type\\\": \\\"map\\\",\\n          \\\"from\\\": {\\n            \\\"type\\\": \\\"axis\\\",\\n            \\\"anchor\\\": \\\"lhs\\\",\\n            \\\"select\\\": \\\"row\\\",\\n            \\\"label\\\": 2\\n          },\\n          \\\"to\\\": {\\n            \\\"type\\\": \\\"axis\\\",\\n            \\\"anchor\\\": \\\"rhs\\\",\\n            \\\"select\\\": \\\"row\\\",\\n            \\\"label\\\": 2\\n          }\\n        },\\n        {\\n          \\\"type\\\": \\\"map\\\",\\n          \\\"from\\\": {\\n            \\\"type\\\": \\\"axis\\\",\\n            \\\"anchor\\\": \\\"lhs\\\",\\n            \\\"select\\\": \\\"row\\\",\\n            \\\"label\\\": 3\\n          },\\n          \\\"to\\\": {\\n            \\\"type\\\": \\\"axis\\\",\\n            \\\"anchor\\\": \\\"rhs\\\",\\n            \\\"select\\\": \\\"row\\\",\\n            \\\"label\\\": 3\\n          }\\n        },\\n        {\\n          \\\"type\\\": \\\"map\\\",\\n          \\\"from\\\": {\\n            \\\"type\\\": \\\"axis\\\",\\n            \\\"anchor\\\": \\\"lhs\\\",\\n            \\\"select\\\": \\\"row\\\",\\n            \\\"label\\\": 4\\n          },\\n          \\\"to\\\": {\\n            \\\"type\\\": \\\"axis\\\",\\n            \\\"anchor\\\": \\\"rhs\\\",\\n            \\\"select\\\": \\\"row\\\",\\n            \\\"label\\\": 4\\n          }\\n        },\\n        {\\n          \\\"type\\\": \\\"map\\\",\\n          \\\"from\\\": {\\n            \\\"type\\\": \\\"axis\\\",\\n            \\\"anchor\\\": \\\"lhs\\\",\\n            \\\"select\\\": \\\"row\\\",\\n            \\\"label\\\": 5\\n          },\\n          \\\"to\\\": {\\n            \\\"type\\\": \\\"axis\\\",\\n            \\\"anchor\\\": \\\"rhs\\\",\\n            \\\"select\\\": \\\"row\\\",\\n            \\\"label\\\": 5\\n          }\\n        },\\n        {\\n          \\\"type\\\": \\\"map\\\",\\n          \\\"from\\\": {\\n            \\\"type\\\": \\\"axis\\\",\\n            \\\"anchor\\\": \\\"lhs\\\",\\n            \\\"select\\\": \\\"row\\\",\\n            \\\"label\\\": 6\\n          },\\n          \\\"to\\\": {\\n            \\\"type\\\": \\\"axis\\\",\\n            \\\"anchor\\\": \\\"rhs\\\",\\n            \\\"select\\\": \\\"row\\\",\\n            \\\"label\\\": 6\\n          }\\n        },\\n        {\\n          \\\"type\\\": \\\"map\\\",\\n          \\\"from\\\": {\\n            \\\"type\\\": \\\"axis\\\",\\n            \\\"anchor\\\": \\\"lhs\\\",\\n            \\\"select\\\": \\\"row\\\",\\n            \\\"label\\\": 7\\n          },\\n          \\\"to\\\": {\\n            \\\"type\\\": \\\"axis\\\",\\n            \\\"anchor\\\": \\\"rhs\\\",\\n            \\\"select\\\": \\\"row\\\",\\n            \\\"label\\\": 7\\n          }\\n        },\\n        {\\n          \\\"type\\\": \\\"map\\\",\\n          \\\"from\\\": {\\n            \\\"type\\\": \\\"axis\\\",\\n            \\\"anchor\\\": \\\"lhs\\\",\\n            \\\"select\\\": \\\"row\\\",\\n            \\\"label\\\": 8\\n          },\\n          \\\"to\\\": {\\n            \\\"type\\\": \\\"axis\\\",\\n            \\\"anchor\\\": \\\"rhs\\\",\\n            \\\"select\\\": \\\"row\\\",\\n            \\\"label\\\": 8\\n          }\\n        },\\n        {\\n          \\\"type\\\": \\\"map\\\",\\n          \\\"from\\\": {\\n            \\\"type\\\": \\\"axis\\\",\\n            \\\"anchor\\\": \\\"lhs\\\",\\n            \\\"select\\\": \\\"row\\\",\\n            \\\"label\\\": 9\\n          },\\n          \\\"to\\\": {\\n            \\\"type\\\": \\\"axis\\\",\\n            \\\"anchor\\\": \\\"rhs\\\",\\n            \\\"select\\\": \\\"row\\\",\\n            \\\"label\\\": 9\\n          }\\n        },\\n        {\\n          \\\"type\\\": \\\"map\\\",\\n          \\\"from\\\": {\\n            \\\"type\\\": \\\"axis\\\",\\n            \\\"anchor\\\": \\\"lhs\\\",\\n            \\\"select\\\": \\\"row\\\",\\n            \\\"label\\\": 10\\n          },\\n          \\\"to\\\": {\\n            \\\"type\\\": \\\"axis\\\",\\n            \\\"anchor\\\": \\\"rhs\\\",\\n            \\\"select\\\": \\\"row\\\",\\n            \\\"label\\\": 10\\n          }\\n        },\\n        {\\n          \\\"type\\\": \\\"map\\\",\\n          \\\"from\\\": {\\n            \\\"type\\\": \\\"axis\\\",\\n            \\\"anchor\\\": \\\"lhs\\\",\\n            \\\"select\\\": \\\"row\\\",\\n            \\\"label\\\": 11\\n          },\\n          \\\"to\\\": {\\n            \\\"type\\\": \\\"axis\\\",\\n            \\\"anchor\\\": \\\"rhs\\\",\\n            \\\"select\\\": \\\"row\\\",\\n            \\\"label\\\": 11\\n          }\\n        },\\n        {\\n          \\\"type\\\": \\\"map\\\",\\n          \\\"from\\\": {\\n            \\\"type\\\": \\\"axis\\\",\\n            \\\"anchor\\\": \\\"lhs\\\",\\n            \\\"select\\\": \\\"row\\\",\\n            \\\"label\\\": 12\\n          },\\n          \\\"to\\\": {\\n            \\\"type\\\": \\\"axis\\\",\\n            \\\"anchor\\\": \\\"rhs\\\",\\n            \\\"select\\\": \\\"row\\\",\\n            \\\"label\\\": 12\\n          }\\n        },\\n        {\\n          \\\"type\\\": \\\"map\\\",\\n          \\\"from\\\": {\\n            \\\"type\\\": \\\"axis\\\",\\n            \\\"anchor\\\": \\\"lhs\\\",\\n            \\\"select\\\": \\\"row\\\",\\n            \\\"label\\\": 13\\n          },\\n          \\\"to\\\": {\\n            \\\"type\\\": \\\"axis\\\",\\n            \\\"anchor\\\": \\\"rhs\\\",\\n            \\\"select\\\": \\\"row\\\",\\n            \\\"label\\\": 13\\n          }\\n        },\\n        {\\n          \\\"type\\\": \\\"map\\\",\\n          \\\"from\\\": {\\n            \\\"type\\\": \\\"axis\\\",\\n            \\\"anchor\\\": \\\"lhs\\\",\\n            \\\"select\\\": \\\"row\\\",\\n            \\\"label\\\": 14\\n          },\\n          \\\"to\\\": {\\n            \\\"type\\\": \\\"axis\\\",\\n            \\\"anchor\\\": \\\"rhs\\\",\\n            \\\"select\\\": \\\"row\\\",\\n            \\\"label\\\": 14\\n          }\\n        },\\n        {\\n          \\\"type\\\": \\\"map\\\",\\n          \\\"from\\\": {\\n            \\\"type\\\": \\\"axis\\\",\\n            \\\"anchor\\\": \\\"lhs\\\",\\n            \\\"select\\\": \\\"row\\\",\\n            \\\"label\\\": 15\\n          },\\n          \\\"to\\\": {\\n            \\\"type\\\": \\\"axis\\\",\\n            \\\"anchor\\\": \\\"rhs\\\",\\n            \\\"select\\\": \\\"row\\\",\\n            \\\"label\\\": 15\\n          }\\n        },\\n        {\\n          \\\"type\\\": \\\"map\\\",\\n          \\\"from\\\": {\\n            \\\"type\\\": \\\"axis\\\",\\n            \\\"anchor\\\": \\\"lhs\\\",\\n            \\\"select\\\": \\\"row\\\",\\n            \\\"label\\\": 16\\n          },\\n          \\\"to\\\": {\\n            \\\"type\\\": \\\"axis\\\",\\n            \\\"anchor\\\": \\\"rhs\\\",\\n            \\\"select\\\": \\\"row\\\",\\n            \\\"label\\\": 16\\n          }\\n        },\\n        {\\n          \\\"type\\\": \\\"map\\\",\\n          \\\"from\\\": {\\n            \\\"type\\\": \\\"axis\\\",\\n            \\\"anchor\\\": \\\"lhs\\\",\\n            \\\"select\\\": \\\"row\\\",\\n            \\\"label\\\": 17\\n          },\\n          \\\"to\\\": {\\n            \\\"type\\\": \\\"axis\\\",\\n            \\\"anchor\\\": \\\"rhs\\\",\\n            \\\"select\\\": \\\"row\\\",\\n            \\\"label\\\": 17\\n          }\\n        },\\n        {\\n          \\\"type\\\": \\\"map\\\",\\n          \\\"from\\\": {\\n            \\\"type\\\": \\\"axis\\\",\\n            \\\"anchor\\\": \\\"lhs\\\",\\n            \\\"select\\\": \\\"row\\\",\\n            \\\"label\\\": 18\\n          },\\n          \\\"to\\\": {\\n            \\\"type\\\": \\\"axis\\\",\\n            \\\"anchor\\\": \\\"rhs\\\",\\n            \\\"select\\\": \\\"row\\\",\\n            \\\"label\\\": 18\\n          }\\n        },\\n        {\\n          \\\"type\\\": \\\"map\\\",\\n          \\\"from\\\": {\\n            \\\"type\\\": \\\"axis\\\",\\n            \\\"anchor\\\": \\\"lhs\\\",\\n            \\\"select\\\": \\\"row\\\",\\n            \\\"label\\\": 19\\n          },\\n          \\\"to\\\": {\\n            \\\"type\\\": \\\"axis\\\",\\n            \\\"anchor\\\": \\\"rhs\\\",\\n            \\\"select\\\": \\\"row\\\",\\n            \\\"label\\\": 19\\n          }\\n        },\\n        {\\n          \\\"type\\\": \\\"map\\\",\\n          \\\"from\\\": {\\n            \\\"type\\\": \\\"axis\\\",\\n            \\\"anchor\\\": \\\"lhs\\\",\\n            \\\"select\\\": \\\"row\\\",\\n            \\\"label\\\": 20\\n          },\\n          \\\"to\\\": {\\n            \\\"type\\\": \\\"axis\\\",\\n            \\\"anchor\\\": \\\"rhs\\\",\\n            \\\"select\\\": \\\"row\\\",\\n            \\\"label\\\": 20\\n          }\\n        },\\n        {\\n          \\\"type\\\": \\\"map\\\",\\n          \\\"from\\\": {\\n            \\\"type\\\": \\\"axis\\\",\\n            \\\"anchor\\\": \\\"lhs\\\",\\n            \\\"select\\\": \\\"row\\\",\\n            \\\"label\\\": 21\\n          },\\n          \\\"to\\\": {\\n            \\\"type\\\": \\\"axis\\\",\\n            \\\"anchor\\\": \\\"rhs\\\",\\n            \\\"select\\\": \\\"row\\\",\\n            \\\"label\\\": 21\\n          }\\n        },\\n        {\\n          \\\"type\\\": \\\"map\\\",\\n          \\\"from\\\": {\\n            \\\"type\\\": \\\"axis\\\",\\n            \\\"anchor\\\": \\\"lhs\\\",\\n            \\\"select\\\": \\\"row\\\",\\n            \\\"label\\\": 22\\n          },\\n          \\\"to\\\": {\\n            \\\"type\\\": \\\"axis\\\",\\n            \\\"anchor\\\": \\\"rhs\\\",\\n            \\\"select\\\": \\\"row\\\",\\n            \\\"label\\\": 22\\n          }\\n        },\\n        {\\n          \\\"type\\\": \\\"map\\\",\\n          \\\"from\\\": {\\n            \\\"type\\\": \\\"axis\\\",\\n            \\\"anchor\\\": \\\"lhs\\\",\\n            \\\"select\\\": \\\"row\\\",\\n            \\\"label\\\": 23\\n          },\\n          \\\"to\\\": {\\n            \\\"type\\\": \\\"axis\\\",\\n            \\\"anchor\\\": \\\"rhs\\\",\\n            \\\"select\\\": \\\"row\\\",\\n            \\\"label\\\": 23\\n          }\\n        },\\n        {\\n          \\\"type\\\": \\\"map\\\",\\n          \\\"from\\\": {\\n            \\\"type\\\": \\\"axis\\\",\\n            \\\"anchor\\\": \\\"lhs\\\",\\n            \\\"select\\\": \\\"row\\\",\\n            \\\"label\\\": 24\\n          },\\n          \\\"to\\\": {\\n            \\\"type\\\": \\\"axis\\\",\\n            \\\"anchor\\\": \\\"rhs\\\",\\n            \\\"select\\\": \\\"row\\\",\\n            \\\"label\\\": 24\\n          }\\n        },\\n        {\\n          \\\"type\\\": \\\"map\\\",\\n          \\\"from\\\": {\\n            \\\"type\\\": \\\"axis\\\",\\n            \\\"anchor\\\": \\\"lhs\\\",\\n            \\\"select\\\": \\\"row\\\",\\n            \\\"label\\\": 25\\n          },\\n          \\\"to\\\": {\\n            \\\"type\\\": \\\"axis\\\",\\n            \\\"anchor\\\": \\\"rhs\\\",\\n            \\\"select\\\": \\\"row\\\",\\n            \\\"label\\\": 25\\n          }\\n        },\\n        {\\n          \\\"type\\\": \\\"map\\\",\\n          \\\"from\\\": {\\n            \\\"type\\\": \\\"axis\\\",\\n            \\\"anchor\\\": \\\"lhs\\\",\\n            \\\"select\\\": \\\"row\\\",\\n            \\\"label\\\": 26\\n          },\\n          \\\"to\\\": {\\n            \\\"type\\\": \\\"axis\\\",\\n            \\\"anchor\\\": \\\"rhs\\\",\\n            \\\"select\\\": \\\"row\\\",\\n            \\\"label\\\": 26\\n          }\\n        },\\n        {\\n          \\\"type\\\": \\\"map\\\",\\n          \\\"from\\\": {\\n            \\\"type\\\": \\\"axis\\\",\\n            \\\"anchor\\\": \\\"lhs\\\",\\n            \\\"select\\\": \\\"row\\\",\\n            \\\"label\\\": 27\\n          },\\n          \\\"to\\\": {\\n            \\\"type\\\": \\\"axis\\\",\\n            \\\"anchor\\\": \\\"rhs\\\",\\n            \\\"select\\\": \\\"row\\\",\\n            \\\"label\\\": 27\\n          }\\n        },\\n        {\\n          \\\"type\\\": \\\"map\\\",\\n          \\\"from\\\": {\\n            \\\"type\\\": \\\"axis\\\",\\n            \\\"anchor\\\": \\\"lhs\\\",\\n            \\\"select\\\": \\\"row\\\",\\n            \\\"label\\\": 28\\n          },\\n          \\\"to\\\": {\\n            \\\"type\\\": \\\"axis\\\",\\n            \\\"anchor\\\": \\\"rhs\\\",\\n            \\\"select\\\": \\\"row\\\",\\n            \\\"label\\\": 28\\n          }\\n        },\\n        {\\n          \\\"type\\\": \\\"map\\\",\\n          \\\"from\\\": {\\n            \\\"type\\\": \\\"axis\\\",\\n            \\\"anchor\\\": \\\"lhs\\\",\\n            \\\"select\\\": \\\"row\\\",\\n            \\\"label\\\": 29\\n          },\\n          \\\"to\\\": {\\n            \\\"type\\\": \\\"axis\\\",\\n            \\\"anchor\\\": \\\"rhs\\\",\\n            \\\"select\\\": \\\"row\\\",\\n            \\\"label\\\": 29\\n          }\\n        },\\n        {\\n          \\\"type\\\": \\\"map\\\",\\n          \\\"from\\\": {\\n            \\\"type\\\": \\\"axis\\\",\\n            \\\"anchor\\\": \\\"lhs\\\",\\n            \\\"select\\\": \\\"row\\\",\\n            \\\"label\\\": 30\\n          },\\n          \\\"to\\\": {\\n            \\\"type\\\": \\\"axis\\\",\\n            \\\"anchor\\\": \\\"rhs\\\",\\n            \\\"select\\\": \\\"row\\\",\\n            \\\"label\\\": 30\\n          }\\n        },\\n        {\\n          \\\"type\\\": \\\"map\\\",\\n          \\\"from\\\": {\\n            \\\"type\\\": \\\"axis\\\",\\n            \\\"anchor\\\": \\\"lhs\\\",\\n            \\\"select\\\": \\\"row\\\",\\n            \\\"label\\\": 31\\n          },\\n          \\\"to\\\": {\\n            \\\"type\\\": \\\"axis\\\",\\n            \\\"anchor\\\": \\\"rhs\\\",\\n            \\\"select\\\": \\\"row\\\",\\n            \\\"label\\\": 31\\n          }\\n        },\\n        {\\n          \\\"type\\\": \\\"map\\\",\\n          \\\"from\\\": {\\n            \\\"type\\\": \\\"axis\\\",\\n            \\\"anchor\\\": \\\"lhs\\\",\\n            \\\"select\\\": \\\"row\\\",\\n            \\\"label\\\": 32\\n          },\\n          \\\"to\\\": {\\n            \\\"type\\\": \\\"axis\\\",\\n            \\\"anchor\\\": \\\"rhs\\\",\\n            \\\"select\\\": \\\"row\\\",\\n            \\\"label\\\": 32\\n          }\\n        },\\n        {\\n          \\\"type\\\": \\\"map\\\",\\n          \\\"from\\\": {\\n            \\\"type\\\": \\\"axis\\\",\\n            \\\"anchor\\\": \\\"lhs\\\",\\n            \\\"select\\\": \\\"row\\\",\\n            \\\"label\\\": 33\\n          },\\n          \\\"to\\\": {\\n            \\\"type\\\": \\\"axis\\\",\\n            \\\"anchor\\\": \\\"rhs\\\",\\n            \\\"select\\\": \\\"row\\\",\\n            \\\"label\\\": 33\\n          }\\n        },\\n        {\\n          \\\"type\\\": \\\"map\\\",\\n          \\\"from\\\": {\\n            \\\"type\\\": \\\"axis\\\",\\n            \\\"anchor\\\": \\\"lhs\\\",\\n            \\\"select\\\": \\\"row\\\",\\n            \\\"label\\\": 34\\n          },\\n          \\\"to\\\": {\\n            \\\"type\\\": \\\"axis\\\",\\n            \\\"anchor\\\": \\\"rhs\\\",\\n            \\\"select\\\": \\\"row\\\",\\n            \\\"label\\\": 34\\n          }\\n        },\\n        {\\n          \\\"type\\\": \\\"map\\\",\\n          \\\"from\\\": {\\n            \\\"type\\\": \\\"axis\\\",\\n            \\\"anchor\\\": \\\"lhs\\\",\\n            \\\"select\\\": \\\"row\\\",\\n            \\\"label\\\": 35\\n          },\\n          \\\"to\\\": {\\n            \\\"type\\\": \\\"axis\\\",\\n            \\\"anchor\\\": \\\"rhs\\\",\\n            \\\"select\\\": \\\"row\\\",\\n            \\\"label\\\": 35\\n          }\\n        },\\n        {\\n          \\\"type\\\": \\\"map\\\",\\n          \\\"from\\\": {\\n            \\\"type\\\": \\\"axis\\\",\\n            \\\"anchor\\\": \\\"lhs\\\",\\n            \\\"select\\\": \\\"row\\\",\\n            \\\"label\\\": 36\\n          },\\n          \\\"to\\\": {\\n            \\\"type\\\": \\\"axis\\\",\\n            \\\"anchor\\\": \\\"rhs\\\",\\n            \\\"select\\\": \\\"row\\\",\\n            \\\"label\\\": 36\\n          }\\n        },\\n        {\\n          \\\"type\\\": \\\"map\\\",\\n          \\\"from\\\": {\\n            \\\"type\\\": \\\"axis\\\",\\n            \\\"anchor\\\": \\\"lhs\\\",\\n            \\\"select\\\": \\\"row\\\",\\n            \\\"label\\\": 37\\n          },\\n          \\\"to\\\": {\\n            \\\"type\\\": \\\"axis\\\",\\n            \\\"anchor\\\": \\\"rhs\\\",\\n            \\\"select\\\": \\\"row\\\",\\n            \\\"label\\\": 37\\n          }\\n        },\\n        {\\n          \\\"type\\\": \\\"map\\\",\\n          \\\"from\\\": {\\n            \\\"type\\\": \\\"axis\\\",\\n            \\\"anchor\\\": \\\"lhs\\\",\\n            \\\"select\\\": \\\"row\\\",\\n            \\\"label\\\": 38\\n          },\\n          \\\"to\\\": {\\n            \\\"type\\\": \\\"axis\\\",\\n            \\\"anchor\\\": \\\"rhs\\\",\\n            \\\"select\\\": \\\"row\\\",\\n            \\\"label\\\": 38\\n          }\\n        },\\n        {\\n          \\\"type\\\": \\\"map\\\",\\n          \\\"from\\\": {\\n            \\\"type\\\": \\\"axis\\\",\\n            \\\"anchor\\\": \\\"lhs\\\",\\n            \\\"select\\\": \\\"row\\\",\\n            \\\"label\\\": 39\\n          },\\n          \\\"to\\\": {\\n            \\\"type\\\": \\\"axis\\\",\\n            \\\"anchor\\\": \\\"rhs\\\",\\n            \\\"select\\\": \\\"row\\\",\\n            \\\"label\\\": 39\\n          }\\n        },\\n        {\\n          \\\"type\\\": \\\"map\\\",\\n          \\\"from\\\": {\\n            \\\"type\\\": \\\"axis\\\",\\n            \\\"anchor\\\": \\\"lhs\\\",\\n            \\\"select\\\": \\\"row\\\",\\n            \\\"label\\\": 40\\n          },\\n          \\\"to\\\": {\\n            \\\"type\\\": \\\"axis\\\",\\n            \\\"anchor\\\": \\\"rhs\\\",\\n            \\\"select\\\": \\\"row\\\",\\n            \\\"label\\\": 40\\n          }\\n        },\\n        {\\n          \\\"type\\\": \\\"map\\\",\\n          \\\"from\\\": {\\n            \\\"type\\\": \\\"axis\\\",\\n            \\\"anchor\\\": \\\"lhs\\\",\\n            \\\"select\\\": \\\"row\\\",\\n            \\\"label\\\": 41\\n          },\\n          \\\"to\\\": {\\n            \\\"type\\\": \\\"axis\\\",\\n            \\\"anchor\\\": \\\"rhs\\\",\\n            \\\"select\\\": \\\"row\\\",\\n            \\\"label\\\": 41\\n          }\\n        },\\n        {\\n          \\\"type\\\": \\\"map\\\",\\n          \\\"from\\\": {\\n            \\\"type\\\": \\\"axis\\\",\\n            \\\"anchor\\\": \\\"lhs\\\",\\n            \\\"select\\\": \\\"row\\\",\\n            \\\"label\\\": 42\\n          },\\n          \\\"to\\\": {\\n            \\\"type\\\": \\\"axis\\\",\\n            \\\"anchor\\\": \\\"rhs\\\",\\n            \\\"select\\\": \\\"row\\\",\\n            \\\"label\\\": 42\\n          }\\n        },\\n        {\\n          \\\"type\\\": \\\"map\\\",\\n          \\\"from\\\": {\\n            \\\"type\\\": \\\"axis\\\",\\n            \\\"anchor\\\": \\\"lhs\\\",\\n            \\\"select\\\": \\\"row\\\",\\n            \\\"label\\\": 43\\n          },\\n          \\\"to\\\": {\\n            \\\"type\\\": \\\"axis\\\",\\n            \\\"anchor\\\": \\\"rhs\\\",\\n            \\\"select\\\": \\\"row\\\",\\n            \\\"label\\\": 43\\n          }\\n        },\\n        {\\n          \\\"type\\\": \\\"map\\\",\\n          \\\"from\\\": {\\n            \\\"type\\\": \\\"axis\\\",\\n            \\\"anchor\\\": \\\"lhs\\\",\\n            \\\"select\\\": \\\"row\\\",\\n            \\\"label\\\": 44\\n          },\\n          \\\"to\\\": {\\n            \\\"type\\\": \\\"axis\\\",\\n            \\\"anchor\\\": \\\"rhs\\\",\\n            \\\"select\\\": \\\"row\\\",\\n            \\\"label\\\": 44\\n          }\\n        },\\n        {\\n          \\\"type\\\": \\\"map\\\",\\n          \\\"from\\\": {\\n            \\\"type\\\": \\\"axis\\\",\\n            \\\"anchor\\\": \\\"lhs\\\",\\n            \\\"select\\\": \\\"row\\\",\\n            \\\"label\\\": 45\\n          },\\n          \\\"to\\\": {\\n            \\\"type\\\": \\\"axis\\\",\\n            \\\"anchor\\\": \\\"rhs\\\",\\n            \\\"select\\\": \\\"row\\\",\\n            \\\"label\\\": 45\\n          }\\n        },\\n        {\\n          \\\"type\\\": \\\"map\\\",\\n          \\\"from\\\": {\\n            \\\"type\\\": \\\"axis\\\",\\n            \\\"anchor\\\": \\\"lhs\\\",\\n            \\\"select\\\": \\\"row\\\",\\n            \\\"label\\\": 46\\n          },\\n          \\\"to\\\": {\\n            \\\"type\\\": \\\"axis\\\",\\n            \\\"anchor\\\": \\\"rhs\\\",\\n            \\\"select\\\": \\\"row\\\",\\n            \\\"label\\\": 46\\n          }\\n        },\\n        {\\n          \\\"type\\\": \\\"map\\\",\\n          \\\"from\\\": {\\n            \\\"type\\\": \\\"axis\\\",\\n            \\\"anchor\\\": \\\"lhs\\\",\\n            \\\"select\\\": \\\"row\\\",\\n            \\\"label\\\": 47\\n          },\\n          \\\"to\\\": {\\n            \\\"type\\\": \\\"axis\\\",\\n            \\\"anchor\\\": \\\"rhs\\\",\\n            \\\"select\\\": \\\"row\\\",\\n            \\\"label\\\": 47\\n          }\\n        },\\n        {\\n          \\\"type\\\": \\\"map\\\",\\n          \\\"from\\\": {\\n            \\\"type\\\": \\\"axis\\\",\\n            \\\"anchor\\\": \\\"lhs\\\",\\n            \\\"select\\\": \\\"row\\\",\\n            \\\"label\\\": 48\\n          },\\n          \\\"to\\\": {\\n            \\\"type\\\": \\\"axis\\\",\\n            \\\"anchor\\\": \\\"rhs\\\",\\n            \\\"select\\\": \\\"row\\\",\\n            \\\"label\\\": 48\\n          }\\n        },\\n        {\\n          \\\"type\\\": \\\"map\\\",\\n          \\\"from\\\": {\\n            \\\"type\\\": \\\"axis\\\",\\n            \\\"anchor\\\": \\\"lhs\\\",\\n            \\\"select\\\": \\\"row\\\",\\n            \\\"label\\\": 49\\n          },\\n          \\\"to\\\": {\\n            \\\"type\\\": \\\"axis\\\",\\n            \\\"anchor\\\": \\\"rhs\\\",\\n            \\\"select\\\": \\\"row\\\",\\n            \\\"label\\\": 49\\n          }\\n        },\\n        {\\n          \\\"type\\\": \\\"map\\\",\\n          \\\"from\\\": {\\n            \\\"type\\\": \\\"axis\\\",\\n            \\\"anchor\\\": \\\"lhs\\\",\\n            \\\"select\\\": \\\"row\\\",\\n            \\\"label\\\": 50\\n          },\\n          \\\"to\\\": {\\n            \\\"type\\\": \\\"axis\\\",\\n            \\\"anchor\\\": \\\"rhs\\\",\\n            \\\"select\\\": \\\"row\\\",\\n            \\\"label\\\": 50\\n          }\\n        },\\n        {\\n          \\\"type\\\": \\\"map\\\",\\n          \\\"from\\\": {\\n            \\\"type\\\": \\\"axis\\\",\\n            \\\"anchor\\\": \\\"lhs\\\",\\n            \\\"select\\\": \\\"row\\\",\\n            \\\"label\\\": 51\\n          },\\n          \\\"to\\\": {\\n            \\\"type\\\": \\\"axis\\\",\\n            \\\"anchor\\\": \\\"rhs\\\",\\n            \\\"select\\\": \\\"row\\\",\\n            \\\"label\\\": 51\\n          }\\n        },\\n        {\\n          \\\"type\\\": \\\"map\\\",\\n          \\\"from\\\": {\\n            \\\"type\\\": \\\"axis\\\",\\n            \\\"anchor\\\": \\\"lhs\\\",\\n            \\\"select\\\": \\\"row\\\",\\n            \\\"label\\\": 52\\n          },\\n          \\\"to\\\": {\\n            \\\"type\\\": \\\"axis\\\",\\n            \\\"anchor\\\": \\\"rhs\\\",\\n            \\\"select\\\": \\\"row\\\",\\n            \\\"label\\\": 52\\n          }\\n        },\\n        {\\n          \\\"type\\\": \\\"map\\\",\\n          \\\"from\\\": {\\n            \\\"type\\\": \\\"axis\\\",\\n            \\\"anchor\\\": \\\"lhs\\\",\\n            \\\"select\\\": \\\"row\\\",\\n            \\\"label\\\": 53\\n          },\\n          \\\"to\\\": {\\n            \\\"type\\\": \\\"axis\\\",\\n            \\\"anchor\\\": \\\"rhs\\\",\\n            \\\"select\\\": \\\"row\\\",\\n            \\\"label\\\": 53\\n          }\\n        },\\n        {\\n          \\\"type\\\": \\\"map\\\",\\n          \\\"from\\\": {\\n            \\\"type\\\": \\\"axis\\\",\\n            \\\"anchor\\\": \\\"lhs\\\",\\n            \\\"select\\\": \\\"row\\\",\\n            \\\"label\\\": 54\\n          },\\n          \\\"to\\\": {\\n            \\\"type\\\": \\\"axis\\\",\\n            \\\"anchor\\\": \\\"rhs\\\",\\n            \\\"select\\\": \\\"row\\\",\\n            \\\"label\\\": 54\\n          }\\n        },\\n        {\\n          \\\"type\\\": \\\"map\\\",\\n          \\\"from\\\": {\\n            \\\"type\\\": \\\"axis\\\",\\n            \\\"anchor\\\": \\\"lhs\\\",\\n            \\\"select\\\": \\\"row\\\",\\n            \\\"label\\\": 55\\n          },\\n          \\\"to\\\": {\\n            \\\"type\\\": \\\"axis\\\",\\n            \\\"anchor\\\": \\\"rhs\\\",\\n            \\\"select\\\": \\\"row\\\",\\n            \\\"label\\\": 55\\n          }\\n        },\\n        {\\n          \\\"type\\\": \\\"map\\\",\\n          \\\"from\\\": {\\n            \\\"type\\\": \\\"axis\\\",\\n            \\\"anchor\\\": \\\"lhs\\\",\\n            \\\"select\\\": \\\"row\\\",\\n            \\\"label\\\": 56\\n          },\\n          \\\"to\\\": {\\n            \\\"type\\\": \\\"axis\\\",\\n            \\\"anchor\\\": \\\"rhs\\\",\\n            \\\"select\\\": \\\"row\\\",\\n            \\\"label\\\": 56\\n          }\\n        },\\n        {\\n          \\\"type\\\": \\\"map\\\",\\n          \\\"from\\\": {\\n            \\\"type\\\": \\\"axis\\\",\\n            \\\"anchor\\\": \\\"lhs\\\",\\n            \\\"select\\\": \\\"row\\\",\\n            \\\"label\\\": 57\\n          },\\n          \\\"to\\\": {\\n            \\\"type\\\": \\\"axis\\\",\\n            \\\"anchor\\\": \\\"rhs\\\",\\n            \\\"select\\\": \\\"row\\\",\\n            \\\"label\\\": 57\\n          }\\n        },\\n        {\\n          \\\"type\\\": \\\"map\\\",\\n          \\\"from\\\": {\\n            \\\"type\\\": \\\"axis\\\",\\n            \\\"anchor\\\": \\\"lhs\\\",\\n            \\\"select\\\": \\\"row\\\",\\n            \\\"label\\\": 58\\n          },\\n          \\\"to\\\": {\\n            \\\"type\\\": \\\"axis\\\",\\n            \\\"anchor\\\": \\\"rhs\\\",\\n            \\\"select\\\": \\\"row\\\",\\n            \\\"label\\\": 58\\n          }\\n        },\\n        {\\n          \\\"type\\\": \\\"map\\\",\\n          \\\"from\\\": {\\n            \\\"type\\\": \\\"axis\\\",\\n            \\\"anchor\\\": \\\"lhs\\\",\\n            \\\"select\\\": \\\"row\\\",\\n            \\\"label\\\": 59\\n          },\\n          \\\"to\\\": {\\n            \\\"type\\\": \\\"axis\\\",\\n            \\\"anchor\\\": \\\"rhs\\\",\\n            \\\"select\\\": \\\"row\\\",\\n            \\\"label\\\": 59\\n          }\\n        },\\n        {\\n          \\\"type\\\": \\\"map\\\",\\n          \\\"from\\\": {\\n            \\\"type\\\": \\\"axis\\\",\\n            \\\"anchor\\\": \\\"lhs\\\",\\n            \\\"select\\\": \\\"row\\\",\\n            \\\"label\\\": 60\\n          },\\n          \\\"to\\\": {\\n            \\\"type\\\": \\\"axis\\\",\\n            \\\"anchor\\\": \\\"rhs\\\",\\n            \\\"select\\\": \\\"row\\\",\\n            \\\"label\\\": 60\\n          }\\n        },\\n        {\\n          \\\"type\\\": \\\"map\\\",\\n          \\\"from\\\": {\\n            \\\"type\\\": \\\"axis\\\",\\n            \\\"anchor\\\": \\\"lhs\\\",\\n            \\\"select\\\": \\\"row\\\",\\n            \\\"label\\\": 61\\n          },\\n          \\\"to\\\": {\\n            \\\"type\\\": \\\"axis\\\",\\n            \\\"anchor\\\": \\\"rhs\\\",\\n            \\\"select\\\": \\\"row\\\",\\n            \\\"label\\\": 61\\n          }\\n        },\\n        {\\n          \\\"type\\\": \\\"map\\\",\\n          \\\"from\\\": {\\n            \\\"type\\\": \\\"axis\\\",\\n            \\\"anchor\\\": \\\"lhs\\\",\\n            \\\"select\\\": \\\"row\\\",\\n            \\\"label\\\": 62\\n          },\\n          \\\"to\\\": {\\n            \\\"type\\\": \\\"axis\\\",\\n            \\\"anchor\\\": \\\"rhs\\\",\\n            \\\"select\\\": \\\"row\\\",\\n            \\\"label\\\": 62\\n          }\\n        },\\n        {\\n          \\\"type\\\": \\\"map\\\",\\n          \\\"from\\\": {\\n            \\\"type\\\": \\\"axis\\\",\\n            \\\"anchor\\\": \\\"lhs\\\",\\n            \\\"select\\\": \\\"row\\\",\\n            \\\"label\\\": 63\\n          },\\n          \\\"to\\\": {\\n            \\\"type\\\": \\\"axis\\\",\\n            \\\"anchor\\\": \\\"rhs\\\",\\n            \\\"select\\\": \\\"row\\\",\\n            \\\"label\\\": 63\\n          }\\n        },\\n        {\\n          \\\"type\\\": \\\"map\\\",\\n          \\\"from\\\": {\\n            \\\"type\\\": \\\"axis\\\",\\n            \\\"anchor\\\": \\\"lhs\\\",\\n            \\\"select\\\": \\\"row\\\",\\n            \\\"label\\\": 64\\n          },\\n          \\\"to\\\": {\\n            \\\"type\\\": \\\"axis\\\",\\n            \\\"anchor\\\": \\\"rhs\\\",\\n            \\\"select\\\": \\\"row\\\",\\n            \\\"label\\\": 64\\n          }\\n        },\\n        {\\n          \\\"type\\\": \\\"map\\\",\\n          \\\"from\\\": {\\n            \\\"type\\\": \\\"axis\\\",\\n            \\\"anchor\\\": \\\"lhs\\\",\\n            \\\"select\\\": \\\"row\\\",\\n            \\\"label\\\": 65\\n          },\\n          \\\"to\\\": {\\n            \\\"type\\\": \\\"axis\\\",\\n            \\\"anchor\\\": \\\"rhs\\\",\\n            \\\"select\\\": \\\"row\\\",\\n            \\\"label\\\": 65\\n          }\\n        },\\n        {\\n          \\\"type\\\": \\\"map\\\",\\n          \\\"from\\\": {\\n            \\\"type\\\": \\\"axis\\\",\\n            \\\"anchor\\\": \\\"lhs\\\",\\n            \\\"select\\\": \\\"row\\\",\\n            \\\"label\\\": 66\\n          },\\n          \\\"to\\\": {\\n            \\\"type\\\": \\\"axis\\\",\\n            \\\"anchor\\\": \\\"rhs\\\",\\n            \\\"select\\\": \\\"row\\\",\\n            \\\"label\\\": 66\\n          }\\n        },\\n        {\\n          \\\"type\\\": \\\"map\\\",\\n          \\\"from\\\": {\\n            \\\"type\\\": \\\"axis\\\",\\n            \\\"anchor\\\": \\\"lhs\\\",\\n            \\\"select\\\": \\\"row\\\",\\n            \\\"label\\\": 67\\n          },\\n          \\\"to\\\": {\\n            \\\"type\\\": \\\"axis\\\",\\n            \\\"anchor\\\": \\\"rhs\\\",\\n            \\\"select\\\": \\\"row\\\",\\n            \\\"label\\\": 67\\n          }\\n        },\\n        {\\n          \\\"type\\\": \\\"map\\\",\\n          \\\"from\\\": {\\n            \\\"type\\\": \\\"axis\\\",\\n            \\\"anchor\\\": \\\"lhs\\\",\\n            \\\"select\\\": \\\"row\\\",\\n            \\\"label\\\": 68\\n          },\\n          \\\"to\\\": {\\n            \\\"type\\\": \\\"axis\\\",\\n            \\\"anchor\\\": \\\"rhs\\\",\\n            \\\"select\\\": \\\"row\\\",\\n            \\\"label\\\": 68\\n          }\\n        },\\n        {\\n          \\\"type\\\": \\\"map\\\",\\n          \\\"from\\\": {\\n            \\\"type\\\": \\\"axis\\\",\\n            \\\"anchor\\\": \\\"lhs\\\",\\n            \\\"select\\\": \\\"row\\\",\\n            \\\"label\\\": 69\\n          },\\n          \\\"to\\\": {\\n            \\\"type\\\": \\\"axis\\\",\\n            \\\"anchor\\\": \\\"rhs\\\",\\n            \\\"select\\\": \\\"row\\\",\\n            \\\"label\\\": 69\\n          }\\n        },\\n        {\\n          \\\"type\\\": \\\"map\\\",\\n          \\\"from\\\": {\\n            \\\"type\\\": \\\"axis\\\",\\n            \\\"anchor\\\": \\\"lhs\\\",\\n            \\\"select\\\": \\\"row\\\",\\n            \\\"label\\\": 70\\n          },\\n          \\\"to\\\": {\\n            \\\"type\\\": \\\"axis\\\",\\n            \\\"anchor\\\": \\\"rhs\\\",\\n            \\\"select\\\": \\\"row\\\",\\n            \\\"label\\\": 70\\n          }\\n        },\\n        {\\n          \\\"type\\\": \\\"map\\\",\\n          \\\"from\\\": {\\n            \\\"type\\\": \\\"axis\\\",\\n            \\\"anchor\\\": \\\"lhs\\\",\\n            \\\"select\\\": \\\"row\\\",\\n            \\\"label\\\": 71\\n          },\\n          \\\"to\\\": {\\n            \\\"type\\\": \\\"axis\\\",\\n            \\\"anchor\\\": \\\"rhs\\\",\\n            \\\"select\\\": \\\"row\\\",\\n            \\\"label\\\": 71\\n          }\\n        },\\n        {\\n          \\\"type\\\": \\\"map\\\",\\n          \\\"from\\\": {\\n            \\\"type\\\": \\\"axis\\\",\\n            \\\"anchor\\\": \\\"lhs\\\",\\n            \\\"select\\\": \\\"row\\\",\\n            \\\"label\\\": 72\\n          },\\n          \\\"to\\\": {\\n            \\\"type\\\": \\\"axis\\\",\\n            \\\"anchor\\\": \\\"rhs\\\",\\n            \\\"select\\\": \\\"row\\\",\\n            \\\"label\\\": 72\\n          }\\n        },\\n        {\\n          \\\"type\\\": \\\"map\\\",\\n          \\\"from\\\": {\\n            \\\"type\\\": \\\"axis\\\",\\n            \\\"anchor\\\": \\\"lhs\\\",\\n            \\\"select\\\": \\\"row\\\",\\n            \\\"label\\\": 73\\n          },\\n          \\\"to\\\": {\\n            \\\"type\\\": \\\"axis\\\",\\n            \\\"anchor\\\": \\\"rhs\\\",\\n            \\\"select\\\": \\\"row\\\",\\n            \\\"label\\\": 73\\n          }\\n        },\\n        {\\n          \\\"type\\\": \\\"map\\\",\\n          \\\"from\\\": {\\n            \\\"type\\\": \\\"axis\\\",\\n            \\\"anchor\\\": \\\"lhs\\\",\\n            \\\"select\\\": \\\"row\\\",\\n            \\\"label\\\": 74\\n          },\\n          \\\"to\\\": {\\n            \\\"type\\\": \\\"axis\\\",\\n            \\\"anchor\\\": \\\"rhs\\\",\\n            \\\"select\\\": \\\"row\\\",\\n            \\\"label\\\": 74\\n          }\\n        },\\n        {\\n          \\\"type\\\": \\\"map\\\",\\n          \\\"from\\\": {\\n            \\\"type\\\": \\\"axis\\\",\\n            \\\"anchor\\\": \\\"lhs\\\",\\n            \\\"select\\\": \\\"row\\\",\\n            \\\"label\\\": 75\\n          },\\n          \\\"to\\\": {\\n            \\\"type\\\": \\\"axis\\\",\\n            \\\"anchor\\\": \\\"rhs\\\",\\n            \\\"select\\\": \\\"row\\\",\\n            \\\"label\\\": 75\\n          }\\n        },\\n        {\\n          \\\"type\\\": \\\"map\\\",\\n          \\\"from\\\": {\\n            \\\"type\\\": \\\"axis\\\",\\n            \\\"anchor\\\": \\\"lhs\\\",\\n            \\\"select\\\": \\\"row\\\",\\n            \\\"label\\\": 76\\n          },\\n          \\\"to\\\": {\\n            \\\"type\\\": \\\"axis\\\",\\n            \\\"anchor\\\": \\\"rhs\\\",\\n            \\\"select\\\": \\\"row\\\",\\n            \\\"label\\\": 76\\n          }\\n        },\\n        {\\n          \\\"type\\\": \\\"map\\\",\\n          \\\"from\\\": {\\n            \\\"type\\\": \\\"axis\\\",\\n            \\\"anchor\\\": \\\"lhs\\\",\\n            \\\"select\\\": \\\"row\\\",\\n            \\\"label\\\": 77\\n          },\\n          \\\"to\\\": {\\n            \\\"type\\\": \\\"axis\\\",\\n            \\\"anchor\\\": \\\"rhs\\\",\\n            \\\"select\\\": \\\"row\\\",\\n            \\\"label\\\": 77\\n          }\\n        },\\n        {\\n          \\\"type\\\": \\\"map\\\",\\n          \\\"from\\\": {\\n            \\\"type\\\": \\\"axis\\\",\\n            \\\"anchor\\\": \\\"lhs\\\",\\n            \\\"select\\\": \\\"row\\\",\\n            \\\"label\\\": 78\\n          },\\n          \\\"to\\\": {\\n            \\\"type\\\": \\\"axis\\\",\\n            \\\"anchor\\\": \\\"rhs\\\",\\n            \\\"select\\\": \\\"row\\\",\\n            \\\"label\\\": 78\\n          }\\n        },\\n        {\\n          \\\"type\\\": \\\"map\\\",\\n          \\\"from\\\": {\\n            \\\"type\\\": \\\"axis\\\",\\n            \\\"anchor\\\": \\\"lhs\\\",\\n            \\\"select\\\": \\\"row\\\",\\n            \\\"label\\\": 79\\n          },\\n          \\\"to\\\": {\\n            \\\"type\\\": \\\"axis\\\",\\n            \\\"anchor\\\": \\\"rhs\\\",\\n            \\\"select\\\": \\\"row\\\",\\n            \\\"label\\\": 79\\n          }\\n        },\\n        {\\n          \\\"type\\\": \\\"map\\\",\\n          \\\"from\\\": {\\n            \\\"type\\\": \\\"axis\\\",\\n            \\\"anchor\\\": \\\"lhs\\\",\\n            \\\"select\\\": \\\"row\\\",\\n            \\\"label\\\": 80\\n          },\\n          \\\"to\\\": {\\n            \\\"type\\\": \\\"axis\\\",\\n            \\\"anchor\\\": \\\"rhs\\\",\\n            \\\"select\\\": \\\"row\\\",\\n            \\\"label\\\": 80\\n          }\\n        },\\n        {\\n          \\\"type\\\": \\\"map\\\",\\n          \\\"from\\\": {\\n            \\\"type\\\": \\\"axis\\\",\\n            \\\"anchor\\\": \\\"lhs\\\",\\n            \\\"select\\\": \\\"row\\\",\\n            \\\"label\\\": 81\\n          },\\n          \\\"to\\\": {\\n            \\\"type\\\": \\\"axis\\\",\\n            \\\"anchor\\\": \\\"rhs\\\",\\n            \\\"select\\\": \\\"row\\\",\\n            \\\"label\\\": 81\\n          }\\n        },\\n        {\\n          \\\"type\\\": \\\"map\\\",\\n          \\\"from\\\": {\\n            \\\"type\\\": \\\"axis\\\",\\n            \\\"anchor\\\": \\\"lhs\\\",\\n            \\\"select\\\": \\\"row\\\",\\n            \\\"label\\\": 82\\n          },\\n          \\\"to\\\": {\\n            \\\"type\\\": \\\"axis\\\",\\n            \\\"anchor\\\": \\\"rhs\\\",\\n            \\\"select\\\": \\\"row\\\",\\n            \\\"label\\\": 82\\n          }\\n        },\\n        {\\n          \\\"type\\\": \\\"map\\\",\\n          \\\"from\\\": {\\n            \\\"type\\\": \\\"axis\\\",\\n            \\\"anchor\\\": \\\"lhs\\\",\\n            \\\"select\\\": \\\"row\\\",\\n            \\\"label\\\": 83\\n          },\\n          \\\"to\\\": {\\n            \\\"type\\\": \\\"axis\\\",\\n            \\\"anchor\\\": \\\"rhs\\\",\\n            \\\"select\\\": \\\"row\\\",\\n            \\\"label\\\": 83\\n          }\\n        },\\n        {\\n          \\\"type\\\": \\\"map\\\",\\n          \\\"from\\\": {\\n            \\\"type\\\": \\\"axis\\\",\\n            \\\"anchor\\\": \\\"lhs\\\",\\n            \\\"select\\\": \\\"row\\\",\\n            \\\"label\\\": 84\\n          },\\n          \\\"to\\\": {\\n            \\\"type\\\": \\\"axis\\\",\\n            \\\"anchor\\\": \\\"rhs\\\",\\n            \\\"select\\\": \\\"row\\\",\\n            \\\"label\\\": 84\\n          }\\n        },\\n        {\\n          \\\"type\\\": \\\"map\\\",\\n          \\\"from\\\": {\\n            \\\"type\\\": \\\"axis\\\",\\n            \\\"anchor\\\": \\\"lhs\\\",\\n            \\\"select\\\": \\\"row\\\",\\n            \\\"label\\\": 85\\n          },\\n          \\\"to\\\": {\\n            \\\"type\\\": \\\"axis\\\",\\n            \\\"anchor\\\": \\\"rhs\\\",\\n            \\\"select\\\": \\\"row\\\",\\n            \\\"label\\\": 85\\n          }\\n        },\\n        {\\n          \\\"type\\\": \\\"map\\\",\\n          \\\"from\\\": {\\n            \\\"type\\\": \\\"axis\\\",\\n            \\\"anchor\\\": \\\"lhs\\\",\\n            \\\"select\\\": \\\"row\\\",\\n            \\\"label\\\": 86\\n          },\\n          \\\"to\\\": {\\n            \\\"type\\\": \\\"axis\\\",\\n            \\\"anchor\\\": \\\"rhs\\\",\\n            \\\"select\\\": \\\"row\\\",\\n            \\\"label\\\": 86\\n          }\\n        },\\n        {\\n          \\\"type\\\": \\\"map\\\",\\n          \\\"from\\\": {\\n            \\\"type\\\": \\\"axis\\\",\\n            \\\"anchor\\\": \\\"lhs\\\",\\n            \\\"select\\\": \\\"row\\\",\\n            \\\"label\\\": 87\\n          },\\n          \\\"to\\\": {\\n            \\\"type\\\": \\\"axis\\\",\\n            \\\"anchor\\\": \\\"rhs\\\",\\n            \\\"select\\\": \\\"row\\\",\\n            \\\"label\\\": 87\\n          }\\n        },\\n        {\\n          \\\"type\\\": \\\"map\\\",\\n          \\\"from\\\": {\\n            \\\"type\\\": \\\"axis\\\",\\n            \\\"anchor\\\": \\\"lhs\\\",\\n            \\\"select\\\": \\\"row\\\",\\n            \\\"label\\\": 88\\n          },\\n          \\\"to\\\": {\\n            \\\"type\\\": \\\"axis\\\",\\n            \\\"anchor\\\": \\\"rhs\\\",\\n            \\\"select\\\": \\\"row\\\",\\n            \\\"label\\\": 88\\n          }\\n        },\\n        {\\n          \\\"type\\\": \\\"map\\\",\\n          \\\"from\\\": {\\n            \\\"type\\\": \\\"axis\\\",\\n            \\\"anchor\\\": \\\"lhs\\\",\\n            \\\"select\\\": \\\"row\\\",\\n            \\\"label\\\": 89\\n          },\\n          \\\"to\\\": {\\n            \\\"type\\\": \\\"axis\\\",\\n            \\\"anchor\\\": \\\"rhs\\\",\\n            \\\"select\\\": \\\"row\\\",\\n            \\\"label\\\": 89\\n          }\\n        },\\n        {\\n          \\\"type\\\": \\\"map\\\",\\n          \\\"from\\\": {\\n            \\\"type\\\": \\\"axis\\\",\\n            \\\"anchor\\\": \\\"lhs\\\",\\n            \\\"select\\\": \\\"row\\\",\\n            \\\"label\\\": 90\\n          },\\n          \\\"to\\\": {\\n            \\\"type\\\": \\\"axis\\\",\\n            \\\"anchor\\\": \\\"rhs\\\",\\n            \\\"select\\\": \\\"row\\\",\\n            \\\"label\\\": 90\\n          }\\n        },\\n        {\\n          \\\"type\\\": \\\"map\\\",\\n          \\\"from\\\": {\\n            \\\"type\\\": \\\"axis\\\",\\n            \\\"anchor\\\": \\\"lhs\\\",\\n            \\\"select\\\": \\\"row\\\",\\n            \\\"label\\\": 91\\n          },\\n          \\\"to\\\": {\\n            \\\"type\\\": \\\"axis\\\",\\n            \\\"anchor\\\": \\\"rhs\\\",\\n            \\\"select\\\": \\\"row\\\",\\n            \\\"label\\\": 91\\n          }\\n        },\\n        {\\n          \\\"type\\\": \\\"map\\\",\\n          \\\"from\\\": {\\n            \\\"type\\\": \\\"axis\\\",\\n            \\\"anchor\\\": \\\"lhs\\\",\\n            \\\"select\\\": \\\"row\\\",\\n            \\\"label\\\": 92\\n          },\\n          \\\"to\\\": {\\n            \\\"type\\\": \\\"axis\\\",\\n            \\\"anchor\\\": \\\"rhs\\\",\\n            \\\"select\\\": \\\"row\\\",\\n            \\\"label\\\": 92\\n          }\\n        },\\n        {\\n          \\\"type\\\": \\\"map\\\",\\n          \\\"from\\\": {\\n            \\\"type\\\": \\\"axis\\\",\\n            \\\"anchor\\\": \\\"lhs\\\",\\n            \\\"select\\\": \\\"row\\\",\\n            \\\"label\\\": 93\\n          },\\n          \\\"to\\\": {\\n            \\\"type\\\": \\\"axis\\\",\\n            \\\"anchor\\\": \\\"rhs\\\",\\n            \\\"select\\\": \\\"row\\\",\\n            \\\"label\\\": 93\\n          }\\n        },\\n        {\\n          \\\"type\\\": \\\"map\\\",\\n          \\\"from\\\": {\\n            \\\"type\\\": \\\"axis\\\",\\n            \\\"anchor\\\": \\\"lhs\\\",\\n            \\\"select\\\": \\\"row\\\",\\n            \\\"label\\\": 94\\n          },\\n          \\\"to\\\": {\\n            \\\"type\\\": \\\"axis\\\",\\n            \\\"anchor\\\": \\\"rhs\\\",\\n            \\\"select\\\": \\\"row\\\",\\n            \\\"label\\\": 94\\n          }\\n        },\\n        {\\n          \\\"type\\\": \\\"map\\\",\\n          \\\"from\\\": {\\n            \\\"type\\\": \\\"axis\\\",\\n            \\\"anchor\\\": \\\"lhs\\\",\\n            \\\"select\\\": \\\"row\\\",\\n            \\\"label\\\": 95\\n          },\\n          \\\"to\\\": {\\n            \\\"type\\\": \\\"axis\\\",\\n            \\\"anchor\\\": \\\"rhs\\\",\\n            \\\"select\\\": \\\"row\\\",\\n            \\\"label\\\": 95\\n          }\\n        },\\n        {\\n          \\\"type\\\": \\\"map\\\",\\n          \\\"from\\\": {\\n            \\\"type\\\": \\\"axis\\\",\\n            \\\"anchor\\\": \\\"lhs\\\",\\n            \\\"select\\\": \\\"row\\\",\\n            \\\"label\\\": 96\\n          },\\n          \\\"to\\\": {\\n            \\\"type\\\": \\\"axis\\\",\\n            \\\"anchor\\\": \\\"rhs\\\",\\n            \\\"select\\\": \\\"row\\\",\\n            \\\"label\\\": 96\\n          }\\n        },\\n        {\\n          \\\"type\\\": \\\"map\\\",\\n          \\\"from\\\": {\\n            \\\"type\\\": \\\"axis\\\",\\n            \\\"anchor\\\": \\\"lhs\\\",\\n            \\\"select\\\": \\\"row\\\",\\n            \\\"label\\\": 97\\n          },\\n          \\\"to\\\": {\\n            \\\"type\\\": \\\"axis\\\",\\n            \\\"anchor\\\": \\\"rhs\\\",\\n            \\\"select\\\": \\\"row\\\",\\n            \\\"label\\\": 97\\n          }\\n        },\\n        {\\n          \\\"type\\\": \\\"map\\\",\\n          \\\"from\\\": {\\n            \\\"type\\\": \\\"axis\\\",\\n            \\\"anchor\\\": \\\"lhs\\\",\\n            \\\"select\\\": \\\"row\\\",\\n            \\\"label\\\": 98\\n          },\\n          \\\"to\\\": {\\n            \\\"type\\\": \\\"axis\\\",\\n            \\\"anchor\\\": \\\"rhs\\\",\\n            \\\"select\\\": \\\"row\\\",\\n            \\\"label\\\": 98\\n          }\\n        },\\n        {\\n          \\\"type\\\": \\\"map\\\",\\n          \\\"from\\\": {\\n            \\\"type\\\": \\\"axis\\\",\\n            \\\"anchor\\\": \\\"lhs\\\",\\n            \\\"select\\\": \\\"row\\\",\\n            \\\"label\\\": 99\\n          },\\n          \\\"to\\\": {\\n            \\\"type\\\": \\\"axis\\\",\\n            \\\"anchor\\\": \\\"rhs\\\",\\n            \\\"select\\\": \\\"row\\\",\\n            \\\"label\\\": 99\\n          }\\n        },\\n        {\\n          \\\"type\\\": \\\"map\\\",\\n          \\\"from\\\": {\\n            \\\"type\\\": \\\"axis\\\",\\n            \\\"anchor\\\": \\\"lhs\\\",\\n            \\\"select\\\": \\\"row\\\",\\n            \\\"label\\\": 100\\n          },\\n          \\\"to\\\": {\\n            \\\"type\\\": \\\"axis\\\",\\n            \\\"anchor\\\": \\\"rhs\\\",\\n            \\\"select\\\": \\\"row\\\",\\n            \\\"label\\\": 100\\n          }\\n        },\\n        {\\n          \\\"type\\\": \\\"map\\\",\\n          \\\"from\\\": {\\n            \\\"type\\\": \\\"axis\\\",\\n            \\\"anchor\\\": \\\"lhs\\\",\\n            \\\"select\\\": \\\"row\\\",\\n            \\\"label\\\": 101\\n          },\\n          \\\"to\\\": {\\n            \\\"type\\\": \\\"axis\\\",\\n            \\\"anchor\\\": \\\"rhs\\\",\\n            \\\"select\\\": \\\"row\\\",\\n            \\\"label\\\": 101\\n          }\\n        },\\n        {\\n          \\\"type\\\": \\\"map\\\",\\n          \\\"from\\\": {\\n            \\\"type\\\": \\\"axis\\\",\\n            \\\"anchor\\\": \\\"lhs\\\",\\n            \\\"select\\\": \\\"row\\\",\\n            \\\"label\\\": 102\\n          },\\n          \\\"to\\\": {\\n            \\\"type\\\": \\\"axis\\\",\\n            \\\"anchor\\\": \\\"rhs\\\",\\n            \\\"select\\\": \\\"row\\\",\\n            \\\"label\\\": 102\\n          }\\n        },\\n        {\\n          \\\"type\\\": \\\"map\\\",\\n          \\\"from\\\": {\\n            \\\"type\\\": \\\"axis\\\",\\n            \\\"anchor\\\": \\\"lhs\\\",\\n            \\\"select\\\": \\\"row\\\",\\n            \\\"label\\\": 103\\n          },\\n          \\\"to\\\": {\\n            \\\"type\\\": \\\"axis\\\",\\n            \\\"anchor\\\": \\\"rhs\\\",\\n            \\\"select\\\": \\\"row\\\",\\n            \\\"label\\\": 103\\n          }\\n        },\\n        {\\n          \\\"type\\\": \\\"map\\\",\\n          \\\"from\\\": {\\n            \\\"type\\\": \\\"axis\\\",\\n            \\\"anchor\\\": \\\"lhs\\\",\\n            \\\"select\\\": \\\"row\\\",\\n            \\\"label\\\": 104\\n          },\\n          \\\"to\\\": {\\n            \\\"type\\\": \\\"axis\\\",\\n            \\\"anchor\\\": \\\"rhs\\\",\\n            \\\"select\\\": \\\"row\\\",\\n            \\\"label\\\": 104\\n          }\\n        },\\n        {\\n          \\\"type\\\": \\\"map\\\",\\n          \\\"from\\\": {\\n            \\\"type\\\": \\\"axis\\\",\\n            \\\"anchor\\\": \\\"lhs\\\",\\n            \\\"select\\\": \\\"row\\\",\\n            \\\"label\\\": 105\\n          },\\n          \\\"to\\\": {\\n            \\\"type\\\": \\\"axis\\\",\\n            \\\"anchor\\\": \\\"rhs\\\",\\n            \\\"select\\\": \\\"row\\\",\\n            \\\"label\\\": 105\\n          }\\n        },\\n        {\\n          \\\"type\\\": \\\"map\\\",\\n          \\\"from\\\": {\\n            \\\"type\\\": \\\"axis\\\",\\n            \\\"anchor\\\": \\\"lhs\\\",\\n            \\\"select\\\": \\\"row\\\",\\n            \\\"label\\\": 106\\n          },\\n          \\\"to\\\": {\\n            \\\"type\\\": \\\"axis\\\",\\n            \\\"anchor\\\": \\\"rhs\\\",\\n            \\\"select\\\": \\\"row\\\",\\n            \\\"label\\\": 106\\n          }\\n        },\\n        {\\n          \\\"type\\\": \\\"map\\\",\\n          \\\"from\\\": {\\n            \\\"type\\\": \\\"axis\\\",\\n            \\\"anchor\\\": \\\"lhs\\\",\\n            \\\"select\\\": \\\"row\\\",\\n            \\\"label\\\": 107\\n          },\\n          \\\"to\\\": {\\n            \\\"type\\\": \\\"axis\\\",\\n            \\\"anchor\\\": \\\"rhs\\\",\\n            \\\"select\\\": \\\"row\\\",\\n            \\\"label\\\": 107\\n          }\\n        },\\n        {\\n          \\\"type\\\": \\\"map\\\",\\n          \\\"from\\\": {\\n            \\\"type\\\": \\\"axis\\\",\\n            \\\"anchor\\\": \\\"lhs\\\",\\n            \\\"select\\\": \\\"row\\\",\\n            \\\"label\\\": 108\\n          },\\n          \\\"to\\\": {\\n            \\\"type\\\": \\\"axis\\\",\\n            \\\"anchor\\\": \\\"rhs\\\",\\n            \\\"select\\\": \\\"row\\\",\\n            \\\"label\\\": 108\\n          }\\n        },\\n        {\\n          \\\"type\\\": \\\"map\\\",\\n          \\\"from\\\": {\\n            \\\"type\\\": \\\"axis\\\",\\n            \\\"anchor\\\": \\\"lhs\\\",\\n            \\\"select\\\": \\\"row\\\",\\n            \\\"label\\\": 109\\n          },\\n          \\\"to\\\": {\\n            \\\"type\\\": \\\"axis\\\",\\n            \\\"anchor\\\": \\\"rhs\\\",\\n            \\\"select\\\": \\\"row\\\",\\n            \\\"label\\\": 109\\n          }\\n        },\\n        {\\n          \\\"type\\\": \\\"map\\\",\\n          \\\"from\\\": {\\n            \\\"type\\\": \\\"axis\\\",\\n            \\\"anchor\\\": \\\"lhs\\\",\\n            \\\"select\\\": \\\"row\\\",\\n            \\\"label\\\": 110\\n          },\\n          \\\"to\\\": {\\n            \\\"type\\\": \\\"axis\\\",\\n            \\\"anchor\\\": \\\"rhs\\\",\\n            \\\"select\\\": \\\"row\\\",\\n            \\\"label\\\": 110\\n          }\\n        },\\n        {\\n          \\\"type\\\": \\\"map\\\",\\n          \\\"from\\\": {\\n            \\\"type\\\": \\\"axis\\\",\\n            \\\"anchor\\\": \\\"lhs\\\",\\n            \\\"select\\\": \\\"row\\\",\\n            \\\"label\\\": 111\\n          },\\n          \\\"to\\\": {\\n            \\\"type\\\": \\\"axis\\\",\\n            \\\"anchor\\\": \\\"rhs\\\",\\n            \\\"select\\\": \\\"row\\\",\\n            \\\"label\\\": 111\\n          }\\n        },\\n        {\\n          \\\"type\\\": \\\"map\\\",\\n          \\\"from\\\": {\\n            \\\"type\\\": \\\"axis\\\",\\n            \\\"anchor\\\": \\\"lhs\\\",\\n            \\\"select\\\": \\\"row\\\",\\n            \\\"label\\\": 112\\n          },\\n          \\\"to\\\": {\\n            \\\"type\\\": \\\"axis\\\",\\n            \\\"anchor\\\": \\\"rhs\\\",\\n            \\\"select\\\": \\\"row\\\",\\n            \\\"label\\\": 112\\n          }\\n        },\\n        {\\n          \\\"type\\\": \\\"map\\\",\\n          \\\"from\\\": {\\n            \\\"type\\\": \\\"axis\\\",\\n            \\\"anchor\\\": \\\"lhs\\\",\\n            \\\"select\\\": \\\"row\\\",\\n            \\\"label\\\": 113\\n          },\\n          \\\"to\\\": {\\n            \\\"type\\\": \\\"axis\\\",\\n            \\\"anchor\\\": \\\"rhs\\\",\\n            \\\"select\\\": \\\"row\\\",\\n            \\\"label\\\": 113\\n          }\\n        },\\n        {\\n          \\\"type\\\": \\\"map\\\",\\n          \\\"from\\\": {\\n            \\\"type\\\": \\\"axis\\\",\\n            \\\"anchor\\\": \\\"lhs\\\",\\n            \\\"select\\\": \\\"row\\\",\\n            \\\"label\\\": 114\\n          },\\n          \\\"to\\\": {\\n            \\\"type\\\": \\\"axis\\\",\\n            \\\"anchor\\\": \\\"rhs\\\",\\n            \\\"select\\\": \\\"row\\\",\\n            \\\"label\\\": 114\\n          }\\n        },\\n        {\\n          \\\"type\\\": \\\"map\\\",\\n          \\\"from\\\": {\\n            \\\"type\\\": \\\"axis\\\",\\n            \\\"anchor\\\": \\\"lhs\\\",\\n            \\\"select\\\": \\\"row\\\",\\n            \\\"label\\\": 115\\n          },\\n          \\\"to\\\": {\\n            \\\"type\\\": \\\"axis\\\",\\n            \\\"anchor\\\": \\\"rhs\\\",\\n            \\\"select\\\": \\\"row\\\",\\n            \\\"label\\\": 115\\n          }\\n        },\\n        {\\n          \\\"type\\\": \\\"map\\\",\\n          \\\"from\\\": {\\n            \\\"type\\\": \\\"axis\\\",\\n            \\\"anchor\\\": \\\"lhs\\\",\\n            \\\"select\\\": \\\"row\\\",\\n            \\\"label\\\": 116\\n          },\\n          \\\"to\\\": {\\n            \\\"type\\\": \\\"axis\\\",\\n            \\\"anchor\\\": \\\"rhs\\\",\\n            \\\"select\\\": \\\"row\\\",\\n            \\\"label\\\": 116\\n          }\\n        },\\n        {\\n          \\\"type\\\": \\\"map\\\",\\n          \\\"from\\\": {\\n            \\\"type\\\": \\\"axis\\\",\\n            \\\"anchor\\\": \\\"lhs\\\",\\n            \\\"select\\\": \\\"row\\\",\\n            \\\"label\\\": 117\\n          },\\n          \\\"to\\\": {\\n            \\\"type\\\": \\\"axis\\\",\\n            \\\"anchor\\\": \\\"rhs\\\",\\n            \\\"select\\\": \\\"row\\\",\\n            \\\"label\\\": 117\\n          }\\n        },\\n        {\\n          \\\"type\\\": \\\"map\\\",\\n          \\\"from\\\": {\\n            \\\"type\\\": \\\"axis\\\",\\n            \\\"anchor\\\": \\\"lhs\\\",\\n            \\\"select\\\": \\\"row\\\",\\n            \\\"label\\\": 118\\n          },\\n          \\\"to\\\": {\\n            \\\"type\\\": \\\"axis\\\",\\n            \\\"anchor\\\": \\\"rhs\\\",\\n            \\\"select\\\": \\\"row\\\",\\n            \\\"label\\\": 118\\n          }\\n        },\\n        {\\n          \\\"type\\\": \\\"map\\\",\\n          \\\"from\\\": {\\n            \\\"type\\\": \\\"axis\\\",\\n            \\\"anchor\\\": \\\"lhs\\\",\\n            \\\"select\\\": \\\"row\\\",\\n            \\\"label\\\": 119\\n          },\\n          \\\"to\\\": {\\n            \\\"type\\\": \\\"axis\\\",\\n            \\\"anchor\\\": \\\"rhs\\\",\\n            \\\"select\\\": \\\"row\\\",\\n            \\\"label\\\": 119\\n          }\\n        },\\n        {\\n          \\\"type\\\": \\\"map\\\",\\n          \\\"from\\\": {\\n            \\\"type\\\": \\\"axis\\\",\\n            \\\"anchor\\\": \\\"lhs\\\",\\n            \\\"select\\\": \\\"row\\\",\\n            \\\"label\\\": 120\\n          },\\n          \\\"to\\\": {\\n            \\\"type\\\": \\\"axis\\\",\\n            \\\"anchor\\\": \\\"rhs\\\",\\n            \\\"select\\\": \\\"row\\\",\\n            \\\"label\\\": 120\\n          }\\n        },\\n        {\\n          \\\"type\\\": \\\"map\\\",\\n          \\\"from\\\": {\\n            \\\"type\\\": \\\"axis\\\",\\n            \\\"anchor\\\": \\\"lhs\\\",\\n            \\\"select\\\": \\\"row\\\",\\n            \\\"label\\\": 121\\n          },\\n          \\\"to\\\": {\\n            \\\"type\\\": \\\"axis\\\",\\n            \\\"anchor\\\": \\\"rhs\\\",\\n            \\\"select\\\": \\\"row\\\",\\n            \\\"label\\\": 121\\n          }\\n        },\\n        {\\n          \\\"type\\\": \\\"map\\\",\\n          \\\"from\\\": {\\n            \\\"type\\\": \\\"axis\\\",\\n            \\\"anchor\\\": \\\"lhs\\\",\\n            \\\"select\\\": \\\"row\\\",\\n            \\\"label\\\": 122\\n          },\\n          \\\"to\\\": {\\n            \\\"type\\\": \\\"axis\\\",\\n            \\\"anchor\\\": \\\"rhs\\\",\\n            \\\"select\\\": \\\"row\\\",\\n            \\\"label\\\": 122\\n          }\\n        },\\n        {\\n          \\\"type\\\": \\\"map\\\",\\n          \\\"from\\\": {\\n            \\\"type\\\": \\\"axis\\\",\\n            \\\"anchor\\\": \\\"lhs\\\",\\n            \\\"select\\\": \\\"row\\\",\\n            \\\"label\\\": 123\\n          },\\n          \\\"to\\\": {\\n            \\\"type\\\": \\\"axis\\\",\\n            \\\"anchor\\\": \\\"rhs\\\",\\n            \\\"select\\\": \\\"row\\\",\\n            \\\"label\\\": 123\\n          }\\n        },\\n        {\\n          \\\"type\\\": \\\"map\\\",\\n          \\\"from\\\": {\\n            \\\"type\\\": \\\"axis\\\",\\n            \\\"anchor\\\": \\\"lhs\\\",\\n            \\\"select\\\": \\\"row\\\",\\n            \\\"label\\\": 124\\n          },\\n          \\\"to\\\": {\\n            \\\"type\\\": \\\"axis\\\",\\n            \\\"anchor\\\": \\\"rhs\\\",\\n            \\\"select\\\": \\\"row\\\",\\n            \\\"label\\\": 124\\n          }\\n        },\\n        {\\n          \\\"type\\\": \\\"map\\\",\\n          \\\"from\\\": {\\n            \\\"type\\\": \\\"axis\\\",\\n            \\\"anchor\\\": \\\"lhs\\\",\\n            \\\"select\\\": \\\"row\\\",\\n            \\\"label\\\": 125\\n          },\\n          \\\"to\\\": {\\n            \\\"type\\\": \\\"axis\\\",\\n            \\\"anchor\\\": \\\"rhs\\\",\\n            \\\"select\\\": \\\"row\\\",\\n            \\\"label\\\": 125\\n          }\\n        },\\n        {\\n          \\\"type\\\": \\\"map\\\",\\n          \\\"from\\\": {\\n            \\\"type\\\": \\\"axis\\\",\\n            \\\"anchor\\\": \\\"lhs\\\",\\n            \\\"select\\\": \\\"row\\\",\\n            \\\"label\\\": 126\\n          },\\n          \\\"to\\\": {\\n            \\\"type\\\": \\\"axis\\\",\\n            \\\"anchor\\\": \\\"rhs\\\",\\n            \\\"select\\\": \\\"row\\\",\\n            \\\"label\\\": 126\\n          }\\n        },\\n        {\\n          \\\"type\\\": \\\"map\\\",\\n          \\\"from\\\": {\\n            \\\"type\\\": \\\"axis\\\",\\n            \\\"anchor\\\": \\\"lhs\\\",\\n            \\\"select\\\": \\\"row\\\",\\n            \\\"label\\\": 127\\n          },\\n          \\\"to\\\": {\\n            \\\"type\\\": \\\"axis\\\",\\n            \\\"anchor\\\": \\\"rhs\\\",\\n            \\\"select\\\": \\\"row\\\",\\n            \\\"label\\\": 127\\n          }\\n        },\\n        {\\n          \\\"type\\\": \\\"map\\\",\\n          \\\"from\\\": {\\n            \\\"type\\\": \\\"axis\\\",\\n            \\\"anchor\\\": \\\"lhs\\\",\\n            \\\"select\\\": \\\"row\\\",\\n            \\\"label\\\": 128\\n          },\\n          \\\"to\\\": {\\n            \\\"type\\\": \\\"axis\\\",\\n            \\\"anchor\\\": \\\"rhs\\\",\\n            \\\"select\\\": \\\"row\\\",\\n            \\\"label\\\": 128\\n          }\\n        },\\n        {\\n          \\\"type\\\": \\\"map\\\",\\n          \\\"from\\\": {\\n            \\\"type\\\": \\\"axis\\\",\\n            \\\"anchor\\\": \\\"lhs\\\",\\n            \\\"select\\\": \\\"row\\\",\\n            \\\"label\\\": 129\\n          },\\n          \\\"to\\\": {\\n            \\\"type\\\": \\\"axis\\\",\\n            \\\"anchor\\\": \\\"rhs\\\",\\n            \\\"select\\\": \\\"row\\\",\\n            \\\"label\\\": 129\\n          }\\n        },\\n        {\\n          \\\"type\\\": \\\"map\\\",\\n          \\\"from\\\": {\\n            \\\"type\\\": \\\"axis\\\",\\n            \\\"anchor\\\": \\\"lhs\\\",\\n            \\\"select\\\": \\\"row\\\",\\n            \\\"label\\\": 130\\n          },\\n          \\\"to\\\": {\\n            \\\"type\\\": \\\"axis\\\",\\n            \\\"anchor\\\": \\\"rhs\\\",\\n            \\\"select\\\": \\\"row\\\",\\n            \\\"label\\\": 130\\n          }\\n        },\\n        {\\n          \\\"type\\\": \\\"map\\\",\\n          \\\"from\\\": {\\n            \\\"type\\\": \\\"axis\\\",\\n            \\\"anchor\\\": \\\"lhs\\\",\\n            \\\"select\\\": \\\"row\\\",\\n            \\\"label\\\": 131\\n          },\\n          \\\"to\\\": {\\n            \\\"type\\\": \\\"axis\\\",\\n            \\\"anchor\\\": \\\"rhs\\\",\\n            \\\"select\\\": \\\"row\\\",\\n            \\\"label\\\": 131\\n          }\\n        },\\n        {\\n          \\\"type\\\": \\\"map\\\",\\n          \\\"from\\\": {\\n            \\\"type\\\": \\\"axis\\\",\\n            \\\"anchor\\\": \\\"lhs\\\",\\n            \\\"select\\\": \\\"row\\\",\\n            \\\"label\\\": 132\\n          },\\n          \\\"to\\\": {\\n            \\\"type\\\": \\\"axis\\\",\\n            \\\"anchor\\\": \\\"rhs\\\",\\n            \\\"select\\\": \\\"row\\\",\\n            \\\"label\\\": 132\\n          }\\n        },\\n        {\\n          \\\"type\\\": \\\"map\\\",\\n          \\\"from\\\": {\\n            \\\"type\\\": \\\"axis\\\",\\n            \\\"anchor\\\": \\\"lhs\\\",\\n            \\\"select\\\": \\\"row\\\",\\n            \\\"label\\\": 133\\n          },\\n          \\\"to\\\": {\\n            \\\"type\\\": \\\"axis\\\",\\n            \\\"anchor\\\": \\\"rhs\\\",\\n            \\\"select\\\": \\\"row\\\",\\n            \\\"label\\\": 133\\n          }\\n        },\\n        {\\n          \\\"type\\\": \\\"map\\\",\\n          \\\"from\\\": {\\n            \\\"type\\\": \\\"axis\\\",\\n            \\\"anchor\\\": \\\"lhs\\\",\\n            \\\"select\\\": \\\"row\\\",\\n            \\\"label\\\": 134\\n          },\\n          \\\"to\\\": {\\n            \\\"type\\\": \\\"axis\\\",\\n            \\\"anchor\\\": \\\"rhs\\\",\\n            \\\"select\\\": \\\"row\\\",\\n            \\\"label\\\": 134\\n          }\\n        },\\n        {\\n          \\\"type\\\": \\\"map\\\",\\n          \\\"from\\\": {\\n            \\\"type\\\": \\\"axis\\\",\\n            \\\"anchor\\\": \\\"lhs\\\",\\n            \\\"select\\\": \\\"row\\\",\\n            \\\"label\\\": 135\\n          },\\n          \\\"to\\\": {\\n            \\\"type\\\": \\\"axis\\\",\\n            \\\"anchor\\\": \\\"rhs\\\",\\n            \\\"select\\\": \\\"row\\\",\\n            \\\"label\\\": 135\\n          }\\n        },\\n        {\\n          \\\"type\\\": \\\"map\\\",\\n          \\\"from\\\": {\\n            \\\"type\\\": \\\"axis\\\",\\n            \\\"anchor\\\": \\\"lhs\\\",\\n            \\\"select\\\": \\\"row\\\",\\n            \\\"label\\\": 136\\n          },\\n          \\\"to\\\": {\\n            \\\"type\\\": \\\"axis\\\",\\n            \\\"anchor\\\": \\\"rhs\\\",\\n            \\\"select\\\": \\\"row\\\",\\n            \\\"label\\\": 136\\n          }\\n        },\\n        {\\n          \\\"type\\\": \\\"map\\\",\\n          \\\"from\\\": {\\n            \\\"type\\\": \\\"axis\\\",\\n            \\\"anchor\\\": \\\"lhs\\\",\\n            \\\"select\\\": \\\"row\\\",\\n            \\\"label\\\": 137\\n          },\\n          \\\"to\\\": {\\n            \\\"type\\\": \\\"axis\\\",\\n            \\\"anchor\\\": \\\"rhs\\\",\\n            \\\"select\\\": \\\"row\\\",\\n            \\\"label\\\": 137\\n          }\\n        },\\n        {\\n          \\\"type\\\": \\\"map\\\",\\n          \\\"from\\\": {\\n            \\\"type\\\": \\\"axis\\\",\\n            \\\"anchor\\\": \\\"lhs\\\",\\n            \\\"select\\\": \\\"row\\\",\\n            \\\"label\\\": 138\\n          },\\n          \\\"to\\\": {\\n            \\\"type\\\": \\\"axis\\\",\\n            \\\"anchor\\\": \\\"rhs\\\",\\n            \\\"select\\\": \\\"row\\\",\\n            \\\"label\\\": 138\\n          }\\n        },\\n        {\\n          \\\"type\\\": \\\"map\\\",\\n          \\\"from\\\": {\\n            \\\"type\\\": \\\"axis\\\",\\n            \\\"anchor\\\": \\\"lhs\\\",\\n            \\\"select\\\": \\\"row\\\",\\n            \\\"label\\\": 139\\n          },\\n          \\\"to\\\": {\\n            \\\"type\\\": \\\"axis\\\",\\n            \\\"anchor\\\": \\\"rhs\\\",\\n            \\\"select\\\": \\\"row\\\",\\n            \\\"label\\\": 139\\n          }\\n        },\\n        {\\n          \\\"type\\\": \\\"map\\\",\\n          \\\"from\\\": {\\n            \\\"type\\\": \\\"axis\\\",\\n            \\\"anchor\\\": \\\"lhs\\\",\\n            \\\"select\\\": \\\"row\\\",\\n            \\\"label\\\": 140\\n          },\\n          \\\"to\\\": {\\n            \\\"type\\\": \\\"axis\\\",\\n            \\\"anchor\\\": \\\"rhs\\\",\\n            \\\"select\\\": \\\"row\\\",\\n            \\\"label\\\": 140\\n          }\\n        },\\n        {\\n          \\\"type\\\": \\\"map\\\",\\n          \\\"from\\\": {\\n            \\\"type\\\": \\\"axis\\\",\\n            \\\"anchor\\\": \\\"lhs\\\",\\n            \\\"select\\\": \\\"row\\\",\\n            \\\"label\\\": 141\\n          },\\n          \\\"to\\\": {\\n            \\\"type\\\": \\\"axis\\\",\\n            \\\"anchor\\\": \\\"rhs\\\",\\n            \\\"select\\\": \\\"row\\\",\\n            \\\"label\\\": 141\\n          }\\n        },\\n        {\\n          \\\"type\\\": \\\"map\\\",\\n          \\\"from\\\": {\\n            \\\"type\\\": \\\"axis\\\",\\n            \\\"anchor\\\": \\\"lhs\\\",\\n            \\\"select\\\": \\\"row\\\",\\n            \\\"label\\\": 142\\n          },\\n          \\\"to\\\": {\\n            \\\"type\\\": \\\"axis\\\",\\n            \\\"anchor\\\": \\\"rhs\\\",\\n            \\\"select\\\": \\\"row\\\",\\n            \\\"label\\\": 142\\n          }\\n        },\\n        {\\n          \\\"type\\\": \\\"map\\\",\\n          \\\"from\\\": {\\n            \\\"type\\\": \\\"axis\\\",\\n            \\\"anchor\\\": \\\"lhs\\\",\\n            \\\"select\\\": \\\"row\\\",\\n            \\\"label\\\": 143\\n          },\\n          \\\"to\\\": {\\n            \\\"type\\\": \\\"axis\\\",\\n            \\\"anchor\\\": \\\"rhs\\\",\\n            \\\"select\\\": \\\"row\\\",\\n            \\\"label\\\": 143\\n          }\\n        },\\n        {\\n          \\\"type\\\": \\\"map\\\",\\n          \\\"from\\\": {\\n            \\\"type\\\": \\\"axis\\\",\\n            \\\"anchor\\\": \\\"lhs\\\",\\n            \\\"select\\\": \\\"row\\\",\\n            \\\"label\\\": 144\\n          },\\n          \\\"to\\\": {\\n            \\\"type\\\": \\\"axis\\\",\\n            \\\"anchor\\\": \\\"rhs\\\",\\n            \\\"select\\\": \\\"row\\\",\\n            \\\"label\\\": 144\\n          }\\n        },\\n        {\\n          \\\"type\\\": \\\"map\\\",\\n          \\\"from\\\": {\\n            \\\"type\\\": \\\"axis\\\",\\n            \\\"anchor\\\": \\\"lhs\\\",\\n            \\\"select\\\": \\\"row\\\",\\n            \\\"label\\\": 145\\n          },\\n          \\\"to\\\": {\\n            \\\"type\\\": \\\"axis\\\",\\n            \\\"anchor\\\": \\\"rhs\\\",\\n            \\\"select\\\": \\\"row\\\",\\n            \\\"label\\\": 145\\n          }\\n        },\\n        {\\n          \\\"type\\\": \\\"map\\\",\\n          \\\"from\\\": {\\n            \\\"type\\\": \\\"axis\\\",\\n            \\\"anchor\\\": \\\"lhs\\\",\\n            \\\"select\\\": \\\"row\\\",\\n            \\\"label\\\": 146\\n          },\\n          \\\"to\\\": {\\n            \\\"type\\\": \\\"axis\\\",\\n            \\\"anchor\\\": \\\"rhs\\\",\\n            \\\"select\\\": \\\"row\\\",\\n            \\\"label\\\": 146\\n          }\\n        },\\n        {\\n          \\\"type\\\": \\\"map\\\",\\n          \\\"from\\\": {\\n            \\\"type\\\": \\\"axis\\\",\\n            \\\"anchor\\\": \\\"lhs\\\",\\n            \\\"select\\\": \\\"row\\\",\\n            \\\"label\\\": 147\\n          },\\n          \\\"to\\\": {\\n            \\\"type\\\": \\\"axis\\\",\\n            \\\"anchor\\\": \\\"rhs\\\",\\n            \\\"select\\\": \\\"row\\\",\\n            \\\"label\\\": 147\\n          }\\n        },\\n        {\\n          \\\"type\\\": \\\"map\\\",\\n          \\\"from\\\": {\\n            \\\"type\\\": \\\"axis\\\",\\n            \\\"anchor\\\": \\\"lhs\\\",\\n            \\\"select\\\": \\\"row\\\",\\n            \\\"label\\\": 148\\n          },\\n          \\\"to\\\": {\\n            \\\"type\\\": \\\"axis\\\",\\n            \\\"anchor\\\": \\\"rhs\\\",\\n            \\\"select\\\": \\\"row\\\",\\n            \\\"label\\\": 148\\n          }\\n        },\\n        {\\n          \\\"type\\\": \\\"map\\\",\\n          \\\"from\\\": {\\n            \\\"type\\\": \\\"axis\\\",\\n            \\\"anchor\\\": \\\"lhs\\\",\\n            \\\"select\\\": \\\"row\\\",\\n            \\\"label\\\": 149\\n          },\\n          \\\"to\\\": {\\n            \\\"type\\\": \\\"axis\\\",\\n            \\\"anchor\\\": \\\"rhs\\\",\\n            \\\"select\\\": \\\"row\\\",\\n            \\\"label\\\": 149\\n          }\\n        },\\n        {\\n          \\\"type\\\": \\\"map\\\",\\n          \\\"from\\\": {\\n            \\\"type\\\": \\\"axis\\\",\\n            \\\"anchor\\\": \\\"lhs\\\",\\n            \\\"select\\\": \\\"row\\\",\\n            \\\"label\\\": 150\\n          },\\n          \\\"to\\\": {\\n            \\\"type\\\": \\\"axis\\\",\\n            \\\"anchor\\\": \\\"rhs\\\",\\n            \\\"select\\\": \\\"row\\\",\\n            \\\"label\\\": 150\\n          }\\n        },\\n        {\\n          \\\"type\\\": \\\"map\\\",\\n          \\\"from\\\": {\\n            \\\"type\\\": \\\"axis\\\",\\n            \\\"anchor\\\": \\\"lhs\\\",\\n            \\\"select\\\": \\\"row\\\",\\n            \\\"label\\\": 151\\n          },\\n          \\\"to\\\": {\\n            \\\"type\\\": \\\"axis\\\",\\n            \\\"anchor\\\": \\\"rhs\\\",\\n            \\\"select\\\": \\\"row\\\",\\n            \\\"label\\\": 151\\n          }\\n        },\\n        {\\n          \\\"type\\\": \\\"map\\\",\\n          \\\"from\\\": {\\n            \\\"type\\\": \\\"axis\\\",\\n            \\\"anchor\\\": \\\"lhs\\\",\\n            \\\"select\\\": \\\"row\\\",\\n            \\\"label\\\": 152\\n          },\\n          \\\"to\\\": {\\n            \\\"type\\\": \\\"axis\\\",\\n            \\\"anchor\\\": \\\"rhs\\\",\\n            \\\"select\\\": \\\"row\\\",\\n            \\\"label\\\": 152\\n          }\\n        },\\n        {\\n          \\\"type\\\": \\\"map\\\",\\n          \\\"from\\\": {\\n            \\\"type\\\": \\\"axis\\\",\\n            \\\"anchor\\\": \\\"lhs\\\",\\n            \\\"select\\\": \\\"row\\\",\\n            \\\"label\\\": 153\\n          },\\n          \\\"to\\\": {\\n            \\\"type\\\": \\\"axis\\\",\\n            \\\"anchor\\\": \\\"rhs\\\",\\n            \\\"select\\\": \\\"row\\\",\\n            \\\"label\\\": 153\\n          }\\n        },\\n        {\\n          \\\"type\\\": \\\"map\\\",\\n          \\\"from\\\": {\\n            \\\"type\\\": \\\"axis\\\",\\n            \\\"anchor\\\": \\\"lhs\\\",\\n            \\\"select\\\": \\\"row\\\",\\n            \\\"label\\\": 154\\n          },\\n          \\\"to\\\": {\\n            \\\"type\\\": \\\"axis\\\",\\n            \\\"anchor\\\": \\\"rhs\\\",\\n            \\\"select\\\": \\\"row\\\",\\n            \\\"label\\\": 154\\n          }\\n        },\\n        {\\n          \\\"type\\\": \\\"map\\\",\\n          \\\"from\\\": {\\n            \\\"type\\\": \\\"axis\\\",\\n            \\\"anchor\\\": \\\"lhs\\\",\\n            \\\"select\\\": \\\"row\\\",\\n            \\\"label\\\": 155\\n          },\\n          \\\"to\\\": {\\n            \\\"type\\\": \\\"axis\\\",\\n            \\\"anchor\\\": \\\"rhs\\\",\\n            \\\"select\\\": \\\"row\\\",\\n            \\\"label\\\": 155\\n          }\\n        },\\n        {\\n          \\\"type\\\": \\\"map\\\",\\n          \\\"from\\\": {\\n            \\\"type\\\": \\\"axis\\\",\\n            \\\"anchor\\\": \\\"lhs\\\",\\n            \\\"select\\\": \\\"row\\\",\\n            \\\"label\\\": 156\\n          },\\n          \\\"to\\\": {\\n            \\\"type\\\": \\\"axis\\\",\\n            \\\"anchor\\\": \\\"rhs\\\",\\n            \\\"select\\\": \\\"row\\\",\\n            \\\"label\\\": 156\\n          }\\n        },\\n        {\\n          \\\"type\\\": \\\"map\\\",\\n          \\\"from\\\": {\\n            \\\"type\\\": \\\"axis\\\",\\n            \\\"anchor\\\": \\\"lhs\\\",\\n            \\\"select\\\": \\\"row\\\",\\n            \\\"label\\\": 157\\n          },\\n          \\\"to\\\": {\\n            \\\"type\\\": \\\"axis\\\",\\n            \\\"anchor\\\": \\\"rhs\\\",\\n            \\\"select\\\": \\\"row\\\",\\n            \\\"label\\\": 157\\n          }\\n        },\\n        {\\n          \\\"type\\\": \\\"map\\\",\\n          \\\"from\\\": {\\n            \\\"type\\\": \\\"axis\\\",\\n            \\\"anchor\\\": \\\"lhs\\\",\\n            \\\"select\\\": \\\"row\\\",\\n            \\\"label\\\": 158\\n          },\\n          \\\"to\\\": {\\n            \\\"type\\\": \\\"axis\\\",\\n            \\\"anchor\\\": \\\"rhs\\\",\\n            \\\"select\\\": \\\"row\\\",\\n            \\\"label\\\": 158\\n          }\\n        },\\n        {\\n          \\\"type\\\": \\\"map\\\",\\n          \\\"from\\\": {\\n            \\\"type\\\": \\\"axis\\\",\\n            \\\"anchor\\\": \\\"lhs\\\",\\n            \\\"select\\\": \\\"row\\\",\\n            \\\"label\\\": 159\\n          },\\n          \\\"to\\\": {\\n            \\\"type\\\": \\\"axis\\\",\\n            \\\"anchor\\\": \\\"rhs\\\",\\n            \\\"select\\\": \\\"row\\\",\\n            \\\"label\\\": 159\\n          }\\n        },\\n        {\\n          \\\"type\\\": \\\"map\\\",\\n          \\\"from\\\": {\\n            \\\"type\\\": \\\"axis\\\",\\n            \\\"anchor\\\": \\\"lhs\\\",\\n            \\\"select\\\": \\\"row\\\",\\n            \\\"label\\\": 160\\n          },\\n          \\\"to\\\": {\\n            \\\"type\\\": \\\"axis\\\",\\n            \\\"anchor\\\": \\\"rhs\\\",\\n            \\\"select\\\": \\\"row\\\",\\n            \\\"label\\\": 160\\n          }\\n        },\\n        {\\n          \\\"type\\\": \\\"map\\\",\\n          \\\"from\\\": {\\n            \\\"type\\\": \\\"axis\\\",\\n            \\\"anchor\\\": \\\"lhs\\\",\\n            \\\"select\\\": \\\"row\\\",\\n            \\\"label\\\": 161\\n          },\\n          \\\"to\\\": {\\n            \\\"type\\\": \\\"axis\\\",\\n            \\\"anchor\\\": \\\"rhs\\\",\\n            \\\"select\\\": \\\"row\\\",\\n            \\\"label\\\": 161\\n          }\\n        },\\n        {\\n          \\\"type\\\": \\\"map\\\",\\n          \\\"from\\\": {\\n            \\\"type\\\": \\\"axis\\\",\\n            \\\"anchor\\\": \\\"lhs\\\",\\n            \\\"select\\\": \\\"row\\\",\\n            \\\"label\\\": 162\\n          },\\n          \\\"to\\\": {\\n            \\\"type\\\": \\\"axis\\\",\\n            \\\"anchor\\\": \\\"rhs\\\",\\n            \\\"select\\\": \\\"row\\\",\\n            \\\"label\\\": 162\\n          }\\n        },\\n        {\\n          \\\"type\\\": \\\"map\\\",\\n          \\\"from\\\": {\\n            \\\"type\\\": \\\"axis\\\",\\n            \\\"anchor\\\": \\\"lhs\\\",\\n            \\\"select\\\": \\\"row\\\",\\n            \\\"label\\\": 163\\n          },\\n          \\\"to\\\": {\\n            \\\"type\\\": \\\"axis\\\",\\n            \\\"anchor\\\": \\\"rhs\\\",\\n            \\\"select\\\": \\\"row\\\",\\n            \\\"label\\\": 163\\n          }\\n        },\\n        {\\n          \\\"type\\\": \\\"map\\\",\\n          \\\"from\\\": {\\n            \\\"type\\\": \\\"axis\\\",\\n            \\\"anchor\\\": \\\"lhs\\\",\\n            \\\"select\\\": \\\"row\\\",\\n            \\\"label\\\": 164\\n          },\\n          \\\"to\\\": {\\n            \\\"type\\\": \\\"axis\\\",\\n            \\\"anchor\\\": \\\"rhs\\\",\\n            \\\"select\\\": \\\"row\\\",\\n            \\\"label\\\": 164\\n          }\\n        },\\n        {\\n          \\\"type\\\": \\\"map\\\",\\n          \\\"from\\\": {\\n            \\\"type\\\": \\\"axis\\\",\\n            \\\"anchor\\\": \\\"lhs\\\",\\n            \\\"select\\\": \\\"row\\\",\\n            \\\"label\\\": 165\\n          },\\n          \\\"to\\\": {\\n            \\\"type\\\": \\\"axis\\\",\\n            \\\"anchor\\\": \\\"rhs\\\",\\n            \\\"select\\\": \\\"row\\\",\\n            \\\"label\\\": 165\\n          }\\n        },\\n        {\\n          \\\"type\\\": \\\"map\\\",\\n          \\\"from\\\": {\\n            \\\"type\\\": \\\"axis\\\",\\n            \\\"anchor\\\": \\\"lhs\\\",\\n            \\\"select\\\": \\\"row\\\",\\n            \\\"label\\\": 166\\n          },\\n          \\\"to\\\": {\\n            \\\"type\\\": \\\"axis\\\",\\n            \\\"anchor\\\": \\\"rhs\\\",\\n            \\\"select\\\": \\\"row\\\",\\n            \\\"label\\\": 166\\n          }\\n        },\\n        {\\n          \\\"type\\\": \\\"map\\\",\\n          \\\"from\\\": {\\n            \\\"type\\\": \\\"axis\\\",\\n            \\\"anchor\\\": \\\"lhs\\\",\\n            \\\"select\\\": \\\"row\\\",\\n            \\\"label\\\": 167\\n          },\\n          \\\"to\\\": {\\n            \\\"type\\\": \\\"axis\\\",\\n            \\\"anchor\\\": \\\"rhs\\\",\\n            \\\"select\\\": \\\"row\\\",\\n            \\\"label\\\": 167\\n          }\\n        },\\n        {\\n          \\\"type\\\": \\\"map\\\",\\n          \\\"from\\\": {\\n            \\\"type\\\": \\\"axis\\\",\\n            \\\"anchor\\\": \\\"lhs\\\",\\n            \\\"select\\\": \\\"row\\\",\\n            \\\"label\\\": 168\\n          },\\n          \\\"to\\\": {\\n            \\\"type\\\": \\\"axis\\\",\\n            \\\"anchor\\\": \\\"rhs\\\",\\n            \\\"select\\\": \\\"row\\\",\\n            \\\"label\\\": 168\\n          }\\n        },\\n        {\\n          \\\"type\\\": \\\"map\\\",\\n          \\\"from\\\": {\\n            \\\"type\\\": \\\"axis\\\",\\n            \\\"anchor\\\": \\\"lhs\\\",\\n            \\\"select\\\": \\\"row\\\",\\n            \\\"label\\\": 169\\n          },\\n          \\\"to\\\": {\\n            \\\"type\\\": \\\"axis\\\",\\n            \\\"anchor\\\": \\\"rhs\\\",\\n            \\\"select\\\": \\\"row\\\",\\n            \\\"label\\\": 169\\n          }\\n        },\\n        {\\n          \\\"type\\\": \\\"map\\\",\\n          \\\"from\\\": {\\n            \\\"type\\\": \\\"axis\\\",\\n            \\\"anchor\\\": \\\"lhs\\\",\\n            \\\"select\\\": \\\"row\\\",\\n            \\\"label\\\": 170\\n          },\\n          \\\"to\\\": {\\n            \\\"type\\\": \\\"axis\\\",\\n            \\\"anchor\\\": \\\"rhs\\\",\\n            \\\"select\\\": \\\"row\\\",\\n            \\\"label\\\": 170\\n          }\\n        },\\n        {\\n          \\\"type\\\": \\\"map\\\",\\n          \\\"from\\\": {\\n            \\\"type\\\": \\\"axis\\\",\\n            \\\"anchor\\\": \\\"lhs\\\",\\n            \\\"select\\\": \\\"row\\\",\\n            \\\"label\\\": 171\\n          },\\n          \\\"to\\\": {\\n            \\\"type\\\": \\\"axis\\\",\\n            \\\"anchor\\\": \\\"rhs\\\",\\n            \\\"select\\\": \\\"row\\\",\\n            \\\"label\\\": 171\\n          }\\n        },\\n        {\\n          \\\"type\\\": \\\"map\\\",\\n          \\\"from\\\": {\\n            \\\"type\\\": \\\"axis\\\",\\n            \\\"anchor\\\": \\\"lhs\\\",\\n            \\\"select\\\": \\\"row\\\",\\n            \\\"label\\\": 172\\n          },\\n          \\\"to\\\": {\\n            \\\"type\\\": \\\"axis\\\",\\n            \\\"anchor\\\": \\\"rhs\\\",\\n            \\\"select\\\": \\\"row\\\",\\n            \\\"label\\\": 172\\n          }\\n        },\\n        {\\n          \\\"type\\\": \\\"map\\\",\\n          \\\"from\\\": {\\n            \\\"type\\\": \\\"axis\\\",\\n            \\\"anchor\\\": \\\"lhs\\\",\\n            \\\"select\\\": \\\"row\\\",\\n            \\\"label\\\": 173\\n          },\\n          \\\"to\\\": {\\n            \\\"type\\\": \\\"axis\\\",\\n            \\\"anchor\\\": \\\"rhs\\\",\\n            \\\"select\\\": \\\"row\\\",\\n            \\\"label\\\": 173\\n          }\\n        },\\n        {\\n          \\\"type\\\": \\\"map\\\",\\n          \\\"from\\\": {\\n            \\\"type\\\": \\\"axis\\\",\\n            \\\"anchor\\\": \\\"lhs\\\",\\n            \\\"select\\\": \\\"row\\\",\\n            \\\"label\\\": 174\\n          },\\n          \\\"to\\\": {\\n            \\\"type\\\": \\\"axis\\\",\\n            \\\"anchor\\\": \\\"rhs\\\",\\n            \\\"select\\\": \\\"row\\\",\\n            \\\"label\\\": 174\\n          }\\n        },\\n        {\\n          \\\"type\\\": \\\"map\\\",\\n          \\\"from\\\": {\\n            \\\"type\\\": \\\"axis\\\",\\n            \\\"anchor\\\": \\\"lhs\\\",\\n            \\\"select\\\": \\\"row\\\",\\n            \\\"label\\\": 175\\n          },\\n          \\\"to\\\": {\\n            \\\"type\\\": \\\"axis\\\",\\n            \\\"anchor\\\": \\\"rhs\\\",\\n            \\\"select\\\": \\\"row\\\",\\n            \\\"label\\\": 175\\n          }\\n        },\\n        {\\n          \\\"type\\\": \\\"map\\\",\\n          \\\"from\\\": {\\n            \\\"type\\\": \\\"axis\\\",\\n            \\\"anchor\\\": \\\"lhs\\\",\\n            \\\"select\\\": \\\"row\\\",\\n            \\\"label\\\": 176\\n          },\\n          \\\"to\\\": {\\n            \\\"type\\\": \\\"axis\\\",\\n            \\\"anchor\\\": \\\"rhs\\\",\\n            \\\"select\\\": \\\"row\\\",\\n            \\\"label\\\": 176\\n          }\\n        },\\n        {\\n          \\\"type\\\": \\\"map\\\",\\n          \\\"from\\\": {\\n            \\\"type\\\": \\\"axis\\\",\\n            \\\"anchor\\\": \\\"lhs\\\",\\n            \\\"select\\\": \\\"row\\\",\\n            \\\"label\\\": 177\\n          },\\n          \\\"to\\\": {\\n            \\\"type\\\": \\\"axis\\\",\\n            \\\"anchor\\\": \\\"rhs\\\",\\n            \\\"select\\\": \\\"row\\\",\\n            \\\"label\\\": 177\\n          }\\n        },\\n        {\\n          \\\"type\\\": \\\"map\\\",\\n          \\\"from\\\": {\\n            \\\"type\\\": \\\"axis\\\",\\n            \\\"anchor\\\": \\\"lhs\\\",\\n            \\\"select\\\": \\\"row\\\",\\n            \\\"label\\\": 178\\n          },\\n          \\\"to\\\": {\\n            \\\"type\\\": \\\"axis\\\",\\n            \\\"anchor\\\": \\\"rhs\\\",\\n            \\\"select\\\": \\\"row\\\",\\n            \\\"label\\\": 178\\n          }\\n        },\\n        {\\n          \\\"type\\\": \\\"map\\\",\\n          \\\"from\\\": {\\n            \\\"type\\\": \\\"axis\\\",\\n            \\\"anchor\\\": \\\"lhs\\\",\\n            \\\"select\\\": \\\"row\\\",\\n            \\\"label\\\": 179\\n          },\\n          \\\"to\\\": {\\n            \\\"type\\\": \\\"axis\\\",\\n            \\\"anchor\\\": \\\"rhs\\\",\\n            \\\"select\\\": \\\"row\\\",\\n            \\\"label\\\": 179\\n          }\\n        },\\n        {\\n          \\\"type\\\": \\\"map\\\",\\n          \\\"from\\\": {\\n            \\\"type\\\": \\\"axis\\\",\\n            \\\"anchor\\\": \\\"lhs\\\",\\n            \\\"select\\\": \\\"row\\\",\\n            \\\"label\\\": 180\\n          },\\n          \\\"to\\\": {\\n            \\\"type\\\": \\\"axis\\\",\\n            \\\"anchor\\\": \\\"rhs\\\",\\n            \\\"select\\\": \\\"row\\\",\\n            \\\"label\\\": 180\\n          }\\n        },\\n        {\\n          \\\"type\\\": \\\"map\\\",\\n          \\\"from\\\": {\\n            \\\"type\\\": \\\"axis\\\",\\n            \\\"anchor\\\": \\\"lhs\\\",\\n            \\\"select\\\": \\\"row\\\",\\n            \\\"label\\\": 181\\n          },\\n          \\\"to\\\": {\\n            \\\"type\\\": \\\"axis\\\",\\n            \\\"anchor\\\": \\\"rhs\\\",\\n            \\\"select\\\": \\\"row\\\",\\n            \\\"label\\\": 181\\n          }\\n        },\\n        {\\n          \\\"type\\\": \\\"map\\\",\\n          \\\"from\\\": {\\n            \\\"type\\\": \\\"axis\\\",\\n            \\\"anchor\\\": \\\"lhs\\\",\\n            \\\"select\\\": \\\"row\\\",\\n            \\\"label\\\": 182\\n          },\\n          \\\"to\\\": {\\n            \\\"type\\\": \\\"axis\\\",\\n            \\\"anchor\\\": \\\"rhs\\\",\\n            \\\"select\\\": \\\"row\\\",\\n            \\\"label\\\": 182\\n          }\\n        },\\n        {\\n          \\\"type\\\": \\\"map\\\",\\n          \\\"from\\\": {\\n            \\\"type\\\": \\\"axis\\\",\\n            \\\"anchor\\\": \\\"lhs\\\",\\n            \\\"select\\\": \\\"row\\\",\\n            \\\"label\\\": 183\\n          },\\n          \\\"to\\\": {\\n            \\\"type\\\": \\\"axis\\\",\\n            \\\"anchor\\\": \\\"rhs\\\",\\n            \\\"select\\\": \\\"row\\\",\\n            \\\"label\\\": 183\\n          }\\n        },\\n        {\\n          \\\"type\\\": \\\"map\\\",\\n          \\\"from\\\": {\\n            \\\"type\\\": \\\"axis\\\",\\n            \\\"anchor\\\": \\\"lhs\\\",\\n            \\\"select\\\": \\\"row\\\",\\n            \\\"label\\\": 184\\n          },\\n          \\\"to\\\": {\\n            \\\"type\\\": \\\"axis\\\",\\n            \\\"anchor\\\": \\\"rhs\\\",\\n            \\\"select\\\": \\\"row\\\",\\n            \\\"label\\\": 184\\n          }\\n        },\\n        {\\n          \\\"type\\\": \\\"map\\\",\\n          \\\"from\\\": {\\n            \\\"type\\\": \\\"axis\\\",\\n            \\\"anchor\\\": \\\"lhs\\\",\\n            \\\"select\\\": \\\"row\\\",\\n            \\\"label\\\": 185\\n          },\\n          \\\"to\\\": {\\n            \\\"type\\\": \\\"axis\\\",\\n            \\\"anchor\\\": \\\"rhs\\\",\\n            \\\"select\\\": \\\"row\\\",\\n            \\\"label\\\": 185\\n          }\\n        },\\n        {\\n          \\\"type\\\": \\\"map\\\",\\n          \\\"from\\\": {\\n            \\\"type\\\": \\\"axis\\\",\\n            \\\"anchor\\\": \\\"lhs\\\",\\n            \\\"select\\\": \\\"row\\\",\\n            \\\"label\\\": 186\\n          },\\n          \\\"to\\\": {\\n            \\\"type\\\": \\\"axis\\\",\\n            \\\"anchor\\\": \\\"rhs\\\",\\n            \\\"select\\\": \\\"row\\\",\\n            \\\"label\\\": 186\\n          }\\n        },\\n        {\\n          \\\"type\\\": \\\"map\\\",\\n          \\\"from\\\": {\\n            \\\"type\\\": \\\"axis\\\",\\n            \\\"anchor\\\": \\\"lhs\\\",\\n            \\\"select\\\": \\\"row\\\",\\n            \\\"label\\\": 187\\n          },\\n          \\\"to\\\": {\\n            \\\"type\\\": \\\"axis\\\",\\n            \\\"anchor\\\": \\\"rhs\\\",\\n            \\\"select\\\": \\\"row\\\",\\n            \\\"label\\\": 187\\n          }\\n        },\\n        {\\n          \\\"type\\\": \\\"map\\\",\\n          \\\"from\\\": {\\n            \\\"type\\\": \\\"axis\\\",\\n            \\\"anchor\\\": \\\"lhs\\\",\\n            \\\"select\\\": \\\"row\\\",\\n            \\\"label\\\": 188\\n          },\\n          \\\"to\\\": {\\n            \\\"type\\\": \\\"axis\\\",\\n            \\\"anchor\\\": \\\"rhs\\\",\\n            \\\"select\\\": \\\"row\\\",\\n            \\\"label\\\": 188\\n          }\\n        },\\n        {\\n          \\\"type\\\": \\\"map\\\",\\n          \\\"from\\\": {\\n            \\\"type\\\": \\\"axis\\\",\\n            \\\"anchor\\\": \\\"lhs\\\",\\n            \\\"select\\\": \\\"row\\\",\\n            \\\"label\\\": 189\\n          },\\n          \\\"to\\\": {\\n            \\\"type\\\": \\\"axis\\\",\\n            \\\"anchor\\\": \\\"rhs\\\",\\n            \\\"select\\\": \\\"row\\\",\\n            \\\"label\\\": 189\\n          }\\n        },\\n        {\\n          \\\"type\\\": \\\"map\\\",\\n          \\\"from\\\": {\\n            \\\"type\\\": \\\"axis\\\",\\n            \\\"anchor\\\": \\\"lhs\\\",\\n            \\\"select\\\": \\\"row\\\",\\n            \\\"label\\\": 190\\n          },\\n          \\\"to\\\": {\\n            \\\"type\\\": \\\"axis\\\",\\n            \\\"anchor\\\": \\\"rhs\\\",\\n            \\\"select\\\": \\\"row\\\",\\n            \\\"label\\\": 190\\n          }\\n        },\\n        {\\n          \\\"type\\\": \\\"map\\\",\\n          \\\"from\\\": {\\n            \\\"type\\\": \\\"axis\\\",\\n            \\\"anchor\\\": \\\"lhs\\\",\\n            \\\"select\\\": \\\"row\\\",\\n            \\\"label\\\": 191\\n          },\\n          \\\"to\\\": {\\n            \\\"type\\\": \\\"axis\\\",\\n            \\\"anchor\\\": \\\"rhs\\\",\\n            \\\"select\\\": \\\"row\\\",\\n            \\\"label\\\": 191\\n          }\\n        },\\n        {\\n          \\\"type\\\": \\\"map\\\",\\n          \\\"from\\\": {\\n            \\\"type\\\": \\\"axis\\\",\\n            \\\"anchor\\\": \\\"lhs\\\",\\n            \\\"select\\\": \\\"row\\\",\\n            \\\"label\\\": 192\\n          },\\n          \\\"to\\\": {\\n            \\\"type\\\": \\\"axis\\\",\\n            \\\"anchor\\\": \\\"rhs\\\",\\n            \\\"select\\\": \\\"row\\\",\\n            \\\"label\\\": 192\\n          }\\n        },\\n        {\\n          \\\"type\\\": \\\"map\\\",\\n          \\\"from\\\": {\\n            \\\"type\\\": \\\"axis\\\",\\n            \\\"anchor\\\": \\\"lhs\\\",\\n            \\\"select\\\": \\\"row\\\",\\n            \\\"label\\\": 193\\n          },\\n          \\\"to\\\": {\\n            \\\"type\\\": \\\"axis\\\",\\n            \\\"anchor\\\": \\\"rhs\\\",\\n            \\\"select\\\": \\\"row\\\",\\n            \\\"label\\\": 193\\n          }\\n        },\\n        {\\n          \\\"type\\\": \\\"map\\\",\\n          \\\"from\\\": {\\n            \\\"type\\\": \\\"axis\\\",\\n            \\\"anchor\\\": \\\"lhs\\\",\\n            \\\"select\\\": \\\"row\\\",\\n            \\\"label\\\": 194\\n          },\\n          \\\"to\\\": {\\n            \\\"type\\\": \\\"axis\\\",\\n            \\\"anchor\\\": \\\"rhs\\\",\\n            \\\"select\\\": \\\"row\\\",\\n            \\\"label\\\": 194\\n          }\\n        },\\n        {\\n          \\\"type\\\": \\\"map\\\",\\n          \\\"from\\\": {\\n            \\\"type\\\": \\\"axis\\\",\\n            \\\"anchor\\\": \\\"lhs\\\",\\n            \\\"select\\\": \\\"row\\\",\\n            \\\"label\\\": 195\\n          },\\n          \\\"to\\\": {\\n            \\\"type\\\": \\\"axis\\\",\\n            \\\"anchor\\\": \\\"rhs\\\",\\n            \\\"select\\\": \\\"row\\\",\\n            \\\"label\\\": 195\\n          }\\n        },\\n        {\\n          \\\"type\\\": \\\"map\\\",\\n          \\\"from\\\": {\\n            \\\"type\\\": \\\"axis\\\",\\n            \\\"anchor\\\": \\\"lhs\\\",\\n            \\\"select\\\": \\\"row\\\",\\n            \\\"label\\\": 196\\n          },\\n          \\\"to\\\": {\\n            \\\"type\\\": \\\"axis\\\",\\n            \\\"anchor\\\": \\\"rhs\\\",\\n            \\\"select\\\": \\\"row\\\",\\n            \\\"label\\\": 196\\n          }\\n        },\\n        {\\n          \\\"type\\\": \\\"map\\\",\\n          \\\"from\\\": {\\n            \\\"type\\\": \\\"axis\\\",\\n            \\\"anchor\\\": \\\"lhs\\\",\\n            \\\"select\\\": \\\"row\\\",\\n            \\\"label\\\": 197\\n          },\\n          \\\"to\\\": {\\n            \\\"type\\\": \\\"axis\\\",\\n            \\\"anchor\\\": \\\"rhs\\\",\\n            \\\"select\\\": \\\"row\\\",\\n            \\\"label\\\": 197\\n          }\\n        },\\n        {\\n          \\\"type\\\": \\\"map\\\",\\n          \\\"from\\\": {\\n            \\\"type\\\": \\\"axis\\\",\\n            \\\"anchor\\\": \\\"lhs\\\",\\n            \\\"select\\\": \\\"row\\\",\\n            \\\"label\\\": 198\\n          },\\n          \\\"to\\\": {\\n            \\\"type\\\": \\\"axis\\\",\\n            \\\"anchor\\\": \\\"rhs\\\",\\n            \\\"select\\\": \\\"row\\\",\\n            \\\"label\\\": 198\\n          }\\n        },\\n        {\\n          \\\"type\\\": \\\"map\\\",\\n          \\\"from\\\": {\\n            \\\"type\\\": \\\"axis\\\",\\n            \\\"anchor\\\": \\\"lhs\\\",\\n            \\\"select\\\": \\\"row\\\",\\n            \\\"label\\\": 199\\n          },\\n          \\\"to\\\": {\\n            \\\"type\\\": \\\"axis\\\",\\n            \\\"anchor\\\": \\\"rhs\\\",\\n            \\\"select\\\": \\\"row\\\",\\n            \\\"label\\\": 199\\n          }\\n        },\\n        {\\n          \\\"type\\\": \\\"map\\\",\\n          \\\"from\\\": {\\n            \\\"type\\\": \\\"axis\\\",\\n            \\\"anchor\\\": \\\"lhs\\\",\\n            \\\"select\\\": \\\"row\\\",\\n            \\\"label\\\": 200\\n          },\\n          \\\"to\\\": {\\n            \\\"type\\\": \\\"axis\\\",\\n            \\\"anchor\\\": \\\"rhs\\\",\\n            \\\"select\\\": \\\"row\\\",\\n            \\\"label\\\": 200\\n          }\\n        },\\n        {\\n          \\\"type\\\": \\\"map\\\",\\n          \\\"from\\\": {\\n            \\\"type\\\": \\\"axis\\\",\\n            \\\"anchor\\\": \\\"lhs\\\",\\n            \\\"select\\\": \\\"row\\\",\\n            \\\"label\\\": 201\\n          },\\n          \\\"to\\\": {\\n            \\\"type\\\": \\\"axis\\\",\\n            \\\"anchor\\\": \\\"rhs\\\",\\n            \\\"select\\\": \\\"row\\\",\\n            \\\"label\\\": 201\\n          }\\n        },\\n        {\\n          \\\"type\\\": \\\"map\\\",\\n          \\\"from\\\": {\\n            \\\"type\\\": \\\"axis\\\",\\n            \\\"anchor\\\": \\\"lhs\\\",\\n            \\\"select\\\": \\\"row\\\",\\n            \\\"label\\\": 202\\n          },\\n          \\\"to\\\": {\\n            \\\"type\\\": \\\"axis\\\",\\n            \\\"anchor\\\": \\\"rhs\\\",\\n            \\\"select\\\": \\\"row\\\",\\n            \\\"label\\\": 202\\n          }\\n        },\\n        {\\n          \\\"type\\\": \\\"map\\\",\\n          \\\"from\\\": {\\n            \\\"type\\\": \\\"axis\\\",\\n            \\\"anchor\\\": \\\"lhs\\\",\\n            \\\"select\\\": \\\"row\\\",\\n            \\\"label\\\": 203\\n          },\\n          \\\"to\\\": {\\n            \\\"type\\\": \\\"axis\\\",\\n            \\\"anchor\\\": \\\"rhs\\\",\\n            \\\"select\\\": \\\"row\\\",\\n            \\\"label\\\": 203\\n          }\\n        },\\n        {\\n          \\\"type\\\": \\\"map\\\",\\n          \\\"from\\\": {\\n            \\\"type\\\": \\\"axis\\\",\\n            \\\"anchor\\\": \\\"lhs\\\",\\n            \\\"select\\\": \\\"row\\\",\\n            \\\"label\\\": 204\\n          },\\n          \\\"to\\\": {\\n            \\\"type\\\": \\\"axis\\\",\\n            \\\"anchor\\\": \\\"rhs\\\",\\n            \\\"select\\\": \\\"row\\\",\\n            \\\"label\\\": 204\\n          }\\n        },\\n        {\\n          \\\"type\\\": \\\"map\\\",\\n          \\\"from\\\": {\\n            \\\"type\\\": \\\"axis\\\",\\n            \\\"anchor\\\": \\\"lhs\\\",\\n            \\\"select\\\": \\\"row\\\",\\n            \\\"label\\\": 205\\n          },\\n          \\\"to\\\": {\\n            \\\"type\\\": \\\"axis\\\",\\n            \\\"anchor\\\": \\\"rhs\\\",\\n            \\\"select\\\": \\\"row\\\",\\n            \\\"label\\\": 205\\n          }\\n        },\\n        {\\n          \\\"type\\\": \\\"map\\\",\\n          \\\"from\\\": {\\n            \\\"type\\\": \\\"axis\\\",\\n            \\\"anchor\\\": \\\"lhs\\\",\\n            \\\"select\\\": \\\"row\\\",\\n            \\\"label\\\": 206\\n          },\\n          \\\"to\\\": {\\n            \\\"type\\\": \\\"axis\\\",\\n            \\\"anchor\\\": \\\"rhs\\\",\\n            \\\"select\\\": \\\"row\\\",\\n            \\\"label\\\": 206\\n          }\\n        },\\n        {\\n          \\\"type\\\": \\\"map\\\",\\n          \\\"from\\\": {\\n            \\\"type\\\": \\\"axis\\\",\\n            \\\"anchor\\\": \\\"lhs\\\",\\n            \\\"select\\\": \\\"row\\\",\\n            \\\"label\\\": 207\\n          },\\n          \\\"to\\\": {\\n            \\\"type\\\": \\\"axis\\\",\\n            \\\"anchor\\\": \\\"rhs\\\",\\n            \\\"select\\\": \\\"row\\\",\\n            \\\"label\\\": 207\\n          }\\n        },\\n        {\\n          \\\"type\\\": \\\"map\\\",\\n          \\\"from\\\": {\\n            \\\"type\\\": \\\"axis\\\",\\n            \\\"anchor\\\": \\\"lhs\\\",\\n            \\\"select\\\": \\\"row\\\",\\n            \\\"label\\\": 208\\n          },\\n          \\\"to\\\": {\\n            \\\"type\\\": \\\"axis\\\",\\n            \\\"anchor\\\": \\\"rhs\\\",\\n            \\\"select\\\": \\\"row\\\",\\n            \\\"label\\\": 208\\n          }\\n        },\\n        {\\n          \\\"type\\\": \\\"map\\\",\\n          \\\"from\\\": {\\n            \\\"type\\\": \\\"axis\\\",\\n            \\\"anchor\\\": \\\"lhs\\\",\\n            \\\"select\\\": \\\"row\\\",\\n            \\\"label\\\": 209\\n          },\\n          \\\"to\\\": {\\n            \\\"type\\\": \\\"axis\\\",\\n            \\\"anchor\\\": \\\"rhs\\\",\\n            \\\"select\\\": \\\"row\\\",\\n            \\\"label\\\": 209\\n          }\\n        },\\n        {\\n          \\\"type\\\": \\\"map\\\",\\n          \\\"from\\\": {\\n            \\\"type\\\": \\\"axis\\\",\\n            \\\"anchor\\\": \\\"lhs\\\",\\n            \\\"select\\\": \\\"row\\\",\\n            \\\"label\\\": 210\\n          },\\n          \\\"to\\\": {\\n            \\\"type\\\": \\\"axis\\\",\\n            \\\"anchor\\\": \\\"rhs\\\",\\n            \\\"select\\\": \\\"row\\\",\\n            \\\"label\\\": 210\\n          }\\n        },\\n        {\\n          \\\"type\\\": \\\"map\\\",\\n          \\\"from\\\": {\\n            \\\"type\\\": \\\"axis\\\",\\n            \\\"anchor\\\": \\\"lhs\\\",\\n            \\\"select\\\": \\\"row\\\",\\n            \\\"label\\\": 211\\n          },\\n          \\\"to\\\": {\\n            \\\"type\\\": \\\"axis\\\",\\n            \\\"anchor\\\": \\\"rhs\\\",\\n            \\\"select\\\": \\\"row\\\",\\n            \\\"label\\\": 211\\n          }\\n        },\\n        {\\n          \\\"type\\\": \\\"map\\\",\\n          \\\"from\\\": {\\n            \\\"type\\\": \\\"axis\\\",\\n            \\\"anchor\\\": \\\"lhs\\\",\\n            \\\"select\\\": \\\"row\\\",\\n            \\\"label\\\": 212\\n          },\\n          \\\"to\\\": {\\n            \\\"type\\\": \\\"axis\\\",\\n            \\\"anchor\\\": \\\"rhs\\\",\\n            \\\"select\\\": \\\"row\\\",\\n            \\\"label\\\": 212\\n          }\\n        },\\n        {\\n          \\\"type\\\": \\\"map\\\",\\n          \\\"from\\\": {\\n            \\\"type\\\": \\\"axis\\\",\\n            \\\"anchor\\\": \\\"lhs\\\",\\n            \\\"select\\\": \\\"row\\\",\\n            \\\"label\\\": 213\\n          },\\n          \\\"to\\\": {\\n            \\\"type\\\": \\\"axis\\\",\\n            \\\"anchor\\\": \\\"rhs\\\",\\n            \\\"select\\\": \\\"row\\\",\\n            \\\"label\\\": 213\\n          }\\n        },\\n        {\\n          \\\"type\\\": \\\"map\\\",\\n          \\\"from\\\": {\\n            \\\"type\\\": \\\"axis\\\",\\n            \\\"anchor\\\": \\\"lhs\\\",\\n            \\\"select\\\": \\\"row\\\",\\n            \\\"label\\\": 214\\n          },\\n          \\\"to\\\": {\\n            \\\"type\\\": \\\"axis\\\",\\n            \\\"anchor\\\": \\\"rhs\\\",\\n            \\\"select\\\": \\\"row\\\",\\n            \\\"label\\\": 214\\n          }\\n        },\\n        {\\n          \\\"type\\\": \\\"map\\\",\\n          \\\"from\\\": {\\n            \\\"type\\\": \\\"axis\\\",\\n            \\\"anchor\\\": \\\"lhs\\\",\\n            \\\"select\\\": \\\"row\\\",\\n            \\\"label\\\": 215\\n          },\\n          \\\"to\\\": {\\n            \\\"type\\\": \\\"axis\\\",\\n            \\\"anchor\\\": \\\"rhs\\\",\\n            \\\"select\\\": \\\"row\\\",\\n            \\\"label\\\": 215\\n          }\\n        },\\n        {\\n          \\\"type\\\": \\\"map\\\",\\n          \\\"from\\\": {\\n            \\\"type\\\": \\\"axis\\\",\\n            \\\"anchor\\\": \\\"lhs\\\",\\n            \\\"select\\\": \\\"row\\\",\\n            \\\"label\\\": 216\\n          },\\n          \\\"to\\\": {\\n            \\\"type\\\": \\\"axis\\\",\\n            \\\"anchor\\\": \\\"rhs\\\",\\n            \\\"select\\\": \\\"row\\\",\\n            \\\"label\\\": 216\\n          }\\n        },\\n        {\\n          \\\"type\\\": \\\"map\\\",\\n          \\\"from\\\": {\\n            \\\"type\\\": \\\"axis\\\",\\n            \\\"anchor\\\": \\\"lhs\\\",\\n            \\\"select\\\": \\\"row\\\",\\n            \\\"label\\\": 217\\n          },\\n          \\\"to\\\": {\\n            \\\"type\\\": \\\"axis\\\",\\n            \\\"anchor\\\": \\\"rhs\\\",\\n            \\\"select\\\": \\\"row\\\",\\n            \\\"label\\\": 217\\n          }\\n        },\\n        {\\n          \\\"type\\\": \\\"map\\\",\\n          \\\"from\\\": {\\n            \\\"type\\\": \\\"axis\\\",\\n            \\\"anchor\\\": \\\"lhs\\\",\\n            \\\"select\\\": \\\"row\\\",\\n            \\\"label\\\": 218\\n          },\\n          \\\"to\\\": {\\n            \\\"type\\\": \\\"axis\\\",\\n            \\\"anchor\\\": \\\"rhs\\\",\\n            \\\"select\\\": \\\"row\\\",\\n            \\\"label\\\": 218\\n          }\\n        },\\n        {\\n          \\\"type\\\": \\\"map\\\",\\n          \\\"from\\\": {\\n            \\\"type\\\": \\\"axis\\\",\\n            \\\"anchor\\\": \\\"lhs\\\",\\n            \\\"select\\\": \\\"row\\\",\\n            \\\"label\\\": 219\\n          },\\n          \\\"to\\\": {\\n            \\\"type\\\": \\\"axis\\\",\\n            \\\"anchor\\\": \\\"rhs\\\",\\n            \\\"select\\\": \\\"row\\\",\\n            \\\"label\\\": 219\\n          }\\n        },\\n        {\\n          \\\"type\\\": \\\"map\\\",\\n          \\\"from\\\": {\\n            \\\"type\\\": \\\"axis\\\",\\n            \\\"anchor\\\": \\\"lhs\\\",\\n            \\\"select\\\": \\\"row\\\",\\n            \\\"label\\\": 220\\n          },\\n          \\\"to\\\": {\\n            \\\"type\\\": \\\"axis\\\",\\n            \\\"anchor\\\": \\\"rhs\\\",\\n            \\\"select\\\": \\\"row\\\",\\n            \\\"label\\\": 220\\n          }\\n        },\\n        {\\n          \\\"type\\\": \\\"map\\\",\\n          \\\"from\\\": {\\n            \\\"type\\\": \\\"axis\\\",\\n            \\\"anchor\\\": \\\"lhs\\\",\\n            \\\"select\\\": \\\"row\\\",\\n            \\\"label\\\": 221\\n          },\\n          \\\"to\\\": {\\n            \\\"type\\\": \\\"axis\\\",\\n            \\\"anchor\\\": \\\"rhs\\\",\\n            \\\"select\\\": \\\"row\\\",\\n            \\\"label\\\": 221\\n          }\\n        },\\n        {\\n          \\\"type\\\": \\\"map\\\",\\n          \\\"from\\\": {\\n            \\\"type\\\": \\\"axis\\\",\\n            \\\"anchor\\\": \\\"lhs\\\",\\n            \\\"select\\\": \\\"row\\\",\\n            \\\"label\\\": 222\\n          },\\n          \\\"to\\\": {\\n            \\\"type\\\": \\\"axis\\\",\\n            \\\"anchor\\\": \\\"rhs\\\",\\n            \\\"select\\\": \\\"row\\\",\\n            \\\"label\\\": 222\\n          }\\n        },\\n        {\\n          \\\"type\\\": \\\"map\\\",\\n          \\\"from\\\": {\\n            \\\"type\\\": \\\"axis\\\",\\n            \\\"anchor\\\": \\\"lhs\\\",\\n            \\\"select\\\": \\\"row\\\",\\n            \\\"label\\\": 223\\n          },\\n          \\\"to\\\": {\\n            \\\"type\\\": \\\"axis\\\",\\n            \\\"anchor\\\": \\\"rhs\\\",\\n            \\\"select\\\": \\\"row\\\",\\n            \\\"label\\\": 223\\n          }\\n        },\\n        {\\n          \\\"type\\\": \\\"map\\\",\\n          \\\"from\\\": {\\n            \\\"type\\\": \\\"axis\\\",\\n            \\\"anchor\\\": \\\"lhs\\\",\\n            \\\"select\\\": \\\"row\\\",\\n            \\\"label\\\": 224\\n          },\\n          \\\"to\\\": {\\n            \\\"type\\\": \\\"axis\\\",\\n            \\\"anchor\\\": \\\"rhs\\\",\\n            \\\"select\\\": \\\"row\\\",\\n            \\\"label\\\": 224\\n          }\\n        },\\n        {\\n          \\\"type\\\": \\\"map\\\",\\n          \\\"from\\\": {\\n            \\\"type\\\": \\\"axis\\\",\\n            \\\"anchor\\\": \\\"lhs\\\",\\n            \\\"select\\\": \\\"row\\\",\\n            \\\"label\\\": 225\\n          },\\n          \\\"to\\\": {\\n            \\\"type\\\": \\\"axis\\\",\\n            \\\"anchor\\\": \\\"rhs\\\",\\n            \\\"select\\\": \\\"row\\\",\\n            \\\"label\\\": 225\\n          }\\n        },\\n        {\\n          \\\"type\\\": \\\"map\\\",\\n          \\\"from\\\": {\\n            \\\"type\\\": \\\"axis\\\",\\n            \\\"anchor\\\": \\\"lhs\\\",\\n            \\\"select\\\": \\\"row\\\",\\n            \\\"label\\\": 226\\n          },\\n          \\\"to\\\": {\\n            \\\"type\\\": \\\"axis\\\",\\n            \\\"anchor\\\": \\\"rhs\\\",\\n            \\\"select\\\": \\\"row\\\",\\n            \\\"label\\\": 226\\n          }\\n        },\\n        {\\n          \\\"type\\\": \\\"map\\\",\\n          \\\"from\\\": {\\n            \\\"type\\\": \\\"axis\\\",\\n            \\\"anchor\\\": \\\"lhs\\\",\\n            \\\"select\\\": \\\"row\\\",\\n            \\\"label\\\": 227\\n          },\\n          \\\"to\\\": {\\n            \\\"type\\\": \\\"axis\\\",\\n            \\\"anchor\\\": \\\"rhs\\\",\\n            \\\"select\\\": \\\"row\\\",\\n            \\\"label\\\": 227\\n          }\\n        },\\n        {\\n          \\\"type\\\": \\\"map\\\",\\n          \\\"from\\\": {\\n            \\\"type\\\": \\\"axis\\\",\\n            \\\"anchor\\\": \\\"lhs\\\",\\n            \\\"select\\\": \\\"row\\\",\\n            \\\"label\\\": 228\\n          },\\n          \\\"to\\\": {\\n            \\\"type\\\": \\\"axis\\\",\\n            \\\"anchor\\\": \\\"rhs\\\",\\n            \\\"select\\\": \\\"row\\\",\\n            \\\"label\\\": 228\\n          }\\n        },\\n        {\\n          \\\"type\\\": \\\"map\\\",\\n          \\\"from\\\": {\\n            \\\"type\\\": \\\"axis\\\",\\n            \\\"anchor\\\": \\\"lhs\\\",\\n            \\\"select\\\": \\\"row\\\",\\n            \\\"label\\\": 229\\n          },\\n          \\\"to\\\": {\\n            \\\"type\\\": \\\"axis\\\",\\n            \\\"anchor\\\": \\\"rhs\\\",\\n            \\\"select\\\": \\\"row\\\",\\n            \\\"label\\\": 229\\n          }\\n        },\\n        {\\n          \\\"type\\\": \\\"map\\\",\\n          \\\"from\\\": {\\n            \\\"type\\\": \\\"axis\\\",\\n            \\\"anchor\\\": \\\"lhs\\\",\\n            \\\"select\\\": \\\"row\\\",\\n            \\\"label\\\": 230\\n          },\\n          \\\"to\\\": {\\n            \\\"type\\\": \\\"axis\\\",\\n            \\\"anchor\\\": \\\"rhs\\\",\\n            \\\"select\\\": \\\"row\\\",\\n            \\\"label\\\": 230\\n          }\\n        },\\n        {\\n          \\\"type\\\": \\\"map\\\",\\n          \\\"from\\\": {\\n            \\\"type\\\": \\\"axis\\\",\\n            \\\"anchor\\\": \\\"lhs\\\",\\n            \\\"select\\\": \\\"row\\\",\\n            \\\"label\\\": 231\\n          },\\n          \\\"to\\\": {\\n            \\\"type\\\": \\\"axis\\\",\\n            \\\"anchor\\\": \\\"rhs\\\",\\n            \\\"select\\\": \\\"row\\\",\\n            \\\"label\\\": 231\\n          }\\n        },\\n        {\\n          \\\"type\\\": \\\"map\\\",\\n          \\\"from\\\": {\\n            \\\"type\\\": \\\"axis\\\",\\n            \\\"anchor\\\": \\\"lhs\\\",\\n            \\\"select\\\": \\\"row\\\",\\n            \\\"label\\\": 232\\n          },\\n          \\\"to\\\": {\\n            \\\"type\\\": \\\"axis\\\",\\n            \\\"anchor\\\": \\\"rhs\\\",\\n            \\\"select\\\": \\\"row\\\",\\n            \\\"label\\\": 232\\n          }\\n        },\\n        {\\n          \\\"type\\\": \\\"map\\\",\\n          \\\"from\\\": {\\n            \\\"type\\\": \\\"axis\\\",\\n            \\\"anchor\\\": \\\"lhs\\\",\\n            \\\"select\\\": \\\"row\\\",\\n            \\\"label\\\": 233\\n          },\\n          \\\"to\\\": {\\n            \\\"type\\\": \\\"axis\\\",\\n            \\\"anchor\\\": \\\"rhs\\\",\\n            \\\"select\\\": \\\"row\\\",\\n            \\\"label\\\": 233\\n          }\\n        },\\n        {\\n          \\\"type\\\": \\\"map\\\",\\n          \\\"from\\\": {\\n            \\\"type\\\": \\\"axis\\\",\\n            \\\"anchor\\\": \\\"lhs\\\",\\n            \\\"select\\\": \\\"row\\\",\\n            \\\"label\\\": 234\\n          },\\n          \\\"to\\\": {\\n            \\\"type\\\": \\\"axis\\\",\\n            \\\"anchor\\\": \\\"rhs\\\",\\n            \\\"select\\\": \\\"row\\\",\\n            \\\"label\\\": 234\\n          }\\n        },\\n        {\\n          \\\"type\\\": \\\"map\\\",\\n          \\\"from\\\": {\\n            \\\"type\\\": \\\"axis\\\",\\n            \\\"anchor\\\": \\\"lhs\\\",\\n            \\\"select\\\": \\\"row\\\",\\n            \\\"label\\\": 235\\n          },\\n          \\\"to\\\": {\\n            \\\"type\\\": \\\"axis\\\",\\n            \\\"anchor\\\": \\\"rhs\\\",\\n            \\\"select\\\": \\\"row\\\",\\n            \\\"label\\\": 235\\n          }\\n        },\\n        {\\n          \\\"type\\\": \\\"map\\\",\\n          \\\"from\\\": {\\n            \\\"type\\\": \\\"axis\\\",\\n            \\\"anchor\\\": \\\"lhs\\\",\\n            \\\"select\\\": \\\"row\\\",\\n            \\\"label\\\": 236\\n          },\\n          \\\"to\\\": {\\n            \\\"type\\\": \\\"axis\\\",\\n            \\\"anchor\\\": \\\"rhs\\\",\\n            \\\"select\\\": \\\"row\\\",\\n            \\\"label\\\": 236\\n          }\\n        },\\n        {\\n          \\\"type\\\": \\\"map\\\",\\n          \\\"from\\\": {\\n            \\\"type\\\": \\\"axis\\\",\\n            \\\"anchor\\\": \\\"lhs\\\",\\n            \\\"select\\\": \\\"row\\\",\\n            \\\"label\\\": 237\\n          },\\n          \\\"to\\\": {\\n            \\\"type\\\": \\\"axis\\\",\\n            \\\"anchor\\\": \\\"rhs\\\",\\n            \\\"select\\\": \\\"row\\\",\\n            \\\"label\\\": 237\\n          }\\n        },\\n        {\\n          \\\"type\\\": \\\"map\\\",\\n          \\\"from\\\": {\\n            \\\"type\\\": \\\"axis\\\",\\n            \\\"anchor\\\": \\\"lhs\\\",\\n            \\\"select\\\": \\\"row\\\",\\n            \\\"label\\\": 238\\n          },\\n          \\\"to\\\": {\\n            \\\"type\\\": \\\"axis\\\",\\n            \\\"anchor\\\": \\\"rhs\\\",\\n            \\\"select\\\": \\\"row\\\",\\n            \\\"label\\\": 238\\n          }\\n        },\\n        {\\n          \\\"type\\\": \\\"map\\\",\\n          \\\"from\\\": {\\n            \\\"type\\\": \\\"axis\\\",\\n            \\\"anchor\\\": \\\"lhs\\\",\\n            \\\"select\\\": \\\"row\\\",\\n            \\\"label\\\": 239\\n          },\\n          \\\"to\\\": {\\n            \\\"type\\\": \\\"axis\\\",\\n            \\\"anchor\\\": \\\"rhs\\\",\\n            \\\"select\\\": \\\"row\\\",\\n            \\\"label\\\": 239\\n          }\\n        },\\n        {\\n          \\\"type\\\": \\\"map\\\",\\n          \\\"from\\\": {\\n            \\\"type\\\": \\\"axis\\\",\\n            \\\"anchor\\\": \\\"lhs\\\",\\n            \\\"select\\\": \\\"row\\\",\\n            \\\"label\\\": 240\\n          },\\n          \\\"to\\\": {\\n            \\\"type\\\": \\\"axis\\\",\\n            \\\"anchor\\\": \\\"rhs\\\",\\n            \\\"select\\\": \\\"row\\\",\\n            \\\"label\\\": 240\\n          }\\n        },\\n        {\\n          \\\"type\\\": \\\"map\\\",\\n          \\\"from\\\": {\\n            \\\"type\\\": \\\"axis\\\",\\n            \\\"anchor\\\": \\\"lhs\\\",\\n            \\\"select\\\": \\\"row\\\",\\n            \\\"label\\\": 241\\n          },\\n          \\\"to\\\": {\\n            \\\"type\\\": \\\"axis\\\",\\n            \\\"anchor\\\": \\\"rhs\\\",\\n            \\\"select\\\": \\\"row\\\",\\n            \\\"label\\\": 241\\n          }\\n        },\\n        {\\n          \\\"type\\\": \\\"map\\\",\\n          \\\"from\\\": {\\n            \\\"type\\\": \\\"axis\\\",\\n            \\\"anchor\\\": \\\"lhs\\\",\\n            \\\"select\\\": \\\"row\\\",\\n            \\\"label\\\": 242\\n          },\\n          \\\"to\\\": {\\n            \\\"type\\\": \\\"axis\\\",\\n            \\\"anchor\\\": \\\"rhs\\\",\\n            \\\"select\\\": \\\"row\\\",\\n            \\\"label\\\": 242\\n          }\\n        },\\n        {\\n          \\\"type\\\": \\\"map\\\",\\n          \\\"from\\\": {\\n            \\\"type\\\": \\\"axis\\\",\\n            \\\"anchor\\\": \\\"lhs\\\",\\n            \\\"select\\\": \\\"row\\\",\\n            \\\"label\\\": 243\\n          },\\n          \\\"to\\\": {\\n            \\\"type\\\": \\\"axis\\\",\\n            \\\"anchor\\\": \\\"rhs\\\",\\n            \\\"select\\\": \\\"row\\\",\\n            \\\"label\\\": 243\\n          }\\n        },\\n        {\\n          \\\"type\\\": \\\"map\\\",\\n          \\\"from\\\": {\\n            \\\"type\\\": \\\"axis\\\",\\n            \\\"anchor\\\": \\\"lhs\\\",\\n            \\\"select\\\": \\\"row\\\",\\n            \\\"label\\\": 244\\n          },\\n          \\\"to\\\": {\\n            \\\"type\\\": \\\"axis\\\",\\n            \\\"anchor\\\": \\\"rhs\\\",\\n            \\\"select\\\": \\\"row\\\",\\n            \\\"label\\\": 244\\n          }\\n        },\\n        {\\n          \\\"type\\\": \\\"map\\\",\\n          \\\"from\\\": {\\n            \\\"type\\\": \\\"axis\\\",\\n            \\\"anchor\\\": \\\"lhs\\\",\\n            \\\"select\\\": \\\"row\\\",\\n            \\\"label\\\": 245\\n          },\\n          \\\"to\\\": {\\n            \\\"type\\\": \\\"axis\\\",\\n            \\\"anchor\\\": \\\"rhs\\\",\\n            \\\"select\\\": \\\"row\\\",\\n            \\\"label\\\": 245\\n          }\\n        },\\n        {\\n          \\\"type\\\": \\\"map\\\",\\n          \\\"from\\\": {\\n            \\\"type\\\": \\\"axis\\\",\\n            \\\"anchor\\\": \\\"lhs\\\",\\n            \\\"select\\\": \\\"row\\\",\\n            \\\"label\\\": 246\\n          },\\n          \\\"to\\\": {\\n            \\\"type\\\": \\\"axis\\\",\\n            \\\"anchor\\\": \\\"rhs\\\",\\n            \\\"select\\\": \\\"row\\\",\\n            \\\"label\\\": 246\\n          }\\n        },\\n        {\\n          \\\"type\\\": \\\"map\\\",\\n          \\\"from\\\": {\\n            \\\"type\\\": \\\"axis\\\",\\n            \\\"anchor\\\": \\\"lhs\\\",\\n            \\\"select\\\": \\\"row\\\",\\n            \\\"label\\\": 247\\n          },\\n          \\\"to\\\": {\\n            \\\"type\\\": \\\"axis\\\",\\n            \\\"anchor\\\": \\\"rhs\\\",\\n            \\\"select\\\": \\\"row\\\",\\n            \\\"label\\\": 247\\n          }\\n        },\\n        {\\n          \\\"type\\\": \\\"map\\\",\\n          \\\"from\\\": {\\n            \\\"type\\\": \\\"axis\\\",\\n            \\\"anchor\\\": \\\"lhs\\\",\\n            \\\"select\\\": \\\"row\\\",\\n            \\\"label\\\": 248\\n          },\\n          \\\"to\\\": {\\n            \\\"type\\\": \\\"axis\\\",\\n            \\\"anchor\\\": \\\"rhs\\\",\\n            \\\"select\\\": \\\"row\\\",\\n            \\\"label\\\": 248\\n          }\\n        },\\n        {\\n          \\\"type\\\": \\\"map\\\",\\n          \\\"from\\\": {\\n            \\\"type\\\": \\\"axis\\\",\\n            \\\"anchor\\\": \\\"lhs\\\",\\n            \\\"select\\\": \\\"row\\\",\\n            \\\"label\\\": 249\\n          },\\n          \\\"to\\\": {\\n            \\\"type\\\": \\\"axis\\\",\\n            \\\"anchor\\\": \\\"rhs\\\",\\n            \\\"select\\\": \\\"row\\\",\\n            \\\"label\\\": 249\\n          }\\n        },\\n        {\\n          \\\"type\\\": \\\"map\\\",\\n          \\\"from\\\": {\\n            \\\"type\\\": \\\"axis\\\",\\n            \\\"anchor\\\": \\\"lhs\\\",\\n            \\\"select\\\": \\\"row\\\",\\n            \\\"label\\\": 250\\n          },\\n          \\\"to\\\": {\\n            \\\"type\\\": \\\"axis\\\",\\n            \\\"anchor\\\": \\\"rhs\\\",\\n            \\\"select\\\": \\\"row\\\",\\n            \\\"label\\\": 250\\n          }\\n        },\\n        {\\n          \\\"type\\\": \\\"map\\\",\\n          \\\"from\\\": {\\n            \\\"type\\\": \\\"axis\\\",\\n            \\\"anchor\\\": \\\"lhs\\\",\\n            \\\"select\\\": \\\"row\\\",\\n            \\\"label\\\": 251\\n          },\\n          \\\"to\\\": {\\n            \\\"type\\\": \\\"axis\\\",\\n            \\\"anchor\\\": \\\"rhs\\\",\\n            \\\"select\\\": \\\"row\\\",\\n            \\\"label\\\": 251\\n          }\\n        },\\n        {\\n          \\\"type\\\": \\\"map\\\",\\n          \\\"from\\\": {\\n            \\\"type\\\": \\\"axis\\\",\\n            \\\"anchor\\\": \\\"lhs\\\",\\n            \\\"select\\\": \\\"row\\\",\\n            \\\"label\\\": 252\\n          },\\n          \\\"to\\\": {\\n            \\\"type\\\": \\\"axis\\\",\\n            \\\"anchor\\\": \\\"rhs\\\",\\n            \\\"select\\\": \\\"row\\\",\\n            \\\"label\\\": 252\\n          }\\n        },\\n        {\\n          \\\"type\\\": \\\"map\\\",\\n          \\\"from\\\": {\\n            \\\"type\\\": \\\"axis\\\",\\n            \\\"anchor\\\": \\\"lhs\\\",\\n            \\\"select\\\": \\\"row\\\",\\n            \\\"label\\\": 253\\n          },\\n          \\\"to\\\": {\\n            \\\"type\\\": \\\"axis\\\",\\n            \\\"anchor\\\": \\\"rhs\\\",\\n            \\\"select\\\": \\\"row\\\",\\n            \\\"label\\\": 253\\n          }\\n        },\\n        {\\n          \\\"type\\\": \\\"map\\\",\\n          \\\"from\\\": {\\n            \\\"type\\\": \\\"axis\\\",\\n            \\\"anchor\\\": \\\"lhs\\\",\\n            \\\"select\\\": \\\"row\\\",\\n            \\\"label\\\": 254\\n          },\\n          \\\"to\\\": {\\n            \\\"type\\\": \\\"axis\\\",\\n            \\\"anchor\\\": \\\"rhs\\\",\\n            \\\"select\\\": \\\"row\\\",\\n            \\\"label\\\": 254\\n          }\\n        },\\n        {\\n          \\\"type\\\": \\\"map\\\",\\n          \\\"from\\\": {\\n            \\\"type\\\": \\\"axis\\\",\\n            \\\"anchor\\\": \\\"lhs\\\",\\n            \\\"select\\\": \\\"row\\\",\\n            \\\"label\\\": 255\\n          },\\n          \\\"to\\\": {\\n            \\\"type\\\": \\\"axis\\\",\\n            \\\"anchor\\\": \\\"rhs\\\",\\n            \\\"select\\\": \\\"row\\\",\\n            \\\"label\\\": 255\\n          }\\n        },\\n        {\\n          \\\"type\\\": \\\"map\\\",\\n          \\\"from\\\": {\\n            \\\"type\\\": \\\"axis\\\",\\n            \\\"anchor\\\": \\\"lhs\\\",\\n            \\\"select\\\": \\\"row\\\",\\n            \\\"label\\\": 256\\n          },\\n          \\\"to\\\": {\\n            \\\"type\\\": \\\"axis\\\",\\n            \\\"anchor\\\": \\\"rhs\\\",\\n            \\\"select\\\": \\\"row\\\",\\n            \\\"label\\\": 256\\n          }\\n        },\\n        {\\n          \\\"type\\\": \\\"map\\\",\\n          \\\"from\\\": {\\n            \\\"type\\\": \\\"axis\\\",\\n            \\\"anchor\\\": \\\"lhs\\\",\\n            \\\"select\\\": \\\"row\\\",\\n            \\\"label\\\": 257\\n          },\\n          \\\"to\\\": {\\n            \\\"type\\\": \\\"axis\\\",\\n            \\\"anchor\\\": \\\"rhs\\\",\\n            \\\"select\\\": \\\"row\\\",\\n            \\\"label\\\": 257\\n          }\\n        },\\n        {\\n          \\\"type\\\": \\\"map\\\",\\n          \\\"from\\\": {\\n            \\\"type\\\": \\\"axis\\\",\\n            \\\"anchor\\\": \\\"lhs\\\",\\n            \\\"select\\\": \\\"row\\\",\\n            \\\"label\\\": 258\\n          },\\n          \\\"to\\\": {\\n            \\\"type\\\": \\\"axis\\\",\\n            \\\"anchor\\\": \\\"rhs\\\",\\n            \\\"select\\\": \\\"row\\\",\\n            \\\"label\\\": 258\\n          }\\n        },\\n        {\\n          \\\"type\\\": \\\"map\\\",\\n          \\\"from\\\": {\\n            \\\"type\\\": \\\"axis\\\",\\n            \\\"anchor\\\": \\\"lhs\\\",\\n            \\\"select\\\": \\\"row\\\",\\n            \\\"label\\\": 259\\n          },\\n          \\\"to\\\": {\\n            \\\"type\\\": \\\"axis\\\",\\n            \\\"anchor\\\": \\\"rhs\\\",\\n            \\\"select\\\": \\\"row\\\",\\n            \\\"label\\\": 259\\n          }\\n        },\\n        {\\n          \\\"type\\\": \\\"map\\\",\\n          \\\"from\\\": {\\n            \\\"type\\\": \\\"axis\\\",\\n            \\\"anchor\\\": \\\"lhs\\\",\\n            \\\"select\\\": \\\"row\\\",\\n            \\\"label\\\": 260\\n          },\\n          \\\"to\\\": {\\n            \\\"type\\\": \\\"axis\\\",\\n            \\\"anchor\\\": \\\"rhs\\\",\\n            \\\"select\\\": \\\"row\\\",\\n            \\\"label\\\": 260\\n          }\\n        },\\n        {\\n          \\\"type\\\": \\\"map\\\",\\n          \\\"from\\\": {\\n            \\\"type\\\": \\\"axis\\\",\\n            \\\"anchor\\\": \\\"lhs\\\",\\n            \\\"select\\\": \\\"row\\\",\\n            \\\"label\\\": 261\\n          },\\n          \\\"to\\\": {\\n            \\\"type\\\": \\\"axis\\\",\\n            \\\"anchor\\\": \\\"rhs\\\",\\n            \\\"select\\\": \\\"row\\\",\\n            \\\"label\\\": 261\\n          }\\n        },\\n        {\\n          \\\"type\\\": \\\"map\\\",\\n          \\\"from\\\": {\\n            \\\"type\\\": \\\"axis\\\",\\n            \\\"anchor\\\": \\\"lhs\\\",\\n            \\\"select\\\": \\\"row\\\",\\n            \\\"label\\\": 262\\n          },\\n          \\\"to\\\": {\\n            \\\"type\\\": \\\"axis\\\",\\n            \\\"anchor\\\": \\\"rhs\\\",\\n            \\\"select\\\": \\\"row\\\",\\n            \\\"label\\\": 262\\n          }\\n        },\\n        {\\n          \\\"type\\\": \\\"map\\\",\\n          \\\"from\\\": {\\n            \\\"type\\\": \\\"axis\\\",\\n            \\\"anchor\\\": \\\"lhs\\\",\\n            \\\"select\\\": \\\"row\\\",\\n            \\\"label\\\": 263\\n          },\\n          \\\"to\\\": {\\n            \\\"type\\\": \\\"axis\\\",\\n            \\\"anchor\\\": \\\"rhs\\\",\\n            \\\"select\\\": \\\"row\\\",\\n            \\\"label\\\": 263\\n          }\\n        },\\n        {\\n          \\\"type\\\": \\\"map\\\",\\n          \\\"from\\\": {\\n            \\\"type\\\": \\\"axis\\\",\\n            \\\"anchor\\\": \\\"lhs\\\",\\n            \\\"select\\\": \\\"row\\\",\\n            \\\"label\\\": 264\\n          },\\n          \\\"to\\\": {\\n            \\\"type\\\": \\\"axis\\\",\\n            \\\"anchor\\\": \\\"rhs\\\",\\n            \\\"select\\\": \\\"row\\\",\\n            \\\"label\\\": 264\\n          }\\n        },\\n        {\\n          \\\"type\\\": \\\"map\\\",\\n          \\\"from\\\": {\\n            \\\"type\\\": \\\"axis\\\",\\n            \\\"anchor\\\": \\\"lhs\\\",\\n            \\\"select\\\": \\\"row\\\",\\n            \\\"label\\\": 265\\n          },\\n          \\\"to\\\": {\\n            \\\"type\\\": \\\"axis\\\",\\n            \\\"anchor\\\": \\\"rhs\\\",\\n            \\\"select\\\": \\\"row\\\",\\n            \\\"label\\\": 265\\n          }\\n        },\\n        {\\n          \\\"type\\\": \\\"map\\\",\\n          \\\"from\\\": {\\n            \\\"type\\\": \\\"axis\\\",\\n            \\\"anchor\\\": \\\"lhs\\\",\\n            \\\"select\\\": \\\"row\\\",\\n            \\\"label\\\": 266\\n          },\\n          \\\"to\\\": {\\n            \\\"type\\\": \\\"axis\\\",\\n            \\\"anchor\\\": \\\"rhs\\\",\\n            \\\"select\\\": \\\"row\\\",\\n            \\\"label\\\": 266\\n          }\\n        },\\n        {\\n          \\\"type\\\": \\\"map\\\",\\n          \\\"from\\\": {\\n            \\\"type\\\": \\\"axis\\\",\\n            \\\"anchor\\\": \\\"lhs\\\",\\n            \\\"select\\\": \\\"row\\\",\\n            \\\"label\\\": 267\\n          },\\n          \\\"to\\\": {\\n            \\\"type\\\": \\\"axis\\\",\\n            \\\"anchor\\\": \\\"rhs\\\",\\n            \\\"select\\\": \\\"row\\\",\\n            \\\"label\\\": 267\\n          }\\n        },\\n        {\\n          \\\"type\\\": \\\"map\\\",\\n          \\\"from\\\": {\\n            \\\"type\\\": \\\"axis\\\",\\n            \\\"anchor\\\": \\\"lhs\\\",\\n            \\\"select\\\": \\\"row\\\",\\n            \\\"label\\\": 268\\n          },\\n          \\\"to\\\": {\\n            \\\"type\\\": \\\"axis\\\",\\n            \\\"anchor\\\": \\\"rhs\\\",\\n            \\\"select\\\": \\\"row\\\",\\n            \\\"label\\\": 268\\n          }\\n        },\\n        {\\n          \\\"type\\\": \\\"map\\\",\\n          \\\"from\\\": {\\n            \\\"type\\\": \\\"axis\\\",\\n            \\\"anchor\\\": \\\"lhs\\\",\\n            \\\"select\\\": \\\"row\\\",\\n            \\\"label\\\": 269\\n          },\\n          \\\"to\\\": {\\n            \\\"type\\\": \\\"axis\\\",\\n            \\\"anchor\\\": \\\"rhs\\\",\\n            \\\"select\\\": \\\"row\\\",\\n            \\\"label\\\": 269\\n          }\\n        },\\n        {\\n          \\\"type\\\": \\\"map\\\",\\n          \\\"from\\\": {\\n            \\\"type\\\": \\\"axis\\\",\\n            \\\"anchor\\\": \\\"lhs\\\",\\n            \\\"select\\\": \\\"row\\\",\\n            \\\"label\\\": 270\\n          },\\n          \\\"to\\\": {\\n            \\\"type\\\": \\\"axis\\\",\\n            \\\"anchor\\\": \\\"rhs\\\",\\n            \\\"select\\\": \\\"row\\\",\\n            \\\"label\\\": 270\\n          }\\n        },\\n        {\\n          \\\"type\\\": \\\"map\\\",\\n          \\\"from\\\": {\\n            \\\"type\\\": \\\"axis\\\",\\n            \\\"anchor\\\": \\\"lhs\\\",\\n            \\\"select\\\": \\\"row\\\",\\n            \\\"label\\\": 271\\n          },\\n          \\\"to\\\": {\\n            \\\"type\\\": \\\"axis\\\",\\n            \\\"anchor\\\": \\\"rhs\\\",\\n            \\\"select\\\": \\\"row\\\",\\n            \\\"label\\\": 271\\n          }\\n        },\\n        {\\n          \\\"type\\\": \\\"map\\\",\\n          \\\"from\\\": {\\n            \\\"type\\\": \\\"axis\\\",\\n            \\\"anchor\\\": \\\"lhs\\\",\\n            \\\"select\\\": \\\"row\\\",\\n            \\\"label\\\": 272\\n          },\\n          \\\"to\\\": {\\n            \\\"type\\\": \\\"axis\\\",\\n            \\\"anchor\\\": \\\"rhs\\\",\\n            \\\"select\\\": \\\"row\\\",\\n            \\\"label\\\": 272\\n          }\\n        },\\n        {\\n          \\\"type\\\": \\\"map\\\",\\n          \\\"from\\\": {\\n            \\\"type\\\": \\\"axis\\\",\\n            \\\"anchor\\\": \\\"lhs\\\",\\n            \\\"select\\\": \\\"row\\\",\\n            \\\"label\\\": 273\\n          },\\n          \\\"to\\\": {\\n            \\\"type\\\": \\\"axis\\\",\\n            \\\"anchor\\\": \\\"rhs\\\",\\n            \\\"select\\\": \\\"row\\\",\\n            \\\"label\\\": 273\\n          }\\n        },\\n        {\\n          \\\"type\\\": \\\"map\\\",\\n          \\\"from\\\": {\\n            \\\"type\\\": \\\"axis\\\",\\n            \\\"anchor\\\": \\\"lhs\\\",\\n            \\\"select\\\": \\\"row\\\",\\n            \\\"label\\\": 274\\n          },\\n          \\\"to\\\": {\\n            \\\"type\\\": \\\"axis\\\",\\n            \\\"anchor\\\": \\\"rhs\\\",\\n            \\\"select\\\": \\\"row\\\",\\n            \\\"label\\\": 274\\n          }\\n        },\\n        {\\n          \\\"type\\\": \\\"map\\\",\\n          \\\"from\\\": {\\n            \\\"type\\\": \\\"axis\\\",\\n            \\\"anchor\\\": \\\"lhs\\\",\\n            \\\"select\\\": \\\"row\\\",\\n            \\\"label\\\": 275\\n          },\\n          \\\"to\\\": {\\n            \\\"type\\\": \\\"axis\\\",\\n            \\\"anchor\\\": \\\"rhs\\\",\\n            \\\"select\\\": \\\"row\\\",\\n            \\\"label\\\": 275\\n          }\\n        },\\n        {\\n          \\\"type\\\": \\\"map\\\",\\n          \\\"from\\\": {\\n            \\\"type\\\": \\\"axis\\\",\\n            \\\"anchor\\\": \\\"lhs\\\",\\n            \\\"select\\\": \\\"row\\\",\\n            \\\"label\\\": 276\\n          },\\n          \\\"to\\\": {\\n            \\\"type\\\": \\\"axis\\\",\\n            \\\"anchor\\\": \\\"rhs\\\",\\n            \\\"select\\\": \\\"row\\\",\\n            \\\"label\\\": 276\\n          }\\n        },\\n        {\\n          \\\"type\\\": \\\"map\\\",\\n          \\\"from\\\": {\\n            \\\"type\\\": \\\"axis\\\",\\n            \\\"anchor\\\": \\\"lhs\\\",\\n            \\\"select\\\": \\\"row\\\",\\n            \\\"label\\\": 277\\n          },\\n          \\\"to\\\": {\\n            \\\"type\\\": \\\"axis\\\",\\n            \\\"anchor\\\": \\\"rhs\\\",\\n            \\\"select\\\": \\\"row\\\",\\n            \\\"label\\\": 277\\n          }\\n        },\\n        {\\n          \\\"type\\\": \\\"map\\\",\\n          \\\"from\\\": {\\n            \\\"type\\\": \\\"axis\\\",\\n            \\\"anchor\\\": \\\"lhs\\\",\\n            \\\"select\\\": \\\"row\\\",\\n            \\\"label\\\": 278\\n          },\\n          \\\"to\\\": {\\n            \\\"type\\\": \\\"axis\\\",\\n            \\\"anchor\\\": \\\"rhs\\\",\\n            \\\"select\\\": \\\"row\\\",\\n            \\\"label\\\": 278\\n          }\\n        },\\n        {\\n          \\\"type\\\": \\\"map\\\",\\n          \\\"from\\\": {\\n            \\\"type\\\": \\\"axis\\\",\\n            \\\"anchor\\\": \\\"lhs\\\",\\n            \\\"select\\\": \\\"row\\\",\\n            \\\"label\\\": 279\\n          },\\n          \\\"to\\\": {\\n            \\\"type\\\": \\\"axis\\\",\\n            \\\"anchor\\\": \\\"rhs\\\",\\n            \\\"select\\\": \\\"row\\\",\\n            \\\"label\\\": 279\\n          }\\n        },\\n        {\\n          \\\"type\\\": \\\"map\\\",\\n          \\\"from\\\": {\\n            \\\"type\\\": \\\"axis\\\",\\n            \\\"anchor\\\": \\\"lhs\\\",\\n            \\\"select\\\": \\\"row\\\",\\n            \\\"label\\\": 280\\n          },\\n          \\\"to\\\": {\\n            \\\"type\\\": \\\"axis\\\",\\n            \\\"anchor\\\": \\\"rhs\\\",\\n            \\\"select\\\": \\\"row\\\",\\n            \\\"label\\\": 280\\n          }\\n        },\\n        {\\n          \\\"type\\\": \\\"map\\\",\\n          \\\"from\\\": {\\n            \\\"type\\\": \\\"axis\\\",\\n            \\\"anchor\\\": \\\"lhs\\\",\\n            \\\"select\\\": \\\"row\\\",\\n            \\\"label\\\": 281\\n          },\\n          \\\"to\\\": {\\n            \\\"type\\\": \\\"axis\\\",\\n            \\\"anchor\\\": \\\"rhs\\\",\\n            \\\"select\\\": \\\"row\\\",\\n            \\\"label\\\": 281\\n          }\\n        },\\n        {\\n          \\\"type\\\": \\\"map\\\",\\n          \\\"from\\\": {\\n            \\\"type\\\": \\\"axis\\\",\\n            \\\"anchor\\\": \\\"lhs\\\",\\n            \\\"select\\\": \\\"row\\\",\\n            \\\"label\\\": 282\\n          },\\n          \\\"to\\\": {\\n            \\\"type\\\": \\\"axis\\\",\\n            \\\"anchor\\\": \\\"rhs\\\",\\n            \\\"select\\\": \\\"row\\\",\\n            \\\"label\\\": 282\\n          }\\n        },\\n        {\\n          \\\"type\\\": \\\"map\\\",\\n          \\\"from\\\": {\\n            \\\"type\\\": \\\"axis\\\",\\n            \\\"anchor\\\": \\\"lhs\\\",\\n            \\\"select\\\": \\\"row\\\",\\n            \\\"label\\\": 283\\n          },\\n          \\\"to\\\": {\\n            \\\"type\\\": \\\"axis\\\",\\n            \\\"anchor\\\": \\\"rhs\\\",\\n            \\\"select\\\": \\\"row\\\",\\n            \\\"label\\\": 283\\n          }\\n        },\\n        {\\n          \\\"type\\\": \\\"map\\\",\\n          \\\"from\\\": {\\n            \\\"type\\\": \\\"axis\\\",\\n            \\\"anchor\\\": \\\"lhs\\\",\\n            \\\"select\\\": \\\"row\\\",\\n            \\\"label\\\": 284\\n          },\\n          \\\"to\\\": {\\n            \\\"type\\\": \\\"axis\\\",\\n            \\\"anchor\\\": \\\"rhs\\\",\\n            \\\"select\\\": \\\"row\\\",\\n            \\\"label\\\": 284\\n          }\\n        },\\n        {\\n          \\\"type\\\": \\\"map\\\",\\n          \\\"from\\\": {\\n            \\\"type\\\": \\\"axis\\\",\\n            \\\"anchor\\\": \\\"lhs\\\",\\n            \\\"select\\\": \\\"row\\\",\\n            \\\"label\\\": 285\\n          },\\n          \\\"to\\\": {\\n            \\\"type\\\": \\\"axis\\\",\\n            \\\"anchor\\\": \\\"rhs\\\",\\n            \\\"select\\\": \\\"row\\\",\\n            \\\"label\\\": 285\\n          }\\n        },\\n        {\\n          \\\"type\\\": \\\"map\\\",\\n          \\\"from\\\": {\\n            \\\"type\\\": \\\"axis\\\",\\n            \\\"anchor\\\": \\\"lhs\\\",\\n            \\\"select\\\": \\\"row\\\",\\n            \\\"label\\\": 286\\n          },\\n          \\\"to\\\": {\\n            \\\"type\\\": \\\"axis\\\",\\n            \\\"anchor\\\": \\\"rhs\\\",\\n            \\\"select\\\": \\\"row\\\",\\n            \\\"label\\\": 286\\n          }\\n        },\\n        {\\n          \\\"type\\\": \\\"map\\\",\\n          \\\"from\\\": {\\n            \\\"type\\\": \\\"axis\\\",\\n            \\\"anchor\\\": \\\"lhs\\\",\\n            \\\"select\\\": \\\"row\\\",\\n            \\\"label\\\": 287\\n          },\\n          \\\"to\\\": {\\n            \\\"type\\\": \\\"axis\\\",\\n            \\\"anchor\\\": \\\"rhs\\\",\\n            \\\"select\\\": \\\"row\\\",\\n            \\\"label\\\": 287\\n          }\\n        },\\n        {\\n          \\\"type\\\": \\\"map\\\",\\n          \\\"from\\\": {\\n            \\\"type\\\": \\\"axis\\\",\\n            \\\"anchor\\\": \\\"lhs\\\",\\n            \\\"select\\\": \\\"row\\\",\\n            \\\"label\\\": 288\\n          },\\n          \\\"to\\\": {\\n            \\\"type\\\": \\\"axis\\\",\\n            \\\"anchor\\\": \\\"rhs\\\",\\n            \\\"select\\\": \\\"row\\\",\\n            \\\"label\\\": 288\\n          }\\n        },\\n        {\\n          \\\"type\\\": \\\"map\\\",\\n          \\\"from\\\": {\\n            \\\"type\\\": \\\"axis\\\",\\n            \\\"anchor\\\": \\\"lhs\\\",\\n            \\\"select\\\": \\\"row\\\",\\n            \\\"label\\\": 289\\n          },\\n          \\\"to\\\": {\\n            \\\"type\\\": \\\"axis\\\",\\n            \\\"anchor\\\": \\\"rhs\\\",\\n            \\\"select\\\": \\\"row\\\",\\n            \\\"label\\\": 289\\n          }\\n        },\\n        {\\n          \\\"type\\\": \\\"map\\\",\\n          \\\"from\\\": {\\n            \\\"type\\\": \\\"axis\\\",\\n            \\\"anchor\\\": \\\"lhs\\\",\\n            \\\"select\\\": \\\"row\\\",\\n            \\\"label\\\": 290\\n          },\\n          \\\"to\\\": {\\n            \\\"type\\\": \\\"axis\\\",\\n            \\\"anchor\\\": \\\"rhs\\\",\\n            \\\"select\\\": \\\"row\\\",\\n            \\\"label\\\": 290\\n          }\\n        },\\n        {\\n          \\\"type\\\": \\\"map\\\",\\n          \\\"from\\\": {\\n            \\\"type\\\": \\\"axis\\\",\\n            \\\"anchor\\\": \\\"lhs\\\",\\n            \\\"select\\\": \\\"row\\\",\\n            \\\"label\\\": 291\\n          },\\n          \\\"to\\\": {\\n            \\\"type\\\": \\\"axis\\\",\\n            \\\"anchor\\\": \\\"rhs\\\",\\n            \\\"select\\\": \\\"row\\\",\\n            \\\"label\\\": 291\\n          }\\n        },\\n        {\\n          \\\"type\\\": \\\"map\\\",\\n          \\\"from\\\": {\\n            \\\"type\\\": \\\"axis\\\",\\n            \\\"anchor\\\": \\\"lhs\\\",\\n            \\\"select\\\": \\\"row\\\",\\n            \\\"label\\\": 292\\n          },\\n          \\\"to\\\": {\\n            \\\"type\\\": \\\"axis\\\",\\n            \\\"anchor\\\": \\\"rhs\\\",\\n            \\\"select\\\": \\\"row\\\",\\n            \\\"label\\\": 292\\n          }\\n        },\\n        {\\n          \\\"type\\\": \\\"map\\\",\\n          \\\"from\\\": {\\n            \\\"type\\\": \\\"axis\\\",\\n            \\\"anchor\\\": \\\"lhs\\\",\\n            \\\"select\\\": \\\"row\\\",\\n            \\\"label\\\": 293\\n          },\\n          \\\"to\\\": {\\n            \\\"type\\\": \\\"axis\\\",\\n            \\\"anchor\\\": \\\"rhs\\\",\\n            \\\"select\\\": \\\"row\\\",\\n            \\\"label\\\": 293\\n          }\\n        },\\n        {\\n          \\\"type\\\": \\\"map\\\",\\n          \\\"from\\\": {\\n            \\\"type\\\": \\\"axis\\\",\\n            \\\"anchor\\\": \\\"lhs\\\",\\n            \\\"select\\\": \\\"row\\\",\\n            \\\"label\\\": 294\\n          },\\n          \\\"to\\\": {\\n            \\\"type\\\": \\\"axis\\\",\\n            \\\"anchor\\\": \\\"rhs\\\",\\n            \\\"select\\\": \\\"row\\\",\\n            \\\"label\\\": 294\\n          }\\n        },\\n        {\\n          \\\"type\\\": \\\"map\\\",\\n          \\\"from\\\": {\\n            \\\"type\\\": \\\"axis\\\",\\n            \\\"anchor\\\": \\\"lhs\\\",\\n            \\\"select\\\": \\\"row\\\",\\n            \\\"label\\\": 295\\n          },\\n          \\\"to\\\": {\\n            \\\"type\\\": \\\"axis\\\",\\n            \\\"anchor\\\": \\\"rhs\\\",\\n            \\\"select\\\": \\\"row\\\",\\n            \\\"label\\\": 295\\n          }\\n        },\\n        {\\n          \\\"type\\\": \\\"map\\\",\\n          \\\"from\\\": {\\n            \\\"type\\\": \\\"axis\\\",\\n            \\\"anchor\\\": \\\"lhs\\\",\\n            \\\"select\\\": \\\"row\\\",\\n            \\\"label\\\": 296\\n          },\\n          \\\"to\\\": {\\n            \\\"type\\\": \\\"axis\\\",\\n            \\\"anchor\\\": \\\"rhs\\\",\\n            \\\"select\\\": \\\"row\\\",\\n            \\\"label\\\": 296\\n          }\\n        },\\n        {\\n          \\\"type\\\": \\\"map\\\",\\n          \\\"from\\\": {\\n            \\\"type\\\": \\\"axis\\\",\\n            \\\"anchor\\\": \\\"lhs\\\",\\n            \\\"select\\\": \\\"row\\\",\\n            \\\"label\\\": 297\\n          },\\n          \\\"to\\\": {\\n            \\\"type\\\": \\\"axis\\\",\\n            \\\"anchor\\\": \\\"rhs\\\",\\n            \\\"select\\\": \\\"row\\\",\\n            \\\"label\\\": 297\\n          }\\n        },\\n        {\\n          \\\"type\\\": \\\"map\\\",\\n          \\\"from\\\": {\\n            \\\"type\\\": \\\"axis\\\",\\n            \\\"anchor\\\": \\\"lhs\\\",\\n            \\\"select\\\": \\\"row\\\",\\n            \\\"label\\\": 298\\n          },\\n          \\\"to\\\": {\\n            \\\"type\\\": \\\"axis\\\",\\n            \\\"anchor\\\": \\\"rhs\\\",\\n            \\\"select\\\": \\\"row\\\",\\n            \\\"label\\\": 298\\n          }\\n        },\\n        {\\n          \\\"type\\\": \\\"map\\\",\\n          \\\"from\\\": {\\n            \\\"type\\\": \\\"axis\\\",\\n            \\\"anchor\\\": \\\"lhs\\\",\\n            \\\"select\\\": \\\"row\\\",\\n            \\\"label\\\": 299\\n          },\\n          \\\"to\\\": {\\n            \\\"type\\\": \\\"axis\\\",\\n            \\\"anchor\\\": \\\"rhs\\\",\\n            \\\"select\\\": \\\"row\\\",\\n            \\\"label\\\": 299\\n          }\\n        },\\n        {\\n          \\\"type\\\": \\\"map\\\",\\n          \\\"from\\\": {\\n            \\\"type\\\": \\\"axis\\\",\\n            \\\"anchor\\\": \\\"lhs\\\",\\n            \\\"select\\\": \\\"row\\\",\\n            \\\"label\\\": 300\\n          },\\n          \\\"to\\\": {\\n            \\\"type\\\": \\\"axis\\\",\\n            \\\"anchor\\\": \\\"rhs\\\",\\n            \\\"select\\\": \\\"row\\\",\\n            \\\"label\\\": 300\\n          }\\n        },\\n        {\\n          \\\"type\\\": \\\"map\\\",\\n          \\\"from\\\": {\\n            \\\"type\\\": \\\"axis\\\",\\n            \\\"anchor\\\": \\\"lhs\\\",\\n            \\\"select\\\": \\\"row\\\",\\n            \\\"label\\\": 301\\n          },\\n          \\\"to\\\": {\\n            \\\"type\\\": \\\"axis\\\",\\n            \\\"anchor\\\": \\\"rhs\\\",\\n            \\\"select\\\": \\\"row\\\",\\n            \\\"label\\\": 301\\n          }\\n        },\\n        {\\n          \\\"type\\\": \\\"map\\\",\\n          \\\"from\\\": {\\n            \\\"type\\\": \\\"axis\\\",\\n            \\\"anchor\\\": \\\"lhs\\\",\\n            \\\"select\\\": \\\"row\\\",\\n            \\\"label\\\": 302\\n          },\\n          \\\"to\\\": {\\n            \\\"type\\\": \\\"axis\\\",\\n            \\\"anchor\\\": \\\"rhs\\\",\\n            \\\"select\\\": \\\"row\\\",\\n            \\\"label\\\": 302\\n          }\\n        },\\n        {\\n          \\\"type\\\": \\\"map\\\",\\n          \\\"from\\\": {\\n            \\\"type\\\": \\\"axis\\\",\\n            \\\"anchor\\\": \\\"lhs\\\",\\n            \\\"select\\\": \\\"row\\\",\\n            \\\"label\\\": 303\\n          },\\n          \\\"to\\\": {\\n            \\\"type\\\": \\\"axis\\\",\\n            \\\"anchor\\\": \\\"rhs\\\",\\n            \\\"select\\\": \\\"row\\\",\\n            \\\"label\\\": 303\\n          }\\n        },\\n        {\\n          \\\"type\\\": \\\"map\\\",\\n          \\\"from\\\": {\\n            \\\"type\\\": \\\"axis\\\",\\n            \\\"anchor\\\": \\\"lhs\\\",\\n            \\\"select\\\": \\\"row\\\",\\n            \\\"label\\\": 304\\n          },\\n          \\\"to\\\": {\\n            \\\"type\\\": \\\"axis\\\",\\n            \\\"anchor\\\": \\\"rhs\\\",\\n            \\\"select\\\": \\\"row\\\",\\n            \\\"label\\\": 304\\n          }\\n        },\\n        {\\n          \\\"type\\\": \\\"map\\\",\\n          \\\"from\\\": {\\n            \\\"type\\\": \\\"axis\\\",\\n            \\\"anchor\\\": \\\"lhs\\\",\\n            \\\"select\\\": \\\"row\\\",\\n            \\\"label\\\": 305\\n          },\\n          \\\"to\\\": {\\n            \\\"type\\\": \\\"axis\\\",\\n            \\\"anchor\\\": \\\"rhs\\\",\\n            \\\"select\\\": \\\"row\\\",\\n            \\\"label\\\": 305\\n          }\\n        },\\n        {\\n          \\\"type\\\": \\\"map\\\",\\n          \\\"from\\\": {\\n            \\\"type\\\": \\\"axis\\\",\\n            \\\"anchor\\\": \\\"lhs\\\",\\n            \\\"select\\\": \\\"row\\\",\\n            \\\"label\\\": 306\\n          },\\n          \\\"to\\\": {\\n            \\\"type\\\": \\\"axis\\\",\\n            \\\"anchor\\\": \\\"rhs\\\",\\n            \\\"select\\\": \\\"row\\\",\\n            \\\"label\\\": 306\\n          }\\n        },\\n        {\\n          \\\"type\\\": \\\"map\\\",\\n          \\\"from\\\": {\\n            \\\"type\\\": \\\"axis\\\",\\n            \\\"anchor\\\": \\\"lhs\\\",\\n            \\\"select\\\": \\\"row\\\",\\n            \\\"label\\\": 307\\n          },\\n          \\\"to\\\": {\\n            \\\"type\\\": \\\"axis\\\",\\n            \\\"anchor\\\": \\\"rhs\\\",\\n            \\\"select\\\": \\\"row\\\",\\n            \\\"label\\\": 307\\n          }\\n        },\\n        {\\n          \\\"type\\\": \\\"map\\\",\\n          \\\"from\\\": {\\n            \\\"type\\\": \\\"axis\\\",\\n            \\\"anchor\\\": \\\"lhs\\\",\\n            \\\"select\\\": \\\"row\\\",\\n            \\\"label\\\": 308\\n          },\\n          \\\"to\\\": {\\n            \\\"type\\\": \\\"axis\\\",\\n            \\\"anchor\\\": \\\"rhs\\\",\\n            \\\"select\\\": \\\"row\\\",\\n            \\\"label\\\": 308\\n          }\\n        },\\n        {\\n          \\\"type\\\": \\\"map\\\",\\n          \\\"from\\\": {\\n            \\\"type\\\": \\\"axis\\\",\\n            \\\"anchor\\\": \\\"lhs\\\",\\n            \\\"select\\\": \\\"row\\\",\\n            \\\"label\\\": 309\\n          },\\n          \\\"to\\\": {\\n            \\\"type\\\": \\\"axis\\\",\\n            \\\"anchor\\\": \\\"rhs\\\",\\n            \\\"select\\\": \\\"row\\\",\\n            \\\"label\\\": 309\\n          }\\n        },\\n        {\\n          \\\"type\\\": \\\"map\\\",\\n          \\\"from\\\": {\\n            \\\"type\\\": \\\"axis\\\",\\n            \\\"anchor\\\": \\\"lhs\\\",\\n            \\\"select\\\": \\\"row\\\",\\n            \\\"label\\\": 310\\n          },\\n          \\\"to\\\": {\\n            \\\"type\\\": \\\"axis\\\",\\n            \\\"anchor\\\": \\\"rhs\\\",\\n            \\\"select\\\": \\\"row\\\",\\n            \\\"label\\\": 310\\n          }\\n        },\\n        {\\n          \\\"type\\\": \\\"map\\\",\\n          \\\"from\\\": {\\n            \\\"type\\\": \\\"axis\\\",\\n            \\\"anchor\\\": \\\"lhs\\\",\\n            \\\"select\\\": \\\"row\\\",\\n            \\\"label\\\": 311\\n          },\\n          \\\"to\\\": {\\n            \\\"type\\\": \\\"axis\\\",\\n            \\\"anchor\\\": \\\"rhs\\\",\\n            \\\"select\\\": \\\"row\\\",\\n            \\\"label\\\": 311\\n          }\\n        },\\n        {\\n          \\\"type\\\": \\\"map\\\",\\n          \\\"from\\\": {\\n            \\\"type\\\": \\\"axis\\\",\\n            \\\"anchor\\\": \\\"lhs\\\",\\n            \\\"select\\\": \\\"row\\\",\\n            \\\"label\\\": 312\\n          },\\n          \\\"to\\\": {\\n            \\\"type\\\": \\\"axis\\\",\\n            \\\"anchor\\\": \\\"rhs\\\",\\n            \\\"select\\\": \\\"row\\\",\\n            \\\"label\\\": 312\\n          }\\n        },\\n        {\\n          \\\"type\\\": \\\"map\\\",\\n          \\\"from\\\": {\\n            \\\"type\\\": \\\"axis\\\",\\n            \\\"anchor\\\": \\\"lhs\\\",\\n            \\\"select\\\": \\\"row\\\",\\n            \\\"label\\\": 313\\n          },\\n          \\\"to\\\": {\\n            \\\"type\\\": \\\"axis\\\",\\n            \\\"anchor\\\": \\\"rhs\\\",\\n            \\\"select\\\": \\\"row\\\",\\n            \\\"label\\\": 313\\n          }\\n        },\\n        {\\n          \\\"type\\\": \\\"map\\\",\\n          \\\"from\\\": {\\n            \\\"type\\\": \\\"axis\\\",\\n            \\\"anchor\\\": \\\"lhs\\\",\\n            \\\"select\\\": \\\"row\\\",\\n            \\\"label\\\": 314\\n          },\\n          \\\"to\\\": {\\n            \\\"type\\\": \\\"axis\\\",\\n            \\\"anchor\\\": \\\"rhs\\\",\\n            \\\"select\\\": \\\"row\\\",\\n            \\\"label\\\": 314\\n          }\\n        },\\n        {\\n          \\\"type\\\": \\\"map\\\",\\n          \\\"from\\\": {\\n            \\\"type\\\": \\\"axis\\\",\\n            \\\"anchor\\\": \\\"lhs\\\",\\n            \\\"select\\\": \\\"row\\\",\\n            \\\"label\\\": 315\\n          },\\n          \\\"to\\\": {\\n            \\\"type\\\": \\\"axis\\\",\\n            \\\"anchor\\\": \\\"rhs\\\",\\n            \\\"select\\\": \\\"row\\\",\\n            \\\"label\\\": 315\\n          }\\n        },\\n        {\\n          \\\"type\\\": \\\"map\\\",\\n          \\\"from\\\": {\\n            \\\"type\\\": \\\"axis\\\",\\n            \\\"anchor\\\": \\\"lhs\\\",\\n            \\\"select\\\": \\\"row\\\",\\n            \\\"label\\\": 316\\n          },\\n          \\\"to\\\": {\\n            \\\"type\\\": \\\"axis\\\",\\n            \\\"anchor\\\": \\\"rhs\\\",\\n            \\\"select\\\": \\\"row\\\",\\n            \\\"label\\\": 316\\n          }\\n        },\\n        {\\n          \\\"type\\\": \\\"map\\\",\\n          \\\"from\\\": {\\n            \\\"type\\\": \\\"axis\\\",\\n            \\\"anchor\\\": \\\"lhs\\\",\\n            \\\"select\\\": \\\"row\\\",\\n            \\\"label\\\": 317\\n          },\\n          \\\"to\\\": {\\n            \\\"type\\\": \\\"axis\\\",\\n            \\\"anchor\\\": \\\"rhs\\\",\\n            \\\"select\\\": \\\"row\\\",\\n            \\\"label\\\": 317\\n          }\\n        },\\n        {\\n          \\\"type\\\": \\\"map\\\",\\n          \\\"from\\\": {\\n            \\\"type\\\": \\\"axis\\\",\\n            \\\"anchor\\\": \\\"lhs\\\",\\n            \\\"select\\\": \\\"row\\\",\\n            \\\"label\\\": 318\\n          },\\n          \\\"to\\\": {\\n            \\\"type\\\": \\\"axis\\\",\\n            \\\"anchor\\\": \\\"rhs\\\",\\n            \\\"select\\\": \\\"row\\\",\\n            \\\"label\\\": 318\\n          }\\n        },\\n        {\\n          \\\"type\\\": \\\"map\\\",\\n          \\\"from\\\": {\\n            \\\"type\\\": \\\"axis\\\",\\n            \\\"anchor\\\": \\\"lhs\\\",\\n            \\\"select\\\": \\\"row\\\",\\n            \\\"label\\\": 319\\n          },\\n          \\\"to\\\": {\\n            \\\"type\\\": \\\"axis\\\",\\n            \\\"anchor\\\": \\\"rhs\\\",\\n            \\\"select\\\": \\\"row\\\",\\n            \\\"label\\\": 319\\n          }\\n        },\\n        {\\n          \\\"type\\\": \\\"map\\\",\\n          \\\"from\\\": {\\n            \\\"type\\\": \\\"axis\\\",\\n            \\\"anchor\\\": \\\"lhs\\\",\\n            \\\"select\\\": \\\"row\\\",\\n            \\\"label\\\": 320\\n          },\\n          \\\"to\\\": {\\n            \\\"type\\\": \\\"axis\\\",\\n            \\\"anchor\\\": \\\"rhs\\\",\\n            \\\"select\\\": \\\"row\\\",\\n            \\\"label\\\": 320\\n          }\\n        },\\n        {\\n          \\\"type\\\": \\\"map\\\",\\n          \\\"from\\\": {\\n            \\\"type\\\": \\\"axis\\\",\\n            \\\"anchor\\\": \\\"lhs\\\",\\n            \\\"select\\\": \\\"row\\\",\\n            \\\"label\\\": 321\\n          },\\n          \\\"to\\\": {\\n            \\\"type\\\": \\\"axis\\\",\\n            \\\"anchor\\\": \\\"rhs\\\",\\n            \\\"select\\\": \\\"row\\\",\\n            \\\"label\\\": 321\\n          }\\n        },\\n        {\\n          \\\"type\\\": \\\"map\\\",\\n          \\\"from\\\": {\\n            \\\"type\\\": \\\"axis\\\",\\n            \\\"anchor\\\": \\\"lhs\\\",\\n            \\\"select\\\": \\\"row\\\",\\n            \\\"label\\\": 322\\n          },\\n          \\\"to\\\": {\\n            \\\"type\\\": \\\"axis\\\",\\n            \\\"anchor\\\": \\\"rhs\\\",\\n            \\\"select\\\": \\\"row\\\",\\n            \\\"label\\\": 322\\n          }\\n        },\\n        {\\n          \\\"type\\\": \\\"map\\\",\\n          \\\"from\\\": {\\n            \\\"type\\\": \\\"axis\\\",\\n            \\\"anchor\\\": \\\"lhs\\\",\\n            \\\"select\\\": \\\"row\\\",\\n            \\\"label\\\": 323\\n          },\\n          \\\"to\\\": {\\n            \\\"type\\\": \\\"axis\\\",\\n            \\\"anchor\\\": \\\"rhs\\\",\\n            \\\"select\\\": \\\"row\\\",\\n            \\\"label\\\": 323\\n          }\\n        },\\n        {\\n          \\\"type\\\": \\\"map\\\",\\n          \\\"from\\\": {\\n            \\\"type\\\": \\\"axis\\\",\\n            \\\"anchor\\\": \\\"lhs\\\",\\n            \\\"select\\\": \\\"row\\\",\\n            \\\"label\\\": 324\\n          },\\n          \\\"to\\\": {\\n            \\\"type\\\": \\\"axis\\\",\\n            \\\"anchor\\\": \\\"rhs\\\",\\n            \\\"select\\\": \\\"row\\\",\\n            \\\"label\\\": 324\\n          }\\n        },\\n        {\\n          \\\"type\\\": \\\"map\\\",\\n          \\\"from\\\": {\\n            \\\"type\\\": \\\"axis\\\",\\n            \\\"anchor\\\": \\\"lhs\\\",\\n            \\\"select\\\": \\\"row\\\",\\n            \\\"label\\\": 325\\n          },\\n          \\\"to\\\": {\\n            \\\"type\\\": \\\"axis\\\",\\n            \\\"anchor\\\": \\\"rhs\\\",\\n            \\\"select\\\": \\\"row\\\",\\n            \\\"label\\\": 325\\n          }\\n        },\\n        {\\n          \\\"type\\\": \\\"map\\\",\\n          \\\"from\\\": {\\n            \\\"type\\\": \\\"axis\\\",\\n            \\\"anchor\\\": \\\"lhs\\\",\\n            \\\"select\\\": \\\"row\\\",\\n            \\\"label\\\": 326\\n          },\\n          \\\"to\\\": {\\n            \\\"type\\\": \\\"axis\\\",\\n            \\\"anchor\\\": \\\"rhs\\\",\\n            \\\"select\\\": \\\"row\\\",\\n            \\\"label\\\": 326\\n          }\\n        },\\n        {\\n          \\\"type\\\": \\\"map\\\",\\n          \\\"from\\\": {\\n            \\\"type\\\": \\\"axis\\\",\\n            \\\"anchor\\\": \\\"lhs\\\",\\n            \\\"select\\\": \\\"row\\\",\\n            \\\"label\\\": 327\\n          },\\n          \\\"to\\\": {\\n            \\\"type\\\": \\\"axis\\\",\\n            \\\"anchor\\\": \\\"rhs\\\",\\n            \\\"select\\\": \\\"row\\\",\\n            \\\"label\\\": 327\\n          }\\n        },\\n        {\\n          \\\"type\\\": \\\"map\\\",\\n          \\\"from\\\": {\\n            \\\"type\\\": \\\"axis\\\",\\n            \\\"anchor\\\": \\\"lhs\\\",\\n            \\\"select\\\": \\\"row\\\",\\n            \\\"label\\\": 328\\n          },\\n          \\\"to\\\": {\\n            \\\"type\\\": \\\"axis\\\",\\n            \\\"anchor\\\": \\\"rhs\\\",\\n            \\\"select\\\": \\\"row\\\",\\n            \\\"label\\\": 328\\n          }\\n        },\\n        {\\n          \\\"type\\\": \\\"map\\\",\\n          \\\"from\\\": {\\n            \\\"type\\\": \\\"axis\\\",\\n            \\\"anchor\\\": \\\"lhs\\\",\\n            \\\"select\\\": \\\"row\\\",\\n            \\\"label\\\": 329\\n          },\\n          \\\"to\\\": {\\n            \\\"type\\\": \\\"axis\\\",\\n            \\\"anchor\\\": \\\"rhs\\\",\\n            \\\"select\\\": \\\"row\\\",\\n            \\\"label\\\": 329\\n          }\\n        },\\n        {\\n          \\\"type\\\": \\\"map\\\",\\n          \\\"from\\\": {\\n            \\\"type\\\": \\\"axis\\\",\\n            \\\"anchor\\\": \\\"lhs\\\",\\n            \\\"select\\\": \\\"row\\\",\\n            \\\"label\\\": 330\\n          },\\n          \\\"to\\\": {\\n            \\\"type\\\": \\\"axis\\\",\\n            \\\"anchor\\\": \\\"rhs\\\",\\n            \\\"select\\\": \\\"row\\\",\\n            \\\"label\\\": 330\\n          }\\n        },\\n        {\\n          \\\"type\\\": \\\"map\\\",\\n          \\\"from\\\": {\\n            \\\"type\\\": \\\"axis\\\",\\n            \\\"anchor\\\": \\\"lhs\\\",\\n            \\\"select\\\": \\\"row\\\",\\n            \\\"label\\\": 331\\n          },\\n          \\\"to\\\": {\\n            \\\"type\\\": \\\"axis\\\",\\n            \\\"anchor\\\": \\\"rhs\\\",\\n            \\\"select\\\": \\\"row\\\",\\n            \\\"label\\\": 331\\n          }\\n        },\\n        {\\n          \\\"type\\\": \\\"map\\\",\\n          \\\"from\\\": {\\n            \\\"type\\\": \\\"axis\\\",\\n            \\\"anchor\\\": \\\"lhs\\\",\\n            \\\"select\\\": \\\"row\\\",\\n            \\\"label\\\": 332\\n          },\\n          \\\"to\\\": {\\n            \\\"type\\\": \\\"axis\\\",\\n            \\\"anchor\\\": \\\"rhs\\\",\\n            \\\"select\\\": \\\"row\\\",\\n            \\\"label\\\": 332\\n          }\\n        },\\n        {\\n          \\\"type\\\": \\\"map\\\",\\n          \\\"from\\\": {\\n            \\\"type\\\": \\\"axis\\\",\\n            \\\"anchor\\\": \\\"lhs\\\",\\n            \\\"select\\\": \\\"row\\\",\\n            \\\"label\\\": 333\\n          },\\n          \\\"to\\\": {\\n            \\\"type\\\": \\\"axis\\\",\\n            \\\"anchor\\\": \\\"rhs\\\",\\n            \\\"select\\\": \\\"row\\\",\\n            \\\"label\\\": 333\\n          }\\n        },\\n        {\\n          \\\"type\\\": \\\"map\\\",\\n          \\\"from\\\": {\\n            \\\"type\\\": \\\"axis\\\",\\n            \\\"anchor\\\": \\\"lhs\\\",\\n            \\\"select\\\": \\\"row\\\",\\n            \\\"label\\\": 334\\n          },\\n          \\\"to\\\": {\\n            \\\"type\\\": \\\"axis\\\",\\n            \\\"anchor\\\": \\\"rhs\\\",\\n            \\\"select\\\": \\\"row\\\",\\n            \\\"label\\\": 334\\n          }\\n        },\\n        {\\n          \\\"type\\\": \\\"map\\\",\\n          \\\"from\\\": {\\n            \\\"type\\\": \\\"axis\\\",\\n            \\\"anchor\\\": \\\"lhs\\\",\\n            \\\"select\\\": \\\"row\\\",\\n            \\\"label\\\": 335\\n          },\\n          \\\"to\\\": {\\n            \\\"type\\\": \\\"axis\\\",\\n            \\\"anchor\\\": \\\"rhs\\\",\\n            \\\"select\\\": \\\"row\\\",\\n            \\\"label\\\": 335\\n          }\\n        },\\n        {\\n          \\\"type\\\": \\\"map\\\",\\n          \\\"from\\\": {\\n            \\\"type\\\": \\\"axis\\\",\\n            \\\"anchor\\\": \\\"lhs\\\",\\n            \\\"select\\\": \\\"row\\\",\\n            \\\"label\\\": 336\\n          },\\n          \\\"to\\\": {\\n            \\\"type\\\": \\\"axis\\\",\\n            \\\"anchor\\\": \\\"rhs\\\",\\n            \\\"select\\\": \\\"row\\\",\\n            \\\"label\\\": 336\\n          }\\n        },\\n        {\\n          \\\"type\\\": \\\"map\\\",\\n          \\\"from\\\": {\\n            \\\"type\\\": \\\"axis\\\",\\n            \\\"anchor\\\": \\\"lhs\\\",\\n            \\\"select\\\": \\\"row\\\",\\n            \\\"label\\\": 337\\n          },\\n          \\\"to\\\": {\\n            \\\"type\\\": \\\"axis\\\",\\n            \\\"anchor\\\": \\\"rhs\\\",\\n            \\\"select\\\": \\\"row\\\",\\n            \\\"label\\\": 337\\n          }\\n        },\\n        {\\n          \\\"type\\\": \\\"map\\\",\\n          \\\"from\\\": {\\n            \\\"type\\\": \\\"axis\\\",\\n            \\\"anchor\\\": \\\"lhs\\\",\\n            \\\"select\\\": \\\"row\\\",\\n            \\\"label\\\": 338\\n          },\\n          \\\"to\\\": {\\n            \\\"type\\\": \\\"axis\\\",\\n            \\\"anchor\\\": \\\"rhs\\\",\\n            \\\"select\\\": \\\"row\\\",\\n            \\\"label\\\": 338\\n          }\\n        },\\n        {\\n          \\\"type\\\": \\\"map\\\",\\n          \\\"from\\\": {\\n            \\\"type\\\": \\\"axis\\\",\\n            \\\"anchor\\\": \\\"lhs\\\",\\n            \\\"select\\\": \\\"row\\\",\\n            \\\"label\\\": 339\\n          },\\n          \\\"to\\\": {\\n            \\\"type\\\": \\\"axis\\\",\\n            \\\"anchor\\\": \\\"rhs\\\",\\n            \\\"select\\\": \\\"row\\\",\\n            \\\"label\\\": 339\\n          }\\n        },\\n        {\\n          \\\"type\\\": \\\"map\\\",\\n          \\\"from\\\": {\\n            \\\"type\\\": \\\"axis\\\",\\n            \\\"anchor\\\": \\\"lhs\\\",\\n            \\\"select\\\": \\\"row\\\",\\n            \\\"label\\\": 340\\n          },\\n          \\\"to\\\": {\\n            \\\"type\\\": \\\"axis\\\",\\n            \\\"anchor\\\": \\\"rhs\\\",\\n            \\\"select\\\": \\\"row\\\",\\n            \\\"label\\\": 340\\n          }\\n        },\\n        {\\n          \\\"type\\\": \\\"map\\\",\\n          \\\"from\\\": {\\n            \\\"type\\\": \\\"axis\\\",\\n            \\\"anchor\\\": \\\"lhs\\\",\\n            \\\"select\\\": \\\"row\\\",\\n            \\\"label\\\": 341\\n          },\\n          \\\"to\\\": {\\n            \\\"type\\\": \\\"axis\\\",\\n            \\\"anchor\\\": \\\"rhs\\\",\\n            \\\"select\\\": \\\"row\\\",\\n            \\\"label\\\": 341\\n          }\\n        },\\n        {\\n          \\\"type\\\": \\\"map\\\",\\n          \\\"from\\\": {\\n            \\\"type\\\": \\\"axis\\\",\\n            \\\"anchor\\\": \\\"lhs\\\",\\n            \\\"select\\\": \\\"row\\\",\\n            \\\"label\\\": 342\\n          },\\n          \\\"to\\\": {\\n            \\\"type\\\": \\\"axis\\\",\\n            \\\"anchor\\\": \\\"rhs\\\",\\n            \\\"select\\\": \\\"row\\\",\\n            \\\"label\\\": 342\\n          }\\n        },\\n        {\\n          \\\"type\\\": \\\"map\\\",\\n          \\\"from\\\": {\\n            \\\"type\\\": \\\"axis\\\",\\n            \\\"anchor\\\": \\\"lhs\\\",\\n            \\\"select\\\": \\\"row\\\",\\n            \\\"label\\\": 343\\n          },\\n          \\\"to\\\": {\\n            \\\"type\\\": \\\"axis\\\",\\n            \\\"anchor\\\": \\\"rhs\\\",\\n            \\\"select\\\": \\\"row\\\",\\n            \\\"label\\\": 343\\n          }\\n        },\\n        {\\n          \\\"type\\\": \\\"map\\\",\\n          \\\"from\\\": {\\n            \\\"type\\\": \\\"axis\\\",\\n            \\\"anchor\\\": \\\"lhs\\\",\\n            \\\"select\\\": \\\"row\\\",\\n            \\\"label\\\": 344\\n          },\\n          \\\"to\\\": {\\n            \\\"type\\\": \\\"axis\\\",\\n            \\\"anchor\\\": \\\"rhs\\\",\\n            \\\"select\\\": \\\"row\\\",\\n            \\\"label\\\": 344\\n          }\\n        },\\n        {\\n          \\\"type\\\": \\\"map\\\",\\n          \\\"from\\\": {\\n            \\\"type\\\": \\\"axis\\\",\\n            \\\"anchor\\\": \\\"lhs\\\",\\n            \\\"select\\\": \\\"row\\\",\\n            \\\"label\\\": 345\\n          },\\n          \\\"to\\\": {\\n            \\\"type\\\": \\\"axis\\\",\\n            \\\"anchor\\\": \\\"rhs\\\",\\n            \\\"select\\\": \\\"row\\\",\\n            \\\"label\\\": 345\\n          }\\n        },\\n        {\\n          \\\"type\\\": \\\"map\\\",\\n          \\\"from\\\": {\\n            \\\"type\\\": \\\"axis\\\",\\n            \\\"anchor\\\": \\\"lhs\\\",\\n            \\\"select\\\": \\\"row\\\",\\n            \\\"label\\\": 346\\n          },\\n          \\\"to\\\": {\\n            \\\"type\\\": \\\"axis\\\",\\n            \\\"anchor\\\": \\\"rhs\\\",\\n            \\\"select\\\": \\\"row\\\",\\n            \\\"label\\\": 346\\n          }\\n        },\\n        {\\n          \\\"type\\\": \\\"map\\\",\\n          \\\"from\\\": {\\n            \\\"type\\\": \\\"axis\\\",\\n            \\\"anchor\\\": \\\"lhs\\\",\\n            \\\"select\\\": \\\"row\\\",\\n            \\\"label\\\": 347\\n          },\\n          \\\"to\\\": {\\n            \\\"type\\\": \\\"axis\\\",\\n            \\\"anchor\\\": \\\"rhs\\\",\\n            \\\"select\\\": \\\"row\\\",\\n            \\\"label\\\": 347\\n          }\\n        },\\n        {\\n          \\\"type\\\": \\\"map\\\",\\n          \\\"from\\\": {\\n            \\\"type\\\": \\\"axis\\\",\\n            \\\"anchor\\\": \\\"lhs\\\",\\n            \\\"select\\\": \\\"row\\\",\\n            \\\"label\\\": 348\\n          },\\n          \\\"to\\\": {\\n            \\\"type\\\": \\\"axis\\\",\\n            \\\"anchor\\\": \\\"rhs\\\",\\n            \\\"select\\\": \\\"row\\\",\\n            \\\"label\\\": 348\\n          }\\n        },\\n        {\\n          \\\"type\\\": \\\"map\\\",\\n          \\\"from\\\": {\\n            \\\"type\\\": \\\"axis\\\",\\n            \\\"anchor\\\": \\\"lhs\\\",\\n            \\\"select\\\": \\\"row\\\",\\n            \\\"label\\\": 349\\n          },\\n          \\\"to\\\": {\\n            \\\"type\\\": \\\"axis\\\",\\n            \\\"anchor\\\": \\\"rhs\\\",\\n            \\\"select\\\": \\\"row\\\",\\n            \\\"label\\\": 349\\n          }\\n        },\\n        {\\n          \\\"type\\\": \\\"map\\\",\\n          \\\"from\\\": {\\n            \\\"type\\\": \\\"axis\\\",\\n            \\\"anchor\\\": \\\"lhs\\\",\\n            \\\"select\\\": \\\"row\\\",\\n            \\\"label\\\": 350\\n          },\\n          \\\"to\\\": {\\n            \\\"type\\\": \\\"axis\\\",\\n            \\\"anchor\\\": \\\"rhs\\\",\\n            \\\"select\\\": \\\"row\\\",\\n            \\\"label\\\": 350\\n          }\\n        },\\n        {\\n          \\\"type\\\": \\\"map\\\",\\n          \\\"from\\\": {\\n            \\\"type\\\": \\\"axis\\\",\\n            \\\"anchor\\\": \\\"lhs\\\",\\n            \\\"select\\\": \\\"row\\\",\\n            \\\"label\\\": 351\\n          },\\n          \\\"to\\\": {\\n            \\\"type\\\": \\\"axis\\\",\\n            \\\"anchor\\\": \\\"rhs\\\",\\n            \\\"select\\\": \\\"row\\\",\\n            \\\"label\\\": 351\\n          }\\n        },\\n        {\\n          \\\"type\\\": \\\"map\\\",\\n          \\\"from\\\": {\\n            \\\"type\\\": \\\"axis\\\",\\n            \\\"anchor\\\": \\\"lhs\\\",\\n            \\\"select\\\": \\\"row\\\",\\n            \\\"label\\\": 352\\n          },\\n          \\\"to\\\": {\\n            \\\"type\\\": \\\"axis\\\",\\n            \\\"anchor\\\": \\\"rhs\\\",\\n            \\\"select\\\": \\\"row\\\",\\n            \\\"label\\\": 352\\n          }\\n        },\\n        {\\n          \\\"type\\\": \\\"map\\\",\\n          \\\"from\\\": {\\n            \\\"type\\\": \\\"axis\\\",\\n            \\\"anchor\\\": \\\"lhs\\\",\\n            \\\"select\\\": \\\"row\\\",\\n            \\\"label\\\": 353\\n          },\\n          \\\"to\\\": {\\n            \\\"type\\\": \\\"axis\\\",\\n            \\\"anchor\\\": \\\"rhs\\\",\\n            \\\"select\\\": \\\"row\\\",\\n            \\\"label\\\": 353\\n          }\\n        },\\n        {\\n          \\\"type\\\": \\\"map\\\",\\n          \\\"from\\\": {\\n            \\\"type\\\": \\\"axis\\\",\\n            \\\"anchor\\\": \\\"lhs\\\",\\n            \\\"select\\\": \\\"row\\\",\\n            \\\"label\\\": 354\\n          },\\n          \\\"to\\\": {\\n            \\\"type\\\": \\\"axis\\\",\\n            \\\"anchor\\\": \\\"rhs\\\",\\n            \\\"select\\\": \\\"row\\\",\\n            \\\"label\\\": 354\\n          }\\n        },\\n        {\\n          \\\"type\\\": \\\"map\\\",\\n          \\\"from\\\": {\\n            \\\"type\\\": \\\"axis\\\",\\n            \\\"anchor\\\": \\\"lhs\\\",\\n            \\\"select\\\": \\\"row\\\",\\n            \\\"label\\\": 355\\n          },\\n          \\\"to\\\": {\\n            \\\"type\\\": \\\"axis\\\",\\n            \\\"anchor\\\": \\\"rhs\\\",\\n            \\\"select\\\": \\\"row\\\",\\n            \\\"label\\\": 355\\n          }\\n        },\\n        {\\n          \\\"type\\\": \\\"map\\\",\\n          \\\"from\\\": {\\n            \\\"type\\\": \\\"axis\\\",\\n            \\\"anchor\\\": \\\"lhs\\\",\\n            \\\"select\\\": \\\"row\\\",\\n            \\\"label\\\": 356\\n          },\\n          \\\"to\\\": {\\n            \\\"type\\\": \\\"axis\\\",\\n            \\\"anchor\\\": \\\"rhs\\\",\\n            \\\"select\\\": \\\"row\\\",\\n            \\\"label\\\": 356\\n          }\\n        },\\n        {\\n          \\\"type\\\": \\\"map\\\",\\n          \\\"from\\\": {\\n            \\\"type\\\": \\\"axis\\\",\\n            \\\"anchor\\\": \\\"lhs\\\",\\n            \\\"select\\\": \\\"row\\\",\\n            \\\"label\\\": 357\\n          },\\n          \\\"to\\\": {\\n            \\\"type\\\": \\\"axis\\\",\\n            \\\"anchor\\\": \\\"rhs\\\",\\n            \\\"select\\\": \\\"row\\\",\\n            \\\"label\\\": 357\\n          }\\n        },\\n        {\\n          \\\"type\\\": \\\"map\\\",\\n          \\\"from\\\": {\\n            \\\"type\\\": \\\"axis\\\",\\n            \\\"anchor\\\": \\\"lhs\\\",\\n            \\\"select\\\": \\\"row\\\",\\n            \\\"label\\\": 358\\n          },\\n          \\\"to\\\": {\\n            \\\"type\\\": \\\"axis\\\",\\n            \\\"anchor\\\": \\\"rhs\\\",\\n            \\\"select\\\": \\\"row\\\",\\n            \\\"label\\\": 358\\n          }\\n        },\\n        {\\n          \\\"type\\\": \\\"map\\\",\\n          \\\"from\\\": {\\n            \\\"type\\\": \\\"axis\\\",\\n            \\\"anchor\\\": \\\"lhs\\\",\\n            \\\"select\\\": \\\"row\\\",\\n            \\\"label\\\": 359\\n          },\\n          \\\"to\\\": {\\n            \\\"type\\\": \\\"axis\\\",\\n            \\\"anchor\\\": \\\"rhs\\\",\\n            \\\"select\\\": \\\"row\\\",\\n            \\\"label\\\": 359\\n          }\\n        },\\n        {\\n          \\\"type\\\": \\\"map\\\",\\n          \\\"from\\\": {\\n            \\\"type\\\": \\\"axis\\\",\\n            \\\"anchor\\\": \\\"lhs\\\",\\n            \\\"select\\\": \\\"row\\\",\\n            \\\"label\\\": 360\\n          },\\n          \\\"to\\\": {\\n            \\\"type\\\": \\\"axis\\\",\\n            \\\"anchor\\\": \\\"rhs\\\",\\n            \\\"select\\\": \\\"row\\\",\\n            \\\"label\\\": 360\\n          }\\n        },\\n        {\\n          \\\"type\\\": \\\"map\\\",\\n          \\\"from\\\": {\\n            \\\"type\\\": \\\"axis\\\",\\n            \\\"anchor\\\": \\\"lhs\\\",\\n            \\\"select\\\": \\\"row\\\",\\n            \\\"label\\\": 361\\n          },\\n          \\\"to\\\": {\\n            \\\"type\\\": \\\"axis\\\",\\n            \\\"anchor\\\": \\\"rhs\\\",\\n            \\\"select\\\": \\\"row\\\",\\n            \\\"label\\\": 361\\n          }\\n        },\\n        {\\n          \\\"type\\\": \\\"map\\\",\\n          \\\"from\\\": {\\n            \\\"type\\\": \\\"axis\\\",\\n            \\\"anchor\\\": \\\"lhs\\\",\\n            \\\"select\\\": \\\"row\\\",\\n            \\\"label\\\": 362\\n          },\\n          \\\"to\\\": {\\n            \\\"type\\\": \\\"axis\\\",\\n            \\\"anchor\\\": \\\"rhs\\\",\\n            \\\"select\\\": \\\"row\\\",\\n            \\\"label\\\": 362\\n          }\\n        },\\n        {\\n          \\\"type\\\": \\\"map\\\",\\n          \\\"from\\\": {\\n            \\\"type\\\": \\\"axis\\\",\\n            \\\"anchor\\\": \\\"lhs\\\",\\n            \\\"select\\\": \\\"row\\\",\\n            \\\"label\\\": 363\\n          },\\n          \\\"to\\\": {\\n            \\\"type\\\": \\\"axis\\\",\\n            \\\"anchor\\\": \\\"rhs\\\",\\n            \\\"select\\\": \\\"row\\\",\\n            \\\"label\\\": 363\\n          }\\n        },\\n        {\\n          \\\"type\\\": \\\"map\\\",\\n          \\\"from\\\": {\\n            \\\"type\\\": \\\"axis\\\",\\n            \\\"anchor\\\": \\\"lhs\\\",\\n            \\\"select\\\": \\\"row\\\",\\n            \\\"label\\\": 364\\n          },\\n          \\\"to\\\": {\\n            \\\"type\\\": \\\"axis\\\",\\n            \\\"anchor\\\": \\\"rhs\\\",\\n            \\\"select\\\": \\\"row\\\",\\n            \\\"label\\\": 364\\n          }\\n        },\\n        {\\n          \\\"type\\\": \\\"map\\\",\\n          \\\"from\\\": {\\n            \\\"type\\\": \\\"axis\\\",\\n            \\\"anchor\\\": \\\"lhs\\\",\\n            \\\"select\\\": \\\"row\\\",\\n            \\\"label\\\": 365\\n          },\\n          \\\"to\\\": {\\n            \\\"type\\\": \\\"axis\\\",\\n            \\\"anchor\\\": \\\"rhs\\\",\\n            \\\"select\\\": \\\"row\\\",\\n            \\\"label\\\": 365\\n          }\\n        },\\n        {\\n          \\\"type\\\": \\\"map\\\",\\n          \\\"from\\\": {\\n            \\\"type\\\": \\\"axis\\\",\\n            \\\"anchor\\\": \\\"lhs\\\",\\n            \\\"select\\\": \\\"row\\\",\\n            \\\"label\\\": 366\\n          },\\n          \\\"to\\\": {\\n            \\\"type\\\": \\\"axis\\\",\\n            \\\"anchor\\\": \\\"rhs\\\",\\n            \\\"select\\\": \\\"row\\\",\\n            \\\"label\\\": 366\\n          }\\n        },\\n        {\\n          \\\"type\\\": \\\"map\\\",\\n          \\\"from\\\": {\\n            \\\"type\\\": \\\"axis\\\",\\n            \\\"anchor\\\": \\\"lhs\\\",\\n            \\\"select\\\": \\\"row\\\",\\n            \\\"label\\\": 367\\n          },\\n          \\\"to\\\": {\\n            \\\"type\\\": \\\"axis\\\",\\n            \\\"anchor\\\": \\\"rhs\\\",\\n            \\\"select\\\": \\\"row\\\",\\n            \\\"label\\\": 367\\n          }\\n        },\\n        {\\n          \\\"type\\\": \\\"map\\\",\\n          \\\"from\\\": {\\n            \\\"type\\\": \\\"axis\\\",\\n            \\\"anchor\\\": \\\"lhs\\\",\\n            \\\"select\\\": \\\"row\\\",\\n            \\\"label\\\": 368\\n          },\\n          \\\"to\\\": {\\n            \\\"type\\\": \\\"axis\\\",\\n            \\\"anchor\\\": \\\"rhs\\\",\\n            \\\"select\\\": \\\"row\\\",\\n            \\\"label\\\": 368\\n          }\\n        },\\n        {\\n          \\\"type\\\": \\\"map\\\",\\n          \\\"from\\\": {\\n            \\\"type\\\": \\\"axis\\\",\\n            \\\"anchor\\\": \\\"lhs\\\",\\n            \\\"select\\\": \\\"row\\\",\\n            \\\"label\\\": 369\\n          },\\n          \\\"to\\\": {\\n            \\\"type\\\": \\\"axis\\\",\\n            \\\"anchor\\\": \\\"rhs\\\",\\n            \\\"select\\\": \\\"row\\\",\\n            \\\"label\\\": 369\\n          }\\n        },\\n        {\\n          \\\"type\\\": \\\"map\\\",\\n          \\\"from\\\": {\\n            \\\"type\\\": \\\"axis\\\",\\n            \\\"anchor\\\": \\\"lhs\\\",\\n            \\\"select\\\": \\\"row\\\",\\n            \\\"label\\\": 370\\n          },\\n          \\\"to\\\": {\\n            \\\"type\\\": \\\"axis\\\",\\n            \\\"anchor\\\": \\\"rhs\\\",\\n            \\\"select\\\": \\\"row\\\",\\n            \\\"label\\\": 370\\n          }\\n        },\\n        {\\n          \\\"type\\\": \\\"map\\\",\\n          \\\"from\\\": {\\n            \\\"type\\\": \\\"axis\\\",\\n            \\\"anchor\\\": \\\"lhs\\\",\\n            \\\"select\\\": \\\"row\\\",\\n            \\\"label\\\": 371\\n          },\\n          \\\"to\\\": {\\n            \\\"type\\\": \\\"axis\\\",\\n            \\\"anchor\\\": \\\"rhs\\\",\\n            \\\"select\\\": \\\"row\\\",\\n            \\\"label\\\": 371\\n          }\\n        },\\n        {\\n          \\\"type\\\": \\\"map\\\",\\n          \\\"from\\\": {\\n            \\\"type\\\": \\\"axis\\\",\\n            \\\"anchor\\\": \\\"lhs\\\",\\n            \\\"select\\\": \\\"row\\\",\\n            \\\"label\\\": 372\\n          },\\n          \\\"to\\\": {\\n            \\\"type\\\": \\\"axis\\\",\\n            \\\"anchor\\\": \\\"rhs\\\",\\n            \\\"select\\\": \\\"row\\\",\\n            \\\"label\\\": 372\\n          }\\n        },\\n        {\\n          \\\"type\\\": \\\"map\\\",\\n          \\\"from\\\": {\\n            \\\"type\\\": \\\"axis\\\",\\n            \\\"anchor\\\": \\\"lhs\\\",\\n            \\\"select\\\": \\\"row\\\",\\n            \\\"label\\\": 373\\n          },\\n          \\\"to\\\": {\\n            \\\"type\\\": \\\"axis\\\",\\n            \\\"anchor\\\": \\\"rhs\\\",\\n            \\\"select\\\": \\\"row\\\",\\n            \\\"label\\\": 373\\n          }\\n        },\\n        {\\n          \\\"type\\\": \\\"map\\\",\\n          \\\"from\\\": {\\n            \\\"type\\\": \\\"axis\\\",\\n            \\\"anchor\\\": \\\"lhs\\\",\\n            \\\"select\\\": \\\"row\\\",\\n            \\\"label\\\": 374\\n          },\\n          \\\"to\\\": {\\n            \\\"type\\\": \\\"axis\\\",\\n            \\\"anchor\\\": \\\"rhs\\\",\\n            \\\"select\\\": \\\"row\\\",\\n            \\\"label\\\": 374\\n          }\\n        },\\n        {\\n          \\\"type\\\": \\\"map\\\",\\n          \\\"from\\\": {\\n            \\\"type\\\": \\\"axis\\\",\\n            \\\"anchor\\\": \\\"lhs\\\",\\n            \\\"select\\\": \\\"row\\\",\\n            \\\"label\\\": 375\\n          },\\n          \\\"to\\\": {\\n            \\\"type\\\": \\\"axis\\\",\\n            \\\"anchor\\\": \\\"rhs\\\",\\n            \\\"select\\\": \\\"row\\\",\\n            \\\"label\\\": 375\\n          }\\n        },\\n        {\\n          \\\"type\\\": \\\"map\\\",\\n          \\\"from\\\": {\\n            \\\"type\\\": \\\"axis\\\",\\n            \\\"anchor\\\": \\\"lhs\\\",\\n            \\\"select\\\": \\\"row\\\",\\n            \\\"label\\\": 376\\n          },\\n          \\\"to\\\": {\\n            \\\"type\\\": \\\"axis\\\",\\n            \\\"anchor\\\": \\\"rhs\\\",\\n            \\\"select\\\": \\\"row\\\",\\n            \\\"label\\\": 376\\n          }\\n        },\\n        {\\n          \\\"type\\\": \\\"map\\\",\\n          \\\"from\\\": {\\n            \\\"type\\\": \\\"axis\\\",\\n            \\\"anchor\\\": \\\"lhs\\\",\\n            \\\"select\\\": \\\"row\\\",\\n            \\\"label\\\": 377\\n          },\\n          \\\"to\\\": {\\n            \\\"type\\\": \\\"axis\\\",\\n            \\\"anchor\\\": \\\"rhs\\\",\\n            \\\"select\\\": \\\"row\\\",\\n            \\\"label\\\": 377\\n          }\\n        },\\n        {\\n          \\\"type\\\": \\\"map\\\",\\n          \\\"from\\\": {\\n            \\\"type\\\": \\\"axis\\\",\\n            \\\"anchor\\\": \\\"lhs\\\",\\n            \\\"select\\\": \\\"row\\\",\\n            \\\"label\\\": 378\\n          },\\n          \\\"to\\\": {\\n            \\\"type\\\": \\\"axis\\\",\\n            \\\"anchor\\\": \\\"rhs\\\",\\n            \\\"select\\\": \\\"row\\\",\\n            \\\"label\\\": 378\\n          }\\n        },\\n        {\\n          \\\"type\\\": \\\"map\\\",\\n          \\\"from\\\": {\\n            \\\"type\\\": \\\"axis\\\",\\n            \\\"anchor\\\": \\\"lhs\\\",\\n            \\\"select\\\": \\\"row\\\",\\n            \\\"label\\\": 379\\n          },\\n          \\\"to\\\": {\\n            \\\"type\\\": \\\"axis\\\",\\n            \\\"anchor\\\": \\\"rhs\\\",\\n            \\\"select\\\": \\\"row\\\",\\n            \\\"label\\\": 379\\n          }\\n        },\\n        {\\n          \\\"type\\\": \\\"map\\\",\\n          \\\"from\\\": {\\n            \\\"type\\\": \\\"axis\\\",\\n            \\\"anchor\\\": \\\"lhs\\\",\\n            \\\"select\\\": \\\"row\\\",\\n            \\\"label\\\": 380\\n          },\\n          \\\"to\\\": {\\n            \\\"type\\\": \\\"axis\\\",\\n            \\\"anchor\\\": \\\"rhs\\\",\\n            \\\"select\\\": \\\"row\\\",\\n            \\\"label\\\": 380\\n          }\\n        },\\n        {\\n          \\\"type\\\": \\\"map\\\",\\n          \\\"from\\\": {\\n            \\\"type\\\": \\\"axis\\\",\\n            \\\"anchor\\\": \\\"lhs\\\",\\n            \\\"select\\\": \\\"row\\\",\\n            \\\"label\\\": 381\\n          },\\n          \\\"to\\\": {\\n            \\\"type\\\": \\\"axis\\\",\\n            \\\"anchor\\\": \\\"rhs\\\",\\n            \\\"select\\\": \\\"row\\\",\\n            \\\"label\\\": 381\\n          }\\n        },\\n        {\\n          \\\"type\\\": \\\"map\\\",\\n          \\\"from\\\": {\\n            \\\"type\\\": \\\"axis\\\",\\n            \\\"anchor\\\": \\\"lhs\\\",\\n            \\\"select\\\": \\\"row\\\",\\n            \\\"label\\\": 382\\n          },\\n          \\\"to\\\": {\\n            \\\"type\\\": \\\"axis\\\",\\n            \\\"anchor\\\": \\\"rhs\\\",\\n            \\\"select\\\": \\\"row\\\",\\n            \\\"label\\\": 382\\n          }\\n        },\\n        {\\n          \\\"type\\\": \\\"map\\\",\\n          \\\"from\\\": {\\n            \\\"type\\\": \\\"axis\\\",\\n            \\\"anchor\\\": \\\"lhs\\\",\\n            \\\"select\\\": \\\"row\\\",\\n            \\\"label\\\": 383\\n          },\\n          \\\"to\\\": {\\n            \\\"type\\\": \\\"axis\\\",\\n            \\\"anchor\\\": \\\"rhs\\\",\\n            \\\"select\\\": \\\"row\\\",\\n            \\\"label\\\": 383\\n          }\\n        },\\n        {\\n          \\\"type\\\": \\\"map\\\",\\n          \\\"from\\\": {\\n            \\\"type\\\": \\\"axis\\\",\\n            \\\"anchor\\\": \\\"lhs\\\",\\n            \\\"select\\\": \\\"row\\\",\\n            \\\"label\\\": 384\\n          },\\n          \\\"to\\\": {\\n            \\\"type\\\": \\\"axis\\\",\\n            \\\"anchor\\\": \\\"rhs\\\",\\n            \\\"select\\\": \\\"row\\\",\\n            \\\"label\\\": 384\\n          }\\n        },\\n        {\\n          \\\"type\\\": \\\"map\\\",\\n          \\\"from\\\": {\\n            \\\"type\\\": \\\"axis\\\",\\n            \\\"anchor\\\": \\\"lhs\\\",\\n            \\\"select\\\": \\\"row\\\",\\n            \\\"label\\\": 385\\n          },\\n          \\\"to\\\": {\\n            \\\"type\\\": \\\"axis\\\",\\n            \\\"anchor\\\": \\\"rhs\\\",\\n            \\\"select\\\": \\\"row\\\",\\n            \\\"label\\\": 385\\n          }\\n        },\\n        {\\n          \\\"type\\\": \\\"map\\\",\\n          \\\"from\\\": {\\n            \\\"type\\\": \\\"axis\\\",\\n            \\\"anchor\\\": \\\"lhs\\\",\\n            \\\"select\\\": \\\"row\\\",\\n            \\\"label\\\": 386\\n          },\\n          \\\"to\\\": {\\n            \\\"type\\\": \\\"axis\\\",\\n            \\\"anchor\\\": \\\"rhs\\\",\\n            \\\"select\\\": \\\"row\\\",\\n            \\\"label\\\": 386\\n          }\\n        },\\n        {\\n          \\\"type\\\": \\\"map\\\",\\n          \\\"from\\\": {\\n            \\\"type\\\": \\\"axis\\\",\\n            \\\"anchor\\\": \\\"lhs\\\",\\n            \\\"select\\\": \\\"row\\\",\\n            \\\"label\\\": 387\\n          },\\n          \\\"to\\\": {\\n            \\\"type\\\": \\\"axis\\\",\\n            \\\"anchor\\\": \\\"rhs\\\",\\n            \\\"select\\\": \\\"row\\\",\\n            \\\"label\\\": 387\\n          }\\n        },\\n        {\\n          \\\"type\\\": \\\"map\\\",\\n          \\\"from\\\": {\\n            \\\"type\\\": \\\"axis\\\",\\n            \\\"anchor\\\": \\\"lhs\\\",\\n            \\\"select\\\": \\\"row\\\",\\n            \\\"label\\\": 388\\n          },\\n          \\\"to\\\": {\\n            \\\"type\\\": \\\"axis\\\",\\n            \\\"anchor\\\": \\\"rhs\\\",\\n            \\\"select\\\": \\\"row\\\",\\n            \\\"label\\\": 388\\n          }\\n        },\\n        {\\n          \\\"type\\\": \\\"map\\\",\\n          \\\"from\\\": {\\n            \\\"type\\\": \\\"axis\\\",\\n            \\\"anchor\\\": \\\"lhs\\\",\\n            \\\"select\\\": \\\"row\\\",\\n            \\\"label\\\": 389\\n          },\\n          \\\"to\\\": {\\n            \\\"type\\\": \\\"axis\\\",\\n            \\\"anchor\\\": \\\"rhs\\\",\\n            \\\"select\\\": \\\"row\\\",\\n            \\\"label\\\": 389\\n          }\\n        },\\n        {\\n          \\\"type\\\": \\\"map\\\",\\n          \\\"from\\\": {\\n            \\\"type\\\": \\\"axis\\\",\\n            \\\"anchor\\\": \\\"lhs\\\",\\n            \\\"select\\\": \\\"row\\\",\\n            \\\"label\\\": 390\\n          },\\n          \\\"to\\\": {\\n            \\\"type\\\": \\\"axis\\\",\\n            \\\"anchor\\\": \\\"rhs\\\",\\n            \\\"select\\\": \\\"row\\\",\\n            \\\"label\\\": 390\\n          }\\n        },\\n        {\\n          \\\"type\\\": \\\"map\\\",\\n          \\\"from\\\": {\\n            \\\"type\\\": \\\"axis\\\",\\n            \\\"anchor\\\": \\\"lhs\\\",\\n            \\\"select\\\": \\\"row\\\",\\n            \\\"label\\\": 391\\n          },\\n          \\\"to\\\": {\\n            \\\"type\\\": \\\"axis\\\",\\n            \\\"anchor\\\": \\\"rhs\\\",\\n            \\\"select\\\": \\\"row\\\",\\n            \\\"label\\\": 391\\n          }\\n        },\\n        {\\n          \\\"type\\\": \\\"map\\\",\\n          \\\"from\\\": {\\n            \\\"type\\\": \\\"axis\\\",\\n            \\\"anchor\\\": \\\"lhs\\\",\\n            \\\"select\\\": \\\"row\\\",\\n            \\\"label\\\": 392\\n          },\\n          \\\"to\\\": {\\n            \\\"type\\\": \\\"axis\\\",\\n            \\\"anchor\\\": \\\"rhs\\\",\\n            \\\"select\\\": \\\"row\\\",\\n            \\\"label\\\": 392\\n          }\\n        },\\n        {\\n          \\\"type\\\": \\\"map\\\",\\n          \\\"from\\\": {\\n            \\\"type\\\": \\\"axis\\\",\\n            \\\"anchor\\\": \\\"lhs\\\",\\n            \\\"select\\\": \\\"row\\\",\\n            \\\"label\\\": 393\\n          },\\n          \\\"to\\\": {\\n            \\\"type\\\": \\\"axis\\\",\\n            \\\"anchor\\\": \\\"rhs\\\",\\n            \\\"select\\\": \\\"row\\\",\\n            \\\"label\\\": 393\\n          }\\n        },\\n        {\\n          \\\"type\\\": \\\"map\\\",\\n          \\\"from\\\": {\\n            \\\"type\\\": \\\"axis\\\",\\n            \\\"anchor\\\": \\\"lhs\\\",\\n            \\\"select\\\": \\\"row\\\",\\n            \\\"label\\\": 394\\n          },\\n          \\\"to\\\": {\\n            \\\"type\\\": \\\"axis\\\",\\n            \\\"anchor\\\": \\\"rhs\\\",\\n            \\\"select\\\": \\\"row\\\",\\n            \\\"label\\\": 394\\n          }\\n        },\\n        {\\n          \\\"type\\\": \\\"map\\\",\\n          \\\"from\\\": {\\n            \\\"type\\\": \\\"axis\\\",\\n            \\\"anchor\\\": \\\"lhs\\\",\\n            \\\"select\\\": \\\"row\\\",\\n            \\\"label\\\": 395\\n          },\\n          \\\"to\\\": {\\n            \\\"type\\\": \\\"axis\\\",\\n            \\\"anchor\\\": \\\"rhs\\\",\\n            \\\"select\\\": \\\"row\\\",\\n            \\\"label\\\": 395\\n          }\\n        },\\n        {\\n          \\\"type\\\": \\\"map\\\",\\n          \\\"from\\\": {\\n            \\\"type\\\": \\\"axis\\\",\\n            \\\"anchor\\\": \\\"lhs\\\",\\n            \\\"select\\\": \\\"row\\\",\\n            \\\"label\\\": 396\\n          },\\n          \\\"to\\\": {\\n            \\\"type\\\": \\\"axis\\\",\\n            \\\"anchor\\\": \\\"rhs\\\",\\n            \\\"select\\\": \\\"row\\\",\\n            \\\"label\\\": 396\\n          }\\n        },\\n        {\\n          \\\"type\\\": \\\"map\\\",\\n          \\\"from\\\": {\\n            \\\"type\\\": \\\"axis\\\",\\n            \\\"anchor\\\": \\\"lhs\\\",\\n            \\\"select\\\": \\\"row\\\",\\n            \\\"label\\\": 397\\n          },\\n          \\\"to\\\": {\\n            \\\"type\\\": \\\"axis\\\",\\n            \\\"anchor\\\": \\\"rhs\\\",\\n            \\\"select\\\": \\\"row\\\",\\n            \\\"label\\\": 397\\n          }\\n        },\\n        {\\n          \\\"type\\\": \\\"map\\\",\\n          \\\"from\\\": {\\n            \\\"type\\\": \\\"axis\\\",\\n            \\\"anchor\\\": \\\"lhs\\\",\\n            \\\"select\\\": \\\"row\\\",\\n            \\\"label\\\": 398\\n          },\\n          \\\"to\\\": {\\n            \\\"type\\\": \\\"axis\\\",\\n            \\\"anchor\\\": \\\"rhs\\\",\\n            \\\"select\\\": \\\"row\\\",\\n            \\\"label\\\": 398\\n          }\\n        },\\n        {\\n          \\\"type\\\": \\\"map\\\",\\n          \\\"from\\\": {\\n            \\\"type\\\": \\\"axis\\\",\\n            \\\"anchor\\\": \\\"lhs\\\",\\n            \\\"select\\\": \\\"row\\\",\\n            \\\"label\\\": 399\\n          },\\n          \\\"to\\\": {\\n            \\\"type\\\": \\\"axis\\\",\\n            \\\"anchor\\\": \\\"rhs\\\",\\n            \\\"select\\\": \\\"row\\\",\\n            \\\"label\\\": 399\\n          }\\n        },\\n        {\\n          \\\"type\\\": \\\"map\\\",\\n          \\\"from\\\": {\\n            \\\"type\\\": \\\"axis\\\",\\n            \\\"anchor\\\": \\\"lhs\\\",\\n            \\\"select\\\": \\\"row\\\",\\n            \\\"label\\\": 400\\n          },\\n          \\\"to\\\": {\\n            \\\"type\\\": \\\"axis\\\",\\n            \\\"anchor\\\": \\\"rhs\\\",\\n            \\\"select\\\": \\\"row\\\",\\n            \\\"label\\\": 400\\n          }\\n        },\\n        {\\n          \\\"type\\\": \\\"map\\\",\\n          \\\"from\\\": {\\n            \\\"type\\\": \\\"axis\\\",\\n            \\\"anchor\\\": \\\"lhs\\\",\\n            \\\"select\\\": \\\"row\\\",\\n            \\\"label\\\": 401\\n          },\\n          \\\"to\\\": {\\n            \\\"type\\\": \\\"axis\\\",\\n            \\\"anchor\\\": \\\"rhs\\\",\\n            \\\"select\\\": \\\"row\\\",\\n            \\\"label\\\": 401\\n          }\\n        },\\n        {\\n          \\\"type\\\": \\\"map\\\",\\n          \\\"from\\\": {\\n            \\\"type\\\": \\\"axis\\\",\\n            \\\"anchor\\\": \\\"lhs\\\",\\n            \\\"select\\\": \\\"row\\\",\\n            \\\"label\\\": 402\\n          },\\n          \\\"to\\\": {\\n            \\\"type\\\": \\\"axis\\\",\\n            \\\"anchor\\\": \\\"rhs\\\",\\n            \\\"select\\\": \\\"row\\\",\\n            \\\"label\\\": 402\\n          }\\n        },\\n        {\\n          \\\"type\\\": \\\"map\\\",\\n          \\\"from\\\": {\\n            \\\"type\\\": \\\"axis\\\",\\n            \\\"anchor\\\": \\\"lhs\\\",\\n            \\\"select\\\": \\\"row\\\",\\n            \\\"label\\\": 403\\n          },\\n          \\\"to\\\": {\\n            \\\"type\\\": \\\"axis\\\",\\n            \\\"anchor\\\": \\\"rhs\\\",\\n            \\\"select\\\": \\\"row\\\",\\n            \\\"label\\\": 403\\n          }\\n        },\\n        {\\n          \\\"type\\\": \\\"map\\\",\\n          \\\"from\\\": {\\n            \\\"type\\\": \\\"axis\\\",\\n            \\\"anchor\\\": \\\"lhs\\\",\\n            \\\"select\\\": \\\"row\\\",\\n            \\\"label\\\": 404\\n          },\\n          \\\"to\\\": {\\n            \\\"type\\\": \\\"axis\\\",\\n            \\\"anchor\\\": \\\"rhs\\\",\\n            \\\"select\\\": \\\"row\\\",\\n            \\\"label\\\": 404\\n          }\\n        },\\n        {\\n          \\\"type\\\": \\\"map\\\",\\n          \\\"from\\\": {\\n            \\\"type\\\": \\\"axis\\\",\\n            \\\"anchor\\\": \\\"lhs\\\",\\n            \\\"select\\\": \\\"row\\\",\\n            \\\"label\\\": 405\\n          },\\n          \\\"to\\\": {\\n            \\\"type\\\": \\\"axis\\\",\\n            \\\"anchor\\\": \\\"rhs\\\",\\n            \\\"select\\\": \\\"row\\\",\\n            \\\"label\\\": 405\\n          }\\n        },\\n        {\\n          \\\"type\\\": \\\"map\\\",\\n          \\\"from\\\": {\\n            \\\"type\\\": \\\"axis\\\",\\n            \\\"anchor\\\": \\\"lhs\\\",\\n            \\\"select\\\": \\\"row\\\",\\n            \\\"label\\\": 406\\n          },\\n          \\\"to\\\": {\\n            \\\"type\\\": \\\"axis\\\",\\n            \\\"anchor\\\": \\\"rhs\\\",\\n            \\\"select\\\": \\\"row\\\",\\n            \\\"label\\\": 406\\n          }\\n        },\\n        {\\n          \\\"type\\\": \\\"map\\\",\\n          \\\"from\\\": {\\n            \\\"type\\\": \\\"axis\\\",\\n            \\\"anchor\\\": \\\"lhs\\\",\\n            \\\"select\\\": \\\"row\\\",\\n            \\\"label\\\": 407\\n          },\\n          \\\"to\\\": {\\n            \\\"type\\\": \\\"axis\\\",\\n            \\\"anchor\\\": \\\"rhs\\\",\\n            \\\"select\\\": \\\"row\\\",\\n            \\\"label\\\": 407\\n          }\\n        },\\n        {\\n          \\\"type\\\": \\\"map\\\",\\n          \\\"from\\\": {\\n            \\\"type\\\": \\\"axis\\\",\\n            \\\"anchor\\\": \\\"lhs\\\",\\n            \\\"select\\\": \\\"row\\\",\\n            \\\"label\\\": 408\\n          },\\n          \\\"to\\\": {\\n            \\\"type\\\": \\\"axis\\\",\\n            \\\"anchor\\\": \\\"rhs\\\",\\n            \\\"select\\\": \\\"row\\\",\\n            \\\"label\\\": 408\\n          }\\n        },\\n        {\\n          \\\"type\\\": \\\"map\\\",\\n          \\\"from\\\": {\\n            \\\"type\\\": \\\"axis\\\",\\n            \\\"anchor\\\": \\\"lhs\\\",\\n            \\\"select\\\": \\\"row\\\",\\n            \\\"label\\\": 409\\n          },\\n          \\\"to\\\": {\\n            \\\"type\\\": \\\"axis\\\",\\n            \\\"anchor\\\": \\\"rhs\\\",\\n            \\\"select\\\": \\\"row\\\",\\n            \\\"label\\\": 409\\n          }\\n        },\\n        {\\n          \\\"type\\\": \\\"map\\\",\\n          \\\"from\\\": {\\n            \\\"type\\\": \\\"axis\\\",\\n            \\\"anchor\\\": \\\"lhs\\\",\\n            \\\"select\\\": \\\"row\\\",\\n            \\\"label\\\": 410\\n          },\\n          \\\"to\\\": {\\n            \\\"type\\\": \\\"axis\\\",\\n            \\\"anchor\\\": \\\"rhs\\\",\\n            \\\"select\\\": \\\"row\\\",\\n            \\\"label\\\": 410\\n          }\\n        }\\n      ],\\n      \\\"data\\\": {\\n        \\\"lhs\\\": \\\"prev_rhs\\\",\\n        \\\"rhs\\\": {\\n          \\\"type\\\": \\\"Series\\\",\\n          \\\"index\\\": {\\n            \\\"names\\\": [\\n              null\\n            ],\\n            \\\"labels\\\": [\\n              0,\\n              1,\\n              2,\\n              3,\\n              4,\\n              5,\\n              6,\\n              7,\\n              8,\\n              9,\\n              10,\\n              11,\\n              12,\\n              13,\\n              14,\\n              15,\\n              16,\\n              17,\\n              18,\\n              19,\\n              20,\\n              21,\\n              22,\\n              23,\\n              24,\\n              25,\\n              26,\\n              27,\\n              28,\\n              29,\\n              30,\\n              31,\\n              32,\\n              33,\\n              34,\\n              35,\\n              36,\\n              37,\\n              38,\\n              39,\\n              40,\\n              41,\\n              42,\\n              43,\\n              44,\\n              45,\\n              46,\\n              47,\\n              48,\\n              49,\\n              50,\\n              51,\\n              52,\\n              53,\\n              54,\\n              55,\\n              56,\\n              57,\\n              58,\\n              59,\\n              60,\\n              61,\\n              62,\\n              63,\\n              64,\\n              65,\\n              66,\\n              67,\\n              68,\\n              69,\\n              70,\\n              71,\\n              72,\\n              73,\\n              74,\\n              75,\\n              76,\\n              77,\\n              78,\\n              79,\\n              80,\\n              81,\\n              82,\\n              83,\\n              84,\\n              85,\\n              86,\\n              87,\\n              88,\\n              89,\\n              90,\\n              91,\\n              92,\\n              93,\\n              94,\\n              95,\\n              96,\\n              97,\\n              98,\\n              99,\\n              100,\\n              101,\\n              102,\\n              103,\\n              104,\\n              105,\\n              106,\\n              107,\\n              108,\\n              109,\\n              110,\\n              111,\\n              112,\\n              113,\\n              114,\\n              115,\\n              116,\\n              117,\\n              118,\\n              119,\\n              120,\\n              121,\\n              122,\\n              123,\\n              124,\\n              125,\\n              126,\\n              127,\\n              128,\\n              129,\\n              130,\\n              131,\\n              132,\\n              133,\\n              134,\\n              135,\\n              136,\\n              137,\\n              138,\\n              139,\\n              140,\\n              141,\\n              142,\\n              143,\\n              144,\\n              145,\\n              146,\\n              147,\\n              148,\\n              149,\\n              150,\\n              151,\\n              152,\\n              153,\\n              154,\\n              155,\\n              156,\\n              157,\\n              158,\\n              159,\\n              160,\\n              161,\\n              162,\\n              163,\\n              164,\\n              165,\\n              166,\\n              167,\\n              168,\\n              169,\\n              170,\\n              171,\\n              172,\\n              173,\\n              174,\\n              175,\\n              176,\\n              177,\\n              178,\\n              179,\\n              180,\\n              181,\\n              182,\\n              183,\\n              184,\\n              185,\\n              186,\\n              187,\\n              188,\\n              189,\\n              190,\\n              191,\\n              192,\\n              193,\\n              194,\\n              195,\\n              196,\\n              197,\\n              198,\\n              199,\\n              200,\\n              201,\\n              202,\\n              203,\\n              204,\\n              205,\\n              206,\\n              207,\\n              208,\\n              209,\\n              210,\\n              211,\\n              212,\\n              213,\\n              214,\\n              215,\\n              216,\\n              217,\\n              218,\\n              219,\\n              220,\\n              221,\\n              222,\\n              223,\\n              224,\\n              225,\\n              226,\\n              227,\\n              228,\\n              229,\\n              230,\\n              231,\\n              232,\\n              233,\\n              234,\\n              235,\\n              236,\\n              237,\\n              238,\\n              239,\\n              240,\\n              241,\\n              242,\\n              243,\\n              244,\\n              245,\\n              246,\\n              247,\\n              248,\\n              249,\\n              250,\\n              251,\\n              252,\\n              253,\\n              254,\\n              255,\\n              256,\\n              257,\\n              258,\\n              259,\\n              260,\\n              261,\\n              262,\\n              263,\\n              264,\\n              265,\\n              266,\\n              267,\\n              268,\\n              269,\\n              270,\\n              271,\\n              272,\\n              273,\\n              274,\\n              275,\\n              276,\\n              277,\\n              278,\\n              279,\\n              280,\\n              281,\\n              282,\\n              283,\\n              284,\\n              285,\\n              286,\\n              287,\\n              288,\\n              289,\\n              290,\\n              291,\\n              292,\\n              293,\\n              294,\\n              295,\\n              296,\\n              297,\\n              298,\\n              299,\\n              300,\\n              301,\\n              302,\\n              303,\\n              304,\\n              305,\\n              306,\\n              307,\\n              308,\\n              309,\\n              310,\\n              311,\\n              312,\\n              313,\\n              314,\\n              315,\\n              316,\\n              317,\\n              318,\\n              319,\\n              320,\\n              321,\\n              322,\\n              323,\\n              324,\\n              325,\\n              326,\\n              327,\\n              328,\\n              329,\\n              330,\\n              331,\\n              332,\\n              333,\\n              334,\\n              335,\\n              336,\\n              337,\\n              338,\\n              339,\\n              340,\\n              341,\\n              342,\\n              343,\\n              344,\\n              345,\\n              346,\\n              347,\\n              348,\\n              349,\\n              350,\\n              351,\\n              352,\\n              353,\\n              354,\\n              355,\\n              356,\\n              357,\\n              358,\\n              359,\\n              360,\\n              361,\\n              362,\\n              363,\\n              364,\\n              365,\\n              366,\\n              367,\\n              368,\\n              369,\\n              370,\\n              371,\\n              372,\\n              373,\\n              374,\\n              375,\\n              376,\\n              377,\\n              378,\\n              379,\\n              380,\\n              381,\\n              382,\\n              383,\\n              384,\\n              385,\\n              386,\\n              387,\\n              388,\\n              389,\\n              390,\\n              391,\\n              392,\\n              393,\\n              394,\\n              395,\\n              396,\\n              397,\\n              398,\\n              399,\\n              400,\\n              401,\\n              402,\\n              403,\\n              404,\\n              405,\\n              406,\\n              407,\\n              408,\\n              409,\\n              410\\n            ]\\n          },\\n          \\\"data\\\": [\\n            \\\"Levy\\\",\\n            \\\"Aiden\\\",\\n            \\\"Sruti\\\",\\n            \\\"Huishan\\\",\\n            \\\"Andrew\\\",\\n            \\\"Hikaru\\\",\\n            \\\"Haohan\\\",\\n            \\\"Shangqi\\\",\\n            \\\"Kyra\\\",\\n            \\\"Minsang\\\",\\n            \\\"Ciro\\\",\\n            \\\"Calwin\\\",\\n            \\\"Lebin\\\",\\n            \\\"Abjith\\\",\\n            \\\"Natasha\\\",\\n            \\\"Vishwak\\\",\\n            \\\"Zoya\\\",\\n            \\\"Yanqiao\\\",\\n            \\\"Sia\\\",\\n            \\\"Katie\\\",\\n            \\\"Zakaraya\\\",\\n            \\\"Eli\\\",\\n            \\\"Sylvia\\\",\\n            \\\"Jesse\\\",\\n            \\\"Ashley\\\",\\n            \\\"Paul\\\",\\n            \\\"Emily\\\",\\n            \\\"Andy\\\",\\n            \\\"Kevin\\\",\\n            \\\"Dhruv\\\",\\n            \\\"Carmen\\\",\\n            \\\"Caleb\\\",\\n            \\\"Anish\\\",\\n            \\\"Walter\\\",\\n            \\\"Justin\\\",\\n            \\\"Cong\\\",\\n            \\\"Krish\\\",\\n            \\\"Adrian\\\",\\n            \\\"Caleb\\\",\\n            \\\"Ethan\\\",\\n            \\\"Justin\\\",\\n            \\\"Amelia\\\",\\n            \\\"Jingmin\\\",\\n            \\\"Jevan\\\",\\n            \\\"Junyue\\\",\\n            \\\"Bernie\\\",\\n            \\\"Alyssa\\\",\\n            \\\"Abigail\\\",\\n            \\\"Noelle\\\",\\n            \\\"Suhani\\\",\\n            \\\"Seyeon\\\",\\n            \\\"Wendy\\\",\\n            \\\"Tuesday\\\",\\n            \\\"Liyang\\\",\\n            \\\"Navneet\\\",\\n            \\\"Matthew\\\",\\n            \\\"Brandon\\\",\\n            \\\"Leena\\\",\\n            \\\"Nathan\\\",\\n            \\\"Tom\\\",\\n            \\\"Mihir\\\",\\n            \\\"Eric\\\",\\n            \\\"Eddie\\\",\\n            \\\"Hannah\\\",\\n            \\\"Huize\\\",\\n            \\\"Pranav\\\",\\n            \\\"Manya\\\",\\n            \\\"Jonathan\\\",\\n            \\\"Saksham\\\",\\n            \\\"Athulith\\\",\\n            \\\"Kathy\\\",\\n            \\\"Kyunghwan\\\",\\n            \\\"Adriana\\\",\\n            \\\"Milan\\\",\\n            \\\"John\\\",\\n            \\\"Jueun\\\",\\n            \\\"Dhyay\\\",\\n            \\\"Vinson\\\",\\n            \\\"Imangali\\\",\\n            \\\"Derrick\\\",\\n            \\\"Samuel\\\",\\n            \\\"Bhagya\\\",\\n            \\\"Ryan\\\",\\n            \\\"Brenda\\\",\\n            \\\"Stephanie\\\",\\n            \\\"Joyce\\\",\\n            \\\"Janelle\\\",\\n            \\\"Zijin\\\",\\n            \\\"Andrew\\\",\\n            \\\"Xinyu\\\",\\n            \\\"Nathan\\\",\\n            \\\"Pansy\\\",\\n            \\\"Haoyang\\\",\\n            \\\"Ziwei\\\",\\n            \\\"Reona\\\",\\n            \\\"Wenbin\\\",\\n            \\\"Sophia\\\",\\n            \\\"Carey\\\",\\n            \\\"Jordan\\\",\\n            \\\"Yihui\\\",\\n            \\\"Danny\\\",\\n            \\\"Zhihan\\\",\\n            \\\"Talia\\\",\\n            \\\"Ahmed\\\",\\n            \\\"Tarun\\\",\\n            \\\"Peyton\\\",\\n            \\\"Neil\\\",\\n            \\\"Jiyoon\\\",\\n            \\\"Rihui\\\",\\n            \\\"Ylesia\\\",\\n            \\\"Edward\\\",\\n            \\\"Runjie\\\",\\n            \\\"Aneesh\\\",\\n            \\\"Rishaant\\\",\\n            \\\"Christian\\\",\\n            \\\"Housheng\\\",\\n            \\\"Marguerite\\\",\\n            \\\"Andrew\\\",\\n            \\\"Liuyang\\\",\\n            \\\"Nathaphat\\\",\\n            \\\"Idhant\\\",\\n            \\\"Faline\\\",\\n            \\\"Christian\\\",\\n            \\\"Jimmy\\\",\\n            \\\"Yasmin\\\",\\n            \\\"Cynthia\\\",\\n            \\\"Samuel\\\",\\n            \\\"Yejin\\\",\\n            \\\"Hogun\\\",\\n            \\\"Kang\\\",\\n            \\\"Ryan\\\",\\n            \\\"Mia\\\",\\n            \\\"Chengxi\\\",\\n            \\\"Haotong\\\",\\n            \\\"Varun\\\",\\n            \\\"Subika\\\",\\n            \\\"Rahama\\\",\\n            \\\"Marlon\\\",\\n            \\\"Kenneth\\\",\\n            \\\"Yiwei\\\",\\n            \\\"Allison\\\",\\n            \\\"Huanchang\\\",\\n            \\\"Nian-Nian\\\",\\n            \\\"Fabrizio\\\",\\n            \\\"Leena\\\",\\n            \\\"Chengyu\\\",\\n            \\\"Purich\\\",\\n            \\\"Ryan\\\",\\n            \\\"Mert\\\",\\n            \\\"Fnu\\\",\\n            \\\"Yash\\\",\\n            \\\"Jeffrey\\\",\\n            \\\"Prithvi\\\",\\n            \\\"Christian\\\",\\n            \\\"Mianchen\\\",\\n            \\\"Xiang\\\",\\n            \\\"Guoxuan\\\",\\n            \\\"Kailey\\\",\\n            \\\"Ryan\\\",\\n            \\\"Aile\\\",\\n            \\\"Angelia\\\",\\n            \\\"Sardor\\\",\\n            \\\"Vivian\\\",\\n            \\\"Brendan\\\",\\n            \\\"Wan-Rong\\\",\\n            \\\"Ricardo\\\",\\n            \\\"Daniel\\\",\\n            \\\"Quennie\\\",\\n            \\\"Lewis\\\",\\n            \\\"Stephanie\\\",\\n            \\\"Jiayi\\\",\\n            \\\"Cariappa\\\",\\n            \\\"David\\\",\\n            \\\"Yujin\\\",\\n            \\\"Connor\\\",\\n            \\\"Yiran\\\",\\n            \\\"Tatiana\\\",\\n            \\\"Shangcheng\\\",\\n            \\\"Roy\\\",\\n            \\\"Andres\\\",\\n            \\\"Baichuan\\\",\\n            \\\"Kelly\\\",\\n            \\\"Francis\\\",\\n            \\\"Emmanuel\\\",\\n            \\\"Zhenjia\\\",\\n            \\\"Sohan\\\",\\n            \\\"Jill\\\",\\n            \\\"Jialun\\\",\\n            \\\"George\\\",\\n            \\\"Katelyn\\\",\\n            \\\"Lauren\\\",\\n            \\\"Brian\\\",\\n            \\\"Sally\\\",\\n            \\\"Luke\\\",\\n            \\\"Haotian\\\",\\n            \\\"Haoting\\\",\\n            \\\"Monica\\\",\\n            \\\"Justin\\\",\\n            \\\"Kai\\\",\\n            \\\"Bingyan\\\",\\n            \\\"Michael\\\",\\n            \\\"Yuen\\\",\\n            \\\"Camille\\\",\\n            \\\"Narasimhan\\\",\\n            \\\"Zhijun\\\",\\n            \\\"Yonam\\\",\\n            \\\"Kendall\\\",\\n            \\\"Sunghyeok\\\",\\n            \\\"Bokyeong\\\",\\n            \\\"Shihan\\\",\\n            \\\"Cindy\\\",\\n            \\\"Derek\\\",\\n            \\\"Joseph\\\",\\n            \\\"Yunqi\\\",\\n            \\\"Ravina\\\",\\n            \\\"Essie\\\",\\n            \\\"Sungwook\\\",\\n            \\\"Saloni\\\",\\n            \\\"Jimmy\\\",\\n            \\\"Roger\\\",\\n            \\\"Vishnudeep\\\",\\n            \\\"Timothy\\\",\\n            \\\"Matthew\\\",\\n            \\\"Gahn\\\",\\n            \\\"Angela\\\",\\n            \\\"Steven\\\",\\n            \\\"Wenyu\\\",\\n            \\\"Diego\\\",\\n            \\\"Ethan\\\",\\n            \\\"Jasmine\\\",\\n            \\\"Elif\\\",\\n            \\\"Zhenghao\\\",\\n            \\\"Tanisha\\\",\\n            \\\"Sarah\\\",\\n            \\\"Sadrac\\\",\\n            \\\"Heidi\\\",\\n            \\\"Lincoln\\\",\\n            \\\"Yue\\\",\\n            \\\"Bella\\\",\\n            \\\"Owen\\\",\\n            \\\"Minchan\\\",\\n            \\\"Raymond\\\",\\n            \\\"Peiyuan\\\",\\n            \\\"Ethan\\\",\\n            \\\"Trevan\\\",\\n            \\\"Irene\\\",\\n            \\\"Darief\\\",\\n            \\\"Kaushika\\\",\\n            \\\"Kuanmin\\\",\\n            \\\"Samuel\\\",\\n            \\\"Madeline\\\",\\n            \\\"Su\\\",\\n            \\\"Vikram\\\",\\n            \\\"Connor\\\",\\n            \\\"Daniel\\\",\\n            \\\"Aryan\\\",\\n            \\\"Hana\\\",\\n            \\\"Ethan\\\",\\n            \\\"Hongyu\\\",\\n            \\\"Lacha\\\",\\n            \\\"Lorenzo\\\",\\n            \\\"Cecilia\\\",\\n            \\\"Akshay\\\",\\n            \\\"Marco\\\",\\n            \\\"Jason\\\",\\n            \\\"Eduardo\\\",\\n            \\\"Catherine\\\",\\n            \\\"Steven\\\",\\n            \\\"Sebastian\\\",\\n            \\\"Stuti\\\",\\n            \\\"Jiayun\\\",\\n            \\\"Yuqiu\\\",\\n            \\\"Avi\\\",\\n            \\\"Jun\\\",\\n            \\\"Keenan\\\",\\n            \\\"Lok\\\",\\n            \\\"Joyce\\\",\\n            \\\"Timothy\\\",\\n            \\\"Zoey\\\",\\n            \\\"Megha\\\",\\n            \\\"Ciby\\\",\\n            \\\"Mark\\\",\\n            \\\"Basti\\\",\\n            \\\"Jessica\\\",\\n            \\\"Van\\\",\\n            \\\"Jialin\\\",\\n            \\\"Jason\\\",\\n            \\\"Xin\\\",\\n            \\\"Maya\\\",\\n            \\\"Bill\\\",\\n            \\\"Jessica\\\",\\n            \\\"Qirui\\\",\\n            \\\"Emanoel\\\",\\n            \\\"Qilong\\\",\\n            \\\"Donglang\\\",\\n            \\\"Yuen\\\",\\n            \\\"Jessie\\\",\\n            \\\"Jiarui\\\",\\n            \\\"Orlando\\\",\\n            \\\"Kyla\\\",\\n            \\\"Viveka\\\",\\n            \\\"Jason\\\",\\n            \\\"Ho\\\",\\n            \\\"Cristina\\\",\\n            \\\"Shawn\\\",\\n            \\\"Ye\\\",\\n            \\\"Zilu\\\",\\n            \\\"Abdulrahim\\\",\\n            \\\"Uzair\\\",\\n            \\\"Jaznik\\\",\\n            \\\"Ding\\\",\\n            \\\"Nathaniel\\\",\\n            \\\"Iain\\\",\\n            \\\"Rohan\\\",\\n            \\\"Gurjinder\\\",\\n            \\\"Arohi\\\",\\n            \\\"Raam\\\",\\n            \\\"Quinn\\\",\\n            \\\"Andy\\\",\\n            \\\"Weijie\\\",\\n            \\\"Kyle\\\",\\n            \\\"Eshaan\\\",\\n            \\\"Sivaram\\\",\\n            \\\"Connie\\\",\\n            \\\"Chloe\\\",\\n            \\\"Ketki\\\",\\n            \\\"Tianqi\\\",\\n            \\\"Amjad\\\",\\n            \\\"Chris\\\",\\n            \\\"Marija\\\",\\n            \\\"Leo\\\",\\n            \\\"Steven\\\",\\n            \\\"Adrian\\\",\\n            \\\"Steven\\\",\\n            \\\"Kaylani\\\",\\n            \\\"Angela\\\",\\n            \\\"Matthew\\\",\\n            \\\"Cancan\\\",\\n            \\\"Srisaibhaavana\\\",\\n            \\\"Julia\\\",\\n            \\\"Jiarui\\\",\\n            \\\"Ethan\\\",\\n            \\\"Dhanvi\\\",\\n            \\\"Chenlong\\\",\\n            \\\"Owen\\\",\\n            \\\"Sean\\\",\\n            \\\"Yuhan\\\",\\n            \\\"Jason\\\",\\n            \\\"Raymond\\\",\\n            \\\"Emily\\\",\\n            \\\"Shekar\\\",\\n            \\\"Yihuan\\\",\\n            \\\"Andrew\\\",\\n            \\\"Luke\\\",\\n            \\\"Paige\\\",\\n            \\\"Ellie\\\",\\n            \\\"Albert\\\",\\n            \\\"Darren\\\",\\n            \\\"Danny\\\",\\n            \\\"Jovanna\\\",\\n            \\\"Sirui\\\",\\n            \\\"Han\\\",\\n            \\\"Reema\\\",\\n            \\\"Colin\\\",\\n            \\\"Shandha\\\",\\n            \\\"Arshia\\\",\\n            \\\"Allen\\\",\\n            \\\"Rahul\\\",\\n            \\\"Leah\\\",\\n            \\\"Hillary\\\",\\n            \\\"Karthyayani\\\",\\n            \\\"Hyejun\\\",\\n            \\\"Brighton\\\",\\n            \\\"Kathleen\\\",\\n            \\\"Poornasree\\\",\\n            \\\"Kevin\\\",\\n            \\\"Matilda\\\",\\n            \\\"Ishaan\\\",\\n            \\\"Martin\\\",\\n            \\\"Dhruv\\\",\\n            \\\"Andy\\\",\\n            \\\"Ayush\\\",\\n            \\\"Mizuho\\\",\\n            \\\"Utkarsh\\\",\\n            \\\"Rushil\\\",\\n            \\\"Samuel\\\",\\n            \\\"David\\\",\\n            \\\"Ahmad\\\",\\n            \\\"Raine\\\",\\n            \\\"Thanh\\\",\\n            \\\"Yucheng\\\",\\n            \\\"Peike\\\",\\n            \\\"Holden\\\",\\n            \\\"Aaron\\\",\\n            \\\"Jacob\\\",\\n            \\\"Ansh\\\",\\n            \\\"Shruti\\\",\\n            \\\"Ruofan\\\",\\n            \\\"Ziyu\\\",\\n            \\\"Anirvinna\\\",\\n            \\\"Pranav\\\",\\n            \\\"Ziqi\\\",\\n            \\\"Mehak\\\",\\n            \\\"Trinity\\\",\\n            \\\"Evan\\\",\\n            \\\"Samantha\\\",\\n            \\\"Yulin\\\",\\n            \\\"Xueheng\\\",\\n            \\\"Leni\\\",\\n            \\\"Dory\\\",\\n            \\\"Laura\\\"\\n          ]\\n        }\\n      }\\n    }\\n  ]\\n}\", {\"nohover\": true, \"maxDisplayRows\": 7, \"maxDisplayCols\": 5, \"colorPalette\": [\"#e41a1c\", \"#377eb8\", \"#4daf4a\", \"#984ea3\", \"#ff7f00\", \"#a65628\", \"#f781bf\", \"#999999\"]});\n",
       "</script>\n"
      ],
      "text/plain": [
       "<IPython.core.display.HTML object>"
      ]
     },
     "metadata": {},
     "output_type": "display_data"
    }
   ],
   "source": [
    "%%pt\n",
    "\n",
    "roster.get('name').apply(first_name)"
   ]
  },
  {
   "cell_type": "markdown",
   "metadata": {
    "slideshow": {
     "slide_type": "slide"
    }
   },
   "source": [
    "### Example: Common first names"
   ]
  },
  {
   "cell_type": "code",
   "execution_count": 67,
   "metadata": {
    "scrolled": false
   },
   "outputs": [
    {
     "data": {
      "text/html": [
       "<div>\n",
       "<style scoped>\n",
       "    .dataframe tbody tr th:only-of-type {\n",
       "        vertical-align: middle;\n",
       "    }\n",
       "\n",
       "    .dataframe tbody tr th {\n",
       "        vertical-align: top;\n",
       "    }\n",
       "\n",
       "    .dataframe thead th {\n",
       "        text-align: right;\n",
       "    }\n",
       "</style>\n",
       "<table border=\"1\" class=\"dataframe\">\n",
       "  <thead>\n",
       "    <tr style=\"text-align: right;\">\n",
       "      <th></th>\n",
       "      <th>name</th>\n",
       "      <th>section</th>\n",
       "      <th>first</th>\n",
       "    </tr>\n",
       "  </thead>\n",
       "  <tbody>\n",
       "    <tr>\n",
       "      <th>0</th>\n",
       "      <td>Levy Dmxsqj</td>\n",
       "      <td>11AM</td>\n",
       "      <td>Levy</td>\n",
       "    </tr>\n",
       "    <tr>\n",
       "      <th>1</th>\n",
       "      <td>Aiden Nyozzx</td>\n",
       "      <td>1PM</td>\n",
       "      <td>Aiden</td>\n",
       "    </tr>\n",
       "    <tr>\n",
       "      <th>2</th>\n",
       "      <td>Sruti Fivolq</td>\n",
       "      <td>12PM</td>\n",
       "      <td>Sruti</td>\n",
       "    </tr>\n",
       "    <tr>\n",
       "      <th>...</th>\n",
       "      <td>...</td>\n",
       "      <td>...</td>\n",
       "      <td>...</td>\n",
       "    </tr>\n",
       "    <tr>\n",
       "      <th>408</th>\n",
       "      <td>Leni Hlfjhh</td>\n",
       "      <td>11AM</td>\n",
       "      <td>Leni</td>\n",
       "    </tr>\n",
       "    <tr>\n",
       "      <th>409</th>\n",
       "      <td>Dory Xaghsk</td>\n",
       "      <td>1PM</td>\n",
       "      <td>Dory</td>\n",
       "    </tr>\n",
       "    <tr>\n",
       "      <th>410</th>\n",
       "      <td>Laura Xfqwzu</td>\n",
       "      <td>11AM</td>\n",
       "      <td>Laura</td>\n",
       "    </tr>\n",
       "  </tbody>\n",
       "</table>\n",
       "<p>411 rows × 3 columns</p>\n",
       "</div>"
      ],
      "text/plain": [
       "             name section  first\n",
       "0     Levy Dmxsqj    11AM   Levy\n",
       "1    Aiden Nyozzx     1PM  Aiden\n",
       "2    Sruti Fivolq    12PM  Sruti\n",
       "..            ...     ...    ...\n",
       "408   Leni Hlfjhh    11AM   Leni\n",
       "409   Dory Xaghsk     1PM   Dory\n",
       "410  Laura Xfqwzu    11AM  Laura\n",
       "\n",
       "[411 rows x 3 columns]"
      ]
     },
     "execution_count": 67,
     "metadata": {},
     "output_type": "execute_result"
    }
   ],
   "source": [
    "with_first = roster.assign(\n",
    "    first=roster.get('name').apply(first_name)\n",
    ")\n",
    "with_first"
   ]
  },
  {
   "cell_type": "code",
   "execution_count": 68,
   "metadata": {
    "scrolled": true
   },
   "outputs": [
    {
     "data": {
      "text/html": [
       "<div>\n",
       "<style scoped>\n",
       "    .dataframe tbody tr th:only-of-type {\n",
       "        vertical-align: middle;\n",
       "    }\n",
       "\n",
       "    .dataframe tbody tr th {\n",
       "        vertical-align: top;\n",
       "    }\n",
       "\n",
       "    .dataframe thead th {\n",
       "        text-align: right;\n",
       "    }\n",
       "</style>\n",
       "<table border=\"1\" class=\"dataframe\">\n",
       "  <thead>\n",
       "    <tr style=\"text-align: right;\">\n",
       "      <th></th>\n",
       "      <th>name</th>\n",
       "    </tr>\n",
       "    <tr>\n",
       "      <th>first</th>\n",
       "      <th></th>\n",
       "    </tr>\n",
       "  </thead>\n",
       "  <tbody>\n",
       "    <tr>\n",
       "      <th>Ethan</th>\n",
       "      <td>5</td>\n",
       "    </tr>\n",
       "    <tr>\n",
       "      <th>Steven</th>\n",
       "      <td>4</td>\n",
       "    </tr>\n",
       "    <tr>\n",
       "      <th>Jason</th>\n",
       "      <td>4</td>\n",
       "    </tr>\n",
       "    <tr>\n",
       "      <th>...</th>\n",
       "      <td>...</td>\n",
       "    </tr>\n",
       "    <tr>\n",
       "      <th>Huanchang</th>\n",
       "      <td>1</td>\n",
       "    </tr>\n",
       "    <tr>\n",
       "      <th>Housheng</th>\n",
       "      <td>1</td>\n",
       "    </tr>\n",
       "    <tr>\n",
       "      <th>Zoya</th>\n",
       "      <td>1</td>\n",
       "    </tr>\n",
       "  </tbody>\n",
       "</table>\n",
       "<p>361 rows × 1 columns</p>\n",
       "</div>"
      ],
      "text/plain": [
       "           name\n",
       "first          \n",
       "Ethan         5\n",
       "Steven        4\n",
       "Jason         4\n",
       "...         ...\n",
       "Huanchang     1\n",
       "Housheng      1\n",
       "Zoya          1\n",
       "\n",
       "[361 rows x 1 columns]"
      ]
     },
     "execution_count": 68,
     "metadata": {},
     "output_type": "execute_result"
    }
   ],
   "source": [
    "first_counts = with_first.groupby('first').count().sort_values('name', ascending=False).get(['name'])\n",
    "first_counts"
   ]
  },
  {
   "cell_type": "markdown",
   "metadata": {
    "slideshow": {
     "slide_type": "slide"
    }
   },
   "source": [
    "### Activity\n",
    "\n",
    "Below:\n",
    "- Create a **bar chart** showing the number of students with each first name, but only include first names shared by at least two students.\n",
    "- Determine the **proportion** of students in DSC 10 who have a first name that is shared by at least two students."
   ]
  },
  {
   "cell_type": "code",
   "execution_count": 70,
   "metadata": {},
   "outputs": [
    {
     "data": {
      "text/plain": [
       "0.20194647201946472"
      ]
     },
     "execution_count": 70,
     "metadata": {},
     "output_type": "execute_result"
    },
    {
     "data": {
      "image/svg+xml": [
       "<?xml version=\"1.0\" encoding=\"utf-8\" standalone=\"no\"?>\n",
       "<!DOCTYPE svg PUBLIC \"-//W3C//DTD SVG 1.1//EN\"\n",
       "  \"http://www.w3.org/Graphics/SVG/1.1/DTD/svg11.dtd\">\n",
       "<svg height=\"249.022798pt\" version=\"1.1\" viewBox=\"0 0 422.318437 249.022798\" width=\"422.318437pt\" xmlns=\"http://www.w3.org/2000/svg\" xmlns:xlink=\"http://www.w3.org/1999/xlink\">\n",
       " <metadata>\n",
       "  <rdf:RDF xmlns:cc=\"http://creativecommons.org/ns#\" xmlns:dc=\"http://purl.org/dc/elements/1.1/\" xmlns:rdf=\"http://www.w3.org/1999/02/22-rdf-syntax-ns#\">\n",
       "   <cc:Work>\n",
       "    <dc:type rdf:resource=\"http://purl.org/dc/dcmitype/StillImage\"/>\n",
       "    <dc:date>2022-10-12T19:39:01.969455</dc:date>\n",
       "    <dc:format>image/svg+xml</dc:format>\n",
       "    <dc:creator>\n",
       "     <cc:Agent>\n",
       "      <dc:title>Matplotlib v3.4.2, https://matplotlib.org/</dc:title>\n",
       "     </cc:Agent>\n",
       "    </dc:creator>\n",
       "   </cc:Work>\n",
       "  </rdf:RDF>\n",
       " </metadata>\n",
       " <defs>\n",
       "  <style type=\"text/css\">*{stroke-linecap:butt;stroke-linejoin:round;}</style>\n",
       " </defs>\n",
       " <g id=\"figure_1\">\n",
       "  <g id=\"patch_1\">\n",
       "   <path d=\"M 0 249.022798 \n",
       "L 422.318437 249.022798 \n",
       "L 422.318437 0 \n",
       "L 0 0 \n",
       "z\n",
       "\" style=\"fill:#ffffff;\"/>\n",
       "  </g>\n",
       "  <g id=\"axes_1\">\n",
       "   <g id=\"patch_2\">\n",
       "    <path d=\"M 80.318438 225.144673 \n",
       "L 415.118438 225.144673 \n",
       "L 415.118438 7.704673 \n",
       "L 80.318438 7.704673 \n",
       "z\n",
       "\" style=\"fill:#e5e5e5;\"/>\n",
       "   </g>\n",
       "   <g id=\"matplotlib.axis_1\">\n",
       "    <g id=\"xtick_1\">\n",
       "     <g id=\"line2d_1\">\n",
       "      <path clip-path=\"url(#p195c6b320d)\" d=\"M 80.318438 225.144673 \n",
       "L 80.318438 7.704673 \n",
       "\" style=\"fill:none;stroke:#ffffff;stroke-linecap:square;stroke-width:0.8;\"/>\n",
       "     </g>\n",
       "     <g id=\"line2d_2\">\n",
       "      <defs>\n",
       "       <path d=\"M 0 0 \n",
       "L 0 3.5 \n",
       "\" id=\"mbbdd77f6f8\" style=\"stroke:#555555;stroke-width:0.8;\"/>\n",
       "      </defs>\n",
       "      <g>\n",
       "       <use style=\"fill:#555555;stroke:#555555;stroke-width:0.8;\" x=\"80.318438\" xlink:href=\"#mbbdd77f6f8\" y=\"225.144673\"/>\n",
       "      </g>\n",
       "     </g>\n",
       "     <g id=\"text_1\">\n",
       "      <!-- 0 -->\n",
       "      <g style=\"fill:#555555;\" transform=\"translate(77.137187 239.743111)scale(0.1 -0.1)\">\n",
       "       <defs>\n",
       "        <path d=\"M 2034 4250 \n",
       "Q 1547 4250 1301 3770 \n",
       "Q 1056 3291 1056 2328 \n",
       "Q 1056 1369 1301 889 \n",
       "Q 1547 409 2034 409 \n",
       "Q 2525 409 2770 889 \n",
       "Q 3016 1369 3016 2328 \n",
       "Q 3016 3291 2770 3770 \n",
       "Q 2525 4250 2034 4250 \n",
       "z\n",
       "M 2034 4750 \n",
       "Q 2819 4750 3233 4129 \n",
       "Q 3647 3509 3647 2328 \n",
       "Q 3647 1150 3233 529 \n",
       "Q 2819 -91 2034 -91 \n",
       "Q 1250 -91 836 529 \n",
       "Q 422 1150 422 2328 \n",
       "Q 422 3509 836 4129 \n",
       "Q 1250 4750 2034 4750 \n",
       "z\n",
       "\" id=\"DejaVuSans-30\" transform=\"scale(0.015625)\"/>\n",
       "       </defs>\n",
       "       <use xlink:href=\"#DejaVuSans-30\"/>\n",
       "      </g>\n",
       "     </g>\n",
       "    </g>\n",
       "    <g id=\"xtick_2\">\n",
       "     <g id=\"line2d_3\">\n",
       "      <path clip-path=\"url(#p195c6b320d)\" d=\"M 144.089866 225.144673 \n",
       "L 144.089866 7.704673 \n",
       "\" style=\"fill:none;stroke:#ffffff;stroke-linecap:square;stroke-width:0.8;\"/>\n",
       "     </g>\n",
       "     <g id=\"line2d_4\">\n",
       "      <g>\n",
       "       <use style=\"fill:#555555;stroke:#555555;stroke-width:0.8;\" x=\"144.089866\" xlink:href=\"#mbbdd77f6f8\" y=\"225.144673\"/>\n",
       "      </g>\n",
       "     </g>\n",
       "     <g id=\"text_2\">\n",
       "      <!-- 1 -->\n",
       "      <g style=\"fill:#555555;\" transform=\"translate(140.908616 239.743111)scale(0.1 -0.1)\">\n",
       "       <defs>\n",
       "        <path d=\"M 794 531 \n",
       "L 1825 531 \n",
       "L 1825 4091 \n",
       "L 703 3866 \n",
       "L 703 4441 \n",
       "L 1819 4666 \n",
       "L 2450 4666 \n",
       "L 2450 531 \n",
       "L 3481 531 \n",
       "L 3481 0 \n",
       "L 794 0 \n",
       "L 794 531 \n",
       "z\n",
       "\" id=\"DejaVuSans-31\" transform=\"scale(0.015625)\"/>\n",
       "       </defs>\n",
       "       <use xlink:href=\"#DejaVuSans-31\"/>\n",
       "      </g>\n",
       "     </g>\n",
       "    </g>\n",
       "    <g id=\"xtick_3\">\n",
       "     <g id=\"line2d_5\">\n",
       "      <path clip-path=\"url(#p195c6b320d)\" d=\"M 207.861295 225.144673 \n",
       "L 207.861295 7.704673 \n",
       "\" style=\"fill:none;stroke:#ffffff;stroke-linecap:square;stroke-width:0.8;\"/>\n",
       "     </g>\n",
       "     <g id=\"line2d_6\">\n",
       "      <g>\n",
       "       <use style=\"fill:#555555;stroke:#555555;stroke-width:0.8;\" x=\"207.861295\" xlink:href=\"#mbbdd77f6f8\" y=\"225.144673\"/>\n",
       "      </g>\n",
       "     </g>\n",
       "     <g id=\"text_3\">\n",
       "      <!-- 2 -->\n",
       "      <g style=\"fill:#555555;\" transform=\"translate(204.680045 239.743111)scale(0.1 -0.1)\">\n",
       "       <defs>\n",
       "        <path d=\"M 1228 531 \n",
       "L 3431 531 \n",
       "L 3431 0 \n",
       "L 469 0 \n",
       "L 469 531 \n",
       "Q 828 903 1448 1529 \n",
       "Q 2069 2156 2228 2338 \n",
       "Q 2531 2678 2651 2914 \n",
       "Q 2772 3150 2772 3378 \n",
       "Q 2772 3750 2511 3984 \n",
       "Q 2250 4219 1831 4219 \n",
       "Q 1534 4219 1204 4116 \n",
       "Q 875 4013 500 3803 \n",
       "L 500 4441 \n",
       "Q 881 4594 1212 4672 \n",
       "Q 1544 4750 1819 4750 \n",
       "Q 2544 4750 2975 4387 \n",
       "Q 3406 4025 3406 3419 \n",
       "Q 3406 3131 3298 2873 \n",
       "Q 3191 2616 2906 2266 \n",
       "Q 2828 2175 2409 1742 \n",
       "Q 1991 1309 1228 531 \n",
       "z\n",
       "\" id=\"DejaVuSans-32\" transform=\"scale(0.015625)\"/>\n",
       "       </defs>\n",
       "       <use xlink:href=\"#DejaVuSans-32\"/>\n",
       "      </g>\n",
       "     </g>\n",
       "    </g>\n",
       "    <g id=\"xtick_4\">\n",
       "     <g id=\"line2d_7\">\n",
       "      <path clip-path=\"url(#p195c6b320d)\" d=\"M 271.632723 225.144673 \n",
       "L 271.632723 7.704673 \n",
       "\" style=\"fill:none;stroke:#ffffff;stroke-linecap:square;stroke-width:0.8;\"/>\n",
       "     </g>\n",
       "     <g id=\"line2d_8\">\n",
       "      <g>\n",
       "       <use style=\"fill:#555555;stroke:#555555;stroke-width:0.8;\" x=\"271.632723\" xlink:href=\"#mbbdd77f6f8\" y=\"225.144673\"/>\n",
       "      </g>\n",
       "     </g>\n",
       "     <g id=\"text_4\">\n",
       "      <!-- 3 -->\n",
       "      <g style=\"fill:#555555;\" transform=\"translate(268.451473 239.743111)scale(0.1 -0.1)\">\n",
       "       <defs>\n",
       "        <path d=\"M 2597 2516 \n",
       "Q 3050 2419 3304 2112 \n",
       "Q 3559 1806 3559 1356 \n",
       "Q 3559 666 3084 287 \n",
       "Q 2609 -91 1734 -91 \n",
       "Q 1441 -91 1130 -33 \n",
       "Q 819 25 488 141 \n",
       "L 488 750 \n",
       "Q 750 597 1062 519 \n",
       "Q 1375 441 1716 441 \n",
       "Q 2309 441 2620 675 \n",
       "Q 2931 909 2931 1356 \n",
       "Q 2931 1769 2642 2001 \n",
       "Q 2353 2234 1838 2234 \n",
       "L 1294 2234 \n",
       "L 1294 2753 \n",
       "L 1863 2753 \n",
       "Q 2328 2753 2575 2939 \n",
       "Q 2822 3125 2822 3475 \n",
       "Q 2822 3834 2567 4026 \n",
       "Q 2313 4219 1838 4219 \n",
       "Q 1578 4219 1281 4162 \n",
       "Q 984 4106 628 3988 \n",
       "L 628 4550 \n",
       "Q 988 4650 1302 4700 \n",
       "Q 1616 4750 1894 4750 \n",
       "Q 2613 4750 3031 4423 \n",
       "Q 3450 4097 3450 3541 \n",
       "Q 3450 3153 3228 2886 \n",
       "Q 3006 2619 2597 2516 \n",
       "z\n",
       "\" id=\"DejaVuSans-33\" transform=\"scale(0.015625)\"/>\n",
       "       </defs>\n",
       "       <use xlink:href=\"#DejaVuSans-33\"/>\n",
       "      </g>\n",
       "     </g>\n",
       "    </g>\n",
       "    <g id=\"xtick_5\">\n",
       "     <g id=\"line2d_9\">\n",
       "      <path clip-path=\"url(#p195c6b320d)\" d=\"M 335.404152 225.144673 \n",
       "L 335.404152 7.704673 \n",
       "\" style=\"fill:none;stroke:#ffffff;stroke-linecap:square;stroke-width:0.8;\"/>\n",
       "     </g>\n",
       "     <g id=\"line2d_10\">\n",
       "      <g>\n",
       "       <use style=\"fill:#555555;stroke:#555555;stroke-width:0.8;\" x=\"335.404152\" xlink:href=\"#mbbdd77f6f8\" y=\"225.144673\"/>\n",
       "      </g>\n",
       "     </g>\n",
       "     <g id=\"text_5\">\n",
       "      <!-- 4 -->\n",
       "      <g style=\"fill:#555555;\" transform=\"translate(332.222902 239.743111)scale(0.1 -0.1)\">\n",
       "       <defs>\n",
       "        <path d=\"M 2419 4116 \n",
       "L 825 1625 \n",
       "L 2419 1625 \n",
       "L 2419 4116 \n",
       "z\n",
       "M 2253 4666 \n",
       "L 3047 4666 \n",
       "L 3047 1625 \n",
       "L 3713 1625 \n",
       "L 3713 1100 \n",
       "L 3047 1100 \n",
       "L 3047 0 \n",
       "L 2419 0 \n",
       "L 2419 1100 \n",
       "L 313 1100 \n",
       "L 313 1709 \n",
       "L 2253 4666 \n",
       "z\n",
       "\" id=\"DejaVuSans-34\" transform=\"scale(0.015625)\"/>\n",
       "       </defs>\n",
       "       <use xlink:href=\"#DejaVuSans-34\"/>\n",
       "      </g>\n",
       "     </g>\n",
       "    </g>\n",
       "    <g id=\"xtick_6\">\n",
       "     <g id=\"line2d_11\">\n",
       "      <path clip-path=\"url(#p195c6b320d)\" d=\"M 399.17558 225.144673 \n",
       "L 399.17558 7.704673 \n",
       "\" style=\"fill:none;stroke:#ffffff;stroke-linecap:square;stroke-width:0.8;\"/>\n",
       "     </g>\n",
       "     <g id=\"line2d_12\">\n",
       "      <g>\n",
       "       <use style=\"fill:#555555;stroke:#555555;stroke-width:0.8;\" x=\"399.17558\" xlink:href=\"#mbbdd77f6f8\" y=\"225.144673\"/>\n",
       "      </g>\n",
       "     </g>\n",
       "     <g id=\"text_6\">\n",
       "      <!-- 5 -->\n",
       "      <g style=\"fill:#555555;\" transform=\"translate(395.99433 239.743111)scale(0.1 -0.1)\">\n",
       "       <defs>\n",
       "        <path d=\"M 691 4666 \n",
       "L 3169 4666 \n",
       "L 3169 4134 \n",
       "L 1269 4134 \n",
       "L 1269 2991 \n",
       "Q 1406 3038 1543 3061 \n",
       "Q 1681 3084 1819 3084 \n",
       "Q 2600 3084 3056 2656 \n",
       "Q 3513 2228 3513 1497 \n",
       "Q 3513 744 3044 326 \n",
       "Q 2575 -91 1722 -91 \n",
       "Q 1428 -91 1123 -41 \n",
       "Q 819 9 494 109 \n",
       "L 494 744 \n",
       "Q 775 591 1075 516 \n",
       "Q 1375 441 1709 441 \n",
       "Q 2250 441 2565 725 \n",
       "Q 2881 1009 2881 1497 \n",
       "Q 2881 1984 2565 2268 \n",
       "Q 2250 2553 1709 2553 \n",
       "Q 1456 2553 1204 2497 \n",
       "Q 953 2441 691 2322 \n",
       "L 691 4666 \n",
       "z\n",
       "\" id=\"DejaVuSans-35\" transform=\"scale(0.015625)\"/>\n",
       "       </defs>\n",
       "       <use xlink:href=\"#DejaVuSans-35\"/>\n",
       "      </g>\n",
       "     </g>\n",
       "    </g>\n",
       "   </g>\n",
       "   <g id=\"matplotlib.axis_2\">\n",
       "    <g id=\"ytick_1\">\n",
       "     <g id=\"line2d_13\">\n",
       "      <path clip-path=\"url(#p195c6b320d)\" d=\"M 80.318438 221.850128 \n",
       "L 415.118438 221.850128 \n",
       "\" style=\"fill:none;stroke:#ffffff;stroke-linecap:square;stroke-width:0.8;\"/>\n",
       "     </g>\n",
       "     <g id=\"line2d_14\">\n",
       "      <defs>\n",
       "       <path d=\"M 0 0 \n",
       "L -3.5 0 \n",
       "\" id=\"m9be631b9a0\" style=\"stroke:#555555;stroke-width:0.8;\"/>\n",
       "      </defs>\n",
       "      <g>\n",
       "       <use style=\"fill:#555555;stroke:#555555;stroke-width:0.8;\" x=\"80.318438\" xlink:href=\"#m9be631b9a0\" y=\"221.850128\"/>\n",
       "      </g>\n",
       "     </g>\n",
       "     <g id=\"text_7\">\n",
       "      <!-- Joyce -->\n",
       "      <g style=\"fill:#555555;\" transform=\"translate(46.679375 225.649347)scale(0.1 -0.1)\">\n",
       "       <defs>\n",
       "        <path d=\"M 628 4666 \n",
       "L 1259 4666 \n",
       "L 1259 325 \n",
       "Q 1259 -519 939 -900 \n",
       "Q 619 -1281 -91 -1281 \n",
       "L -331 -1281 \n",
       "L -331 -750 \n",
       "L -134 -750 \n",
       "Q 284 -750 456 -515 \n",
       "Q 628 -281 628 325 \n",
       "L 628 4666 \n",
       "z\n",
       "\" id=\"DejaVuSans-4a\" transform=\"scale(0.015625)\"/>\n",
       "        <path d=\"M 1959 3097 \n",
       "Q 1497 3097 1228 2736 \n",
       "Q 959 2375 959 1747 \n",
       "Q 959 1119 1226 758 \n",
       "Q 1494 397 1959 397 \n",
       "Q 2419 397 2687 759 \n",
       "Q 2956 1122 2956 1747 \n",
       "Q 2956 2369 2687 2733 \n",
       "Q 2419 3097 1959 3097 \n",
       "z\n",
       "M 1959 3584 \n",
       "Q 2709 3584 3137 3096 \n",
       "Q 3566 2609 3566 1747 \n",
       "Q 3566 888 3137 398 \n",
       "Q 2709 -91 1959 -91 \n",
       "Q 1206 -91 779 398 \n",
       "Q 353 888 353 1747 \n",
       "Q 353 2609 779 3096 \n",
       "Q 1206 3584 1959 3584 \n",
       "z\n",
       "\" id=\"DejaVuSans-6f\" transform=\"scale(0.015625)\"/>\n",
       "        <path d=\"M 2059 -325 \n",
       "Q 1816 -950 1584 -1140 \n",
       "Q 1353 -1331 966 -1331 \n",
       "L 506 -1331 \n",
       "L 506 -850 \n",
       "L 844 -850 \n",
       "Q 1081 -850 1212 -737 \n",
       "Q 1344 -625 1503 -206 \n",
       "L 1606 56 \n",
       "L 191 3500 \n",
       "L 800 3500 \n",
       "L 1894 763 \n",
       "L 2988 3500 \n",
       "L 3597 3500 \n",
       "L 2059 -325 \n",
       "z\n",
       "\" id=\"DejaVuSans-79\" transform=\"scale(0.015625)\"/>\n",
       "        <path d=\"M 3122 3366 \n",
       "L 3122 2828 \n",
       "Q 2878 2963 2633 3030 \n",
       "Q 2388 3097 2138 3097 \n",
       "Q 1578 3097 1268 2742 \n",
       "Q 959 2388 959 1747 \n",
       "Q 959 1106 1268 751 \n",
       "Q 1578 397 2138 397 \n",
       "Q 2388 397 2633 464 \n",
       "Q 2878 531 3122 666 \n",
       "L 3122 134 \n",
       "Q 2881 22 2623 -34 \n",
       "Q 2366 -91 2075 -91 \n",
       "Q 1284 -91 818 406 \n",
       "Q 353 903 353 1747 \n",
       "Q 353 2603 823 3093 \n",
       "Q 1294 3584 2113 3584 \n",
       "Q 2378 3584 2631 3529 \n",
       "Q 2884 3475 3122 3366 \n",
       "z\n",
       "\" id=\"DejaVuSans-63\" transform=\"scale(0.015625)\"/>\n",
       "        <path d=\"M 3597 1894 \n",
       "L 3597 1613 \n",
       "L 953 1613 \n",
       "Q 991 1019 1311 708 \n",
       "Q 1631 397 2203 397 \n",
       "Q 2534 397 2845 478 \n",
       "Q 3156 559 3463 722 \n",
       "L 3463 178 \n",
       "Q 3153 47 2828 -22 \n",
       "Q 2503 -91 2169 -91 \n",
       "Q 1331 -91 842 396 \n",
       "Q 353 884 353 1716 \n",
       "Q 353 2575 817 3079 \n",
       "Q 1281 3584 2069 3584 \n",
       "Q 2775 3584 3186 3129 \n",
       "Q 3597 2675 3597 1894 \n",
       "z\n",
       "M 3022 2063 \n",
       "Q 3016 2534 2758 2815 \n",
       "Q 2500 3097 2075 3097 \n",
       "Q 1594 3097 1305 2825 \n",
       "Q 1016 2553 972 2059 \n",
       "L 3022 2063 \n",
       "z\n",
       "\" id=\"DejaVuSans-65\" transform=\"scale(0.015625)\"/>\n",
       "       </defs>\n",
       "       <use xlink:href=\"#DejaVuSans-4a\"/>\n",
       "       <use x=\"29.492188\" xlink:href=\"#DejaVuSans-6f\"/>\n",
       "       <use x=\"90.673828\" xlink:href=\"#DejaVuSans-79\"/>\n",
       "       <use x=\"149.853516\" xlink:href=\"#DejaVuSans-63\"/>\n",
       "       <use x=\"204.833984\" xlink:href=\"#DejaVuSans-65\"/>\n",
       "      </g>\n",
       "     </g>\n",
       "    </g>\n",
       "    <g id=\"ytick_2\">\n",
       "     <g id=\"line2d_15\">\n",
       "      <path clip-path=\"url(#p195c6b320d)\" d=\"M 80.318438 215.261037 \n",
       "L 415.118438 215.261037 \n",
       "\" style=\"fill:none;stroke:#ffffff;stroke-linecap:square;stroke-width:0.8;\"/>\n",
       "     </g>\n",
       "     <g id=\"line2d_16\">\n",
       "      <g>\n",
       "       <use style=\"fill:#555555;stroke:#555555;stroke-width:0.8;\" x=\"80.318438\" xlink:href=\"#m9be631b9a0\" y=\"215.261037\"/>\n",
       "      </g>\n",
       "     </g>\n",
       "     <g id=\"text_8\">\n",
       "      <!-- Kevin -->\n",
       "      <g style=\"fill:#555555;\" transform=\"translate(46.073125 219.060256)scale(0.1 -0.1)\">\n",
       "       <defs>\n",
       "        <path d=\"M 628 4666 \n",
       "L 1259 4666 \n",
       "L 1259 2694 \n",
       "L 3353 4666 \n",
       "L 4166 4666 \n",
       "L 1850 2491 \n",
       "L 4331 0 \n",
       "L 3500 0 \n",
       "L 1259 2247 \n",
       "L 1259 0 \n",
       "L 628 0 \n",
       "L 628 4666 \n",
       "z\n",
       "\" id=\"DejaVuSans-4b\" transform=\"scale(0.015625)\"/>\n",
       "        <path d=\"M 191 3500 \n",
       "L 800 3500 \n",
       "L 1894 563 \n",
       "L 2988 3500 \n",
       "L 3597 3500 \n",
       "L 2284 0 \n",
       "L 1503 0 \n",
       "L 191 3500 \n",
       "z\n",
       "\" id=\"DejaVuSans-76\" transform=\"scale(0.015625)\"/>\n",
       "        <path d=\"M 603 3500 \n",
       "L 1178 3500 \n",
       "L 1178 0 \n",
       "L 603 0 \n",
       "L 603 3500 \n",
       "z\n",
       "M 603 4863 \n",
       "L 1178 4863 \n",
       "L 1178 4134 \n",
       "L 603 4134 \n",
       "L 603 4863 \n",
       "z\n",
       "\" id=\"DejaVuSans-69\" transform=\"scale(0.015625)\"/>\n",
       "        <path d=\"M 3513 2113 \n",
       "L 3513 0 \n",
       "L 2938 0 \n",
       "L 2938 2094 \n",
       "Q 2938 2591 2744 2837 \n",
       "Q 2550 3084 2163 3084 \n",
       "Q 1697 3084 1428 2787 \n",
       "Q 1159 2491 1159 1978 \n",
       "L 1159 0 \n",
       "L 581 0 \n",
       "L 581 3500 \n",
       "L 1159 3500 \n",
       "L 1159 2956 \n",
       "Q 1366 3272 1645 3428 \n",
       "Q 1925 3584 2291 3584 \n",
       "Q 2894 3584 3203 3211 \n",
       "Q 3513 2838 3513 2113 \n",
       "z\n",
       "\" id=\"DejaVuSans-6e\" transform=\"scale(0.015625)\"/>\n",
       "       </defs>\n",
       "       <use xlink:href=\"#DejaVuSans-4b\"/>\n",
       "       <use x=\"60.576172\" xlink:href=\"#DejaVuSans-65\"/>\n",
       "       <use x=\"122.099609\" xlink:href=\"#DejaVuSans-76\"/>\n",
       "       <use x=\"181.279297\" xlink:href=\"#DejaVuSans-69\"/>\n",
       "       <use x=\"209.0625\" xlink:href=\"#DejaVuSans-6e\"/>\n",
       "      </g>\n",
       "     </g>\n",
       "    </g>\n",
       "    <g id=\"ytick_3\">\n",
       "     <g id=\"line2d_17\">\n",
       "      <path clip-path=\"url(#p195c6b320d)\" d=\"M 80.318438 208.671946 \n",
       "L 415.118438 208.671946 \n",
       "\" style=\"fill:none;stroke:#ffffff;stroke-linecap:square;stroke-width:0.8;\"/>\n",
       "     </g>\n",
       "     <g id=\"line2d_18\">\n",
       "      <g>\n",
       "       <use style=\"fill:#555555;stroke:#555555;stroke-width:0.8;\" x=\"80.318438\" xlink:href=\"#m9be631b9a0\" y=\"208.671946\"/>\n",
       "      </g>\n",
       "     </g>\n",
       "     <g id=\"text_9\">\n",
       "      <!-- Yuen -->\n",
       "      <g style=\"fill:#555555;\" transform=\"translate(49.5325 212.471165)scale(0.1 -0.1)\">\n",
       "       <defs>\n",
       "        <path d=\"M -13 4666 \n",
       "L 666 4666 \n",
       "L 1959 2747 \n",
       "L 3244 4666 \n",
       "L 3922 4666 \n",
       "L 2272 2222 \n",
       "L 2272 0 \n",
       "L 1638 0 \n",
       "L 1638 2222 \n",
       "L -13 4666 \n",
       "z\n",
       "\" id=\"DejaVuSans-59\" transform=\"scale(0.015625)\"/>\n",
       "        <path d=\"M 544 1381 \n",
       "L 544 3500 \n",
       "L 1119 3500 \n",
       "L 1119 1403 \n",
       "Q 1119 906 1312 657 \n",
       "Q 1506 409 1894 409 \n",
       "Q 2359 409 2629 706 \n",
       "Q 2900 1003 2900 1516 \n",
       "L 2900 3500 \n",
       "L 3475 3500 \n",
       "L 3475 0 \n",
       "L 2900 0 \n",
       "L 2900 538 \n",
       "Q 2691 219 2414 64 \n",
       "Q 2138 -91 1772 -91 \n",
       "Q 1169 -91 856 284 \n",
       "Q 544 659 544 1381 \n",
       "z\n",
       "M 1991 3584 \n",
       "L 1991 3584 \n",
       "z\n",
       "\" id=\"DejaVuSans-75\" transform=\"scale(0.015625)\"/>\n",
       "       </defs>\n",
       "       <use xlink:href=\"#DejaVuSans-59\"/>\n",
       "       <use x=\"49.583984\" xlink:href=\"#DejaVuSans-75\"/>\n",
       "       <use x=\"112.962891\" xlink:href=\"#DejaVuSans-65\"/>\n",
       "       <use x=\"174.486328\" xlink:href=\"#DejaVuSans-6e\"/>\n",
       "      </g>\n",
       "     </g>\n",
       "    </g>\n",
       "    <g id=\"ytick_4\">\n",
       "     <g id=\"line2d_19\">\n",
       "      <path clip-path=\"url(#p195c6b320d)\" d=\"M 80.318438 202.082855 \n",
       "L 415.118438 202.082855 \n",
       "\" style=\"fill:none;stroke:#ffffff;stroke-linecap:square;stroke-width:0.8;\"/>\n",
       "     </g>\n",
       "     <g id=\"line2d_20\">\n",
       "      <g>\n",
       "       <use style=\"fill:#555555;stroke:#555555;stroke-width:0.8;\" x=\"80.318438\" xlink:href=\"#m9be631b9a0\" y=\"202.082855\"/>\n",
       "      </g>\n",
       "     </g>\n",
       "     <g id=\"text_10\">\n",
       "      <!-- Adrian -->\n",
       "      <g style=\"fill:#555555;\" transform=\"translate(40.949688 205.882074)scale(0.1 -0.1)\">\n",
       "       <defs>\n",
       "        <path d=\"M 2188 4044 \n",
       "L 1331 1722 \n",
       "L 3047 1722 \n",
       "L 2188 4044 \n",
       "z\n",
       "M 1831 4666 \n",
       "L 2547 4666 \n",
       "L 4325 0 \n",
       "L 3669 0 \n",
       "L 3244 1197 \n",
       "L 1141 1197 \n",
       "L 716 0 \n",
       "L 50 0 \n",
       "L 1831 4666 \n",
       "z\n",
       "\" id=\"DejaVuSans-41\" transform=\"scale(0.015625)\"/>\n",
       "        <path d=\"M 2906 2969 \n",
       "L 2906 4863 \n",
       "L 3481 4863 \n",
       "L 3481 0 \n",
       "L 2906 0 \n",
       "L 2906 525 \n",
       "Q 2725 213 2448 61 \n",
       "Q 2172 -91 1784 -91 \n",
       "Q 1150 -91 751 415 \n",
       "Q 353 922 353 1747 \n",
       "Q 353 2572 751 3078 \n",
       "Q 1150 3584 1784 3584 \n",
       "Q 2172 3584 2448 3432 \n",
       "Q 2725 3281 2906 2969 \n",
       "z\n",
       "M 947 1747 \n",
       "Q 947 1113 1208 752 \n",
       "Q 1469 391 1925 391 \n",
       "Q 2381 391 2643 752 \n",
       "Q 2906 1113 2906 1747 \n",
       "Q 2906 2381 2643 2742 \n",
       "Q 2381 3103 1925 3103 \n",
       "Q 1469 3103 1208 2742 \n",
       "Q 947 2381 947 1747 \n",
       "z\n",
       "\" id=\"DejaVuSans-64\" transform=\"scale(0.015625)\"/>\n",
       "        <path d=\"M 2631 2963 \n",
       "Q 2534 3019 2420 3045 \n",
       "Q 2306 3072 2169 3072 \n",
       "Q 1681 3072 1420 2755 \n",
       "Q 1159 2438 1159 1844 \n",
       "L 1159 0 \n",
       "L 581 0 \n",
       "L 581 3500 \n",
       "L 1159 3500 \n",
       "L 1159 2956 \n",
       "Q 1341 3275 1631 3429 \n",
       "Q 1922 3584 2338 3584 \n",
       "Q 2397 3584 2469 3576 \n",
       "Q 2541 3569 2628 3553 \n",
       "L 2631 2963 \n",
       "z\n",
       "\" id=\"DejaVuSans-72\" transform=\"scale(0.015625)\"/>\n",
       "        <path d=\"M 2194 1759 \n",
       "Q 1497 1759 1228 1600 \n",
       "Q 959 1441 959 1056 \n",
       "Q 959 750 1161 570 \n",
       "Q 1363 391 1709 391 \n",
       "Q 2188 391 2477 730 \n",
       "Q 2766 1069 2766 1631 \n",
       "L 2766 1759 \n",
       "L 2194 1759 \n",
       "z\n",
       "M 3341 1997 \n",
       "L 3341 0 \n",
       "L 2766 0 \n",
       "L 2766 531 \n",
       "Q 2569 213 2275 61 \n",
       "Q 1981 -91 1556 -91 \n",
       "Q 1019 -91 701 211 \n",
       "Q 384 513 384 1019 \n",
       "Q 384 1609 779 1909 \n",
       "Q 1175 2209 1959 2209 \n",
       "L 2766 2209 \n",
       "L 2766 2266 \n",
       "Q 2766 2663 2505 2880 \n",
       "Q 2244 3097 1772 3097 \n",
       "Q 1472 3097 1187 3025 \n",
       "Q 903 2953 641 2809 \n",
       "L 641 3341 \n",
       "Q 956 3463 1253 3523 \n",
       "Q 1550 3584 1831 3584 \n",
       "Q 2591 3584 2966 3190 \n",
       "Q 3341 2797 3341 1997 \n",
       "z\n",
       "\" id=\"DejaVuSans-61\" transform=\"scale(0.015625)\"/>\n",
       "       </defs>\n",
       "       <use xlink:href=\"#DejaVuSans-41\"/>\n",
       "       <use x=\"66.658203\" xlink:href=\"#DejaVuSans-64\"/>\n",
       "       <use x=\"130.134766\" xlink:href=\"#DejaVuSans-72\"/>\n",
       "       <use x=\"171.248047\" xlink:href=\"#DejaVuSans-69\"/>\n",
       "       <use x=\"199.03125\" xlink:href=\"#DejaVuSans-61\"/>\n",
       "       <use x=\"260.310547\" xlink:href=\"#DejaVuSans-6e\"/>\n",
       "      </g>\n",
       "     </g>\n",
       "    </g>\n",
       "    <g id=\"ytick_5\">\n",
       "     <g id=\"line2d_21\">\n",
       "      <path clip-path=\"url(#p195c6b320d)\" d=\"M 80.318438 195.493764 \n",
       "L 415.118438 195.493764 \n",
       "\" style=\"fill:none;stroke:#ffffff;stroke-linecap:square;stroke-width:0.8;\"/>\n",
       "     </g>\n",
       "     <g id=\"line2d_22\">\n",
       "      <g>\n",
       "       <use style=\"fill:#555555;stroke:#555555;stroke-width:0.8;\" x=\"80.318438\" xlink:href=\"#m9be631b9a0\" y=\"195.493764\"/>\n",
       "      </g>\n",
       "     </g>\n",
       "     <g id=\"text_11\">\n",
       "      <!-- Leena -->\n",
       "      <g style=\"fill:#555555;\" transform=\"translate(43.149687 199.292983)scale(0.1 -0.1)\">\n",
       "       <defs>\n",
       "        <path d=\"M 628 4666 \n",
       "L 1259 4666 \n",
       "L 1259 531 \n",
       "L 3531 531 \n",
       "L 3531 0 \n",
       "L 628 0 \n",
       "L 628 4666 \n",
       "z\n",
       "\" id=\"DejaVuSans-4c\" transform=\"scale(0.015625)\"/>\n",
       "       </defs>\n",
       "       <use xlink:href=\"#DejaVuSans-4c\"/>\n",
       "       <use x=\"53.962891\" xlink:href=\"#DejaVuSans-65\"/>\n",
       "       <use x=\"115.486328\" xlink:href=\"#DejaVuSans-65\"/>\n",
       "       <use x=\"177.009766\" xlink:href=\"#DejaVuSans-6e\"/>\n",
       "       <use x=\"240.388672\" xlink:href=\"#DejaVuSans-61\"/>\n",
       "      </g>\n",
       "     </g>\n",
       "    </g>\n",
       "    <g id=\"ytick_6\">\n",
       "     <g id=\"line2d_23\">\n",
       "      <path clip-path=\"url(#p195c6b320d)\" d=\"M 80.318438 188.904673 \n",
       "L 415.118438 188.904673 \n",
       "\" style=\"fill:none;stroke:#ffffff;stroke-linecap:square;stroke-width:0.8;\"/>\n",
       "     </g>\n",
       "     <g id=\"line2d_24\">\n",
       "      <g>\n",
       "       <use style=\"fill:#555555;stroke:#555555;stroke-width:0.8;\" x=\"80.318438\" xlink:href=\"#m9be631b9a0\" y=\"188.904673\"/>\n",
       "      </g>\n",
       "     </g>\n",
       "     <g id=\"text_12\">\n",
       "      <!-- Angela -->\n",
       "      <g style=\"fill:#555555;\" transform=\"translate(38.7325 192.703892)scale(0.1 -0.1)\">\n",
       "       <defs>\n",
       "        <path d=\"M 2906 1791 \n",
       "Q 2906 2416 2648 2759 \n",
       "Q 2391 3103 1925 3103 \n",
       "Q 1463 3103 1205 2759 \n",
       "Q 947 2416 947 1791 \n",
       "Q 947 1169 1205 825 \n",
       "Q 1463 481 1925 481 \n",
       "Q 2391 481 2648 825 \n",
       "Q 2906 1169 2906 1791 \n",
       "z\n",
       "M 3481 434 \n",
       "Q 3481 -459 3084 -895 \n",
       "Q 2688 -1331 1869 -1331 \n",
       "Q 1566 -1331 1297 -1286 \n",
       "Q 1028 -1241 775 -1147 \n",
       "L 775 -588 \n",
       "Q 1028 -725 1275 -790 \n",
       "Q 1522 -856 1778 -856 \n",
       "Q 2344 -856 2625 -561 \n",
       "Q 2906 -266 2906 331 \n",
       "L 2906 616 \n",
       "Q 2728 306 2450 153 \n",
       "Q 2172 0 1784 0 \n",
       "Q 1141 0 747 490 \n",
       "Q 353 981 353 1791 \n",
       "Q 353 2603 747 3093 \n",
       "Q 1141 3584 1784 3584 \n",
       "Q 2172 3584 2450 3431 \n",
       "Q 2728 3278 2906 2969 \n",
       "L 2906 3500 \n",
       "L 3481 3500 \n",
       "L 3481 434 \n",
       "z\n",
       "\" id=\"DejaVuSans-67\" transform=\"scale(0.015625)\"/>\n",
       "        <path d=\"M 603 4863 \n",
       "L 1178 4863 \n",
       "L 1178 0 \n",
       "L 603 0 \n",
       "L 603 4863 \n",
       "z\n",
       "\" id=\"DejaVuSans-6c\" transform=\"scale(0.015625)\"/>\n",
       "       </defs>\n",
       "       <use xlink:href=\"#DejaVuSans-41\"/>\n",
       "       <use x=\"68.408203\" xlink:href=\"#DejaVuSans-6e\"/>\n",
       "       <use x=\"131.787109\" xlink:href=\"#DejaVuSans-67\"/>\n",
       "       <use x=\"195.263672\" xlink:href=\"#DejaVuSans-65\"/>\n",
       "       <use x=\"256.787109\" xlink:href=\"#DejaVuSans-6c\"/>\n",
       "       <use x=\"284.570312\" xlink:href=\"#DejaVuSans-61\"/>\n",
       "      </g>\n",
       "     </g>\n",
       "    </g>\n",
       "    <g id=\"ytick_7\">\n",
       "     <g id=\"line2d_25\">\n",
       "      <path clip-path=\"url(#p195c6b320d)\" d=\"M 80.318438 182.315582 \n",
       "L 415.118438 182.315582 \n",
       "\" style=\"fill:none;stroke:#ffffff;stroke-linecap:square;stroke-width:0.8;\"/>\n",
       "     </g>\n",
       "     <g id=\"line2d_26\">\n",
       "      <g>\n",
       "       <use style=\"fill:#555555;stroke:#555555;stroke-width:0.8;\" x=\"80.318438\" xlink:href=\"#m9be631b9a0\" y=\"182.315582\"/>\n",
       "      </g>\n",
       "     </g>\n",
       "     <g id=\"text_13\">\n",
       "      <!-- Owen -->\n",
       "      <g style=\"fill:#555555;\" transform=\"translate(44.777812 186.114801)scale(0.1 -0.1)\">\n",
       "       <defs>\n",
       "        <path d=\"M 2522 4238 \n",
       "Q 1834 4238 1429 3725 \n",
       "Q 1025 3213 1025 2328 \n",
       "Q 1025 1447 1429 934 \n",
       "Q 1834 422 2522 422 \n",
       "Q 3209 422 3611 934 \n",
       "Q 4013 1447 4013 2328 \n",
       "Q 4013 3213 3611 3725 \n",
       "Q 3209 4238 2522 4238 \n",
       "z\n",
       "M 2522 4750 \n",
       "Q 3503 4750 4090 4092 \n",
       "Q 4678 3434 4678 2328 \n",
       "Q 4678 1225 4090 567 \n",
       "Q 3503 -91 2522 -91 \n",
       "Q 1538 -91 948 565 \n",
       "Q 359 1222 359 2328 \n",
       "Q 359 3434 948 4092 \n",
       "Q 1538 4750 2522 4750 \n",
       "z\n",
       "\" id=\"DejaVuSans-4f\" transform=\"scale(0.015625)\"/>\n",
       "        <path d=\"M 269 3500 \n",
       "L 844 3500 \n",
       "L 1563 769 \n",
       "L 2278 3500 \n",
       "L 2956 3500 \n",
       "L 3675 769 \n",
       "L 4391 3500 \n",
       "L 4966 3500 \n",
       "L 4050 0 \n",
       "L 3372 0 \n",
       "L 2619 2869 \n",
       "L 1863 0 \n",
       "L 1184 0 \n",
       "L 269 3500 \n",
       "z\n",
       "\" id=\"DejaVuSans-77\" transform=\"scale(0.015625)\"/>\n",
       "       </defs>\n",
       "       <use xlink:href=\"#DejaVuSans-4f\"/>\n",
       "       <use x=\"78.710938\" xlink:href=\"#DejaVuSans-77\"/>\n",
       "       <use x=\"160.498047\" xlink:href=\"#DejaVuSans-65\"/>\n",
       "       <use x=\"222.021484\" xlink:href=\"#DejaVuSans-6e\"/>\n",
       "      </g>\n",
       "     </g>\n",
       "    </g>\n",
       "    <g id=\"ytick_8\">\n",
       "     <g id=\"line2d_27\">\n",
       "      <path clip-path=\"url(#p195c6b320d)\" d=\"M 80.318438 175.726491 \n",
       "L 415.118438 175.726491 \n",
       "\" style=\"fill:none;stroke:#ffffff;stroke-linecap:square;stroke-width:0.8;\"/>\n",
       "     </g>\n",
       "     <g id=\"line2d_28\">\n",
       "      <g>\n",
       "       <use style=\"fill:#555555;stroke:#555555;stroke-width:0.8;\" x=\"80.318438\" xlink:href=\"#m9be631b9a0\" y=\"175.726491\"/>\n",
       "      </g>\n",
       "     </g>\n",
       "     <g id=\"text_14\">\n",
       "      <!-- Daniel -->\n",
       "      <g style=\"fill:#555555;\" transform=\"translate(41.443438 179.52571)scale(0.1 -0.1)\">\n",
       "       <defs>\n",
       "        <path d=\"M 1259 4147 \n",
       "L 1259 519 \n",
       "L 2022 519 \n",
       "Q 2988 519 3436 956 \n",
       "Q 3884 1394 3884 2338 \n",
       "Q 3884 3275 3436 3711 \n",
       "Q 2988 4147 2022 4147 \n",
       "L 1259 4147 \n",
       "z\n",
       "M 628 4666 \n",
       "L 1925 4666 \n",
       "Q 3281 4666 3915 4102 \n",
       "Q 4550 3538 4550 2338 \n",
       "Q 4550 1131 3912 565 \n",
       "Q 3275 0 1925 0 \n",
       "L 628 0 \n",
       "L 628 4666 \n",
       "z\n",
       "\" id=\"DejaVuSans-44\" transform=\"scale(0.015625)\"/>\n",
       "       </defs>\n",
       "       <use xlink:href=\"#DejaVuSans-44\"/>\n",
       "       <use x=\"77.001953\" xlink:href=\"#DejaVuSans-61\"/>\n",
       "       <use x=\"138.28125\" xlink:href=\"#DejaVuSans-6e\"/>\n",
       "       <use x=\"201.660156\" xlink:href=\"#DejaVuSans-69\"/>\n",
       "       <use x=\"229.443359\" xlink:href=\"#DejaVuSans-65\"/>\n",
       "       <use x=\"290.966797\" xlink:href=\"#DejaVuSans-6c\"/>\n",
       "      </g>\n",
       "     </g>\n",
       "    </g>\n",
       "    <g id=\"ytick_9\">\n",
       "     <g id=\"line2d_29\">\n",
       "      <path clip-path=\"url(#p195c6b320d)\" d=\"M 80.318438 169.137401 \n",
       "L 415.118438 169.137401 \n",
       "\" style=\"fill:none;stroke:#ffffff;stroke-linecap:square;stroke-width:0.8;\"/>\n",
       "     </g>\n",
       "     <g id=\"line2d_30\">\n",
       "      <g>\n",
       "       <use style=\"fill:#555555;stroke:#555555;stroke-width:0.8;\" x=\"80.318438\" xlink:href=\"#m9be631b9a0\" y=\"169.137401\"/>\n",
       "      </g>\n",
       "     </g>\n",
       "     <g id=\"text_15\">\n",
       "      <!-- Stephanie -->\n",
       "      <g style=\"fill:#555555;\" transform=\"translate(22.81375 172.936619)scale(0.1 -0.1)\">\n",
       "       <defs>\n",
       "        <path d=\"M 3425 4513 \n",
       "L 3425 3897 \n",
       "Q 3066 4069 2747 4153 \n",
       "Q 2428 4238 2131 4238 \n",
       "Q 1616 4238 1336 4038 \n",
       "Q 1056 3838 1056 3469 \n",
       "Q 1056 3159 1242 3001 \n",
       "Q 1428 2844 1947 2747 \n",
       "L 2328 2669 \n",
       "Q 3034 2534 3370 2195 \n",
       "Q 3706 1856 3706 1288 \n",
       "Q 3706 609 3251 259 \n",
       "Q 2797 -91 1919 -91 \n",
       "Q 1588 -91 1214 -16 \n",
       "Q 841 59 441 206 \n",
       "L 441 856 \n",
       "Q 825 641 1194 531 \n",
       "Q 1563 422 1919 422 \n",
       "Q 2459 422 2753 634 \n",
       "Q 3047 847 3047 1241 \n",
       "Q 3047 1584 2836 1778 \n",
       "Q 2625 1972 2144 2069 \n",
       "L 1759 2144 \n",
       "Q 1053 2284 737 2584 \n",
       "Q 422 2884 422 3419 \n",
       "Q 422 4038 858 4394 \n",
       "Q 1294 4750 2059 4750 \n",
       "Q 2388 4750 2728 4690 \n",
       "Q 3069 4631 3425 4513 \n",
       "z\n",
       "\" id=\"DejaVuSans-53\" transform=\"scale(0.015625)\"/>\n",
       "        <path d=\"M 1172 4494 \n",
       "L 1172 3500 \n",
       "L 2356 3500 \n",
       "L 2356 3053 \n",
       "L 1172 3053 \n",
       "L 1172 1153 \n",
       "Q 1172 725 1289 603 \n",
       "Q 1406 481 1766 481 \n",
       "L 2356 481 \n",
       "L 2356 0 \n",
       "L 1766 0 \n",
       "Q 1100 0 847 248 \n",
       "Q 594 497 594 1153 \n",
       "L 594 3053 \n",
       "L 172 3053 \n",
       "L 172 3500 \n",
       "L 594 3500 \n",
       "L 594 4494 \n",
       "L 1172 4494 \n",
       "z\n",
       "\" id=\"DejaVuSans-74\" transform=\"scale(0.015625)\"/>\n",
       "        <path d=\"M 1159 525 \n",
       "L 1159 -1331 \n",
       "L 581 -1331 \n",
       "L 581 3500 \n",
       "L 1159 3500 \n",
       "L 1159 2969 \n",
       "Q 1341 3281 1617 3432 \n",
       "Q 1894 3584 2278 3584 \n",
       "Q 2916 3584 3314 3078 \n",
       "Q 3713 2572 3713 1747 \n",
       "Q 3713 922 3314 415 \n",
       "Q 2916 -91 2278 -91 \n",
       "Q 1894 -91 1617 61 \n",
       "Q 1341 213 1159 525 \n",
       "z\n",
       "M 3116 1747 \n",
       "Q 3116 2381 2855 2742 \n",
       "Q 2594 3103 2138 3103 \n",
       "Q 1681 3103 1420 2742 \n",
       "Q 1159 2381 1159 1747 \n",
       "Q 1159 1113 1420 752 \n",
       "Q 1681 391 2138 391 \n",
       "Q 2594 391 2855 752 \n",
       "Q 3116 1113 3116 1747 \n",
       "z\n",
       "\" id=\"DejaVuSans-70\" transform=\"scale(0.015625)\"/>\n",
       "        <path d=\"M 3513 2113 \n",
       "L 3513 0 \n",
       "L 2938 0 \n",
       "L 2938 2094 \n",
       "Q 2938 2591 2744 2837 \n",
       "Q 2550 3084 2163 3084 \n",
       "Q 1697 3084 1428 2787 \n",
       "Q 1159 2491 1159 1978 \n",
       "L 1159 0 \n",
       "L 581 0 \n",
       "L 581 4863 \n",
       "L 1159 4863 \n",
       "L 1159 2956 \n",
       "Q 1366 3272 1645 3428 \n",
       "Q 1925 3584 2291 3584 \n",
       "Q 2894 3584 3203 3211 \n",
       "Q 3513 2838 3513 2113 \n",
       "z\n",
       "\" id=\"DejaVuSans-68\" transform=\"scale(0.015625)\"/>\n",
       "       </defs>\n",
       "       <use xlink:href=\"#DejaVuSans-53\"/>\n",
       "       <use x=\"63.476562\" xlink:href=\"#DejaVuSans-74\"/>\n",
       "       <use x=\"102.685547\" xlink:href=\"#DejaVuSans-65\"/>\n",
       "       <use x=\"164.208984\" xlink:href=\"#DejaVuSans-70\"/>\n",
       "       <use x=\"227.685547\" xlink:href=\"#DejaVuSans-68\"/>\n",
       "       <use x=\"291.064453\" xlink:href=\"#DejaVuSans-61\"/>\n",
       "       <use x=\"352.34375\" xlink:href=\"#DejaVuSans-6e\"/>\n",
       "       <use x=\"415.722656\" xlink:href=\"#DejaVuSans-69\"/>\n",
       "       <use x=\"443.505859\" xlink:href=\"#DejaVuSans-65\"/>\n",
       "      </g>\n",
       "     </g>\n",
       "    </g>\n",
       "    <g id=\"ytick_10\">\n",
       "     <g id=\"line2d_31\">\n",
       "      <path clip-path=\"url(#p195c6b320d)\" d=\"M 80.318438 162.54831 \n",
       "L 415.118438 162.54831 \n",
       "\" style=\"fill:none;stroke:#ffffff;stroke-linecap:square;stroke-width:0.8;\"/>\n",
       "     </g>\n",
       "     <g id=\"line2d_32\">\n",
       "      <g>\n",
       "       <use style=\"fill:#555555;stroke:#555555;stroke-width:0.8;\" x=\"80.318438\" xlink:href=\"#m9be631b9a0\" y=\"162.54831\"/>\n",
       "      </g>\n",
       "     </g>\n",
       "     <g id=\"text_16\">\n",
       "      <!-- Jessica -->\n",
       "      <g style=\"fill:#555555;\" transform=\"translate(39.391875 166.347528)scale(0.1 -0.1)\">\n",
       "       <defs>\n",
       "        <path d=\"M 2834 3397 \n",
       "L 2834 2853 \n",
       "Q 2591 2978 2328 3040 \n",
       "Q 2066 3103 1784 3103 \n",
       "Q 1356 3103 1142 2972 \n",
       "Q 928 2841 928 2578 \n",
       "Q 928 2378 1081 2264 \n",
       "Q 1234 2150 1697 2047 \n",
       "L 1894 2003 \n",
       "Q 2506 1872 2764 1633 \n",
       "Q 3022 1394 3022 966 \n",
       "Q 3022 478 2636 193 \n",
       "Q 2250 -91 1575 -91 \n",
       "Q 1294 -91 989 -36 \n",
       "Q 684 19 347 128 \n",
       "L 347 722 \n",
       "Q 666 556 975 473 \n",
       "Q 1284 391 1588 391 \n",
       "Q 1994 391 2212 530 \n",
       "Q 2431 669 2431 922 \n",
       "Q 2431 1156 2273 1281 \n",
       "Q 2116 1406 1581 1522 \n",
       "L 1381 1569 \n",
       "Q 847 1681 609 1914 \n",
       "Q 372 2147 372 2553 \n",
       "Q 372 3047 722 3315 \n",
       "Q 1072 3584 1716 3584 \n",
       "Q 2034 3584 2315 3537 \n",
       "Q 2597 3491 2834 3397 \n",
       "z\n",
       "\" id=\"DejaVuSans-73\" transform=\"scale(0.015625)\"/>\n",
       "       </defs>\n",
       "       <use xlink:href=\"#DejaVuSans-4a\"/>\n",
       "       <use x=\"29.492188\" xlink:href=\"#DejaVuSans-65\"/>\n",
       "       <use x=\"91.015625\" xlink:href=\"#DejaVuSans-73\"/>\n",
       "       <use x=\"143.115234\" xlink:href=\"#DejaVuSans-73\"/>\n",
       "       <use x=\"195.214844\" xlink:href=\"#DejaVuSans-69\"/>\n",
       "       <use x=\"222.998047\" xlink:href=\"#DejaVuSans-63\"/>\n",
       "       <use x=\"277.978516\" xlink:href=\"#DejaVuSans-61\"/>\n",
       "      </g>\n",
       "     </g>\n",
       "    </g>\n",
       "    <g id=\"ytick_11\">\n",
       "     <g id=\"line2d_33\">\n",
       "      <path clip-path=\"url(#p195c6b320d)\" d=\"M 80.318438 155.959219 \n",
       "L 415.118438 155.959219 \n",
       "\" style=\"fill:none;stroke:#ffffff;stroke-linecap:square;stroke-width:0.8;\"/>\n",
       "     </g>\n",
       "     <g id=\"line2d_34\">\n",
       "      <g>\n",
       "       <use style=\"fill:#555555;stroke:#555555;stroke-width:0.8;\" x=\"80.318438\" xlink:href=\"#m9be631b9a0\" y=\"155.959219\"/>\n",
       "      </g>\n",
       "     </g>\n",
       "     <g id=\"text_17\">\n",
       "      <!-- Dhruv -->\n",
       "      <g style=\"fill:#555555;\" transform=\"translate(42.91375 159.758437)scale(0.1 -0.1)\">\n",
       "       <use xlink:href=\"#DejaVuSans-44\"/>\n",
       "       <use x=\"77.001953\" xlink:href=\"#DejaVuSans-68\"/>\n",
       "       <use x=\"140.380859\" xlink:href=\"#DejaVuSans-72\"/>\n",
       "       <use x=\"181.494141\" xlink:href=\"#DejaVuSans-75\"/>\n",
       "       <use x=\"244.873047\" xlink:href=\"#DejaVuSans-76\"/>\n",
       "      </g>\n",
       "     </g>\n",
       "    </g>\n",
       "    <g id=\"ytick_12\">\n",
       "     <g id=\"line2d_35\">\n",
       "      <path clip-path=\"url(#p195c6b320d)\" d=\"M 80.318438 149.370128 \n",
       "L 415.118438 149.370128 \n",
       "\" style=\"fill:none;stroke:#ffffff;stroke-linecap:square;stroke-width:0.8;\"/>\n",
       "     </g>\n",
       "     <g id=\"line2d_36\">\n",
       "      <g>\n",
       "       <use style=\"fill:#555555;stroke:#555555;stroke-width:0.8;\" x=\"80.318438\" xlink:href=\"#m9be631b9a0\" y=\"149.370128\"/>\n",
       "      </g>\n",
       "     </g>\n",
       "     <g id=\"text_18\">\n",
       "      <!-- Timothy -->\n",
       "      <g style=\"fill:#555555;\" transform=\"translate(32.709063 153.169347)scale(0.1 -0.1)\">\n",
       "       <defs>\n",
       "        <path d=\"M -19 4666 \n",
       "L 3928 4666 \n",
       "L 3928 4134 \n",
       "L 2272 4134 \n",
       "L 2272 0 \n",
       "L 1638 0 \n",
       "L 1638 4134 \n",
       "L -19 4134 \n",
       "L -19 4666 \n",
       "z\n",
       "\" id=\"DejaVuSans-54\" transform=\"scale(0.015625)\"/>\n",
       "        <path d=\"M 3328 2828 \n",
       "Q 3544 3216 3844 3400 \n",
       "Q 4144 3584 4550 3584 \n",
       "Q 5097 3584 5394 3201 \n",
       "Q 5691 2819 5691 2113 \n",
       "L 5691 0 \n",
       "L 5113 0 \n",
       "L 5113 2094 \n",
       "Q 5113 2597 4934 2840 \n",
       "Q 4756 3084 4391 3084 \n",
       "Q 3944 3084 3684 2787 \n",
       "Q 3425 2491 3425 1978 \n",
       "L 3425 0 \n",
       "L 2847 0 \n",
       "L 2847 2094 \n",
       "Q 2847 2600 2669 2842 \n",
       "Q 2491 3084 2119 3084 \n",
       "Q 1678 3084 1418 2786 \n",
       "Q 1159 2488 1159 1978 \n",
       "L 1159 0 \n",
       "L 581 0 \n",
       "L 581 3500 \n",
       "L 1159 3500 \n",
       "L 1159 2956 \n",
       "Q 1356 3278 1631 3431 \n",
       "Q 1906 3584 2284 3584 \n",
       "Q 2666 3584 2933 3390 \n",
       "Q 3200 3197 3328 2828 \n",
       "z\n",
       "\" id=\"DejaVuSans-6d\" transform=\"scale(0.015625)\"/>\n",
       "       </defs>\n",
       "       <use xlink:href=\"#DejaVuSans-54\"/>\n",
       "       <use x=\"57.958984\" xlink:href=\"#DejaVuSans-69\"/>\n",
       "       <use x=\"85.742188\" xlink:href=\"#DejaVuSans-6d\"/>\n",
       "       <use x=\"183.154297\" xlink:href=\"#DejaVuSans-6f\"/>\n",
       "       <use x=\"244.335938\" xlink:href=\"#DejaVuSans-74\"/>\n",
       "       <use x=\"283.544922\" xlink:href=\"#DejaVuSans-68\"/>\n",
       "       <use x=\"346.923828\" xlink:href=\"#DejaVuSans-79\"/>\n",
       "      </g>\n",
       "     </g>\n",
       "    </g>\n",
       "    <g id=\"ytick_13\">\n",
       "     <g id=\"line2d_37\">\n",
       "      <path clip-path=\"url(#p195c6b320d)\" d=\"M 80.318438 142.781037 \n",
       "L 415.118438 142.781037 \n",
       "\" style=\"fill:none;stroke:#ffffff;stroke-linecap:square;stroke-width:0.8;\"/>\n",
       "     </g>\n",
       "     <g id=\"line2d_38\">\n",
       "      <g>\n",
       "       <use style=\"fill:#555555;stroke:#555555;stroke-width:0.8;\" x=\"80.318438\" xlink:href=\"#m9be631b9a0\" y=\"142.781037\"/>\n",
       "      </g>\n",
       "     </g>\n",
       "     <g id=\"text_19\">\n",
       "      <!-- Pranav -->\n",
       "      <g style=\"fill:#555555;\" transform=\"translate(38.840313 146.580256)scale(0.1 -0.1)\">\n",
       "       <defs>\n",
       "        <path d=\"M 1259 4147 \n",
       "L 1259 2394 \n",
       "L 2053 2394 \n",
       "Q 2494 2394 2734 2622 \n",
       "Q 2975 2850 2975 3272 \n",
       "Q 2975 3691 2734 3919 \n",
       "Q 2494 4147 2053 4147 \n",
       "L 1259 4147 \n",
       "z\n",
       "M 628 4666 \n",
       "L 2053 4666 \n",
       "Q 2838 4666 3239 4311 \n",
       "Q 3641 3956 3641 3272 \n",
       "Q 3641 2581 3239 2228 \n",
       "Q 2838 1875 2053 1875 \n",
       "L 1259 1875 \n",
       "L 1259 0 \n",
       "L 628 0 \n",
       "L 628 4666 \n",
       "z\n",
       "\" id=\"DejaVuSans-50\" transform=\"scale(0.015625)\"/>\n",
       "       </defs>\n",
       "       <use xlink:href=\"#DejaVuSans-50\"/>\n",
       "       <use x=\"58.552734\" xlink:href=\"#DejaVuSans-72\"/>\n",
       "       <use x=\"99.666016\" xlink:href=\"#DejaVuSans-61\"/>\n",
       "       <use x=\"160.945312\" xlink:href=\"#DejaVuSans-6e\"/>\n",
       "       <use x=\"224.324219\" xlink:href=\"#DejaVuSans-61\"/>\n",
       "       <use x=\"285.603516\" xlink:href=\"#DejaVuSans-76\"/>\n",
       "      </g>\n",
       "     </g>\n",
       "    </g>\n",
       "    <g id=\"ytick_14\">\n",
       "     <g id=\"line2d_39\">\n",
       "      <path clip-path=\"url(#p195c6b320d)\" d=\"M 80.318438 136.191946 \n",
       "L 415.118438 136.191946 \n",
       "\" style=\"fill:none;stroke:#ffffff;stroke-linecap:square;stroke-width:0.8;\"/>\n",
       "     </g>\n",
       "     <g id=\"line2d_40\">\n",
       "      <g>\n",
       "       <use style=\"fill:#555555;stroke:#555555;stroke-width:0.8;\" x=\"80.318438\" xlink:href=\"#m9be631b9a0\" y=\"136.191946\"/>\n",
       "      </g>\n",
       "     </g>\n",
       "     <g id=\"text_20\">\n",
       "      <!-- Jiarui -->\n",
       "      <g style=\"fill:#555555;\" transform=\"translate(48.235625 139.991165)scale(0.1 -0.1)\">\n",
       "       <use xlink:href=\"#DejaVuSans-4a\"/>\n",
       "       <use x=\"29.492188\" xlink:href=\"#DejaVuSans-69\"/>\n",
       "       <use x=\"57.275391\" xlink:href=\"#DejaVuSans-61\"/>\n",
       "       <use x=\"118.554688\" xlink:href=\"#DejaVuSans-72\"/>\n",
       "       <use x=\"159.667969\" xlink:href=\"#DejaVuSans-75\"/>\n",
       "       <use x=\"223.046875\" xlink:href=\"#DejaVuSans-69\"/>\n",
       "      </g>\n",
       "     </g>\n",
       "    </g>\n",
       "    <g id=\"ytick_15\">\n",
       "     <g id=\"line2d_41\">\n",
       "      <path clip-path=\"url(#p195c6b320d)\" d=\"M 80.318438 129.602855 \n",
       "L 415.118438 129.602855 \n",
       "\" style=\"fill:none;stroke:#ffffff;stroke-linecap:square;stroke-width:0.8;\"/>\n",
       "     </g>\n",
       "     <g id=\"line2d_42\">\n",
       "      <g>\n",
       "       <use style=\"fill:#555555;stroke:#555555;stroke-width:0.8;\" x=\"80.318438\" xlink:href=\"#m9be631b9a0\" y=\"129.602855\"/>\n",
       "      </g>\n",
       "     </g>\n",
       "     <g id=\"text_21\">\n",
       "      <!-- David -->\n",
       "      <g style=\"fill:#555555;\" transform=\"translate(44.445 133.402074)scale(0.1 -0.1)\">\n",
       "       <use xlink:href=\"#DejaVuSans-44\"/>\n",
       "       <use x=\"77.001953\" xlink:href=\"#DejaVuSans-61\"/>\n",
       "       <use x=\"138.28125\" xlink:href=\"#DejaVuSans-76\"/>\n",
       "       <use x=\"197.460938\" xlink:href=\"#DejaVuSans-69\"/>\n",
       "       <use x=\"225.244141\" xlink:href=\"#DejaVuSans-64\"/>\n",
       "      </g>\n",
       "     </g>\n",
       "    </g>\n",
       "    <g id=\"ytick_16\">\n",
       "     <g id=\"line2d_43\">\n",
       "      <path clip-path=\"url(#p195c6b320d)\" d=\"M 80.318438 123.013764 \n",
       "L 415.118438 123.013764 \n",
       "\" style=\"fill:none;stroke:#ffffff;stroke-linecap:square;stroke-width:0.8;\"/>\n",
       "     </g>\n",
       "     <g id=\"line2d_44\">\n",
       "      <g>\n",
       "       <use style=\"fill:#555555;stroke:#555555;stroke-width:0.8;\" x=\"80.318438\" xlink:href=\"#m9be631b9a0\" y=\"123.013764\"/>\n",
       "      </g>\n",
       "     </g>\n",
       "     <g id=\"text_22\">\n",
       "      <!-- Emily -->\n",
       "      <g style=\"fill:#555555;\" transform=\"translate(45.784063 126.812983)scale(0.1 -0.1)\">\n",
       "       <defs>\n",
       "        <path d=\"M 628 4666 \n",
       "L 3578 4666 \n",
       "L 3578 4134 \n",
       "L 1259 4134 \n",
       "L 1259 2753 \n",
       "L 3481 2753 \n",
       "L 3481 2222 \n",
       "L 1259 2222 \n",
       "L 1259 531 \n",
       "L 3634 531 \n",
       "L 3634 0 \n",
       "L 628 0 \n",
       "L 628 4666 \n",
       "z\n",
       "\" id=\"DejaVuSans-45\" transform=\"scale(0.015625)\"/>\n",
       "       </defs>\n",
       "       <use xlink:href=\"#DejaVuSans-45\"/>\n",
       "       <use x=\"63.183594\" xlink:href=\"#DejaVuSans-6d\"/>\n",
       "       <use x=\"160.595703\" xlink:href=\"#DejaVuSans-69\"/>\n",
       "       <use x=\"188.378906\" xlink:href=\"#DejaVuSans-6c\"/>\n",
       "       <use x=\"216.162109\" xlink:href=\"#DejaVuSans-79\"/>\n",
       "      </g>\n",
       "     </g>\n",
       "    </g>\n",
       "    <g id=\"ytick_17\">\n",
       "     <g id=\"line2d_45\">\n",
       "      <path clip-path=\"url(#p195c6b320d)\" d=\"M 80.318438 116.424673 \n",
       "L 415.118438 116.424673 \n",
       "\" style=\"fill:none;stroke:#ffffff;stroke-linecap:square;stroke-width:0.8;\"/>\n",
       "     </g>\n",
       "     <g id=\"line2d_46\">\n",
       "      <g>\n",
       "       <use style=\"fill:#555555;stroke:#555555;stroke-width:0.8;\" x=\"80.318438\" xlink:href=\"#m9be631b9a0\" y=\"116.424673\"/>\n",
       "      </g>\n",
       "     </g>\n",
       "     <g id=\"text_23\">\n",
       "      <!-- Luke -->\n",
       "      <g style=\"fill:#555555;\" transform=\"translate(50.002813 120.223892)scale(0.1 -0.1)\">\n",
       "       <defs>\n",
       "        <path d=\"M 581 4863 \n",
       "L 1159 4863 \n",
       "L 1159 1991 \n",
       "L 2875 3500 \n",
       "L 3609 3500 \n",
       "L 1753 1863 \n",
       "L 3688 0 \n",
       "L 2938 0 \n",
       "L 1159 1709 \n",
       "L 1159 0 \n",
       "L 581 0 \n",
       "L 581 4863 \n",
       "z\n",
       "\" id=\"DejaVuSans-6b\" transform=\"scale(0.015625)\"/>\n",
       "       </defs>\n",
       "       <use xlink:href=\"#DejaVuSans-4c\"/>\n",
       "       <use x=\"53.962891\" xlink:href=\"#DejaVuSans-75\"/>\n",
       "       <use x=\"117.341797\" xlink:href=\"#DejaVuSans-6b\"/>\n",
       "       <use x=\"171.626953\" xlink:href=\"#DejaVuSans-65\"/>\n",
       "      </g>\n",
       "     </g>\n",
       "    </g>\n",
       "    <g id=\"ytick_18\">\n",
       "     <g id=\"line2d_47\">\n",
       "      <path clip-path=\"url(#p195c6b320d)\" d=\"M 80.318438 109.835582 \n",
       "L 415.118438 109.835582 \n",
       "\" style=\"fill:none;stroke:#ffffff;stroke-linecap:square;stroke-width:0.8;\"/>\n",
       "     </g>\n",
       "     <g id=\"line2d_48\">\n",
       "      <g>\n",
       "       <use style=\"fill:#555555;stroke:#555555;stroke-width:0.8;\" x=\"80.318438\" xlink:href=\"#m9be631b9a0\" y=\"109.835582\"/>\n",
       "      </g>\n",
       "     </g>\n",
       "     <g id=\"text_24\">\n",
       "      <!-- Danny -->\n",
       "      <g style=\"fill:#555555;\" transform=\"translate(40.896563 113.634801)scale(0.1 -0.1)\">\n",
       "       <use xlink:href=\"#DejaVuSans-44\"/>\n",
       "       <use x=\"77.001953\" xlink:href=\"#DejaVuSans-61\"/>\n",
       "       <use x=\"138.28125\" xlink:href=\"#DejaVuSans-6e\"/>\n",
       "       <use x=\"201.660156\" xlink:href=\"#DejaVuSans-6e\"/>\n",
       "       <use x=\"265.039062\" xlink:href=\"#DejaVuSans-79\"/>\n",
       "      </g>\n",
       "     </g>\n",
       "    </g>\n",
       "    <g id=\"ytick_19\">\n",
       "     <g id=\"line2d_49\">\n",
       "      <path clip-path=\"url(#p195c6b320d)\" d=\"M 80.318438 103.246491 \n",
       "L 415.118438 103.246491 \n",
       "\" style=\"fill:none;stroke:#ffffff;stroke-linecap:square;stroke-width:0.8;\"/>\n",
       "     </g>\n",
       "     <g id=\"line2d_50\">\n",
       "      <g>\n",
       "       <use style=\"fill:#555555;stroke:#555555;stroke-width:0.8;\" x=\"80.318438\" xlink:href=\"#m9be631b9a0\" y=\"103.246491\"/>\n",
       "      </g>\n",
       "     </g>\n",
       "     <g id=\"text_25\">\n",
       "      <!-- Caleb -->\n",
       "      <g style=\"fill:#555555;\" transform=\"translate(44.927813 107.04571)scale(0.1 -0.1)\">\n",
       "       <defs>\n",
       "        <path d=\"M 4122 4306 \n",
       "L 4122 3641 \n",
       "Q 3803 3938 3442 4084 \n",
       "Q 3081 4231 2675 4231 \n",
       "Q 1875 4231 1450 3742 \n",
       "Q 1025 3253 1025 2328 \n",
       "Q 1025 1406 1450 917 \n",
       "Q 1875 428 2675 428 \n",
       "Q 3081 428 3442 575 \n",
       "Q 3803 722 4122 1019 \n",
       "L 4122 359 \n",
       "Q 3791 134 3420 21 \n",
       "Q 3050 -91 2638 -91 \n",
       "Q 1578 -91 968 557 \n",
       "Q 359 1206 359 2328 \n",
       "Q 359 3453 968 4101 \n",
       "Q 1578 4750 2638 4750 \n",
       "Q 3056 4750 3426 4639 \n",
       "Q 3797 4528 4122 4306 \n",
       "z\n",
       "\" id=\"DejaVuSans-43\" transform=\"scale(0.015625)\"/>\n",
       "        <path d=\"M 3116 1747 \n",
       "Q 3116 2381 2855 2742 \n",
       "Q 2594 3103 2138 3103 \n",
       "Q 1681 3103 1420 2742 \n",
       "Q 1159 2381 1159 1747 \n",
       "Q 1159 1113 1420 752 \n",
       "Q 1681 391 2138 391 \n",
       "Q 2594 391 2855 752 \n",
       "Q 3116 1113 3116 1747 \n",
       "z\n",
       "M 1159 2969 \n",
       "Q 1341 3281 1617 3432 \n",
       "Q 1894 3584 2278 3584 \n",
       "Q 2916 3584 3314 3078 \n",
       "Q 3713 2572 3713 1747 \n",
       "Q 3713 922 3314 415 \n",
       "Q 2916 -91 2278 -91 \n",
       "Q 1894 -91 1617 61 \n",
       "Q 1341 213 1159 525 \n",
       "L 1159 0 \n",
       "L 581 0 \n",
       "L 581 4863 \n",
       "L 1159 4863 \n",
       "L 1159 2969 \n",
       "z\n",
       "\" id=\"DejaVuSans-62\" transform=\"scale(0.015625)\"/>\n",
       "       </defs>\n",
       "       <use xlink:href=\"#DejaVuSans-43\"/>\n",
       "       <use x=\"69.824219\" xlink:href=\"#DejaVuSans-61\"/>\n",
       "       <use x=\"131.103516\" xlink:href=\"#DejaVuSans-6c\"/>\n",
       "       <use x=\"158.886719\" xlink:href=\"#DejaVuSans-65\"/>\n",
       "       <use x=\"220.410156\" xlink:href=\"#DejaVuSans-62\"/>\n",
       "      </g>\n",
       "     </g>\n",
       "    </g>\n",
       "    <g id=\"ytick_20\">\n",
       "     <g id=\"line2d_51\">\n",
       "      <path clip-path=\"url(#p195c6b320d)\" d=\"M 80.318438 96.657401 \n",
       "L 415.118438 96.657401 \n",
       "\" style=\"fill:none;stroke:#ffffff;stroke-linecap:square;stroke-width:0.8;\"/>\n",
       "     </g>\n",
       "     <g id=\"line2d_52\">\n",
       "      <g>\n",
       "       <use style=\"fill:#555555;stroke:#555555;stroke-width:0.8;\" x=\"80.318438\" xlink:href=\"#m9be631b9a0\" y=\"96.657401\"/>\n",
       "      </g>\n",
       "     </g>\n",
       "     <g id=\"text_26\">\n",
       "      <!-- Raymond -->\n",
       "      <g style=\"fill:#555555;\" transform=\"translate(26.002812 100.456619)scale(0.1 -0.1)\">\n",
       "       <defs>\n",
       "        <path d=\"M 2841 2188 \n",
       "Q 3044 2119 3236 1894 \n",
       "Q 3428 1669 3622 1275 \n",
       "L 4263 0 \n",
       "L 3584 0 \n",
       "L 2988 1197 \n",
       "Q 2756 1666 2539 1819 \n",
       "Q 2322 1972 1947 1972 \n",
       "L 1259 1972 \n",
       "L 1259 0 \n",
       "L 628 0 \n",
       "L 628 4666 \n",
       "L 2053 4666 \n",
       "Q 2853 4666 3247 4331 \n",
       "Q 3641 3997 3641 3322 \n",
       "Q 3641 2881 3436 2590 \n",
       "Q 3231 2300 2841 2188 \n",
       "z\n",
       "M 1259 4147 \n",
       "L 1259 2491 \n",
       "L 2053 2491 \n",
       "Q 2509 2491 2742 2702 \n",
       "Q 2975 2913 2975 3322 \n",
       "Q 2975 3731 2742 3939 \n",
       "Q 2509 4147 2053 4147 \n",
       "L 1259 4147 \n",
       "z\n",
       "\" id=\"DejaVuSans-52\" transform=\"scale(0.015625)\"/>\n",
       "       </defs>\n",
       "       <use xlink:href=\"#DejaVuSans-52\"/>\n",
       "       <use x=\"67.232422\" xlink:href=\"#DejaVuSans-61\"/>\n",
       "       <use x=\"128.511719\" xlink:href=\"#DejaVuSans-79\"/>\n",
       "       <use x=\"187.691406\" xlink:href=\"#DejaVuSans-6d\"/>\n",
       "       <use x=\"285.103516\" xlink:href=\"#DejaVuSans-6f\"/>\n",
       "       <use x=\"346.285156\" xlink:href=\"#DejaVuSans-6e\"/>\n",
       "       <use x=\"409.664062\" xlink:href=\"#DejaVuSans-64\"/>\n",
       "      </g>\n",
       "     </g>\n",
       "    </g>\n",
       "    <g id=\"ytick_21\">\n",
       "     <g id=\"line2d_53\">\n",
       "      <path clip-path=\"url(#p195c6b320d)\" d=\"M 80.318438 90.06831 \n",
       "L 415.118438 90.06831 \n",
       "\" style=\"fill:none;stroke:#ffffff;stroke-linecap:square;stroke-width:0.8;\"/>\n",
       "     </g>\n",
       "     <g id=\"line2d_54\">\n",
       "      <g>\n",
       "       <use style=\"fill:#555555;stroke:#555555;stroke-width:0.8;\" x=\"80.318438\" xlink:href=\"#m9be631b9a0\" y=\"90.06831\"/>\n",
       "      </g>\n",
       "     </g>\n",
       "     <g id=\"text_27\">\n",
       "      <!-- Connor -->\n",
       "      <g style=\"fill:#555555;\" transform=\"translate(37.312188 93.867528)scale(0.1 -0.1)\">\n",
       "       <use xlink:href=\"#DejaVuSans-43\"/>\n",
       "       <use x=\"69.824219\" xlink:href=\"#DejaVuSans-6f\"/>\n",
       "       <use x=\"131.005859\" xlink:href=\"#DejaVuSans-6e\"/>\n",
       "       <use x=\"194.384766\" xlink:href=\"#DejaVuSans-6e\"/>\n",
       "       <use x=\"257.763672\" xlink:href=\"#DejaVuSans-6f\"/>\n",
       "       <use x=\"318.945312\" xlink:href=\"#DejaVuSans-72\"/>\n",
       "      </g>\n",
       "     </g>\n",
       "    </g>\n",
       "    <g id=\"ytick_22\">\n",
       "     <g id=\"line2d_55\">\n",
       "      <path clip-path=\"url(#p195c6b320d)\" d=\"M 80.318438 83.479219 \n",
       "L 415.118438 83.479219 \n",
       "\" style=\"fill:none;stroke:#ffffff;stroke-linecap:square;stroke-width:0.8;\"/>\n",
       "     </g>\n",
       "     <g id=\"line2d_56\">\n",
       "      <g>\n",
       "       <use style=\"fill:#555555;stroke:#555555;stroke-width:0.8;\" x=\"80.318438\" xlink:href=\"#m9be631b9a0\" y=\"83.479219\"/>\n",
       "      </g>\n",
       "     </g>\n",
       "     <g id=\"text_28\">\n",
       "      <!-- Jimmy -->\n",
       "      <g style=\"fill:#555555;\" transform=\"translate(42.190313 87.278437)scale(0.1 -0.1)\">\n",
       "       <use xlink:href=\"#DejaVuSans-4a\"/>\n",
       "       <use x=\"29.492188\" xlink:href=\"#DejaVuSans-69\"/>\n",
       "       <use x=\"57.275391\" xlink:href=\"#DejaVuSans-6d\"/>\n",
       "       <use x=\"154.6875\" xlink:href=\"#DejaVuSans-6d\"/>\n",
       "       <use x=\"252.099609\" xlink:href=\"#DejaVuSans-79\"/>\n",
       "      </g>\n",
       "     </g>\n",
       "    </g>\n",
       "    <g id=\"ytick_23\">\n",
       "     <g id=\"line2d_57\">\n",
       "      <path clip-path=\"url(#p195c6b320d)\" d=\"M 80.318438 76.890128 \n",
       "L 415.118438 76.890128 \n",
       "\" style=\"fill:none;stroke:#ffffff;stroke-linecap:square;stroke-width:0.8;\"/>\n",
       "     </g>\n",
       "     <g id=\"line2d_58\">\n",
       "      <g>\n",
       "       <use style=\"fill:#555555;stroke:#555555;stroke-width:0.8;\" x=\"80.318438\" xlink:href=\"#m9be631b9a0\" y=\"76.890128\"/>\n",
       "      </g>\n",
       "     </g>\n",
       "     <g id=\"text_29\">\n",
       "      <!-- Nathan -->\n",
       "      <g style=\"fill:#555555;\" transform=\"translate(36.985625 80.689347)scale(0.1 -0.1)\">\n",
       "       <defs>\n",
       "        <path d=\"M 628 4666 \n",
       "L 1478 4666 \n",
       "L 3547 763 \n",
       "L 3547 4666 \n",
       "L 4159 4666 \n",
       "L 4159 0 \n",
       "L 3309 0 \n",
       "L 1241 3903 \n",
       "L 1241 0 \n",
       "L 628 0 \n",
       "L 628 4666 \n",
       "z\n",
       "\" id=\"DejaVuSans-4e\" transform=\"scale(0.015625)\"/>\n",
       "       </defs>\n",
       "       <use xlink:href=\"#DejaVuSans-4e\"/>\n",
       "       <use x=\"74.804688\" xlink:href=\"#DejaVuSans-61\"/>\n",
       "       <use x=\"136.083984\" xlink:href=\"#DejaVuSans-74\"/>\n",
       "       <use x=\"175.292969\" xlink:href=\"#DejaVuSans-68\"/>\n",
       "       <use x=\"238.671875\" xlink:href=\"#DejaVuSans-61\"/>\n",
       "       <use x=\"299.951172\" xlink:href=\"#DejaVuSans-6e\"/>\n",
       "      </g>\n",
       "     </g>\n",
       "    </g>\n",
       "    <g id=\"ytick_24\">\n",
       "     <g id=\"line2d_59\">\n",
       "      <path clip-path=\"url(#p195c6b320d)\" d=\"M 80.318438 70.301037 \n",
       "L 415.118438 70.301037 \n",
       "\" style=\"fill:none;stroke:#ffffff;stroke-linecap:square;stroke-width:0.8;\"/>\n",
       "     </g>\n",
       "     <g id=\"line2d_60\">\n",
       "      <g>\n",
       "       <use style=\"fill:#555555;stroke:#555555;stroke-width:0.8;\" x=\"80.318438\" xlink:href=\"#m9be631b9a0\" y=\"70.301037\"/>\n",
       "      </g>\n",
       "     </g>\n",
       "     <g id=\"text_30\">\n",
       "      <!-- Matthew -->\n",
       "      <g style=\"fill:#555555;\" transform=\"translate(30.052813 74.100256)scale(0.1 -0.1)\">\n",
       "       <defs>\n",
       "        <path d=\"M 628 4666 \n",
       "L 1569 4666 \n",
       "L 2759 1491 \n",
       "L 3956 4666 \n",
       "L 4897 4666 \n",
       "L 4897 0 \n",
       "L 4281 0 \n",
       "L 4281 4097 \n",
       "L 3078 897 \n",
       "L 2444 897 \n",
       "L 1241 4097 \n",
       "L 1241 0 \n",
       "L 628 0 \n",
       "L 628 4666 \n",
       "z\n",
       "\" id=\"DejaVuSans-4d\" transform=\"scale(0.015625)\"/>\n",
       "       </defs>\n",
       "       <use xlink:href=\"#DejaVuSans-4d\"/>\n",
       "       <use x=\"86.279297\" xlink:href=\"#DejaVuSans-61\"/>\n",
       "       <use x=\"147.558594\" xlink:href=\"#DejaVuSans-74\"/>\n",
       "       <use x=\"186.767578\" xlink:href=\"#DejaVuSans-74\"/>\n",
       "       <use x=\"225.976562\" xlink:href=\"#DejaVuSans-68\"/>\n",
       "       <use x=\"289.355469\" xlink:href=\"#DejaVuSans-65\"/>\n",
       "       <use x=\"350.878906\" xlink:href=\"#DejaVuSans-77\"/>\n",
       "      </g>\n",
       "     </g>\n",
       "    </g>\n",
       "    <g id=\"ytick_25\">\n",
       "     <g id=\"line2d_61\">\n",
       "      <path clip-path=\"url(#p195c6b320d)\" d=\"M 80.318438 63.711946 \n",
       "L 415.118438 63.711946 \n",
       "\" style=\"fill:none;stroke:#ffffff;stroke-linecap:square;stroke-width:0.8;\"/>\n",
       "     </g>\n",
       "     <g id=\"line2d_62\">\n",
       "      <g>\n",
       "       <use style=\"fill:#555555;stroke:#555555;stroke-width:0.8;\" x=\"80.318438\" xlink:href=\"#m9be631b9a0\" y=\"63.711946\"/>\n",
       "      </g>\n",
       "     </g>\n",
       "     <g id=\"text_31\">\n",
       "      <!-- Andy -->\n",
       "      <g style=\"fill:#555555;\" transform=\"translate(47.873125 67.511165)scale(0.1 -0.1)\">\n",
       "       <use xlink:href=\"#DejaVuSans-41\"/>\n",
       "       <use x=\"68.408203\" xlink:href=\"#DejaVuSans-6e\"/>\n",
       "       <use x=\"131.787109\" xlink:href=\"#DejaVuSans-64\"/>\n",
       "       <use x=\"195.263672\" xlink:href=\"#DejaVuSans-79\"/>\n",
       "      </g>\n",
       "     </g>\n",
       "    </g>\n",
       "    <g id=\"ytick_26\">\n",
       "     <g id=\"line2d_63\">\n",
       "      <path clip-path=\"url(#p195c6b320d)\" d=\"M 80.318438 57.122855 \n",
       "L 415.118438 57.122855 \n",
       "\" style=\"fill:none;stroke:#ffffff;stroke-linecap:square;stroke-width:0.8;\"/>\n",
       "     </g>\n",
       "     <g id=\"line2d_64\">\n",
       "      <g>\n",
       "       <use style=\"fill:#555555;stroke:#555555;stroke-width:0.8;\" x=\"80.318438\" xlink:href=\"#m9be631b9a0\" y=\"57.122855\"/>\n",
       "      </g>\n",
       "     </g>\n",
       "     <g id=\"text_32\">\n",
       "      <!-- Justin -->\n",
       "      <g style=\"fill:#555555;\" transform=\"translate(45.785625 60.922074)scale(0.1 -0.1)\">\n",
       "       <use xlink:href=\"#DejaVuSans-4a\"/>\n",
       "       <use x=\"29.492188\" xlink:href=\"#DejaVuSans-75\"/>\n",
       "       <use x=\"92.871094\" xlink:href=\"#DejaVuSans-73\"/>\n",
       "       <use x=\"144.970703\" xlink:href=\"#DejaVuSans-74\"/>\n",
       "       <use x=\"184.179688\" xlink:href=\"#DejaVuSans-69\"/>\n",
       "       <use x=\"211.962891\" xlink:href=\"#DejaVuSans-6e\"/>\n",
       "      </g>\n",
       "     </g>\n",
       "    </g>\n",
       "    <g id=\"ytick_27\">\n",
       "     <g id=\"line2d_65\">\n",
       "      <path clip-path=\"url(#p195c6b320d)\" d=\"M 80.318438 50.533764 \n",
       "L 415.118438 50.533764 \n",
       "\" style=\"fill:none;stroke:#ffffff;stroke-linecap:square;stroke-width:0.8;\"/>\n",
       "     </g>\n",
       "     <g id=\"line2d_66\">\n",
       "      <g>\n",
       "       <use style=\"fill:#555555;stroke:#555555;stroke-width:0.8;\" x=\"80.318438\" xlink:href=\"#m9be631b9a0\" y=\"50.533764\"/>\n",
       "      </g>\n",
       "     </g>\n",
       "     <g id=\"text_33\">\n",
       "      <!-- Christian -->\n",
       "      <g style=\"fill:#555555;\" transform=\"translate(28.735625 54.332983)scale(0.1 -0.1)\">\n",
       "       <use xlink:href=\"#DejaVuSans-43\"/>\n",
       "       <use x=\"69.824219\" xlink:href=\"#DejaVuSans-68\"/>\n",
       "       <use x=\"133.203125\" xlink:href=\"#DejaVuSans-72\"/>\n",
       "       <use x=\"174.316406\" xlink:href=\"#DejaVuSans-69\"/>\n",
       "       <use x=\"202.099609\" xlink:href=\"#DejaVuSans-73\"/>\n",
       "       <use x=\"254.199219\" xlink:href=\"#DejaVuSans-74\"/>\n",
       "       <use x=\"293.408203\" xlink:href=\"#DejaVuSans-69\"/>\n",
       "       <use x=\"321.191406\" xlink:href=\"#DejaVuSans-61\"/>\n",
       "       <use x=\"382.470703\" xlink:href=\"#DejaVuSans-6e\"/>\n",
       "      </g>\n",
       "     </g>\n",
       "    </g>\n",
       "    <g id=\"ytick_28\">\n",
       "     <g id=\"line2d_67\">\n",
       "      <path clip-path=\"url(#p195c6b320d)\" d=\"M 80.318438 43.944673 \n",
       "L 415.118438 43.944673 \n",
       "\" style=\"fill:none;stroke:#ffffff;stroke-linecap:square;stroke-width:0.8;\"/>\n",
       "     </g>\n",
       "     <g id=\"line2d_68\">\n",
       "      <g>\n",
       "       <use style=\"fill:#555555;stroke:#555555;stroke-width:0.8;\" x=\"80.318438\" xlink:href=\"#m9be631b9a0\" y=\"43.944673\"/>\n",
       "      </g>\n",
       "     </g>\n",
       "     <g id=\"text_34\">\n",
       "      <!-- Ryan -->\n",
       "      <g style=\"fill:#555555;\" transform=\"translate(48.535625 47.743892)scale(0.1 -0.1)\">\n",
       "       <use xlink:href=\"#DejaVuSans-52\"/>\n",
       "       <use x=\"63.982422\" xlink:href=\"#DejaVuSans-79\"/>\n",
       "       <use x=\"123.162109\" xlink:href=\"#DejaVuSans-61\"/>\n",
       "       <use x=\"184.441406\" xlink:href=\"#DejaVuSans-6e\"/>\n",
       "      </g>\n",
       "     </g>\n",
       "    </g>\n",
       "    <g id=\"ytick_29\">\n",
       "     <g id=\"line2d_69\">\n",
       "      <path clip-path=\"url(#p195c6b320d)\" d=\"M 80.318438 37.355582 \n",
       "L 415.118438 37.355582 \n",
       "\" style=\"fill:none;stroke:#ffffff;stroke-linecap:square;stroke-width:0.8;\"/>\n",
       "     </g>\n",
       "     <g id=\"line2d_70\">\n",
       "      <g>\n",
       "       <use style=\"fill:#555555;stroke:#555555;stroke-width:0.8;\" x=\"80.318438\" xlink:href=\"#m9be631b9a0\" y=\"37.355582\"/>\n",
       "      </g>\n",
       "     </g>\n",
       "     <g id=\"text_35\">\n",
       "      <!-- Samuel -->\n",
       "      <g style=\"fill:#555555;\" transform=\"translate(35.8325 41.154801)scale(0.1 -0.1)\">\n",
       "       <use xlink:href=\"#DejaVuSans-53\"/>\n",
       "       <use x=\"63.476562\" xlink:href=\"#DejaVuSans-61\"/>\n",
       "       <use x=\"124.755859\" xlink:href=\"#DejaVuSans-6d\"/>\n",
       "       <use x=\"222.167969\" xlink:href=\"#DejaVuSans-75\"/>\n",
       "       <use x=\"285.546875\" xlink:href=\"#DejaVuSans-65\"/>\n",
       "       <use x=\"347.070312\" xlink:href=\"#DejaVuSans-6c\"/>\n",
       "      </g>\n",
       "     </g>\n",
       "    </g>\n",
       "    <g id=\"ytick_30\">\n",
       "     <g id=\"line2d_71\">\n",
       "      <path clip-path=\"url(#p195c6b320d)\" d=\"M 80.318438 30.766491 \n",
       "L 415.118438 30.766491 \n",
       "\" style=\"fill:none;stroke:#ffffff;stroke-linecap:square;stroke-width:0.8;\"/>\n",
       "     </g>\n",
       "     <g id=\"line2d_72\">\n",
       "      <g>\n",
       "       <use style=\"fill:#555555;stroke:#555555;stroke-width:0.8;\" x=\"80.318438\" xlink:href=\"#m9be631b9a0\" y=\"30.766491\"/>\n",
       "      </g>\n",
       "     </g>\n",
       "     <g id=\"text_36\">\n",
       "      <!-- Andrew -->\n",
       "      <g style=\"fill:#555555;\" transform=\"translate(35.574688 34.56571)scale(0.1 -0.1)\">\n",
       "       <use xlink:href=\"#DejaVuSans-41\"/>\n",
       "       <use x=\"68.408203\" xlink:href=\"#DejaVuSans-6e\"/>\n",
       "       <use x=\"131.787109\" xlink:href=\"#DejaVuSans-64\"/>\n",
       "       <use x=\"195.263672\" xlink:href=\"#DejaVuSans-72\"/>\n",
       "       <use x=\"234.126953\" xlink:href=\"#DejaVuSans-65\"/>\n",
       "       <use x=\"295.650391\" xlink:href=\"#DejaVuSans-77\"/>\n",
       "      </g>\n",
       "     </g>\n",
       "    </g>\n",
       "    <g id=\"ytick_31\">\n",
       "     <g id=\"line2d_73\">\n",
       "      <path clip-path=\"url(#p195c6b320d)\" d=\"M 80.318438 24.177401 \n",
       "L 415.118438 24.177401 \n",
       "\" style=\"fill:none;stroke:#ffffff;stroke-linecap:square;stroke-width:0.8;\"/>\n",
       "     </g>\n",
       "     <g id=\"line2d_74\">\n",
       "      <g>\n",
       "       <use style=\"fill:#555555;stroke:#555555;stroke-width:0.8;\" x=\"80.318438\" xlink:href=\"#m9be631b9a0\" y=\"24.177401\"/>\n",
       "      </g>\n",
       "     </g>\n",
       "     <g id=\"text_37\">\n",
       "      <!-- Jason -->\n",
       "      <g style=\"fill:#555555;\" transform=\"translate(46.574687 27.976619)scale(0.1 -0.1)\">\n",
       "       <use xlink:href=\"#DejaVuSans-4a\"/>\n",
       "       <use x=\"29.492188\" xlink:href=\"#DejaVuSans-61\"/>\n",
       "       <use x=\"90.771484\" xlink:href=\"#DejaVuSans-73\"/>\n",
       "       <use x=\"142.871094\" xlink:href=\"#DejaVuSans-6f\"/>\n",
       "       <use x=\"204.052734\" xlink:href=\"#DejaVuSans-6e\"/>\n",
       "      </g>\n",
       "     </g>\n",
       "    </g>\n",
       "    <g id=\"ytick_32\">\n",
       "     <g id=\"line2d_75\">\n",
       "      <path clip-path=\"url(#p195c6b320d)\" d=\"M 80.318438 17.58831 \n",
       "L 415.118438 17.58831 \n",
       "\" style=\"fill:none;stroke:#ffffff;stroke-linecap:square;stroke-width:0.8;\"/>\n",
       "     </g>\n",
       "     <g id=\"line2d_76\">\n",
       "      <g>\n",
       "       <use style=\"fill:#555555;stroke:#555555;stroke-width:0.8;\" x=\"80.318438\" xlink:href=\"#m9be631b9a0\" y=\"17.58831\"/>\n",
       "      </g>\n",
       "     </g>\n",
       "     <g id=\"text_38\">\n",
       "      <!-- Steven -->\n",
       "      <g style=\"fill:#555555;\" transform=\"translate(38.487187 21.387528)scale(0.1 -0.1)\">\n",
       "       <use xlink:href=\"#DejaVuSans-53\"/>\n",
       "       <use x=\"63.476562\" xlink:href=\"#DejaVuSans-74\"/>\n",
       "       <use x=\"102.685547\" xlink:href=\"#DejaVuSans-65\"/>\n",
       "       <use x=\"164.208984\" xlink:href=\"#DejaVuSans-76\"/>\n",
       "       <use x=\"223.388672\" xlink:href=\"#DejaVuSans-65\"/>\n",
       "       <use x=\"284.912109\" xlink:href=\"#DejaVuSans-6e\"/>\n",
       "      </g>\n",
       "     </g>\n",
       "    </g>\n",
       "    <g id=\"ytick_33\">\n",
       "     <g id=\"line2d_77\">\n",
       "      <path clip-path=\"url(#p195c6b320d)\" d=\"M 80.318438 10.999219 \n",
       "L 415.118438 10.999219 \n",
       "\" style=\"fill:none;stroke:#ffffff;stroke-linecap:square;stroke-width:0.8;\"/>\n",
       "     </g>\n",
       "     <g id=\"line2d_78\">\n",
       "      <g>\n",
       "       <use style=\"fill:#555555;stroke:#555555;stroke-width:0.8;\" x=\"80.318438\" xlink:href=\"#m9be631b9a0\" y=\"10.999219\"/>\n",
       "      </g>\n",
       "     </g>\n",
       "     <g id=\"text_39\">\n",
       "      <!-- Ethan -->\n",
       "      <g style=\"fill:#555555;\" transform=\"translate(44.27625 14.798437)scale(0.1 -0.1)\">\n",
       "       <use xlink:href=\"#DejaVuSans-45\"/>\n",
       "       <use x=\"63.183594\" xlink:href=\"#DejaVuSans-74\"/>\n",
       "       <use x=\"102.392578\" xlink:href=\"#DejaVuSans-68\"/>\n",
       "       <use x=\"165.771484\" xlink:href=\"#DejaVuSans-61\"/>\n",
       "       <use x=\"227.050781\" xlink:href=\"#DejaVuSans-6e\"/>\n",
       "      </g>\n",
       "     </g>\n",
       "    </g>\n",
       "    <g id=\"text_40\">\n",
       "     <!-- first -->\n",
       "     <g style=\"fill:#555555;\" transform=\"translate(16.318125 128.148111)rotate(-90)scale(0.12 -0.12)\">\n",
       "      <defs>\n",
       "       <path d=\"M 2375 4863 \n",
       "L 2375 4384 \n",
       "L 1825 4384 \n",
       "Q 1516 4384 1395 4259 \n",
       "Q 1275 4134 1275 3809 \n",
       "L 1275 3500 \n",
       "L 2222 3500 \n",
       "L 2222 3053 \n",
       "L 1275 3053 \n",
       "L 1275 0 \n",
       "L 697 0 \n",
       "L 697 3053 \n",
       "L 147 3053 \n",
       "L 147 3500 \n",
       "L 697 3500 \n",
       "L 697 3744 \n",
       "Q 697 4328 969 4595 \n",
       "Q 1241 4863 1831 4863 \n",
       "L 2375 4863 \n",
       "z\n",
       "\" id=\"DejaVuSans-66\" transform=\"scale(0.015625)\"/>\n",
       "      </defs>\n",
       "      <use xlink:href=\"#DejaVuSans-66\"/>\n",
       "      <use x=\"35.205078\" xlink:href=\"#DejaVuSans-69\"/>\n",
       "      <use x=\"62.988281\" xlink:href=\"#DejaVuSans-72\"/>\n",
       "      <use x=\"104.101562\" xlink:href=\"#DejaVuSans-73\"/>\n",
       "      <use x=\"156.201172\" xlink:href=\"#DejaVuSans-74\"/>\n",
       "     </g>\n",
       "    </g>\n",
       "   </g>\n",
       "   <g id=\"patch_3\">\n",
       "    <path clip-path=\"url(#p195c6b320d)\" d=\"M 80.318438 223.497401 \n",
       "L 207.861295 223.497401 \n",
       "L 207.861295 220.202855 \n",
       "L 80.318438 220.202855 \n",
       "z\n",
       "\" style=\"fill:#e24a33;\"/>\n",
       "   </g>\n",
       "   <g id=\"patch_4\">\n",
       "    <path clip-path=\"url(#p195c6b320d)\" d=\"M 80.318438 216.90831 \n",
       "L 207.861295 216.90831 \n",
       "L 207.861295 213.613764 \n",
       "L 80.318438 213.613764 \n",
       "z\n",
       "\" style=\"fill:#e24a33;\"/>\n",
       "   </g>\n",
       "   <g id=\"patch_5\">\n",
       "    <path clip-path=\"url(#p195c6b320d)\" d=\"M 80.318438 210.319219 \n",
       "L 207.861295 210.319219 \n",
       "L 207.861295 207.024673 \n",
       "L 80.318438 207.024673 \n",
       "z\n",
       "\" style=\"fill:#e24a33;\"/>\n",
       "   </g>\n",
       "   <g id=\"patch_6\">\n",
       "    <path clip-path=\"url(#p195c6b320d)\" d=\"M 80.318438 203.730128 \n",
       "L 207.861295 203.730128 \n",
       "L 207.861295 200.435582 \n",
       "L 80.318438 200.435582 \n",
       "z\n",
       "\" style=\"fill:#e24a33;\"/>\n",
       "   </g>\n",
       "   <g id=\"patch_7\">\n",
       "    <path clip-path=\"url(#p195c6b320d)\" d=\"M 80.318438 197.141037 \n",
       "L 207.861295 197.141037 \n",
       "L 207.861295 193.846491 \n",
       "L 80.318438 193.846491 \n",
       "z\n",
       "\" style=\"fill:#e24a33;\"/>\n",
       "   </g>\n",
       "   <g id=\"patch_8\">\n",
       "    <path clip-path=\"url(#p195c6b320d)\" d=\"M 80.318438 190.551946 \n",
       "L 207.861295 190.551946 \n",
       "L 207.861295 187.257401 \n",
       "L 80.318438 187.257401 \n",
       "z\n",
       "\" style=\"fill:#e24a33;\"/>\n",
       "   </g>\n",
       "   <g id=\"patch_9\">\n",
       "    <path clip-path=\"url(#p195c6b320d)\" d=\"M 80.318438 183.962855 \n",
       "L 207.861295 183.962855 \n",
       "L 207.861295 180.66831 \n",
       "L 80.318438 180.66831 \n",
       "z\n",
       "\" style=\"fill:#e24a33;\"/>\n",
       "   </g>\n",
       "   <g id=\"patch_10\">\n",
       "    <path clip-path=\"url(#p195c6b320d)\" d=\"M 80.318438 177.373764 \n",
       "L 207.861295 177.373764 \n",
       "L 207.861295 174.079219 \n",
       "L 80.318438 174.079219 \n",
       "z\n",
       "\" style=\"fill:#e24a33;\"/>\n",
       "   </g>\n",
       "   <g id=\"patch_11\">\n",
       "    <path clip-path=\"url(#p195c6b320d)\" d=\"M 80.318438 170.784673 \n",
       "L 207.861295 170.784673 \n",
       "L 207.861295 167.490128 \n",
       "L 80.318438 167.490128 \n",
       "z\n",
       "\" style=\"fill:#e24a33;\"/>\n",
       "   </g>\n",
       "   <g id=\"patch_12\">\n",
       "    <path clip-path=\"url(#p195c6b320d)\" d=\"M 80.318438 164.195582 \n",
       "L 207.861295 164.195582 \n",
       "L 207.861295 160.901037 \n",
       "L 80.318438 160.901037 \n",
       "z\n",
       "\" style=\"fill:#e24a33;\"/>\n",
       "   </g>\n",
       "   <g id=\"patch_13\">\n",
       "    <path clip-path=\"url(#p195c6b320d)\" d=\"M 80.318438 157.606491 \n",
       "L 207.861295 157.606491 \n",
       "L 207.861295 154.311946 \n",
       "L 80.318438 154.311946 \n",
       "z\n",
       "\" style=\"fill:#e24a33;\"/>\n",
       "   </g>\n",
       "   <g id=\"patch_14\">\n",
       "    <path clip-path=\"url(#p195c6b320d)\" d=\"M 80.318438 151.017401 \n",
       "L 207.861295 151.017401 \n",
       "L 207.861295 147.722855 \n",
       "L 80.318438 147.722855 \n",
       "z\n",
       "\" style=\"fill:#e24a33;\"/>\n",
       "   </g>\n",
       "   <g id=\"patch_15\">\n",
       "    <path clip-path=\"url(#p195c6b320d)\" d=\"M 80.318438 144.42831 \n",
       "L 207.861295 144.42831 \n",
       "L 207.861295 141.133764 \n",
       "L 80.318438 141.133764 \n",
       "z\n",
       "\" style=\"fill:#e24a33;\"/>\n",
       "   </g>\n",
       "   <g id=\"patch_16\">\n",
       "    <path clip-path=\"url(#p195c6b320d)\" d=\"M 80.318438 137.839219 \n",
       "L 207.861295 137.839219 \n",
       "L 207.861295 134.544673 \n",
       "L 80.318438 134.544673 \n",
       "z\n",
       "\" style=\"fill:#e24a33;\"/>\n",
       "   </g>\n",
       "   <g id=\"patch_17\">\n",
       "    <path clip-path=\"url(#p195c6b320d)\" d=\"M 80.318438 131.250128 \n",
       "L 207.861295 131.250128 \n",
       "L 207.861295 127.955582 \n",
       "L 80.318438 127.955582 \n",
       "z\n",
       "\" style=\"fill:#e24a33;\"/>\n",
       "   </g>\n",
       "   <g id=\"patch_18\">\n",
       "    <path clip-path=\"url(#p195c6b320d)\" d=\"M 80.318438 124.661037 \n",
       "L 207.861295 124.661037 \n",
       "L 207.861295 121.366491 \n",
       "L 80.318438 121.366491 \n",
       "z\n",
       "\" style=\"fill:#e24a33;\"/>\n",
       "   </g>\n",
       "   <g id=\"patch_19\">\n",
       "    <path clip-path=\"url(#p195c6b320d)\" d=\"M 80.318438 118.071946 \n",
       "L 207.861295 118.071946 \n",
       "L 207.861295 114.777401 \n",
       "L 80.318438 114.777401 \n",
       "z\n",
       "\" style=\"fill:#e24a33;\"/>\n",
       "   </g>\n",
       "   <g id=\"patch_20\">\n",
       "    <path clip-path=\"url(#p195c6b320d)\" d=\"M 80.318438 111.482855 \n",
       "L 207.861295 111.482855 \n",
       "L 207.861295 108.18831 \n",
       "L 80.318438 108.18831 \n",
       "z\n",
       "\" style=\"fill:#e24a33;\"/>\n",
       "   </g>\n",
       "   <g id=\"patch_21\">\n",
       "    <path clip-path=\"url(#p195c6b320d)\" d=\"M 80.318438 104.893764 \n",
       "L 207.861295 104.893764 \n",
       "L 207.861295 101.599219 \n",
       "L 80.318438 101.599219 \n",
       "z\n",
       "\" style=\"fill:#e24a33;\"/>\n",
       "   </g>\n",
       "   <g id=\"patch_22\">\n",
       "    <path clip-path=\"url(#p195c6b320d)\" d=\"M 80.318438 98.304673 \n",
       "L 207.861295 98.304673 \n",
       "L 207.861295 95.010128 \n",
       "L 80.318438 95.010128 \n",
       "z\n",
       "\" style=\"fill:#e24a33;\"/>\n",
       "   </g>\n",
       "   <g id=\"patch_23\">\n",
       "    <path clip-path=\"url(#p195c6b320d)\" d=\"M 80.318438 91.715582 \n",
       "L 207.861295 91.715582 \n",
       "L 207.861295 88.421037 \n",
       "L 80.318438 88.421037 \n",
       "z\n",
       "\" style=\"fill:#e24a33;\"/>\n",
       "   </g>\n",
       "   <g id=\"patch_24\">\n",
       "    <path clip-path=\"url(#p195c6b320d)\" d=\"M 80.318438 85.126491 \n",
       "L 207.861295 85.126491 \n",
       "L 207.861295 81.831946 \n",
       "L 80.318438 81.831946 \n",
       "z\n",
       "\" style=\"fill:#e24a33;\"/>\n",
       "   </g>\n",
       "   <g id=\"patch_25\">\n",
       "    <path clip-path=\"url(#p195c6b320d)\" d=\"M 80.318438 78.537401 \n",
       "L 207.861295 78.537401 \n",
       "L 207.861295 75.242855 \n",
       "L 80.318438 75.242855 \n",
       "z\n",
       "\" style=\"fill:#e24a33;\"/>\n",
       "   </g>\n",
       "   <g id=\"patch_26\">\n",
       "    <path clip-path=\"url(#p195c6b320d)\" d=\"M 80.318438 71.94831 \n",
       "L 271.632723 71.94831 \n",
       "L 271.632723 68.653764 \n",
       "L 80.318438 68.653764 \n",
       "z\n",
       "\" style=\"fill:#e24a33;\"/>\n",
       "   </g>\n",
       "   <g id=\"patch_27\">\n",
       "    <path clip-path=\"url(#p195c6b320d)\" d=\"M 80.318438 65.359219 \n",
       "L 271.632723 65.359219 \n",
       "L 271.632723 62.064673 \n",
       "L 80.318438 62.064673 \n",
       "z\n",
       "\" style=\"fill:#e24a33;\"/>\n",
       "   </g>\n",
       "   <g id=\"patch_28\">\n",
       "    <path clip-path=\"url(#p195c6b320d)\" d=\"M 80.318438 58.770128 \n",
       "L 271.632723 58.770128 \n",
       "L 271.632723 55.475582 \n",
       "L 80.318438 55.475582 \n",
       "z\n",
       "\" style=\"fill:#e24a33;\"/>\n",
       "   </g>\n",
       "   <g id=\"patch_29\">\n",
       "    <path clip-path=\"url(#p195c6b320d)\" d=\"M 80.318438 52.181037 \n",
       "L 271.632723 52.181037 \n",
       "L 271.632723 48.886491 \n",
       "L 80.318438 48.886491 \n",
       "z\n",
       "\" style=\"fill:#e24a33;\"/>\n",
       "   </g>\n",
       "   <g id=\"patch_30\">\n",
       "    <path clip-path=\"url(#p195c6b320d)\" d=\"M 80.318438 45.591946 \n",
       "L 335.404152 45.591946 \n",
       "L 335.404152 42.297401 \n",
       "L 80.318438 42.297401 \n",
       "z\n",
       "\" style=\"fill:#e24a33;\"/>\n",
       "   </g>\n",
       "   <g id=\"patch_31\">\n",
       "    <path clip-path=\"url(#p195c6b320d)\" d=\"M 80.318438 39.002855 \n",
       "L 335.404152 39.002855 \n",
       "L 335.404152 35.70831 \n",
       "L 80.318438 35.70831 \n",
       "z\n",
       "\" style=\"fill:#e24a33;\"/>\n",
       "   </g>\n",
       "   <g id=\"patch_32\">\n",
       "    <path clip-path=\"url(#p195c6b320d)\" d=\"M 80.318438 32.413764 \n",
       "L 335.404152 32.413764 \n",
       "L 335.404152 29.119219 \n",
       "L 80.318438 29.119219 \n",
       "z\n",
       "\" style=\"fill:#e24a33;\"/>\n",
       "   </g>\n",
       "   <g id=\"patch_33\">\n",
       "    <path clip-path=\"url(#p195c6b320d)\" d=\"M 80.318438 25.824673 \n",
       "L 335.404152 25.824673 \n",
       "L 335.404152 22.530128 \n",
       "L 80.318438 22.530128 \n",
       "z\n",
       "\" style=\"fill:#e24a33;\"/>\n",
       "   </g>\n",
       "   <g id=\"patch_34\">\n",
       "    <path clip-path=\"url(#p195c6b320d)\" d=\"M 80.318438 19.235582 \n",
       "L 335.404152 19.235582 \n",
       "L 335.404152 15.941037 \n",
       "L 80.318438 15.941037 \n",
       "z\n",
       "\" style=\"fill:#e24a33;\"/>\n",
       "   </g>\n",
       "   <g id=\"patch_35\">\n",
       "    <path clip-path=\"url(#p195c6b320d)\" d=\"M 80.318438 12.646491 \n",
       "L 399.17558 12.646491 \n",
       "L 399.17558 9.351946 \n",
       "L 80.318438 9.351946 \n",
       "z\n",
       "\" style=\"fill:#e24a33;\"/>\n",
       "   </g>\n",
       "   <g id=\"patch_36\">\n",
       "    <path d=\"M 80.318438 225.144673 \n",
       "L 80.318438 7.704673 \n",
       "\" style=\"fill:none;stroke:#ffffff;stroke-linecap:square;stroke-linejoin:miter;\"/>\n",
       "   </g>\n",
       "   <g id=\"patch_37\">\n",
       "    <path d=\"M 415.118438 225.144673 \n",
       "L 415.118438 7.704673 \n",
       "\" style=\"fill:none;stroke:#ffffff;stroke-linecap:square;stroke-linejoin:miter;\"/>\n",
       "   </g>\n",
       "   <g id=\"patch_38\">\n",
       "    <path d=\"M 80.318438 225.144673 \n",
       "L 415.118438 225.144673 \n",
       "\" style=\"fill:none;stroke:#ffffff;stroke-linecap:square;stroke-linejoin:miter;\"/>\n",
       "   </g>\n",
       "   <g id=\"patch_39\">\n",
       "    <path d=\"M 80.318438 7.704673 \n",
       "L 415.118438 7.704673 \n",
       "\" style=\"fill:none;stroke:#ffffff;stroke-linecap:square;stroke-linejoin:miter;\"/>\n",
       "   </g>\n",
       "   <g id=\"legend_1\">\n",
       "    <g id=\"patch_40\">\n",
       "     <path d=\"M 347.759063 30.382798 \n",
       "L 408.118438 30.382798 \n",
       "Q 410.118438 30.382798 410.118438 28.382798 \n",
       "L 410.118438 14.704673 \n",
       "Q 410.118438 12.704673 408.118438 12.704673 \n",
       "L 347.759063 12.704673 \n",
       "Q 345.759063 12.704673 345.759063 14.704673 \n",
       "L 345.759063 28.382798 \n",
       "Q 345.759063 30.382798 347.759063 30.382798 \n",
       "z\n",
       "\" style=\"fill:#e5e5e5;opacity:0.8;stroke:#cccccc;stroke-linejoin:miter;stroke-width:0.5;\"/>\n",
       "    </g>\n",
       "    <g id=\"patch_41\">\n",
       "     <path d=\"M 349.759063 24.303111 \n",
       "L 369.759063 24.303111 \n",
       "L 369.759063 17.303111 \n",
       "L 349.759063 17.303111 \n",
       "z\n",
       "\" style=\"fill:#e24a33;\"/>\n",
       "    </g>\n",
       "    <g id=\"text_41\">\n",
       "     <!-- name -->\n",
       "     <g transform=\"translate(377.759063 24.303111)scale(0.1 -0.1)\">\n",
       "      <use xlink:href=\"#DejaVuSans-6e\"/>\n",
       "      <use x=\"63.378906\" xlink:href=\"#DejaVuSans-61\"/>\n",
       "      <use x=\"124.658203\" xlink:href=\"#DejaVuSans-6d\"/>\n",
       "      <use x=\"222.070312\" xlink:href=\"#DejaVuSans-65\"/>\n",
       "     </g>\n",
       "    </g>\n",
       "   </g>\n",
       "  </g>\n",
       " </g>\n",
       " <defs>\n",
       "  <clipPath id=\"p195c6b320d\">\n",
       "   <rect height=\"217.44\" width=\"334.8\" x=\"80.318438\" y=\"7.704673\"/>\n",
       "  </clipPath>\n",
       " </defs>\n",
       "</svg>\n"
      ],
      "text/plain": [
       "<Figure size 432x288 with 1 Axes>"
      ]
     },
     "metadata": {},
     "output_type": "display_data"
    }
   ],
   "source": [
    "first_counts[first_counts.get('name') > 1].sort_values(by = 'name').plot(kind = 'barh')\n",
    "first_counts[first_counts.get('name') > 1].get('name').sum() / first_counts.get('name').sum()"
   ]
  },
  {
   "cell_type": "markdown",
   "metadata": {
    "slideshow": {
     "slide_type": "slide"
    }
   },
   "source": [
    "### Note: `.apply` works with built-in functions, too!\n",
    "\n",
    "For instance, to find the length of each name, we might use the `len` function:"
   ]
  },
  {
   "cell_type": "code",
   "execution_count": 71,
   "metadata": {},
   "outputs": [
    {
     "data": {
      "text/html": [
       "<div>\n",
       "<style scoped>\n",
       "    .dataframe tbody tr th:only-of-type {\n",
       "        vertical-align: middle;\n",
       "    }\n",
       "\n",
       "    .dataframe tbody tr th {\n",
       "        vertical-align: top;\n",
       "    }\n",
       "\n",
       "    .dataframe thead th {\n",
       "        text-align: right;\n",
       "    }\n",
       "</style>\n",
       "<table border=\"1\" class=\"dataframe\">\n",
       "  <thead>\n",
       "    <tr style=\"text-align: right;\">\n",
       "      <th></th>\n",
       "      <th>name</th>\n",
       "      <th>section</th>\n",
       "      <th>first</th>\n",
       "    </tr>\n",
       "  </thead>\n",
       "  <tbody>\n",
       "    <tr>\n",
       "      <th>0</th>\n",
       "      <td>Levy Dmxsqj</td>\n",
       "      <td>11AM</td>\n",
       "      <td>Levy</td>\n",
       "    </tr>\n",
       "    <tr>\n",
       "      <th>1</th>\n",
       "      <td>Aiden Nyozzx</td>\n",
       "      <td>1PM</td>\n",
       "      <td>Aiden</td>\n",
       "    </tr>\n",
       "    <tr>\n",
       "      <th>2</th>\n",
       "      <td>Sruti Fivolq</td>\n",
       "      <td>12PM</td>\n",
       "      <td>Sruti</td>\n",
       "    </tr>\n",
       "    <tr>\n",
       "      <th>...</th>\n",
       "      <td>...</td>\n",
       "      <td>...</td>\n",
       "      <td>...</td>\n",
       "    </tr>\n",
       "    <tr>\n",
       "      <th>408</th>\n",
       "      <td>Leni Hlfjhh</td>\n",
       "      <td>11AM</td>\n",
       "      <td>Leni</td>\n",
       "    </tr>\n",
       "    <tr>\n",
       "      <th>409</th>\n",
       "      <td>Dory Xaghsk</td>\n",
       "      <td>1PM</td>\n",
       "      <td>Dory</td>\n",
       "    </tr>\n",
       "    <tr>\n",
       "      <th>410</th>\n",
       "      <td>Laura Xfqwzu</td>\n",
       "      <td>11AM</td>\n",
       "      <td>Laura</td>\n",
       "    </tr>\n",
       "  </tbody>\n",
       "</table>\n",
       "<p>411 rows × 3 columns</p>\n",
       "</div>"
      ],
      "text/plain": [
       "             name section  first\n",
       "0     Levy Dmxsqj    11AM   Levy\n",
       "1    Aiden Nyozzx     1PM  Aiden\n",
       "2    Sruti Fivolq    12PM  Sruti\n",
       "..            ...     ...    ...\n",
       "408   Leni Hlfjhh    11AM   Leni\n",
       "409   Dory Xaghsk     1PM   Dory\n",
       "410  Laura Xfqwzu    11AM  Laura\n",
       "\n",
       "[411 rows x 3 columns]"
      ]
     },
     "execution_count": 71,
     "metadata": {},
     "output_type": "execute_result"
    }
   ],
   "source": [
    "with_first"
   ]
  },
  {
   "cell_type": "code",
   "execution_count": 72,
   "metadata": {
    "scrolled": false
   },
   "outputs": [
    {
     "data": {
      "text/plain": [
       "0      4\n",
       "1      5\n",
       "2      5\n",
       "      ..\n",
       "408    4\n",
       "409    4\n",
       "410    5\n",
       "Name: first, Length: 411, dtype: int64"
      ]
     },
     "execution_count": 72,
     "metadata": {},
     "output_type": "execute_result"
    }
   ],
   "source": [
    "with_first.get('first').apply(len)"
   ]
  },
  {
   "cell_type": "markdown",
   "metadata": {
    "slideshow": {
     "slide_type": "slide"
    }
   },
   "source": [
    "### Aside: what if names are in the index?\n",
    "\n",
    "We were able to apply `first_name` to the `'name'` column because it's a Series. The `.apply` method doesn't work on the index, because the index is not a Series."
   ]
  },
  {
   "cell_type": "code",
   "execution_count": 73,
   "metadata": {
    "scrolled": true
   },
   "outputs": [
    {
     "data": {
      "text/html": [
       "<div>\n",
       "<style scoped>\n",
       "    .dataframe tbody tr th:only-of-type {\n",
       "        vertical-align: middle;\n",
       "    }\n",
       "\n",
       "    .dataframe tbody tr th {\n",
       "        vertical-align: top;\n",
       "    }\n",
       "\n",
       "    .dataframe thead th {\n",
       "        text-align: right;\n",
       "    }\n",
       "</style>\n",
       "<table border=\"1\" class=\"dataframe\">\n",
       "  <thead>\n",
       "    <tr style=\"text-align: right;\">\n",
       "      <th></th>\n",
       "      <th>section</th>\n",
       "    </tr>\n",
       "    <tr>\n",
       "      <th>name</th>\n",
       "      <th></th>\n",
       "    </tr>\n",
       "  </thead>\n",
       "  <tbody>\n",
       "    <tr>\n",
       "      <th>Levy Dmxsqj</th>\n",
       "      <td>11AM</td>\n",
       "    </tr>\n",
       "    <tr>\n",
       "      <th>Aiden Nyozzx</th>\n",
       "      <td>1PM</td>\n",
       "    </tr>\n",
       "    <tr>\n",
       "      <th>Sruti Fivolq</th>\n",
       "      <td>12PM</td>\n",
       "    </tr>\n",
       "    <tr>\n",
       "      <th>...</th>\n",
       "      <td>...</td>\n",
       "    </tr>\n",
       "    <tr>\n",
       "      <th>Leni Hlfjhh</th>\n",
       "      <td>11AM</td>\n",
       "    </tr>\n",
       "    <tr>\n",
       "      <th>Dory Xaghsk</th>\n",
       "      <td>1PM</td>\n",
       "    </tr>\n",
       "    <tr>\n",
       "      <th>Laura Xfqwzu</th>\n",
       "      <td>11AM</td>\n",
       "    </tr>\n",
       "  </tbody>\n",
       "</table>\n",
       "<p>411 rows × 1 columns</p>\n",
       "</div>"
      ],
      "text/plain": [
       "             section\n",
       "name                \n",
       "Levy Dmxsqj     11AM\n",
       "Aiden Nyozzx     1PM\n",
       "Sruti Fivolq    12PM\n",
       "...              ...\n",
       "Leni Hlfjhh     11AM\n",
       "Dory Xaghsk      1PM\n",
       "Laura Xfqwzu    11AM\n",
       "\n",
       "[411 rows x 1 columns]"
      ]
     },
     "execution_count": 73,
     "metadata": {},
     "output_type": "execute_result"
    }
   ],
   "source": [
    "indexed_by_name = roster.set_index('name')\n",
    "indexed_by_name"
   ]
  },
  {
   "cell_type": "code",
   "execution_count": 74,
   "metadata": {},
   "outputs": [
    {
     "ename": "AttributeError",
     "evalue": "'Index' object has no attribute 'apply'",
     "output_type": "error",
     "traceback": [
      "\u001b[0;31m---------------------------------------------------------------------------\u001b[0m",
      "\u001b[0;31mAttributeError\u001b[0m                            Traceback (most recent call last)",
      "\u001b[0;32m/tmp/ipykernel_193/1621495788.py\u001b[0m in \u001b[0;36m<module>\u001b[0;34m\u001b[0m\n\u001b[0;32m----> 1\u001b[0;31m \u001b[0mindexed_by_name\u001b[0m\u001b[0;34m.\u001b[0m\u001b[0mindex\u001b[0m\u001b[0;34m.\u001b[0m\u001b[0mapply\u001b[0m\u001b[0;34m(\u001b[0m\u001b[0mfirst_name\u001b[0m\u001b[0;34m)\u001b[0m\u001b[0;34m\u001b[0m\u001b[0;34m\u001b[0m\u001b[0m\n\u001b[0m",
      "\u001b[0;31mAttributeError\u001b[0m: 'Index' object has no attribute 'apply'"
     ]
    }
   ],
   "source": [
    "indexed_by_name.index.apply(first_name)"
   ]
  },
  {
   "cell_type": "markdown",
   "metadata": {
    "slideshow": {
     "slide_type": "slide"
    }
   },
   "source": [
    "### Solution: `.reset_index()`\n",
    "\n",
    "Use `.reset_index()` to turn the index of a DataFrame into a column, and to reset the index back to the default of 0, 1, 2, 3, and so on."
   ]
  },
  {
   "cell_type": "code",
   "execution_count": null,
   "metadata": {},
   "outputs": [],
   "source": [
    "indexed_by_name.reset_index()"
   ]
  },
  {
   "cell_type": "code",
   "execution_count": null,
   "metadata": {},
   "outputs": [],
   "source": [
    "indexed_by_name.reset_index().get('name').apply(first_name)"
   ]
  },
  {
   "cell_type": "markdown",
   "metadata": {
    "slideshow": {
     "slide_type": "slide"
    }
   },
   "source": [
    "### Example: Shared first names and sections\n",
    "\n",
    "- Suppose you're one of the $\\approx$20\\% of students in DSC 10 who has a first name that is shared with at least one other student.\n",
    "- Let's try and determine whether someone **in your lecture section** shares the same first name as you."
   ]
  },
  {
   "cell_type": "code",
   "execution_count": null,
   "metadata": {
    "scrolled": false
   },
   "outputs": [],
   "source": [
    "with_first"
   ]
  },
  {
   "cell_type": "markdown",
   "metadata": {
    "slideshow": {
     "slide_type": "fragment"
    }
   },
   "source": [
    "For example, maybe `'Ryan Ufhwdl'` wants to see if there's another `'Ryan'` in their section. \n",
    "\n",
    "Strategy:\n",
    "1. What section is `'Ryan Ufhwdl'` in?\n",
    "2. How many people are in that section and named `'Ryan'`?"
   ]
  },
  {
   "cell_type": "code",
   "execution_count": 76,
   "metadata": {},
   "outputs": [
    {
     "data": {
      "text/plain": [
       "'1PM'"
      ]
     },
     "execution_count": 76,
     "metadata": {},
     "output_type": "execute_result"
    }
   ],
   "source": [
    "what_section = with_first[with_first.get('name') == 'Ryan Ufhwdl'].get('section').iloc[0]\n",
    "what_section"
   ]
  },
  {
   "cell_type": "code",
   "execution_count": 81,
   "metadata": {},
   "outputs": [
    {
     "data": {
      "text/plain": [
       "2"
      ]
     },
     "execution_count": 81,
     "metadata": {},
     "output_type": "execute_result"
    }
   ],
   "source": [
    "how_many = with_first[(with_first.get('section') == what_section) & (with_first.get('first') == 'Ryan')].shape[0]\n",
    "how_many"
   ]
  },
  {
   "cell_type": "markdown",
   "metadata": {
    "slideshow": {
     "slide_type": "slide"
    }
   },
   "source": [
    "### Another function: `shared_first_and_section`\n",
    "\n",
    "Let's create a function named `shared_first_and_section`. It will take in the **full name** of a student and return **the number** of students in their section with the same first name and section (including them).\n",
    "\n",
    "*Note*: This is the first function we're writing that involves using a DataFrame within the function – this is fine!"
   ]
  },
  {
   "cell_type": "code",
   "execution_count": 82,
   "metadata": {},
   "outputs": [],
   "source": [
    "def shared_first_and_section(name):\n",
    "    # First, find the row corresponding to that full name in with_first.\n",
    "    # We're assuming that full names are unique.\n",
    "    row = with_first[with_first.get('name') == name]\n",
    "    \n",
    "    # Then, get that student's first name and section.\n",
    "    first = row.get('first').iloc[0]\n",
    "    section = row.get('section').iloc[0]\n",
    "    \n",
    "    # Now, find all the students with the same first name and section.\n",
    "    shared_info = with_first[(with_first.get('first') == first) & (with_first.get('section') == section)]\n",
    "    \n",
    "    # Return the number of such students.\n",
    "    return shared_info.shape[0]"
   ]
  },
  {
   "cell_type": "code",
   "execution_count": 83,
   "metadata": {},
   "outputs": [
    {
     "data": {
      "text/plain": [
       "2"
      ]
     },
     "execution_count": 83,
     "metadata": {},
     "output_type": "execute_result"
    }
   ],
   "source": [
    "shared_first_and_section('Ryan Ufhwdl')"
   ]
  },
  {
   "cell_type": "code",
   "execution_count": 84,
   "metadata": {},
   "outputs": [
    {
     "data": {
      "text/plain": [
       "1"
      ]
     },
     "execution_count": 84,
     "metadata": {},
     "output_type": "execute_result"
    }
   ],
   "source": [
    "shared_first_and_section('Dory Xaghsk')"
   ]
  },
  {
   "cell_type": "markdown",
   "metadata": {},
   "source": [
    "Now, let's add a column to `with_first` that contains the values returned by `shared_first_and_section`."
   ]
  },
  {
   "cell_type": "code",
   "execution_count": 85,
   "metadata": {},
   "outputs": [
    {
     "data": {
      "text/html": [
       "<div>\n",
       "<style scoped>\n",
       "    .dataframe tbody tr th:only-of-type {\n",
       "        vertical-align: middle;\n",
       "    }\n",
       "\n",
       "    .dataframe tbody tr th {\n",
       "        vertical-align: top;\n",
       "    }\n",
       "\n",
       "    .dataframe thead th {\n",
       "        text-align: right;\n",
       "    }\n",
       "</style>\n",
       "<table border=\"1\" class=\"dataframe\">\n",
       "  <thead>\n",
       "    <tr style=\"text-align: right;\">\n",
       "      <th></th>\n",
       "      <th>name</th>\n",
       "      <th>section</th>\n",
       "      <th>first</th>\n",
       "      <th>shared</th>\n",
       "    </tr>\n",
       "  </thead>\n",
       "  <tbody>\n",
       "    <tr>\n",
       "      <th>0</th>\n",
       "      <td>Levy Dmxsqj</td>\n",
       "      <td>11AM</td>\n",
       "      <td>Levy</td>\n",
       "      <td>1</td>\n",
       "    </tr>\n",
       "    <tr>\n",
       "      <th>1</th>\n",
       "      <td>Aiden Nyozzx</td>\n",
       "      <td>1PM</td>\n",
       "      <td>Aiden</td>\n",
       "      <td>1</td>\n",
       "    </tr>\n",
       "    <tr>\n",
       "      <th>2</th>\n",
       "      <td>Sruti Fivolq</td>\n",
       "      <td>12PM</td>\n",
       "      <td>Sruti</td>\n",
       "      <td>1</td>\n",
       "    </tr>\n",
       "    <tr>\n",
       "      <th>...</th>\n",
       "      <td>...</td>\n",
       "      <td>...</td>\n",
       "      <td>...</td>\n",
       "      <td>...</td>\n",
       "    </tr>\n",
       "    <tr>\n",
       "      <th>408</th>\n",
       "      <td>Leni Hlfjhh</td>\n",
       "      <td>11AM</td>\n",
       "      <td>Leni</td>\n",
       "      <td>1</td>\n",
       "    </tr>\n",
       "    <tr>\n",
       "      <th>409</th>\n",
       "      <td>Dory Xaghsk</td>\n",
       "      <td>1PM</td>\n",
       "      <td>Dory</td>\n",
       "      <td>1</td>\n",
       "    </tr>\n",
       "    <tr>\n",
       "      <th>410</th>\n",
       "      <td>Laura Xfqwzu</td>\n",
       "      <td>11AM</td>\n",
       "      <td>Laura</td>\n",
       "      <td>1</td>\n",
       "    </tr>\n",
       "  </tbody>\n",
       "</table>\n",
       "<p>411 rows × 4 columns</p>\n",
       "</div>"
      ],
      "text/plain": [
       "             name section  first  shared\n",
       "0     Levy Dmxsqj    11AM   Levy       1\n",
       "1    Aiden Nyozzx     1PM  Aiden       1\n",
       "2    Sruti Fivolq    12PM  Sruti       1\n",
       "..            ...     ...    ...     ...\n",
       "408   Leni Hlfjhh    11AM   Leni       1\n",
       "409   Dory Xaghsk     1PM   Dory       1\n",
       "410  Laura Xfqwzu    11AM  Laura       1\n",
       "\n",
       "[411 rows x 4 columns]"
      ]
     },
     "execution_count": 85,
     "metadata": {},
     "output_type": "execute_result"
    }
   ],
   "source": [
    "with_first = with_first.assign(shared=with_first.get('name').apply(shared_first_and_section))\n",
    "with_first"
   ]
  },
  {
   "cell_type": "markdown",
   "metadata": {
    "slideshow": {
     "slide_type": "slide"
    }
   },
   "source": [
    "Let's look at all the students who are in a section with someone that has the same first name as them."
   ]
  },
  {
   "cell_type": "code",
   "execution_count": 86,
   "metadata": {
    "scrolled": true
   },
   "outputs": [
    {
     "data": {
      "text/html": [
       "<div>\n",
       "<style scoped>\n",
       "    .dataframe tbody tr th:only-of-type {\n",
       "        vertical-align: middle;\n",
       "    }\n",
       "\n",
       "    .dataframe tbody tr th {\n",
       "        vertical-align: top;\n",
       "    }\n",
       "\n",
       "    .dataframe thead th {\n",
       "        text-align: right;\n",
       "    }\n",
       "</style>\n",
       "<table border=\"1\" class=\"dataframe\">\n",
       "  <thead>\n",
       "    <tr style=\"text-align: right;\">\n",
       "      <th></th>\n",
       "      <th>name</th>\n",
       "      <th>section</th>\n",
       "      <th>first</th>\n",
       "      <th>shared</th>\n",
       "    </tr>\n",
       "  </thead>\n",
       "  <tbody>\n",
       "    <tr>\n",
       "      <th>39</th>\n",
       "      <td>Ethan Dpcred</td>\n",
       "      <td>1PM</td>\n",
       "      <td>Ethan</td>\n",
       "      <td>3</td>\n",
       "    </tr>\n",
       "    <tr>\n",
       "      <th>352</th>\n",
       "      <td>Andrew Aspfmf</td>\n",
       "      <td>10AM</td>\n",
       "      <td>Andrew</td>\n",
       "      <td>3</td>\n",
       "    </tr>\n",
       "    <tr>\n",
       "      <th>80</th>\n",
       "      <td>Samuel Vwwdmu</td>\n",
       "      <td>1PM</td>\n",
       "      <td>Samuel</td>\n",
       "      <td>3</td>\n",
       "    </tr>\n",
       "    <tr>\n",
       "      <th>...</th>\n",
       "      <td>...</td>\n",
       "      <td>...</td>\n",
       "      <td>...</td>\n",
       "      <td>...</td>\n",
       "    </tr>\n",
       "    <tr>\n",
       "      <th>82</th>\n",
       "      <td>Ryan Ufhwdl</td>\n",
       "      <td>1PM</td>\n",
       "      <td>Ryan</td>\n",
       "      <td>2</td>\n",
       "    </tr>\n",
       "    <tr>\n",
       "      <th>40</th>\n",
       "      <td>Justin Plbevg</td>\n",
       "      <td>11AM</td>\n",
       "      <td>Justin</td>\n",
       "      <td>2</td>\n",
       "    </tr>\n",
       "    <tr>\n",
       "      <th>375</th>\n",
       "      <td>Kevin Sgywid</td>\n",
       "      <td>10AM</td>\n",
       "      <td>Kevin</td>\n",
       "      <td>2</td>\n",
       "    </tr>\n",
       "  </tbody>\n",
       "</table>\n",
       "<p>33 rows × 4 columns</p>\n",
       "</div>"
      ],
      "text/plain": [
       "              name section   first  shared\n",
       "39    Ethan Dpcred     1PM   Ethan       3\n",
       "352  Andrew Aspfmf    10AM  Andrew       3\n",
       "80   Samuel Vwwdmu     1PM  Samuel       3\n",
       "..             ...     ...     ...     ...\n",
       "82     Ryan Ufhwdl     1PM    Ryan       2\n",
       "40   Justin Plbevg    11AM  Justin       2\n",
       "375   Kevin Sgywid    10AM   Kevin       2\n",
       "\n",
       "[33 rows x 4 columns]"
      ]
     },
     "execution_count": 86,
     "metadata": {},
     "output_type": "execute_result"
    }
   ],
   "source": [
    "with_first[(with_first.get('shared') > 1)].sort_values('shared', ascending=False)"
   ]
  },
  {
   "cell_type": "markdown",
   "metadata": {
    "slideshow": {
     "slide_type": "fragment"
    }
   },
   "source": [
    "We can narrow this down to a particular lecture section if we'd like."
   ]
  },
  {
   "cell_type": "code",
   "execution_count": 87,
   "metadata": {},
   "outputs": [
    {
     "data": {
      "text/html": [
       "<div>\n",
       "<style scoped>\n",
       "    .dataframe tbody tr th:only-of-type {\n",
       "        vertical-align: middle;\n",
       "    }\n",
       "\n",
       "    .dataframe tbody tr th {\n",
       "        vertical-align: top;\n",
       "    }\n",
       "\n",
       "    .dataframe thead th {\n",
       "        text-align: right;\n",
       "    }\n",
       "</style>\n",
       "<table border=\"1\" class=\"dataframe\">\n",
       "  <thead>\n",
       "    <tr style=\"text-align: right;\">\n",
       "      <th></th>\n",
       "      <th>name</th>\n",
       "      <th>section</th>\n",
       "      <th>first</th>\n",
       "      <th>shared</th>\n",
       "    </tr>\n",
       "  </thead>\n",
       "  <tbody>\n",
       "    <tr>\n",
       "      <th>88</th>\n",
       "      <td>Andrew Qgvdmn</td>\n",
       "      <td>10AM</td>\n",
       "      <td>Andrew</td>\n",
       "      <td>3</td>\n",
       "    </tr>\n",
       "    <tr>\n",
       "      <th>117</th>\n",
       "      <td>Andrew Klhlht</td>\n",
       "      <td>10AM</td>\n",
       "      <td>Andrew</td>\n",
       "      <td>3</td>\n",
       "    </tr>\n",
       "    <tr>\n",
       "      <th>352</th>\n",
       "      <td>Andrew Aspfmf</td>\n",
       "      <td>10AM</td>\n",
       "      <td>Andrew</td>\n",
       "      <td>3</td>\n",
       "    </tr>\n",
       "    <tr>\n",
       "      <th>28</th>\n",
       "      <td>Kevin Wphdws</td>\n",
       "      <td>10AM</td>\n",
       "      <td>Kevin</td>\n",
       "      <td>2</td>\n",
       "    </tr>\n",
       "    <tr>\n",
       "      <th>375</th>\n",
       "      <td>Kevin Sgywid</td>\n",
       "      <td>10AM</td>\n",
       "      <td>Kevin</td>\n",
       "      <td>2</td>\n",
       "    </tr>\n",
       "  </tbody>\n",
       "</table>\n",
       "</div>"
      ],
      "text/plain": [
       "              name section   first  shared\n",
       "88   Andrew Qgvdmn    10AM  Andrew       3\n",
       "117  Andrew Klhlht    10AM  Andrew       3\n",
       "352  Andrew Aspfmf    10AM  Andrew       3\n",
       "28    Kevin Wphdws    10AM   Kevin       2\n",
       "375   Kevin Sgywid    10AM   Kevin       2"
      ]
     },
     "execution_count": 87,
     "metadata": {},
     "output_type": "execute_result"
    }
   ],
   "source": [
    "one_section_only = with_first[(with_first.get('shared') > 1) & \n",
    "                              (with_first.get('section') == '10AM')].sort_values('shared', ascending=False)\n",
    "one_section_only"
   ]
  },
  {
   "cell_type": "code",
   "execution_count": null,
   "metadata": {},
   "outputs": [],
   "source": [
    "one_section_only.get('first').unique()"
   ]
  },
  {
   "cell_type": "markdown",
   "metadata": {
    "slideshow": {
     "slide_type": "slide"
    }
   },
   "source": [
    "### Sneak peek\n",
    "\n",
    "While the DataFrames on the previous slide contain the info we were looking for, they're not organized very conveniently. For instance, there are three rows containing the fact that there are 3 `'Andrew'`s in the 10AM lecture section. \n",
    "\n",
    "Wouldn't it be great if we could create a DataFrame like the one below? We'll see how on Friday!"
   ]
  },
  {
   "cell_type": "markdown",
   "metadata": {
    "slideshow": {
     "slide_type": "-"
    }
   },
   "source": [
    "|    | section   | first   |   count |\n",
    "|---:|:----------|:--------|--------:|\n",
    "|  0 | 10AM      | Andrew  |       3 |\n",
    "|  1 | 1PM       | Ethan   |       3 |\n",
    "|  2 | 1PM       | Samuel  |       3 |\n",
    "|  3 | 10AM      | Kevin   |       2 |\n",
    "|  4 | 11AM      | Connor  |       2 |"
   ]
  },
  {
   "cell_type": "markdown",
   "metadata": {
    "slideshow": {
     "slide_type": "slide"
    }
   },
   "source": [
    "### Activity\n",
    "\n",
    "Find the longest first name in the class that is shared by at least two students in the same section.\n",
    "\n",
    "*Hint*: You'll have to use both `assign` and `apply`."
   ]
  },
  {
   "cell_type": "code",
   "execution_count": 103,
   "metadata": {},
   "outputs": [
    {
     "data": {
      "text/html": [
       "<div>\n",
       "<style scoped>\n",
       "    .dataframe tbody tr th:only-of-type {\n",
       "        vertical-align: middle;\n",
       "    }\n",
       "\n",
       "    .dataframe tbody tr th {\n",
       "        vertical-align: top;\n",
       "    }\n",
       "\n",
       "    .dataframe thead th {\n",
       "        text-align: right;\n",
       "    }\n",
       "</style>\n",
       "<table border=\"1\" class=\"dataframe\">\n",
       "  <thead>\n",
       "    <tr style=\"text-align: right;\">\n",
       "      <th></th>\n",
       "      <th>name</th>\n",
       "      <th>section</th>\n",
       "      <th>first</th>\n",
       "      <th>shared</th>\n",
       "      <th>length</th>\n",
       "    </tr>\n",
       "  </thead>\n",
       "  <tbody>\n",
       "    <tr>\n",
       "      <th>283</th>\n",
       "      <td>Jessica Tfehfu</td>\n",
       "      <td>11AM</td>\n",
       "      <td>Jessica</td>\n",
       "      <td>2</td>\n",
       "      <td>7</td>\n",
       "    </tr>\n",
       "    <tr>\n",
       "      <th>336</th>\n",
       "      <td>Matthew Tsupae</td>\n",
       "      <td>12PM</td>\n",
       "      <td>Matthew</td>\n",
       "      <td>2</td>\n",
       "      <td>7</td>\n",
       "    </tr>\n",
       "    <tr>\n",
       "      <th>222</th>\n",
       "      <td>Matthew Qlbjke</td>\n",
       "      <td>12PM</td>\n",
       "      <td>Matthew</td>\n",
       "      <td>2</td>\n",
       "      <td>7</td>\n",
       "    </tr>\n",
       "    <tr>\n",
       "      <th>...</th>\n",
       "      <td>...</td>\n",
       "      <td>...</td>\n",
       "      <td>...</td>\n",
       "      <td>...</td>\n",
       "      <td>...</td>\n",
       "    </tr>\n",
       "    <tr>\n",
       "      <th>82</th>\n",
       "      <td>Ryan Ufhwdl</td>\n",
       "      <td>1PM</td>\n",
       "      <td>Ryan</td>\n",
       "      <td>2</td>\n",
       "      <td>4</td>\n",
       "    </tr>\n",
       "    <tr>\n",
       "      <th>344</th>\n",
       "      <td>Owen Fhupkt</td>\n",
       "      <td>11AM</td>\n",
       "      <td>Owen</td>\n",
       "      <td>2</td>\n",
       "      <td>4</td>\n",
       "    </tr>\n",
       "    <tr>\n",
       "      <th>239</th>\n",
       "      <td>Owen Eubwym</td>\n",
       "      <td>11AM</td>\n",
       "      <td>Owen</td>\n",
       "      <td>2</td>\n",
       "      <td>4</td>\n",
       "    </tr>\n",
       "  </tbody>\n",
       "</table>\n",
       "<p>33 rows × 5 columns</p>\n",
       "</div>"
      ],
      "text/plain": [
       "               name section    first  shared  length\n",
       "283  Jessica Tfehfu    11AM  Jessica       2       7\n",
       "336  Matthew Tsupae    12PM  Matthew       2       7\n",
       "222  Matthew Qlbjke    12PM  Matthew       2       7\n",
       "..              ...     ...      ...     ...     ...\n",
       "82      Ryan Ufhwdl     1PM     Ryan       2       4\n",
       "344     Owen Fhupkt    11AM     Owen       2       4\n",
       "239     Owen Eubwym    11AM     Owen       2       4\n",
       "\n",
       "[33 rows x 5 columns]"
      ]
     },
     "execution_count": 103,
     "metadata": {},
     "output_type": "execute_result"
    }
   ],
   "source": [
    "lens = with_first[with_first.get('shared') > 1]\n",
    "with_length = with_length.assign(length = lens.get('first').apply(len))\n",
    "with_length.sort_values('length', ascending=False)"
   ]
  },
  {
   "cell_type": "markdown",
   "metadata": {
    "slideshow": {
     "slide_type": "slide"
    }
   },
   "source": [
    "## Summary, next time"
   ]
  },
  {
   "cell_type": "markdown",
   "metadata": {
    "slideshow": {
     "slide_type": "slide"
    }
   },
   "source": [
    "### Summary\n",
    "\n",
    "- Functions are a way to divide our code into small subparts to prevent us from writing repetitive code.\n",
    "- The `.apply` method allows us to call a function on every single element of a Series, which usually comes from `.get`ting a column of a DataFrame."
   ]
  },
  {
   "cell_type": "markdown",
   "metadata": {
    "slideshow": {
     "slide_type": "slide"
    }
   },
   "source": [
    "### Next time\n",
    "\n",
    "More advanced DataFrame manipulations!"
   ]
  }
 ],
 "metadata": {
  "kernelspec": {
   "display_name": "Python 3 (ipykernel)",
   "language": "python",
   "name": "python3"
  },
  "language_info": {
   "codemirror_mode": {
    "name": "ipython",
    "version": 3
   },
   "file_extension": ".py",
   "mimetype": "text/x-python",
   "name": "python",
   "nbconvert_exporter": "python",
   "pygments_lexer": "ipython3",
   "version": "3.9.5"
  },
  "livereveal": {
   "scroll": true,
   "transition": "none"
  },
  "rise": {
   "enable_chalkboard": true
  }
 },
 "nbformat": 4,
 "nbformat_minor": 2
}
